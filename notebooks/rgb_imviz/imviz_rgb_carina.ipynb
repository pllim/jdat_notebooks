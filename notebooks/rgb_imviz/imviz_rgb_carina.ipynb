{
 "cells": [
  {
   "cell_type": "markdown",
   "id": "035a23fd",
   "metadata": {},
   "source": [
    "# RGB images with Imviz\n",
    "\n",
    "**Use case**: create RGB images using Imviz programmatically.<br>\n",
    "**Data**: Carina Nebula, NIRCam observations<br>\n",
    "**Tools**: jdaviz<br>\n",
    "**Cross-intrument**: Any imager<br>\n",
    "**Documentation**: This notebook is part of a STScI's larger [post-pipeline Data Analysis Tools Ecosystem](https://jwst-docs.stsci.edu/jwst-post-pipeline-data-analysis).<br>\n",
    "\n",
    "For additional resources, please review our provided full example notebooks maintained in the Jdaviz repository: https://github.com/spacetelescope/jdaviz/tree/main/notebooks"
   ]
  },
  {
   "cell_type": "markdown",
   "id": "884e8432",
   "metadata": {},
   "source": [
    "Import modules needed for this notebook:"
   ]
  },
  {
   "cell_type": "code",
   "execution_count": 1,
   "id": "8f2d1e37",
   "metadata": {
    "execution": {
     "iopub.execute_input": "2023-10-05T05:21:47.926542Z",
     "iopub.status.busy": "2023-10-05T05:21:47.926358Z",
     "iopub.status.idle": "2023-10-05T05:21:53.410993Z",
     "shell.execute_reply": "2023-10-05T05:21:53.410382Z"
    }
   },
   "outputs": [],
   "source": [
    "import warnings\n",
    "\n",
    "from astroquery.mast import Observations\n",
    "\n",
    "from jdaviz import Imviz"
   ]
  },
  {
   "cell_type": "markdown",
   "id": "aaf960cd",
   "metadata": {},
   "source": [
    "We create an Imviz instance and grab the default viewer instance as well:"
   ]
  },
  {
   "cell_type": "code",
   "execution_count": 2,
   "id": "409eedc4",
   "metadata": {
    "execution": {
     "iopub.execute_input": "2023-10-05T05:21:53.414110Z",
     "iopub.status.busy": "2023-10-05T05:21:53.413759Z",
     "iopub.status.idle": "2023-10-05T05:21:53.817469Z",
     "shell.execute_reply": "2023-10-05T05:21:53.816894Z"
    }
   },
   "outputs": [],
   "source": [
    "imviz = Imviz()"
   ]
  },
  {
   "cell_type": "markdown",
   "id": "3a332f61",
   "metadata": {},
   "source": [
    "Let's download some data. The images are quite large. The download will take a few minutes."
   ]
  },
  {
   "cell_type": "code",
   "execution_count": 3,
   "id": "7bddbc18",
   "metadata": {
    "execution": {
     "iopub.execute_input": "2023-10-05T05:21:53.944026Z",
     "iopub.status.busy": "2023-10-05T05:21:53.943554Z",
     "iopub.status.idle": "2023-10-05T05:26:26.631864Z",
     "shell.execute_reply": "2023-10-05T05:26:26.631195Z"
    }
   },
   "outputs": [
    {
     "name": "stdout",
     "output_type": "stream",
     "text": [
      "Downloading URL https://mast.stsci.edu/api/v0.1/Download/file?uri=mast:JWST/product/jw02731-o001_t017_nircam_clear-f090w_i2d.fits to ./jw02731-o001_t017_nircam_clear-f090w_i2d.fits ... [Done]\n",
      "Downloading URL https://mast.stsci.edu/api/v0.1/Download/file?uri=mast:JWST/product/jw02731-o001_t017_nircam_clear-f187n_i2d.fits to ./jw02731-o001_t017_nircam_clear-f187n_i2d.fits ... [Done]\n",
      "Downloading URL https://mast.stsci.edu/api/v0.1/Download/file?uri=mast:JWST/product/jw02731-o001_t017_nircam_clear-f200w_i2d.fits to ./jw02731-o001_t017_nircam_clear-f200w_i2d.fits ... [Done]\n",
      "Downloading URL https://mast.stsci.edu/api/v0.1/Download/file?uri=mast:JWST/product/jw02731-o001_t017_nircam_clear-f335m_i2d.fits to ./jw02731-o001_t017_nircam_clear-f335m_i2d.fits ... [Done]\n",
      "Downloading URL https://mast.stsci.edu/api/v0.1/Download/file?uri=mast:JWST/product/jw02731-o001_t017_nircam_clear-f444w_i2d.fits to ./jw02731-o001_t017_nircam_clear-f444w_i2d.fits ... [Done]\n",
      "Downloading URL https://mast.stsci.edu/api/v0.1/Download/file?uri=mast:JWST/product/jw02731-o001_t017_nircam_f444w-f470n_i2d.fits to ./jw02731-o001_t017_nircam_f444w-f470n_i2d.fits ... [Done]\n"
     ]
    }
   ],
   "source": [
    "data_dir = '.'\n",
    "\n",
    "files = ['jw02731-o001_t017_nircam_clear-f090w_i2d.fits',\n",
    "         'jw02731-o001_t017_nircam_clear-f187n_i2d.fits',\n",
    "         'jw02731-o001_t017_nircam_clear-f200w_i2d.fits',\n",
    "         'jw02731-o001_t017_nircam_clear-f335m_i2d.fits',\n",
    "         'jw02731-o001_t017_nircam_clear-f444w_i2d.fits',\n",
    "         'jw02731-o001_t017_nircam_f444w-f470n_i2d.fits']\n",
    "\n",
    "for fn in files:\n",
    "    uri = f\"mast:JWST/product/{fn}\"\n",
    "    result = Observations.download_file(uri, local_path=f'{data_dir}/{fn}')"
   ]
  },
  {
   "cell_type": "markdown",
   "id": "e6108b52",
   "metadata": {},
   "source": [
    "And load into Imviz."
   ]
  },
  {
   "cell_type": "code",
   "execution_count": 4,
   "id": "1135ef74",
   "metadata": {
    "execution": {
     "iopub.execute_input": "2023-10-05T05:26:26.635001Z",
     "iopub.status.busy": "2023-10-05T05:26:26.634582Z",
     "iopub.status.idle": "2023-10-05T05:26:36.730443Z",
     "shell.execute_reply": "2023-10-05T05:26:36.729958Z"
    }
   },
   "outputs": [],
   "source": [
    "with warnings.catch_warnings():\n",
    "    warnings.simplefilter('ignore')\n",
    "    with imviz.batch_load():\n",
    "        for fn in files:\n",
    "            imviz.load_data(f'{data_dir}/{fn}', data_label=fn[31:36])"
   ]
  },
  {
   "cell_type": "markdown",
   "id": "8a4b2e1a",
   "metadata": {},
   "source": [
    "Now, we can display Imviz."
   ]
  },
  {
   "cell_type": "code",
   "execution_count": 5,
   "id": "8b754faa",
   "metadata": {
    "execution": {
     "iopub.execute_input": "2023-10-05T05:26:36.732894Z",
     "iopub.status.busy": "2023-10-05T05:26:36.732591Z",
     "iopub.status.idle": "2023-10-05T05:26:36.738582Z",
     "shell.execute_reply": "2023-10-05T05:26:36.738139Z"
    },
    "scrolled": false
   },
   "outputs": [
    {
     "data": {
      "application/vnd.jupyter.widget-view+json": {
       "model_id": "9660eaee78f541f1ba00cf7ca54e0dce",
       "version_major": 2,
       "version_minor": 0
      },
      "text/plain": [
       "Application(config='imviz', docs_link='https://jdaviz.readthedocs.io/en/v3.7.0/imviz/index.html', events=['cal…"
      ]
     },
     "metadata": {},
     "output_type": "display_data"
    }
   ],
   "source": [
    "imviz.show()"
   ]
  },
  {
   "cell_type": "markdown",
   "id": "88b7129e",
   "metadata": {},
   "source": [
    "## WCS Linking Controls\n",
    "https://jdaviz.readthedocs.io/en/latest/imviz/plugins.html#link-control\n",
    "\n",
    "The first thing you will probably notice is that the image doesn't take up the entire viewer area. If you press the \"b\" key to blink to the next image, you will see that this image is zoomed correctly by default. The odd default zoom on the other is because the images are linked by pixel when loaded. We can instead link by WCS (world coordinates) so that the images will be properly aligned."
   ]
  },
  {
   "cell_type": "markdown",
   "id": "b34dde0c",
   "metadata": {},
   "source": [
    "There are two ways to link in Imviz. Firstly, you can do it from within the UI through the Links Control plugin by selecting \"WCS\". Either open the plugin tray to the right and search for \"Links Control\", or execute the following cell to open it automatically:"
   ]
  },
  {
   "cell_type": "code",
   "execution_count": 6,
   "id": "812bbbf5",
   "metadata": {
    "execution": {
     "iopub.execute_input": "2023-10-05T05:26:36.741057Z",
     "iopub.status.busy": "2023-10-05T05:26:36.740748Z",
     "iopub.status.idle": "2023-10-05T05:26:36.745728Z",
     "shell.execute_reply": "2023-10-05T05:26:36.745281Z"
    }
   },
   "outputs": [],
   "source": [
    "imviz.plugins['Links Control'].open_in_tray()"
   ]
  },
  {
   "cell_type": "markdown",
   "id": "75367551",
   "metadata": {},
   "source": [
    "You can also set the link type from the API using the Imviz Helper:"
   ]
  },
  {
   "cell_type": "code",
   "execution_count": 7,
   "id": "f7c9f085",
   "metadata": {
    "execution": {
     "iopub.execute_input": "2023-10-05T05:26:36.747950Z",
     "iopub.status.busy": "2023-10-05T05:26:36.747666Z",
     "iopub.status.idle": "2023-10-05T05:26:37.026765Z",
     "shell.execute_reply": "2023-10-05T05:26:37.026213Z"
    }
   },
   "outputs": [],
   "source": [
    "# Link images by WCS (without affine approximation)\n",
    "imviz.plugins['Links Control'].link_type = 'WCS'\n",
    "imviz.plugins['Links Control'].wcs_use_affine = False"
   ]
  },
  {
   "cell_type": "markdown",
   "id": "c9e777a4",
   "metadata": {},
   "source": [
    "Now if you blink, the images should be aligned"
   ]
  },
  {
   "cell_type": "markdown",
   "id": "280cb7c7",
   "metadata": {},
   "source": [
    "## Plot Options\n",
    "The Plot Options plugins allows you to modify how your image appears. Here, we demonstrate how to use it to create RGB images."
   ]
  },
  {
   "cell_type": "markdown",
   "id": "ca62dbf5",
   "metadata": {},
   "source": [
    "To show the Plot Options plugin, either search in the plugin bar, or execute the following cell to open it automatically:"
   ]
  },
  {
   "cell_type": "code",
   "execution_count": 8,
   "id": "6706967c",
   "metadata": {
    "execution": {
     "iopub.execute_input": "2023-10-05T05:26:37.030584Z",
     "iopub.status.busy": "2023-10-05T05:26:37.029634Z",
     "iopub.status.idle": "2023-10-05T05:26:37.036150Z",
     "shell.execute_reply": "2023-10-05T05:26:37.035699Z"
    }
   },
   "outputs": [],
   "source": [
    "plot_options = imviz.plugins['Plot Options']\n",
    "plot_options.open_in_tray()"
   ]
  },
  {
   "cell_type": "markdown",
   "id": "3e1285e7",
   "metadata": {},
   "source": [
    "Here you can adjust the color, opacity, contrast, and bias among other things. You can adjust them manually via the UI, or programmatically via the API to make image appear as you'd like:"
   ]
  },
  {
   "cell_type": "code",
   "execution_count": 9,
   "id": "c2211739",
   "metadata": {
    "execution": {
     "iopub.execute_input": "2023-10-05T05:26:37.039748Z",
     "iopub.status.busy": "2023-10-05T05:26:37.038832Z",
     "iopub.status.idle": "2023-10-05T05:26:37.074596Z",
     "shell.execute_reply": "2023-10-05T05:26:37.074141Z"
    }
   },
   "outputs": [],
   "source": [
    "plot_options.image_color_mode = 'Monochromatic'\n",
    "img_settings = {'f090w': {'image_color': '#cc7ace',\n",
    "                          'stretch_vmax': 4,\n",
    "                          'image_opacity': 0.32,\n",
    "                          'image_contrast': 0.69,\n",
    "                          'image_bias': 0.39},\n",
    "                'f187n': {'image_color': '#66cfef',\n",
    "                          'stretch_vmin': 0,\n",
    "                          'stretch_vmax': 16,\n",
    "                          'image_opacity': 0.4,\n",
    "                          'image_contrast': 0.94,\n",
    "                          'image_bias': 0.74},\n",
    "                'f200w': {'image_color': '#61d3e1',\n",
    "                          'stretch_vmax': 6,\n",
    "                          'image_opacity': 0.31,\n",
    "                          'image_contrast': 2.15,\n",
    "                          'image_bias': 0.66},\n",
    "                'f335m': {'image_color': '#afff6b',\n",
    "                          'stretch_vmin': 4,\n",
    "                          'stretch_vmax': 27,\n",
    "                          'image_opacity': 0.23,\n",
    "                          'image_contrast': 3.13,\n",
    "                          'image_bias': 0.67},\n",
    "                'f444w': {'image_color': '#ff767c',\n",
    "                          'stretch_vmax': 10,\n",
    "                          'image_opacity': 0.18,\n",
    "                          'image_contrast': 1.77,\n",
    "                          'image_bias': 0.56},\n",
    "                'f470n': {'image_color': '#f7787d',\n",
    "                          'stretch_vmin': 1,\n",
    "                          'stretch_vmax': 11,\n",
    "                          'image_opacity': 0.4,\n",
    "                          'image_contrast': 2.53,\n",
    "                          'image_bias': 0.27}}"
   ]
  },
  {
   "cell_type": "markdown",
   "id": "78207a91",
   "metadata": {},
   "source": [
    "We can now iterate over this dictionary of settings and use the plot options API to set each of the options."
   ]
  },
  {
   "cell_type": "code",
   "execution_count": 10,
   "id": "c342cd9d",
   "metadata": {
    "execution": {
     "iopub.execute_input": "2023-10-05T05:26:37.078114Z",
     "iopub.status.busy": "2023-10-05T05:26:37.077188Z",
     "iopub.status.idle": "2023-10-05T05:26:37.477517Z",
     "shell.execute_reply": "2023-10-05T05:26:37.477046Z"
    }
   },
   "outputs": [],
   "source": [
    "for layer, settings in img_settings.items():\n",
    "    plot_options.layer = f'{layer}[DATA]'\n",
    "    for k, v in settings.items():\n",
    "        setattr(plot_options, k, v)"
   ]
  },
  {
   "cell_type": "markdown",
   "id": "b1ac3c3f",
   "metadata": {},
   "source": [
    "And lastly, we can save to an image using the export plot plugin."
   ]
  },
  {
   "cell_type": "code",
   "execution_count": 11,
   "id": "fce20b3d",
   "metadata": {
    "execution": {
     "iopub.execute_input": "2023-10-05T05:26:37.479917Z",
     "iopub.status.busy": "2023-10-05T05:26:37.479603Z",
     "iopub.status.idle": "2023-10-05T05:26:37.482763Z",
     "shell.execute_reply": "2023-10-05T05:26:37.482325Z"
    }
   },
   "outputs": [],
   "source": [
    "imviz.plugins['Export Plot'].save_figure('carina_rgb.png')"
   ]
  },
  {
   "cell_type": "markdown",
   "id": "95de69d3",
   "metadata": {},
   "source": [
    "<img style=\"float: right;\" src=\"https://raw.githubusercontent.com/spacetelescope/notebooks/master/assets/stsci_pri_combo_mark_horizonal_white_bkgd.png\" alt=\"Space Telescope Logo\" width=\"200px\"/>"
   ]
  },
  {
   "cell_type": "markdown",
   "id": "c08db0ba",
   "metadata": {},
   "source": [
    "Notebook created by Kyle Conroy and adapted by Duy Nguyen and Camilla Pacifici."
   ]
  }
 ],
 "metadata": {
  "kernelspec": {
   "display_name": "Python 3 (ipykernel)",
   "language": "python",
   "name": "python3"
  },
  "language_info": {
   "codemirror_mode": {
    "name": "ipython",
    "version": 3
   },
   "file_extension": ".py",
   "mimetype": "text/x-python",
   "name": "python",
   "nbconvert_exporter": "python",
   "pygments_lexer": "ipython3",
   "version": "3.11.5"
  },
  "widgets": {
   "application/vnd.jupyter.widget-state+json": {
    "state": {
     "00afa51be8b143c9aaac06000cfb578d": {
      "model_module": "@jupyter-widgets/base",
      "model_module_version": "2.0.0",
      "model_name": "LayoutModel",
      "state": {
       "_model_module": "@jupyter-widgets/base",
       "_model_module_version": "2.0.0",
       "_model_name": "LayoutModel",
       "_view_count": null,
       "_view_module": "@jupyter-widgets/base",
       "_view_module_version": "2.0.0",
       "_view_name": "LayoutView",
       "align_content": null,
       "align_items": null,
       "align_self": null,
       "border_bottom": null,
       "border_left": null,
       "border_right": null,
       "border_top": null,
       "bottom": null,
       "display": null,
       "flex": null,
       "flex_flow": null,
       "grid_area": null,
       "grid_auto_columns": null,
       "grid_auto_flow": null,
       "grid_auto_rows": null,
       "grid_column": null,
       "grid_gap": null,
       "grid_row": null,
       "grid_template_areas": null,
       "grid_template_columns": null,
       "grid_template_rows": null,
       "height": null,
       "justify_content": null,
       "justify_items": null,
       "left": null,
       "margin": null,
       "max_height": null,
       "max_width": null,
       "min_height": null,
       "min_width": null,
       "object_fit": null,
       "object_position": null,
       "order": null,
       "overflow": null,
       "padding": null,
       "right": null,
       "top": null,
       "visibility": null,
       "width": null
      }
     },
     "00d15dbc32424b1d86bb570340195734": {
      "model_module": "jupyter-vue",
      "model_module_version": "^1.10.1",
      "model_name": "VueComponentModel",
      "state": {
       "_dom_classes": [],
       "_model_module": "jupyter-vue",
       "_model_module_version": "^1.10.1",
       "_model_name": "VueComponentModel",
       "_view_count": null,
       "_view_module": null,
       "_view_module_version": "",
       "_view_name": null,
       "component": "<template>\n  <j-tooltip v-if=\"menuButtonAvailable()\" tipid=\"viewer-toolbar-data\">\n    <v-menu attach offset-y :close-on-content-click=\"false\" v-model=\"viewer.data_open\">\n      <template v-slot:activator=\"{ on, attrs }\">\n        <v-btn \n          text \n          elevation=\"3\" \n          v-bind=\"attrs\" \n          v-on=\"on\" \n          color=\"white\"\n          tile\n          icon\n          outlined\n          :class=\"{active: viewer.data_open}\"\n          style=\"height: 42px; width: 42px\">\n          <v-icon>mdi-format-list-bulleted-square</v-icon>\n        </v-btn>\n      </template>\n  \n      <v-list style=\"max-height: 500px; width: 460px; padding-top: 0px\" class=\"overflow-y-auto\">\n        <v-row key=\"title\" style=\"padding-left: 25px; margin-right: 0px; background-color: #E3F2FD\">\n            <span style=\"overflow-wrap: anywhere; font-size: 12pt; padding-top: 6px; padding-left: 6px; font-weight: bold; color: black\">\n              {{viewerTitleCase}}\n            </span>\n\n            <span style=\"position: absolute; right: 5px\">\n              <j-tooltip :tipid=\"multi_select ? 'viewer-data-select-enabled' : 'viewer-data-radio-enabled'\">\n                <v-btn\n                  icon\n                  @click=\"toggleMultiSelect\"\n                  style=\"opacity: 0.7\"\n                  >\n                    <img :src=\"multi_select ? icons.checktoradial : icons.radialtocheck\" width=\"24\"/>\n                </v-btn>\n              </j-tooltip>\n            </span>\n        </v-row>\n\n        <v-row style=\"padding-left: 32px; margin-right: 0px; padding-right: 10px;\n                      padding-bottom: 6px; background-color: #E3F2FD;\n                      color: black\">\n          <span>\n            Add more datasets using the \"Import Data\" button or via the API.\n          </span>\n        </v-row>\n\n        <v-row v-for=\"item in filteredDataItems\" :key=\"item.id\" style=\"padding-left: 25px; margin-right: 0px; margin-top: 4px; margin-bottom: 4px\">\n          <j-viewer-data-select-item\n            :item=\"item\"\n            :icon=\"layer_icons[item.name]\"\n            :viewer=\"viewer\"\n            :multi_select=\"multi_select\"\n            @data-item-visibility=\"$emit('data-item-visibility', $event)\"\n            @data-item-unload=\"$emit('data-item-unload', $event)\"\n            @data-item-remove=\"$emit('data-item-remove', $event)\"\n          ></j-viewer-data-select-item>\n        </v-row>\n\n        <div v-if=\"extraDataItems.length\" style=\"margin-bottom: -8px;\">\n          <v-row key=\"extra-items-expand\" style=\"padding-left: 25px; margin-right: 0px; padding-bottom: 4px; background-color: #E3F2FD\"> \n            <span \n              @click=\"toggleShowExtraItems\"\n              class='text--primary' \n              style=\"overflow-wrap: anywhere; font-size: 12pt; padding-top: 6px; padding-left: 6px; cursor: pointer\"\n            >\n              <v-icon class='invert-if-dark'>{{showExtraItems ? 'mdi-chevron-double-up' : 'mdi-chevron-double-down'}}</v-icon>\n              <span v-if=\"viewer.config === 'mosviz'\">\n                {{showExtraItems ? 'hide other row data not in viewer' : 'show other row data not in viewer'}}\n              </span>\n              <span v-else>\n                {{showExtraItems ? 'hide data not in viewer' : 'show data not in viewer'}}                \n              </span>\n            </span>\n          </v-row>\n\n          <v-row v-if=\"showExtraItems\" v-for=\"item in extraDataItems\"  :key=\"item.id\" style=\"padding-left: 25px; margin-right: 0px; margin-top: 4px; margin-bottom: 4px\">\n            <j-viewer-data-select-item\n              :item=\"item\"\n              :icon=\"layer_icons[item.name]\"\n              :viewer=\"viewer\"\n              :multi_select=\"multi_select\"\n              @data-item-visibility=\"$emit('data-item-visibility', $event)\"\n              @data-item-remove=\"$emit('data-item-remove', $event)\"\n            ></j-viewer-data-select-item>\n          </v-row>\n        </div>\n\n      </v-list>\n\n    </v-menu>\n  </j-tooltip>\n</template>\n<script>\n\nmodule.exports = {\n  props: ['data_items', 'viewer', 'layer_icons', 'app_settings', 'icons'],\n  data: function () {\n    var multi_select = true\n    if (this.$props.viewer.config === 'cubeviz') {\n      if (this.$props.viewer.reference !== 'spectrum-viewer') {\n        multi_select = false\n      }\n    } else if (this.$props.viewer.config === 'mosviz') {\n      if (['image-viewer', 'spectrum-2d-viewer'].indexOf(this.$props.viewer.reference) !== -1) {\n        multi_select = false\n      }\n    } else if (this.$props.viewer.config === 'specviz2d') {\n      if (this.$props.viewer.reference === 'spectrum-2d-viewer') {\n        multi_select = false\n      }\n    }\n    return {\n      // default to passed values, whenever value or uncertainty are changed\n      // updateTruncatedValues will overwrite the displayed values\n      multi_select: multi_select,\n      showExtraItems: false,\n      valueTrunc: this.value,\n      uncertTrunc: this.uncertainty\n    }\n  },\n  methods: {\n    menuButtonAvailable() {\n      if (this.$props.viewer.reference === 'table-viewer') {\n        return false\n      }\n      return true\n    },\n    dataItemInViewer(item, returnExtraItems) {\n      const inViewer = Object.keys(this.$props.viewer.selected_data_items).includes(item.id)\n      //console.log(item.name+\"  \"+inViewer)\n      if (returnExtraItems) {\n        return (!inViewer && (item.meta.mosviz_row === this.$props.app_settings.mosviz_row))\n      }\n      return inViewer\n    },\n    itemIsVisible(item, returnExtraItems) {\n      if (this.$props.viewer.config === 'mosviz') {\n        if (this.$props.viewer.reference === 'spectrum-viewer' && item.type !== '1d spectrum') {\n          // filters out table, spectrum 2d, images\n          return false\n        } else if (this.$props.viewer.reference === 'spectrum-2d-viewer' && item.type !== '2d spectrum') {\n          return false\n        } else if (this.$props.viewer.reference === 'image-viewer' && item.type !== 'image') {\n          return false\n        } else {\n          return this.dataItemInViewer(item, returnExtraItems)\n        }\n      } else if (this.$props.viewer.config === 'cubeviz') {\n        if (this.$props.viewer.reference === 'spectrum-viewer') {\n          if (item.meta.Plugin === undefined) {\n            // then the data can be a cube (auto-collapsed) as long as its the flux data\n            return item.name.indexOf('[FLUX]') !== -1 && this.dataItemInViewer(item, returnExtraItems)\n          } else if (item.meta.Plugin === 'GaussianSmooth') {\n            // spectrally smoothed would still be a collapsible cube\n            return item.ndims === 3 && this.dataItemInViewer(item, returnExtraItems)\n          } else {\n            // filter plugin results to only those that are spectra\n            return item.ndims === 1 && this.dataItemInViewer(item, returnExtraItems)\n          }\n        } else {\n          // then we're one of the three image viewers\n          // filter out non-images (support 2d images and cubes)\n          return item.ndims >= 2 && this.dataItemInViewer(item, returnExtraItems)\n        }\n      } else if (this.$props.viewer.config === 'specviz2d') {\n        if (this.$props.viewer.reference === 'spectrum-viewer') {\n          return item.ndims === 1 && item.type!=='trace' && this.dataItemInViewer(item, returnExtraItems)\n        } else if (this.$props.viewer.reference === 'spectrum-2d-viewer') {\n          return (item.ndims === 2 || item.type==='trace') && this.dataItemInViewer(item, returnExtraItems)\n        }\n      } else if (this.$props.viewer.config === 'lcviz') {\n        // TODO: generalize itemIsVisible so downstream apps can provide their own customized filters\n        if (item.meta._LCVIZ_EPHEMERIS !== undefined) {\n          if (!this.$props.viewer.reference.startsWith('flux-vs-phase:')) {\n            return false\n          }\n          var viewer_ephem_comp = this.$props.viewer.reference.split('flux-vs-phase:')[1]\n          return item.meta._LCVIZ_EPHEMERIS.ephemeris == viewer_ephem_comp && this.dataItemInViewer(item, returnExtraItems)\n        }\n        return this.dataItemInViewer(item, returnExtraItems)\n      }\n      // for any situation not covered above, default to showing the entry\n      return this.dataItemInViewer(item, returnExtraItems)\n    },\n    toggleShowExtraItems() {\n      // toggle the visibility of the extra items in the menu\n      this.showExtraItems = !this.showExtraItems\n    },\n    toggleMultiSelect() {\n      this.multi_select = !this.multi_select\n      if (this.multi_select === false){\n        // If we're toggling to single select, set the first item visibility to replace the rest\n        // Find the \"first\" item\n        for (item_index in this.filteredDataItems){\n          if (this.$props.viewer.selected_data_items[this.filteredDataItems[item_index].id] === 'visible') {\n            this.$emit('data-item-visibility', {\n              id: this.$props.viewer.id,\n              item_id: this.filteredDataItems[item_index].id,\n              visible: true,\n              replace: true})\n            break;\n          }\n        }\n      }\n      \n    },\n  },\n  computed: {\n    viewerTitleCase() {\n      var title = this.$props.viewer.reference || this.$props.viewer.id\n      // this translates from kebab-case to human readable (individual words, in title case)\n      // each word that should NOT be capitalized needs to explicitly be set here\n      return title.toLowerCase().replaceAll('-', ' ').split(' ').map((word) => {if (['vs'].indexOf(word) !== -1) {return word} else {return word.charAt(0).toUpperCase() + word.slice(1)}}).join(' ');\n    },\n    showModeToggle() {\n      if (this.$props.viewer.config === 'cubeviz') {\n        if (this.$props.viewer.reference !== 'spectrum-viewer') {\n          return true\n        }\n      }\n      return false\n    },\n    filteredDataItems() {\n      return this.$props.data_items.filter((item) => this.itemIsVisible(item, false))\n    },\n    extraDataItems() {\n      return this.$props.data_items.filter((item) => this.itemIsVisible(item, true))\n    },\n  }\n};\n</script>\n",
       "layout": "IPY_MODEL_b21ac7477c4a469684551d32ad0f14ae",
       "name": "j-viewer-data-select",
       "tabbable": null,
       "tooltip": null
      }
     },
     "01a5fe4b160b4262a96c2bba41ad02a7": {
      "model_module": "jupyter-vue",
      "model_module_version": "^1.10.1",
      "model_name": "TemplateModel",
      "state": {
       "_model_module": "jupyter-vue",
       "_model_module_version": "^1.10.1",
       "_model_name": "TemplateModel",
       "_view_count": null,
       "_view_module": null,
       "_view_module_version": "",
       "_view_name": null,
       "template": "<template>\n    <div class=\"glue-layer-options\">\n        <div>\n            <v-select\n                    :items=\"layers\"\n                    item-text=\"label\"\n                    item-value=\"index\"\n                    v-model=\"selected\"\n                    label=\"Layer\"\n                    hide-details\n            >\n                <template slot=\"selection\" slot-scope=\"data\">\n                    <div class=\"single-line\">\n                        <v-menu v-model=\"color_menu_open\">\n                            <template v-slot:activator=\"{ on }\">\n                                <span class=\"glue-color-menu\"\n                                      :style=\"`background:${data.item.color}`\"\n                                      @click.stop=\"on.click\"\n                                >&nbsp;</span>\n                            </template>\n                            <div @click.stop=\"\" style=\"text-align: end; background-color: white\">\n                                <v-btn icon @click=\"color_menu_open = false\">\n                                    <v-icon>mdi-close</v-icon>\n                                </v-btn>\n                                <v-color-picker v-model=\"data.item.color\"></v-color-picker>\n                            </div>\n                        </v-menu>\n                        <v-btn icon @click.stop=\"data.item.visible = !data.item.visible\">\n                            <v-icon>mdi-eye{{ data.item.visible ? '' : '-off' }}</v-icon>\n                        </v-btn>\n                        {{ data.item.label }}\n                    </div>\n                </template>\n                <template slot=\"item\" slot-scope=\"data\">\n                    <div class=\"single-line\">\n                        <span class=\"glue-color-menu\"\n                              :style=\"`background:${data.item.color}`\"\n                        >&nbsp;</span>\n                        <v-icon style=\"padding: 0 4px\" @click.stop=\"data.item.visible = !data.item.visible\">\n                            mdi-eye{{ data.item.visible ? '' : '-off' }}\n                        </v-icon>\n                        {{ data.item.label }}\n                    </div>\n                </template>\n            </v-select>\n        </div>\n        <div>\n            <jupyter-widget v-if=\"layers && current_panel\" :widget=\"current_panel\"></jupyter-widget>\n        </div>\n    </div>\n</template>\n\n<style id=\"glue-layeroptions\">\n    .glue-layer-options {\n        width: 100%;\n    }\n\n    .glue-color-menu {\n        font-size: 16px;\n        padding-left: 16px;\n        border: 2px solid rgba(0,0,0,0.54);\n    }\n\n    .single-line {\n        white-space: nowrap;\n        overflow: hidden;\n        text-overflow: ellipsis;\n        width: 100%;\n    }\n</style>\n"
      }
     },
     "01af22ed755e4034aba359a868dd7339": {
      "model_module": "jupyter-vuetify",
      "model_module_version": "^1.8.5",
      "model_name": "ListItemModel",
      "state": {
       "_dom_classes": [],
       "_events": [
        "click"
       ],
       "_jupyter_vue": "IPY_MODEL_28c992a30e9e48598df49b24e8922228",
       "_metadata": null,
       "_model_module": "jupyter-vuetify",
       "_model_module_version": "^1.8.5",
       "_model_name": "ListItemModel",
       "_view_count": null,
       "_view_module": "jupyter-vuetify",
       "_view_module_version": "^1.8.5",
       "_view_name": "VuetifyView",
       "active_class": null,
       "append": null,
       "attributes": {},
       "children": [
        "IPY_MODEL_67fe0bef7e9647938a628bd27c0a6ece",
        "IPY_MODEL_ed03ac89923c48dd84b923b0a37f5a51"
       ],
       "class_": null,
       "color": null,
       "dark": null,
       "dense": null,
       "disabled": null,
       "exact": null,
       "exact_active_class": null,
       "href": null,
       "inactive": null,
       "input_value": null,
       "layout": null,
       "light": null,
       "link": null,
       "nuxt": null,
       "replace": null,
       "ripple": null,
       "selectable": null,
       "slot": null,
       "style_": null,
       "tabbable": null,
       "tag": null,
       "target": null,
       "three_line": null,
       "to": null,
       "tooltip": null,
       "two_line": null,
       "v_model": "!!disabled!!",
       "v_on": null,
       "v_slots": [],
       "value": null
      }
     },
     "01e478ecd4cf4cbfb04a753e672ec2cc": {
      "model_module": "jupyter-vuetify",
      "model_module_version": "^1.8.5",
      "model_name": "ListItemModel",
      "state": {
       "_dom_classes": [],
       "_events": [
        "click"
       ],
       "_jupyter_vue": "IPY_MODEL_28c992a30e9e48598df49b24e8922228",
       "_metadata": null,
       "_model_module": "jupyter-vuetify",
       "_model_module_version": "^1.8.5",
       "_model_name": "ListItemModel",
       "_view_count": null,
       "_view_module": "jupyter-vuetify",
       "_view_module_version": "^1.8.5",
       "_view_name": "VuetifyView",
       "active_class": null,
       "append": null,
       "attributes": {},
       "children": [
        "IPY_MODEL_9eeee406ade447fd97df4c8dfee5de13",
        "IPY_MODEL_9d1588920aab4b6381c6ff7a3eaae9a2"
       ],
       "class_": null,
       "color": null,
       "dark": null,
       "dense": null,
       "disabled": null,
       "exact": null,
       "exact_active_class": null,
       "href": null,
       "inactive": null,
       "input_value": null,
       "layout": null,
       "light": null,
       "link": null,
       "nuxt": null,
       "replace": null,
       "ripple": null,
       "selectable": null,
       "slot": null,
       "style_": null,
       "tabbable": null,
       "tag": null,
       "target": null,
       "three_line": null,
       "to": null,
       "tooltip": null,
       "two_line": null,
       "v_model": "!!disabled!!",
       "v_on": null,
       "v_slots": [],
       "value": null
      }
     },
     "0233b948de464a9d830a93dbbda1f150": {
      "model_module": "jupyter-vuetify",
      "model_module_version": "^1.8.10",
      "model_name": "VuetifyTemplateModel",
      "state": {
       "_component_instances": [],
       "_dom_classes": [],
       "_jupyter_vue": "IPY_MODEL_28c992a30e9e48598df49b24e8922228",
       "_model_module": "jupyter-vuetify",
       "_model_module_version": "^1.8.10",
       "_model_name": "VuetifyTemplateModel",
       "_view_count": null,
       "_view_module": "jupyter-vuetify",
       "_view_module_version": "^1.8.10",
       "_view_name": "VuetifyView",
       "components": null,
       "config": "imviz",
       "css": null,
       "data": null,
       "events": [
        "create_image_viewer"
       ],
       "layout": "IPY_MODEL_88dbbf5267574531b5bc20127be31112",
       "methods": null,
       "popout_button": "IPY_MODEL_e2ddc5563b9d4b1e9f27bc3a6b132bc2",
       "tabbable": null,
       "template": "IPY_MODEL_290e6006678d45bda1e40d687de40e82",
       "tooltip": null,
       "vdocs": "v3.7.0",
       "viewer_types": []
      }
     },
     "0543c1d95aee467cb8012a625684b9f2": {
      "model_module": "@jupyter-widgets/base",
      "model_module_version": "2.0.0",
      "model_name": "LayoutModel",
      "state": {
       "_model_module": "@jupyter-widgets/base",
       "_model_module_version": "2.0.0",
       "_model_name": "LayoutModel",
       "_view_count": null,
       "_view_module": "@jupyter-widgets/base",
       "_view_module_version": "2.0.0",
       "_view_name": "LayoutView",
       "align_content": null,
       "align_items": null,
       "align_self": null,
       "border_bottom": null,
       "border_left": null,
       "border_right": null,
       "border_top": null,
       "bottom": null,
       "display": null,
       "flex": null,
       "flex_flow": null,
       "grid_area": null,
       "grid_auto_columns": null,
       "grid_auto_flow": null,
       "grid_auto_rows": null,
       "grid_column": null,
       "grid_gap": null,
       "grid_row": null,
       "grid_template_areas": null,
       "grid_template_columns": null,
       "grid_template_rows": null,
       "height": null,
       "justify_content": null,
       "justify_items": null,
       "left": null,
       "margin": null,
       "max_height": null,
       "max_width": null,
       "min_height": null,
       "min_width": null,
       "object_fit": null,
       "object_position": null,
       "order": null,
       "overflow": null,
       "padding": null,
       "right": null,
       "top": null,
       "visibility": null,
       "width": null
      }
     },
     "05dc1e05d27b42569efb1debe92057cf": {
      "model_module": "jupyter-vuetify",
      "model_module_version": "^1.8.10",
      "model_name": "VuetifyTemplateModel",
      "state": {
       "_component_instances": [],
       "_dom_classes": [],
       "_jupyter_vue": "IPY_MODEL_28c992a30e9e48598df49b24e8922228",
       "_model_module": "jupyter-vuetify",
       "_model_module_version": "^1.8.10",
       "_model_name": "VuetifyTemplateModel",
       "_view_count": null,
       "_view_module": "jupyter-vuetify",
       "_view_module_version": "^1.8.10",
       "_view_name": "VuetifyView",
       "components": null,
       "css": null,
       "data": null,
       "echo_available": true,
       "events": [],
       "is_displayed": false,
       "kernel_id": "",
       "layout": "IPY_MODEL_0b76f8a632d84a5c939908d89ccde76e",
       "methods": null,
       "open_tab_on_display": false,
       "open_window_on_display": false,
       "tabbable": null,
       "target_model_id": "ab2b61990281415db33e013926124d71",
       "template": "IPY_MODEL_d55e72844de240529f76b5d1b37d37bf",
       "tooltip": null,
       "window_features": "popup,width=400,height=600",
       "window_name": "ab2b61990281415db33e013926124d71"
      }
     },
     "06882f8920154c7984142a3a4eac4544": {
      "model_module": "@jupyter-widgets/base",
      "model_module_version": "2.0.0",
      "model_name": "LayoutModel",
      "state": {
       "_model_module": "@jupyter-widgets/base",
       "_model_module_version": "2.0.0",
       "_model_name": "LayoutModel",
       "_view_count": null,
       "_view_module": "@jupyter-widgets/base",
       "_view_module_version": "2.0.0",
       "_view_name": "LayoutView",
       "align_content": null,
       "align_items": null,
       "align_self": null,
       "border_bottom": null,
       "border_left": null,
       "border_right": null,
       "border_top": null,
       "bottom": null,
       "display": null,
       "flex": null,
       "flex_flow": null,
       "grid_area": null,
       "grid_auto_columns": null,
       "grid_auto_flow": null,
       "grid_auto_rows": null,
       "grid_column": null,
       "grid_gap": null,
       "grid_row": null,
       "grid_template_areas": null,
       "grid_template_columns": null,
       "grid_template_rows": null,
       "height": null,
       "justify_content": null,
       "justify_items": null,
       "left": null,
       "margin": null,
       "max_height": null,
       "max_width": null,
       "min_height": null,
       "min_width": null,
       "object_fit": null,
       "object_position": null,
       "order": null,
       "overflow": null,
       "padding": null,
       "right": null,
       "top": null,
       "visibility": null,
       "width": null
      }
     },
     "0710c8678de4402fb2bc963cbf88cb57": {
      "model_module": "jupyter-vuetify",
      "model_module_version": "^1.8.10",
      "model_name": "VuetifyTemplateModel",
      "state": {
       "_component_instances": [],
       "_dom_classes": [],
       "_jupyter_vue": "IPY_MODEL_28c992a30e9e48598df49b24e8922228",
       "_model_module": "jupyter-vuetify",
       "_model_module_version": "^1.8.10",
       "_model_name": "VuetifyTemplateModel",
       "_view_count": null,
       "_view_module": "jupyter-vuetify",
       "_view_module_version": "^1.8.10",
       "_view_name": "VuetifyView",
       "components": null,
       "config": "imviz",
       "css": null,
       "data": null,
       "dataset_icon": "mdi-auto-fix",
       "dataset_items": [
        {
         "label": "auto"
        },
        {
         "label": "none"
        },
        {
         "icon": "a",
         "label": "f090w[DATA]"
        },
        {
         "icon": "b",
         "label": "f187n[DATA]"
        },
        {
         "icon": "c",
         "label": "f200w[DATA]"
        },
        {
         "icon": "d",
         "label": "f335m[DATA]"
        },
        {
         "icon": "e",
         "label": "f444w[DATA]"
        },
        {
         "icon": "f",
         "label": "f470n[DATA]"
        }
       ],
       "dataset_selected": "auto",
       "events": [
        "next_layer"
       ],
       "icon": "",
       "layout": "IPY_MODEL_ccedad24bd9f4e018df646f3e9ae6edf",
       "methods": null,
       "popout_button": "IPY_MODEL_6b8e3be9f6244fd4b4a03c8ed983035a",
       "row1_unreliable": false,
       "row1a_text": "",
       "row1a_title": "",
       "row1b_text": "",
       "row1b_title": "",
       "row2_text": "",
       "row2_title": "",
       "row2_unreliable": false,
       "row3_text": "",
       "row3_title": "",
       "row3_unreliable": false,
       "tabbable": null,
       "template": "IPY_MODEL_82f0c94941a44f55abe61c995034c0a7",
       "tooltip": null,
       "vdocs": "v3.7.0"
      }
     },
     "077b57a060fe4e8487f94088d8e8b1f2": {
      "model_module": "bqplot",
      "model_module_version": "^0.5",
      "model_name": "AxisModel",
      "state": {
       "_model_module": "bqplot",
       "_model_module_version": "^0.5",
       "_model_name": "AxisModel",
       "_view_count": null,
       "_view_module": "bqplot",
       "_view_module_version": "^0.5",
       "_view_name": "Axis",
       "color": null,
       "grid_color": null,
       "grid_lines": "solid",
       "label": "pixel value",
       "label_color": null,
       "label_location": "middle",
       "label_offset": null,
       "num_ticks": 3,
       "offset": {},
       "orientation": "horizontal",
       "scale": "IPY_MODEL_ef41d310941a45ab812b8c905cd25c05",
       "side": null,
       "tick_format": "0.1e",
       "tick_labels": {},
       "tick_rotate": 0,
       "tick_style": {},
       "tick_values": null,
       "visible": true
      }
     },
     "07c026c078e4457c97b8fff159177be5": {
      "model_module": "bqplot",
      "model_module_version": "^0.5",
      "model_name": "BrushSelectorModel",
      "state": {
       "_model_module": "bqplot",
       "_model_module_version": "^0.5",
       "_model_name": "BrushSelectorModel",
       "_view_count": null,
       "_view_module": "bqplot",
       "_view_module_version": "^0.5",
       "_view_name": "BrushSelector",
       "brushing": false,
       "clear": false,
       "color": "#cbcbcb",
       "marks": [],
       "selected_x": null,
       "selected_y": null,
       "x_scale": "IPY_MODEL_e9d182703c7f421db9185b0e14f021b4",
       "y_scale": "IPY_MODEL_2575788ee3b245bca63f200cd5d496ce"
      }
     },
     "08d22431ac624143965f5ac9aac4d94c": {
      "buffers": [
       {
        "data": "",
        "encoding": "base64",
        "path": [
         "x",
         "value"
        ]
       },
       {
        "data": "",
        "encoding": "base64",
        "path": [
         "y",
         "value"
        ]
       }
      ],
      "model_module": "bqplot",
      "model_module_version": "^0.5",
      "model_name": "LinesModel",
      "state": {
       "_model_module": "bqplot",
       "_model_module_version": "^0.5",
       "_model_name": "LinesModel",
       "_view_count": null,
       "_view_module": "bqplot",
       "_view_module_version": "^0.5",
       "_view_name": "Lines",
       "apply_clip": true,
       "close_path": false,
       "color": null,
       "colors": [
        "magenta"
       ],
       "curves_subset": [],
       "display_legend": false,
       "enable_hover": true,
       "fill": "none",
       "fill_colors": [],
       "fill_opacities": [],
       "interactions": {
        "hover": "tooltip"
       },
       "interpolation": "linear",
       "labels": [],
       "labels_visibility": "none",
       "line_style": "dashed",
       "marker": null,
       "marker_size": 64,
       "opacities": [],
       "preserve_domain": {},
       "scales": {
        "x": "IPY_MODEL_e015c5b819634e5aac30aa66bd381f0b",
        "y": "IPY_MODEL_e084a42c01ed49b5b5f3757af7cc1164"
       },
       "scales_metadata": {
        "color": {
         "dimension": "color"
        },
        "x": {
         "dimension": "x",
         "orientation": "horizontal"
        },
        "y": {
         "dimension": "y",
         "orientation": "vertical"
        }
       },
       "selected": null,
       "selected_style": {},
       "stroke_width": 2.0,
       "tooltip": null,
       "tooltip_location": "mouse",
       "tooltip_style": {
        "opacity": 0.9
       },
       "unselected_style": {},
       "visible": true,
       "x": {
        "dtype": "float64",
        "shape": [
         0
        ],
        "type": null
       },
       "y": {
        "dtype": "float64",
        "shape": [
         0
        ],
        "type": null
       }
      }
     },
     "09f04512463449cab33739e838276ae2": {
      "model_module": "bqplot-image-gl",
      "model_module_version": "^1.4.11",
      "model_name": "ContourModel",
      "state": {
       "_model_module": "bqplot-image-gl",
       "_model_module_version": "^1.4.11",
       "_model_name": "ContourModel",
       "_view_count": null,
       "_view_module": "bqplot-image-gl",
       "_view_module_version": "^1.4.11",
       "_view_name": "ContourView",
       "apply_clip": true,
       "color": [
        "red",
        "orange",
        "yellow",
        "green",
        "blue"
       ],
       "contour_lines": [],
       "display_legend": false,
       "enable_hover": true,
       "image": null,
       "interactions": {
        "hover": "tooltip"
       },
       "label": [
        "94.77",
        "189.5",
        "284.3",
        "379.1",
        "473.9"
       ],
       "label_steps": 1000,
       "labels": [],
       "level": [
        94.7733866373698,
        189.5467732747396,
        284.3201599121094,
        379.0935465494792,
        473.866933186849
       ],
       "preserve_domain": {},
       "scales": {
        "image": "IPY_MODEL_0acd9b51e19d4dacb4e96776f3e0807a",
        "x": "IPY_MODEL_e9d182703c7f421db9185b0e14f021b4",
        "y": "IPY_MODEL_2575788ee3b245bca63f200cd5d496ce"
       },
       "scales_metadata": {
        "x": {
         "dimension": "x",
         "orientation": "horizontal"
        },
        "y": {
         "dimension": "y",
         "orientation": "vertical"
        }
       },
       "selected": null,
       "selected_style": {},
       "tooltip": null,
       "tooltip_location": "mouse",
       "tooltip_style": {
        "opacity": 0.9
       },
       "unselected_style": {},
       "visible": false
      }
     },
     "0ac477afb9814fca910691a379842b70": {
      "model_module": "@jupyter-widgets/base",
      "model_module_version": "2.0.0",
      "model_name": "LayoutModel",
      "state": {
       "_model_module": "@jupyter-widgets/base",
       "_model_module_version": "2.0.0",
       "_model_name": "LayoutModel",
       "_view_count": null,
       "_view_module": "@jupyter-widgets/base",
       "_view_module_version": "2.0.0",
       "_view_name": "LayoutView",
       "align_content": null,
       "align_items": null,
       "align_self": null,
       "border_bottom": null,
       "border_left": null,
       "border_right": null,
       "border_top": null,
       "bottom": null,
       "display": null,
       "flex": null,
       "flex_flow": null,
       "grid_area": null,
       "grid_auto_columns": null,
       "grid_auto_flow": null,
       "grid_auto_rows": null,
       "grid_column": null,
       "grid_gap": null,
       "grid_row": null,
       "grid_template_areas": null,
       "grid_template_columns": null,
       "grid_template_rows": null,
       "height": null,
       "justify_content": null,
       "justify_items": null,
       "left": null,
       "margin": null,
       "max_height": null,
       "max_width": null,
       "min_height": null,
       "min_width": null,
       "object_fit": null,
       "object_position": null,
       "order": null,
       "overflow": null,
       "padding": null,
       "right": null,
       "top": null,
       "visibility": null,
       "width": null
      }
     },
     "0acd9b51e19d4dacb4e96776f3e0807a": {
      "model_module": "bqplot",
      "model_module_version": "^0.5",
      "model_name": "ColorScaleModel",
      "state": {
       "_model_module": "bqplot",
       "_model_module_version": "^0.5",
       "_model_name": "ColorScaleModel",
       "_view_count": null,
       "_view_module": "bqplot",
       "_view_module_version": "^0.5",
       "_view_name": "ColorScale",
       "allow_padding": true,
       "colors": [],
       "extrapolation": "constant",
       "max": null,
       "mid": null,
       "min": null,
       "reverse": false,
       "scale_type": "linear",
       "scheme": "RdYlGn"
      }
     },
     "0b48980a15234d8584a01a28befee96e": {
      "model_module": "jupyter-vue",
      "model_module_version": "^1.10.1",
      "model_name": "VueComponentModel",
      "state": {
       "_dom_classes": [],
       "_model_module": "jupyter-vue",
       "_model_module_version": "^1.10.1",
       "_model_name": "VueComponentModel",
       "_view_count": null,
       "_view_module": null,
       "_view_module_version": "",
       "_view_name": null,
       "component": "<template>\n    <v-text-field\n            :label=\"label\"\n            :suffix=\"suffix\"\n            v-model=\"displayValue\"\n            type=\"number\"\n            :rules=\"[validNumber]\"\n            hide-details/>\n</template>\n<script>\n    /* `displayValue` is linked to the text-field and `value` will only be updated when it's a valid number\n       This means that any formatting such as '1e3' will be kept.\n       Only when `value` is changed externally, `displayValue` will be update according to the current `value`.\n    */\n    module.exports = {\n        props: ['value', 'label', 'suffix'],\n        data: function() {\n            return {\n                // default value is the one that was intially passed\n                displayValue: this.value\n            }\n        },\n        methods: {\n            validNumber() {\n                // the strings returned are currently not displayed\n                const value = Number(this.displayValue);\n                if(this.displayValue.length === 0) {\n                    return \"Please enter a value\"\n                }\n                if(isNaN(value)) { // invalid floats lead to a nan\n                    return \"Invalid number\"\n                }\n                return true;\n            }\n        },\n        watch: {\n            displayValue() {\n                // when we change the input, we only update value when valid\n                if(this.validNumber() === true) { // invalid floats lead to a nan\n                    // and we emit the change only when we have a valid number\n                    const value = Number(this.displayValue);\n                    this.$emit('update:value', value);\n                }\n            },\n            value() {\n                const currentValue = Number(this.displayValue);\n                if((this.displayValue.length == 0) || isNaN(currentValue) || (currentValue !== this.value)) {\n                    // externally, a change in value was triggered, that is not equal to the current value\n                    // we now set displayValue, losing possible formatting\n                    this.displayValue = this.value;\n                }\n            },\n        },\n    }\n</script>\n",
       "layout": "IPY_MODEL_b0aca9b51ed8404596b9933c61ccc681",
       "name": "glue-float-field",
       "tabbable": null,
       "tooltip": null
      }
     },
     "0b76f8a632d84a5c939908d89ccde76e": {
      "model_module": "@jupyter-widgets/base",
      "model_module_version": "2.0.0",
      "model_name": "LayoutModel",
      "state": {
       "_model_module": "@jupyter-widgets/base",
       "_model_module_version": "2.0.0",
       "_model_name": "LayoutModel",
       "_view_count": null,
       "_view_module": "@jupyter-widgets/base",
       "_view_module_version": "2.0.0",
       "_view_name": "LayoutView",
       "align_content": null,
       "align_items": null,
       "align_self": null,
       "border_bottom": null,
       "border_left": null,
       "border_right": null,
       "border_top": null,
       "bottom": null,
       "display": null,
       "flex": null,
       "flex_flow": null,
       "grid_area": null,
       "grid_auto_columns": null,
       "grid_auto_flow": null,
       "grid_auto_rows": null,
       "grid_column": null,
       "grid_gap": null,
       "grid_row": null,
       "grid_template_areas": null,
       "grid_template_columns": null,
       "grid_template_rows": null,
       "height": null,
       "justify_content": null,
       "justify_items": null,
       "left": null,
       "margin": null,
       "max_height": null,
       "max_width": null,
       "min_height": null,
       "min_width": null,
       "object_fit": null,
       "object_position": null,
       "order": null,
       "overflow": null,
       "padding": null,
       "right": null,
       "top": null,
       "visibility": null,
       "width": null
      }
     },
     "0c35f89004f945939aaa9d834b1a2f9b": {
      "model_module": "jupyter-vuetify",
      "model_module_version": "^1.8.10",
      "model_name": "VuetifyTemplateModel",
      "state": {
       "_component_instances": [],
       "_dom_classes": [],
       "_jupyter_vue": "IPY_MODEL_28c992a30e9e48598df49b24e8922228",
       "_model_module": "jupyter-vuetify",
       "_model_module_version": "^1.8.10",
       "_model_name": "VuetifyTemplateModel",
       "_view_count": null,
       "_view_module": "jupyter-vuetify",
       "_view_module_version": "^1.8.10",
       "_view_name": "VuetifyView",
       "can_freeze": false,
       "can_simplify": false,
       "components": {
        "g-subset-mode": "IPY_MODEL_8b2aab7fb8464a0286b8fba68c65808a"
       },
       "config": "imviz",
       "css": null,
       "data": null,
       "dataset_items": [
        {
         "icon": "a",
         "label": "f090w[DATA]"
        },
        {
         "icon": "b",
         "label": "f187n[DATA]"
        },
        {
         "icon": "c",
         "label": "f200w[DATA]"
        },
        {
         "icon": "d",
         "label": "f335m[DATA]"
        },
        {
         "icon": "e",
         "label": "f444w[DATA]"
        },
        {
         "icon": "f",
         "label": "f470n[DATA]"
        }
       ],
       "dataset_selected": "f090w[DATA]",
       "disabled_msg": "",
       "docs_link": "",
       "events": [
        "freeze_subset",
        "plugin_ping",
        "recenter_subset",
        "simplify_subset",
        "update_subset"
       ],
       "glue_state_types": [],
       "has_subset_details": false,
       "icon_and": "data:image/svg+xml;base64,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",
       "icon_andnot": "data:image/svg+xml;base64,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",
       "icon_checktoradial": "data:image/svg+xml;base64,PHN2ZyBpZD0iTGF5ZXJfMSIgZGF0YS1uYW1lPSJMYXllciAxIiB4bWxucz0iaHR0cDovL3d3dy53My5vcmcvMjAwMC9zdmciIHZpZXdCb3g9IjAgMCA0MCAyMCI+PGRlZnM+PHN0eWxlPi5jbHMtMXtmaWxsOiMwMTAxMDE7fS5jbHMtMntmaWxsOm5vbmU7fS5jbHMtM3tmaWxsOiMyMzFmMjA7fTwvc3R5bGU+PC9kZWZzPjxwYXRoIGNsYXNzPSJjbHMtMSIgZD0iTTE3LC44M0gzYTIsMiwwLDAsMC0yLDJ2MTRhMiwyLDAsMCwwLDIsMkgxN2EyLDIsMCwwLDAsMi0ydi0xNGEyLDIsMCwwLDAtMi0ybTAsMnYxNEgzdi0xNEgxN20tOSwxMi00LTRMNS40MSw5LjQxLDgsMTJsNi41OS02LjU5TDE2LDYuODMiLz48cGF0aCBjbGFzcz0iY2xzLTIiIGQ9Ik0yOS44Myw1YTUsNSwwLDEsMSwuMzQsMTAsNSw1LDAsMCwxLTMuOTEtMS43MmwtMi40NCwxLjc4YTgsOCwwLDEsMC0uNDEtOS41OGwyLjQzLDEuNzZBNSw1LDAsMCwxLDI5LjgzLDVaIi8+PHBhdGggY2xhc3M9ImNscy0yIiBkPSJNMjAuMzMsMy44NVY3LjQ3YTEwLjEzLDEwLjEzLDAsMCwxLDEuMTgtMi43NloiLz48cGF0aCBjbGFzcz0iY2xzLTEiIGQ9Ik0yOS42NiwwQTEwLDEwLDAsMCwwLDIxLjgsNC4zbDEuNjEsMS4xOGE4LDgsMCwxLDEsLjQxLDkuNThMMjIuMiwxNi4yNEExMCwxMCwwLDEsMCwyOS42NiwwWiIvPjxwb2x5Z29uIGNsYXNzPSJjbHMtMiIgcG9pbnRzPSIyMC44MyAxNiAyOC41IDEwLjQxIDIwLjgzIDQuODMgMjAuODMgOC40MSAyMC41IDguNDEgMjAuNSAxMi40MSAyMC44MyAxMi40MSAyMC44MyAxNiIvPjxwYXRoIGNsYXNzPSJjbHMtMSIgZD0iTTI5LjgzLDVhNSw1LDAsMCwwLTQsMi4yNGwzLjI1LDIuMzcsMS4xMS44MS0xLjExLjgtMi44MywyLjA2QTUsNSwwLDAsMCwzMC4xNywxNWE1LDUsMCwxLDAtLjM0LTEwWiIvPjxwb2x5Z29uIGNsYXNzPSJjbHMtMyIgcG9pbnRzPSIyOC41IDEwLjQxIDIwLjgzIDQuODMgMjAuODMgOC40MSAyMC41IDguNDEgMTcuNSA4LjQxIDE3LjUgMTIuNDEgMjAuNSAxMi40MSAyMC44MyAxMi40MSAyMC44MyAxNiAyOC41IDEwLjQxIi8+PC9zdmc+",
       "icon_or": "data:image/svg+xml;base64,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",
       "icon_radialtocheck": "data:image/svg+xml;base64,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",
       "icon_replace": "data:image/svg+xml;base64,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",
       "icon_xor": "data:image/svg+xml;base64,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",
       "is_active": false,
       "is_centerable": false,
       "keep_active": false,
       "layout": "IPY_MODEL_3f17f26379f64ce6bf91c21236745296",
       "methods": null,
       "mode_selected": "add",
       "multiselect": false,
       "plugin_opened": false,
       "popout_button": "IPY_MODEL_b52c637c859f46d3aa989a4b26d0515d",
       "select": [],
       "show_region_info": true,
       "subplugins_opened": null,
       "subset_definitions": [],
       "subset_items": [
        {
         "label": "Create New"
        }
       ],
       "subset_selected": "Create New",
       "subset_types": [],
       "tabbable": null,
       "template": "IPY_MODEL_4bbcb4e2907e401f9229269227de427c",
       "tooltip": null,
       "uses_active_status": false,
       "vdocs": "v3.7.0"
      }
     },
     "0d00bf0b076549b19e788a9fe8101959": {
      "model_module": "jupyter-vuetify",
      "model_module_version": "^1.8.10",
      "model_name": "VuetifyTemplateModel",
      "state": {
       "_component_instances": [],
       "_dom_classes": [],
       "_jupyter_vue": "IPY_MODEL_28c992a30e9e48598df49b24e8922228",
       "_model_module": "jupyter-vuetify",
       "_model_module_version": "^1.8.10",
       "_model_name": "VuetifyTemplateModel",
       "_view_count": null,
       "_view_module": "jupyter-vuetify",
       "_view_module_version": "^1.8.10",
       "_view_name": "VuetifyView",
       "attribute_items": [
        {
         "text": "DATA",
         "value": 0
        }
       ],
       "attribute_selected": 0,
       "c_levels_error": "",
       "c_levels_txt": "",
       "color_mode": "One color per layer",
       "colormap_items": [
        {
         "text": "Gray",
         "value": "gray"
        },
        {
         "text": "Viridis",
         "value": "viridis"
        },
        {
         "text": "Plasma",
         "value": "plasma"
        },
        {
         "text": "Inferno",
         "value": "inferno"
        },
        {
         "text": "Magma",
         "value": "magma"
        },
        {
         "text": "Purple-Blue",
         "value": "PuBu"
        },
        {
         "text": "Yellow-Green-Blue",
         "value": "YlGnBu"
        },
        {
         "text": "Yellow-Orange-Red",
         "value": "YlOrRd"
        },
        {
         "text": "Red-Purple",
         "value": "RdPu"
        },
        {
         "text": "Blue-Green",
         "value": "BuGn"
        },
        {
         "text": "Hot",
         "value": "hot"
        },
        {
         "text": "Red-Blue",
         "value": "RdBu"
        },
        {
         "text": "Red-Yellow-Blue",
         "value": "RdYlBu"
        },
        {
         "text": "Purple-Orange",
         "value": "PuOr"
        },
        {
         "text": "Purple-Green",
         "value": "PRGn"
        },
        {
         "text": "Rainbow",
         "value": "rainbow"
        },
        {
         "text": "Seismic",
         "value": "seismic"
        },
        {
         "text": "Reversed: Gray",
         "value": "gray_r"
        },
        {
         "text": "Reversed: Viridis",
         "value": "viridis_r"
        },
        {
         "text": "Reversed: Plasma",
         "value": "plasma_r"
        },
        {
         "text": "Reversed: Inferno",
         "value": "inferno_r"
        },
        {
         "text": "Reversed: Magma",
         "value": "magma_r"
        },
        {
         "text": "Reversed: Hot",
         "value": "hot_r"
        },
        {
         "text": "Reversed: Rainbow",
         "value": "rainbow_r"
        }
       ],
       "components": null,
       "css": null,
       "data": null,
       "events": [
        "set_colormap"
       ],
       "glue_state": {
        "alpha": 0.32,
        "attribute": "611cfa3b-ebb5-42d2-b5c7-ba9bce8b51a4",
        "bias": 0.39,
        "bitmap_visible": true,
        "c_max": 836.2129516601562,
        "c_min": 0.0,
        "cmap": "gray",
        "color": "#cc7ace",
        "contour_colors": [
         "red",
         "orange",
         "yellow",
         "green",
         "blue"
        ],
        "contour_percentile": 100,
        "contour_visible": false,
        "contrast": 0.69,
        "global_sync": false,
        "labels": [
         "139.4",
         "278.7",
         "418.1",
         "557.5",
         "696.8"
        ],
        "layer": "611cfa3b-ebb5-42d2-b5c7-ba9bce8b51a4",
        "level_mode": "Linear",
        "levels": [
         139.36882527669272,
         278.73765055338544,
         418.1064758300781,
         557.4753011067709,
         696.8441263834636
        ],
        "n_levels": 5,
        "percentile": "Custom",
        "stretch": "linear",
        "v_max": 4.0,
        "v_min": 0.5568695947527885,
        "visible": true,
        "zorder": 1
       },
       "has_contour": true,
       "layout": "IPY_MODEL_8919372f1ac5405abd92387fa7d6c9b4",
       "methods": null,
       "percentile_items": [
        {
         "text": "Min/Max",
         "value": 0
        },
        {
         "text": "99.5%",
         "value": 1
        },
        {
         "text": "99%",
         "value": 2
        },
        {
         "text": "95%",
         "value": 3
        },
        {
         "text": "90%",
         "value": 4
        },
        {
         "text": "Custom",
         "value": 5
        }
       ],
       "percentile_selected": 5,
       "stretch_items": [
        {
         "text": "Linear",
         "value": 0
        },
        {
         "text": "Square Root",
         "value": 1
        },
        {
         "text": "Arcsinh",
         "value": 2
        },
        {
         "text": "Logarithmic",
         "value": 3
        }
       ],
       "stretch_selected": 0,
       "tabbable": null,
       "template": "IPY_MODEL_c96086e872174c0da0a6b7ea39154936",
       "tooltip": null
      }
     },
     "0d6a97ce113a479eb06ceb607a47f1c2": {
      "model_module": "jupyter-vue",
      "model_module_version": "^1.10.1",
      "model_name": "TemplateModel",
      "state": {
       "_model_module": "jupyter-vue",
       "_model_module_version": "^1.10.1",
       "_model_name": "TemplateModel",
       "_view_count": null,
       "_view_module": null,
       "_view_module_version": "",
       "_view_name": null,
       "template": "<template>\n  <j-tray-plugin  \n    description=\"Rotate viewer canvas to any orientation (note: this does not affect the underlying data).\"\n    :link=\"docs_link || 'https://jdaviz.readthedocs.io/en/'+vdocs+'/'+config+'/plugins.html#canvas-rotation'\"\n    :disabled_msg=\"isChromium() ? '' : 'Image rotation is not supported by your browser. Please see our docs for more information.'\"\n    :popout_button=\"popout_button\">\n    <plugin-viewer-select\n      :items=\"viewer_items\"\n      :selected.sync=\"viewer_selected\"\n      label=\"Viewer\"\n      hint=\"Select viewer.\"\n    />\n\n    <v-row>\n      <span style=\"line-height: 36px\">Presets:</span>\n      <j-tooltip tooltipcontent=\"reset rotation and flip\">\n        <v-btn icon @click=\"reset\">\n          <v-icon>mdi-restore</v-icon>\n        </v-btn>\n      </j-tooltip>\n      <j-tooltip v-if=\"has_wcs\" tooltipcontent=\"north up, east right\">\n        <v-btn icon @click=\"set_north_up_east_right\">\n          <img :src=\"icon_nuer\" width=\"24\" class=\"invert-if-dark\" style=\"opacity: 0.65\"/>\n        </v-btn>\n      </j-tooltip>\n      <j-tooltip v-if=\"has_wcs\" tooltipcontent=\"north up, east left\">\n        <v-btn icon @click=\"set_north_up_east_left\">\n          <img :src=\"icon_nuel\" width=\"24\" class=\"invert-if-dark\" style=\"opacity: 0.65\"/>\n        </v-btn>\n      </j-tooltip>\n    </v-row>\n    \n    <v-row>\n      <v-slider\n        v-model=\"angle\"\n        class=\"align-center\"\n        max=\"180\"\n        min=\"-180\"\n        step=\"1\"\n        color=\"#00617E\"\n        track-color=\"#00617E\"\n        thumb-color=\"#153A4B\"\n        hide-details\n      >\n      </v-slider>\n    </v-row>\n\n    <v-row>\n      <v-col>\n        <v-text-field\n          v-model.number=\"angle\"\n          type=\"number\"\n          label=\"Angle\"\n          hint=\"Rotation angle in degrees clockwise\"\n        ></v-text-field>\n      </v-col>\n    </v-row>\n\n    <v-row>\n      <v-switch v-model=\"flip_horizontal\" label=\"Flip horizontally after rotation\"></v-switch>\n    </v-row>\n\n  </j-tray-plugin>\n</template>\n\n<script>\nmodule.exports = {\n  methods: {\n    isChromium() {\n      try {\n        for (brand_version_pair of navigator.userAgentData.brands) {\n            if (brand_version_pair.brand == \"Chromium\"){\n                return true;\n            }\n        }\n        return false;\n      }\n      catch {\n        return false\n      }\n    }\n  }\n}\n</script>"
      }
     },
     "0e7e9c0f5373422fb9584502a2fa49ff": {
      "buffers": [
       {
        "data": "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",
        "encoding": "base64",
        "path": [
         "value"
        ]
       }
      ],
      "model_module": "@jupyter-widgets/controls",
      "model_module_version": "2.0.0",
      "model_name": "ImageModel",
      "state": {
       "_dom_classes": [],
       "_model_module": "@jupyter-widgets/controls",
       "_model_module_version": "2.0.0",
       "_model_name": "ImageModel",
       "_view_count": null,
       "_view_module": "@jupyter-widgets/controls",
       "_view_module_version": "2.0.0",
       "_view_name": "ImageView",
       "format": "svg+xml",
       "height": "",
       "layout": "IPY_MODEL_c64577afcfcb4edea0da977a5bb3b483",
       "tabbable": null,
       "tooltip": null,
       "width": "20"
      }
     },
     "0e8ef88eeba64b9fbefff8a62eb4fca4": {
      "model_module": "@jupyter-widgets/base",
      "model_module_version": "2.0.0",
      "model_name": "LayoutModel",
      "state": {
       "_model_module": "@jupyter-widgets/base",
       "_model_module_version": "2.0.0",
       "_model_name": "LayoutModel",
       "_view_count": null,
       "_view_module": "@jupyter-widgets/base",
       "_view_module_version": "2.0.0",
       "_view_name": "LayoutView",
       "align_content": null,
       "align_items": null,
       "align_self": null,
       "border_bottom": null,
       "border_left": null,
       "border_right": null,
       "border_top": null,
       "bottom": null,
       "display": null,
       "flex": null,
       "flex_flow": null,
       "grid_area": null,
       "grid_auto_columns": null,
       "grid_auto_flow": null,
       "grid_auto_rows": null,
       "grid_column": null,
       "grid_gap": null,
       "grid_row": null,
       "grid_template_areas": null,
       "grid_template_columns": null,
       "grid_template_rows": null,
       "height": null,
       "justify_content": null,
       "justify_items": null,
       "left": null,
       "margin": null,
       "max_height": null,
       "max_width": null,
       "min_height": null,
       "min_width": null,
       "object_fit": null,
       "object_position": null,
       "order": null,
       "overflow": null,
       "padding": null,
       "right": null,
       "top": null,
       "visibility": null,
       "width": null
      }
     },
     "0f438c6732dd48ddaec78e9115d310f3": {
      "model_module": "@jupyter-widgets/base",
      "model_module_version": "2.0.0",
      "model_name": "LayoutModel",
      "state": {
       "_model_module": "@jupyter-widgets/base",
       "_model_module_version": "2.0.0",
       "_model_name": "LayoutModel",
       "_view_count": null,
       "_view_module": "@jupyter-widgets/base",
       "_view_module_version": "2.0.0",
       "_view_name": "LayoutView",
       "align_content": null,
       "align_items": null,
       "align_self": null,
       "border_bottom": null,
       "border_left": null,
       "border_right": null,
       "border_top": null,
       "bottom": null,
       "display": null,
       "flex": null,
       "flex_flow": null,
       "grid_area": null,
       "grid_auto_columns": null,
       "grid_auto_flow": null,
       "grid_auto_rows": null,
       "grid_column": null,
       "grid_gap": null,
       "grid_row": null,
       "grid_template_areas": null,
       "grid_template_columns": null,
       "grid_template_rows": null,
       "height": null,
       "justify_content": null,
       "justify_items": null,
       "left": null,
       "margin": null,
       "max_height": null,
       "max_width": null,
       "min_height": null,
       "min_width": null,
       "object_fit": null,
       "object_position": null,
       "order": null,
       "overflow": null,
       "padding": null,
       "right": null,
       "top": null,
       "visibility": null,
       "width": null
      }
     },
     "1010a51a9b1041e282a8493c1bc076ff": {
      "model_module": "bqplot",
      "model_module_version": "^0.5",
      "model_name": "AxisModel",
      "state": {
       "_model_module": "bqplot",
       "_model_module_version": "^0.5",
       "_model_name": "AxisModel",
       "_view_count": null,
       "_view_module": "bqplot",
       "_view_module_version": "^0.5",
       "_view_name": "Axis",
       "color": null,
       "grid_color": null,
       "grid_lines": "solid",
       "label": "x",
       "label_color": null,
       "label_location": "middle",
       "label_offset": null,
       "num_ticks": null,
       "offset": {},
       "orientation": "horizontal",
       "scale": "IPY_MODEL_e015c5b819634e5aac30aa66bd381f0b",
       "side": null,
       "tick_format": null,
       "tick_labels": {},
       "tick_rotate": 0,
       "tick_style": {},
       "tick_values": null,
       "visible": true
      }
     },
     "104046916beb4a4e8c13e01aaf8f1ed0": {
      "model_module": "@jupyter-widgets/controls",
      "model_module_version": "2.0.0",
      "model_name": "SelectModel",
      "state": {
       "_dom_classes": [],
       "_model_module": "@jupyter-widgets/controls",
       "_model_module_version": "2.0.0",
       "_model_name": "SelectModel",
       "_options_labels": [
        "../",
        "imviz_rgb_carina.ipynb",
        "requirements.txt"
       ],
       "_view_count": null,
       "_view_module": "@jupyter-widgets/controls",
       "_view_module_version": "2.0.0",
       "_view_name": "SelectView",
       "description": "",
       "description_allow_html": false,
       "disabled": false,
       "index": null,
       "layout": "IPY_MODEL_86a4de0bc75d40beba999568e72b5704",
       "rows": 8,
       "style": "IPY_MODEL_b0c146e103a04b96b6cd05cab0672170",
       "tabbable": null,
       "tooltip": null
      }
     },
     "10d1a7a522bc411c9ae78cfc686f92ed": {
      "model_module": "jupyter-vuetify",
      "model_module_version": "^1.8.10",
      "model_name": "VuetifyTemplateModel",
      "state": {
       "_component_instances": [],
       "_dom_classes": [],
       "_jupyter_vue": "IPY_MODEL_28c992a30e9e48598df49b24e8922228",
       "_model_module": "jupyter-vuetify",
       "_model_module_version": "^1.8.10",
       "_model_name": "VuetifyTemplateModel",
       "_view_count": null,
       "_view_module": "jupyter-vuetify",
       "_view_module_version": "^1.8.10",
       "_view_name": "VuetifyView",
       "angle": 0.0,
       "components": null,
       "config": "imviz",
       "css": null,
       "data": null,
       "disabled_msg": "",
       "docs_link": "",
       "events": [
        "plugin_ping",
        "reset",
        "set_north_up_east_left",
        "set_north_up_east_right"
       ],
       "flip_horizontal": false,
       "has_wcs": true,
       "icon_nuel": "data:image/svg+xml;base64,PD94bWwgdmVyc2lvbj0iMS4wIiBlbmNvZGluZz0iVVRGLTgiPz4KPHN2ZyBpZD0iTGF5ZXJfMSIgZGF0YS1uYW1lPSJMYXllciAxIiB4bWxucz0iaHR0cDovL3d3dy53My5vcmcvMjAwMC9zdmciIHZpZXdCb3g9IjAgMCAyNCAyNCI+CiAgPHBhdGggZD0ibTE4LjQ5LDEwLjYxdjguNTRoLTguNTR2LTIuMTRoNi40di02LjRoMi4xNCIvPgogIDxwYXRoIGQ9Im0xOC40OSw4LjhoLS44MmwtMS45LTIuNzljLS4wNi0uMS0uMTMtLjIyLS4yLS4zNi4wMS4xMS4wMi4yMy4wMi4zNnYyLjc5aC0uOTJ2LTQuNzhoLjg3bDEuODUsMi43NWMuMDguMTMuMTQuMjUuMi4zNi0uMDEtLjExLS4wMi0uMjMtLjAyLS4zNnYtMi43NWguOTJ2NC43OFoiLz4KICA8cGF0aCBkPSJtNC45MiwxOS4xNXYtNC43OGgzLjI3di44N2gtMi4zNHYxaDEuMzh2Ljg3aC0xLjM4djEuMTZoMi40OXYuODdoLTMuNDFaIi8+Cjwvc3ZnPg==",
       "icon_nuer": "data:image/svg+xml;base64,PD94bWwgdmVyc2lvbj0iMS4wIiBlbmNvZGluZz0iVVRGLTgiPz4KPHN2ZyBpZD0iTGF5ZXJfMSIgZGF0YS1uYW1lPSJMYXllciAxIiB4bWxucz0iaHR0cDovL3d3dy53My5vcmcvMjAwMC9zdmciIHZpZXdCb3g9IjAgMCAyNCAyNCI+CiAgPHBhdGggZD0ibTE0Ljg3LDE4LjY1SDYuMzJ2LTguNTRoMi4xNHY2LjRoNi40djIuMTQiLz4KICA8cGF0aCBkPSJtMTAuMTQsOC4xNmgtLjgybC0xLjktMi43OWMtLjA2LS4xLS4xMy0uMjItLjItLjM2LjAxLjExLjAyLjIzLjAyLjM2djIuNzloLS45MlYzLjM3aC44N2wxLjg1LDIuNzVjLjA4LjEzLjE0LjI1LjIuMzYtLjAxLS4xMS0uMDItLjIzLS4wMi0uMzZ2LTIuNzVoLjkydjQuNzhaIi8+CiAgPHBhdGggZD0ibTE2Ljg2LDE4LjY1di00Ljc4aDMuMjd2Ljg3aC0yLjM0djFoMS4zOHYuODdoLTEuMzh2MS4xNmgyLjQ5di44N2gtMy40MVoiLz4KPC9zdmc+",
       "is_active": false,
       "keep_active": false,
       "layout": "IPY_MODEL_f382676fff5046cba35d01929a208b90",
       "methods": null,
       "plugin_opened": false,
       "popout_button": "IPY_MODEL_d4671ef2daa04553abdd1caa45e8ae38",
       "tabbable": null,
       "template": "IPY_MODEL_0d6a97ce113a479eb06ceb607a47f1c2",
       "tooltip": null,
       "uses_active_status": false,
       "vdocs": "v3.7.0",
       "viewer_items": [
        {
         "icon": 1,
         "id": "imviz-0",
         "label": "imviz-0",
         "reference": "imviz-0"
        }
       ],
       "viewer_multiselect": false,
       "viewer_selected": "imviz-0"
      }
     },
     "10edf24cd5264efc8113513e95e6430a": {
      "model_module": "jupyter-vuetify",
      "model_module_version": "^1.8.5",
      "model_name": "ListItemTitleModel",
      "state": {
       "_dom_classes": [],
       "_events": [],
       "_jupyter_vue": "IPY_MODEL_28c992a30e9e48598df49b24e8922228",
       "_metadata": null,
       "_model_module": "jupyter-vuetify",
       "_model_module_version": "^1.8.5",
       "_model_name": "ListItemTitleModel",
       "_view_count": null,
       "_view_module": "jupyter-vuetify",
       "_view_module_version": "^1.8.5",
       "_view_name": "VuetifyView",
       "attributes": {},
       "children": [
        "xor"
       ],
       "class_": null,
       "layout": null,
       "slot": null,
       "style_": null,
       "tabbable": null,
       "tooltip": null,
       "v_model": "!!disabled!!",
       "v_on": null,
       "v_slots": []
      }
     },
     "12fe1e61197245119855418c7fc45bef": {
      "model_module": "jupyter-vue",
      "model_module_version": "^1.10.1",
      "model_name": "VueComponentModel",
      "state": {
       "_dom_classes": [],
       "_model_module": "jupyter-vue",
       "_model_module_version": "^1.10.1",
       "_model_name": "VueComponentModel",
       "_view_count": null,
       "_view_module": null,
       "_view_module_version": "",
       "_view_name": null,
       "component": "<template>\n  <div>\n    <plugin-auto-label\n      :value=\"label\"\n      @change=\"$emit('update:label', $event)\"\n      @update:value=\"$emit('update:label', $event)\"\n      :default=\"label_default\"\n      :auto=\"label_auto\"\n      @update:auto=\"$emit('update:label_auto', $event)\"\n      :invalid_msg=\"label_invalid_msg\"\n      :label=\"label_label ? label_label : 'Output Data Label'\"\n      :hint=\"label_hint ? label_hint : 'Label for the resulting data item.'\"\n    ></plugin-auto-label>   \n\n    <div v-if=\"add_to_viewer_items.length > 2\">\n      <v-switch v-if=\"label_overwrite\"\n        class=\"hide-input\"\n        label=\"Show in viewers\"\n        :disabled=\"true\"\n        :hint=\"'Visibility of the modified entry will be adopted from the current \\''+label+'\\' data entry.'\"\n        persistent-hint\n      >\n      </v-switch>\n      <plugin-viewer-select v-else\n        :items=\"add_to_viewer_items\"\n        :selected=\"add_to_viewer_selected\"\n        @update:selected=\"$emit('update:add_to_viewer_selected', $event)\"\n        show_if_single_entry=\"true\"\n        label='Plot in Viewer'\n        :hint=\"add_to_viewer_hint ? add_to_viewer_hint : 'Plot results in the specified viewer.  Data entry will be available in the data dropdown for all applicable viewers.'\"\n      ></plugin-viewer-select>\n    </div>\n\n    <v-row v-else>\n      <v-switch v-if=\"label_overwrite\"\n        class=\"hide-input\"\n        :label=\"'Show in '+add_to_viewer_items[1].label\"\n        :disabled=\"true\"\n        :hint=\"'Visibility of the modified entry will be adopted from the current \\''+label+'\\' data entry.'\"\n        persistent-hint\n      >\n      </v-switch>\n      <v-switch v-else\n        v-model=\"add_to_viewer_selected == this.add_to_viewer_items[1].label\"\n        @change=\"(e) => {$emit('update:add_to_viewer_selected', this.$props.add_to_viewer_items[Number(e)].label)}\"\n        :label=\"'Show in '+add_to_viewer_items[1].label\"\n        hint='Immediately plot results.  Data entry will be available to toggle in the data dropdown'\n        persistent-hint\n      >\n      </v-switch>\n    </v-row>\n\n    <slot></slot>\n\n    <v-row justify=\"end\">\n      <j-tooltip :tooltipcontent=\"label_overwrite ? action_tooltip+' and replace existing entry' : action_tooltip\">\n        <v-btn :disabled=\"label_invalid_msg.length > 0 || action_disabled\"\n          text\n          color=\"accent\"\n          @click=\"$emit('click:action')\"\n        >{{action_label}}{{label_overwrite ? ' (Overwrite)' : ''}}\n        </v-btn>\n      </j-tooltip>\n    </v-row>\n  </div>\n</template>\n\n<style scoped>\n  .hide-input .v-input--selection-controls__input {\n    opacity: 0;\n  }\n</style>\n\n<script>\nmodule.exports = {\n  props: ['label', 'label_default', 'label_auto', 'label_invalid_msg', 'label_overwrite', 'label_label', 'label_hint',\n          'add_to_viewer_items', 'add_to_viewer_selected', 'add_to_viewer_hint',\n          'action_disabled', 'action_label', 'action_tooltip']\n};\n</script>\n",
       "layout": "IPY_MODEL_f3ef4e6c5ede474c81762a6a8fcd6139",
       "name": "plugin-add-results",
       "tabbable": null,
       "tooltip": null
      }
     },
     "13a0a9a3b770480a99fd55866eacf084": {
      "model_module": "jupyter-vuetify",
      "model_module_version": "^1.8.10",
      "model_name": "VuetifyTemplateModel",
      "state": {
       "_component_instances": [],
       "_dom_classes": [],
       "_jupyter_vue": "IPY_MODEL_28c992a30e9e48598df49b24e8922228",
       "_model_module": "jupyter-vuetify",
       "_model_module_version": "^1.8.10",
       "_model_name": "VuetifyTemplateModel",
       "_view_count": null,
       "_view_module": "jupyter-vuetify",
       "_view_module_version": "^1.8.10",
       "_view_name": "VuetifyView",
       "available": [],
       "components": null,
       "css": null,
       "data": null,
       "events": [
        "remove_subset"
       ],
       "layout": "IPY_MODEL_e2f7e4a678a942dc8c3f9664576c3616",
       "methods": "{\n        toSubsets(indices) {\n            return indices.map(i => this.available[i]);\n        },\n        deselect() {\n            this.multiple = false;\n            this.selected = [];\n        },\n        toggleSubset(index) {\n            this.selected = this.selected.includes(index)\n                ? this.selected.filter(x => x != index)\n                : this.selected.concat(index);\n            this.handleMultiple();\n        },\n        handleMultiple() {\n            if (!this.multiple && this.selected.length > 1) {\n                this.selected = [this.selected.pop()];\n            }\n        }\n    }",
       "multiple": false,
       "no_selection_text": "No selection (create new)",
       "nr_of_full_names": 2,
       "selected": [],
       "show_allow_multiple_subsets": false,
       "tabbable": null,
       "template": "IPY_MODEL_384413b78a4644fc91d906f433572f45",
       "tooltip": null
      }
     },
     "141432e37d854784a70d9b3e538d1470": {
      "model_module": "bqplot",
      "model_module_version": "^0.5",
      "model_name": "LinearScaleModel",
      "state": {
       "_model_module": "bqplot",
       "_model_module_version": "^0.5",
       "_model_name": "LinearScaleModel",
       "_view_count": null,
       "_view_module": "bqplot",
       "_view_module_version": "^0.5",
       "_view_name": "LinearScale",
       "allow_padding": true,
       "max": null,
       "mid_range": 0.8,
       "min": null,
       "min_range": 0.6,
       "reverse": false,
       "stabilized": false
      }
     },
     "141949bb5a2f48ba89322fbe6e17ca4b": {
      "model_module": "@jupyter-widgets/controls",
      "model_module_version": "2.0.0",
      "model_name": "DescriptionStyleModel",
      "state": {
       "_model_module": "@jupyter-widgets/controls",
       "_model_module_version": "2.0.0",
       "_model_name": "DescriptionStyleModel",
       "_view_count": null,
       "_view_module": "@jupyter-widgets/base",
       "_view_module_version": "2.0.0",
       "_view_name": "StyleView",
       "description_width": ""
      }
     },
     "1466241de05a497cb0ab95bd3c9e152a": {
      "model_module": "jupyter-vuetify",
      "model_module_version": "^1.8.10",
      "model_name": "VuetifyTemplateModel",
      "state": {
       "_component_instances": [],
       "_dom_classes": [],
       "_jupyter_vue": "IPY_MODEL_28c992a30e9e48598df49b24e8922228",
       "_model_module": "jupyter-vuetify",
       "_model_module_version": "^1.8.10",
       "_model_name": "VuetifyTemplateModel",
       "_view_count": null,
       "_view_module": "jupyter-vuetify",
       "_view_module_version": "^1.8.10",
       "_view_name": "VuetifyView",
       "canvas_angle": 0.0,
       "canvas_flip_horizontal": false,
       "components": null,
       "config": "imviz",
       "css": null,
       "data": null,
       "data_label": "",
       "disabled_msg": "",
       "docs_link": "",
       "events": [
        "plugin_ping"
       ],
       "icon": "",
       "img_data": "",
       "is_active": false,
       "keep_active": false,
       "layout": "IPY_MODEL_1d0786455434489293c456a83ff380a3",
       "methods": null,
       "plugin_opened": false,
       "popout_button": "IPY_MODEL_cbe6c358c73541eca4fd0168417a8e9e",
       "tabbable": null,
       "template": "IPY_MODEL_f662553081cc49c1a6664234153e2a3b",
       "tooltip": null,
       "uses_active_status": true,
       "vdocs": "v3.7.0",
       "viewer_items": [
        {
         "icon": 1,
         "id": "imviz-0",
         "label": "imviz-0",
         "reference": "imviz-0"
        }
       ],
       "viewer_multiselect": false,
       "viewer_selected": "imviz-0"
      }
     },
     "149dcd9ca9904275b8b08770cd041e2f": {
      "buffers": [
       {
        "data": "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",
        "encoding": "base64",
        "path": [
         "value"
        ]
       }
      ],
      "model_module": "@jupyter-widgets/controls",
      "model_module_version": "2.0.0",
      "model_name": "ImageModel",
      "state": {
       "_dom_classes": [],
       "_model_module": "@jupyter-widgets/controls",
       "_model_module_version": "2.0.0",
       "_model_name": "ImageModel",
       "_view_count": null,
       "_view_module": "@jupyter-widgets/controls",
       "_view_module_version": "2.0.0",
       "_view_name": "ImageView",
       "format": "svg+xml",
       "height": "",
       "layout": "IPY_MODEL_f1ec0a55d9f04a61b374484da4e7c072",
       "tabbable": null,
       "tooltip": null,
       "width": "20"
      }
     },
     "149fe3cdacf54a049782bce75ee43490": {
      "model_module": "@jupyter-widgets/base",
      "model_module_version": "2.0.0",
      "model_name": "LayoutModel",
      "state": {
       "_model_module": "@jupyter-widgets/base",
       "_model_module_version": "2.0.0",
       "_model_name": "LayoutModel",
       "_view_count": null,
       "_view_module": "@jupyter-widgets/base",
       "_view_module_version": "2.0.0",
       "_view_name": "LayoutView",
       "align_content": null,
       "align_items": null,
       "align_self": null,
       "border_bottom": null,
       "border_left": null,
       "border_right": null,
       "border_top": null,
       "bottom": null,
       "display": null,
       "flex": null,
       "flex_flow": null,
       "grid_area": null,
       "grid_auto_columns": null,
       "grid_auto_flow": null,
       "grid_auto_rows": null,
       "grid_column": null,
       "grid_gap": null,
       "grid_row": null,
       "grid_template_areas": null,
       "grid_template_columns": null,
       "grid_template_rows": null,
       "height": null,
       "justify_content": null,
       "justify_items": null,
       "left": null,
       "margin": null,
       "max_height": null,
       "max_width": null,
       "min_height": null,
       "min_width": null,
       "object_fit": null,
       "object_position": null,
       "order": null,
       "overflow": null,
       "padding": null,
       "right": null,
       "top": null,
       "visibility": null,
       "width": null
      }
     },
     "1514cd97aabe485c95ba4765a67f1ded": {
      "model_module": "@jupyter-widgets/base",
      "model_module_version": "2.0.0",
      "model_name": "LayoutModel",
      "state": {
       "_model_module": "@jupyter-widgets/base",
       "_model_module_version": "2.0.0",
       "_model_name": "LayoutModel",
       "_view_count": null,
       "_view_module": "@jupyter-widgets/base",
       "_view_module_version": "2.0.0",
       "_view_name": "LayoutView",
       "align_content": null,
       "align_items": null,
       "align_self": null,
       "border_bottom": null,
       "border_left": null,
       "border_right": null,
       "border_top": null,
       "bottom": null,
       "display": null,
       "flex": null,
       "flex_flow": null,
       "grid_area": "pathlist",
       "grid_auto_columns": null,
       "grid_auto_flow": null,
       "grid_auto_rows": null,
       "grid_column": null,
       "grid_gap": null,
       "grid_row": null,
       "grid_template_areas": null,
       "grid_template_columns": null,
       "grid_template_rows": null,
       "height": null,
       "justify_content": null,
       "justify_items": null,
       "left": null,
       "margin": null,
       "max_height": null,
       "max_width": null,
       "min_height": null,
       "min_width": null,
       "object_fit": null,
       "object_position": null,
       "order": null,
       "overflow": null,
       "padding": null,
       "right": null,
       "top": null,
       "visibility": null,
       "width": "auto"
      }
     },
     "152e536ef5f34ee99df78da9d5a4af0b": {
      "model_module": "bqplot",
      "model_module_version": "^0.5",
      "model_name": "AxisModel",
      "state": {
       "_model_module": "bqplot",
       "_model_module_version": "^0.5",
       "_model_name": "AxisModel",
       "_view_count": null,
       "_view_module": "bqplot",
       "_view_module_version": "^0.5",
       "_view_name": "Axis",
       "color": null,
       "grid_color": null,
       "grid_lines": "solid",
       "label": "y",
       "label_color": null,
       "label_location": "middle",
       "label_offset": null,
       "num_ticks": null,
       "offset": {},
       "orientation": "vertical",
       "scale": "IPY_MODEL_e084a42c01ed49b5b5f3757af7cc1164",
       "side": null,
       "tick_format": null,
       "tick_labels": {},
       "tick_rotate": 0,
       "tick_style": {},
       "tick_values": null,
       "visible": true
      }
     },
     "174aa09559ad408692dfd0777a99fca4": {
      "model_module": "bqplot-image-gl",
      "model_module_version": "^1.4.11",
      "model_name": "MouseInteractionModel",
      "state": {
       "_model_module": "bqplot-image-gl",
       "_model_module_version": "^1.4.11",
       "_model_name": "MouseInteractionModel",
       "_view_count": null,
       "_view_module": "bqplot-image-gl",
       "_view_module_version": "^1.4.11",
       "_view_name": "MouseInteraction",
       "cursor": "auto",
       "events": [
        "dragstart",
        "keydown",
        "mouseenter",
        "mouseleave",
        "mousemove"
       ],
       "move_throttle": 70,
       "next": null,
       "x_scale": "IPY_MODEL_e9d182703c7f421db9185b0e14f021b4",
       "y_scale": "IPY_MODEL_2575788ee3b245bca63f200cd5d496ce"
      }
     },
     "179b545b847b45ababf452348309ad23": {
      "model_module": "bqplot-image-gl",
      "model_module_version": "^1.4.11",
      "model_name": "ViewListenerModel",
      "state": {
       "_dom_classes": [],
       "_model_module": "bqplot-image-gl",
       "_model_module_version": "^1.4.11",
       "_model_name": "ViewListenerModel",
       "_view_count": null,
       "_view_module": "bqplot-image-gl",
       "_view_module_version": "^1.4.11",
       "_view_name": "ViewListener",
       "css_selector": ".plotarea_events",
       "layout": "IPY_MODEL_ec1b09a2a82840f4ada5e8e0172c0a43",
       "tabbable": null,
       "tooltip": null,
       "view_data": {},
       "widget": "IPY_MODEL_44eef25b86e6490dbee15ab26e8b1e82"
      }
     },
     "1aaf0129a7df4a54a67d6afff3119db7": {
      "model_module": "@jupyter-widgets/base",
      "model_module_version": "2.0.0",
      "model_name": "LayoutModel",
      "state": {
       "_model_module": "@jupyter-widgets/base",
       "_model_module_version": "2.0.0",
       "_model_name": "LayoutModel",
       "_view_count": null,
       "_view_module": "@jupyter-widgets/base",
       "_view_module_version": "2.0.0",
       "_view_name": "LayoutView",
       "align_content": null,
       "align_items": null,
       "align_self": null,
       "border_bottom": null,
       "border_left": null,
       "border_right": null,
       "border_top": null,
       "bottom": null,
       "display": null,
       "flex": null,
       "flex_flow": null,
       "grid_area": null,
       "grid_auto_columns": null,
       "grid_auto_flow": null,
       "grid_auto_rows": null,
       "grid_column": null,
       "grid_gap": null,
       "grid_row": null,
       "grid_template_areas": null,
       "grid_template_columns": null,
       "grid_template_rows": null,
       "height": null,
       "justify_content": null,
       "justify_items": null,
       "left": null,
       "margin": null,
       "max_height": null,
       "max_width": null,
       "min_height": null,
       "min_width": null,
       "object_fit": null,
       "object_position": null,
       "order": null,
       "overflow": null,
       "padding": null,
       "right": null,
       "top": null,
       "visibility": null,
       "width": null
      }
     },
     "1b0e4ccaf327476aa35054a01e66af05": {
      "model_module": "jupyter-vuetify",
      "model_module_version": "^1.8.5",
      "model_name": "ListItemActionModel",
      "state": {
       "_dom_classes": [],
       "_events": [],
       "_jupyter_vue": "IPY_MODEL_28c992a30e9e48598df49b24e8922228",
       "_metadata": null,
       "_model_module": "jupyter-vuetify",
       "_model_module_version": "^1.8.5",
       "_model_name": "ListItemActionModel",
       "_view_count": null,
       "_view_module": "jupyter-vuetify",
       "_view_module_version": "^1.8.5",
       "_view_name": "VuetifyView",
       "attributes": {},
       "children": [
        "IPY_MODEL_0e7e9c0f5373422fb9584502a2fa49ff"
       ],
       "class_": null,
       "layout": null,
       "slot": null,
       "style_": null,
       "tabbable": null,
       "tooltip": null,
       "v_model": "!!disabled!!",
       "v_on": null,
       "v_slots": []
      }
     },
     "1d0786455434489293c456a83ff380a3": {
      "model_module": "@jupyter-widgets/base",
      "model_module_version": "2.0.0",
      "model_name": "LayoutModel",
      "state": {
       "_model_module": "@jupyter-widgets/base",
       "_model_module_version": "2.0.0",
       "_model_name": "LayoutModel",
       "_view_count": null,
       "_view_module": "@jupyter-widgets/base",
       "_view_module_version": "2.0.0",
       "_view_name": "LayoutView",
       "align_content": null,
       "align_items": null,
       "align_self": null,
       "border_bottom": null,
       "border_left": null,
       "border_right": null,
       "border_top": null,
       "bottom": null,
       "display": null,
       "flex": null,
       "flex_flow": null,
       "grid_area": null,
       "grid_auto_columns": null,
       "grid_auto_flow": null,
       "grid_auto_rows": null,
       "grid_column": null,
       "grid_gap": null,
       "grid_row": null,
       "grid_template_areas": null,
       "grid_template_columns": null,
       "grid_template_rows": null,
       "height": null,
       "justify_content": null,
       "justify_items": null,
       "left": null,
       "margin": null,
       "max_height": null,
       "max_width": null,
       "min_height": null,
       "min_width": null,
       "object_fit": null,
       "object_position": null,
       "order": null,
       "overflow": null,
       "padding": null,
       "right": null,
       "top": null,
       "visibility": null,
       "width": null
      }
     },
     "1d6212a5babe4ef4a9464a6cc44a2701": {
      "model_module": "jupyter-vue",
      "model_module_version": "^1.10.1",
      "model_name": "VueComponentModel",
      "state": {
       "_dom_classes": [],
       "_model_module": "jupyter-vue",
       "_model_module_version": "^1.10.1",
       "_model_name": "VueComponentModel",
       "_view_count": null,
       "_view_module": null,
       "_view_module_version": "",
       "_view_name": null,
       "component": "<template>\n  <div>\n  <v-row v-if=\"items.length > 1 || selected.length===0 || show_if_single_entry\">\n    <v-select\n      :menu-props=\"{ left: true }\"\n      attach\n      :items=\"items\"\n      v-model=\"selected\"\n      @change=\"$emit('update:selected', $event)\"\n      :label=\"label ? label : 'Data'\"\n      :hint=\"hint ? hint : 'Select data.'\"\n      :rules=\"rules ? rules : []\"\n      item-text=\"label\"\n      item-value=\"label\"\n      persistent-hint\n    >\n    <template slot=\"selection\" slot-scope=\"data\">\n      <div class=\"single-line\">\n        <span>\n          <j-layer-viewer-icon v-if=\"data.item.icon\" span_style=\"margin-right: 4px\" :icon=\"data.item.icon\" :prevent_invert_if_dark=\"true\"></j-layer-viewer-icon>\n          {{ data.item.label }}\n        </span>\n      </div>\n    </template>\n    <template slot=\"item\" slot-scope=\"data\">\n      <div class=\"single-line\">\n        <span>\n          <j-layer-viewer-icon v-if=\"data.item.icon\" span_style=\"margin-right: 4px\" :icon=\"data.item.icon\" :prevent_invert_if_dark=\"true\"></j-layer-viewer-icon>\n          {{ data.item.label }}\n        </span>\n      </div>\n    </template>\n   </v-select>\n  </v-row>\n </div>\n</template>\n<script>\nmodule.exports = {\n  props: ['items', 'selected', 'label', 'hint', 'rules', 'show_if_single_entry']\n};\n</script>\n\n<style>\n  .v-select__selections {\n    flex-wrap: nowrap !important;\n  }\n  .single-line {\n      white-space: nowrap;\n      overflow: hidden;\n      text-overflow: ellipsis;\n  }\n</style>\n",
       "layout": "IPY_MODEL_3bdfe5f165d144d9a1a1199de3a4e51b",
       "name": "plugin-dataset-select",
       "tabbable": null,
       "tooltip": null
      }
     },
     "1d8f2fd7b233497ca31c4f1a7d330ce7": {
      "model_module": "jupyter-vuetify",
      "model_module_version": "^1.8.5",
      "model_name": "ListItemActionModel",
      "state": {
       "_dom_classes": [],
       "_events": [],
       "_jupyter_vue": "IPY_MODEL_28c992a30e9e48598df49b24e8922228",
       "_metadata": null,
       "_model_module": "jupyter-vuetify",
       "_model_module_version": "^1.8.5",
       "_model_name": "ListItemActionModel",
       "_view_count": null,
       "_view_module": "jupyter-vuetify",
       "_view_module_version": "^1.8.5",
       "_view_name": "VuetifyView",
       "attributes": {},
       "children": [
        "IPY_MODEL_5f585e57cc414c72be107f4d57081ef0"
       ],
       "class_": null,
       "layout": null,
       "slot": null,
       "style_": null,
       "tabbable": null,
       "tooltip": null,
       "v_model": "!!disabled!!",
       "v_on": null,
       "v_slots": []
      }
     },
     "1e6aff883596412e8ca76f4af4fc0085": {
      "model_module": "jupyter-vuetify",
      "model_module_version": "^1.8.5",
      "model_name": "ListItemActionModel",
      "state": {
       "_dom_classes": [],
       "_events": [],
       "_jupyter_vue": "IPY_MODEL_28c992a30e9e48598df49b24e8922228",
       "_metadata": null,
       "_model_module": "jupyter-vuetify",
       "_model_module_version": "^1.8.5",
       "_model_name": "ListItemActionModel",
       "_view_count": null,
       "_view_module": "jupyter-vuetify",
       "_view_module_version": "^1.8.5",
       "_view_name": "VuetifyView",
       "attributes": {},
       "children": [
        "IPY_MODEL_8f8ee6aaae0f43e9b4f4c7354d32033c"
       ],
       "class_": null,
       "layout": null,
       "slot": null,
       "style_": null,
       "tabbable": null,
       "tooltip": null,
       "v_model": "!!disabled!!",
       "v_on": null,
       "v_slots": []
      }
     },
     "1e79009775234791af497f5defd73275": {
      "model_module": "jupyter-vuetify",
      "model_module_version": "^1.8.5",
      "model_name": "ListItemTitleModel",
      "state": {
       "_dom_classes": [],
       "_events": [],
       "_jupyter_vue": "IPY_MODEL_28c992a30e9e48598df49b24e8922228",
       "_metadata": null,
       "_model_module": "jupyter-vuetify",
       "_model_module_version": "^1.8.5",
       "_model_name": "ListItemTitleModel",
       "_view_count": null,
       "_view_module": "jupyter-vuetify",
       "_view_module_version": "^1.8.5",
       "_view_name": "VuetifyView",
       "attributes": {},
       "children": [
        "xor"
       ],
       "class_": null,
       "layout": null,
       "slot": null,
       "style_": null,
       "tabbable": null,
       "tooltip": null,
       "v_model": "!!disabled!!",
       "v_on": null,
       "v_slots": []
      }
     },
     "202dd3a1cdf94fbdba63ae71d4f50ca6": {
      "model_module": "jupyter-vuetify",
      "model_module_version": "^1.8.10",
      "model_name": "VuetifyTemplateModel",
      "state": {
       "_component_instances": [],
       "_dom_classes": [],
       "_jupyter_vue": "IPY_MODEL_28c992a30e9e48598df49b24e8922228",
       "_model_module": "jupyter-vuetify",
       "_model_module_version": "^1.8.10",
       "_model_name": "VuetifyTemplateModel",
       "_view_count": null,
       "_view_module": "jupyter-vuetify",
       "_view_module_version": "^1.8.10",
       "_view_name": "VuetifyView",
       "components": null,
       "css": null,
       "data": null,
       "echo_available": true,
       "events": [],
       "is_displayed": false,
       "kernel_id": "",
       "layout": "IPY_MODEL_493c6d3346394d739bf34e3a354c5110",
       "methods": null,
       "open_tab_on_display": false,
       "open_window_on_display": false,
       "tabbable": null,
       "target_model_id": "e1118b880f7f425daeb918056e0d5818",
       "template": "IPY_MODEL_d55e72844de240529f76b5d1b37d37bf",
       "tooltip": null,
       "window_features": "popup,width=800,height=300",
       "window_name": "e1118b880f7f425daeb918056e0d5818"
      }
     },
     "208af50f8b2d482bbe6163c3c5f7cb37": {
      "model_module": "bqplot",
      "model_module_version": "^0.5",
      "model_name": "LinearScaleModel",
      "state": {
       "_model_module": "bqplot",
       "_model_module_version": "^0.5",
       "_model_name": "LinearScaleModel",
       "_view_count": null,
       "_view_module": "bqplot",
       "_view_module_version": "^0.5",
       "_view_name": "LinearScale",
       "allow_padding": false,
       "max": 1.0,
       "mid_range": 0.8,
       "min": 0.0,
       "min_range": 0.6,
       "reverse": false,
       "stabilized": false
      }
     },
     "21a45ec86f364c0ea80d0cba770ec864": {
      "model_module": "bqplot",
      "model_module_version": "^0.5",
      "model_name": "AxisModel",
      "state": {
       "_model_module": "bqplot",
       "_model_module_version": "^0.5",
       "_model_name": "AxisModel",
       "_view_count": null,
       "_view_module": "bqplot",
       "_view_module_version": "^0.5",
       "_view_name": "Axis",
       "color": null,
       "grid_color": null,
       "grid_lines": "solid",
       "label": "density",
       "label_color": null,
       "label_location": "middle",
       "label_offset": null,
       "num_ticks": 2,
       "offset": {},
       "orientation": "vertical",
       "scale": "IPY_MODEL_f719a5ca4e094dc0b200b99aa2521603",
       "side": null,
       "tick_format": null,
       "tick_labels": {},
       "tick_rotate": 0,
       "tick_style": {},
       "tick_values": null,
       "visible": true
      }
     },
     "232d82903e7040f684bd69de2a5ff90f": {
      "model_module": "bqplot-image-gl",
      "model_module_version": "^1.4.11",
      "model_name": "BrushEllipseSelectorModel",
      "state": {
       "_model_module": "bqplot-image-gl",
       "_model_module_version": "^1.4.11",
       "_model_name": "BrushEllipseSelectorModel",
       "_view_count": null,
       "_view_module": "bqplot-image-gl",
       "_view_module_version": "^1.4.11",
       "_view_name": "BrushEllipseSelector",
       "border_style": {
        "cursor": "col-resize",
        "fill": "#cbcbcb",
        "opacity": 0.3,
        "stroke": "#cbcbcb",
        "stroke-width": "3px"
       },
       "brushing": false,
       "clear": false,
       "color": null,
       "marks": [],
       "pixel_aspect": 1.0,
       "selected_x": null,
       "selected_y": null,
       "style": {
        "cursor": "grab",
        "fill": "#cbcbcb",
        "opacity": 0.3
       },
       "x_scale": "IPY_MODEL_e9d182703c7f421db9185b0e14f021b4",
       "y_scale": "IPY_MODEL_2575788ee3b245bca63f200cd5d496ce"
      }
     },
     "2396f099e18d44988a970046d8d51576": {
      "model_module": "@jupyter-widgets/base",
      "model_module_version": "2.0.0",
      "model_name": "LayoutModel",
      "state": {
       "_model_module": "@jupyter-widgets/base",
       "_model_module_version": "2.0.0",
       "_model_name": "LayoutModel",
       "_view_count": null,
       "_view_module": "@jupyter-widgets/base",
       "_view_module_version": "2.0.0",
       "_view_name": "LayoutView",
       "align_content": null,
       "align_items": null,
       "align_self": null,
       "border_bottom": null,
       "border_left": null,
       "border_right": null,
       "border_top": null,
       "bottom": null,
       "display": null,
       "flex": null,
       "flex_flow": null,
       "grid_area": null,
       "grid_auto_columns": null,
       "grid_auto_flow": null,
       "grid_auto_rows": null,
       "grid_column": null,
       "grid_gap": null,
       "grid_row": null,
       "grid_template_areas": null,
       "grid_template_columns": null,
       "grid_template_rows": null,
       "height": null,
       "justify_content": null,
       "justify_items": null,
       "left": null,
       "margin": null,
       "max_height": null,
       "max_width": null,
       "min_height": null,
       "min_width": null,
       "object_fit": null,
       "object_position": null,
       "order": null,
       "overflow": null,
       "padding": null,
       "right": null,
       "top": null,
       "visibility": null,
       "width": null
      }
     },
     "24a8a65e45a64a918c6036020b80c900": {
      "model_module": "@jupyter-widgets/base",
      "model_module_version": "2.0.0",
      "model_name": "LayoutModel",
      "state": {
       "_model_module": "@jupyter-widgets/base",
       "_model_module_version": "2.0.0",
       "_model_name": "LayoutModel",
       "_view_count": null,
       "_view_module": "@jupyter-widgets/base",
       "_view_module_version": "2.0.0",
       "_view_name": "LayoutView",
       "align_content": null,
       "align_items": null,
       "align_self": null,
       "border_bottom": null,
       "border_left": null,
       "border_right": null,
       "border_top": null,
       "bottom": null,
       "display": null,
       "flex": null,
       "flex_flow": null,
       "grid_area": null,
       "grid_auto_columns": null,
       "grid_auto_flow": null,
       "grid_auto_rows": null,
       "grid_column": null,
       "grid_gap": null,
       "grid_row": null,
       "grid_template_areas": null,
       "grid_template_columns": null,
       "grid_template_rows": null,
       "height": null,
       "justify_content": null,
       "justify_items": null,
       "left": null,
       "margin": null,
       "max_height": null,
       "max_width": null,
       "min_height": null,
       "min_width": null,
       "object_fit": null,
       "object_position": null,
       "order": null,
       "overflow": null,
       "padding": null,
       "right": null,
       "top": null,
       "visibility": null,
       "width": null
      }
     },
     "25568b53542641eab83f6b723c9a8f18": {
      "model_module": "@jupyter-widgets/base",
      "model_module_version": "2.0.0",
      "model_name": "LayoutModel",
      "state": {
       "_model_module": "@jupyter-widgets/base",
       "_model_module_version": "2.0.0",
       "_model_name": "LayoutModel",
       "_view_count": null,
       "_view_module": "@jupyter-widgets/base",
       "_view_module_version": "2.0.0",
       "_view_name": "LayoutView",
       "align_content": null,
       "align_items": null,
       "align_self": null,
       "border_bottom": null,
       "border_left": null,
       "border_right": null,
       "border_top": null,
       "bottom": null,
       "display": null,
       "flex": null,
       "flex_flow": null,
       "grid_area": null,
       "grid_auto_columns": null,
       "grid_auto_flow": null,
       "grid_auto_rows": null,
       "grid_column": null,
       "grid_gap": null,
       "grid_row": null,
       "grid_template_areas": null,
       "grid_template_columns": null,
       "grid_template_rows": null,
       "height": null,
       "justify_content": null,
       "justify_items": null,
       "left": null,
       "margin": null,
       "max_height": null,
       "max_width": null,
       "min_height": null,
       "min_width": null,
       "object_fit": null,
       "object_position": null,
       "order": null,
       "overflow": null,
       "padding": null,
       "right": null,
       "top": null,
       "visibility": null,
       "width": null
      }
     },
     "2575788ee3b245bca63f200cd5d496ce": {
      "model_module": "bqplot",
      "model_module_version": "^0.5",
      "model_name": "LinearScaleModel",
      "state": {
       "_model_module": "bqplot",
       "_model_module_version": "^0.5",
       "_model_name": "LinearScaleModel",
       "_view_count": null,
       "_view_module": "bqplot",
       "_view_module_version": "^0.5",
       "_view_name": "LinearScale",
       "allow_padding": true,
       "max": 8420.5,
       "mid_range": 0.8,
       "min": -0.5,
       "min_range": 0.6,
       "reverse": false,
       "stabilized": false
      }
     },
     "2585d14b9f984711974bede6dc5f5375": {
      "model_module": "bqplot",
      "model_module_version": "^0.5",
      "model_name": "AxisModel",
      "state": {
       "_model_module": "bqplot",
       "_model_module_version": "^0.5",
       "_model_name": "AxisModel",
       "_view_count": null,
       "_view_module": "bqplot",
       "_view_module_version": "^0.5",
       "_view_name": "Axis",
       "color": null,
       "grid_color": null,
       "grid_lines": "solid",
       "label": "Y (pix)",
       "label_color": null,
       "label_location": "middle",
       "label_offset": null,
       "num_ticks": null,
       "offset": {},
       "orientation": "horizontal",
       "scale": "IPY_MODEL_141432e37d854784a70d9b3e538d1470",
       "side": null,
       "tick_format": null,
       "tick_labels": {},
       "tick_rotate": 0,
       "tick_style": {},
       "tick_values": null,
       "visible": true
      }
     },
     "275d732b14f34abd9d9b2ea07f2b1ad7": {
      "model_module": "jupyter-vuetify",
      "model_module_version": "^1.8.10",
      "model_name": "VuetifyTemplateModel",
      "state": {
       "_component_instances": [],
       "_dom_classes": [],
       "_jupyter_vue": "IPY_MODEL_28c992a30e9e48598df49b24e8922228",
       "_model_module": "jupyter-vuetify",
       "_model_module_version": "^1.8.10",
       "_model_name": "VuetifyTemplateModel",
       "_view_count": null,
       "_view_module": "jupyter-vuetify",
       "_view_module_version": "^1.8.10",
       "_view_name": "VuetifyView",
       "active_tool_id": null,
       "close_on_click": false,
       "components": null,
       "css": null,
       "data": null,
       "events": [
        "select_primary"
       ],
       "layout": "IPY_MODEL_386405f610b44984baf8fb1cbe726db3",
       "methods": null,
       "show_suboptions": false,
       "suboptions_ind": 0,
       "suboptions_x": 0.0,
       "suboptions_y": 0.0,
       "tabbable": null,
       "template": "IPY_MODEL_c2b69cb4ab4a49638fc51810871154ea",
       "tools_data": {
        "bqplot:circannulus": {
         "has_suboptions": true,
         "img": "data:image/svg+xml;base64,PD94bWwgdmVyc2lvbj0iMS4wIiBlbmNvZGluZz0idXRmLTgiPz4KPCEtLSBHZW5lcmF0b3I6IEFkb2JlIElsbHVzdHJhdG9yIDI3LjUuMCwgU1ZHIEV4cG9ydCBQbHVnLUluIC4gU1ZHIFZlcnNpb246IDYuMDAgQnVpbGQgMCkgIC0tPgo8c3ZnIHZlcnNpb249IjEuMSIgaWQ9IkxheWVyXzEiIHhtbG5zPSJodHRwOi8vd3d3LnczLm9yZy8yMDAwL3N2ZyIgeG1sbnM6eGxpbms9Imh0dHA6Ly93d3cudzMub3JnLzE5OTkveGxpbmsiIHg9IjBweCIgeT0iMHB4IgoJIHZpZXdCb3g9IjAgMCA2NjQgNzAwIiBzdHlsZT0iZW5hYmxlLWJhY2tncm91bmQ6bmV3IDAgMCA2NjQgNzAwOyIgeG1sOnNwYWNlPSJwcmVzZXJ2ZSI+CjxjaXJjbGUgY3g9IjU1LjUiIGN5PSIxMDIuNiIgcj0iNDEuOCIvPgo8Y2lyY2xlIGN4PSIxOTcuNiIgY3k9IjU4LjQiIHI9IjQxLjgiLz4KPGNpcmNsZSBjeD0iMzg5LjQiIGN5PSIzMjEuMyIgcj0iNDEuOCIvPgo8Y2lyY2xlIGN4PSIzMzAuNSIgY3k9IjQ0OC42IiByPSI0MS44Ii8+CjxwYXRoIGQ9Ik0zNTQuMiw3NC43Yy0xNjksMC0zMDYsMTM3LTMwNiwzMDZzMTM3LDMwNiwzMDYsMzA2czMwNi0xMzcsMzA2LTMwNlM1MjMuMiw3NC43LDM1NC4yLDc0Ljd6IE0xMzEuNiw0NTMuNAoJYy0yMy4xLDAtNDEuOC0xOC43LTQxLjgtNDEuOHMxOC43LTQxLjgsNDEuOC00MS44YzIzLjEsMCw0MS44LDE4LjcsNDEuOCw0MS44UzE1NC43LDQ1My40LDEzMS42LDQ1My40eiBNMzU0LjIsNTQ2LjEKCWMtODIuNSwwLTE0OS4zLTc0LTE0OS4zLTE2NS40czY2LjktMTY1LjQsMTQ5LjMtMTY1LjRzMTQ5LjMsNzQsMTQ5LjMsMTY1LjRTNDM2LjYsNTQ2LjEsMzU0LjIsNTQ2LjF6Ii8+Cjwvc3ZnPgo=",
         "menu_ind": 3,
         "primary": false,
         "tooltip": "Define a circular annulus region of interest",
         "visible": true
        },
        "bqplot:ellipse": {
         "has_suboptions": true,
         "img": "data:image/svg+xml;base64,PHN2ZyBpZD0iTGF5ZXJfMSIgZGF0YS1uYW1lPSJMYXllciAxIiB4bWxucz0iaHR0cDovL3d3dy53My5vcmcvMjAwMC9zdmciIHZpZXdCb3g9IjAgMCAyMy41MyAyNC42NiI+PGRlZnM+PHN0eWxlPi5jbHMtMXtmaWxsOiMyMzFmMjA7fTwvc3R5bGU+PC9kZWZzPjxwYXRoIGNsYXNzPSJjbHMtMSIgZD0iTTEzLjQyLDcuMjdjLTUsMC05LDIuNzgtOSw2LjIyczQsNi4yMyw5LDYuMjMsOS0yLjc5LDktNi4yM1MxOC40LDcuMjcsMTMuNDIsNy4yN1ptMSwxMGgwQTEuNDgsMS40OCwwLDAsMSwxMywxNS43NmgwYTEuNDgsMS40OCwwLDAsMSwxLjQ4LTEuNDhoMGExLjQ4LDEuNDgsMCwwLDEsMS40OCwxLjQ4aDBBMS40OCwxLjQ4LDAsMCwxLDE0LjQ0LDE3LjI0Wm0yLjExLTQuNWgwYTEuNDgsMS40OCwwLDAsMS0xLjQ4LTEuNDhoMGExLjQ4LDEuNDgsMCwwLDEsMS40OC0xLjQ4aDBBMS40OCwxLjQ4LDAsMCwxLDE4LDExLjI2aDBBMS40OCwxLjQ4LDAsMCwxLDE2LjU1LDEyLjc0WiIvPjxyZWN0IGNsYXNzPSJjbHMtMSIgeD0iMyIgeT0iMTguMjQiIHdpZHRoPSIyLjk2IiBoZWlnaHQ9IjIuOTYiIHJ4PSIxLjQ4Ii8+PHJlY3QgY2xhc3M9ImNscy0xIiB4PSI0LjQ4IiB5PSIzLjMiIHdpZHRoPSIyLjk2IiBoZWlnaHQ9IjIuOTYiIHJ4PSIxLjQ4Ii8+PHJlY3QgY2xhc3M9ImNscy0xIiB4PSI5LjQ3IiB5PSIxLjc4IiB3aWR0aD0iMi45NiIgaGVpZ2h0PSIyLjk2IiByeD0iMS40OCIvPjwvc3ZnPg==",
         "menu_ind": 3,
         "primary": false,
         "tooltip": "Define an elliptical region of interest",
         "visible": true
        },
        "bqplot:rectangle": {
         "has_suboptions": true,
         "img": "data:image/svg+xml;base64,PHN2ZyBpZD0iTGF5ZXJfMSIgZGF0YS1uYW1lPSJMYXllciAxIiB4bWxucz0iaHR0cDovL3d3dy53My5vcmcvMjAwMC9zdmciIHZpZXdCb3g9IjAgMCAyNS40NiAyNS40NiI+PGRlZnM+PHN0eWxlPi5jbHMtMXtmaWxsOiMyMzFmMjA7fTwvc3R5bGU+PC9kZWZzPjxyZWN0IGNsYXNzPSJjbHMtMSIgeD0iMi42NCIgeT0iOC4yMyIgd2lkdGg9IjIuOTYiIGhlaWdodD0iMi45NiIgcng9IjEuNDgiLz48cmVjdCBjbGFzcz0iY2xzLTEiIHg9IjE1LjI3IiB5PSIyMC41IiB3aWR0aD0iMi45NiIgaGVpZ2h0PSIyLjk2IiByeD0iMS40OCIvPjxwYXRoIGNsYXNzPSJjbHMtMSIgZD0iTTguNTUsM1YxOEgyMS44OFYzWm0zLjUsOC4xNWgwYTEuNDgsMS40OCwwLDAsMS0xLjQ4LTEuNDhoMGExLjQ4LDEuNDgsMCwwLDEsMS40OC0xLjQ4aDBhMS40OCwxLjQ4LDAsMCwxLDEuNDgsMS40OGgwQTEuNDgsMS40OCwwLDAsMSwxMi4wNSwxMS4xOVptNi4xNiwwaDBhMS40OCwxLjQ4LDAsMCwxLTEuNDgtMS40OGgwYTEuNDgsMS40OCwwLDAsMSwxLjQ4LTEuNDhoMEExLjQ5LDEuNDksMCwwLDEsMTkuNyw5LjcxaDBBMS40OSwxLjQ5LDAsMCwxLDE4LjIxLDExLjE5WiIvPjwvc3ZnPg==",
         "menu_ind": 3,
         "primary": false,
         "tooltip": "Define a rectangular region of interest",
         "visible": true
        },
        "bqplot:truecircle": {
         "has_suboptions": true,
         "img": "data:image/svg+xml;base64,PHN2ZyBpZD0iTGF5ZXJfMSIgZGF0YS1uYW1lPSJMYXllciAxIiB4bWxucz0iaHR0cDovL3d3dy53My5vcmcvMjAwMC9zdmciIHZpZXdCb3g9IjAgMCAyMy41MyAyNC42NiI+PGRlZnM+PHN0eWxlPi5jbHMtMXtmaWxsOiMyMzFmMjA7fTwvc3R5bGU+PC9kZWZzPjxwYXRoIGNsYXNzPSJjbHMtMSIgZD0iTTE0LjQ0LDcuMjdhNyw3LDAsMSwwLDcsN0E3LDcsMCwwLDAsMTQuNDQsNy4yN1ptLTEsMTFoMEExLjQ4LDEuNDgsMCwwLDEsMTIsMTYuNzZoMGExLjQ4LDEuNDgsMCwwLDEsMS40OC0xLjQ4aDBhMS40OCwxLjQ4LDAsMCwxLDEuNDgsMS40OGgwQTEuNDgsMS40OCwwLDAsMSwxMy40NCwxOC4yNFptMi4xMS00LjVoMGExLjQ4LDEuNDgsMCwwLDEtMS40OC0xLjQ4aDBhMS40OCwxLjQ4LDAsMCwxLDEuNDgtMS40OGgwQTEuNDgsMS40OCwwLDAsMSwxNywxMi4yNmgwQTEuNDgsMS40OCwwLDAsMSwxNS41NSwxMy43NFoiLz48cmVjdCBjbGFzcz0iY2xzLTEiIHg9IjIuNDgiIHk9IjE2LjE4IiB3aWR0aD0iMi45NiIgaGVpZ2h0PSIyLjk2IiByeD0iMS40OCIvPjxyZWN0IGNsYXNzPSJjbHMtMSIgeD0iNC40OCIgeT0iMy4zIiB3aWR0aD0iMi45NiIgaGVpZ2h0PSIyLjk2IiByeD0iMS40OCIvPjxyZWN0IGNsYXNzPSJjbHMtMSIgeD0iOS40NyIgeT0iMS43OCIgd2lkdGg9IjIuOTYiIGhlaWdodD0iMi45NiIgcng9IjEuNDgiLz48L3N2Zz4=",
         "menu_ind": 3,
         "primary": true,
         "tooltip": "Define a strictly circular region of interest",
         "visible": true
        },
        "jdaviz:blinkonce": {
         "has_suboptions": true,
         "img": "data:image/svg+xml;base64,PHN2ZyBpZD0iTGF5ZXJfMSIgZGF0YS1uYW1lPSJMYXllciAxIiB4bWxucz0iaHR0cDovL3d3dy53My5vcmcvMjAwMC9zdmciIHZpZXdCb3g9IjAgMCAyNS40NiAyNS40NiI+PGRlZnM+PHN0eWxlPi5jbHMtMXtmaWxsOiMyMzFmMjA7fTwvc3R5bGU+PC9kZWZzPjxwYXRoIGNsYXNzPSJjbHMtMSIgZD0iTTQuNzMsMi43M2EyLDIsMCwwLDAtMiwydjEwaDJ2LTEwaDEwdi0yaC0xMG00LDRhMiwyLDAsMCwwLTIsMnYxMGgydi0xMGgxMHYtMmgtMTBtNCw0YTIsMiwwLDAsMC0yLDJ2OGEyLDIsMCwwLDAsMiwyaDhhMiwyLDAsMCwwLDItMnYtOGEyLDIsMCwwLDAtMi0yWiIvPjwvc3ZnPgo=",
         "menu_ind": 4,
         "primary": true,
         "tooltip": "Click on the viewer or press \"b\" to display the next image, or right-click or press \"B\" to display the previous",
         "visible": true
        },
        "jdaviz:boxzoom": {
         "has_suboptions": false,
         "img": "data:image/svg+xml;base64,PD94bWwgdmVyc2lvbj0iMS4wIiBlbmNvZGluZz0idXRmLTgiPz4KPCEtLSBHZW5lcmF0b3I6IEFkb2JlIElsbHVzdHJhdG9yIDI3LjUuMCwgU1ZHIEV4cG9ydCBQbHVnLUluIC4gU1ZHIFZlcnNpb246IDYuMDAgQnVpbGQgMCkgIC0tPgo8c3ZnIHZlcnNpb249IjEuMSIgaWQ9IkxheWVyXzEiIHhtbG5zPSJodHRwOi8vd3d3LnczLm9yZy8yMDAwL3N2ZyIgeG1sbnM6eGxpbms9Imh0dHA6Ly93d3cudzMub3JnLzE5OTkveGxpbmsiIHg9IjBweCIgeT0iMHB4IgoJIHZpZXdCb3g9IjAgMCAyMi45IDIzIiBzdHlsZT0iZW5hYmxlLWJhY2tncm91bmQ6bmV3IDAgMCAyMi45IDIzOyIgeG1sOnNwYWNlPSJwcmVzZXJ2ZSI+CjxzdHlsZSB0eXBlPSJ0ZXh0L2NzcyI+Cgkuc3Qwe2ZpbGw6IzAxMDEwMTt9Cjwvc3R5bGU+Cjxwb2x5Z29uIGNsYXNzPSJzdDAiIHBvaW50cz0iMjAuMSwxMy4xIDIxLDEzLjEgMjEsMS45IDkuOSwxLjkgOS45LDMuMyA3LjksMy4zIDcuOSwwIDIyLjksMCAyMi45LDE1LjEgMjAuMSwxNS4xICIvPgo8cGF0aCBjbGFzcz0ic3QwIiBkPSJNMCwyMS4xTDEuOSwyM2w1LjgtNS43di0wLjZsMC44LTAuOGMxLjIsMC45LDIuNiwxLjMsNCwxLjNjMy43LDAsNi43LTMsNi43LTYuN3MtMy02LjctNi43LTYuN3MtNi43LDMtNi43LDYuNwoJYzAsMS40LDAuNSwyLjgsMS4zLDRsLTAuOCwwLjhINS44TDAsMjEuMXogTTEyLjQsMTUuMmMtMi42LDAtNC43LTIuMS00LjctNC43bDAsMGMwLTIuNiwyLjEtNC43LDQuNy00LjdjMi42LDAsNC43LDIuMSw0LjcsNC43CglTMTUsMTUuMiwxMi40LDE1LjJDMTIuNCwxNS4yLDEyLjQsMTUuMiwxMi40LDE1LjJ6Ii8+Cjwvc3ZnPgo=",
         "menu_ind": 1,
         "primary": true,
         "tooltip": "Zoom to a drawn rectangle",
         "visible": true
        },
        "jdaviz:boxzoommatch": {
         "has_suboptions": true,
         "img": "data:image/svg+xml;base64,PD94bWwgdmVyc2lvbj0iMS4wIiBlbmNvZGluZz0idXRmLTgiPz4KPCEtLSBHZW5lcmF0b3I6IEFkb2JlIElsbHVzdHJhdG9yIDI3LjUuMCwgU1ZHIEV4cG9ydCBQbHVnLUluIC4gU1ZHIFZlcnNpb246IDYuMDAgQnVpbGQgMCkgIC0tPgo8c3ZnIHZlcnNpb249IjEuMSIgaWQ9IkxheWVyXzEiIHhtbG5zPSJodHRwOi8vd3d3LnczLm9yZy8yMDAwL3N2ZyIgeG1sbnM6eGxpbms9Imh0dHA6Ly93d3cudzMub3JnLzE5OTkveGxpbmsiIHg9IjBweCIgeT0iMHB4IgoJIHZpZXdCb3g9IjAgMCAyMy41IDI0LjciIHN0eWxlPSJlbmFibGUtYmFja2dyb3VuZDpuZXcgMCAwIDIzLjUgMjQuNzsiIHhtbDpzcGFjZT0icHJlc2VydmUiPgo8c3R5bGUgdHlwZT0idGV4dC9jc3MiPgoJLnN0MHtmaWxsOiMwMTAxMDE7fQo8L3N0eWxlPgo8Zz4KCTxwYXRoIGNsYXNzPSJzdDAiIGQ9Ik04LjEsMTAuOEM4LjEsMTAuOCw4LjEsMTAuNyw4LjEsMTAuOGMwLTIuNiwyLjEtNC43LDQuNy00LjdjMi42LDAsNC43LDIuMSw0LjcsNC43YzAsMC4yLDAsMC4zLDAsMC41aDEuMQoJCWMwLjQsMCwwLjcsMC4yLDEsMC40YzAtMC4zLDAuMS0wLjYsMC4xLTFjMC0zLjctMy02LjctNi44LTYuN2MtMy43LDAtNi43LDMtNi43LDYuOGMwLDEuNCwwLjUsMi44LDEuMyw0bC0wLjgsMC44SDYuMWwtNS43LDUuNwoJCWwxLjksMS45bDUuOC01Ljh2LTAuNmwwLjgtMC44YzAuNSwwLjQsMS4xLDAuNywxLjYsMC45di0yLjJDOS4xLDE0LDguMSwxMi41LDguMSwxMC44eiIvPgoJPHBhdGggY2xhc3M9InN0MCIgZD0iTTIzLjEsMTUuM2gwLjJWMC4yaC0xNXYzLjNoMS45VjIuMWgxMS4xdjExLjJoLTAuOXYxLjNoMS40QzIyLjQsMTQuNiwyMi44LDE0LjksMjMuMSwxNS4zeiIvPgo8L2c+CjxwYXRoIGNsYXNzPSJzdDAiIGQ9Ik0xMi40LDEyLjFjLTAuNiwwLTEsMC40LTEsMWwwLDB2NS44YzAsMC42LDAuNCwxLDEsMWwwLDBoNS44YzAuNiwwLDEtMC40LDEtMWwwLDB2LTEuNmgtMXYxLjZoLTUuOHYtNS44aDUuOHYxCgloMXYtMWMwLTAuNi0wLjQtMS0xLTFsMCwwIE0xNS41LDE1LjRjLTAuNiwwLTEsMC40LTEsMWwwLDBWMThoMXYtMS42aDUuOHY1LjhoLTUuOHYtMWgtMXYxYzAsMC42LDAuNCwxLDEsMWwwLDBoNS44CgljMC42LDAsMS0wLjQsMS0xbDAsMHYtNS44YzAtMC42LTAuNC0xLTEtMWwwLDBIMTUuNSIvPgo8L3N2Zz4K",
         "menu_ind": 1,
         "primary": false,
         "tooltip": "Zoom to a drawn rectangle in all viewers",
         "visible": false
        },
        "jdaviz:contrastbias": {
         "has_suboptions": false,
         "img": "data:image/svg+xml;base64,PHN2ZyBpZD0iTGF5ZXJfMSIgZGF0YS1uYW1lPSJMYXllciAxIiB4bWxucz0iaHR0cDovL3d3dy53My5vcmcvMjAwMC9zdmciIHZpZXdCb3g9IjAgMCAyNS40NiAyNS40NiI+PGRlZnM+PHN0eWxlPi5jbHMtMXtmaWxsOiMyMzFmMjA7fTwvc3R5bGU+PC9kZWZzPjxwYXRoIGNsYXNzPSJjbHMtMSIgZD0iTTE4LjEzLDE2LjIzaC01djEuNWg1bTIsMmgtMTRsMTQtMTRNNi42Myw4LjIzaDJ2LTJoMS41djJoMnYxLjVoLTJ2Mkg4LjYzdi0yaC0ybTEzLjUtNmgtMTRhMiwyLDAsMCwwLTIsMnYxNGEyLDIsMCwwLDAsMiwyaDE0YTIsMiwwLDAsMCwyLTJ2LTE0QTIsMiwwLDAsMCwyMC4xMywzLjczWiIvPjwvc3ZnPgo=",
         "menu_ind": 4,
         "primary": false,
         "tooltip": "Click and drag to adjust contrast and bias, double-click to reset",
         "visible": true
        },
        "jdaviz:homezoom": {
         "has_suboptions": true,
         "img": "data:image/svg+xml;base64,PHN2ZyBpZD0iTGF5ZXJfMSIgZGF0YS1uYW1lPSJMYXllciAxIiB4bWxucz0iaHR0cDovL3d3dy53My5vcmcvMjAwMC9zdmciIHZpZXdCb3g9IjAgMCAyMy41MyAyNC42NiI+PGRlZnM+PHN0eWxlPi5jbHMtMXtmaWxsOiMwMTAxMDE7fTwvc3R5bGU+PC9kZWZzPjxwYXRoIGNsYXNzPSJjbHMtMSIgZD0iTTkuNDEsMjEuNzdWMTQuNzFoNC43MXY3LjA2SDIwVjEyLjM2aDMuNTNMMTEuNzcsMS43NywwLDEyLjM2SDMuNTN2OS40MVoiLz48L3N2Zz4=",
         "menu_ind": 0,
         "primary": true,
         "tooltip": "Reset zoom to show all visible data",
         "visible": true
        },
        "jdaviz:imagepanzoom": {
         "has_suboptions": false,
         "img": "data:image/svg+xml;base64,PHN2ZyBpZD0iTGF5ZXJfMSIgZGF0YS1uYW1lPSJMYXllciAxIiB4bWxucz0iaHR0cDovL3d3dy53My5vcmcvMjAwMC9zdmciIHZpZXdCb3g9IjAgMCAyNS40NiAyNS40NiI+PGRlZnM+PHN0eWxlPi5jbHMtMXtmaWxsOiMwMTAxMDE7fTwvc3R5bGU+PC9kZWZzPjxwb2x5Z29uIGNsYXNzPSJjbHMtMSIgcG9pbnRzPSIyMS40NSA4Ljc4IDIwLjAzIDEwLjE5IDIxLjU3IDExLjczIDE1LjIxIDExLjczIDEzLjY3IDExLjczIDEzLjY3IDMuODMgMTUuMjEgNS4zNiAxNi42MiAzLjk1IDEyLjY3IDAgOC43MiAzLjk1IDEwLjEzIDUuMzYgMTEuNjcgMy44MyAxMS42NyAxMS43MyAxMC4xMyAxMS43MyAzLjc3IDExLjczIDUuMzEgMTAuMTkgMy44OSA4Ljc4IC0wLjA2IDEyLjczIDMuODkgMTYuNjggNS4zMSAxNS4yNiAzLjc3IDEzLjczIDExLjY3IDEzLjczIDExLjY3IDIxLjYzIDEwLjEzIDIwLjA5IDguNzIgMjEuNTEgMTIuNjcgMjUuNDYgMTYuNjIgMjEuNTEgMTUuMjEgMjAuMDkgMTMuNjcgMjEuNjMgMTMuNjcgMTMuNzMgMjEuNTcgMTMuNzMgMjAuMDMgMTUuMjYgMjEuNDUgMTYuNjggMjUuNCAxMi43MyAyMS40NSA4Ljc4Ii8+PC9zdmc+",
         "menu_ind": 2,
         "primary": true,
         "tooltip": "Interactively pan (click-drag), zoom (scroll), and center (click)",
         "visible": true
        },
        "jdaviz:panzoommatch": {
         "has_suboptions": true,
         "img": "data:image/svg+xml;base64,PD94bWwgdmVyc2lvbj0iMS4wIiBlbmNvZGluZz0idXRmLTgiPz4KPCEtLSBHZW5lcmF0b3I6IEFkb2JlIElsbHVzdHJhdG9yIDI3LjUuMCwgU1ZHIEV4cG9ydCBQbHVnLUluIC4gU1ZHIFZlcnNpb246IDYuMDAgQnVpbGQgMCkgIC0tPgo8c3ZnIHZlcnNpb249IjEuMSIgaWQ9IkxheWVyXzEiIHhtbG5zPSJodHRwOi8vd3d3LnczLm9yZy8yMDAwL3N2ZyIgeG1sbnM6eGxpbms9Imh0dHA6Ly93d3cudzMub3JnLzE5OTkveGxpbmsiIHg9IjBweCIgeT0iMHB4IgoJIHZpZXdCb3g9IjAgMCAyNS41IDI1LjUiIHN0eWxlPSJlbmFibGUtYmFja2dyb3VuZDpuZXcgMCAwIDI1LjUgMjUuNTsiIHhtbDpzcGFjZT0icHJlc2VydmUiPgo8c3R5bGUgdHlwZT0idGV4dC9jc3MiPgoJLnN0MHtmaWxsOm5vbmU7fQoJLnN0MXtmaWxsOiMwMTAxMDE7fQoJLnN0MntmaWxsOiNGRkZGRkY7fQo8L3N0eWxlPgo8Zz4KCTxwb2x5Z29uIGNsYXNzPSJzdDAiIHBvaW50cz0iMTMuNywyMS42IDEzLjYsMjEuNiAxMy42LDIxLjcgCSIvPgoJPHBhdGggY2xhc3M9InN0MSIgZD0iTTExLjUsMTEuOUgzLjhsMS41LTEuNUwzLjksOC45bC0zLjksNGwzLjksMy45bDEuNC0xLjRsLTEuNS0xLjVoNy40di0xLjJDMTEuMiwxMi40LDExLjMsMTIuMSwxMS41LDExLjl6Ii8+Cgk8cGF0aCBjbGFzcz0ic3QxIiBkPSJNMjEuNSwxNC41aDEuOGMwLjEsMCwwLjIsMCwwLjMsMGwxLjctMS43bC0zLjktNEwyMCwxMC4zbDEuNSwxLjVoLTAuM2MwLjIsMC4yLDAuMywwLjUsMC4zLDAuOVYxNC41eiIvPgoJPHBhdGggY2xhc3M9InN0MSIgZD0iTTEyLjgsMTEuMWgwLjhWNGwxLjUsMS41bDEuNC0xLjRsLTMuOS0zLjlsLTQsMy45bDEuNCwxLjRMMTEuNiw0djcuN0MxMS45LDExLjMsMTIuMywxMS4xLDEyLjgsMTEuMXoiLz4KCTxwYXRoIGNsYXNzPSJzdDEiIGQ9Ik0xNC42LDIxLjZoLTAuOWwtMC4xLDAuMXYtMC4xaC0wLjhjLTAuNSwwLTAuOS0wLjItMS4yLTAuNXYwLjdsLTEuNS0xLjVsLTEuNSwxLjRsMy45LDMuOWwyLTIKCQljMCwwLDAtMC4xLDAtMC4xVjIxLjZ6Ii8+Cgk8cGF0aCBjbGFzcz0ic3QyIiBkPSJNMTEuNiwxMS43Yy0wLjEsMC4xLTAuMSwwLjEtMC4xLDAuMmgwLjFWMTEuN3oiLz4KPC9nPgo8cGF0aCBjbGFzcz0ic3QxIiBkPSJNMTMuMywxMi4xYy0wLjYsMC0xLjEsMC41LTEuMSwxLjFsMCwwdjYuM2MwLDAuNiwwLjUsMS4xLDEuMSwxLjFsMCwwaDYuM2MwLjYsMCwxLjEtMC41LDEuMS0xLjFsMCwwdi0xLjhoLTEuMQoJdjEuOGgtNi4zdi02LjNoNi4zdjEuMWgxLjF2LTEuMWMwLTAuNi0wLjUtMS4xLTEuMS0xLjFsMCwwIE0xNi43LDE1LjZjLTAuNiwwLTEuMSwwLjUtMS4xLDEuMWwwLDB2MS44aDEuMXYtMS44SDIzVjIzaC02LjN2LTEuMQoJaC0xLjFWMjNjMCwwLjYsMC41LDEuMSwxLjEsMS4xbDAsMEgyM2MwLjYsMCwxLjEtMC41LDEuMS0xLjFsMCwwdi02LjNjMC0wLjYtMC41LTEuMS0xLjEtMS4xbDAsMEgxNi43Ii8+Cjwvc3ZnPgo=",
         "menu_ind": 2,
         "primary": false,
         "tooltip": "Pan (click-drag), zoom (scroll), and center (click) in this viewer to see the same regions in other viewers",
         "visible": false
        },
        "jdaviz:prevzoom": {
         "has_suboptions": true,
         "img": "data:image/svg+xml;base64,PD94bWwgdmVyc2lvbj0iMS4wIiBlbmNvZGluZz0iVVRGLTgiPz48IURPQ1RZUEUgc3ZnIFBVQkxJQyAiLS8vVzNDLy9EVEQgU1ZHIDEuMS8vRU4iICJodHRwOi8vd3d3LnczLm9yZy9HcmFwaGljcy9TVkcvMS4xL0RURC9zdmcxMS5kdGQiPjxzdmcgeG1sbnM9Imh0dHA6Ly93d3cudzMub3JnLzIwMDAvc3ZnIiB4bWxuczp4bGluaz0iaHR0cDovL3d3dy53My5vcmcvMTk5OS94bGluayIgdmVyc2lvbj0iMS4xIiB3aWR0aD0iMjQiIGhlaWdodD0iMjQiIHZpZXdCb3g9IjAgMCAyNCAyNCI+PHBhdGggZD0iTTIwLDlWMTVIMTJWMTkuODRMNC4xNiwxMkwxMiw0LjE2VjlIMjBaIiAvPjwvc3ZnPg==",
         "menu_ind": 0,
         "primary": false,
         "tooltip": "Back to previous zoom level",
         "visible": true
        },
        "jdaviz:sidebar_compass": {
         "has_suboptions": true,
         "img": "data:image/svg+xml;base64,PD94bWwgdmVyc2lvbj0iMS4wIiBlbmNvZGluZz0iVVRGLTgiPz4KPCFET0NUWVBFIHN2ZyBQVUJMSUMgIi0vL1czQy8vRFREIFNWRyAxLjEvL0VOIiAiaHR0cDovL3d3dy53My5vcmcvR3JhcGhpY3MvU1ZHLzEuMS9EVEQvc3ZnMTEuZHRkIj4KPHN2ZyB4bWxucz0iaHR0cDovL3d3dy53My5vcmcvMjAwMC9zdmciIHhtbG5zOnhsaW5rPSJodHRwOi8vd3d3LnczLm9yZy8xOTk5L3hsaW5rIiB2ZXJzaW9uPSIxLjEiICB3aWR0aD0iMjQiIGhlaWdodD0iMjQiIHZpZXdCb3g9IjAgMCAyNCAyNCI+CiAgIDxwYXRoIGZpbGw9IiMwMDAwMDAiIGQ9Ik03LDE3TDEwLjIsMTAuMkwxNyw3TDEzLjgsMTMuOEw3LDE3TTEyLDExLjFBMC45LDAuOSAwIDAsMCAxMS4xLDEyQTAuOSwwLjkgMCAwLDAgMTIsMTIuOUEwLjksMC45IDAgMCwwIDEyLjksMTJBMC45LDAuOSAwIDAsMCAxMiwxMS4xTTEyLDJBMTAsMTAgMCAwLDEgMjIsMTJBMTAsMTAgMCAwLDEgMTIsMjJBMTAsMTAgMCAwLDEgMiwxMkExMCwxMCAwIDAsMSAxMiwyTTEyLDRBOCw4IDAgMCwwIDQsMTJBOCw4IDAgMCwwIDEyLDIwQTgsOCAwIDAsMCAyMCwxMkE4LDggMCAwLDAgMTIsNFoiIC8+Cjwvc3ZnPgo=",
         "menu_ind": 5,
         "primary": false,
         "tooltip": "Open compass plugin in sidebar",
         "visible": true
        },
        "jdaviz:sidebar_export": {
         "has_suboptions": true,
         "img": "data:image/svg+xml;base64,PD94bWwgdmVyc2lvbj0iMS4wIiBlbmNvZGluZz0iVVRGLTgiPz48IURPQ1RZUEUgc3ZnIFBVQkxJQyAiLS8vVzNDLy9EVEQgU1ZHIDEuMS8vRU4iICJodHRwOi8vd3d3LnczLm9yZy9HcmFwaGljcy9TVkcvMS4xL0RURC9zdmcxMS5kdGQiPjxzdmcgeG1sbnM9Imh0dHA6Ly93d3cudzMub3JnLzIwMDAvc3ZnIiB4bWxuczp4bGluaz0iaHR0cDovL3d3dy53My5vcmcvMTk5OS94bGluayIgdmVyc2lvbj0iMS4xIiB3aWR0aD0iMjQiIGhlaWdodD0iMjQiIHZpZXdCb3g9IjAgMCAyNCAyNCI+PHBhdGggZD0iTTguNSwxMy41TDExLDE2LjVMMTQuNSwxMkwxOSwxOEg1TTIxLDE5VjVDMjEsMy44OSAyMC4xLDMgMTksM0g1QTIsMiAwIDAsMCAzLDVWMTlBMiwyIDAgMCwwIDUsMjFIMTlBMiwyIDAgMCwwIDIxLDE5WiIgLz48L3N2Zz4=",
         "menu_ind": 5,
         "primary": false,
         "tooltip": "Open export plot plugin in sidebar",
         "visible": true
        },
        "jdaviz:sidebar_plot": {
         "has_suboptions": true,
         "img": "data:image/svg+xml;base64,PD94bWwgdmVyc2lvbj0iMS4wIiBlbmNvZGluZz0iVVRGLTgiPz4KPCFET0NUWVBFIHN2ZyBQVUJMSUMgIi0vL1czQy8vRFREIFNWRyAxLjEvL0VOIiAiaHR0cDovL3d3dy53My5vcmcvR3JhcGhpY3MvU1ZHLzEuMS9EVEQvc3ZnMTEuZHRkIj4KPHN2ZyB4bWxucz0iaHR0cDovL3d3dy53My5vcmcvMjAwMC9zdmciIHhtbG5zOnhsaW5rPSJodHRwOi8vd3d3LnczLm9yZy8xOTk5L3hsaW5rIiB2ZXJzaW9uPSIxLjEiICB3aWR0aD0iMjQiIGhlaWdodD0iMjQiIHZpZXdCb3g9IjAgMCAyNCAyNCI+CiAgIDxwYXRoIGZpbGw9IiMwMDAwMDAiIGQ9Ik0zLDE3VjE5SDlWMTdIM00zLDVWN0gxM1Y1SDNNMTMsMjFWMTlIMjFWMTdIMTNWMTVIMTFWMjFIMTNNNyw5VjExSDNWMTNIN1YxNUg5VjlIN00yMSwxM1YxMUgxMVYxM0gyMU0xNSw5SDE3VjdIMjFWNUgxN1YzSDE1VjlaIiAvPgo8L3N2Zz4K",
         "menu_ind": 5,
         "primary": true,
         "tooltip": "Open plot options plugin in sidebar",
         "visible": true
        },
        "jdaviz:singlepixelregion": {
         "has_suboptions": true,
         "img": "data:image/svg+xml;base64,PD94bWwgdmVyc2lvbj0iMS4wIiBlbmNvZGluZz0iVVRGLTgiPz48c3ZnIGlkPSJMYXllcl8xIiB4bWxucz0iaHR0cDovL3d3dy53My5vcmcvMjAwMC9zdmciIHZpZXdCb3g9IjAgMCAyMi45MiAyMy4wMiI+PGRlZnM+PHN0eWxlPi5jbHMtMXtmaWxsOiMyMzFmMjA7fTwvc3R5bGU+PC9kZWZzPjxwYXRoIGNsYXNzPSJjbHMtMSIgZD0iTTcuNjEsMS45N1Y3LjY2SDEuOTJWMS45N0g3LjYxbS41LS41SDEuNDJ2Ni42OWg2LjY5VjEuNDdoMFoiLz48cGF0aCBjbGFzcz0iY2xzLTEiIGQ9Ik0xNC4zMSwxLjk3VjcuNjZoLTUuNjlWMS45N2g1LjY5bS41LS41aC02LjY5djYuNjloNi42OVYxLjQ3aDBaIi8+PHBhdGggY2xhc3M9ImNscy0xIiBkPSJNMjEsMS45N1Y3LjY2aC01LjY5VjEuOTdoNS42OW0uNS0uNWgtNi42OXY2LjY5aDYuNjlWMS40N2gwWiIvPjxyZWN0IGNsYXNzPSJjbHMtMSIgeD0iMS40MiIgeT0iOC4xNiIgd2lkdGg9IjYuNjkiIGhlaWdodD0iNi42OSIvPjxwYXRoIGNsYXNzPSJjbHMtMSIgZD0iTTE0LjMxLDguNjZ2NS42OWgtNS42OXYtNS42OWg1LjY5bS41LS41aC02LjY5djYuNjloNi42OXYtNi42OWgwWiIvPjxwYXRoIGNsYXNzPSJjbHMtMSIgZD0iTTIxLDguNjZ2NS42OWgtNS42OXYtNS42OWg1LjY5bS41LS41aC02LjY5djYuNjloNi42OXYtNi42OWgwWiIvPjxwYXRoIGNsYXNzPSJjbHMtMSIgZD0iTTcuNjEsMTUuMzZ2NS42OUgxLjkydi01LjY5SDcuNjFtLjUtLjVIMS40MnY2LjY5aDYuNjl2LTYuNjloMFoiLz48cGF0aCBjbGFzcz0iY2xzLTEiIGQ9Ik0xNC4zMSwxNS4zNnY1LjY5aC01LjY5di01LjY5aDUuNjltLjUtLjVoLTYuNjl2Ni42OWg2LjY5di02LjY5aDBaIi8+PHBhdGggY2xhc3M9ImNscy0xIiBkPSJNMjEsMTUuMzZ2NS42OWgtNS42OXYtNS42OWg1LjY5bS41LS41aC02LjY5djYuNjloNi42OXYtNi42OWgwWiIvPjwvc3ZnPg==",
         "menu_ind": 3,
         "primary": false,
         "tooltip": "Define a single-pixel spatial region of interest",
         "visible": true
        }
       },
       "tooltip": null
      }
     },
     "28c992a30e9e48598df49b24e8922228": {
      "model_module": "jupyter-vue",
      "model_module_version": "^1.10.1",
      "model_name": "ForceLoadModel",
      "state": {
       "_dom_classes": [],
       "_model_module": "jupyter-vue",
       "_model_module_version": "^1.10.1",
       "_model_name": "ForceLoadModel",
       "_view_count": null,
       "_view_module": null,
       "_view_module_version": "",
       "_view_name": null,
       "layout": "IPY_MODEL_ed0433404ce5412a9ee4adae4e2d1fdc",
       "tabbable": null,
       "tooltip": null
      }
     },
     "290e6006678d45bda1e40d687de40e82": {
      "model_module": "jupyter-vue",
      "model_module_version": "^1.10.1",
      "model_name": "TemplateModel",
      "state": {
       "_model_module": "jupyter-vue",
       "_model_module_version": "^1.10.1",
       "_model_name": "TemplateModel",
       "_view_count": null,
       "_view_module": null,
       "_view_module_version": "",
       "_view_name": null,
       "template": "<template>\n  <v-toolbar-items>\n    <j-tooltip tipid='create-image-viewer'>\n      <v-btn icon tile @click=\"create_image_viewer()\">\n        <v-icon>mdi-image-plus</v-icon>\n      </v-btn>\n    </j-tooltip>\n  </v-toolbar-items>\n</template>\n"
      }
     },
     "29cc9723380f40d49da071273e7f925e": {
      "model_module": "bqplot-image-gl",
      "model_module_version": "^1.4.11",
      "model_name": "ContourModel",
      "state": {
       "_model_module": "bqplot-image-gl",
       "_model_module_version": "^1.4.11",
       "_model_name": "ContourModel",
       "_view_count": null,
       "_view_module": "bqplot-image-gl",
       "_view_module_version": "^1.4.11",
       "_view_name": "ContourView",
       "apply_clip": true,
       "color": [
        "red",
        "orange",
        "yellow",
        "green",
        "blue"
       ],
       "contour_lines": [],
       "display_legend": false,
       "enable_hover": true,
       "image": null,
       "interactions": {
        "hover": "tooltip"
       },
       "label": [
        "51.03",
        "102.1",
        "153.1",
        "204.1",
        "255.2"
       ],
       "label_steps": 1000,
       "labels": [],
       "level": [
        51.03055318196615,
        102.0611063639323,
        153.09165954589844,
        204.1222127278646,
        255.15276590983075
       ],
       "preserve_domain": {},
       "scales": {
        "image": "IPY_MODEL_0acd9b51e19d4dacb4e96776f3e0807a",
        "x": "IPY_MODEL_e9d182703c7f421db9185b0e14f021b4",
        "y": "IPY_MODEL_2575788ee3b245bca63f200cd5d496ce"
       },
       "scales_metadata": {
        "x": {
         "dimension": "x",
         "orientation": "horizontal"
        },
        "y": {
         "dimension": "y",
         "orientation": "vertical"
        }
       },
       "selected": null,
       "selected_style": {},
       "tooltip": null,
       "tooltip_location": "mouse",
       "tooltip_style": {
        "opacity": 0.9
       },
       "unselected_style": {},
       "visible": false
      }
     },
     "2a134938e6834366877f214f53dac2c0": {
      "model_module": "@jupyter-widgets/base",
      "model_module_version": "2.0.0",
      "model_name": "LayoutModel",
      "state": {
       "_model_module": "@jupyter-widgets/base",
       "_model_module_version": "2.0.0",
       "_model_name": "LayoutModel",
       "_view_count": null,
       "_view_module": "@jupyter-widgets/base",
       "_view_module_version": "2.0.0",
       "_view_name": "LayoutView",
       "align_content": null,
       "align_items": null,
       "align_self": null,
       "border_bottom": null,
       "border_left": null,
       "border_right": null,
       "border_top": null,
       "bottom": null,
       "display": null,
       "flex": null,
       "flex_flow": null,
       "grid_area": null,
       "grid_auto_columns": null,
       "grid_auto_flow": null,
       "grid_auto_rows": null,
       "grid_column": null,
       "grid_gap": null,
       "grid_row": null,
       "grid_template_areas": null,
       "grid_template_columns": null,
       "grid_template_rows": null,
       "height": null,
       "justify_content": null,
       "justify_items": null,
       "left": null,
       "margin": null,
       "max_height": null,
       "max_width": null,
       "min_height": null,
       "min_width": null,
       "object_fit": null,
       "object_position": null,
       "order": null,
       "overflow": null,
       "padding": null,
       "right": null,
       "top": null,
       "visibility": null,
       "width": null
      }
     },
     "2b4f1f0f1d02471bb89f0035358e4366": {
      "model_module": "@jupyter-widgets/base",
      "model_module_version": "2.0.0",
      "model_name": "LayoutModel",
      "state": {
       "_model_module": "@jupyter-widgets/base",
       "_model_module_version": "2.0.0",
       "_model_name": "LayoutModel",
       "_view_count": null,
       "_view_module": "@jupyter-widgets/base",
       "_view_module_version": "2.0.0",
       "_view_name": "LayoutView",
       "align_content": null,
       "align_items": null,
       "align_self": null,
       "border_bottom": null,
       "border_left": null,
       "border_right": null,
       "border_top": null,
       "bottom": null,
       "display": null,
       "flex": null,
       "flex_flow": null,
       "grid_area": null,
       "grid_auto_columns": null,
       "grid_auto_flow": null,
       "grid_auto_rows": null,
       "grid_column": null,
       "grid_gap": null,
       "grid_row": null,
       "grid_template_areas": null,
       "grid_template_columns": null,
       "grid_template_rows": null,
       "height": null,
       "justify_content": null,
       "justify_items": null,
       "left": null,
       "margin": null,
       "max_height": null,
       "max_width": null,
       "min_height": null,
       "min_width": null,
       "object_fit": null,
       "object_position": null,
       "order": null,
       "overflow": null,
       "padding": null,
       "right": null,
       "top": null,
       "visibility": null,
       "width": null
      }
     },
     "2e58d5cd01524cb69b4b1ce2ab293434": {
      "model_module": "jupyter-vue",
      "model_module_version": "^1.10.1",
      "model_name": "VueComponentModel",
      "state": {
       "_dom_classes": [],
       "_model_module": "jupyter-vue",
       "_model_module_version": "^1.10.1",
       "_model_name": "VueComponentModel",
       "_view_count": null,
       "_view_module": null,
       "_view_module_version": "",
       "_view_name": null,
       "component": "<template>\n  <span>\n    {{ valueTrunc }} {{ uncertTrunc ? \"&#177; \" + uncertTrunc : null}} {{ unit }}\n  </span>\n</template>\n\n<script>\n\nmodule.exports = {\n  data: function () {\n    const defaultDigs = this.defaultDigs || 5;\n    return {\n      // default to passed values, whenever value or uncertainty are changed\n      // updateTruncatedValues will overwrite the displayed values\n      defaultDigs: defaultDigs,\n      valueTrunc: this.value,\n      uncertTrunc: this.uncertainty\n    }\n  },\n  methods: {\n    updateTruncatedValues() {\n      var nDigs = this.defaultDigs;\n      if (this.uncertainty === undefined || parseFloat(this.uncertainty) == 0 || this.uncertainty == '') {\n        // then treat as no uncertainty\n        this.uncertTrunc = null;\n      } else {\n        // then uncertainty was provided, so we'll round the uncertainty to 2 significant digits\n        this.uncertTrunc = +parseFloat(this.uncertainty).toPrecision(2);\n\n        // we then want to round the value to the same place, we do that by determining the power\n        // of both the value and uncertainty and adding the two places that we already showed for \n        // the uncertainty above.\n        nDigs = 2 + Math.ceil(Math.log10(Math.abs(parseFloat(this.value)))) - Math.ceil(Math.log10(this.uncertainty));\n        if (nDigs < 1) {\n          // this should only happen if the uncertainty was larger than the value, make sure to show\n          // at least one digit\n          nDigs = 1\n        }\n      }\n\n      this.valueTrunc = +parseFloat(this.value).toPrecision(nDigs);\n    },\n  },\n  watch: {\n    value() {\n      this.updateTruncatedValues();\n    },\n    uncertainty() {\n      this.updateTruncatedValues();\n    }\n  },\n  mounted() {\n    // this should never need to be used in practice, but if using hot-reloading, the UI will\n    // fallback on the values defined in data above.  This forces the truncation logic to trigger.\n    this.updateTruncatedValues();\n  },\n  props: ['value', 'uncertainty', 'unit', 'defaultDigs'],\n};\n</script>\n",
       "layout": "IPY_MODEL_5eec13942deb4cfa9390319fadb85a60",
       "name": "j-number-uncertainty",
       "tabbable": null,
       "tooltip": null
      }
     },
     "2ebd2bf424e14297a76e3d5b0edee6c0": {
      "model_module": "@jupyter-widgets/base",
      "model_module_version": "2.0.0",
      "model_name": "LayoutModel",
      "state": {
       "_model_module": "@jupyter-widgets/base",
       "_model_module_version": "2.0.0",
       "_model_name": "LayoutModel",
       "_view_count": null,
       "_view_module": "@jupyter-widgets/base",
       "_view_module_version": "2.0.0",
       "_view_name": "LayoutView",
       "align_content": null,
       "align_items": null,
       "align_self": null,
       "border_bottom": null,
       "border_left": null,
       "border_right": null,
       "border_top": null,
       "bottom": null,
       "display": null,
       "flex": null,
       "flex_flow": null,
       "grid_area": null,
       "grid_auto_columns": null,
       "grid_auto_flow": null,
       "grid_auto_rows": null,
       "grid_column": null,
       "grid_gap": null,
       "grid_row": null,
       "grid_template_areas": null,
       "grid_template_columns": null,
       "grid_template_rows": null,
       "height": null,
       "justify_content": null,
       "justify_items": null,
       "left": null,
       "margin": null,
       "max_height": null,
       "max_width": null,
       "min_height": null,
       "min_width": null,
       "object_fit": null,
       "object_position": null,
       "order": null,
       "overflow": null,
       "padding": null,
       "right": null,
       "top": null,
       "visibility": null,
       "width": null
      }
     },
     "3059185b19d340f493c65c35468b0dad": {
      "model_module": "@jupyter-widgets/controls",
      "model_module_version": "2.0.0",
      "model_name": "GridBoxModel",
      "state": {
       "_dom_classes": [],
       "_model_module": "@jupyter-widgets/controls",
       "_model_module_version": "2.0.0",
       "_model_name": "GridBoxModel",
       "_view_count": null,
       "_view_module": "@jupyter-widgets/controls",
       "_view_module_version": "2.0.0",
       "_view_name": "GridBoxView",
       "box_style": "",
       "children": [
        "IPY_MODEL_5c931072f9ad4a7485e3ebf170a94d4e",
        "IPY_MODEL_7504a02d53984c4fa09a3d53525ea90f"
       ],
       "layout": "IPY_MODEL_63f0862237624624ac7a74ea6aaf18d5",
       "tabbable": null,
       "tooltip": null
      }
     },
     "31f59b09702e46d4a24780a97b821895": {
      "model_module": "bqplot",
      "model_module_version": "^0.5",
      "model_name": "AxisModel",
      "state": {
       "_model_module": "bqplot",
       "_model_module_version": "^0.5",
       "_model_name": "AxisModel",
       "_view_count": null,
       "_view_module": "bqplot",
       "_view_module_version": "^0.5",
       "_view_name": "Axis",
       "color": null,
       "grid_color": null,
       "grid_lines": "solid",
       "label": "X (pix)",
       "label_color": null,
       "label_location": "middle",
       "label_offset": null,
       "num_ticks": null,
       "offset": {},
       "orientation": "horizontal",
       "scale": "IPY_MODEL_5e68261a31c94d99b4cd19514dd5d9b9",
       "side": null,
       "tick_format": null,
       "tick_labels": {},
       "tick_rotate": 0,
       "tick_style": {},
       "tick_values": null,
       "visible": true
      }
     },
     "32a316cd97d6491e98617d54588599ee": {
      "model_module": "bqplot-image-gl",
      "model_module_version": "^1.4.11",
      "model_name": "BrushEllipseSelectorModel",
      "state": {
       "_model_module": "bqplot-image-gl",
       "_model_module_version": "^1.4.11",
       "_model_name": "BrushEllipseSelectorModel",
       "_view_count": null,
       "_view_module": "bqplot-image-gl",
       "_view_module_version": "^1.4.11",
       "_view_name": "BrushEllipseSelector",
       "border_style": {
        "cursor": "col-resize",
        "fill": "#cbcbcb",
        "opacity": 0.3,
        "stroke": "#cbcbcb",
        "stroke-width": "3px"
       },
       "brushing": false,
       "clear": false,
       "color": null,
       "marks": [],
       "pixel_aspect": 1.0,
       "selected_x": null,
       "selected_y": null,
       "style": {
        "cursor": "grab",
        "fill": "#cbcbcb",
        "opacity": 0.3
       },
       "x_scale": "IPY_MODEL_e9d182703c7f421db9185b0e14f021b4",
       "y_scale": "IPY_MODEL_2575788ee3b245bca63f200cd5d496ce"
      }
     },
     "33148510f83542ffa5367e709383ab99": {
      "model_module": "jupyter-vuetify",
      "model_module_version": "^1.8.5",
      "model_name": "ListItemModel",
      "state": {
       "_dom_classes": [],
       "_events": [
        "click"
       ],
       "_jupyter_vue": "IPY_MODEL_28c992a30e9e48598df49b24e8922228",
       "_metadata": null,
       "_model_module": "jupyter-vuetify",
       "_model_module_version": "^1.8.5",
       "_model_name": "ListItemModel",
       "_view_count": null,
       "_view_module": "jupyter-vuetify",
       "_view_module_version": "^1.8.5",
       "_view_name": "VuetifyView",
       "active_class": null,
       "append": null,
       "attributes": {},
       "children": [
        "IPY_MODEL_1b0e4ccaf327476aa35054a01e66af05",
        "IPY_MODEL_977e168487534032b52d04cac8150582"
       ],
       "class_": null,
       "color": null,
       "dark": null,
       "dense": null,
       "disabled": null,
       "exact": null,
       "exact_active_class": null,
       "href": null,
       "inactive": null,
       "input_value": null,
       "layout": null,
       "light": null,
       "link": null,
       "nuxt": null,
       "replace": null,
       "ripple": null,
       "selectable": null,
       "slot": null,
       "style_": null,
       "tabbable": null,
       "tag": null,
       "target": null,
       "three_line": null,
       "to": null,
       "tooltip": null,
       "two_line": null,
       "v_model": "!!disabled!!",
       "v_on": null,
       "v_slots": [],
       "value": null
      }
     },
     "3334eefbb7cd4ca3ac6cf601696ca1a9": {
      "model_module": "@jupyter-widgets/base",
      "model_module_version": "2.0.0",
      "model_name": "LayoutModel",
      "state": {
       "_model_module": "@jupyter-widgets/base",
       "_model_module_version": "2.0.0",
       "_model_name": "LayoutModel",
       "_view_count": null,
       "_view_module": "@jupyter-widgets/base",
       "_view_module_version": "2.0.0",
       "_view_name": "LayoutView",
       "align_content": null,
       "align_items": null,
       "align_self": null,
       "border_bottom": null,
       "border_left": null,
       "border_right": null,
       "border_top": null,
       "bottom": null,
       "display": null,
       "flex": null,
       "flex_flow": null,
       "grid_area": null,
       "grid_auto_columns": null,
       "grid_auto_flow": null,
       "grid_auto_rows": null,
       "grid_column": null,
       "grid_gap": null,
       "grid_row": null,
       "grid_template_areas": null,
       "grid_template_columns": null,
       "grid_template_rows": null,
       "height": null,
       "justify_content": null,
       "justify_items": null,
       "left": null,
       "margin": null,
       "max_height": null,
       "max_width": null,
       "min_height": null,
       "min_width": null,
       "object_fit": null,
       "object_position": null,
       "order": null,
       "overflow": null,
       "padding": null,
       "right": null,
       "top": null,
       "visibility": null,
       "width": null
      }
     },
     "33732f6709584083848799273df82f0a": {
      "model_module": "jupyter-vue",
      "model_module_version": "^1.10.1",
      "model_name": "TemplateModel",
      "state": {
       "_model_module": "jupyter-vue",
       "_model_module_version": "^1.10.1",
       "_model_name": "TemplateModel",
       "_view_count": null,
       "_view_module": null,
       "_view_module_version": "",
       "_view_name": null,
       "template": "<template>\n  <j-tray-plugin\n    description='Export viewer plot as an image.'\n    :link=\"docs_link || 'https://jdaviz.readthedocs.io/en/'+vdocs+'/'+config+'/plugins.html#export-plot'\"\n    :popout_button=\"popout_button\">\n\n    <plugin-viewer-select\n      :items=\"viewer_items\"\n      :selected.sync=\"viewer_selected\"\n      label=\"Viewer\"\n      hint=\"Select the viewer to export.\"\n    />\n\n    <div v-if=\"viewer_selected\">\n      <v-row justify=\"end\" class=\"row-min-bottom-padding\">\n        <v-btn\n         text\n         color=\"primary\"\n         @click=\"() => save_figure('png')\"\n         :disabled=\"movie_recording\"\n        >\n         Export to PNG\n        </v-btn>\n      </v-row>\n      <v-row justify=\"end\">\n        <v-btn\n         text\n         color=\"primary\"\n         @click=\"() => save_figure('svg')\"\n         :disabled=\"movie_recording\"\n        >\n         Export to SVG\n        </v-btn>\n      </v-row>\n\n      <v-row v-if=\"config==='cubeviz' && viewer_selected!=='spectrum-viewer' && movie_enabled\">\n        <v-expansion-panels accordion>\n          <v-expansion-panel>\n            <v-expansion-panel-header v-slot=\"{ open }\">\n              <span style=\"padding: 6px\">Export to Video</span>\n            </v-expansion-panel-header>\n            <v-expansion-panel-content>\n              <v-row v-if=\"movie_msg!==''\">\n                <span class=\"v-messages v-messages__message text--secondary\" style=\"color: red !important\">\n                    {{ movie_msg }}\n                </span>\n              </v-row>\n              <v-row v-if=\"movie_msg===''\" class=\"row-no-outside-padding row-min-bottom-padding\">\n                <v-col>\n                  <v-text-field\n                    v-model.number=\"i_start\"\n                    class=\"mt-0 pt-0\"\n                    type=\"number\"\n                    :rules=\"[() => i_start>=0 || 'Must be at least zero.']\"\n                    label=\"Start\"\n                    hint=\"Start Slice\"\n                    persistent-hint\n                  ></v-text-field>\n                </v-col>\n                <v-col>\n                  <v-text-field\n                    v-model.number=\"i_end\"\n                    class=\"mt-0 pt-0\"\n                    type=\"number\"\n                    :rules=\"[() => i_end>i_start || 'Must be larger than Start Slice.']\"\n                    label=\"End\"\n                    hint=\"End Slice\"\n                     persistent-hint\n                  ></v-text-field>\n                </v-col>\n              </v-row>\n              <v-row v-if=\"movie_msg===''\" class=\"row-no-outside-padding row-min-bottom-padding\">\n                <v-col>\n                  <v-text-field\n                    v-model.number=\"movie_fps\"\n                    class=\"mt-0 pt-0\"\n                    type=\"number\"\n                    :rules=\"[() => movie_fps>0 || 'Must be positive.']\"\n                    label=\"FPS\"\n                    hint=\"Frame rate\"\n                     persistent-hint\n                  ></v-text-field>\n                </v-col>\n              </v-row>\n              <v-row v-if=\"movie_msg===''\" class=\"row-no-outside-padding row-min-bottom-padding\">\n                <v-col>\n                  <v-text-field\n                    v-model=\"movie_filename\"\n                    class=\"mt-0 pt-0\"\n                    :rules=\"[() => movie_filename!=='' || 'Must provide filename.']\"\n                    label=\"Filename\"\n                    hint=\"Movie filename\"\n                     persistent-hint\n                  ></v-text-field>\n                </v-col>\n              </v-row>\n              <v-row v-if=\"movie_msg===''\" justify='end'>\n                <v-tooltip top v-if=\"movie_recording\">\n                  <template v-slot:activator=\"{ on, attrs }\">\n                    <v-btn\n                     color=\"primary\"\n                     icon\n                     @click=\"interrupt_recording\"\n                     v-bind=\"attrs\"\n                     v-on=\"on\"\n                     :disabled=\"!movie_recording\">\n                      <v-icon>stop</v-icon>\n                    </v-btn>\n                  </template>\n                  <span>Interrupt recording and delete movie file</span>\n                </v-tooltip>\n\n                <v-tooltip top>\n                  <template v-slot:activator=\"{ on, attrs }\">\n                    <v-btn\n                     text\n                     color=\"primary\"\n                     @click=\"() => save_movie('mp4')\"\n                     v-bind=\"attrs\"\n                     v-on=\"on\"\n                     :disabled=\"movie_recording\"\n                    >\n                     Export to MP4\n                    </v-btn>\n                  </template>\n                  <span>Start movie recording</span>\n                </v-tooltip>\n              </v-row>\n            </v-expansion-panel-content>\n          </v-expansion-panel>\n        </v-expansion-panels>\n      </v-row>\n    </div>\n\n  </j-tray-plugin>\n</template>\n"
      }
     },
     "34234abf5fb741a286f626f2baae274a": {
      "model_module": "jupyter-splitpanes",
      "model_module_version": "^0.1.0",
      "model_name": "SplitPanesModel",
      "state": {
       "_dom_classes": [],
       "_model_module": "jupyter-splitpanes",
       "_model_module_version": "^0.1.0",
       "_model_name": "SplitPanesModel",
       "_view_count": null,
       "_view_module": null,
       "_view_module_version": "",
       "_view_name": null,
       "component_data": {},
       "group": {},
       "layout": "IPY_MODEL_9e34f2965b3f47168df9e88e38233266",
       "tabbable": null,
       "tag": "",
       "tooltip": null
      }
     },
     "357758cf8f6f4984a3b9e2b8d6ce1dad": {
      "model_module": "@jupyter-widgets/base",
      "model_module_version": "2.0.0",
      "model_name": "LayoutModel",
      "state": {
       "_model_module": "@jupyter-widgets/base",
       "_model_module_version": "2.0.0",
       "_model_name": "LayoutModel",
       "_view_count": null,
       "_view_module": "@jupyter-widgets/base",
       "_view_module_version": "2.0.0",
       "_view_name": "LayoutView",
       "align_content": null,
       "align_items": null,
       "align_self": null,
       "border_bottom": null,
       "border_left": null,
       "border_right": null,
       "border_top": null,
       "bottom": null,
       "display": null,
       "flex": null,
       "flex_flow": null,
       "grid_area": null,
       "grid_auto_columns": null,
       "grid_auto_flow": null,
       "grid_auto_rows": null,
       "grid_column": null,
       "grid_gap": null,
       "grid_row": null,
       "grid_template_areas": null,
       "grid_template_columns": null,
       "grid_template_rows": null,
       "height": null,
       "justify_content": null,
       "justify_items": null,
       "left": null,
       "margin": null,
       "max_height": null,
       "max_width": null,
       "min_height": null,
       "min_width": null,
       "object_fit": null,
       "object_position": null,
       "order": null,
       "overflow": null,
       "padding": null,
       "right": null,
       "top": null,
       "visibility": null,
       "width": null
      }
     },
     "35a8fa3b3bee43c884b57d258d827192": {
      "model_module": "jupyter-vuetify",
      "model_module_version": "^1.8.10",
      "model_name": "VuetifyTemplateModel",
      "state": {
       "_component_instances": [],
       "_dom_classes": [],
       "_jupyter_vue": "IPY_MODEL_28c992a30e9e48598df49b24e8922228",
       "_model_module": "jupyter-vuetify",
       "_model_module_version": "^1.8.10",
       "_model_name": "VuetifyTemplateModel",
       "_view_count": null,
       "_view_module": "jupyter-vuetify",
       "_view_module_version": "^1.8.10",
       "_view_name": "VuetifyView",
       "components": {
        "g-file-import": "IPY_MODEL_af0166a350654e71b5ddb25a28428c0b"
       },
       "config": "imviz",
       "css": null,
       "data": null,
       "dialog": false,
       "error_message": "",
       "events": [
        "load_data"
       ],
       "layout": "IPY_MODEL_e5bfc3f7dcb4476e89482a6a4ed9d00b",
       "methods": null,
       "popout_button": "IPY_MODEL_6174ad03849b48e9b0e7a1ff7c6c6dd6",
       "tabbable": null,
       "template": "IPY_MODEL_af91c2bb1fa1420fa98d0087db167469",
       "tooltip": null,
       "valid_path": true,
       "vdocs": "v3.7.0"
      }
     },
     "360a6f954f014a378a8b09db9da4ec27": {
      "model_module": "@jupyter-widgets/base",
      "model_module_version": "2.0.0",
      "model_name": "LayoutModel",
      "state": {
       "_model_module": "@jupyter-widgets/base",
       "_model_module_version": "2.0.0",
       "_model_name": "LayoutModel",
       "_view_count": null,
       "_view_module": "@jupyter-widgets/base",
       "_view_module_version": "2.0.0",
       "_view_name": "LayoutView",
       "align_content": null,
       "align_items": null,
       "align_self": null,
       "border_bottom": null,
       "border_left": null,
       "border_right": null,
       "border_top": null,
       "bottom": null,
       "display": null,
       "flex": null,
       "flex_flow": null,
       "grid_area": null,
       "grid_auto_columns": null,
       "grid_auto_flow": null,
       "grid_auto_rows": null,
       "grid_column": null,
       "grid_gap": null,
       "grid_row": null,
       "grid_template_areas": null,
       "grid_template_columns": null,
       "grid_template_rows": null,
       "height": null,
       "justify_content": null,
       "justify_items": null,
       "left": null,
       "margin": null,
       "max_height": null,
       "max_width": null,
       "min_height": null,
       "min_width": null,
       "object_fit": null,
       "object_position": null,
       "order": null,
       "overflow": null,
       "padding": null,
       "right": null,
       "top": null,
       "visibility": null,
       "width": null
      }
     },
     "36e335e5b3b84a8b933a2dfd31cbe433": {
      "model_module": "bqplot-image-gl",
      "model_module_version": "^1.4.11",
      "model_name": "BrushEllipseSelectorModel",
      "state": {
       "_model_module": "bqplot-image-gl",
       "_model_module_version": "^1.4.11",
       "_model_name": "BrushEllipseSelectorModel",
       "_view_count": null,
       "_view_module": "bqplot-image-gl",
       "_view_module_version": "^1.4.11",
       "_view_name": "BrushEllipseSelector",
       "border_style": {
        "cursor": "col-resize",
        "fill": "#cbcbcb",
        "opacity": 0.3,
        "stroke": "#cbcbcb",
        "stroke-width": "3px"
       },
       "brushing": false,
       "clear": false,
       "color": null,
       "marks": [],
       "pixel_aspect": null,
       "selected_x": null,
       "selected_y": null,
       "style": {
        "cursor": "grab",
        "fill": "#cbcbcb",
        "opacity": 0.3
       },
       "x_scale": "IPY_MODEL_e9d182703c7f421db9185b0e14f021b4",
       "y_scale": "IPY_MODEL_2575788ee3b245bca63f200cd5d496ce"
      }
     },
     "36f42f0572f34fe781b775b775f44d0a": {
      "buffers": [
       {
        "data": "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",
        "encoding": "base64",
        "path": [
         "value"
        ]
       }
      ],
      "model_module": "@jupyter-widgets/controls",
      "model_module_version": "2.0.0",
      "model_name": "ImageModel",
      "state": {
       "_dom_classes": [],
       "_model_module": "@jupyter-widgets/controls",
       "_model_module_version": "2.0.0",
       "_model_name": "ImageModel",
       "_view_count": null,
       "_view_module": "@jupyter-widgets/controls",
       "_view_module_version": "2.0.0",
       "_view_name": "ImageView",
       "format": "svg+xml",
       "height": "",
       "layout": "IPY_MODEL_54f7b296328d492fafd3f243c9d0cdfc",
       "tabbable": null,
       "tooltip": null,
       "width": "20"
      }
     },
     "372e242902e644568ae778fdddd50660": {
      "model_module": "@jupyter-widgets/base",
      "model_module_version": "2.0.0",
      "model_name": "LayoutModel",
      "state": {
       "_model_module": "@jupyter-widgets/base",
       "_model_module_version": "2.0.0",
       "_model_name": "LayoutModel",
       "_view_count": null,
       "_view_module": "@jupyter-widgets/base",
       "_view_module_version": "2.0.0",
       "_view_name": "LayoutView",
       "align_content": null,
       "align_items": null,
       "align_self": null,
       "border_bottom": null,
       "border_left": null,
       "border_right": null,
       "border_top": null,
       "bottom": null,
       "display": null,
       "flex": null,
       "flex_flow": null,
       "grid_area": null,
       "grid_auto_columns": null,
       "grid_auto_flow": null,
       "grid_auto_rows": null,
       "grid_column": null,
       "grid_gap": null,
       "grid_row": null,
       "grid_template_areas": null,
       "grid_template_columns": null,
       "grid_template_rows": null,
       "height": null,
       "justify_content": null,
       "justify_items": null,
       "left": null,
       "margin": null,
       "max_height": null,
       "max_width": null,
       "min_height": null,
       "min_width": null,
       "object_fit": null,
       "object_position": null,
       "order": null,
       "overflow": null,
       "padding": null,
       "right": null,
       "top": null,
       "visibility": null,
       "width": null
      }
     },
     "37927d1b738a45a6ac29587beccd2120": {
      "model_module": "@jupyter-widgets/base",
      "model_module_version": "2.0.0",
      "model_name": "LayoutModel",
      "state": {
       "_model_module": "@jupyter-widgets/base",
       "_model_module_version": "2.0.0",
       "_model_name": "LayoutModel",
       "_view_count": null,
       "_view_module": "@jupyter-widgets/base",
       "_view_module_version": "2.0.0",
       "_view_name": "LayoutView",
       "align_content": null,
       "align_items": null,
       "align_self": null,
       "border_bottom": null,
       "border_left": null,
       "border_right": null,
       "border_top": null,
       "bottom": null,
       "display": null,
       "flex": null,
       "flex_flow": null,
       "grid_area": null,
       "grid_auto_columns": null,
       "grid_auto_flow": null,
       "grid_auto_rows": null,
       "grid_column": null,
       "grid_gap": null,
       "grid_row": null,
       "grid_template_areas": null,
       "grid_template_columns": null,
       "grid_template_rows": null,
       "height": null,
       "justify_content": null,
       "justify_items": null,
       "left": null,
       "margin": null,
       "max_height": null,
       "max_width": null,
       "min_height": null,
       "min_width": null,
       "object_fit": null,
       "object_position": null,
       "order": null,
       "overflow": null,
       "padding": null,
       "right": null,
       "top": null,
       "visibility": null,
       "width": null
      }
     },
     "37b2cd608c164cb9817c3fd939b1f5ca": {
      "model_module": "jupyter-vuetify",
      "model_module_version": "^1.8.5",
      "model_name": "ListItemTitleModel",
      "state": {
       "_dom_classes": [],
       "_events": [],
       "_jupyter_vue": "IPY_MODEL_28c992a30e9e48598df49b24e8922228",
       "_metadata": null,
       "_model_module": "jupyter-vuetify",
       "_model_module_version": "^1.8.5",
       "_model_name": "ListItemTitleModel",
       "_view_count": null,
       "_view_module": "jupyter-vuetify",
       "_view_module_version": "^1.8.5",
       "_view_name": "VuetifyView",
       "attributes": {},
       "children": [
        "replace"
       ],
       "class_": null,
       "layout": null,
       "slot": null,
       "style_": null,
       "tabbable": null,
       "tooltip": null,
       "v_model": "!!disabled!!",
       "v_on": null,
       "v_slots": []
      }
     },
     "380469682a0f411c8704e6508aa426d4": {
      "model_module": "jupyter-vue",
      "model_module_version": "^1.10.1",
      "model_name": "TemplateModel",
      "state": {
       "_model_module": "jupyter-vue",
       "_model_module_version": "^1.10.1",
       "_model_name": "TemplateModel",
       "_view_count": null,
       "_view_module": null,
       "_view_module_version": "",
       "_view_name": null,
       "template": "<template>\n  <div class=\"plugin-plot-component\">\n    <v-row style=\"margin: 0px 0px -8px 0px !important\" justify=\"end\">\n      <div style=\"line-height: 64px; width=32px\" class=\"only-show-in-tray\">\n        <j-plugin-popout :popout_button=\"popout_button\"></j-plugin-popout>\n      </div>\n    </v-row>\n\n    <v-row style=\"margin: -16px 0px 8px 0px !important\">\n      <jupyter-widget :widget=\"figure\" style=\"height: 100%; width: 100%\" />\n    </v-row>\n\n  </div>\n</template>\n\n<script>\n</script>\n\n\n<style scoped>\n  .only-show-in-tray {\n    display: none;\n  }\n  .tray-plugin .only-show-in-tray {\n    display: inline-block;\n  }\n\n  .plugin-plot-component {\n    margin: 12px;\n  }\n  .tray-plugin .plugin-plot-component {\n    margin: 0px;\n    width: 100%;\n    height: 480px;\n  }\n\n</style>\n"
      }
     },
     "384413b78a4644fc91d906f433572f45": {
      "model_module": "jupyter-vue",
      "model_module_version": "^1.10.1",
      "model_name": "TemplateModel",
      "state": {
       "_model_module": "jupyter-vue",
       "_model_module_version": "^1.10.1",
       "_model_name": "TemplateModel",
       "_view_count": null,
       "_view_module": null,
       "_view_module_version": "",
       "_view_name": null,
       "template": "<template>\n    <v-menu :close-on-content-click=\"!multiple\">\n\n        <template #activator=\"{ on: menu }\">\n            <div v-on=\"menu\" class=\"py-2 glue__subset-select\">\n                <v-chip v-if=\"selected.length === 0\" style=\"cursor: pointer\">\n                    <v-icon left>add</v-icon>\n                    {{ no_selection_text }}\n                </v-chip>\n                <v-tooltip v-else v-for=\"subset in toSubsets(selected)\" :key=subset.label bottom>\n                    <template #activator=\"{ on: tooltip }\">\n                        <v-chip v-on=\"(selected.length > nr_of_full_names) ? tooltip : {}\" style=\"cursor: pointer\">\n                            <v-icon left :color=\"subset.color\">\n                                signal_cellular_4_bar\n                            </v-icon>\n                            {{ (selected.length <= nr_of_full_names) ? subset.label : '' }}\n                        </v-chip>\n                    </template>\n                    {{ subset.label }}\n                </v-tooltip>\n            </div>\n        </template>\n\n        <v-list class=\"indigo--text\">\n            <v-list-item\n                    @click=\"deselect\"\n                    :class=\"(selected.length === 0) ? 'v-list-item--active' : ''\">\n                <v-list-item-icon>\n                    <v-icon>add</v-icon>\n                </v-list-item-icon>\n                <v-list-item-content>\n                    <v-list-item-title>{{ no_selection_text }}</v-list-item-title>\n                </v-list-item-content>\n            </v-list-item>\n\n            <v-list-item\n                    v-for=\"(subset, index) in available\"\n                    :key=\"subset.label\"\n                    :class=\"(selected.includes(index)) ? 'v-list-item--active' : ''\"\n                    @click=\"toggleSubset(index)\">\n                <v-list-item-icon>\n                    <v-icon :color=\"subset.color\">signal_cellular_4_bar</v-icon>\n                </v-list-item-icon>\n                <v-list-item-content>\n                    <v-list-item-title>\n                        <span style=\"line-height: 2.2\">{{ subset.label }}</span>\n                        <v-btn icon @click.stop=\"remove_subset(index); toggleSubset(index)\" class=\"float-right\">\n                            <v-icon>mdi-delete</v-icon>\n                        </v-btn>\n                    </v-list-item-title>\n                </v-list-item-content>\n            </v-list-item>\n\n            <v-switch v-if=\"show_allow_multiple_subsets\" v-model=\"multiple\" label=\"Allow multiple subsets\" @click=\"handleMultiple\" class=\"px-4\"></v-switch>\n        </v-list>\n    </v-menu>\n</template>\n"
      }
     },
     "386405f610b44984baf8fb1cbe726db3": {
      "model_module": "@jupyter-widgets/base",
      "model_module_version": "2.0.0",
      "model_name": "LayoutModel",
      "state": {
       "_model_module": "@jupyter-widgets/base",
       "_model_module_version": "2.0.0",
       "_model_name": "LayoutModel",
       "_view_count": null,
       "_view_module": "@jupyter-widgets/base",
       "_view_module_version": "2.0.0",
       "_view_name": "LayoutView",
       "align_content": null,
       "align_items": null,
       "align_self": null,
       "border_bottom": null,
       "border_left": null,
       "border_right": null,
       "border_top": null,
       "bottom": null,
       "display": null,
       "flex": null,
       "flex_flow": null,
       "grid_area": null,
       "grid_auto_columns": null,
       "grid_auto_flow": null,
       "grid_auto_rows": null,
       "grid_column": null,
       "grid_gap": null,
       "grid_row": null,
       "grid_template_areas": null,
       "grid_template_columns": null,
       "grid_template_rows": null,
       "height": null,
       "justify_content": null,
       "justify_items": null,
       "left": null,
       "margin": null,
       "max_height": null,
       "max_width": null,
       "min_height": null,
       "min_width": null,
       "object_fit": null,
       "object_position": null,
       "order": null,
       "overflow": null,
       "padding": null,
       "right": null,
       "top": null,
       "visibility": null,
       "width": null
      }
     },
     "397f525eddd149bd96eb23ec3e50eec7": {
      "model_module": "@jupyter-widgets/base",
      "model_module_version": "2.0.0",
      "model_name": "LayoutModel",
      "state": {
       "_model_module": "@jupyter-widgets/base",
       "_model_module_version": "2.0.0",
       "_model_name": "LayoutModel",
       "_view_count": null,
       "_view_module": "@jupyter-widgets/base",
       "_view_module_version": "2.0.0",
       "_view_name": "LayoutView",
       "align_content": null,
       "align_items": null,
       "align_self": null,
       "border_bottom": null,
       "border_left": null,
       "border_right": null,
       "border_top": null,
       "bottom": null,
       "display": null,
       "flex": null,
       "flex_flow": null,
       "grid_area": null,
       "grid_auto_columns": null,
       "grid_auto_flow": null,
       "grid_auto_rows": null,
       "grid_column": null,
       "grid_gap": null,
       "grid_row": null,
       "grid_template_areas": null,
       "grid_template_columns": null,
       "grid_template_rows": null,
       "height": null,
       "justify_content": null,
       "justify_items": null,
       "left": null,
       "margin": null,
       "max_height": null,
       "max_width": null,
       "min_height": null,
       "min_width": null,
       "object_fit": null,
       "object_position": null,
       "order": null,
       "overflow": null,
       "padding": null,
       "right": null,
       "top": null,
       "visibility": null,
       "width": null
      }
     },
     "3b7e7fb2d67c474798ce90c31553fc5e": {
      "model_module": "bqplot",
      "model_module_version": "^0.5",
      "model_name": "LinearScaleModel",
      "state": {
       "_model_module": "bqplot",
       "_model_module_version": "^0.5",
       "_model_name": "LinearScaleModel",
       "_view_count": null,
       "_view_module": "bqplot",
       "_view_module_version": "^0.5",
       "_view_name": "LinearScale",
       "allow_padding": true,
       "max": null,
       "mid_range": 0.8,
       "min": null,
       "min_range": 0.6,
       "reverse": false,
       "stabilized": false
      }
     },
     "3bdfe5f165d144d9a1a1199de3a4e51b": {
      "model_module": "@jupyter-widgets/base",
      "model_module_version": "2.0.0",
      "model_name": "LayoutModel",
      "state": {
       "_model_module": "@jupyter-widgets/base",
       "_model_module_version": "2.0.0",
       "_model_name": "LayoutModel",
       "_view_count": null,
       "_view_module": "@jupyter-widgets/base",
       "_view_module_version": "2.0.0",
       "_view_name": "LayoutView",
       "align_content": null,
       "align_items": null,
       "align_self": null,
       "border_bottom": null,
       "border_left": null,
       "border_right": null,
       "border_top": null,
       "bottom": null,
       "display": null,
       "flex": null,
       "flex_flow": null,
       "grid_area": null,
       "grid_auto_columns": null,
       "grid_auto_flow": null,
       "grid_auto_rows": null,
       "grid_column": null,
       "grid_gap": null,
       "grid_row": null,
       "grid_template_areas": null,
       "grid_template_columns": null,
       "grid_template_rows": null,
       "height": null,
       "justify_content": null,
       "justify_items": null,
       "left": null,
       "margin": null,
       "max_height": null,
       "max_width": null,
       "min_height": null,
       "min_width": null,
       "object_fit": null,
       "object_position": null,
       "order": null,
       "overflow": null,
       "padding": null,
       "right": null,
       "top": null,
       "visibility": null,
       "width": null
      }
     },
     "3c39ccb251f94b078682f8e35eed4e20": {
      "model_module": "jupyter-vuetify",
      "model_module_version": "^1.8.5",
      "model_name": "ListItemModel",
      "state": {
       "_dom_classes": [],
       "_events": [
        "click"
       ],
       "_jupyter_vue": "IPY_MODEL_28c992a30e9e48598df49b24e8922228",
       "_metadata": null,
       "_model_module": "jupyter-vuetify",
       "_model_module_version": "^1.8.5",
       "_model_name": "ListItemModel",
       "_view_count": null,
       "_view_module": "jupyter-vuetify",
       "_view_module_version": "^1.8.5",
       "_view_name": "VuetifyView",
       "active_class": null,
       "append": null,
       "attributes": {},
       "children": [
        "IPY_MODEL_1d8f2fd7b233497ca31c4f1a7d330ce7",
        "IPY_MODEL_e791cfbbcdc2428f8b623d0e189a7dbd"
       ],
       "class_": null,
       "color": null,
       "dark": null,
       "dense": null,
       "disabled": null,
       "exact": null,
       "exact_active_class": null,
       "href": null,
       "inactive": null,
       "input_value": null,
       "layout": null,
       "light": null,
       "link": null,
       "nuxt": null,
       "replace": null,
       "ripple": null,
       "selectable": null,
       "slot": null,
       "style_": null,
       "tabbable": null,
       "tag": null,
       "target": null,
       "three_line": null,
       "to": null,
       "tooltip": null,
       "two_line": null,
       "v_model": "!!disabled!!",
       "v_on": null,
       "v_slots": [],
       "value": null
      }
     },
     "3d7c2f7009cf478d85e2141def4fc49b": {
      "model_module": "bqplot",
      "model_module_version": "^0.5",
      "model_name": "LinearScaleModel",
      "state": {
       "_model_module": "bqplot",
       "_model_module_version": "^0.5",
       "_model_name": "LinearScaleModel",
       "_view_count": null,
       "_view_module": "bqplot",
       "_view_module_version": "^0.5",
       "_view_name": "LinearScale",
       "allow_padding": false,
       "max": 1.0,
       "mid_range": 0.8,
       "min": 0.0,
       "min_range": 0.6,
       "reverse": false,
       "stabilized": false
      }
     },
     "3e9dd2b87edf43028140da6e465277b2": {
      "model_module": "jupyter-vuetify",
      "model_module_version": "^1.8.5",
      "model_name": "ListItemActionModel",
      "state": {
       "_dom_classes": [],
       "_events": [],
       "_jupyter_vue": "IPY_MODEL_28c992a30e9e48598df49b24e8922228",
       "_metadata": null,
       "_model_module": "jupyter-vuetify",
       "_model_module_version": "^1.8.5",
       "_model_name": "ListItemActionModel",
       "_view_count": null,
       "_view_module": "jupyter-vuetify",
       "_view_module_version": "^1.8.5",
       "_view_name": "VuetifyView",
       "attributes": {},
       "children": [
        "IPY_MODEL_56e7ad13209d43ffb3d2ee0ff56bf60a"
       ],
       "class_": null,
       "layout": null,
       "slot": null,
       "style_": null,
       "tabbable": null,
       "tooltip": null,
       "v_model": "!!disabled!!",
       "v_on": null,
       "v_slots": []
      }
     },
     "3f17f26379f64ce6bf91c21236745296": {
      "model_module": "@jupyter-widgets/base",
      "model_module_version": "2.0.0",
      "model_name": "LayoutModel",
      "state": {
       "_model_module": "@jupyter-widgets/base",
       "_model_module_version": "2.0.0",
       "_model_name": "LayoutModel",
       "_view_count": null,
       "_view_module": "@jupyter-widgets/base",
       "_view_module_version": "2.0.0",
       "_view_name": "LayoutView",
       "align_content": null,
       "align_items": null,
       "align_self": null,
       "border_bottom": null,
       "border_left": null,
       "border_right": null,
       "border_top": null,
       "bottom": null,
       "display": null,
       "flex": null,
       "flex_flow": null,
       "grid_area": null,
       "grid_auto_columns": null,
       "grid_auto_flow": null,
       "grid_auto_rows": null,
       "grid_column": null,
       "grid_gap": null,
       "grid_row": null,
       "grid_template_areas": null,
       "grid_template_columns": null,
       "grid_template_rows": null,
       "height": null,
       "justify_content": null,
       "justify_items": null,
       "left": null,
       "margin": null,
       "max_height": null,
       "max_width": null,
       "min_height": null,
       "min_width": null,
       "object_fit": null,
       "object_position": null,
       "order": null,
       "overflow": null,
       "padding": null,
       "right": null,
       "top": null,
       "visibility": null,
       "width": null
      }
     },
     "3f285288c5e4420895252d5c76e22f79": {
      "model_module": "jupyter-vuetify",
      "model_module_version": "^1.8.5",
      "model_name": "BtnModel",
      "state": {
       "_dom_classes": [],
       "_events": [],
       "_jupyter_vue": "IPY_MODEL_28c992a30e9e48598df49b24e8922228",
       "_metadata": null,
       "_model_module": "jupyter-vuetify",
       "_model_module_version": "^1.8.5",
       "_model_name": "BtnModel",
       "_view_count": null,
       "_view_module": "jupyter-vuetify",
       "_view_module_version": "^1.8.5",
       "_view_name": "VuetifyView",
       "absolute": null,
       "active_class": null,
       "append": null,
       "attributes": {},
       "block": null,
       "bottom": null,
       "children": [
        "IPY_MODEL_36f42f0572f34fe781b775b775f44d0a"
       ],
       "class_": null,
       "color": null,
       "dark": null,
       "depressed": null,
       "disabled": null,
       "elevation": null,
       "exact": null,
       "exact_active_class": null,
       "fab": null,
       "fixed": null,
       "height": null,
       "href": null,
       "icon": true,
       "input_value": null,
       "large": null,
       "layout": null,
       "left": null,
       "light": null,
       "link": null,
       "loading": null,
       "max_height": null,
       "max_width": null,
       "min_height": null,
       "min_width": null,
       "nuxt": null,
       "outlined": null,
       "replace": null,
       "retain_focus_on_click": null,
       "right": null,
       "ripple": null,
       "rounded": null,
       "slot": null,
       "small": null,
       "style_": null,
       "tabbable": null,
       "tag": null,
       "target": null,
       "text": null,
       "tile": null,
       "to": null,
       "tooltip": null,
       "top": null,
       "type": null,
       "v_model": "!!disabled!!",
       "v_on": "menu.on",
       "v_slots": [],
       "value": null,
       "width": null,
       "x_large": null,
       "x_small": null
      }
     },
     "3fe456ee2d4b415380737cbea5c323f2": {
      "model_module": "@jupyter-widgets/base",
      "model_module_version": "2.0.0",
      "model_name": "LayoutModel",
      "state": {
       "_model_module": "@jupyter-widgets/base",
       "_model_module_version": "2.0.0",
       "_model_name": "LayoutModel",
       "_view_count": null,
       "_view_module": "@jupyter-widgets/base",
       "_view_module_version": "2.0.0",
       "_view_name": "LayoutView",
       "align_content": null,
       "align_items": null,
       "align_self": null,
       "border_bottom": null,
       "border_left": null,
       "border_right": null,
       "border_top": null,
       "bottom": null,
       "display": null,
       "flex": null,
       "flex_flow": null,
       "grid_area": "dircontent",
       "grid_auto_columns": null,
       "grid_auto_flow": null,
       "grid_auto_rows": null,
       "grid_column": null,
       "grid_gap": null,
       "grid_row": null,
       "grid_template_areas": null,
       "grid_template_columns": null,
       "grid_template_rows": null,
       "height": null,
       "justify_content": null,
       "justify_items": null,
       "left": null,
       "margin": null,
       "max_height": null,
       "max_width": null,
       "min_height": null,
       "min_width": null,
       "object_fit": null,
       "object_position": null,
       "order": null,
       "overflow": null,
       "padding": null,
       "right": null,
       "top": null,
       "visibility": null,
       "width": "auto"
      }
     },
     "40346ea7fc10495d896894d496e15fe4": {
      "model_module": "@jupyter-widgets/controls",
      "model_module_version": "2.0.0",
      "model_name": "SelectMultipleModel",
      "state": {
       "_dom_classes": [],
       "_model_module": "@jupyter-widgets/controls",
       "_model_module_version": "2.0.0",
       "_model_name": "SelectMultipleModel",
       "_options_labels": [],
       "_view_count": null,
       "_view_module": "@jupyter-widgets/controls",
       "_view_module_version": "2.0.0",
       "_view_name": "SelectMultipleView",
       "description": "",
       "description_allow_html": false,
       "disabled": false,
       "index": [],
       "layout": "IPY_MODEL_5904071271e14cd7af04ecb3fce668a0",
       "rows": 5,
       "style": "IPY_MODEL_fc96685ebeb94fc588e5f929c3b27ea8",
       "tabbable": null,
       "tooltip": null
      }
     },
     "404287f3b9ca4e309732cb67ee696ffd": {
      "model_module": "jupyter-vuetify",
      "model_module_version": "^1.8.10",
      "model_name": "VuetifyTemplateModel",
      "state": {
       "_component_instances": [],
       "_dom_classes": [],
       "_jupyter_vue": "IPY_MODEL_28c992a30e9e48598df49b24e8922228",
       "_model_module": "jupyter-vuetify",
       "_model_module_version": "^1.8.10",
       "_model_name": "VuetifyTemplateModel",
       "_view_count": null,
       "_view_module": "jupyter-vuetify",
       "_view_module_version": "^1.8.10",
       "_view_name": "VuetifyView",
       "attribute_items": [
        {
         "text": "DATA",
         "value": 0
        }
       ],
       "attribute_selected": 0,
       "c_levels_error": "",
       "c_levels_txt": "",
       "color_mode": "One color per layer",
       "colormap_items": [
        {
         "text": "Gray",
         "value": "gray"
        },
        {
         "text": "Viridis",
         "value": "viridis"
        },
        {
         "text": "Plasma",
         "value": "plasma"
        },
        {
         "text": "Inferno",
         "value": "inferno"
        },
        {
         "text": "Magma",
         "value": "magma"
        },
        {
         "text": "Purple-Blue",
         "value": "PuBu"
        },
        {
         "text": "Yellow-Green-Blue",
         "value": "YlGnBu"
        },
        {
         "text": "Yellow-Orange-Red",
         "value": "YlOrRd"
        },
        {
         "text": "Red-Purple",
         "value": "RdPu"
        },
        {
         "text": "Blue-Green",
         "value": "BuGn"
        },
        {
         "text": "Hot",
         "value": "hot"
        },
        {
         "text": "Red-Blue",
         "value": "RdBu"
        },
        {
         "text": "Red-Yellow-Blue",
         "value": "RdYlBu"
        },
        {
         "text": "Purple-Orange",
         "value": "PuOr"
        },
        {
         "text": "Purple-Green",
         "value": "PRGn"
        },
        {
         "text": "Rainbow",
         "value": "rainbow"
        },
        {
         "text": "Seismic",
         "value": "seismic"
        },
        {
         "text": "Reversed: Gray",
         "value": "gray_r"
        },
        {
         "text": "Reversed: Viridis",
         "value": "viridis_r"
        },
        {
         "text": "Reversed: Plasma",
         "value": "plasma_r"
        },
        {
         "text": "Reversed: Inferno",
         "value": "inferno_r"
        },
        {
         "text": "Reversed: Magma",
         "value": "magma_r"
        },
        {
         "text": "Reversed: Hot",
         "value": "hot_r"
        },
        {
         "text": "Reversed: Rainbow",
         "value": "rainbow_r"
        }
       ],
       "components": null,
       "css": null,
       "data": null,
       "events": [
        "set_colormap"
       ],
       "glue_state": {
        "alpha": 0.4,
        "attribute": "611cfa3b-ebb5-42d2-b5c7-ba9bce8b51a4",
        "bias": 0.27,
        "bitmap_visible": true,
        "c_max": 228.35162353515625,
        "c_min": 0.0,
        "cmap": "gray",
        "color": "#f7787d",
        "contour_colors": [
         "red",
         "orange",
         "yellow",
         "green",
         "blue"
        ],
        "contour_percentile": 100,
        "contour_visible": false,
        "contrast": 2.53,
        "global_sync": false,
        "labels": [
         "38.06",
         "76.12",
         "114.2",
         "152.2",
         "190.3"
        ],
        "layer": "611cfa3b-ebb5-42d2-b5c7-ba9bce8b51a4",
        "level_mode": "Linear",
        "levels": [
         38.05860392252604,
         76.11720784505208,
         114.17581176757812,
         152.23441569010416,
         190.2930196126302
        ],
        "n_levels": 5,
        "percentile": "Custom",
        "stretch": "linear",
        "v_max": 11.0,
        "v_min": 1.0,
        "visible": true,
        "zorder": 6
       },
       "has_contour": true,
       "layout": "IPY_MODEL_41c27c36f617472a8356245960e4a541",
       "methods": null,
       "percentile_items": [
        {
         "text": "Min/Max",
         "value": 0
        },
        {
         "text": "99.5%",
         "value": 1
        },
        {
         "text": "99%",
         "value": 2
        },
        {
         "text": "95%",
         "value": 3
        },
        {
         "text": "90%",
         "value": 4
        },
        {
         "text": "Custom",
         "value": 5
        }
       ],
       "percentile_selected": 5,
       "stretch_items": [
        {
         "text": "Linear",
         "value": 0
        },
        {
         "text": "Square Root",
         "value": 1
        },
        {
         "text": "Arcsinh",
         "value": 2
        },
        {
         "text": "Logarithmic",
         "value": 3
        }
       ],
       "stretch_selected": 0,
       "tabbable": null,
       "template": "IPY_MODEL_c96086e872174c0da0a6b7ea39154936",
       "tooltip": null
      }
     },
     "40f04dfd580043b3bf9f4f7419b03c4f": {
      "model_module": "@jupyter-widgets/base",
      "model_module_version": "2.0.0",
      "model_name": "LayoutModel",
      "state": {
       "_model_module": "@jupyter-widgets/base",
       "_model_module_version": "2.0.0",
       "_model_name": "LayoutModel",
       "_view_count": null,
       "_view_module": "@jupyter-widgets/base",
       "_view_module_version": "2.0.0",
       "_view_name": "LayoutView",
       "align_content": null,
       "align_items": null,
       "align_self": null,
       "border_bottom": null,
       "border_left": null,
       "border_right": null,
       "border_top": null,
       "bottom": null,
       "display": null,
       "flex": null,
       "flex_flow": null,
       "grid_area": "pathlist",
       "grid_auto_columns": null,
       "grid_auto_flow": null,
       "grid_auto_rows": null,
       "grid_column": null,
       "grid_gap": null,
       "grid_row": null,
       "grid_template_areas": null,
       "grid_template_columns": null,
       "grid_template_rows": null,
       "height": null,
       "justify_content": null,
       "justify_items": null,
       "left": null,
       "margin": null,
       "max_height": null,
       "max_width": null,
       "min_height": null,
       "min_width": null,
       "object_fit": null,
       "object_position": null,
       "order": null,
       "overflow": null,
       "padding": null,
       "right": null,
       "top": null,
       "visibility": null,
       "width": "auto"
      }
     },
     "41c27c36f617472a8356245960e4a541": {
      "model_module": "@jupyter-widgets/base",
      "model_module_version": "2.0.0",
      "model_name": "LayoutModel",
      "state": {
       "_model_module": "@jupyter-widgets/base",
       "_model_module_version": "2.0.0",
       "_model_name": "LayoutModel",
       "_view_count": null,
       "_view_module": "@jupyter-widgets/base",
       "_view_module_version": "2.0.0",
       "_view_name": "LayoutView",
       "align_content": null,
       "align_items": null,
       "align_self": null,
       "border_bottom": null,
       "border_left": null,
       "border_right": null,
       "border_top": null,
       "bottom": null,
       "display": null,
       "flex": null,
       "flex_flow": null,
       "grid_area": null,
       "grid_auto_columns": null,
       "grid_auto_flow": null,
       "grid_auto_rows": null,
       "grid_column": null,
       "grid_gap": null,
       "grid_row": null,
       "grid_template_areas": null,
       "grid_template_columns": null,
       "grid_template_rows": null,
       "height": null,
       "justify_content": null,
       "justify_items": null,
       "left": null,
       "margin": null,
       "max_height": null,
       "max_width": null,
       "min_height": null,
       "min_width": null,
       "object_fit": null,
       "object_position": null,
       "order": null,
       "overflow": null,
       "padding": null,
       "right": null,
       "top": null,
       "visibility": null,
       "width": null
      }
     },
     "41c5ae76232c44788651409a4dbd15d5": {
      "model_module": "jupyter-vuetify",
      "model_module_version": "^1.8.10",
      "model_name": "VuetifyTemplateModel",
      "state": {
       "_component_instances": [],
       "_dom_classes": [],
       "_jupyter_vue": "IPY_MODEL_28c992a30e9e48598df49b24e8922228",
       "_model_module": "jupyter-vuetify",
       "_model_module_version": "^1.8.10",
       "_model_name": "VuetifyTemplateModel",
       "_view_count": null,
       "_view_module": "jupyter-vuetify",
       "_view_module_version": "^1.8.10",
       "_view_name": "VuetifyView",
       "components": null,
       "css": null,
       "data": null,
       "echo_available": true,
       "events": [],
       "is_displayed": false,
       "kernel_id": "",
       "layout": "IPY_MODEL_c2c962295f604195afe0264e9919061e",
       "methods": null,
       "open_tab_on_display": false,
       "open_window_on_display": false,
       "tabbable": null,
       "target_model_id": "8f976b7160f045b8b8fb1f0e568a937e",
       "template": "IPY_MODEL_d55e72844de240529f76b5d1b37d37bf",
       "tooltip": null,
       "window_features": "popup,width=400,height=600",
       "window_name": "8f976b7160f045b8b8fb1f0e568a937e"
      }
     },
     "43b57a18f0f746fd8c761ebfebba1e09": {
      "model_module": "@jupyter-widgets/base",
      "model_module_version": "2.0.0",
      "model_name": "LayoutModel",
      "state": {
       "_model_module": "@jupyter-widgets/base",
       "_model_module_version": "2.0.0",
       "_model_name": "LayoutModel",
       "_view_count": null,
       "_view_module": "@jupyter-widgets/base",
       "_view_module_version": "2.0.0",
       "_view_name": "LayoutView",
       "align_content": null,
       "align_items": null,
       "align_self": null,
       "border_bottom": null,
       "border_left": null,
       "border_right": null,
       "border_top": null,
       "bottom": null,
       "display": null,
       "flex": null,
       "flex_flow": null,
       "grid_area": null,
       "grid_auto_columns": null,
       "grid_auto_flow": null,
       "grid_auto_rows": null,
       "grid_column": null,
       "grid_gap": null,
       "grid_row": null,
       "grid_template_areas": null,
       "grid_template_columns": null,
       "grid_template_rows": null,
       "height": null,
       "justify_content": null,
       "justify_items": null,
       "left": null,
       "margin": null,
       "max_height": null,
       "max_width": null,
       "min_height": null,
       "min_width": null,
       "object_fit": null,
       "object_position": null,
       "order": null,
       "overflow": null,
       "padding": null,
       "right": null,
       "top": null,
       "visibility": null,
       "width": null
      }
     },
     "43c2cde5fc2b4806933ad39bb423842d": {
      "model_module": "@jupyter-widgets/base",
      "model_module_version": "2.0.0",
      "model_name": "LayoutModel",
      "state": {
       "_model_module": "@jupyter-widgets/base",
       "_model_module_version": "2.0.0",
       "_model_name": "LayoutModel",
       "_view_count": null,
       "_view_module": "@jupyter-widgets/base",
       "_view_module_version": "2.0.0",
       "_view_name": "LayoutView",
       "align_content": null,
       "align_items": null,
       "align_self": null,
       "border_bottom": null,
       "border_left": null,
       "border_right": null,
       "border_top": null,
       "bottom": null,
       "display": null,
       "flex": null,
       "flex_flow": null,
       "grid_area": null,
       "grid_auto_columns": null,
       "grid_auto_flow": null,
       "grid_auto_rows": null,
       "grid_column": null,
       "grid_gap": null,
       "grid_row": null,
       "grid_template_areas": null,
       "grid_template_columns": null,
       "grid_template_rows": null,
       "height": null,
       "justify_content": null,
       "justify_items": null,
       "left": null,
       "margin": null,
       "max_height": null,
       "max_width": null,
       "min_height": null,
       "min_width": null,
       "object_fit": null,
       "object_position": null,
       "order": null,
       "overflow": null,
       "padding": null,
       "right": null,
       "top": null,
       "visibility": null,
       "width": null
      }
     },
     "43fde0142d2a455dbdc035f3b952b81e": {
      "model_module": "@jupyter-widgets/controls",
      "model_module_version": "2.0.0",
      "model_name": "SelectModel",
      "state": {
       "_dom_classes": [],
       "_model_module": "@jupyter-widgets/controls",
       "_model_module_version": "2.0.0",
       "_model_name": "SelectModel",
       "_options_labels": [
        "../",
        "imviz_rgb_carina.ipynb",
        "requirements.txt"
       ],
       "_view_count": null,
       "_view_module": "@jupyter-widgets/controls",
       "_view_module_version": "2.0.0",
       "_view_name": "SelectView",
       "description": "",
       "description_allow_html": false,
       "disabled": false,
       "index": null,
       "layout": "IPY_MODEL_3fe456ee2d4b415380737cbea5c323f2",
       "rows": 8,
       "style": "IPY_MODEL_fd2d50ec51a744b293b339b809fda753",
       "tabbable": null,
       "tooltip": null
      }
     },
     "4421ecd471fe4999aacee937d49b4916": {
      "model_module": "bqplot",
      "model_module_version": "^0.5",
      "model_name": "FigureModel",
      "state": {
       "_dom_classes": [],
       "_model_module": "bqplot",
       "_model_module_version": "^0.5",
       "_model_name": "FigureModel",
       "_view_count": null,
       "_view_module": "bqplot",
       "_view_module_version": "^0.5",
       "_view_name": "Figure",
       "animation_duration": 0,
       "axes": [
        "IPY_MODEL_077b57a060fe4e8487f94088d8e8b1f2",
        "IPY_MODEL_21a45ec86f364c0ea80d0cba770ec864"
       ],
       "background_style": {},
       "fig_margin": {
        "bottom": 60,
        "left": 40,
        "right": 10,
        "top": 60
       },
       "interaction": null,
       "layout": "IPY_MODEL_ba0b5a46165c42f2a8537a354e574e25",
       "legend_location": "top-right",
       "legend_style": {},
       "legend_text": {},
       "marks": [
        "IPY_MODEL_53ed7cc0e6104d3c993315965b2bdd1a",
        "IPY_MODEL_b602352672674bb6a23da499468ee051",
        "IPY_MODEL_fbc1130e3fc54a82b21bc0f8b89ed2b0"
       ],
       "max_aspect_ratio": 100.0,
       "min_aspect_ratio": 0.01,
       "padding_x": 0.0,
       "padding_y": 0.025,
       "pixel_ratio": null,
       "scale_x": "IPY_MODEL_b83a5c2d1207454eb4852526c7fff488",
       "scale_y": "IPY_MODEL_208af50f8b2d482bbe6163c3c5f7cb37",
       "tabbable": null,
       "theme": "classic",
       "title": "",
       "title_style": {
        "font-size": "12px"
       },
       "tooltip": null
      }
     },
     "4453b19ab43d4cdb849c19d63569e6dc": {
      "model_module": "jupyter-vue",
      "model_module_version": "^1.10.1",
      "model_name": "TemplateModel",
      "state": {
       "_model_module": "jupyter-vue",
       "_model_module_version": "^1.10.1",
       "_model_name": "TemplateModel",
       "_view_count": null,
       "_view_module": null,
       "_view_module_version": "",
       "_view_name": null,
       "template": "<template>\n  <j-tray-plugin\n    description='Viewer and data/layer options.'\n    :link=\"docs_link || 'https://jdaviz.readthedocs.io/en/'+vdocs+'/'+config+'/plugins.html#plot-options'\"\n    :uses_active_status=\"uses_active_status\"\n    @plugin-ping=\"plugin_ping($event)\"\n    :popout_button=\"popout_button\">\n\n    <v-row>\n      <v-expansion-panels popout>\n        <v-expansion-panel>\n          <v-expansion-panel-header v-slot=\"{ open }\">\n            <span style=\"padding: 6px\">Settings</span>\n          </v-expansion-panel-header>\n          <v-expansion-panel-content>\n            <v-row>\n              <v-switch\n                v-model=\"show_viewer_labels\"\n                label=\"Show labels in viewers\"\n                hint=\"Whether to show viewer/layer labels on each viewer\"\n                persistent-hint\n              ></v-switch>\n            </v-row>\n          </v-expansion-panel-content>\n        </v-expansion-panel>\n      </v-expansion-panels>\n    </v-row>\n\n    <v-row>\n      <div style=\"width: calc(100% - 32px)\">\n      </div>\n      <div style=\"width: 32px\">\n        <j-tooltip tipid='plugin-plot-options-multiselect-toggle'>\n          <v-btn\n            icon\n            style=\"opacity: 0.7\"\n            @click=\"() => {multiselect = !multiselect}\"\n          >\n            <img :src=\"multiselect ? icon_checktoradial : icon_radialtocheck\" width=\"24\" class=\"invert-if-dark\"/>\n          </v-btn>\n        </j-tooltip>\n      </div>\n    </v-row>\n\n    <plugin-viewer-select\n      :items=\"viewer_items\"\n      :selected.sync=\"viewer_selected\"\n      :multiselect=\"multiselect\"\n      :label=\"multiselect ? 'Viewers' : 'Viewer'\"\n      :show_if_single_entry=\"multiselect\"\n      :hint=\"multiselect ? 'Select viewers to set options simultaneously' : 'Select the viewer to set options.'\"\n    />\n\n    <plugin-layer-select\n      :items=\"layer_items\"\n      :selected.sync=\"layer_selected\"\n      :multiselect=\"multiselect\"\n      :show_if_single_entry=\"true\"\n      :label=\"multiselect ? 'Layers': 'Layer'\"\n      :hint=\"multiselect ? 'Select layers to set options simultaneously' : 'Select the data or subset to set options.'\"\n    />\n\n    <j-plugin-section-header v-if=\"layer_selected.length && (line_visible_sync.in_subscribed_states || subset_visible_sync.in_subscribed_states)\">Layer Visibility</j-plugin-section-header>\n    <glue-state-sync-wrapper :sync=\"marker_visible_sync\" :multiselect=\"multiselect\" @unmix-state=\"unmix_state('marker_visible')\">\n      <span>\n        <v-btn icon @click.stop=\"marker_visible_value = !marker_visible_value\">\n          <v-icon>mdi-eye{{ marker_visible_value ? '' : '-off' }}</v-icon>\n        </v-btn>\n        Show Marker\n      </span>\n    </glue-state-sync-wrapper>\n\n    <glue-state-sync-wrapper :sync=\"line_visible_sync\" :multiselect=\"multiselect\" @unmix-state=\"unmix_state('line_visible')\">\n      <span>\n        <v-btn icon @click.stop=\"line_visible_value = !line_visible_value\">\n          <v-icon>mdi-eye{{ line_visible_value ? '' : '-off' }}</v-icon>\n        </v-btn>\n        Show Line\n      </span>\n    </glue-state-sync-wrapper>\n\n    <glue-state-sync-wrapper :sync=\"subset_visible_sync\" :multiselect=\"multiselect\" @unmix-state=\"unmix_state('subset_visible')\">\n      <span>\n        <v-btn icon @click.stop=\"subset_visible_value = !subset_visible_value\">\n          <v-icon>mdi-eye{{ subset_visible_value ? '' : '-off' }}</v-icon>\n        </v-btn>\n        Show Subset\n      </span>\n    </glue-state-sync-wrapper>\n\n    <glue-state-sync-wrapper v-if=\"subset_visible_value\" :sync=\"subset_color_sync\" :multiselect=\"multiselect\" @unmix-state=\"unmix_state('subset_color')\">\n      <div>\n        <v-subheader class=\"pl-0 slider-label\" style=\"height: 12px\">Subset Color</v-subheader>\n        <v-menu>\n          <template v-slot:activator=\"{ on }\">\n              <span class=\"color-menu\"\n                    :style=\"`background:${subset_color_value}; cursor: pointer`\"\n                    @click.stop=\"on.click\"\n              >&nbsp;</span>\n          </template>\n          <div @click.stop=\"\" style=\"text-align: end; background-color: white\">\n              <v-color-picker :value=\"subset_color_value\"\n                              @update:color=\"throttledSetValue('subset_color_value', $event.hexa)\"></v-color-picker>\n          </div>\n        </v-menu>\n      </div>\n    </glue-state-sync-wrapper>\n\n\n    <!-- PROFILE/LINE -->\n    <j-plugin-section-header v-if=\"(line_visible_sync.in_subscribed_states && line_visible_value) || collapse_func_sync.in_subscribed_states\">Line</j-plugin-section-header>\n    <glue-state-sync-wrapper v-if=\"config === 'cubeviz'\" :sync=\"collapse_func_sync\" :multiselect=\"multiselect\" @unmix-state=\"unmix_state('function')\">\n      <v-select\n        :menu-props=\"{ left: true }\"\n        attach\n        :items=\"collapse_func_sync.choices\"\n        v-model=\"collapse_func_value\"\n        label=\"Collapse Function\"\n        hint=\"Function to use when collapsing the spectrum from the cube\"\n        persistent-hint\n      ></v-select>\n    </glue-state-sync-wrapper>\n\n    <glue-state-sync-wrapper v-if=\"line_visible_value\" :sync=\"line_color_sync\" :multiselect=\"multiselect\" @unmix-state=\"unmix_state('line_color')\">\n      <div>\n        <v-subheader class=\"pl-0 slider-label\" style=\"height: 12px\">Line Color</v-subheader>\n        <v-menu>\n          <template v-slot:activator=\"{ on }\">\n              <span class=\"color-menu\"\n                    :style=\"`background:${line_color_value}; cursor: pointer`\"\n                    @click.stop=\"on.click\"\n              >&nbsp;</span>\n          </template>\n          <div @click.stop=\"\" style=\"text-align: end; background-color: white\">\n              <v-color-picker :value=\"line_color_value\"\n                              @update:color=\"throttledSetValue('line_color_value', $event.hexa)\"></v-color-picker>\n          </div>\n        </v-menu>\n      </div>\n    </glue-state-sync-wrapper>\n    \n    <glue-state-sync-wrapper v-if=\"line_visible_value\" :sync=\"line_width_sync\" :multiselect=\"multiselect\" @unmix-state=\"unmix_state('line_width')\">\n      <glue-float-field label=\"Line Width\" :value.sync=\"line_width_value\" />\n    </glue-state-sync-wrapper>\n\n    <glue-state-sync-wrapper v-if=\"line_visible_value\" :sync=\"line_opacity_sync\" :multiselect=\"multiselect\" @unmix-state=\"unmix_state('line_opacity')\">\n      <div>\n        <v-subheader class=\"pl-0 slider-label\" style=\"height: 12px\">Line Opacity</v-subheader>\n        <glue-throttled-slider wait=\"300\" max=\"1\" step=\"0.01\" :value.sync=\"line_opacity_value\" hide-details class=\"no-hint\" />\n      </div>\n    </glue-state-sync-wrapper>\n\n    <glue-state-sync-wrapper v-if=\"line_visible_value\" :sync=\"line_as_steps_sync\" :multiselect=\"multiselect\" @unmix-state=\"unmix_state('line_as_steps')\">\n      <v-switch\n        v-model=\"line_as_steps_value\"\n        label=\"Plot profile as steps\"\n        />\n    </glue-state-sync-wrapper>\n\n    <glue-state-sync-wrapper v-if=\"line_visible_value\" :sync=\"uncertainty_visible_sync\" :multiselect=\"multiselect\" @unmix-state=\"unmix_state('uncertainty_visible')\">\n      <v-switch\n        v-model=\"uncertainty_visible_value\"\n        label=\"Plot uncertainties\"\n        />\n    </glue-state-sync-wrapper>\n\n    <!-- MARKER/SCATTER -->\n    <div v-if=\"marker_visible_sync.in_subscribed_states\">\n      <j-plugin-section-header>Marker</j-plugin-section-header>\n      <glue-state-sync-wrapper v-if=\"marker_visible_value\" :sync=\"marker_fill_sync\" :multiselect=\"multiselect\" @unmix-state=\"unmix_state('marker_fill')\">\n        <v-switch\n          v-model=\"marker_fill_value\"\n          label=\"Fill Marker\"\n          />\n      </glue-state-sync-wrapper>\n\n      <glue-state-sync-wrapper v-if=\"marker_visible_value\" :sync=\"marker_opacity_sync\" :multiselect=\"multiselect\" @unmix-state=\"unmix_state('marker_opacity')\">\n        <div>\n          <v-subheader class=\"pl-0 slider-label\" style=\"height: 12px\">Opacity</v-subheader>\n          <glue-throttled-slider wait=\"300\" max=\"1\" step=\"0.01\" :value.sync=\"marker_opacity_value\" hide-details class=\"no-hint\" />\n        </div>\n      </glue-state-sync-wrapper>\n\n      <glue-state-sync-wrapper v-if=\"marker_visible_value\" :sync=\"marker_size_mode_sync\" :multiselect=\"multiselect\" @unmix-state=\"unmix_state('marker_size_mode')\">\n        <v-select\n          attach\n          :menu-props=\"{ left: true }\"\n          :items=\"marker_size_mode_sync.choices\"\n          v-model=\"marker_size_mode_value\"\n          label=\"Size Mode\"\n          class=\"no-hint\"\n        ></v-select>\n      </glue-state-sync-wrapper>\n\n      <glue-state-sync-wrapper v-if=\"marker_visible_value && marker_size_mode_value==='Fixed'\" :sync=\"marker_size_sync\" :multiselect=\"multiselect\" @unmix-state=\"unmix_state('marker_size')\">\n        <div>\n          <v-subheader class=\"pl-0 slider-label\" style=\"height: 12px\">Size</v-subheader>\n          <glue-throttled-slider wait=\"300\" max=\"10\" step=\"0.1\" :value.sync=\"marker_size_value\" hide-details class=\"no-hint\" />\n        </div>\n      </glue-state-sync-wrapper>\n\n      <glue-state-sync-wrapper v-if=\"marker_visible_value\" :sync=\"marker_size_scale_sync\" :multiselect=\"multiselect\" @unmix-state=\"unmix_state('marker_size_scale')\">\n        <div>\n          <v-subheader class=\"pl-0 slider-label\" style=\"height: 12px\">Scale</v-subheader>\n          <glue-throttled-slider wait=\"300\" max=\"10\" step=\"0.1\" :value.sync=\"marker_size_scale_value\" hide-details class=\"no-hint\" />\n        </div>\n      </glue-state-sync-wrapper>\n\n      <glue-state-sync-wrapper v-if=\"marker_visible_value && marker_size_mode_value!=='Fixed'\" :sync=\"marker_size_col_sync\" :multiselect=\"multiselect\" @unmix-state=\"unmix_state('marker_size_col')\">\n        <v-select\n          attach\n          :menu-props=\"{ left: true }\"\n          :items=\"marker_size_col_sync.choices\"\n          v-model=\"marker_size_col_value\"\n          label=\"Column\"\n          class=\"no-hint\"\n        ></v-select>\n      </glue-state-sync-wrapper>\n\n      <glue-state-sync-wrapper v-if=\"marker_visible_value && marker_size_mode_value!=='Fixed'\" :sync=\"marker_size_vmin_sync\" :multiselect=\"multiselect\" @unmix-state=\"unmix_state('marker_size_vmin')\">\n        <v-text-field\n          ref=\"marker_size_vmin\"\n          type=\"number\"\n          label=\"vmin\"\n          v-model.number=\"marker_size_vmin_value\"\n          type=\"number\"\n          step=\"0.01\"\n        ></v-text-field>\n      </glue-state-sync-wrapper>\n\n      <glue-state-sync-wrapper v-if=\"marker_visible_value && marker_size_mode_value!=='Fixed'\" :sync=\"marker_size_vmax_sync\" :multiselect=\"multiselect\" @unmix-state=\"unmix_state('marker_size_vmax')\">\n        <v-text-field\n          ref=\"marker_size_vmax\"\n          type=\"number\"\n          label=\"vmax\"\n          v-model.number=\"marker_size_vmax_value\"\n          type=\"number\"\n          step=\"0.01\"\n        ></v-text-field>\n      </glue-state-sync-wrapper>\n\n\n      <glue-state-sync-wrapper v-if=\"marker_visible_value\" :sync=\"marker_color_mode_sync\" :multiselect=\"multiselect\" @unmix-state=\"unmix_state('marker_color_mode')\">\n        <v-select\n          attach\n          :menu-props=\"{ left: true }\"\n          :items=\"marker_color_mode_sync.choices\"\n          v-model=\"marker_color_mode_value\"\n          label=\"Color Mode\"\n          class=\"no-hint\"\n        ></v-select>\n      </glue-state-sync-wrapper>\n\n      <glue-state-sync-wrapper v-if=\"marker_visible_value && marker_color_mode_value==='Fixed'\" :sync=\"marker_color_sync\" :multiselect=\"multiselect\" @unmix-state=\"unmix_state('marker_color')\">\n        <div>\n          <v-subheader class=\"pl-0 slider-label\" style=\"height: 12px\">Color</v-subheader>\n          <v-menu>\n            <template v-slot:activator=\"{ on }\">\n                <span class=\"color-menu\"\n                      :style=\"`background:${marker_color_value}; cursor: pointer`\"\n                      @click.stop=\"on.click\"\n                >&nbsp;</span>\n            </template>\n            <div @click.stop=\"\" style=\"text-align: end; background-color: white\">\n                <v-color-picker :value=\"marker_color_value\"\n                                @update:color=\"throttledSetValue('marker_color_value', $event.hexa)\"></v-color-picker>\n            </div>\n          </v-menu>\n        </div>\n      </glue-state-sync-wrapper>\n\n      <glue-state-sync-wrapper v-if=\"marker_visible_value && marker_color_mode_value!=='Fixed'\" :sync=\"marker_color_col_sync\" :multiselect=\"multiselect\" @unmix-state=\"unmix_state('marker_color_col')\">\n        <v-select\n          attach\n          :menu-props=\"{ left: true }\"\n          :items=\"marker_color_col_sync.choices\"\n          v-model=\"marker_color_col_value\"\n          label=\"Column\"\n          class=\"no-hint\"\n        ></v-select>\n      </glue-state-sync-wrapper>\n\n      <glue-state-sync-wrapper v-if=\"marker_visible_value && marker_color_mode_value!=='Fixed'\" :sync=\"marker_colormap_sync\" :multiselect=\"multiselect\" @unmix-state=\"unmix_state('marker_colormap')\">\n        <v-select\n          attach\n          :menu-props=\"{ left: true }\"\n          :items=\"marker_colormap_sync.choices\"\n          v-model=\"marker_colormap_value\"\n          label=\"Colormap\"\n          class=\"no-hint\"\n        ></v-select>\n      </glue-state-sync-wrapper>\n\n      <glue-state-sync-wrapper v-if=\"marker_visible_value && marker_color_mode_value!=='Fixed'\" :sync=\"marker_colormap_vmin_sync\" :multiselect=\"multiselect\" @unmix-state=\"unmix_state('marker_colormap_vmin')\">\n        <v-text-field\n          ref=\"marker_colormap_vmin\"\n          type=\"number\"\n          label=\"vmin\"\n          v-model.number=\"marker_colormap_vmin_value\"\n          type=\"number\"\n          step=\"0.01\"\n        ></v-text-field>\n      </glue-state-sync-wrapper>\n\n      <glue-state-sync-wrapper v-if=\"marker_visible_value && marker_color_mode_value!=='Fixed'\" :sync=\"marker_colormap_vmax_sync\" :multiselect=\"multiselect\" @unmix-state=\"unmix_state('marker_colormap_vmax')\">\n        <v-text-field\n          ref=\"marker_colormap_vmax\"\n          type=\"number\"\n          label=\"vmax\"\n          v-model.number=\"marker_colormap_vmax_value\"\n          type=\"number\"\n          step=\"0.01\"\n        ></v-text-field>\n      </glue-state-sync-wrapper>\n    </div>\n\n\n    <!-- IMAGE -->\n    <!-- IMAGE:STRETCH -->\n    <j-plugin-section-header v-if=\"stretch_function_sync.in_subscribed_states\">Stretch</j-plugin-section-header>\n    <glue-state-sync-wrapper :sync=\"stretch_function_sync\" :multiselect=\"multiselect\" @unmix-state=\"unmix_state('stretch_function')\">\n      <v-select\n        attach\n        :menu-props=\"{ left: true }\"\n        :items=\"stretch_function_sync.choices\"\n        v-model=\"stretch_function_value\"\n        label=\"Stretch Function\"\n        class=\"no-hint\"\n      ></v-select>\n    </glue-state-sync-wrapper>\n\n    <glue-state-sync-wrapper :sync=\"stretch_preset_sync\" :multiselect=\"multiselect\" @unmix-state=\"unmix_state('stretch_preset')\">\n      <v-select\n        attach\n        :menu-props=\"{ left: true }\"\n        :items=\"stretch_preset_sync.choices\"\n        v-model=\"stretch_preset_value\"\n        label=\"Stretch Percentile Preset\"\n        class=\"no-hint\"\n      ></v-select>\n    </glue-state-sync-wrapper>\n\n    <glue-state-sync-wrapper :sync=\"stretch_vmin_sync\" :multiselect=\"multiselect\" @unmix-state=\"unmix_state('stretch_vmin')\">\n      <v-text-field\n        ref=\"stretch_vmin\"\n        type=\"number\"\n        label=\"Stretch VMin\"\n        v-model.number=\"stretch_vmin_value\"\n        type=\"number\"\n        :step=\"stretch_vstep\"\n      ></v-text-field>\n    </glue-state-sync-wrapper>\n\n    <glue-state-sync-wrapper :sync=\"stretch_vmax_sync\" :multiselect=\"multiselect\" @unmix-state=\"unmix_state('stretch_vmax')\">\n      <v-text-field\n        ref=\"stretch_vmax\"\n        type=\"number\"\n        label=\"Stretch VMax\"\n        v-model.number=\"stretch_vmax_value\"\n        type=\"number\"\n        :step=\"stretch_vstep\"\n      ></v-text-field>\n    </glue-state-sync-wrapper>\n\n    <div v-if=\"stretch_function_sync.in_subscribed_states\">\n      <v-row>\n        <v-text-field\n            ref=\"stretch_hist_nbins\"\n            type=\"number\"\n            label=\"Number of Bins\"\n            v-model.number=\"stretch_hist_nbins\"\n            hint=\"The amount of bins used in the histogram.\"\n            persistent-hint\n            :rules=\"[() => stretch_hist_nbins !== '' || 'This field is required',\n                     () => stretch_hist_nbins > 0 || 'Number of Bins must be greater than zero']\"\n        ></v-text-field>\n      </v-row>\n      <v-row>\n        <!-- z-index to ensure on top of the jupyter widget with negative margin-top -->\n        <v-switch\n          v-model=\"stretch_hist_zoom_limits\"\n          class=\"hide-input\"\n          label=\"Limit histogram to current zoom limits\"\n          style=\"z-index: 1\"\n        ></v-switch>\n      </v-row>\n      <v-row>\n        <v-switch\n          v-model=\"stretch_curve_visible\"\n          class=\"hide-input\"\n          label=\"Show stretch function curve\"\n          style=\"z-index: 1\"\n        ></v-switch>\n        <!-- NOTE: height defined here should match that in the custom CSS rules\n             below for the bqplot class -->\n      </v-row>\n      <jupyter-widget :widget=\"stretch_histogram_widget\"/>\n      </div>\n\n    <!-- IMAGE:IMAGE -->\n    <j-plugin-section-header v-if=\"image_visible_sync.in_subscribed_states\">Image</j-plugin-section-header>\n    <glue-state-sync-wrapper :sync=\"image_visible_sync\" :multiselect=\"multiselect\" @unmix-state=\"unmix_state('image_visible')\">\n      <span>\n        <v-btn icon @click.stop=\"image_visible_value = !image_visible_value\">\n          <v-icon>mdi-eye{{ image_visible_value ? '' : '-off' }}</v-icon>\n        </v-btn>\n        Show Image\n      </span>\n    </glue-state-sync-wrapper>\n\n    <div v-if=\"image_visible_sync.in_subscribed_states && image_visible_value\">\n      <glue-state-sync-wrapper :sync=\"image_color_mode_sync\" :multiselect=\"multiselect\" @unmix-state=\"unmix_state('image_color_mode')\">\n        <v-select\n          attach\n          :menu-props=\"{ left: true }\"\n          :items=\"image_color_mode_sync.choices\"\n          v-model=\"image_color_mode_value\"\n          label=\"Color Mode\"\n          hint=\"Whether each layer gets a single color or colormap\"\n          persistent-hint\n          dense\n        ></v-select>\n      </glue-state-sync-wrapper>\n\n      <glue-state-sync-wrapper v-if=\"image_color_mode_value === 'Colormaps'\" :sync=\"image_colormap_sync\" :multiselect=\"multiselect\" @unmix-state=\"unmix_state('image_colormap')\">\n        <v-select\n          attach\n          :menu-props=\"{ left: true }\"\n          :items=\"image_colormap_sync.choices\"\n          v-model=\"image_colormap_value\"\n          label=\"Colormap\"\n          dense\n        ></v-select>\n      </glue-state-sync-wrapper>\n      <glue-state-sync-wrapper v-else :sync=\"image_color_sync\" :multiselect=\"multiselect\" @unmix-state=\"unmix_state('image_color')\">\n        <div>\n          <v-subheader class=\"pl-0 slider-label\" style=\"height: 12px\">Image Color</v-subheader>\n          <v-menu>\n            <template v-slot:activator=\"{ on }\">\n                <span class=\"color-menu\"\n                      :style=\"`background:${image_color_value}; cursor: pointer`\"\n                      @click.stop=\"on.click\"\n                >&nbsp;</span>\n            </template>\n            <div @click.stop=\"\" style=\"text-align: end; background-color: white\">\n                <v-color-picker :value=\"image_color_value\"\n                                @update:color=\"throttledSetValue('image_color_value', $event.hexa)\"></v-color-picker>\n            </div>\n          </v-menu>\n        </div>\n      </glue-state-sync-wrapper>\n\n      <glue-state-sync-wrapper :sync=\"image_opacity_sync\" :multiselect=\"multiselect\" @unmix-state=\"unmix_state('image_opacity')\">\n        <div>\n          <v-subheader class=\"pl-0 slider-label\" style=\"height: 12px\">Opacity</v-subheader>\n          <glue-throttled-slider wait=\"300\" max=\"1\" step=\"0.01\" :value.sync=\"image_opacity_value\" hide-details class=\"no-hint\" />\n        </div>\n      </glue-state-sync-wrapper>\n\n      <glue-state-sync-wrapper :sync=\"image_contrast_sync\" :multiselect=\"multiselect\" @unmix-state=\"unmix_state('image_contrast')\">\n        <div>\n          <v-subheader class=\"pl-0 slider-label\" style=\"height: 12px\">Contrast</v-subheader>\n          <glue-throttled-slider wait=\"300\" max=\"4\" step=\"0.01\" :value.sync=\"image_contrast_value\" hide-details />\n        </div>\n      </glue-state-sync-wrapper>\n\n      <glue-state-sync-wrapper :sync=\"image_bias_sync\" :multiselect=\"multiselect\" @unmix-state=\"unmix_state('image_bias')\">\n        <div>\n          <v-subheader class=\"pl-0 slider-label\" style=\"height: 12px\" style=\"height: 12px\">Bias</v-subheader>\n          <glue-throttled-slider wait=\"300\" max=\"1\" step=\"0.01\" :value.sync=\"image_bias_value\" hide-details />\n        </div>\n      </glue-state-sync-wrapper>\n    </div>\n\n    <!-- IMAGE:CONTOUR -->\n    <j-plugin-section-header v-if=\"contour_visible_sync.in_subscribed_states\">Contours</j-plugin-section-header>\n    <div style=\"display: grid\"> <!-- overlay container -->\n      <div style=\"grid-area: 1/1\">        \n        <glue-state-sync-wrapper :sync=\"contour_visible_sync\" :multiselect=\"multiselect\" @unmix-state=\"unmix_state('contour_visible')\">\n          <span>\n            <v-btn icon @click.stop=\"contour_visible_value = !contour_visible_value\">\n              <v-icon>mdi-eye{{ contour_visible_value ? '' : '-off' }}</v-icon>\n            </v-btn>\n            Show Contours\n          </span>\n        </glue-state-sync-wrapper>\n\n        <div v-if=\"contour_visible_sync.in_subscribed_states && contour_visible_value\">\n          <glue-state-sync-wrapper :sync=\"contour_mode_sync\" :multiselect=\"multiselect\" @unmix-state=\"unmix_state('contour_mode')\">\n            <v-btn-toggle dense v-model=\"contour_mode_value\" style=\"margin-right: 8px; margin-top: 8px\">\n                <v-tooltip bottom>\n                    <template v-slot:activator=\"{ on }\">\n                        <v-btn v-on=\"on\" small value=\"Linear\">\n                            <v-icon>mdi-call-made</v-icon>\n                        </v-btn>\n                    </template>\n                    <span>linear</span>\n                </v-tooltip>\n\n                <v-tooltip bottom>\n                    <template v-slot:activator=\"{ on }\">\n                        <v-btn v-on=\"on\" small value=\"Custom\">\n                            <v-icon>mdi-wrench</v-icon>\n                        </v-btn>\n                    </template>\n                    <span>custom</span>\n                </v-tooltip>\n            </v-btn-toggle>\n          </glue-state-sync-wrapper>\n\n          <div v-if=\"contour_mode_value === 'Linear'\">\n            <glue-state-sync-wrapper :sync=\"contour_min_sync\" :multiselect=\"multiselect\" @unmix-state=\"unmix_state('contour_min')\">\n              <glue-float-field label=\"Contour Min\" :value.sync=\"contour_min_value\" />\n            </glue-state-sync-wrapper>\n\n            <glue-state-sync-wrapper :sync=\"contour_max_sync\" :multiselect=\"multiselect\" @unmix-state=\"unmix_state('contour_max')\">\n              <glue-float-field label=\"Contour Max\" :value.sync=\"contour_max_value\" />\n            </glue-state-sync-wrapper>\n\n            <glue-state-sync-wrapper :sync=\"contour_nlevels_sync\" :multiselect=\"multiselect\" @unmix-state=\"unmix_state('contour_nlevels')\">\n              <glue-float-field label=\"Number of Contour Levels\" :value.sync=\"contour_nlevels_value\" />\n            </glue-state-sync-wrapper>\n          </div>\n          <div v-else>\n            <glue-state-sync-wrapper :sync=\"contour_custom_levels_sync\" :multiselect=\"multiselect\" @unmix-state=\"unmix_state('contour_levels')\">\n              <v-text-field \n                label=\"Contour Levels\"\n                :value=\"contour_custom_levels_txt\"\n                @focus=\"contour_custom_levels_focus\"\n                @blur=\"contour_custom_levels_blur\"\n                @input=\"contour_custom_levels_set_value\"/>\n            </glue-state-sync-wrapper>\n          </div>\n        </div>\n      </div>\n      <div v-if=\"contour_spinner\"\n           class=\"text-center\"\n           style=\"grid-area: 1/1; \n                  z-index:2;\n                  margin-left: -24px;\n                  margin-right: -24px;\n                  padding-top: 60px;\n                  background-color: rgb(0 0 0 / 20%)\">\n        <v-progress-circular\n          indeterminate\n          color=\"spinner\"\n          size=\"50\"\n          width=\"6\"\n        ></v-progress-circular>\n      </div>\n    </div>\n    <!-- GENERAL:AXES -->\n    <j-plugin-section-header v-if=\"axes_visible_sync.in_subscribed_states && config !== 'imviz'\">Axes</j-plugin-section-header>\n    <glue-state-sync-wrapper v-if=\"config !== 'imviz'\":sync=\"axes_visible_sync\" :multiselect=\"multiselect\" @unmix-state=\"unmix_state('axes_visible')\">\n      <v-switch\n        v-model=\"axes_visible_value\"\n        label=\"Show Axes\"\n        />\n    </glue-state-sync-wrapper>\n\n  </j-tray-plugin>\n</template>\n\n<script>\nmodule.exports = {\n  created() {\n    this.contour_custom_levels_user_editing = false\n    this.throttledSetValue = _.throttle(\n      (name, v) => { this.set_value({name: name, value: v}) },\n      100);\n  },\n  watch: {\n    contour_custom_levels_value() {\n      if (!this.contour_custom_levels_user_editing) {\n        this.contour_custom_levels_txt_update_from_value()\n      }\n    }\n  },\n  methods: {\n    contour_custom_levels_focus(e) {\n      this.contour_custom_levels_user_editing = true\n    },\n    contour_custom_levels_blur(e) {\n      this.contour_custom_levels_user_editing = false\n      this.contour_custom_levels_txt_update_from_value();\n    },\n    contour_custom_levels_txt_update_from_value() {\n      this.contour_custom_levels_txt = this.contour_custom_levels_value.join(', ')\n    },\n    contour_custom_levels_set_value(e) {\n      this.contour_custom_levels_txt = e\n      this.contour_custom_levels_value = e.split(',').filter(n => n.trim().length).map(n => Number(n)).filter(n => !isNaN(n))\n    }\n  },\n}\n</script>\n\n<style scoped>\n.color-menu {\n    font-size: 16px;\n    padding-left: 16px;\n    border: 2px solid rgba(0,0,0,0.54);\n}\n</style>\n"
      }
     },
     "447dac24e76b487f81a0f3c1f801807f": {
      "model_module": "jupyter-vue",
      "model_module_version": "^1.10.1",
      "model_name": "VueComponentModel",
      "state": {
       "_dom_classes": [],
       "_model_module": "jupyter-vue",
       "_model_module_version": "^1.10.1",
       "_model_name": "VueComponentModel",
       "_view_count": null,
       "_view_module": null,
       "_view_module_version": "",
       "_view_name": null,
       "component": "<template>\n  <div>\n  <v-row v-if=\"items.length > 1 || selected.length===0 || show_if_single_entry\">\n    <v-select\n      :menu-props=\"{ left: true }\"\n      attach\n      :items=\"items\"\n      v-model=\"selected\"\n      @change=\"$emit('update:selected', $event)\"\n      :label=\"label ? label : 'Subset'\"\n      :hint=\"hint ? hint : 'Select subset.'\"\n      :rules=\"rules ? rules : []\"\n      :multiple=\"multiselect\"\n      :chips=\"multiselect\"\n      item-text=\"label\"\n      item-value=\"label\"\n      persistent-hint\n    >\n      <template slot=\"selection\" slot-scope=\"data\">\n        <div class=\"single-line\">\n          <v-chip v-if=\"multiselect\" style=\"width: calc(100% - 20px)\">\n            <span>\n              <v-icon v-if=\"data.item.color\" left :color=\"data.item.color\">\n                {{ data.item.type=='spectral' ? 'mdi-chart-bell-curve' : 'mdi-chart-scatter-plot' }}\n              </v-icon>\n              {{ data.item.label }}\n            </span>\n          </v-chip>\n          <span v-else>\n            <v-icon v-if=\"data.item.color\" left :color=\"data.item.color\">\n              {{ data.item.type=='spectral' ? 'mdi-chart-bell-curve' : 'mdi-chart-scatter-plot' }}\n            </v-icon>\n            {{ data.item.label }}\n          </span>\n        </div>\n      </template>\n      <template v-slot:prepend-item v-if=\"multiselect\">\n        <v-list-item\n        ripple\n        @mousedown.prevent\n        @click=\"() => {if (selected.length < items.length) { $emit('update:selected', items.map((item) => item.label))} else {$emit('update:selected', [])}}\"\n        >\n        <v-list-item-action>\n          <v-icon>\n            {{ selected.length == items.length ? 'mdi-close-box' : selected.length ? 'mdi-minus-box' : 'mdi-checkbox-blank-outline' }}\n          </v-icon>\n        </v-list-item-action>\n        <v-list-item-content>\n          <v-list-item-title>\n            {{ selected.length < items.length ? \"Select All\" : \"Clear All\" }}\n          </v-list-item-title>\n        </v-list-item-content>\n        </v-list-item>\n        <v-divider class=\"mt-2\"></v-divider>\n      </template>\n      <template slot=\"item\" slot-scope=\"data\">\n        <div class=\"single-line\">\n          <v-icon v-if=\"data.item.color\" left :color=\"data.item.color\">\n            {{ data.item.type=='spectral' ? 'mdi-chart-bell-curve' : 'mdi-chart-scatter-plot' }}\n          </v-icon>\n          <span>\n            {{ data.item.label }}\n          </span>\n        </div>\n      </template>\n    </v-select>\n  </v-row>\n  <v-row v-if=\"has_subregions_warning && has_subregions\">\n    <span class=\"v-messages v-messages__message text--secondary\" style=\"color: red !important\">\n        {{ has_subregions_warning }}\n    </span>\n  </v-row>\n  </div>\n</template>\n\n<script>\nmodule.exports = {\n  props: ['items', 'selected', 'label', 'has_subregions', 'has_subregions_warning', 'hint', 'rules', 'show_if_single_entry', 'multiselect']\n};\n</script>\n\n<style>\n.v-select__selections {\n  flex-wrap: nowrap !important;\n}\n  .single-line {\n      white-space: nowrap;\n      overflow: hidden;\n      text-overflow: ellipsis;\n  }\n</style>\n",
       "layout": "IPY_MODEL_37927d1b738a45a6ac29587beccd2120",
       "name": "plugin-subset-select",
       "tabbable": null,
       "tooltip": null
      }
     },
     "44eef25b86e6490dbee15ab26e8b1e82": {
      "model_module": "bqplot",
      "model_module_version": "^0.5",
      "model_name": "FigureModel",
      "state": {
       "_dom_classes": [],
       "_model_module": "bqplot",
       "_model_module_version": "^0.5",
       "_model_name": "FigureModel",
       "_view_count": null,
       "_view_module": "bqplot",
       "_view_module_version": "^0.5",
       "_view_name": "Figure",
       "animation_duration": 0,
       "axes": [
        "IPY_MODEL_ead875092c864d268143ff8337387682",
        "IPY_MODEL_8834a4a2c18544688b80baae1d355d5a"
       ],
       "background_style": {},
       "fig_margin": {
        "bottom": 0,
        "left": 0,
        "right": 0,
        "top": 0
       },
       "interaction": "IPY_MODEL_174aa09559ad408692dfd0777a99fca4",
       "layout": "IPY_MODEL_e7ca6785388e476faccd398b0042c984",
       "legend_location": "top-right",
       "legend_style": {},
       "legend_text": {},
       "marks": [
        "IPY_MODEL_63c7afe10cfa468ab8a6e3bb96013543",
        "IPY_MODEL_be74773f9e634b24a3fcdb194b8f3b67",
        "IPY_MODEL_09f04512463449cab33739e838276ae2",
        "IPY_MODEL_e71125c7da06452a9984215dd00845f3",
        "IPY_MODEL_29cc9723380f40d49da071273e7f925e",
        "IPY_MODEL_9299c73c0a8e41eab2852ec06aa4ddbd",
        "IPY_MODEL_4fa42dbee357459a80637588e742cbe0"
       ],
       "max_aspect_ratio": 100.0,
       "min_aspect_ratio": 0.01,
       "padding_x": 0.0,
       "padding_y": 0.0,
       "pixel_ratio": null,
       "scale_x": "IPY_MODEL_e9d182703c7f421db9185b0e14f021b4",
       "scale_y": "IPY_MODEL_2575788ee3b245bca63f200cd5d496ce",
       "tabbable": null,
       "theme": "classic",
       "title": "",
       "title_style": {},
       "tooltip": null
      }
     },
     "4529e7ec63054d29bbe78204bb4d4c83": {
      "model_module": "jupyter-vuetify",
      "model_module_version": "^1.8.5",
      "model_name": "ListItemActionModel",
      "state": {
       "_dom_classes": [],
       "_events": [],
       "_jupyter_vue": "IPY_MODEL_28c992a30e9e48598df49b24e8922228",
       "_metadata": null,
       "_model_module": "jupyter-vuetify",
       "_model_module_version": "^1.8.5",
       "_model_name": "ListItemActionModel",
       "_view_count": null,
       "_view_module": "jupyter-vuetify",
       "_view_module_version": "^1.8.5",
       "_view_name": "VuetifyView",
       "attributes": {},
       "children": [
        "IPY_MODEL_adf7946929d54d60a29f748c471769ef"
       ],
       "class_": null,
       "layout": null,
       "slot": null,
       "style_": null,
       "tabbable": null,
       "tooltip": null,
       "v_model": "!!disabled!!",
       "v_on": null,
       "v_slots": []
      }
     },
     "46118652f30d40498dae520914c78934": {
      "model_module": "@jupyter-widgets/base",
      "model_module_version": "2.0.0",
      "model_name": "LayoutModel",
      "state": {
       "_model_module": "@jupyter-widgets/base",
       "_model_module_version": "2.0.0",
       "_model_name": "LayoutModel",
       "_view_count": null,
       "_view_module": "@jupyter-widgets/base",
       "_view_module_version": "2.0.0",
       "_view_name": "LayoutView",
       "align_content": null,
       "align_items": null,
       "align_self": null,
       "border_bottom": null,
       "border_left": null,
       "border_right": null,
       "border_top": null,
       "bottom": null,
       "display": null,
       "flex": null,
       "flex_flow": null,
       "grid_area": null,
       "grid_auto_columns": null,
       "grid_auto_flow": null,
       "grid_auto_rows": null,
       "grid_column": null,
       "grid_gap": null,
       "grid_row": null,
       "grid_template_areas": null,
       "grid_template_columns": null,
       "grid_template_rows": null,
       "height": null,
       "justify_content": null,
       "justify_items": null,
       "left": null,
       "margin": null,
       "max_height": null,
       "max_width": null,
       "min_height": null,
       "min_width": null,
       "object_fit": null,
       "object_position": null,
       "order": null,
       "overflow": null,
       "padding": null,
       "right": null,
       "top": null,
       "visibility": null,
       "width": null
      }
     },
     "467f6aedb8e645478f18e5762daa934b": {
      "model_module": "@jupyter-widgets/base",
      "model_module_version": "2.0.0",
      "model_name": "LayoutModel",
      "state": {
       "_model_module": "@jupyter-widgets/base",
       "_model_module_version": "2.0.0",
       "_model_name": "LayoutModel",
       "_view_count": null,
       "_view_module": "@jupyter-widgets/base",
       "_view_module_version": "2.0.0",
       "_view_name": "LayoutView",
       "align_content": null,
       "align_items": null,
       "align_self": null,
       "border_bottom": null,
       "border_left": null,
       "border_right": null,
       "border_top": null,
       "bottom": null,
       "display": null,
       "flex": null,
       "flex_flow": null,
       "grid_area": null,
       "grid_auto_columns": null,
       "grid_auto_flow": null,
       "grid_auto_rows": null,
       "grid_column": null,
       "grid_gap": null,
       "grid_row": null,
       "grid_template_areas": null,
       "grid_template_columns": null,
       "grid_template_rows": null,
       "height": null,
       "justify_content": null,
       "justify_items": null,
       "left": null,
       "margin": null,
       "max_height": null,
       "max_width": null,
       "min_height": null,
       "min_width": null,
       "object_fit": null,
       "object_position": null,
       "order": null,
       "overflow": null,
       "padding": null,
       "right": null,
       "top": null,
       "visibility": null,
       "width": null
      }
     },
     "47f648e1c83f4b838da3f227d0e478c5": {
      "model_module": "jupyter-vuetify",
      "model_module_version": "^1.8.5",
      "model_name": "ListItemTitleModel",
      "state": {
       "_dom_classes": [],
       "_events": [],
       "_jupyter_vue": "IPY_MODEL_28c992a30e9e48598df49b24e8922228",
       "_metadata": null,
       "_model_module": "jupyter-vuetify",
       "_model_module_version": "^1.8.5",
       "_model_name": "ListItemTitleModel",
       "_view_count": null,
       "_view_module": "jupyter-vuetify",
       "_view_module_version": "^1.8.5",
       "_view_name": "VuetifyView",
       "attributes": {},
       "children": [
        "and"
       ],
       "class_": null,
       "layout": null,
       "slot": null,
       "style_": null,
       "tabbable": null,
       "tooltip": null,
       "v_model": "!!disabled!!",
       "v_on": null,
       "v_slots": []
      }
     },
     "483da85c0f0945fe876c73affb944e4d": {
      "model_module": "@jupyter-widgets/base",
      "model_module_version": "2.0.0",
      "model_name": "LayoutModel",
      "state": {
       "_model_module": "@jupyter-widgets/base",
       "_model_module_version": "2.0.0",
       "_model_name": "LayoutModel",
       "_view_count": null,
       "_view_module": "@jupyter-widgets/base",
       "_view_module_version": "2.0.0",
       "_view_name": "LayoutView",
       "align_content": null,
       "align_items": null,
       "align_self": null,
       "border_bottom": null,
       "border_left": null,
       "border_right": null,
       "border_top": null,
       "bottom": null,
       "display": null,
       "flex": null,
       "flex_flow": null,
       "grid_area": null,
       "grid_auto_columns": null,
       "grid_auto_flow": null,
       "grid_auto_rows": null,
       "grid_column": null,
       "grid_gap": null,
       "grid_row": null,
       "grid_template_areas": null,
       "grid_template_columns": null,
       "grid_template_rows": null,
       "height": null,
       "justify_content": null,
       "justify_items": null,
       "left": null,
       "margin": null,
       "max_height": null,
       "max_width": null,
       "min_height": null,
       "min_width": null,
       "object_fit": null,
       "object_position": null,
       "order": null,
       "overflow": null,
       "padding": null,
       "right": null,
       "top": null,
       "visibility": null,
       "width": null
      }
     },
     "493c6d3346394d739bf34e3a354c5110": {
      "model_module": "@jupyter-widgets/base",
      "model_module_version": "2.0.0",
      "model_name": "LayoutModel",
      "state": {
       "_model_module": "@jupyter-widgets/base",
       "_model_module_version": "2.0.0",
       "_model_name": "LayoutModel",
       "_view_count": null,
       "_view_module": "@jupyter-widgets/base",
       "_view_module_version": "2.0.0",
       "_view_name": "LayoutView",
       "align_content": null,
       "align_items": null,
       "align_self": null,
       "border_bottom": null,
       "border_left": null,
       "border_right": null,
       "border_top": null,
       "bottom": null,
       "display": null,
       "flex": null,
       "flex_flow": null,
       "grid_area": null,
       "grid_auto_columns": null,
       "grid_auto_flow": null,
       "grid_auto_rows": null,
       "grid_column": null,
       "grid_gap": null,
       "grid_row": null,
       "grid_template_areas": null,
       "grid_template_columns": null,
       "grid_template_rows": null,
       "height": null,
       "justify_content": null,
       "justify_items": null,
       "left": null,
       "margin": null,
       "max_height": null,
       "max_width": null,
       "min_height": null,
       "min_width": null,
       "object_fit": null,
       "object_position": null,
       "order": null,
       "overflow": null,
       "padding": null,
       "right": null,
       "top": null,
       "visibility": null,
       "width": null
      }
     },
     "49fe0ab970da4e779f665b69456e733d": {
      "model_module": "@jupyter-widgets/base",
      "model_module_version": "2.0.0",
      "model_name": "LayoutModel",
      "state": {
       "_model_module": "@jupyter-widgets/base",
       "_model_module_version": "2.0.0",
       "_model_name": "LayoutModel",
       "_view_count": null,
       "_view_module": "@jupyter-widgets/base",
       "_view_module_version": "2.0.0",
       "_view_name": "LayoutView",
       "align_content": null,
       "align_items": null,
       "align_self": null,
       "border_bottom": null,
       "border_left": null,
       "border_right": null,
       "border_top": null,
       "bottom": null,
       "display": null,
       "flex": null,
       "flex_flow": null,
       "grid_area": null,
       "grid_auto_columns": null,
       "grid_auto_flow": null,
       "grid_auto_rows": null,
       "grid_column": null,
       "grid_gap": null,
       "grid_row": null,
       "grid_template_areas": null,
       "grid_template_columns": null,
       "grid_template_rows": null,
       "height": null,
       "justify_content": null,
       "justify_items": null,
       "left": null,
       "margin": null,
       "max_height": null,
       "max_width": null,
       "min_height": null,
       "min_width": null,
       "object_fit": null,
       "object_position": null,
       "order": null,
       "overflow": null,
       "padding": null,
       "right": null,
       "top": null,
       "visibility": null,
       "width": null
      }
     },
     "4bbcb4e2907e401f9229269227de427c": {
      "model_module": "jupyter-vue",
      "model_module_version": "^1.10.1",
      "model_name": "TemplateModel",
      "state": {
       "_model_module": "jupyter-vue",
       "_model_module_version": "^1.10.1",
       "_model_name": "TemplateModel",
       "_view_count": null,
       "_view_module": null,
       "_view_module_version": "",
       "_view_name": null,
       "template": "<template>\n  <j-tray-plugin\n    description='Tools for selecting and interacting with subsets.'\n    :link=\"docs_link || 'https://jdaviz.readthedocs.io/en/'+vdocs+'/'+config+'/plugins.html#subset-tools'\"\n    :popout_button=\"popout_button\">\n\n    <v-row v-if=\"config === 'imviz'\">\n      <div style=\"width: calc(100% - 32px)\">\n      </div>\n      <div style=\"width: 32px\">\n        <j-tooltip tooltipcontent=\"Multiselect for recentering subsets\">\n          <v-btn\n            icon\n            style=\"opacity: 0.7\"\n            @click=\"() => {multiselect = !multiselect}\"\n          >\n            <img :src=\"multiselect ? icon_checktoradial : icon_radialtocheck\" width=\"24\" class=\"invert-if-dark\"/>\n          </v-btn>\n        </j-tooltip>\n      </div>\n    </v-row>\n\n    <v-row align=center>\n      <v-col cols=10 justify=\"left\">\n        <plugin-subset-select \n          :items=\"subset_items\"\n          :selected.sync=\"subset_selected\"\n          :multiselect=\"multiselect\"\n          :show_if_single_entry=\"true\"\n          label=\"Subset\"\n          hint=\"Select subset to edit.\"\n        />\n      </v-col>\n\n      <v-col justify=\"center\" cols=2>\n        <j-tooltip tipid='g-subset-mode'>\n          <g-subset-mode></g-subset-mode>\n        </j-tooltip>\n      </v-col>\n    </v-row>\n\n    <!-- Sub-plugin for recentering of spatial subset (Imviz only) -->\n    <v-row v-if=\"config=='imviz' && is_centerable\">\n      <v-expansion-panels accordion v-model=\"subplugins_opened\">\n        <v-expansion-panel>\n          <v-expansion-panel-header >\n            <span style=\"padding: 6px\">Recenter</span>\n          </v-expansion-panel-header>\n          <v-expansion-panel-content>\n            <plugin-dataset-select\n             :items=\"dataset_items\"\n             :selected.sync=\"dataset_selected\"\n             :show_if_single_entry=\"true\"\n             label=\"Data\"\n             hint=\"Select the data for centroiding.\"\n            />\n            <v-row justify=\"end\" no-gutters>\n              <v-btn color=\"primary\" text @click=\"recenter_subset\">Recenter</v-btn>\n            </v-row>\n          </v-expansion-panel-content>\n        </v-expansion-panel>\n      </v-expansion-panels>\n    </v-row>\n\n    <!-- Show all subregions of a subset, including Glue state and subset type. -->\n    <div v-for=\"(region, index) in subset_definitions\">\n       <j-plugin-section-header style=\"margin: 0px; margin-left: -12px; text-align: left; font-size: larger; font-weight: bold\">\n       Subregion {{ index }}</j-plugin-section-header>\n       <v-row class=\"row-no-outside-padding\">\n        <div style=\"margin-top: 4px\">\n            {{ subset_types[index] }} applied with\n        </div>\n        <div style=\"margin-top: -2px; padding-bottom: 8px\">\n            <div v-if=\"index === 0\">\n              <img :src=\"icon_replace\" width=\"20\"/>\n              replace mode\n            </div>\n            <div v-else-if=\"glue_state_types[index] === 'AndState'\">\n              <img :src=\"icon_and\" width=\"20\"/>\n              and mode\n            </div>\n            <div v-else-if=\"glue_state_types[index] === 'OrState'\">\n              <img :src=\"icon_or\" width=\"20\"/>\n              add mode\n            </div>\n            <div v-else-if=\"glue_state_types[index] === 'AndNotState'\">\n              <img :src=\"icon_andnot\" width=\"20\"/>\n              remove mode\n            </div>\n            <div v-else-if=\"glue_state_types[index] === 'XorState'\">\n              <img :src=\"icon_xor\" width=\"20\"/>\n              xor mode\n            </div>\n        </div>\n      </v-row>\n\n      <v-row v-for=\"(item, index2) in region\" class=\"row-no-outside-padding\">\n        <v-text-field v-if=\"item.name === 'Parent' || item.name === 'Masked values'\"\n          :label=\"item.name\"\n          :value=\"item.value\"\n          style=\"padding-top: 0px; margin-top: 0px\"\n          :readonly=\"true\"\n          :hint=\"item.name === 'Parent' ? 'Subset was defined with respect to this reference data (read-only)' : 'Number of elements included by mask'\"\n        ></v-text-field>\n        <v-text-field v-if=\"item.name !== 'Parent' && item.name !== 'Masked values'\"\n          :label=\"item.name\"\n          v-model.number=\"item.value\"\n          type=\"number\"\n          style=\"padding-top: 0px; margin-top: 0px\"\n          :suffix=\"item.unit ? item.unit.replace('Angstrom', 'A') : ''\"\n        ></v-text-field>\n      </v-row>\n    </div>\n\n      <v-row v-if=\"!multiselect\" justify=\"end\" no-gutters>\n        <j-tooltip v-if=\"can_freeze\" tooltipcontent=\"Freeze subset to a mask on the underlying data entries\">\n          <v-btn color=\"primary\" text @click=\"freeze_subset\">Freeze</v-btn>\n        </j-tooltip>\n        <j-tooltip tooltipcontent=\"Convert composite subset to use only add mode to connect subregions\">\n          <v-btn :disabled=\"!can_simplify\" color=\"primary\" text @click=\"simplify_subset\">Simplify</v-btn>\n        </j-tooltip>\n        <v-btn color=\"primary\" text @click=\"update_subset\">Update</v-btn>\n      </v-row>\n  </j-tray-plugin>\n</template>\n"
      }
     },
     "4cf1eb4cb8e14268b6755707306c2b5f": {
      "buffers": [
       {
        "data": "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",
        "encoding": "base64",
        "path": [
         "value"
        ]
       }
      ],
      "model_module": "@jupyter-widgets/controls",
      "model_module_version": "2.0.0",
      "model_name": "ImageModel",
      "state": {
       "_dom_classes": [],
       "_model_module": "@jupyter-widgets/controls",
       "_model_module_version": "2.0.0",
       "_model_name": "ImageModel",
       "_view_count": null,
       "_view_module": "@jupyter-widgets/controls",
       "_view_module_version": "2.0.0",
       "_view_name": "ImageView",
       "format": "svg+xml",
       "height": "",
       "layout": "IPY_MODEL_89aac07879324ce7a93dc67a0eb88957",
       "tabbable": null,
       "tooltip": null,
       "width": "20"
      }
     },
     "4d53f55a3d4f452a9bc5c6770c573fcf": {
      "model_module": "jupyter-vue",
      "model_module_version": "^1.10.1",
      "model_name": "VueComponentModel",
      "state": {
       "_dom_classes": [],
       "_model_module": "jupyter-vue",
       "_model_module_version": "^1.10.1",
       "_model_name": "VueComponentModel",
       "_view_count": null,
       "_view_module": null,
       "_view_module_version": "",
       "_view_name": null,
       "component": "<template>\n  <div style=\"display: contents\">\n    <div v-if=\"isSelected\">\n      <j-tooltip :tipid=\"multi_select ? 'viewer-data-select' : 'viewer-data-radio'\">\n        <v-btn \n          icon\n          :color=\"visibleState==='visible' ? 'accent' : 'default'\"\n          @click=\"selectClicked\">\n            <v-icon v-if=\"multi_select || item.type==='trace'\">{{visibleState!=='hidden' ? \"mdi-checkbox-marked\" : \"mdi-checkbox-blank-outline\"}}</v-icon>\n            <v-icon v-else>{{visibleState!=='hidden' ? \"mdi-radiobox-marked\" : \"mdi-radiobox-blank\"}}</v-icon>\n        </v-btn>\n      </j-tooltip>\n    </div>\n    <div v-else>\n      <j-tooltip tipid=\"viewer-data-enable\">\n        <v-btn \n          icon\n          color=\"default\"\n          @click=\"selectClicked\">\n            <v-icon>mdi-plus</v-icon>\n        </v-btn>\n      </j-tooltip>\n    </div>\n\n    <j-tooltip :tooltipcontent=\"'data label: '+item.name\" span_style=\"font-size: 12pt; padding-top: 6px; padding-left: 6px; width: calc(100% - 80px); white-space: nowrap; cursor: default;\">\n      <j-layer-viewer-icon span_style=\"margin-left: 4px; margin-right: 2px\" :icon=\"icon\" color=\"#000000DE\"></j-layer-viewer-icon>      \n      <div class=\"text-ellipsis-middle\" style=\"font-weight: 500\">\n        <span>\n          {{itemNamePrefix}}\n        </span>\n        <span>\n          {{itemNameExtension}}\n        </span>\n      </div>\n    </j-tooltip>\n\n    <div v-if=\"isSelected && isUnloadable\" style=\"right: 2px\">\n      <j-tooltip tipid='viewer-data-disable'>\n        <v-btn\n          icon\n          @click=\"$emit('data-item-unload', {\n            id: viewer.id,\n            item_id: item.id\n          })\"\n        ><v-icon>mdi-close</v-icon></v-btn>\n      </j-tooltip>\n    </div>\n\n    <div v-if=\"isDeletable\" style=\"right: 2px\">\n      <j-tooltip tipid='viewer-data-delete'>\n        <v-btn\n          icon\n          @click=\"$emit('data-item-remove', {item_name: item.name})\"\n        ><v-icon>mdi-delete</v-icon></v-btn>\n      </j-tooltip>\n    </div>\n  </div>\n</template>\n\n<script>\n\nmodule.exports = {\n  props: ['item', 'icon', 'multi_select', 'viewer'],\n  methods: {\n    selectClicked() {\n      prevVisibleState = this.visibleState\n      // checkboxes control VISIBILITY of layers not loaded state\n      // if we just loaded the data, its probably already visible, but we'll still make sure all\n      // appropriate layers are visible and properly handle replace for non-multiselect\n      // NOTE: replace=True will exclude removing trace items\n      this.$emit('data-item-visibility', {\n        id: this.$props.viewer.id,\n        item_id: this.$props.item.id,\n        visible: prevVisibleState != 'visible' || (!this.multi_select && this.$props.item.type !== 'trace'),\n        replace: !this.multi_select && this.$props.item.type !== 'trace'\n      })\n\n    }\n  },\n  computed: {\n    itemNamePrefix() {\n      if (this.$props.item.name.indexOf(\"[\") !== -1) {\n        // return everything BEFORE the LAST [\n        return this.$props.item.name.split('[').slice(0, -1).join()\n      } else {\n        return this.$props.item.name\n      }\n    },\n    itemNameExtension() {\n      if (this.$props.item.name.indexOf(\"[\") !== -1) {\n        // return the LAST [ and everything FOLLOWING\n        return '['+this.$props.item.name.split('[').slice(-1)\n      } else {\n        return ''\n      }\n    },\n    isSelected() {\n      return Object.keys(this.$props.viewer.selected_data_items).includes(this.$props.item.id)\n    },\n    visibleState() {\n      return this.$props.viewer.selected_data_items[this.$props.item.id] || 'hidden'\n    },\n    isUnloadable() {\n      if (this.$props.item.meta.Plugin !== undefined) {\n        // (almost) always allow unloading plugin exports\n        if (this.$props.viewer.config === 'specviz2d' && this.$props.item.name === 'Spectrum 1D') {\n          // the \"Spectrum 1D\" object is auto-generated from a plugin, but since its the default\n          // reference data, we don't want to allow unloading it\n          return false\n        }\n        return true\n      }\n      if (this.$props.viewer.config === 'cubeviz') {\n        // forbid unloading the original reference cube\n        // this logic might need to be generalized if supporting custom data labels\n        // per-cube or renaming data labels\n        if (this.$props.viewer.reference === 'flux-viewer') {\n          return this.$props.item.name.indexOf('[FLUX]') === -1\n        } else if (this.$props.viewer.reference === 'uncert-viewer') {\n          return this.$props.item.name.indexOf('[IVAR]') === -1\n        } else if (this.$props.viewer.reference === 'mask-viewer') {\n          return this.$props.item.name.indexOf('[MASK]') === -1\n        } else if (this.$props.viewer.reference === 'spectrum-viewer') {\n          return this.$props.item.name.indexOf('[FLUX]') === -1          \n        }\n      } else if (this.$props.viewer.config === 'specviz2d') {\n        if (this.$props.viewer.reference === 'spectrum-2d-viewer') {\n          return this.$props.item.name !== 'Spectrum 2D'\n        } else if (this.$props.viewer.reference === 'spectrum-viewer') {\n          return this.$props.item.name !== 'Spectrum 1D'\n        }\n      }\n      return true\n    },\n    isDeletable() {\n      // only allow deleting products from plugins.  We might want to allow some non-plugin\n      // data to also be deleted in the future, but would probably need more advanced logic\n      // to ensure essential data isn't removed that would break the app.\n      if (this.$props.item.meta.Plugin === undefined) {\n        return false\n      }\n      // for any exceptions not above, enable deleting\n      return !this.isSelected\n    },\n    selectTipId() {\n      if (this.multi_select) {\n        return 'viewer-data-select'\n      } else {\n        return 'viewer-data-radio'\n      }\n    },\n    labelColor() {\n      if (this.isSelected) {\n        return 'black'\n      } else {\n        return 'gray'\n      }\n    }\n  }\n};\n</script>\n\n<style>\n  .text-ellipsis-middle {\n    display: inline-flex;\n    flex-wrap: nowrap;\n    max-width: 100%;\n  }\n\n  .text-ellipsis-middle > span:first-child {\n    flex: 0 1 auto;\n    text-overflow: ellipsis;\n    overflow:hidden;\n    white-space:nowrap;\n  }\n\n  .text-ellipsis-middle > span + span {\n    flex: 1 0 auto;\n    white-space: nowrap;\n  }\n</style>\n",
       "layout": "IPY_MODEL_397f525eddd149bd96eb23ec3e50eec7",
       "name": "j-viewer-data-select-item",
       "tabbable": null,
       "tooltip": null
      }
     },
     "4eec7d4e85f04bb39a3cbfc5faf48699": {
      "model_module": "@jupyter-widgets/base",
      "model_module_version": "2.0.0",
      "model_name": "LayoutModel",
      "state": {
       "_model_module": "@jupyter-widgets/base",
       "_model_module_version": "2.0.0",
       "_model_name": "LayoutModel",
       "_view_count": null,
       "_view_module": "@jupyter-widgets/base",
       "_view_module_version": "2.0.0",
       "_view_name": "LayoutView",
       "align_content": null,
       "align_items": null,
       "align_self": null,
       "border_bottom": null,
       "border_left": null,
       "border_right": null,
       "border_top": null,
       "bottom": null,
       "display": null,
       "flex": null,
       "flex_flow": null,
       "grid_area": null,
       "grid_auto_columns": null,
       "grid_auto_flow": null,
       "grid_auto_rows": null,
       "grid_column": null,
       "grid_gap": null,
       "grid_row": null,
       "grid_template_areas": null,
       "grid_template_columns": null,
       "grid_template_rows": null,
       "height": null,
       "justify_content": null,
       "justify_items": null,
       "left": null,
       "margin": null,
       "max_height": null,
       "max_width": null,
       "min_height": null,
       "min_width": null,
       "object_fit": null,
       "object_position": null,
       "order": null,
       "overflow": null,
       "padding": null,
       "right": null,
       "top": null,
       "visibility": null,
       "width": null
      }
     },
     "4f830ad5ab374961a6f7d76a7dbbbe6d": {
      "model_module": "@jupyter-widgets/base",
      "model_module_version": "2.0.0",
      "model_name": "LayoutModel",
      "state": {
       "_model_module": "@jupyter-widgets/base",
       "_model_module_version": "2.0.0",
       "_model_name": "LayoutModel",
       "_view_count": null,
       "_view_module": "@jupyter-widgets/base",
       "_view_module_version": "2.0.0",
       "_view_name": "LayoutView",
       "align_content": null,
       "align_items": null,
       "align_self": null,
       "border_bottom": null,
       "border_left": null,
       "border_right": null,
       "border_top": null,
       "bottom": null,
       "display": null,
       "flex": null,
       "flex_flow": null,
       "grid_area": null,
       "grid_auto_columns": null,
       "grid_auto_flow": null,
       "grid_auto_rows": null,
       "grid_column": null,
       "grid_gap": null,
       "grid_row": null,
       "grid_template_areas": null,
       "grid_template_columns": null,
       "grid_template_rows": null,
       "height": null,
       "justify_content": null,
       "justify_items": null,
       "left": null,
       "margin": null,
       "max_height": null,
       "max_width": null,
       "min_height": null,
       "min_width": null,
       "object_fit": null,
       "object_position": null,
       "order": null,
       "overflow": null,
       "padding": null,
       "right": null,
       "top": null,
       "visibility": null,
       "width": null
      }
     },
     "4fa42dbee357459a80637588e742cbe0": {
      "model_module": "bqplot-image-gl",
      "model_module_version": "^1.4.11",
      "model_name": "ContourModel",
      "state": {
       "_model_module": "bqplot-image-gl",
       "_model_module_version": "^1.4.11",
       "_model_name": "ContourModel",
       "_view_count": null,
       "_view_module": "bqplot-image-gl",
       "_view_module_version": "^1.4.11",
       "_view_name": "ContourView",
       "apply_clip": true,
       "color": [
        "red",
        "orange",
        "yellow",
        "green",
        "blue"
       ],
       "contour_lines": [],
       "display_legend": false,
       "enable_hover": true,
       "image": null,
       "interactions": {
        "hover": "tooltip"
       },
       "label": [
        "38.06",
        "76.12",
        "114.2",
        "152.2",
        "190.3"
       ],
       "label_steps": 1000,
       "labels": [],
       "level": [
        38.05860392252604,
        76.11720784505208,
        114.17581176757812,
        152.23441569010416,
        190.2930196126302
       ],
       "preserve_domain": {},
       "scales": {
        "image": "IPY_MODEL_0acd9b51e19d4dacb4e96776f3e0807a",
        "x": "IPY_MODEL_e9d182703c7f421db9185b0e14f021b4",
        "y": "IPY_MODEL_2575788ee3b245bca63f200cd5d496ce"
       },
       "scales_metadata": {
        "x": {
         "dimension": "x",
         "orientation": "horizontal"
        },
        "y": {
         "dimension": "y",
         "orientation": "vertical"
        }
       },
       "selected": null,
       "selected_style": {},
       "tooltip": null,
       "tooltip_location": "mouse",
       "tooltip_style": {
        "opacity": 0.9
       },
       "unselected_style": {},
       "visible": false
      }
     },
     "50342296f40d4b5e8dcc64a8d89d01ab": {
      "model_module": "bqplot",
      "model_module_version": "^0.5",
      "model_name": "BrushSelectorModel",
      "state": {
       "_model_module": "bqplot",
       "_model_module_version": "^0.5",
       "_model_name": "BrushSelectorModel",
       "_view_count": null,
       "_view_module": "bqplot",
       "_view_module_version": "^0.5",
       "_view_name": "BrushSelector",
       "brushing": false,
       "clear": false,
       "color": "#cbcbcb",
       "marks": [],
       "selected_x": null,
       "selected_y": null,
       "x_scale": "IPY_MODEL_e9d182703c7f421db9185b0e14f021b4",
       "y_scale": "IPY_MODEL_2575788ee3b245bca63f200cd5d496ce"
      }
     },
     "50434729093740be9bb496244b78b571": {
      "model_module": "@jupyter-widgets/base",
      "model_module_version": "2.0.0",
      "model_name": "LayoutModel",
      "state": {
       "_model_module": "@jupyter-widgets/base",
       "_model_module_version": "2.0.0",
       "_model_name": "LayoutModel",
       "_view_count": null,
       "_view_module": "@jupyter-widgets/base",
       "_view_module_version": "2.0.0",
       "_view_name": "LayoutView",
       "align_content": null,
       "align_items": null,
       "align_self": null,
       "border_bottom": null,
       "border_left": null,
       "border_right": null,
       "border_top": null,
       "bottom": null,
       "display": null,
       "flex": null,
       "flex_flow": null,
       "grid_area": null,
       "grid_auto_columns": null,
       "grid_auto_flow": null,
       "grid_auto_rows": null,
       "grid_column": null,
       "grid_gap": null,
       "grid_row": null,
       "grid_template_areas": null,
       "grid_template_columns": null,
       "grid_template_rows": null,
       "height": null,
       "justify_content": null,
       "justify_items": null,
       "left": null,
       "margin": null,
       "max_height": null,
       "max_width": null,
       "min_height": null,
       "min_width": null,
       "object_fit": null,
       "object_position": null,
       "order": null,
       "overflow": null,
       "padding": null,
       "right": null,
       "top": null,
       "visibility": null,
       "width": null
      }
     },
     "5080f4ad7a974f058fc8f60dbc623e26": {
      "model_module": "jupyter-golden-layout",
      "model_module_version": "^0.3.0",
      "model_name": "GoldenLayoutModel",
      "state": {
       "_dom_classes": [],
       "_model_module": "jupyter-golden-layout",
       "_model_module_version": "^0.3.0",
       "_model_name": "GoldenLayoutModel",
       "_view_count": null,
       "_view_module": null,
       "_view_module_version": "",
       "_view_name": null,
       "component_data": {},
       "group": {},
       "layout": "IPY_MODEL_6bc5143a56004ad7b391a917bce9fe4e",
       "tabbable": null,
       "tag": "",
       "tooltip": null
      }
     },
     "51a02cae65e24cdd90a4449508e2906a": {
      "model_module": "bqplot",
      "model_module_version": "^0.5",
      "model_name": "FigureModel",
      "state": {
       "_dom_classes": [],
       "_model_module": "bqplot",
       "_model_module_version": "^0.5",
       "_model_name": "FigureModel",
       "_view_count": null,
       "_view_module": "bqplot",
       "_view_module_version": "^0.5",
       "_view_name": "Figure",
       "animation_duration": 0,
       "axes": [
        "IPY_MODEL_1010a51a9b1041e282a8493c1bc076ff",
        "IPY_MODEL_152e536ef5f34ee99df78da9d5a4af0b"
       ],
       "background_style": {},
       "fig_margin": {
        "bottom": 60,
        "left": 40,
        "right": 10,
        "top": 60
       },
       "interaction": null,
       "layout": "IPY_MODEL_8f964fb59b964bdba74aeeefecd77de5",
       "legend_location": "top-right",
       "legend_style": {},
       "legend_text": {},
       "marks": [
        "IPY_MODEL_81808224f1d54421af67e665edd44d33",
        "IPY_MODEL_792fcd19dae642dbb18a17d76d24b124",
        "IPY_MODEL_08d22431ac624143965f5ac9aac4d94c"
       ],
       "max_aspect_ratio": 100.0,
       "min_aspect_ratio": 0.01,
       "padding_x": 0.0,
       "padding_y": 0.025,
       "pixel_ratio": null,
       "scale_x": "IPY_MODEL_ce908f5e00b54379918e2f1cb7352a96",
       "scale_y": "IPY_MODEL_6a2a6cfb6a4842ddab343fca6359e119",
       "tabbable": null,
       "theme": "classic",
       "title": "",
       "title_style": {
        "font-size": "12px"
       },
       "tooltip": null
      }
     },
     "52232c6d90bd4ef494587c79a1484f45": {
      "model_module": "@jupyter-widgets/output",
      "model_module_version": "1.0.0",
      "model_name": "OutputModel",
      "state": {
       "_dom_classes": [],
       "_model_module": "@jupyter-widgets/output",
       "_model_module_version": "1.0.0",
       "_model_name": "OutputModel",
       "_view_count": null,
       "_view_module": "@jupyter-widgets/output",
       "_view_module_version": "1.0.0",
       "_view_name": "OutputView",
       "layout": "IPY_MODEL_24a8a65e45a64a918c6036020b80c900",
       "msg_id": "",
       "outputs": [],
       "tabbable": null,
       "tooltip": null
      }
     },
     "53ed7cc0e6104d3c993315965b2bdd1a": {
      "buffers": [
       {
        "data": "AAAAAAAA0L8AAAAAAADQPw==",
        "encoding": "base64",
        "path": [
         "x",
         "value"
        ]
       },
       {
        "data": "AAAAAAAAAAAAAAAAAAAAQA==",
        "encoding": "base64",
        "path": [
         "y",
         "value"
        ]
       }
      ],
      "model_module": "bqplot",
      "model_module_version": "^0.5",
      "model_name": "BarsModel",
      "state": {
       "_model_module": "bqplot",
       "_model_module_version": "^0.5",
       "_model_name": "BarsModel",
       "_view_count": null,
       "_view_module": "bqplot",
       "_view_module_version": "^0.5",
       "_view_name": "Bars",
       "align": "center",
       "apply_clip": true,
       "base": 0.0,
       "bins": 2,
       "color": null,
       "color_mode": "auto",
       "colors": [
        "gray"
       ],
       "density": true,
       "display_legend": false,
       "enable_hover": true,
       "fill": true,
       "interactions": {
        "hover": "tooltip"
       },
       "label_display": false,
       "label_display_format": ".2f",
       "label_display_horizontal_offset": 0.0,
       "label_display_vertical_offset": 0.0,
       "label_font_style": {},
       "labels": [],
       "max": null,
       "min": null,
       "opacities": [],
       "opacity_mode": "auto",
       "orientation": "vertical",
       "padding": 0.0,
       "preserve_domain": {},
       "scales": {
        "x": "IPY_MODEL_ef41d310941a45ab812b8c905cd25c05",
        "y": "IPY_MODEL_f719a5ca4e094dc0b200b99aa2521603"
       },
       "scales_metadata": {
        "color": {
         "dimension": "color"
        },
        "x": {
         "dimension": "x",
         "orientation": "horizontal"
        },
        "y": {
         "dimension": "y",
         "orientation": "vertical"
        }
       },
       "selected": null,
       "selected_style": {},
       "stroke": null,
       "stroke_width": 1.0,
       "tooltip": null,
       "tooltip_location": "mouse",
       "tooltip_style": {
        "opacity": 0.9
       },
       "type": "stacked",
       "unselected_style": {},
       "visible": true,
       "x": {
        "dtype": "float64",
        "shape": [
         2
        ],
        "type": null
       },
       "y": {
        "dtype": "float64",
        "shape": [
         2
        ],
        "type": null
       }
      }
     },
     "54f7b296328d492fafd3f243c9d0cdfc": {
      "model_module": "@jupyter-widgets/base",
      "model_module_version": "2.0.0",
      "model_name": "LayoutModel",
      "state": {
       "_model_module": "@jupyter-widgets/base",
       "_model_module_version": "2.0.0",
       "_model_name": "LayoutModel",
       "_view_count": null,
       "_view_module": "@jupyter-widgets/base",
       "_view_module_version": "2.0.0",
       "_view_name": "LayoutView",
       "align_content": null,
       "align_items": null,
       "align_self": null,
       "border_bottom": null,
       "border_left": null,
       "border_right": null,
       "border_top": null,
       "bottom": null,
       "display": null,
       "flex": null,
       "flex_flow": null,
       "grid_area": null,
       "grid_auto_columns": null,
       "grid_auto_flow": null,
       "grid_auto_rows": null,
       "grid_column": null,
       "grid_gap": null,
       "grid_row": null,
       "grid_template_areas": null,
       "grid_template_columns": null,
       "grid_template_rows": null,
       "height": null,
       "justify_content": null,
       "justify_items": null,
       "left": null,
       "margin": null,
       "max_height": null,
       "max_width": null,
       "min_height": null,
       "min_width": null,
       "object_fit": null,
       "object_position": null,
       "order": null,
       "overflow": null,
       "padding": null,
       "right": null,
       "top": null,
       "visibility": null,
       "width": null
      }
     },
     "552822867bf949208cb4b18b370ec1d0": {
      "buffers": [
       {
        "data": "",
        "encoding": "base64",
        "path": [
         "x",
         "value"
        ]
       },
       {
        "data": "",
        "encoding": "base64",
        "path": [
         "y",
         "value"
        ]
       }
      ],
      "model_module": "bqplot",
      "model_module_version": "^0.5",
      "model_name": "LinesModel",
      "state": {
       "_model_module": "bqplot",
       "_model_module_version": "^0.5",
       "_model_name": "LinesModel",
       "_view_count": null,
       "_view_module": "bqplot",
       "_view_module_version": "^0.5",
       "_view_name": "Lines",
       "apply_clip": true,
       "close_path": false,
       "color": null,
       "colors": [
        "gray"
       ],
       "curves_subset": [],
       "display_legend": false,
       "enable_hover": true,
       "fill": "none",
       "fill_colors": [],
       "fill_opacities": [],
       "interactions": {
        "hover": "tooltip"
       },
       "interpolation": "linear",
       "labels": [],
       "labels_visibility": "none",
       "line_style": "solid",
       "marker": null,
       "marker_size": 64,
       "opacities": [],
       "preserve_domain": {},
       "scales": {
        "x": "IPY_MODEL_141432e37d854784a70d9b3e538d1470",
        "y": "IPY_MODEL_c2d2bad696c34088b9006b48fbbade70"
       },
       "scales_metadata": {
        "color": {
         "dimension": "color"
        },
        "x": {
         "dimension": "x",
         "orientation": "horizontal"
        },
        "y": {
         "dimension": "y",
         "orientation": "vertical"
        }
       },
       "selected": null,
       "selected_style": {},
       "stroke_width": 2.0,
       "tooltip": null,
       "tooltip_location": "mouse",
       "tooltip_style": {
        "opacity": 0.9
       },
       "unselected_style": {},
       "visible": true,
       "x": {
        "dtype": "float64",
        "shape": [
         0
        ],
        "type": null
       },
       "y": {
        "dtype": "float64",
        "shape": [
         0
        ],
        "type": null
       }
      }
     },
     "56e7ad13209d43ffb3d2ee0ff56bf60a": {
      "buffers": [
       {
        "data": "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",
        "encoding": "base64",
        "path": [
         "value"
        ]
       }
      ],
      "model_module": "@jupyter-widgets/controls",
      "model_module_version": "2.0.0",
      "model_name": "ImageModel",
      "state": {
       "_dom_classes": [],
       "_model_module": "@jupyter-widgets/controls",
       "_model_module_version": "2.0.0",
       "_model_name": "ImageModel",
       "_view_count": null,
       "_view_module": "@jupyter-widgets/controls",
       "_view_module_version": "2.0.0",
       "_view_name": "ImageView",
       "format": "svg+xml",
       "height": "",
       "layout": "IPY_MODEL_a8d5ff6f8761405f8ea4769e9673f2bf",
       "tabbable": null,
       "tooltip": null,
       "width": "20"
      }
     },
     "5904071271e14cd7af04ecb3fce668a0": {
      "model_module": "@jupyter-widgets/base",
      "model_module_version": "2.0.0",
      "model_name": "LayoutModel",
      "state": {
       "_model_module": "@jupyter-widgets/base",
       "_model_module_version": "2.0.0",
       "_model_name": "LayoutModel",
       "_view_count": null,
       "_view_module": "@jupyter-widgets/base",
       "_view_module_version": "2.0.0",
       "_view_name": "LayoutView",
       "align_content": null,
       "align_items": null,
       "align_self": null,
       "border_bottom": null,
       "border_left": null,
       "border_right": null,
       "border_top": null,
       "bottom": null,
       "display": null,
       "flex": null,
       "flex_flow": null,
       "grid_area": null,
       "grid_auto_columns": null,
       "grid_auto_flow": null,
       "grid_auto_rows": null,
       "grid_column": null,
       "grid_gap": null,
       "grid_row": null,
       "grid_template_areas": null,
       "grid_template_columns": null,
       "grid_template_rows": null,
       "height": null,
       "justify_content": null,
       "justify_items": null,
       "left": null,
       "margin": null,
       "max_height": null,
       "max_width": null,
       "min_height": null,
       "min_width": null,
       "object_fit": null,
       "object_position": null,
       "order": null,
       "overflow": null,
       "padding": null,
       "right": null,
       "top": null,
       "visibility": null,
       "width": null
      }
     },
     "59465580507140f5a7fe0dce1f5fa487": {
      "model_module": "jupyter-vue",
      "model_module_version": "^1.10.1",
      "model_name": "VueComponentModel",
      "state": {
       "_dom_classes": [],
       "_model_module": "jupyter-vue",
       "_model_module_version": "^1.10.1",
       "_model_name": "VueComponentModel",
       "_view_count": null,
       "_view_module": null,
       "_view_module_version": "",
       "_view_name": null,
       "component": "<template>\n  <j-tooltip tipid='plugin-popout'>\n    <jupyter-widget :widget=\"popout_button\"></jupyter-widget>\n  </j-tooltip>\n</template>\n\n<script>\nmodule.exports = {\n  props: ['popout_button'],\n};\n</script>\n",
       "layout": "IPY_MODEL_f6910a8ee91e42a4a5b49dbc54f6f0a9",
       "name": "j-plugin-popout",
       "tabbable": null,
       "tooltip": null
      }
     },
     "5b4cdf94d7994192971c7f8b91737d99": {
      "model_module": "@jupyter-widgets/base",
      "model_module_version": "2.0.0",
      "model_name": "LayoutModel",
      "state": {
       "_model_module": "@jupyter-widgets/base",
       "_model_module_version": "2.0.0",
       "_model_name": "LayoutModel",
       "_view_count": null,
       "_view_module": "@jupyter-widgets/base",
       "_view_module_version": "2.0.0",
       "_view_name": "LayoutView",
       "align_content": null,
       "align_items": null,
       "align_self": null,
       "border_bottom": null,
       "border_left": null,
       "border_right": null,
       "border_top": null,
       "bottom": null,
       "display": null,
       "flex": null,
       "flex_flow": null,
       "grid_area": null,
       "grid_auto_columns": null,
       "grid_auto_flow": null,
       "grid_auto_rows": null,
       "grid_column": null,
       "grid_gap": null,
       "grid_row": null,
       "grid_template_areas": null,
       "grid_template_columns": null,
       "grid_template_rows": null,
       "height": null,
       "justify_content": null,
       "justify_items": null,
       "left": null,
       "margin": null,
       "max_height": null,
       "max_width": null,
       "min_height": null,
       "min_width": null,
       "object_fit": null,
       "object_position": null,
       "order": null,
       "overflow": null,
       "padding": null,
       "right": null,
       "top": null,
       "visibility": null,
       "width": null
      }
     },
     "5c931072f9ad4a7485e3ebf170a94d4e": {
      "model_module": "@jupyter-widgets/controls",
      "model_module_version": "2.0.0",
      "model_name": "DropdownModel",
      "state": {
       "_dom_classes": [],
       "_model_module": "@jupyter-widgets/controls",
       "_model_module_version": "2.0.0",
       "_model_name": "DropdownModel",
       "_options_labels": [
        ".",
        ""
       ],
       "_view_count": null,
       "_view_module": "@jupyter-widgets/controls",
       "_view_module_version": "2.0.0",
       "_view_name": "DropdownView",
       "description": "",
       "description_allow_html": false,
       "disabled": false,
       "index": 0,
       "layout": "IPY_MODEL_1514cd97aabe485c95ba4765a67f1ded",
       "style": "IPY_MODEL_141949bb5a2f48ba89322fbe6e17ca4b",
       "tabbable": null,
       "tooltip": null
      }
     },
     "5d7ed47e98e14dc6901679c871b1406b": {
      "model_module": "@jupyter-widgets/base",
      "model_module_version": "2.0.0",
      "model_name": "LayoutModel",
      "state": {
       "_model_module": "@jupyter-widgets/base",
       "_model_module_version": "2.0.0",
       "_model_name": "LayoutModel",
       "_view_count": null,
       "_view_module": "@jupyter-widgets/base",
       "_view_module_version": "2.0.0",
       "_view_name": "LayoutView",
       "align_content": null,
       "align_items": null,
       "align_self": null,
       "border_bottom": null,
       "border_left": null,
       "border_right": null,
       "border_top": null,
       "bottom": null,
       "display": null,
       "flex": null,
       "flex_flow": null,
       "grid_area": null,
       "grid_auto_columns": null,
       "grid_auto_flow": null,
       "grid_auto_rows": null,
       "grid_column": null,
       "grid_gap": null,
       "grid_row": null,
       "grid_template_areas": null,
       "grid_template_columns": null,
       "grid_template_rows": null,
       "height": null,
       "justify_content": null,
       "justify_items": null,
       "left": null,
       "margin": null,
       "max_height": null,
       "max_width": null,
       "min_height": null,
       "min_width": null,
       "object_fit": null,
       "object_position": null,
       "order": null,
       "overflow": null,
       "padding": null,
       "right": null,
       "top": null,
       "visibility": null,
       "width": null
      }
     },
     "5dd821913f684fd99f3c353cf3526ca3": {
      "model_module": "@jupyter-widgets/base",
      "model_module_version": "2.0.0",
      "model_name": "LayoutModel",
      "state": {
       "_model_module": "@jupyter-widgets/base",
       "_model_module_version": "2.0.0",
       "_model_name": "LayoutModel",
       "_view_count": null,
       "_view_module": "@jupyter-widgets/base",
       "_view_module_version": "2.0.0",
       "_view_name": "LayoutView",
       "align_content": null,
       "align_items": null,
       "align_self": null,
       "border_bottom": null,
       "border_left": null,
       "border_right": null,
       "border_top": null,
       "bottom": null,
       "display": null,
       "flex": null,
       "flex_flow": null,
       "grid_area": null,
       "grid_auto_columns": null,
       "grid_auto_flow": null,
       "grid_auto_rows": null,
       "grid_column": null,
       "grid_gap": null,
       "grid_row": null,
       "grid_template_areas": null,
       "grid_template_columns": null,
       "grid_template_rows": null,
       "height": null,
       "justify_content": null,
       "justify_items": null,
       "left": null,
       "margin": null,
       "max_height": null,
       "max_width": null,
       "min_height": null,
       "min_width": null,
       "object_fit": null,
       "object_position": null,
       "order": null,
       "overflow": null,
       "padding": null,
       "right": null,
       "top": null,
       "visibility": null,
       "width": null
      }
     },
     "5e68261a31c94d99b4cd19514dd5d9b9": {
      "model_module": "bqplot",
      "model_module_version": "^0.5",
      "model_name": "LinearScaleModel",
      "state": {
       "_model_module": "bqplot",
       "_model_module_version": "^0.5",
       "_model_name": "LinearScaleModel",
       "_view_count": null,
       "_view_module": "bqplot",
       "_view_module_version": "^0.5",
       "_view_name": "LinearScale",
       "allow_padding": true,
       "max": null,
       "mid_range": 0.8,
       "min": null,
       "min_range": 0.6,
       "reverse": false,
       "stabilized": false
      }
     },
     "5eec13942deb4cfa9390319fadb85a60": {
      "model_module": "@jupyter-widgets/base",
      "model_module_version": "2.0.0",
      "model_name": "LayoutModel",
      "state": {
       "_model_module": "@jupyter-widgets/base",
       "_model_module_version": "2.0.0",
       "_model_name": "LayoutModel",
       "_view_count": null,
       "_view_module": "@jupyter-widgets/base",
       "_view_module_version": "2.0.0",
       "_view_name": "LayoutView",
       "align_content": null,
       "align_items": null,
       "align_self": null,
       "border_bottom": null,
       "border_left": null,
       "border_right": null,
       "border_top": null,
       "bottom": null,
       "display": null,
       "flex": null,
       "flex_flow": null,
       "grid_area": null,
       "grid_auto_columns": null,
       "grid_auto_flow": null,
       "grid_auto_rows": null,
       "grid_column": null,
       "grid_gap": null,
       "grid_row": null,
       "grid_template_areas": null,
       "grid_template_columns": null,
       "grid_template_rows": null,
       "height": null,
       "justify_content": null,
       "justify_items": null,
       "left": null,
       "margin": null,
       "max_height": null,
       "max_width": null,
       "min_height": null,
       "min_width": null,
       "object_fit": null,
       "object_position": null,
       "order": null,
       "overflow": null,
       "padding": null,
       "right": null,
       "top": null,
       "visibility": null,
       "width": null
      }
     },
     "5f585e57cc414c72be107f4d57081ef0": {
      "buffers": [
       {
        "data": "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",
        "encoding": "base64",
        "path": [
         "value"
        ]
       }
      ],
      "model_module": "@jupyter-widgets/controls",
      "model_module_version": "2.0.0",
      "model_name": "ImageModel",
      "state": {
       "_dom_classes": [],
       "_model_module": "@jupyter-widgets/controls",
       "_model_module_version": "2.0.0",
       "_model_name": "ImageModel",
       "_view_count": null,
       "_view_module": "@jupyter-widgets/controls",
       "_view_module_version": "2.0.0",
       "_view_name": "ImageView",
       "format": "svg+xml",
       "height": "",
       "layout": "IPY_MODEL_af83be34d3ac48988d30a6f2f9f62f4b",
       "tabbable": null,
       "tooltip": null,
       "width": "20"
      }
     },
     "5f5e86fbfe0147f98f8e383fcf029485": {
      "model_module": "jupyter-vuetify",
      "model_module_version": "^1.8.5",
      "model_name": "ListItemTitleModel",
      "state": {
       "_dom_classes": [],
       "_events": [],
       "_jupyter_vue": "IPY_MODEL_28c992a30e9e48598df49b24e8922228",
       "_metadata": null,
       "_model_module": "jupyter-vuetify",
       "_model_module_version": "^1.8.5",
       "_model_name": "ListItemTitleModel",
       "_view_count": null,
       "_view_module": "jupyter-vuetify",
       "_view_module_version": "^1.8.5",
       "_view_name": "VuetifyView",
       "attributes": {},
       "children": [
        "remove"
       ],
       "class_": null,
       "layout": null,
       "slot": null,
       "style_": null,
       "tabbable": null,
       "tooltip": null,
       "v_model": "!!disabled!!",
       "v_on": null,
       "v_slots": []
      }
     },
     "5f8423f50f594ca288aebf925df20b8a": {
      "model_module": "jupyter-vue",
      "model_module_version": "^1.10.1",
      "model_name": "VueComponentModel",
      "state": {
       "_dom_classes": [],
       "_model_module": "jupyter-vue",
       "_model_module_version": "^1.10.1",
       "_model_name": "VueComponentModel",
       "_view_count": null,
       "_view_module": null,
       "_view_module_version": "",
       "_view_name": null,
       "component": "<template>\n    <v-slider\n            :value=\"value\"\n            @input=\"throttledSetValue\"\n            :max=\"max\"\n            :step=\"step\"\n            :hide-details=\"hideDetails\" />\n</template>\n\n<script>\n    module.exports = {\n        props: ['value', 'wait', 'max', 'step', 'hideDetails'],\n        created() {\n            this.throttledSetValue = _.throttle(\n                (v) => { this.$emit('update:value', v); },\n                this.wait);\n        },\n    }\n</script>\n",
       "layout": "IPY_MODEL_43b57a18f0f746fd8c761ebfebba1e09",
       "name": "glue-throttled-slider",
       "tabbable": null,
       "tooltip": null
      }
     },
     "6174ad03849b48e9b0e7a1ff7c6c6dd6": {
      "model_module": "jupyter-vuetify",
      "model_module_version": "^1.8.10",
      "model_name": "VuetifyTemplateModel",
      "state": {
       "_component_instances": [],
       "_dom_classes": [],
       "_jupyter_vue": "IPY_MODEL_28c992a30e9e48598df49b24e8922228",
       "_model_module": "jupyter-vuetify",
       "_model_module_version": "^1.8.10",
       "_model_name": "VuetifyTemplateModel",
       "_view_count": null,
       "_view_module": "jupyter-vuetify",
       "_view_module_version": "^1.8.10",
       "_view_name": "VuetifyView",
       "components": null,
       "css": null,
       "data": null,
       "echo_available": true,
       "events": [],
       "is_displayed": false,
       "kernel_id": "",
       "layout": "IPY_MODEL_c02f203377d141c1be3e72e39b43a6bc",
       "methods": null,
       "open_tab_on_display": false,
       "open_window_on_display": false,
       "tabbable": null,
       "target_model_id": "35a8fa3b3bee43c884b57d258d827192",
       "template": "IPY_MODEL_d55e72844de240529f76b5d1b37d37bf",
       "tooltip": null,
       "window_features": "popup,width=400,height=600",
       "window_name": "35a8fa3b3bee43c884b57d258d827192"
      }
     },
     "618fe0fab42c4ff0bd9d0bee7cf3e69b": {
      "model_module": "jupyter-vuetify",
      "model_module_version": "^1.8.10",
      "model_name": "VuetifyTemplateModel",
      "state": {
       "_component_instances": [],
       "_dom_classes": [],
       "_jupyter_vue": "IPY_MODEL_28c992a30e9e48598df49b24e8922228",
       "_model_module": "jupyter-vuetify",
       "_model_module_version": "^1.8.10",
       "_model_name": "VuetifyTemplateModel",
       "_view_count": null,
       "_view_module": "jupyter-vuetify",
       "_view_module_version": "^1.8.10",
       "_view_name": "VuetifyView",
       "components": null,
       "css": null,
       "data": null,
       "events": [
        "clear_table",
        "popout"
       ],
       "headers_avail": [
        "xcenter",
        "ycenter",
        "sky_center",
        "sum",
        "sum_aper_area",
        "aperture_sum_counts",
        "aperture_sum_counts_err",
        "aperture_sum_mag",
        "min",
        "max",
        "mean",
        "median",
        "mode",
        "std",
        "mad_std",
        "var",
        "biweight_location",
        "biweight_midvariance",
        "fwhm",
        "semimajor_sigma",
        "semiminor_sigma",
        "orientation",
        "eccentricity",
        "data_label",
        "subset_label"
       ],
       "headers_visible": [
        "xcenter",
        "ycenter",
        "sky_center",
        "sum",
        "sum_aper_area",
        "aperture_sum_counts",
        "aperture_sum_counts_err",
        "aperture_sum_mag",
        "min",
        "max",
        "mean",
        "median",
        "mode",
        "std",
        "mad_std",
        "var",
        "biweight_location",
        "biweight_midvariance",
        "fwhm",
        "semimajor_sigma",
        "semiminor_sigma",
        "orientation",
        "eccentricity",
        "data_label",
        "subset_label"
       ],
       "items": [],
       "layout": "IPY_MODEL_43c2cde5fc2b4806933ad39bb423842d",
       "methods": null,
       "popout_button": "IPY_MODEL_7e2132aa154b46388e30912f297b0977",
       "tabbable": null,
       "template": "IPY_MODEL_fd4b9702a1d040f6ad95a93ab0d07d8f",
       "tooltip": null
      }
     },
     "63c7afe10cfa468ab8a6e3bb96013543": {
      "buffers": [
       {
        "data": "AAAAAAAAAAAAAAAAAAAAAAAAAAAAAAAAAAAAAAAAAAAAAAAAAAAAAAAAAAAAAAAAAAAAAAAAAAAAAAAAAAAAAAAAAAAAAAAAAAAAAAAAAAAAAAAAAAAAAAAAAAAAAAAAAAAAAAAAAAAAAAAAAAAAAAAAAAAAAAAAAAAAAAAAAAAAAAAAAAAAAAAAAAAAAAAAAAAAAAAAAAAAAAAAAAAAAAAAAAAAAAAAAAAAAAAAAAAAAAAAAAAAAAAAAAAAAAAAAAAAAAAAAAAAAAAAAAAAAAAAAAAAAAAAAAAAAAAAAAAAAAAAAAAAAAAAAAAAAAAAAAAAAAAAAAAAAAAAAAAAAAAAAAAAAAAAAAAAAAAAAAAAAAAAAAAAAAAAAAAAAAAAAAAAAAAAAAAAAAAAAAAAAAAAAAAAAAAAAAAAAAAAAAAAAAAAAAAAAAAAAAAAAAAAAAAAAAAAAAAAAAAAAAAAAAAAAAAAAAAAAAAAAAAAAAAAAAAAAAAAAAAAAAAAAAAAAAAAAAAAAAAAAAAAAAAAAA==",
        "encoding": "base64",
        "path": [
         "image",
         "value"
        ]
       },
       {
        "data": "AAAAAAEAAAA=",
        "encoding": "base64",
        "path": [
         "x",
         "value"
        ]
       },
       {
        "data": "AAAAAAEAAAA=",
        "encoding": "base64",
        "path": [
         "y",
         "value"
        ]
       }
      ],
      "model_module": "bqplot-image-gl",
      "model_module_version": "^1.4.11",
      "model_name": "ImageGLModel",
      "state": {
       "_model_module": "bqplot-image-gl",
       "_model_module_version": "^1.4.11",
       "_model_name": "ImageGLModel",
       "_view_count": null,
       "_view_module": "bqplot-image-gl",
       "_view_module_version": "^1.4.11",
       "_view_name": "ImageGLView",
       "apply_clip": true,
       "display_legend": false,
       "enable_hover": true,
       "image": {
        "dtype": "uint8",
        "shape": [
         10,
         10,
         4
        ],
        "type": null
       },
       "interactions": {
        "hover": "tooltip"
       },
       "interpolation": "nearest",
       "labels": [],
       "opacity": 1.0,
       "preserve_domain": {},
       "scales": {
        "image": "IPY_MODEL_0acd9b51e19d4dacb4e96776f3e0807a",
        "x": "IPY_MODEL_e9d182703c7f421db9185b0e14f021b4",
        "y": "IPY_MODEL_2575788ee3b245bca63f200cd5d496ce"
       },
       "scales_metadata": {
        "image": {
         "dimension": "color"
        },
        "x": {
         "dimension": "x",
         "orientation": "horizontal"
        },
        "y": {
         "dimension": "y",
         "orientation": "vertical"
        }
       },
       "selected": null,
       "selected_style": {},
       "tooltip": null,
       "tooltip_location": "mouse",
       "tooltip_style": {
        "opacity": 0.9
       },
       "unselected_style": {},
       "visible": true,
       "x": {
        "dtype": "int32",
        "shape": [
         2
        ],
        "type": null
       },
       "y": {
        "dtype": "int32",
        "shape": [
         2
        ],
        "type": null
       }
      }
     },
     "63f0862237624624ac7a74ea6aaf18d5": {
      "model_module": "@jupyter-widgets/base",
      "model_module_version": "2.0.0",
      "model_name": "LayoutModel",
      "state": {
       "_model_module": "@jupyter-widgets/base",
       "_model_module_version": "2.0.0",
       "_model_name": "LayoutModel",
       "_view_count": null,
       "_view_module": "@jupyter-widgets/base",
       "_view_module_version": "2.0.0",
       "_view_name": "LayoutView",
       "align_content": null,
       "align_items": null,
       "align_self": null,
       "border_bottom": null,
       "border_left": null,
       "border_right": null,
       "border_top": null,
       "bottom": null,
       "display": null,
       "flex": null,
       "flex_flow": null,
       "grid_area": null,
       "grid_auto_columns": null,
       "grid_auto_flow": null,
       "grid_auto_rows": null,
       "grid_column": null,
       "grid_gap": "0px 0px",
       "grid_row": null,
       "grid_template_areas": "\n                    'pathlist pathlist'\n                    'dircontent dircontent'\n                    ",
       "grid_template_columns": "60% 40%",
       "grid_template_rows": "auto auto",
       "height": null,
       "justify_content": null,
       "justify_items": null,
       "left": null,
       "margin": null,
       "max_height": null,
       "max_width": null,
       "min_height": null,
       "min_width": null,
       "object_fit": null,
       "object_position": null,
       "order": null,
       "overflow": null,
       "padding": null,
       "right": null,
       "top": null,
       "visibility": null,
       "width": "500px"
      }
     },
     "643462021ab94688aa59cb1eba0b2614": {
      "model_module": "jupyter-vuetify",
      "model_module_version": "^1.8.10",
      "model_name": "VuetifyTemplateModel",
      "state": {
       "_component_instances": [],
       "_dom_classes": [],
       "_jupyter_vue": "IPY_MODEL_28c992a30e9e48598df49b24e8922228",
       "_model_module": "jupyter-vuetify",
       "_model_module_version": "^1.8.10",
       "_model_name": "VuetifyTemplateModel",
       "_view_count": null,
       "_view_module": "jupyter-vuetify",
       "_view_module_version": "^1.8.10",
       "_view_name": "VuetifyView",
       "components": null,
       "css": null,
       "data": null,
       "echo_available": true,
       "events": [],
       "is_displayed": false,
       "kernel_id": "",
       "layout": "IPY_MODEL_50434729093740be9bb496244b78b571",
       "methods": null,
       "open_tab_on_display": false,
       "open_window_on_display": false,
       "tabbable": null,
       "target_model_id": "97eb964bf4424461aab18f6478c0991e",
       "template": "IPY_MODEL_d55e72844de240529f76b5d1b37d37bf",
       "tooltip": null,
       "window_features": "popup,width=400,height=600",
       "window_name": "97eb964bf4424461aab18f6478c0991e"
      }
     },
     "64eddf8df68049578536247f292c4d73": {
      "model_module": "jupyter-vuetify",
      "model_module_version": "^1.8.10",
      "model_name": "VuetifyTemplateModel",
      "state": {
       "_component_instances": [],
       "_dom_classes": [],
       "_jupyter_vue": "IPY_MODEL_28c992a30e9e48598df49b24e8922228",
       "_model_module": "jupyter-vuetify",
       "_model_module_version": "^1.8.10",
       "_model_name": "VuetifyTemplateModel",
       "_view_count": null,
       "_view_module": "jupyter-vuetify",
       "_view_module_version": "^1.8.10",
       "_view_name": "VuetifyView",
       "components": null,
       "config": "imviz",
       "css": null,
       "data": null,
       "disabled_msg": "",
       "docs_link": "",
       "events": [
        "interrupt_recording",
        "plugin_ping",
        "save_figure",
        "save_movie"
       ],
       "i_end": 0,
       "i_start": 0,
       "is_active": false,
       "keep_active": false,
       "layout": "IPY_MODEL_f98ad5292108473180303525c7a71595",
       "methods": null,
       "movie_enabled": true,
       "movie_filename": "mymovie.mp4",
       "movie_fps": 5.0,
       "movie_interrupt": false,
       "movie_msg": "",
       "movie_recording": false,
       "plugin_opened": false,
       "popout_button": "IPY_MODEL_ece66a4cb47742d4aa5f57a4130ab4a8",
       "tabbable": null,
       "template": "IPY_MODEL_33732f6709584083848799273df82f0a",
       "tooltip": null,
       "uses_active_status": false,
       "vdocs": "v3.7.0",
       "viewer_items": [
        {
         "icon": 1,
         "id": "imviz-0",
         "label": "imviz-0",
         "reference": "imviz-0"
        }
       ],
       "viewer_multiselect": false,
       "viewer_selected": "imviz-0"
      }
     },
     "65171cf0862c4e0f9e46f59a1c981229": {
      "model_module": "@jupyter-widgets/base",
      "model_module_version": "2.0.0",
      "model_name": "LayoutModel",
      "state": {
       "_model_module": "@jupyter-widgets/base",
       "_model_module_version": "2.0.0",
       "_model_name": "LayoutModel",
       "_view_count": null,
       "_view_module": "@jupyter-widgets/base",
       "_view_module_version": "2.0.0",
       "_view_name": "LayoutView",
       "align_content": null,
       "align_items": null,
       "align_self": null,
       "border_bottom": null,
       "border_left": null,
       "border_right": null,
       "border_top": null,
       "bottom": null,
       "display": null,
       "flex": null,
       "flex_flow": null,
       "grid_area": null,
       "grid_auto_columns": null,
       "grid_auto_flow": null,
       "grid_auto_rows": null,
       "grid_column": null,
       "grid_gap": null,
       "grid_row": null,
       "grid_template_areas": null,
       "grid_template_columns": null,
       "grid_template_rows": null,
       "height": null,
       "justify_content": null,
       "justify_items": null,
       "left": null,
       "margin": null,
       "max_height": null,
       "max_width": null,
       "min_height": null,
       "min_width": null,
       "object_fit": null,
       "object_position": null,
       "order": null,
       "overflow": null,
       "padding": null,
       "right": null,
       "top": null,
       "visibility": null,
       "width": null
      }
     },
     "652ef1342d6a45a6930908199fe60b0d": {
      "model_module": "jupyter-vuetify",
      "model_module_version": "^1.8.10",
      "model_name": "ThemeColorsModel",
      "state": {
       "_model_module": "jupyter-vuetify",
       "_model_module_version": "^1.8.10",
       "_model_name": "ThemeColorsModel",
       "_theme_name": "dark",
       "_view_count": null,
       "_view_module": null,
       "_view_module_version": "^1.8.10",
       "_view_name": null,
       "accent": "#FF4081",
       "anchor": null,
       "error": "#FF5252",
       "info": "#2196F3",
       "primary": "#2196F3",
       "secondary": "#424242",
       "success": "#4CAF50",
       "warning": "#FB8C00"
      }
     },
     "653cee213b80490db7524cd6bbac2d3a": {
      "model_module": "@jupyter-widgets/controls",
      "model_module_version": "2.0.0",
      "model_name": "DescriptionStyleModel",
      "state": {
       "_model_module": "@jupyter-widgets/controls",
       "_model_module_version": "2.0.0",
       "_model_name": "DescriptionStyleModel",
       "_view_count": null,
       "_view_module": "@jupyter-widgets/base",
       "_view_module_version": "2.0.0",
       "_view_name": "StyleView",
       "description_width": ""
      }
     },
     "66bd68d5b0b84e418a488711edfaccc8": {
      "model_module": "jupyter-vue",
      "model_module_version": "^1.10.1",
      "model_name": "VueComponentModel",
      "state": {
       "_dom_classes": [],
       "_model_module": "jupyter-vue",
       "_model_module_version": "^1.10.1",
       "_model_name": "VueComponentModel",
       "_view_count": null,
       "_view_module": null,
       "_view_module_version": "",
       "_view_name": null,
       "component": "<template>\n  <div>\n    <v-row>\n      <v-select\n        :menu-props=\"{ left: true }\"\n        attach\n        :items=\"items.map(i => i.label)\"\n        v-model=\"selected\"\n        @change=\"$emit('update:selected', $event)\"\n        :label=\"label\"\n        :hint=\"hint\"\n        persistent-hint\n      ></v-select>\n      <v-chip v-if=\"selected === 'From File...'\"\n        close\n        close-icon=\"mdi-close\"\n        label\n        @click:close=\"() => {this.$emit('click-cancel')}\"\n        style=\"margin-top: -50px; width: 100%\"\n      >\n       <!-- @click:close resets from_file and relies on the @observe in python to reset preset \n            to its default, but the traitlet change wouldn't be fired if from_file is already\n            empty (which should only happen if setting from the API but not setting from_file) -->\n         <span style=\"overflow-x: hidden; whitespace: nowrap; text-overflow: ellipsis; width: 100%\">\n           {{from_file.split(\"/\").slice(-1)[0]}}\n         </span>\n      </v-chip>\n    </v-row>\n    <v-dialog :value=\"selected === 'From File...' && from_file.length == 0\" height=\"400\" width=\"600\">\n      <v-card>\n        <v-card-title class=\"headline\" color=\"primary\" primary-title>{{ dialog_title || \"Import File\" }}</v-card-title>\n        <v-card-text>\n          {{ dialog_hint }}\n          <v-container>\n            <v-row>\n              <v-col>\n                <slot></slot>\n              </v-col>\n            </v-row>\n            <v-row v-if=\"from_file_message.length > 0\" :style='\"color: red\"'>\n              {{from_file_message}}\n            </v-row>\n            <v-row v-else>\n              Valid file\n            </v-row>\n          </v-container>\n        </v-card-text>\n\n        <v-card-actions>\n          <div class=\"flex-grow-1\"></div>\n          <v-btn color=\"primary\" text @click=\"$emit('click-cancel')\">Cancel</v-btn>\n          <v-btn color=\"primary\" text @click=\"$emit('click-import')\" :disabled=\"from_file_message.length > 0\">Load</v-btn>\n        </v-card-actions>\n\n      </v-card>\n   </v-dialog>\n  </div>\n</template>\n\n<script>\nmodule.exports = {\n  props: ['items', 'selected', 'label', 'hint', 'rules', 'from_file', 'from_file_message',\n          'dialog_title', 'dialog_hint']\n};\n</script>\n\n<style>\n.v-chip__content {\n  width: 100%\n}\n</style>\n",
       "layout": "IPY_MODEL_ad21c9d8569343739f0401989fa9e333",
       "name": "plugin-file-import-select",
       "tabbable": null,
       "tooltip": null
      }
     },
     "67fe0bef7e9647938a628bd27c0a6ece": {
      "model_module": "jupyter-vuetify",
      "model_module_version": "^1.8.5",
      "model_name": "ListItemActionModel",
      "state": {
       "_dom_classes": [],
       "_events": [],
       "_jupyter_vue": "IPY_MODEL_28c992a30e9e48598df49b24e8922228",
       "_metadata": null,
       "_model_module": "jupyter-vuetify",
       "_model_module_version": "^1.8.5",
       "_model_name": "ListItemActionModel",
       "_view_count": null,
       "_view_module": "jupyter-vuetify",
       "_view_module_version": "^1.8.5",
       "_view_name": "VuetifyView",
       "attributes": {},
       "children": [
        "IPY_MODEL_cc24cac96f424cceb9ffabbbcf5fb5f7"
       ],
       "class_": null,
       "layout": null,
       "slot": null,
       "style_": null,
       "tabbable": null,
       "tooltip": null,
       "v_model": "!!disabled!!",
       "v_on": null,
       "v_slots": []
      }
     },
     "68c29c3afe9742a1af78f58588f75b62": {
      "model_module": "jupyter-vue",
      "model_module_version": "^1.10.1",
      "model_name": "VueComponentModel",
      "state": {
       "_dom_classes": [],
       "_model_module": "jupyter-vue",
       "_model_module_version": "^1.10.1",
       "_model_name": "VueComponentModel",
       "_view_count": null,
       "_view_module": null,
       "_view_module_version": "",
       "_view_name": null,
       "component": "<template>\n  <div>\n  <v-row>\n    <v-select\n      v-if=\"mode=='select'\"\n      attach\n      :menu-props=\"{ left: true }\"\n      :items=\"items\"\n      v-model=\"selected\"\n      @change=\"$emit('update:selected', $event)\"\n      :label=\"label\"\n      :hint=\"hint\"\n      :rules=\"rules ? rules : []\"\n      item-text=\"label\"\n      item-value=\"label\"\n      persistent-hint\n    >\n      <template v-slot:append>\n        <v-icon style=\"cursor: pointer\">mdi-menu-down</v-icon>\n        <j-tooltip tooltipcontent=\"rename\">\n          <v-icon style=\"cursor: pointer\" @click=\"modeRename\">mdi-pencil</v-icon>\n        </j-tooltip>\n        <j-tooltip tooltipcontent=\"remove\">\n          <v-icon style=\"cursor: pointer\" @click=\"modeRemove\">mdi-delete</v-icon>\n        </j-tooltip>\n        <j-tooltip tooltipcontent=\"create new\">\n          <v-icon style=\"cursor: pointer\" @click=\"modeAdd\">mdi-plus</v-icon>\n        </j-tooltip>\n      </template>\n    </v-select>\n    <v-alert\n      v-else-if=\"mode=='remove'\"\n      type=\"warning\"\n      style=\"width: 100%\"\n    >\n      <span>remove '{{selected}}' {{label.toLowerCase()}}?</span>\n      <template v-slot:append>\n        <j-tooltip tooltipcontent=\"cancel\">\n          <v-icon style=\"cursor: pointer\" @click=\"changeCancel\">mdi-close</v-icon>\n        </j-tooltip>\n        <j-tooltip :tooltipcontent=\"'Remove '+selected+' '+label.toLowerCase()\">\n          <v-icon style=\"cursor: pointer\" @click=\"changeAccept\">mdi-delete</v-icon>\n        </j-tooltip>\n      </template>\n    </v-alert>\n    <v-text-field\n      v-else\n      v-model=\"edit_value\"\n      @keyup=\"$emit('update:edit_value', $event.target.value)\"\n      :label=\"label\"\n      :hint=\"mode == 'rename' ? 'Rename '+label.toLowerCase() : 'Add '+label.toLowerCase()\"\n      persistent-hint\n    >\n      <template v-slot:append>\n        <j-tooltip v-if=\"items.length > 0\" tooltipcontent=\"Cancel change\">\n          <v-icon style=\"cursor: pointer\" @click=\"changeCancel\">mdi-close</v-icon>\n        </j-tooltip>\n        <j-tooltip tooltipcontent=\"Accept change\">\n          <v-icon style=\"cursor: pointer\" @click=\"changeAccept\">mdi-check</v-icon>\n        </j-tooltip>\n      </template>\n    </v-text-field>\n  </v-row>\n </div>\n</template>\n\n<script>\nmodule.exports = {\n  props: ['mode', 'edit_value', 'items', 'selected', 'label', 'hint', 'rules'],\n  methods: {\n    changeCancel() {\n      this.$emit('update:edit_value', this.selected);\n      this.$emit('update:mode', 'select');\n    },\n    changeAccept() {\n      this.$emit('update:mode', this.mode+':accept')\n    },\n    modeRename() {\n      this.$emit('update:mode', 'rename')\n    },\n    modeRemove() {\n      this.$emit('update:mode', 'remove')\n    },\n    modeAdd() {\n      this.$emit('update:edit_value', '')\n      this.$emit('update:mode', 'add')\n    }\n  }\n};\n</script>\n\n<style scoped>\n</style>\n",
       "layout": "IPY_MODEL_0f438c6732dd48ddaec78e9115d310f3",
       "name": "plugin-editable-select",
       "tabbable": null,
       "tooltip": null
      }
     },
     "68ec219419f34b1aa81acb11e78ec000": {
      "model_module": "jupyter-vuetify",
      "model_module_version": "^1.8.5",
      "model_name": "MenuModel",
      "state": {
       "_dom_classes": [],
       "_events": [],
       "_jupyter_vue": "IPY_MODEL_28c992a30e9e48598df49b24e8922228",
       "_metadata": null,
       "_model_module": "jupyter-vuetify",
       "_model_module_version": "^1.8.5",
       "_model_name": "MenuModel",
       "_view_count": null,
       "_view_module": "jupyter-vuetify",
       "_view_module_version": "^1.8.5",
       "_view_name": "VuetifyView",
       "absolute": null,
       "activator": null,
       "allow_overflow": null,
       "attach": null,
       "attributes": {},
       "auto": null,
       "bottom": null,
       "children": [
        "IPY_MODEL_b9a4d1c63afb4f05b372c649b9f2d053"
       ],
       "class_": null,
       "close_delay": null,
       "close_on_click": null,
       "close_on_content_click": null,
       "content_class": null,
       "dark": null,
       "disable_keys": null,
       "disabled": null,
       "eager": null,
       "fixed": null,
       "internal_activator": null,
       "layout": null,
       "left": null,
       "light": null,
       "max_height": null,
       "max_width": null,
       "min_width": null,
       "nudge_bottom": null,
       "nudge_left": null,
       "nudge_right": null,
       "nudge_top": null,
       "nudge_width": null,
       "offset_overflow": null,
       "offset_x": null,
       "offset_y": null,
       "open_delay": null,
       "open_on_click": null,
       "open_on_hover": null,
       "origin": null,
       "position_x": null,
       "position_y": null,
       "return_value": null,
       "right": null,
       "slot": null,
       "style_": null,
       "tabbable": null,
       "tooltip": null,
       "top": null,
       "transition": null,
       "v_model": "!!disabled!!",
       "v_on": null,
       "v_slots": [
        {
         "children": "IPY_MODEL_3f285288c5e4420895252d5c76e22f79",
         "name": "activator",
         "variable": "menu"
        }
       ],
       "value": null,
       "z_index": null
      }
     },
     "68fcb18e119b43b7814b873aa0ef4b3d": {
      "model_module": "jupyter-vuetify",
      "model_module_version": "^1.8.10",
      "model_name": "VuetifyTemplateModel",
      "state": {
       "_component_instances": [],
       "_dom_classes": [],
       "_jupyter_vue": "IPY_MODEL_28c992a30e9e48598df49b24e8922228",
       "_model_module": "jupyter-vuetify",
       "_model_module_version": "^1.8.10",
       "_model_name": "VuetifyTemplateModel",
       "_view_count": null,
       "_view_module": "jupyter-vuetify",
       "_view_module_version": "^1.8.10",
       "_view_name": "VuetifyView",
       "components": null,
       "css": null,
       "data": null,
       "events": [
        "popout"
       ],
       "figure": "IPY_MODEL_51a02cae65e24cdd90a4449508e2906a",
       "layout": "IPY_MODEL_4f830ad5ab374961a6f7d76a7dbbbe6d",
       "methods": null,
       "popout_button": "IPY_MODEL_9c1ce464f5e74d4e99c400beb794050f",
       "tabbable": null,
       "template": "IPY_MODEL_380469682a0f411c8704e6508aa426d4",
       "tooltip": null
      }
     },
     "6960521b714043389d98a218fd73d671": {
      "buffers": [
       {
        "data": "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",
        "encoding": "base64",
        "path": [
         "value"
        ]
       }
      ],
      "model_module": "@jupyter-widgets/controls",
      "model_module_version": "2.0.0",
      "model_name": "ImageModel",
      "state": {
       "_dom_classes": [],
       "_model_module": "@jupyter-widgets/controls",
       "_model_module_version": "2.0.0",
       "_model_name": "ImageModel",
       "_view_count": null,
       "_view_module": "@jupyter-widgets/controls",
       "_view_module_version": "2.0.0",
       "_view_name": "ImageView",
       "format": "svg+xml",
       "height": "",
       "layout": "IPY_MODEL_467f6aedb8e645478f18e5762daa934b",
       "tabbable": null,
       "tooltip": null,
       "width": "20"
      }
     },
     "697a27f8d4e148508d9753b5b98e4a33": {
      "model_module": "jupyter-vuetify",
      "model_module_version": "^1.8.5",
      "model_name": "ListItemActionModel",
      "state": {
       "_dom_classes": [],
       "_events": [],
       "_jupyter_vue": "IPY_MODEL_28c992a30e9e48598df49b24e8922228",
       "_metadata": null,
       "_model_module": "jupyter-vuetify",
       "_model_module_version": "^1.8.5",
       "_model_name": "ListItemActionModel",
       "_view_count": null,
       "_view_module": "jupyter-vuetify",
       "_view_module_version": "^1.8.5",
       "_view_name": "VuetifyView",
       "attributes": {},
       "children": [
        "IPY_MODEL_4cf1eb4cb8e14268b6755707306c2b5f"
       ],
       "class_": null,
       "layout": null,
       "slot": null,
       "style_": null,
       "tabbable": null,
       "tooltip": null,
       "v_model": "!!disabled!!",
       "v_on": null,
       "v_slots": []
      }
     },
     "69a959b60764486e8577dc5c64436d16": {
      "model_module": "bqplot-image-gl",
      "model_module_version": "^1.4.11",
      "model_name": "BrushEllipseSelectorModel",
      "state": {
       "_model_module": "bqplot-image-gl",
       "_model_module_version": "^1.4.11",
       "_model_name": "BrushEllipseSelectorModel",
       "_view_count": null,
       "_view_module": "bqplot-image-gl",
       "_view_module_version": "^1.4.11",
       "_view_name": "BrushEllipseSelector",
       "border_style": {
        "cursor": "col-resize",
        "fill": "#cbcbcb",
        "opacity": 0.3,
        "stroke": "#cbcbcb",
        "stroke-width": "3px"
       },
       "brushing": false,
       "clear": false,
       "color": null,
       "marks": [],
       "pixel_aspect": 1.0,
       "selected_x": null,
       "selected_y": null,
       "style": {
        "cursor": "grab",
        "fill": "#cbcbcb",
        "opacity": 0.3
       },
       "x_scale": "IPY_MODEL_e9d182703c7f421db9185b0e14f021b4",
       "y_scale": "IPY_MODEL_2575788ee3b245bca63f200cd5d496ce"
      }
     },
     "6a2a6cfb6a4842ddab343fca6359e119": {
      "model_module": "bqplot",
      "model_module_version": "^0.5",
      "model_name": "LinearScaleModel",
      "state": {
       "_model_module": "bqplot",
       "_model_module_version": "^0.5",
       "_model_name": "LinearScaleModel",
       "_view_count": null,
       "_view_module": "bqplot",
       "_view_module_version": "^0.5",
       "_view_name": "LinearScale",
       "allow_padding": false,
       "max": 1.0,
       "mid_range": 0.8,
       "min": 0.0,
       "min_range": 0.6,
       "reverse": false,
       "stabilized": false
      }
     },
     "6a2e460d62d14ae2965fc4fe8cf031f8": {
      "model_module": "jupyter-vuetify",
      "model_module_version": "^1.8.10",
      "model_name": "VuetifyTemplateModel",
      "state": {
       "_component_instances": [],
       "_dom_classes": [],
       "_jupyter_vue": "IPY_MODEL_28c992a30e9e48598df49b24e8922228",
       "_model_module": "jupyter-vuetify",
       "_model_module_version": "^1.8.10",
       "_model_name": "VuetifyTemplateModel",
       "_view_count": null,
       "_view_module": "jupyter-vuetify",
       "_view_module_version": "^1.8.10",
       "_view_name": "VuetifyView",
       "components": null,
       "controls": {
        "figure_widget": "IPY_MODEL_44eef25b86e6490dbee15ab26e8b1e82",
        "layer_options": "IPY_MODEL_bd64c6f1f3d4417f9a86d13a7614ef0d",
        "output_widget": "IPY_MODEL_cd15da853b134886a22e7c48ab7d338f",
        "toolbar_active_subset": "IPY_MODEL_13a0a9a3b770480a99fd55866eacf084",
        "toolbar_selection_mode": "IPY_MODEL_68ec219419f34b1aa81acb11e78ec000",
        "toolbar_selection_tools": "IPY_MODEL_275d732b14f34abd9d9b2ea07f2b1ad7",
        "viewer_options": "IPY_MODEL_77516b22a8964bf08db1d22323f53357"
       },
       "css": null,
       "data": null,
       "drawer_open": false,
       "events": [],
       "layout": "IPY_MODEL_80c204b6cf384e9d816b8a125eb8384a",
       "methods": null,
       "open_panels": [
        0,
        1
       ],
       "tabbable": null,
       "template": "IPY_MODEL_9c20bcf7b5c14fc0ad028aadebc71cb9",
       "tooltip": null
      }
     },
     "6a7f5b7bf98d47f99b0151091f07bacc": {
      "model_module": "jupyter-vuetify",
      "model_module_version": "^1.8.10",
      "model_name": "VuetifyTemplateModel",
      "state": {
       "_component_instances": [],
       "_dom_classes": [],
       "_jupyter_vue": "IPY_MODEL_28c992a30e9e48598df49b24e8922228",
       "_model_module": "jupyter-vuetify",
       "_model_module_version": "^1.8.10",
       "_model_name": "VuetifyTemplateModel",
       "_view_count": null,
       "_view_module": "jupyter-vuetify",
       "_view_module_version": "^1.8.10",
       "_view_name": "VuetifyView",
       "background_value": 0,
       "bg_subset_items": [
        {
         "label": "Manual"
        }
       ],
       "bg_subset_selected": "Manual",
       "components": null,
       "config": "imviz",
       "counts_factor": 0,
       "css": null,
       "current_plot_type": "Curve of Growth",
       "data": null,
       "dataset_items": [
        {
         "icon": "a",
         "label": "f090w[DATA]"
        },
        {
         "icon": "b",
         "label": "f187n[DATA]"
        },
        {
         "icon": "c",
         "label": "f200w[DATA]"
        },
        {
         "icon": "d",
         "label": "f335m[DATA]"
        },
        {
         "icon": "e",
         "label": "f444w[DATA]"
        },
        {
         "icon": "f",
         "label": "f470n[DATA]"
        }
       ],
       "dataset_selected": "f090w[DATA]",
       "disabled_msg": "",
       "docs_link": "",
       "events": [
        "clear_table",
        "do_aper_phot",
        "plugin_ping"
       ],
       "fit_radial_profile": false,
       "fit_results": [],
       "flux_scaling": 0.003631,
       "is_active": false,
       "keep_active": false,
       "layout": "IPY_MODEL_0e8ef88eeba64b9fbefff8a62eb4fca4",
       "methods": null,
       "pixel_area": 0.000983699999999999,
       "plot_available": false,
       "plot_types": [
        "Curve of Growth",
        "Radial Profile",
        "Radial Profile (Raw)"
       ],
       "plot_widget": "IPY_MODEL_68fcb18e119b43b7814b873aa0ef4b3d",
       "plugin_opened": false,
       "popout_button": "IPY_MODEL_ec6993a2bdf9494aaab2c31d58264942",
       "radial_plot": "",
       "result_available": false,
       "result_failed_msg": "",
       "results": [],
       "subset_area": 0,
       "subset_items": [],
       "subset_selected": "",
       "tabbable": null,
       "table_widget": "IPY_MODEL_618fe0fab42c4ff0bd9d0bee7cf3e69b",
       "template": "IPY_MODEL_eeae0abfbb95448095efe333740d5e9a",
       "tooltip": null,
       "uses_active_status": false,
       "vdocs": "v3.7.0"
      }
     },
     "6b40f71f00ae42a0a7b568790effcea8": {
      "model_module": "@jupyter-widgets/controls",
      "model_module_version": "2.0.0",
      "model_name": "DescriptionStyleModel",
      "state": {
       "_model_module": "@jupyter-widgets/controls",
       "_model_module_version": "2.0.0",
       "_model_name": "DescriptionStyleModel",
       "_view_count": null,
       "_view_module": "@jupyter-widgets/base",
       "_view_module_version": "2.0.0",
       "_view_name": "StyleView",
       "description_width": ""
      }
     },
     "6b8e3be9f6244fd4b4a03c8ed983035a": {
      "model_module": "jupyter-vuetify",
      "model_module_version": "^1.8.10",
      "model_name": "VuetifyTemplateModel",
      "state": {
       "_component_instances": [],
       "_dom_classes": [],
       "_jupyter_vue": "IPY_MODEL_28c992a30e9e48598df49b24e8922228",
       "_model_module": "jupyter-vuetify",
       "_model_module_version": "^1.8.10",
       "_model_name": "VuetifyTemplateModel",
       "_view_count": null,
       "_view_module": "jupyter-vuetify",
       "_view_module_version": "^1.8.10",
       "_view_name": "VuetifyView",
       "components": null,
       "css": null,
       "data": null,
       "echo_available": true,
       "events": [],
       "is_displayed": false,
       "kernel_id": "",
       "layout": "IPY_MODEL_360a6f954f014a378a8b09db9da4ec27",
       "methods": null,
       "open_tab_on_display": false,
       "open_window_on_display": false,
       "tabbable": null,
       "target_model_id": "0710c8678de4402fb2bc963cbf88cb57",
       "template": "IPY_MODEL_d55e72844de240529f76b5d1b37d37bf",
       "tooltip": null,
       "window_features": "popup,width=400,height=600",
       "window_name": "0710c8678de4402fb2bc963cbf88cb57"
      }
     },
     "6bc5143a56004ad7b391a917bce9fe4e": {
      "model_module": "@jupyter-widgets/base",
      "model_module_version": "2.0.0",
      "model_name": "LayoutModel",
      "state": {
       "_model_module": "@jupyter-widgets/base",
       "_model_module_version": "2.0.0",
       "_model_name": "LayoutModel",
       "_view_count": null,
       "_view_module": "@jupyter-widgets/base",
       "_view_module_version": "2.0.0",
       "_view_name": "LayoutView",
       "align_content": null,
       "align_items": null,
       "align_self": null,
       "border_bottom": null,
       "border_left": null,
       "border_right": null,
       "border_top": null,
       "bottom": null,
       "display": null,
       "flex": null,
       "flex_flow": null,
       "grid_area": null,
       "grid_auto_columns": null,
       "grid_auto_flow": null,
       "grid_auto_rows": null,
       "grid_column": null,
       "grid_gap": null,
       "grid_row": null,
       "grid_template_areas": null,
       "grid_template_columns": null,
       "grid_template_rows": null,
       "height": null,
       "justify_content": null,
       "justify_items": null,
       "left": null,
       "margin": null,
       "max_height": null,
       "max_width": null,
       "min_height": null,
       "min_width": null,
       "object_fit": null,
       "object_position": null,
       "order": null,
       "overflow": null,
       "padding": null,
       "right": null,
       "top": null,
       "visibility": null,
       "width": null
      }
     },
     "6c29e718ae314c42a078729e5dfe9793": {
      "model_module": "jupyter-vuetify",
      "model_module_version": "^1.8.5",
      "model_name": "ListItemTitleModel",
      "state": {
       "_dom_classes": [],
       "_events": [],
       "_jupyter_vue": "IPY_MODEL_28c992a30e9e48598df49b24e8922228",
       "_metadata": null,
       "_model_module": "jupyter-vuetify",
       "_model_module_version": "^1.8.5",
       "_model_name": "ListItemTitleModel",
       "_view_count": null,
       "_view_module": "jupyter-vuetify",
       "_view_module_version": "^1.8.5",
       "_view_name": "VuetifyView",
       "attributes": {},
       "children": [
        "xor"
       ],
       "class_": null,
       "layout": null,
       "slot": null,
       "style_": null,
       "tabbable": null,
       "tooltip": null,
       "v_model": "!!disabled!!",
       "v_on": null,
       "v_slots": []
      }
     },
     "6c6f5c51e1fa4a5a8bd1fd024900a780": {
      "model_module": "jupyter-vuetify",
      "model_module_version": "^1.8.10",
      "model_name": "VuetifyTemplateModel",
      "state": {
       "_component_instances": [],
       "_dom_classes": [],
       "_jupyter_vue": "IPY_MODEL_28c992a30e9e48598df49b24e8922228",
       "_model_module": "jupyter-vuetify",
       "_model_module_version": "^1.8.10",
       "_model_name": "VuetifyTemplateModel",
       "_view_count": null,
       "_view_module": "jupyter-vuetify",
       "_view_module_version": "^1.8.10",
       "_view_name": "VuetifyView",
       "color": "#c75109",
       "components": {
        "g-file-import": "IPY_MODEL_b0be68b0f5054e1a8c9c43a67aaa2257"
       },
       "config": "imviz",
       "css": null,
       "data": null,
       "dec": 0.0,
       "disabled_msg": "",
       "docs_link": "",
       "events": [
        "center_on_viewer",
        "file_import_accept",
        "file_import_cancel",
        "link_by_wcs",
        "plugin_ping"
       ],
       "fill_opacity": 0.1,
       "from_file": "",
       "from_file_message": "",
       "has_pysiaf": false,
       "is_active": false,
       "is_pixel_linked": false,
       "keep_active": false,
       "layout": "IPY_MODEL_149fe3cdacf54a049782bce75ee43490",
       "methods": null,
       "overlay_edit_value": "default",
       "overlay_items": [
        {
         "label": "default"
        }
       ],
       "overlay_mode": "select",
       "overlay_selected": "default",
       "pa": 0.0,
       "plugin_opened": false,
       "popout_button": "IPY_MODEL_a66d29f104a845e6935986e4c85061ea",
       "preset_items": [
        {
         "label": "None"
        },
        {
         "label": "From File..."
        }
       ],
       "preset_selected": "None",
       "ra": 0.0,
       "tabbable": null,
       "template": "IPY_MODEL_d4db9ad9882d407f927950ea55927a32",
       "tooltip": null,
       "uses_active_status": true,
       "v2_offset": 0.0,
       "v3_offset": 0.0,
       "vdocs": "v3.7.0",
       "viewer_items": [
        {
         "icon": 1,
         "id": "imviz-0",
         "label": "imviz-0",
         "reference": "imviz-0"
        }
       ],
       "viewer_multiselect": true,
       "viewer_selected": [
        "imviz-0"
       ],
       "visible": true
      }
     },
     "6ea5eed81cc3449fb54fb224515fa717": {
      "model_module": "jupyter-vue",
      "model_module_version": "^1.10.1",
      "model_name": "TemplateModel",
      "state": {
       "_model_module": "jupyter-vue",
       "_model_module_version": "^1.10.1",
       "_model_name": "TemplateModel",
       "_view_count": null,
       "_view_module": null,
       "_view_module_version": "",
       "_view_name": null,
       "template": "<template>\n  <j-tray-plugin\n     description='Queries an area encompassed by the viewer using a specified catalog and marks all the objects found within the area.'\n    :link=\"docs_link || 'https://jdaviz.readthedocs.io/en/'+vdocs+'/'+config+'/plugins.html#catalog-search'\"\n    :popout_button=\"popout_button\">\n\n    <plugin-viewer-select\n       :items=\"viewer_items\"\n       :selected.sync=\"viewer_selected\"\n       label=\"Viewer\"\n       :show_if_single_entry=\"false\"\n       hint=\"Select a viewer to search.\"\n    />\n\n    <plugin-file-import-select\n      :items=\"catalog_items\"\n      :selected.sync=\"catalog_selected\"\n      label=\"Catalog\"\n      hint=\"Select a catalog to search.\"\n      :from_file.sync=\"from_file\"\n      :from_file_message=\"from_file_message\"\n      dialog_title=\"Import Catalog\"\n      dialog_hint=\"Select a file containing a catalog\"\n      @click-cancel=\"file_import_cancel()\"\n      @click-import=\"file_import_accept()\"\n    >\n      <g-file-import id=\"file-uploader\"></g-file-import>\n    </plugin-file-import-select>\n\n    <v-row class=\"row-no-outside-padding\">\n       <v-col>\n         <v-btn color=\"primary\" text @click=\"do_clear\">Clear</v-btn>\n       </v-col>\n       <v-col>\n         <v-btn color=\"primary\" text @click=\"do_search\">Search</v-btn>\n       </v-col>\n    </v-row>\n\n    <v-row>\n       <p class=\"font-weight-bold\">Results:</p>\n       <span style='padding-left: 4px' v-if=\"results_available\">{{number_of_results}}</span>\n    <v-row>\n\n  </j-tray-plugin>\n</template>\n"
      }
     },
     "6f0e83f23cbe4062bde5546957efc51a": {
      "model_module": "jupyter-vuetify",
      "model_module_version": "^1.8.10",
      "model_name": "VuetifyTemplateModel",
      "state": {
       "_component_instances": [],
       "_dom_classes": [],
       "_jupyter_vue": "IPY_MODEL_28c992a30e9e48598df49b24e8922228",
       "_model_module": "jupyter-vuetify",
       "_model_module_version": "^1.8.10",
       "_model_name": "VuetifyTemplateModel",
       "_view_count": null,
       "_view_module": "jupyter-vuetify",
       "_view_module_version": "^1.8.10",
       "_view_name": "VuetifyView",
       "components": {
        "g-subset-mode": "IPY_MODEL_8739f690bd24486cb290c85e0b1958fa",
        "g-subset-select": "IPY_MODEL_98df570a3a4947c9b314491cffebe10e"
       },
       "config": "imviz",
       "css": null,
       "data": null,
       "events": [],
       "layout": "IPY_MODEL_5dd821913f684fd99f3c353cf3526ca3",
       "methods": null,
       "popout_button": "IPY_MODEL_86fbcfdaa7e74e4cb2d01572570c2ae1",
       "select": [],
       "subset_mode": 0,
       "tabbable": null,
       "template": "IPY_MODEL_8c57bd59ee2e4f758749b6a22c9e1236",
       "tooltip": null,
       "vdocs": "v3.7.0"
      }
     },
     "6f128218a0ba47b9ad765be3d69eb011": {
      "model_module": "bqplot",
      "model_module_version": "^0.5",
      "model_name": "LinearScaleModel",
      "state": {
       "_model_module": "bqplot",
       "_model_module_version": "^0.5",
       "_model_name": "LinearScaleModel",
       "_view_count": null,
       "_view_module": "bqplot",
       "_view_module_version": "^0.5",
       "_view_name": "LinearScale",
       "allow_padding": false,
       "max": 1.0,
       "mid_range": 0.8,
       "min": 0.0,
       "min_range": 0.6,
       "reverse": false,
       "stabilized": false
      }
     },
     "6ff5827b27054d56a2c4d4ec3528a9ee": {
      "model_module": "jupyter-vue",
      "model_module_version": "^1.10.1",
      "model_name": "VueComponentModel",
      "state": {
       "_dom_classes": [],
       "_model_module": "jupyter-vue",
       "_model_module_version": "^1.10.1",
       "_model_name": "VueComponentModel",
       "_view_count": null,
       "_view_module": null,
       "_view_module_version": "",
       "_view_name": null,
       "component": "<template>\n  <span>\n    <a :href=\"link\" target=\"__blank\" style=\"color: #A75000\">\n      <b>{{ linktext || \"Learn More\" }}</b>\n      <v-icon x-small color=\"#A75000\">mdi-open-in-new</v-icon>\n    </a> \n    \n  </span>\n</template>\n\n<script>\nmodule.exports = {\n  props: {link: String, \n          linktext: String\n        },\n};\n</script>\n",
       "layout": "IPY_MODEL_dca70d8d2a0346c1852f24bfa1a20f28",
       "name": "j-external-link",
       "tabbable": null,
       "tooltip": null
      }
     },
     "706c0887f42e48f796656c1ef6b0369b": {
      "model_module": "@jupyter-widgets/base",
      "model_module_version": "2.0.0",
      "model_name": "LayoutModel",
      "state": {
       "_model_module": "@jupyter-widgets/base",
       "_model_module_version": "2.0.0",
       "_model_name": "LayoutModel",
       "_view_count": null,
       "_view_module": "@jupyter-widgets/base",
       "_view_module_version": "2.0.0",
       "_view_name": "LayoutView",
       "align_content": null,
       "align_items": null,
       "align_self": null,
       "border_bottom": null,
       "border_left": null,
       "border_right": null,
       "border_top": null,
       "bottom": null,
       "display": null,
       "flex": null,
       "flex_flow": null,
       "grid_area": null,
       "grid_auto_columns": null,
       "grid_auto_flow": null,
       "grid_auto_rows": null,
       "grid_column": null,
       "grid_gap": "0px 0px",
       "grid_row": null,
       "grid_template_areas": "\n                    'pathlist pathlist'\n                    'dircontent dircontent'\n                    ",
       "grid_template_columns": "60% 40%",
       "grid_template_rows": "auto auto",
       "height": null,
       "justify_content": null,
       "justify_items": null,
       "left": null,
       "margin": null,
       "max_height": null,
       "max_width": null,
       "min_height": null,
       "min_width": null,
       "object_fit": null,
       "object_position": null,
       "order": null,
       "overflow": null,
       "padding": null,
       "right": null,
       "top": null,
       "visibility": null,
       "width": "500px"
      }
     },
     "71c6e16f6e0743a0b340f6aa19822a14": {
      "model_module": "@jupyter-widgets/base",
      "model_module_version": "2.0.0",
      "model_name": "LayoutModel",
      "state": {
       "_model_module": "@jupyter-widgets/base",
       "_model_module_version": "2.0.0",
       "_model_name": "LayoutModel",
       "_view_count": null,
       "_view_module": "@jupyter-widgets/base",
       "_view_module_version": "2.0.0",
       "_view_name": "LayoutView",
       "align_content": null,
       "align_items": null,
       "align_self": null,
       "border_bottom": null,
       "border_left": null,
       "border_right": null,
       "border_top": null,
       "bottom": null,
       "display": null,
       "flex": null,
       "flex_flow": null,
       "grid_area": null,
       "grid_auto_columns": null,
       "grid_auto_flow": null,
       "grid_auto_rows": null,
       "grid_column": null,
       "grid_gap": null,
       "grid_row": null,
       "grid_template_areas": null,
       "grid_template_columns": null,
       "grid_template_rows": null,
       "height": null,
       "justify_content": null,
       "justify_items": null,
       "left": null,
       "margin": null,
       "max_height": null,
       "max_width": null,
       "min_height": null,
       "min_width": null,
       "object_fit": null,
       "object_position": null,
       "order": null,
       "overflow": null,
       "padding": null,
       "right": null,
       "top": null,
       "visibility": null,
       "width": null
      }
     },
     "71c7cee8726045bcb9952a43938fce86": {
      "model_module": "@jupyter-widgets/base",
      "model_module_version": "2.0.0",
      "model_name": "LayoutModel",
      "state": {
       "_model_module": "@jupyter-widgets/base",
       "_model_module_version": "2.0.0",
       "_model_name": "LayoutModel",
       "_view_count": null,
       "_view_module": "@jupyter-widgets/base",
       "_view_module_version": "2.0.0",
       "_view_name": "LayoutView",
       "align_content": null,
       "align_items": null,
       "align_self": null,
       "border_bottom": null,
       "border_left": null,
       "border_right": null,
       "border_top": null,
       "bottom": null,
       "display": null,
       "flex": null,
       "flex_flow": null,
       "grid_area": null,
       "grid_auto_columns": null,
       "grid_auto_flow": null,
       "grid_auto_rows": null,
       "grid_column": null,
       "grid_gap": null,
       "grid_row": null,
       "grid_template_areas": null,
       "grid_template_columns": null,
       "grid_template_rows": null,
       "height": null,
       "justify_content": null,
       "justify_items": null,
       "left": null,
       "margin": null,
       "max_height": null,
       "max_width": null,
       "min_height": null,
       "min_width": null,
       "object_fit": null,
       "object_position": null,
       "order": null,
       "overflow": null,
       "padding": null,
       "right": null,
       "top": null,
       "visibility": null,
       "width": null
      }
     },
     "7401701ddeb54b3f9c1db5e42161f7fb": {
      "model_module": "@jupyter-widgets/base",
      "model_module_version": "2.0.0",
      "model_name": "LayoutModel",
      "state": {
       "_model_module": "@jupyter-widgets/base",
       "_model_module_version": "2.0.0",
       "_model_name": "LayoutModel",
       "_view_count": null,
       "_view_module": "@jupyter-widgets/base",
       "_view_module_version": "2.0.0",
       "_view_name": "LayoutView",
       "align_content": null,
       "align_items": null,
       "align_self": null,
       "border_bottom": null,
       "border_left": null,
       "border_right": null,
       "border_top": null,
       "bottom": null,
       "display": null,
       "flex": null,
       "flex_flow": null,
       "grid_area": null,
       "grid_auto_columns": null,
       "grid_auto_flow": null,
       "grid_auto_rows": null,
       "grid_column": null,
       "grid_gap": null,
       "grid_row": null,
       "grid_template_areas": null,
       "grid_template_columns": null,
       "grid_template_rows": null,
       "height": null,
       "justify_content": null,
       "justify_items": null,
       "left": null,
       "margin": null,
       "max_height": null,
       "max_width": null,
       "min_height": null,
       "min_width": null,
       "object_fit": null,
       "object_position": null,
       "order": null,
       "overflow": null,
       "padding": null,
       "right": null,
       "top": null,
       "visibility": null,
       "width": "auto"
      }
     },
     "74b968a6f7ba468cb07e10dfc656f39b": {
      "model_module": "bqplot",
      "model_module_version": "^0.5",
      "model_name": "AxisModel",
      "state": {
       "_model_module": "bqplot",
       "_model_module_version": "^0.5",
       "_model_name": "AxisModel",
       "_view_count": null,
       "_view_module": "bqplot",
       "_view_module_version": "^0.5",
       "_view_name": "Axis",
       "color": null,
       "grid_color": null,
       "grid_lines": "solid",
       "label": "y",
       "label_color": null,
       "label_location": "middle",
       "label_offset": null,
       "num_ticks": null,
       "offset": {},
       "orientation": "vertical",
       "scale": "IPY_MODEL_88d6ad2c19c44930b7487fd314ba05ec",
       "side": null,
       "tick_format": null,
       "tick_labels": {},
       "tick_rotate": 0,
       "tick_style": {},
       "tick_values": null,
       "visible": true
      }
     },
     "7504a02d53984c4fa09a3d53525ea90f": {
      "model_module": "@jupyter-widgets/controls",
      "model_module_version": "2.0.0",
      "model_name": "SelectModel",
      "state": {
       "_dom_classes": [],
       "_model_module": "@jupyter-widgets/controls",
       "_model_module_version": "2.0.0",
       "_model_name": "SelectModel",
       "_options_labels": [
        "../",
        "imviz_rgb_carina.ipynb",
        "requirements.txt"
       ],
       "_view_count": null,
       "_view_module": "@jupyter-widgets/controls",
       "_view_module_version": "2.0.0",
       "_view_name": "SelectView",
       "description": "",
       "description_allow_html": false,
       "disabled": false,
       "index": null,
       "layout": "IPY_MODEL_b596865142d2429484fb149714591c12",
       "rows": 8,
       "style": "IPY_MODEL_6b40f71f00ae42a0a7b568790effcea8",
       "tabbable": null,
       "tooltip": null
      }
     },
     "76efa99d328644a7974a645a77ddec91": {
      "model_module": "bqplot",
      "model_module_version": "^0.5",
      "model_name": "FigureModel",
      "state": {
       "_dom_classes": [],
       "_model_module": "bqplot",
       "_model_module_version": "^0.5",
       "_model_name": "FigureModel",
       "_view_count": null,
       "_view_module": "bqplot",
       "_view_module_version": "^0.5",
       "_view_name": "Figure",
       "animation_duration": 0,
       "axes": [
        "IPY_MODEL_2585d14b9f984711974bede6dc5f5375",
        "IPY_MODEL_f14c51792b984172898b204566f0099f"
       ],
       "background_style": {},
       "fig_margin": {
        "bottom": 60,
        "left": 40,
        "right": 10,
        "top": 60
       },
       "interaction": null,
       "layout": "IPY_MODEL_98edf73435c9457791e1ee38ed2a16c5",
       "legend_location": "top-right",
       "legend_style": {},
       "legend_text": {},
       "marks": [
        "IPY_MODEL_552822867bf949208cb4b18b370ec1d0"
       ],
       "max_aspect_ratio": 100.0,
       "min_aspect_ratio": 0.01,
       "padding_x": 0.0,
       "padding_y": 0.025,
       "pixel_ratio": null,
       "scale_x": "IPY_MODEL_6f128218a0ba47b9ad765be3d69eb011",
       "scale_y": "IPY_MODEL_f6ca99dfec214cccbbdf4abb738566ba",
       "tabbable": null,
       "theme": "classic",
       "title": "",
       "title_style": {
        "font-size": "12px"
       },
       "tooltip": null
      }
     },
     "77516b22a8964bf08db1d22323f53357": {
      "model_module": "jupyter-vuetify",
      "model_module_version": "^1.8.10",
      "model_name": "VuetifyTemplateModel",
      "state": {
       "_component_instances": [],
       "_dom_classes": [],
       "_jupyter_vue": "IPY_MODEL_28c992a30e9e48598df49b24e8922228",
       "_model_module": "jupyter-vuetify",
       "_model_module_version": "^1.8.10",
       "_model_name": "VuetifyTemplateModel",
       "_view_count": null,
       "_view_module": "jupyter-vuetify",
       "_view_module_version": "^1.8.10",
       "_view_name": "VuetifyView",
       "color_mode_items": [
        {
         "text": "Colormaps",
         "value": 0
        },
        {
         "text": "One color per layer",
         "value": 1
        }
       ],
       "color_mode_selected": 1,
       "components": null,
       "css": null,
       "data": null,
       "events": [],
       "glue_state": {
        "aspect": "equal",
        "color_mode": "One color per layer",
        "dpi": 72,
        "image_external_padding": 0.5,
        "layers": [
         {
          "alpha": 0.32,
          "attribute": "611cfa3b-ebb5-42d2-b5c7-ba9bce8b51a4",
          "bias": 0.39,
          "bitmap_visible": true,
          "c_max": 836.2129516601562,
          "c_min": 0.0,
          "cmap": "gray",
          "color": "#cc7ace",
          "contour_colors": [
           "red",
           "orange",
           "yellow",
           "green",
           "blue"
          ],
          "contour_percentile": 100,
          "contour_visible": false,
          "contrast": 0.69,
          "global_sync": false,
          "labels": [
           "139.4",
           "278.7",
           "418.1",
           "557.5",
           "696.8"
          ],
          "layer": "611cfa3b-ebb5-42d2-b5c7-ba9bce8b51a4",
          "level_mode": "Linear",
          "levels": [
           139.36882527669272,
           278.73765055338544,
           418.1064758300781,
           557.4753011067709,
           696.8441263834636
          ],
          "n_levels": 5,
          "percentile": "Custom",
          "stretch": "linear",
          "v_max": 4.0,
          "v_min": 0.5568695947527885,
          "visible": true,
          "zorder": 1
         },
         {
          "alpha": 0.4,
          "attribute": "611cfa3b-ebb5-42d2-b5c7-ba9bce8b51a4",
          "bias": 0.74,
          "bitmap_visible": true,
          "c_max": 568.6403198242188,
          "c_min": 0.0,
          "cmap": "gray",
          "color": "#66cfef",
          "contour_colors": [
           "red",
           "orange",
           "yellow",
           "green",
           "blue"
          ],
          "contour_percentile": 100,
          "contour_visible": false,
          "contrast": 0.94,
          "global_sync": false,
          "labels": [
           "94.77",
           "189.5",
           "284.3",
           "379.1",
           "473.9"
          ],
          "layer": "611cfa3b-ebb5-42d2-b5c7-ba9bce8b51a4",
          "level_mode": "Linear",
          "levels": [
           94.7733866373698,
           189.5467732747396,
           284.3201599121094,
           379.0935465494792,
           473.866933186849
          ],
          "n_levels": 5,
          "percentile": "Custom",
          "stretch": "linear",
          "v_max": 16.0,
          "v_min": 0.0,
          "visible": true,
          "zorder": 2
         },
         {
          "alpha": 0.31,
          "attribute": "611cfa3b-ebb5-42d2-b5c7-ba9bce8b51a4",
          "bias": 0.66,
          "bitmap_visible": true,
          "c_max": 724.075927734375,
          "c_min": 0.0,
          "cmap": "gray",
          "color": "#61d3e1",
          "contour_colors": [
           "red",
           "orange",
           "yellow",
           "green",
           "blue"
          ],
          "contour_percentile": 100,
          "contour_visible": false,
          "contrast": 2.15,
          "global_sync": false,
          "labels": [
           "120.7",
           "241.4",
           "362",
           "482.7",
           "603.4"
          ],
          "layer": "611cfa3b-ebb5-42d2-b5c7-ba9bce8b51a4",
          "level_mode": "Linear",
          "levels": [
           120.6793212890625,
           241.358642578125,
           362.0379638671875,
           482.71728515625,
           603.3966064453125
          ],
          "n_levels": 5,
          "percentile": "Custom",
          "stretch": "linear",
          "v_max": 6.0,
          "v_min": 0.0,
          "visible": true,
          "zorder": 3
         },
         {
          "alpha": 0.23,
          "attribute": "611cfa3b-ebb5-42d2-b5c7-ba9bce8b51a4",
          "bias": 0.67,
          "bitmap_visible": true,
          "c_max": 306.1833190917969,
          "c_min": 0.0,
          "cmap": "gray",
          "color": "#afff6b",
          "contour_colors": [
           "red",
           "orange",
           "yellow",
           "green",
           "blue"
          ],
          "contour_percentile": 100,
          "contour_visible": false,
          "contrast": 3.13,
          "global_sync": false,
          "labels": [
           "51.03",
           "102.1",
           "153.1",
           "204.1",
           "255.2"
          ],
          "layer": "611cfa3b-ebb5-42d2-b5c7-ba9bce8b51a4",
          "level_mode": "Linear",
          "levels": [
           51.03055318196615,
           102.0611063639323,
           153.09165954589844,
           204.1222127278646,
           255.15276590983075
          ],
          "n_levels": 5,
          "percentile": "Custom",
          "stretch": "linear",
          "v_max": 27.0,
          "v_min": 4.0,
          "visible": true,
          "zorder": 4
         },
         {
          "alpha": 0.18,
          "attribute": "611cfa3b-ebb5-42d2-b5c7-ba9bce8b51a4",
          "bias": 0.56,
          "bitmap_visible": true,
          "c_max": 284.1947937011719,
          "c_min": 0.0,
          "cmap": "gray",
          "color": "#ff767c",
          "contour_colors": [
           "red",
           "orange",
           "yellow",
           "green",
           "blue"
          ],
          "contour_percentile": 100,
          "contour_visible": false,
          "contrast": 1.77,
          "global_sync": false,
          "labels": [
           "47.37",
           "94.73",
           "142.1",
           "189.5",
           "236.8"
          ],
          "layer": "611cfa3b-ebb5-42d2-b5c7-ba9bce8b51a4",
          "level_mode": "Linear",
          "levels": [
           47.36579895019531,
           94.73159790039062,
           142.09739685058594,
           189.46319580078125,
           236.82899475097656
          ],
          "n_levels": 5,
          "percentile": "Custom",
          "stretch": "linear",
          "v_max": 10.0,
          "v_min": 0.0,
          "visible": true,
          "zorder": 5
         },
         {
          "alpha": 0.4,
          "attribute": "611cfa3b-ebb5-42d2-b5c7-ba9bce8b51a4",
          "bias": 0.27,
          "bitmap_visible": true,
          "c_max": 228.35162353515625,
          "c_min": 0.0,
          "cmap": "gray",
          "color": "#f7787d",
          "contour_colors": [
           "red",
           "orange",
           "yellow",
           "green",
           "blue"
          ],
          "contour_percentile": 100,
          "contour_visible": false,
          "contrast": 2.53,
          "global_sync": false,
          "labels": [
           "38.06",
           "76.12",
           "114.2",
           "152.2",
           "190.3"
          ],
          "layer": "611cfa3b-ebb5-42d2-b5c7-ba9bce8b51a4",
          "level_mode": "Linear",
          "levels": [
           38.05860392252604,
           76.11720784505208,
           114.17581176757812,
           152.23441569010416,
           190.2930196126302
          ],
          "n_levels": 5,
          "percentile": "Custom",
          "stretch": "linear",
          "v_max": 11.0,
          "v_min": 1.0,
          "visible": true,
          "zorder": 6
         }
        ],
        "reference_data": "611cfa3b-ebb5-42d2-b5c7-ba9bce8b51a4",
        "show_axes": false,
        "slices": [
         0,
         0
        ],
        "title": null,
        "x_att": "611cfa3b-ebb5-42d2-b5c7-ba9bce8b51a4",
        "x_att_world": "611cfa3b-ebb5-42d2-b5c7-ba9bce8b51a4",
        "x_axislabel": "Lon",
        "x_axislabel_size": 10,
        "x_axislabel_weight": "normal",
        "x_log": false,
        "x_max": 14214.5,
        "x_min": -0.5,
        "x_ticklabel_size": 8,
        "y_att": "611cfa3b-ebb5-42d2-b5c7-ba9bce8b51a4",
        "y_att_world": "611cfa3b-ebb5-42d2-b5c7-ba9bce8b51a4",
        "y_axislabel": "Lat",
        "y_axislabel_size": 10,
        "y_axislabel_weight": "normal",
        "y_log": false,
        "y_max": 8420.5,
        "y_min": -0.5,
        "y_ticklabel_size": 8
       },
       "layout": "IPY_MODEL_e9528260b4de4e03848bd5dc2af08443",
       "methods": null,
       "reference_data_items": [
        {
         "text": "f090w[DATA]",
         "value": 0
        },
        {
         "text": "f187n[DATA]",
         "value": 1
        },
        {
         "text": "f200w[DATA]",
         "value": 2
        },
        {
         "text": "f335m[DATA]",
         "value": 3
        },
        {
         "text": "f444w[DATA]",
         "value": 4
        },
        {
         "text": "f470n[DATA]",
         "value": 5
        }
       ],
       "reference_data_selected": 0,
       "sliders": [],
       "tabbable": null,
       "template": "IPY_MODEL_d82a5901badf448ab6689ab2960f352e",
       "tooltip": null,
       "x_att_world_items": [
        {
         "text": "Lat",
         "value": 0
        },
        {
         "text": "Lon",
         "value": 1
        }
       ],
       "x_att_world_selected": 1,
       "y_att_world_items": [
        {
         "text": "Lat",
         "value": 0
        },
        {
         "text": "Lon",
         "value": 1
        }
       ],
       "y_att_world_selected": 0
      }
     },
     "792fcd19dae642dbb18a17d76d24b124": {
      "buffers": [
       {
        "data": "AAAAAAAA8D8=",
        "encoding": "base64",
        "path": [
         "opacities",
         "value"
        ]
       },
       {
        "data": "",
        "encoding": "base64",
        "path": [
         "x",
         "value"
        ]
       },
       {
        "data": "",
        "encoding": "base64",
        "path": [
         "y",
         "value"
        ]
       }
      ],
      "model_module": "bqplot",
      "model_module_version": "^0.5",
      "model_name": "ScatterModel",
      "state": {
       "_model_module": "bqplot",
       "_model_module_version": "^0.5",
       "_model_name": "ScatterModel",
       "_view_count": null,
       "_view_module": "bqplot",
       "_view_module_version": "^0.5",
       "_view_name": "Scatter",
       "apply_clip": true,
       "color": null,
       "colors": [
        "gray"
       ],
       "default_size": 1,
       "default_skew": 0.5,
       "display_legend": false,
       "display_names": true,
       "drag_color": null,
       "drag_size": 5.0,
       "enable_delete": false,
       "enable_hover": true,
       "enable_move": false,
       "fill": true,
       "hovered_point": null,
       "hovered_style": {},
       "interactions": {
        "hover": "tooltip"
       },
       "label_display_horizontal_offset": 0.0,
       "label_display_vertical_offset": 0.0,
       "labels": [],
       "marker": "circle",
       "names": null,
       "names_unique": true,
       "opacities": {
        "dtype": "float64",
        "shape": [
         1
        ],
        "type": null
       },
       "opacity": null,
       "preserve_domain": {},
       "restrict_x": false,
       "restrict_y": false,
       "rotation": null,
       "scales": {
        "x": "IPY_MODEL_e015c5b819634e5aac30aa66bd381f0b",
        "y": "IPY_MODEL_e084a42c01ed49b5b5f3757af7cc1164"
       },
       "scales_metadata": {
        "color": {
         "dimension": "color"
        },
        "opacity": {
         "dimension": "opacity"
        },
        "rotation": {
         "dimension": "rotation"
        },
        "size": {
         "dimension": "size"
        },
        "skew": {
         "dimension": "skew"
        },
        "x": {
         "dimension": "x",
         "orientation": "horizontal"
        },
        "y": {
         "dimension": "y",
         "orientation": "vertical"
        }
       },
       "selected": null,
       "selected_style": {},
       "size": null,
       "skew": null,
       "stroke": null,
       "stroke_width": 1.5,
       "tooltip": null,
       "tooltip_location": "mouse",
       "tooltip_style": {
        "opacity": 0.9
       },
       "unhovered_style": {},
       "unselected_style": {},
       "update_on_move": false,
       "visible": true,
       "x": {
        "dtype": "float64",
        "shape": [
         0
        ],
        "type": null
       },
       "y": {
        "dtype": "float64",
        "shape": [
         0
        ],
        "type": null
       }
      }
     },
     "795c37c9e57148479196bb0f05f4e3c4": {
      "model_module": "@jupyter-widgets/controls",
      "model_module_version": "2.0.0",
      "model_name": "GridBoxModel",
      "state": {
       "_dom_classes": [],
       "_model_module": "@jupyter-widgets/controls",
       "_model_module_version": "2.0.0",
       "_model_name": "GridBoxModel",
       "_view_count": null,
       "_view_module": "@jupyter-widgets/controls",
       "_view_module_version": "2.0.0",
       "_view_name": "GridBoxView",
       "box_style": "",
       "children": [
        "IPY_MODEL_b26c865aeefd47fc8f0bdd8213c5c39e",
        "IPY_MODEL_104046916beb4a4e8c13e01aaf8f1ed0"
       ],
       "layout": "IPY_MODEL_df86f655cbbc41d690dfaa2da47bc997",
       "tabbable": null,
       "tooltip": null
      }
     },
     "796828c680c8482591159b7abfb1f910": {
      "model_module": "@jupyter-widgets/base",
      "model_module_version": "2.0.0",
      "model_name": "LayoutModel",
      "state": {
       "_model_module": "@jupyter-widgets/base",
       "_model_module_version": "2.0.0",
       "_model_name": "LayoutModel",
       "_view_count": null,
       "_view_module": "@jupyter-widgets/base",
       "_view_module_version": "2.0.0",
       "_view_name": "LayoutView",
       "align_content": null,
       "align_items": null,
       "align_self": null,
       "border_bottom": null,
       "border_left": null,
       "border_right": null,
       "border_top": null,
       "bottom": null,
       "display": null,
       "flex": null,
       "flex_flow": null,
       "grid_area": null,
       "grid_auto_columns": null,
       "grid_auto_flow": null,
       "grid_auto_rows": null,
       "grid_column": null,
       "grid_gap": null,
       "grid_row": null,
       "grid_template_areas": null,
       "grid_template_columns": null,
       "grid_template_rows": null,
       "height": null,
       "justify_content": null,
       "justify_items": null,
       "left": null,
       "margin": null,
       "max_height": null,
       "max_width": null,
       "min_height": null,
       "min_width": null,
       "object_fit": null,
       "object_position": null,
       "order": null,
       "overflow": null,
       "padding": null,
       "right": null,
       "top": null,
       "visibility": null,
       "width": null
      }
     },
     "797e747165b14ac3b1b9044cfe34095c": {
      "model_module": "jupyter-vue",
      "model_module_version": "^1.10.1",
      "model_name": "VueComponentModel",
      "state": {
       "_dom_classes": [],
       "_model_module": "jupyter-vue",
       "_model_module_version": "^1.10.1",
       "_model_name": "VueComponentModel",
       "_view_count": null,
       "_view_module": null,
       "_view_module_version": "",
       "_view_name": null,
       "component": "<template>\n  <div class=\"v-messages\">\n    <div class=\"v-messages__wrapper\" style=\"margin-top: 2px; margin-bottom: 2px\">\n      <div class=\"v-messages__message text--secondary\" style=\"margin-bottom: 8px\">\n          <slot></slot>\n        <div v-if=\"link\">\n          <j-external-link :link=\"link\" :linktext=\"linktext\"/>\n        </div>\n      </div>\n    </div>\n    <div v-if=\"divider\" style=\"margin-bottom: 12px\">\n      <v-divider></v-divider>\n    </div>\n  </div>\n</template>\n\n<script>\nmodule.exports = {\n  props: {link: String, \n          linktext: String, \n          divider: Boolean\n        },\n};\n</script>\n",
       "layout": "IPY_MODEL_483da85c0f0945fe876c73affb944e4d",
       "name": "j-docs-link",
       "tabbable": null,
       "tooltip": null
      }
     },
     "79e8ec920e3545c8a6dbbce0d0a71fd9": {
      "model_module": "@jupyter-widgets/controls",
      "model_module_version": "2.0.0",
      "model_name": "DropdownModel",
      "state": {
       "_dom_classes": [],
       "_model_module": "@jupyter-widgets/controls",
       "_model_module_version": "2.0.0",
       "_model_name": "DropdownModel",
       "_options_labels": [
        ".",
        ""
       ],
       "_view_count": null,
       "_view_module": "@jupyter-widgets/controls",
       "_view_module_version": "2.0.0",
       "_view_name": "DropdownView",
       "description": "",
       "description_allow_html": false,
       "disabled": false,
       "index": 0,
       "layout": "IPY_MODEL_40f04dfd580043b3bf9f4f7419b03c4f",
       "style": "IPY_MODEL_ee8806075616475b9c63313191e8efce",
       "tabbable": null,
       "tooltip": null
      }
     },
     "7be640e236cb4773b0f12b27bf1890b9": {
      "model_module": "@jupyter-widgets/base",
      "model_module_version": "2.0.0",
      "model_name": "LayoutModel",
      "state": {
       "_model_module": "@jupyter-widgets/base",
       "_model_module_version": "2.0.0",
       "_model_name": "LayoutModel",
       "_view_count": null,
       "_view_module": "@jupyter-widgets/base",
       "_view_module_version": "2.0.0",
       "_view_name": "LayoutView",
       "align_content": null,
       "align_items": null,
       "align_self": null,
       "border_bottom": null,
       "border_left": null,
       "border_right": null,
       "border_top": null,
       "bottom": null,
       "display": null,
       "flex": null,
       "flex_flow": null,
       "grid_area": null,
       "grid_auto_columns": null,
       "grid_auto_flow": null,
       "grid_auto_rows": null,
       "grid_column": null,
       "grid_gap": null,
       "grid_row": null,
       "grid_template_areas": null,
       "grid_template_columns": null,
       "grid_template_rows": null,
       "height": null,
       "justify_content": null,
       "justify_items": null,
       "left": null,
       "margin": null,
       "max_height": null,
       "max_width": null,
       "min_height": null,
       "min_width": null,
       "object_fit": null,
       "object_position": null,
       "order": null,
       "overflow": null,
       "padding": null,
       "right": null,
       "top": null,
       "visibility": null,
       "width": null
      }
     },
     "7c182596075e41b890ef97bb8e14fe60": {
      "model_module": "@jupyter-widgets/base",
      "model_module_version": "2.0.0",
      "model_name": "LayoutModel",
      "state": {
       "_model_module": "@jupyter-widgets/base",
       "_model_module_version": "2.0.0",
       "_model_name": "LayoutModel",
       "_view_count": null,
       "_view_module": "@jupyter-widgets/base",
       "_view_module_version": "2.0.0",
       "_view_name": "LayoutView",
       "align_content": null,
       "align_items": null,
       "align_self": null,
       "border_bottom": null,
       "border_left": null,
       "border_right": null,
       "border_top": null,
       "bottom": null,
       "display": null,
       "flex": null,
       "flex_flow": null,
       "grid_area": null,
       "grid_auto_columns": null,
       "grid_auto_flow": null,
       "grid_auto_rows": null,
       "grid_column": null,
       "grid_gap": null,
       "grid_row": null,
       "grid_template_areas": null,
       "grid_template_columns": null,
       "grid_template_rows": null,
       "height": null,
       "justify_content": null,
       "justify_items": null,
       "left": null,
       "margin": null,
       "max_height": null,
       "max_width": null,
       "min_height": null,
       "min_width": null,
       "object_fit": null,
       "object_position": null,
       "order": null,
       "overflow": null,
       "padding": null,
       "right": null,
       "top": null,
       "visibility": null,
       "width": null
      }
     },
     "7c7c394bf96041c5b0741b64b5578fd5": {
      "model_module": "@jupyter-widgets/base",
      "model_module_version": "2.0.0",
      "model_name": "LayoutModel",
      "state": {
       "_model_module": "@jupyter-widgets/base",
       "_model_module_version": "2.0.0",
       "_model_name": "LayoutModel",
       "_view_count": null,
       "_view_module": "@jupyter-widgets/base",
       "_view_module_version": "2.0.0",
       "_view_name": "LayoutView",
       "align_content": null,
       "align_items": null,
       "align_self": null,
       "border_bottom": null,
       "border_left": null,
       "border_right": null,
       "border_top": null,
       "bottom": null,
       "display": null,
       "flex": null,
       "flex_flow": null,
       "grid_area": null,
       "grid_auto_columns": null,
       "grid_auto_flow": null,
       "grid_auto_rows": null,
       "grid_column": null,
       "grid_gap": null,
       "grid_row": null,
       "grid_template_areas": null,
       "grid_template_columns": null,
       "grid_template_rows": null,
       "height": null,
       "justify_content": null,
       "justify_items": null,
       "left": null,
       "margin": null,
       "max_height": null,
       "max_width": null,
       "min_height": null,
       "min_width": null,
       "object_fit": null,
       "object_position": null,
       "order": null,
       "overflow": null,
       "padding": null,
       "right": null,
       "top": null,
       "visibility": null,
       "width": null
      }
     },
     "7d6e2f451383411782b0276ac47015d3": {
      "model_module": "bqplot",
      "model_module_version": "^0.5",
      "model_name": "PanZoomModel",
      "state": {
       "_model_module": "bqplot",
       "_model_module_version": "^0.5",
       "_model_name": "PanZoomModel",
       "_view_count": null,
       "_view_module": "bqplot",
       "_view_module_version": "^0.5",
       "_view_name": "PanZoom",
       "allow_pan": true,
       "allow_zoom": true,
       "scales": {
        "x": [
         "IPY_MODEL_e9d182703c7f421db9185b0e14f021b4"
        ],
        "y": [
         "IPY_MODEL_2575788ee3b245bca63f200cd5d496ce"
        ]
       }
      }
     },
     "7e2132aa154b46388e30912f297b0977": {
      "model_module": "jupyter-vuetify",
      "model_module_version": "^1.8.10",
      "model_name": "VuetifyTemplateModel",
      "state": {
       "_component_instances": [],
       "_dom_classes": [],
       "_jupyter_vue": "IPY_MODEL_28c992a30e9e48598df49b24e8922228",
       "_model_module": "jupyter-vuetify",
       "_model_module_version": "^1.8.10",
       "_model_name": "VuetifyTemplateModel",
       "_view_count": null,
       "_view_module": "jupyter-vuetify",
       "_view_module_version": "^1.8.10",
       "_view_name": "VuetifyView",
       "components": null,
       "css": null,
       "data": null,
       "echo_available": true,
       "events": [],
       "is_displayed": false,
       "kernel_id": "",
       "layout": "IPY_MODEL_9b86c5dfc52c4630bb5585c7a924be5a",
       "methods": null,
       "open_tab_on_display": false,
       "open_window_on_display": false,
       "tabbable": null,
       "target_model_id": "618fe0fab42c4ff0bd9d0bee7cf3e69b",
       "template": "IPY_MODEL_d55e72844de240529f76b5d1b37d37bf",
       "tooltip": null,
       "window_features": "popup,width=800,height=300",
       "window_name": "618fe0fab42c4ff0bd9d0bee7cf3e69b"
      }
     },
     "7e4ed7d372f24a168a41101380ce126c": {
      "model_module": "jupyter-vuetify",
      "model_module_version": "^1.8.5",
      "model_name": "ListItemActionModel",
      "state": {
       "_dom_classes": [],
       "_events": [],
       "_jupyter_vue": "IPY_MODEL_28c992a30e9e48598df49b24e8922228",
       "_metadata": null,
       "_model_module": "jupyter-vuetify",
       "_model_module_version": "^1.8.5",
       "_model_name": "ListItemActionModel",
       "_view_count": null,
       "_view_module": "jupyter-vuetify",
       "_view_module_version": "^1.8.5",
       "_view_name": "VuetifyView",
       "attributes": {},
       "children": [
        "IPY_MODEL_dafe9658c8e746ec9c9e9a7267903d88"
       ],
       "class_": null,
       "layout": null,
       "slot": null,
       "style_": null,
       "tabbable": null,
       "tooltip": null,
       "v_model": "!!disabled!!",
       "v_on": null,
       "v_slots": []
      }
     },
     "7f800951184b48dabb10dbe416585c91": {
      "model_module": "jupyter-vuetify",
      "model_module_version": "^1.8.5",
      "model_name": "ListItemActionModel",
      "state": {
       "_dom_classes": [],
       "_events": [],
       "_jupyter_vue": "IPY_MODEL_28c992a30e9e48598df49b24e8922228",
       "_metadata": null,
       "_model_module": "jupyter-vuetify",
       "_model_module_version": "^1.8.5",
       "_model_name": "ListItemActionModel",
       "_view_count": null,
       "_view_module": "jupyter-vuetify",
       "_view_module_version": "^1.8.5",
       "_view_name": "VuetifyView",
       "attributes": {},
       "children": [
        "IPY_MODEL_36f42f0572f34fe781b775b775f44d0a"
       ],
       "class_": null,
       "layout": null,
       "slot": null,
       "style_": null,
       "tabbable": null,
       "tooltip": null,
       "v_model": "!!disabled!!",
       "v_on": null,
       "v_slots": []
      }
     },
     "8004002bdce94c3280e7a8fe61cc455c": {
      "model_module": "jupyter-vuetify",
      "model_module_version": "^1.8.5",
      "model_name": "ListItemTitleModel",
      "state": {
       "_dom_classes": [],
       "_events": [],
       "_jupyter_vue": "IPY_MODEL_28c992a30e9e48598df49b24e8922228",
       "_metadata": null,
       "_model_module": "jupyter-vuetify",
       "_model_module_version": "^1.8.5",
       "_model_name": "ListItemTitleModel",
       "_view_count": null,
       "_view_module": "jupyter-vuetify",
       "_view_module_version": "^1.8.5",
       "_view_name": "VuetifyView",
       "attributes": {},
       "children": [
        "remove"
       ],
       "class_": null,
       "layout": null,
       "slot": null,
       "style_": null,
       "tabbable": null,
       "tooltip": null,
       "v_model": "!!disabled!!",
       "v_on": null,
       "v_slots": []
      }
     },
     "80c204b6cf384e9d816b8a125eb8384a": {
      "model_module": "@jupyter-widgets/base",
      "model_module_version": "2.0.0",
      "model_name": "LayoutModel",
      "state": {
       "_model_module": "@jupyter-widgets/base",
       "_model_module_version": "2.0.0",
       "_model_name": "LayoutModel",
       "_view_count": null,
       "_view_module": "@jupyter-widgets/base",
       "_view_module_version": "2.0.0",
       "_view_name": "LayoutView",
       "align_content": null,
       "align_items": null,
       "align_self": null,
       "border_bottom": null,
       "border_left": null,
       "border_right": null,
       "border_top": null,
       "bottom": null,
       "display": null,
       "flex": null,
       "flex_flow": null,
       "grid_area": null,
       "grid_auto_columns": null,
       "grid_auto_flow": null,
       "grid_auto_rows": null,
       "grid_column": null,
       "grid_gap": null,
       "grid_row": null,
       "grid_template_areas": null,
       "grid_template_columns": null,
       "grid_template_rows": null,
       "height": null,
       "justify_content": null,
       "justify_items": null,
       "left": null,
       "margin": null,
       "max_height": null,
       "max_width": null,
       "min_height": null,
       "min_width": null,
       "object_fit": null,
       "object_position": null,
       "order": null,
       "overflow": null,
       "padding": null,
       "right": null,
       "top": null,
       "visibility": null,
       "width": null
      }
     },
     "80f1a3798cdb427187e69750a5c0a7d2": {
      "model_module": "jupyter-vuetify",
      "model_module_version": "^1.8.5",
      "model_name": "ListItemModel",
      "state": {
       "_dom_classes": [],
       "_events": [
        "click"
       ],
       "_jupyter_vue": "IPY_MODEL_28c992a30e9e48598df49b24e8922228",
       "_metadata": null,
       "_model_module": "jupyter-vuetify",
       "_model_module_version": "^1.8.5",
       "_model_name": "ListItemModel",
       "_view_count": null,
       "_view_module": "jupyter-vuetify",
       "_view_module_version": "^1.8.5",
       "_view_name": "VuetifyView",
       "active_class": null,
       "append": null,
       "attributes": {},
       "children": [
        "IPY_MODEL_e3fd246cab5741c7882b3d3dc336328a",
        "IPY_MODEL_5f5e86fbfe0147f98f8e383fcf029485"
       ],
       "class_": null,
       "color": null,
       "dark": null,
       "dense": null,
       "disabled": null,
       "exact": null,
       "exact_active_class": null,
       "href": null,
       "inactive": null,
       "input_value": null,
       "layout": null,
       "light": null,
       "link": null,
       "nuxt": null,
       "replace": null,
       "ripple": null,
       "selectable": null,
       "slot": null,
       "style_": null,
       "tabbable": null,
       "tag": null,
       "target": null,
       "three_line": null,
       "to": null,
       "tooltip": null,
       "two_line": null,
       "v_model": "!!disabled!!",
       "v_on": null,
       "v_slots": [],
       "value": null
      }
     },
     "814829a7021b4c38871c681d59ce6d13": {
      "model_module": "jupyter-vue",
      "model_module_version": "^1.10.1",
      "model_name": "VueComponentModel",
      "state": {
       "_dom_classes": [],
       "_model_module": "jupyter-vue",
       "_model_module_version": "^1.10.1",
       "_model_name": "VueComponentModel",
       "_view_count": null,
       "_view_module": null,
       "_view_module_version": "",
       "_view_name": null,
       "component": "<template>\n  <div class=\"plugin-table-component\">\n    <v-row style=\"margin: 0px 0px -8px 0px !important\">\n      <div class=\"row-select\">\n        <v-select\n          class=\"no-hint\"\n          v-model=\"headers_visible\"\n          :items=\"headers_avail\"\n          @change=\"$emit('update:headers_visible', $event)\"\n          label=\"Columns\"\n          multiple\n        >\n        <template v-slot:selection=\"{ item, index }\">\n          <span\n            v-if=\"index === 0\"\n            class=\"grey--text text-caption\"\n          >\n            ({{ headers_visible.length}} selected)\n          </span>\n        </template>\n        <template v-slot:prepend-item>\n          <v-list-item\n            ripple\n            @mousedown.prevent\n            @click=\"() => {if (headers_visible.length < headers_avail.length) { headers_visible = headers_avail} else {headers_visible = []}}\"\n          >\n            <v-list-item-action>\n              <v-icon>\n                {{ headers_visible.length == headers_avail.length ? 'mdi-close-box' : headers_visible.length ? 'mdi-minus-box' : 'mdi-checkbox-blank-outline' }}\n              </v-icon>\n            </v-list-item-action>\n            <v-list-item-content>\n              <v-list-item-title>\n                {{ headers_visible.length < headers_avail.length ? \"Select All\" : \"Clear All\" }}\n              </v-list-item-title>\n            </v-list-item-content>\n          </v-list-item>\n          <v-divider class=\"mt-2\"></v-divider>\n        </template>\n        </v-select>\n      </div>\n      <div style=\"line-height: 64px; width=32px\" class=\"only-show-in-tray\">\n        <j-plugin-popout :popout_button=\"popout_button\"></j-plugin-popout>\n      </div>\n    </v-row>\n\n    <v-row style=\"margin: 0px 0px 8px 0px !important\">\n      <v-data-table\n        dense\n        :headers=\"headers_visible_sorted.map(item => {return {'text': item, 'value': item}})\"\n        :items=\"items\"\n        class=\"elevation-1 width-100\"\n      ></v-data-table>\n    </v-row>\n\n    <v-row v-if=\"clear_table\" justify=\"end\">\n      <v-btn\n        color=\"primary\"\n        text\n        @click=\"clear_table\"\n        >Clear Table\n      </v-btn>\n    </v-row>\n  </div>\n</template>\n\n<script>\nmodule.exports = {\n  computed: {\n    headers_visible_sorted() {\n      return this.headers_avail.filter(item => this.headers_visible.indexOf(item) !== -1);\n    },\n  }\n};\n</script>\n\n\n<style scoped>\n  .v-data-table {\n    width: 100% !important\n  }\n\n  .only-show-in-tray {\n    display: none;\n  }\n  .tray-plugin .only-show-in-tray {\n    display: inline-block;\n  }\n\n  .row-select {\n    width: 100%;\n  }\n  .tray-plugin .row-select {\n    width: calc(100% - 40px)\n  }\n\n  .plugin-table-component {\n    margin: 12px;\n  }\n  .tray-plugin .plugin-table-component {\n    margin: 0px -12px 0px -12px;\n  }\n\n</style>\n",
       "layout": "IPY_MODEL_eee2f7de34534e4dbb694c7138b48418",
       "name": "plugin-table",
       "tabbable": null,
       "tooltip": null
      }
     },
     "81808224f1d54421af67e665edd44d33": {
      "buffers": [
       {
        "data": "",
        "encoding": "base64",
        "path": [
         "x",
         "value"
        ]
       },
       {
        "data": "",
        "encoding": "base64",
        "path": [
         "y",
         "value"
        ]
       }
      ],
      "model_module": "bqplot",
      "model_module_version": "^0.5",
      "model_name": "LinesModel",
      "state": {
       "_model_module": "bqplot",
       "_model_module_version": "^0.5",
       "_model_name": "LinesModel",
       "_view_count": null,
       "_view_module": "bqplot",
       "_view_module_version": "^0.5",
       "_view_name": "Lines",
       "apply_clip": true,
       "close_path": false,
       "color": null,
       "colors": [
        "gray"
       ],
       "curves_subset": [],
       "display_legend": false,
       "enable_hover": true,
       "fill": "none",
       "fill_colors": [],
       "fill_opacities": [],
       "interactions": {
        "hover": "tooltip"
       },
       "interpolation": "linear",
       "labels": [],
       "labels_visibility": "none",
       "line_style": "solid",
       "marker": null,
       "marker_size": 32,
       "opacities": [],
       "preserve_domain": {},
       "scales": {
        "x": "IPY_MODEL_e015c5b819634e5aac30aa66bd381f0b",
        "y": "IPY_MODEL_e084a42c01ed49b5b5f3757af7cc1164"
       },
       "scales_metadata": {
        "color": {
         "dimension": "color"
        },
        "x": {
         "dimension": "x",
         "orientation": "horizontal"
        },
        "y": {
         "dimension": "y",
         "orientation": "vertical"
        }
       },
       "selected": null,
       "selected_style": {},
       "stroke_width": 2.0,
       "tooltip": null,
       "tooltip_location": "mouse",
       "tooltip_style": {
        "opacity": 0.9
       },
       "unselected_style": {},
       "visible": true,
       "x": {
        "dtype": "float64",
        "shape": [
         0
        ],
        "type": null
       },
       "y": {
        "dtype": "float64",
        "shape": [
         0
        ],
        "type": null
       }
      }
     },
     "8233e4277b1d4b1891b952706f8b5481": {
      "model_module": "@jupyter-widgets/base",
      "model_module_version": "2.0.0",
      "model_name": "LayoutModel",
      "state": {
       "_model_module": "@jupyter-widgets/base",
       "_model_module_version": "2.0.0",
       "_model_name": "LayoutModel",
       "_view_count": null,
       "_view_module": "@jupyter-widgets/base",
       "_view_module_version": "2.0.0",
       "_view_name": "LayoutView",
       "align_content": null,
       "align_items": null,
       "align_self": null,
       "border_bottom": null,
       "border_left": null,
       "border_right": null,
       "border_top": null,
       "bottom": null,
       "display": null,
       "flex": null,
       "flex_flow": null,
       "grid_area": null,
       "grid_auto_columns": null,
       "grid_auto_flow": null,
       "grid_auto_rows": null,
       "grid_column": null,
       "grid_gap": null,
       "grid_row": null,
       "grid_template_areas": null,
       "grid_template_columns": null,
       "grid_template_rows": null,
       "height": null,
       "justify_content": null,
       "justify_items": null,
       "left": null,
       "margin": null,
       "max_height": null,
       "max_width": null,
       "min_height": null,
       "min_width": null,
       "object_fit": null,
       "object_position": null,
       "order": null,
       "overflow": null,
       "padding": null,
       "right": null,
       "top": null,
       "visibility": null,
       "width": null
      }
     },
     "82f0c94941a44f55abe61c995034c0a7": {
      "model_module": "jupyter-vue",
      "model_module_version": "^1.10.1",
      "model_name": "TemplateModel",
      "state": {
       "_model_module": "jupyter-vue",
       "_model_module_version": "^1.10.1",
       "_model_name": "TemplateModel",
       "_view_count": null,
       "_view_module": null,
       "_view_module_version": "",
       "_view_name": null,
       "template": "<template>\n  <div>\n    <div v-if=\"icon\" style=\"position: absolute; top: 50%; transform: translateY(-50%); -ms-transform: translateY(-50%);\">\n      <span>\n        <j-layer-viewer-icon :icon=\"icon\" color=\"white\" :prevent_invert_if_dark=\"true\"></j-layer-viewer-icon>\n      </span>\n      <div style=\"display: inline-block; white-space: nowrap; line-height: 14pt; margin: 0; position: absolute; margin-left: 22px; top: 50%; transform: translateY(-50%); -ms-transform: translateY(-50%);\">\n        <table>\n          <tr>\n            <td colspan=\"4\" :style=\"row1_unreliable ? 'color: #B8B8B8' : ''\">\n              <b>{{ row1a_title }} </b>{{ row1a_text }}&nbsp;&nbsp;\n              <b>{{ row1b_title }} </b>{{ row1b_text }}\n            </td>\n          </tr>\n          <tr :style=\"row2_unreliable ? 'color: #B8B8B8' : ''\">\n            <td width=\"42\"><b>{{ row2_title }}</b></td>\n            <td>{{ row2_text }}</td>\n          </tr>\n          <tr :style=\"row3_unreliable ? 'color: #B8B8B8' : ''\">\n            <td width=\"42\"><b>{{ row3_title }}</b></td>\n            <td>{{ row3_text }}</td>\n          </tr>\n        </table>\n      </div>\n    </div>\n    <div v-else style=\"height: 100%\">\n      <v-toolbar-items>\n        <j-tooltip tipid='coords-info-cycle'>\n          <v-btn icon tile @click=\"next_layer()\">\n            <j-layer-viewer-icon :icon=\"dataset_icon\" color=\"white\" :prevent_invert_if_dark=\"true\"></j-layer-viewer-icon>\n          </v-btn>\n        </j-tooltip>\n        <span style=\"padding-top: 22px\">\n          {{dataset_selected}}\n        </span>\n      </v-toolbar-items>\n\n    </div>\n</div>\n</template>\n"
      }
     },
     "82f5822fefa84e66b1ce53dacb46769e": {
      "model_module": "bqplot",
      "model_module_version": "^0.5",
      "model_name": "LinearScaleModel",
      "state": {
       "_model_module": "bqplot",
       "_model_module_version": "^0.5",
       "_model_name": "LinearScaleModel",
       "_view_count": null,
       "_view_module": "bqplot",
       "_view_module_version": "^0.5",
       "_view_name": "LinearScale",
       "allow_padding": true,
       "max": null,
       "mid_range": 0.8,
       "min": null,
       "min_range": 0.6,
       "reverse": false,
       "stabilized": false
      }
     },
     "8436708df0604a59be7e49f513ca9dc7": {
      "model_module": "jupyter-vue",
      "model_module_version": "^1.10.1",
      "model_name": "VueComponentModel",
      "state": {
       "_dom_classes": [],
       "_model_module": "jupyter-vue",
       "_model_module_version": "^1.10.1",
       "_model_name": "VueComponentModel",
       "_view_count": null,
       "_view_module": null,
       "_view_module_version": "",
       "_view_name": null,
       "component": "<template>\n  <div>\n  <v-row v-if=\"items.length > 1 || selected.length===0 || show_if_single_entry\">\n    <v-select\n      :menu-props=\"{ left: true }\"\n      attach\n      :items=\"items\"\n      v-model=\"selected\"\n      @change=\"$emit('update:selected', $event)\"\n      :label=\"label ? label : 'Viewer'\"\n      :hint=\"hint ? hint : 'Select viewer.'\"\n      :rules=\"rules ? rules : []\"\n      :multiple=\"multiselect\"\n      :chips=\"multiselect\"\n      item-text=\"label\"\n      item-value=\"label\"\n      persistent-hint\n    >\n    <template slot=\"selection\" slot-scope=\"data\">\n      <div class=\"single-line\" style=\"width: 100%\">\n        <v-chip v-if=\"multiselect\" style=\"width: calc(100% - 20px)\">\n          <span>\n            <j-layer-viewer-icon :icon=\"data.item.icon\" :prevent_invert_if_dark=\"true\"></j-layer-viewer-icon>\n            {{ data.item.label }}\n          </span>\n        </v-chip>\n        <span v-else>\n          <j-layer-viewer-icon span_style=\"margin-right: 4px\" :icon=\"data.item.icon\" :prevent_invert_if_dark=\"true\"></j-layer-viewer-icon>\n          {{ data.item.label }}\n        </span>\n      </div>\n    </template>\n    <template v-slot:prepend-item v-if=\"multiselect\">\n      <v-list-item\n        ripple\n        @mousedown.prevent\n        @click=\"() => {if (selected.length < items.length) { $emit('update:selected', items.map((item) => item.label))} else {$emit('update:selected', [])}}\"\n      >\n        <v-list-item-action>\n          <v-icon>\n            {{ selected.length == items.length ? 'mdi-close-box' : selected.length ? 'mdi-minus-box' : 'mdi-checkbox-blank-outline' }}\n          </v-icon>\n        </v-list-item-action>\n        <v-list-item-content>\n          <v-list-item-title>\n            {{ selected.length < items.length ? \"Select All\" : \"Clear All\" }}\n          </v-list-item-title>\n        </v-list-item-content>\n      </v-list-item>\n      <v-divider class=\"mt-2\"></v-divider>\n    </template>\n    <template slot=\"item\" slot-scope=\"data\">\n      <div class=\"single-line\">\n        <span>\n          <j-layer-viewer-icon span_style='margin-right: 4px' :icon=\"data.item.icon\" :prevent_invert_if_dark=\"true\"></j-layer-viewer-icon>\n          {{ data.item.label }}\n        </span>\n      </div>\n    </template>\n   </v-select>\n  </v-row>\n </div>\n</template>\n\n<script>\nmodule.exports = {\n  props: ['items', 'selected', 'label', 'hint', 'rules', 'show_if_single_entry', 'multiselect']\n};\n</script>\n\n<style scoped>\n  .v-select__selections {\n    flex-wrap: nowrap !important;\n    display: block !important;\n    margin-bottom: -32px;\n  }\n  .single-line {\n      white-space: nowrap;\n      overflow: hidden;\n      text-overflow: ellipsis;\n  }\n</style>\n",
       "layout": "IPY_MODEL_8e7e070405ac42d79fcd2d3e8f245e4b",
       "name": "plugin-viewer-select",
       "tabbable": null,
       "tooltip": null
      }
     },
     "85ae7b4b8e364513ab43f5424068d61d": {
      "model_module": "jupyter-vue",
      "model_module_version": "^1.10.1",
      "model_name": "TemplateModel",
      "state": {
       "_model_module": "jupyter-vue",
       "_model_module_version": "^1.10.1",
       "_model_name": "TemplateModel",
       "_view_count": null,
       "_view_module": null,
       "_view_module_version": "",
       "_view_name": null,
       "template": "<template>\n  <j-tray-plugin\n    description='Create and export markers.  Press \"m\" with the cursor over a viewer to log the mouseover information.  To change the selected layer, click the layer cycler in the mouseover information section of the app-level toolbar.'\n    :link=\"docs_link || 'https://jdaviz.readthedocs.io/en/'+vdocs+'/'+config+'/plugins.html#markers'\"\n    :uses_active_status=\"uses_active_status\"\n    @plugin-ping=\"plugin_ping($event)\"\n    :keep_active.sync=\"keep_active\"\n    :popout_button=\"popout_button\">\n\n    <jupyter-widget :widget=\"table_widget\"></jupyter-widget> \n\n  </j-tray-plugin>\n</template>\n"
      }
     },
     "86a4de0bc75d40beba999568e72b5704": {
      "model_module": "@jupyter-widgets/base",
      "model_module_version": "2.0.0",
      "model_name": "LayoutModel",
      "state": {
       "_model_module": "@jupyter-widgets/base",
       "_model_module_version": "2.0.0",
       "_model_name": "LayoutModel",
       "_view_count": null,
       "_view_module": "@jupyter-widgets/base",
       "_view_module_version": "2.0.0",
       "_view_name": "LayoutView",
       "align_content": null,
       "align_items": null,
       "align_self": null,
       "border_bottom": null,
       "border_left": null,
       "border_right": null,
       "border_top": null,
       "bottom": null,
       "display": null,
       "flex": null,
       "flex_flow": null,
       "grid_area": "dircontent",
       "grid_auto_columns": null,
       "grid_auto_flow": null,
       "grid_auto_rows": null,
       "grid_column": null,
       "grid_gap": null,
       "grid_row": null,
       "grid_template_areas": null,
       "grid_template_columns": null,
       "grid_template_rows": null,
       "height": null,
       "justify_content": null,
       "justify_items": null,
       "left": null,
       "margin": null,
       "max_height": null,
       "max_width": null,
       "min_height": null,
       "min_width": null,
       "object_fit": null,
       "object_position": null,
       "order": null,
       "overflow": null,
       "padding": null,
       "right": null,
       "top": null,
       "visibility": null,
       "width": "auto"
      }
     },
     "86fbcfdaa7e74e4cb2d01572570c2ae1": {
      "model_module": "jupyter-vuetify",
      "model_module_version": "^1.8.10",
      "model_name": "VuetifyTemplateModel",
      "state": {
       "_component_instances": [],
       "_dom_classes": [],
       "_jupyter_vue": "IPY_MODEL_28c992a30e9e48598df49b24e8922228",
       "_model_module": "jupyter-vuetify",
       "_model_module_version": "^1.8.10",
       "_model_name": "VuetifyTemplateModel",
       "_view_count": null,
       "_view_module": "jupyter-vuetify",
       "_view_module_version": "^1.8.10",
       "_view_name": "VuetifyView",
       "components": null,
       "css": null,
       "data": null,
       "echo_available": true,
       "events": [],
       "is_displayed": false,
       "kernel_id": "",
       "layout": "IPY_MODEL_ffefe336943f4102be7c1a044aab9563",
       "methods": null,
       "open_tab_on_display": false,
       "open_window_on_display": false,
       "tabbable": null,
       "target_model_id": "6f0e83f23cbe4062bde5546957efc51a",
       "template": "IPY_MODEL_d55e72844de240529f76b5d1b37d37bf",
       "tooltip": null,
       "window_features": "popup,width=400,height=600",
       "window_name": "6f0e83f23cbe4062bde5546957efc51a"
      }
     },
     "8739f690bd24486cb290c85e0b1958fa": {
      "model_module": "jupyter-vuetify",
      "model_module_version": "^1.8.5",
      "model_name": "MenuModel",
      "state": {
       "_dom_classes": [],
       "_events": [],
       "_jupyter_vue": "IPY_MODEL_28c992a30e9e48598df49b24e8922228",
       "_metadata": null,
       "_model_module": "jupyter-vuetify",
       "_model_module_version": "^1.8.5",
       "_model_name": "MenuModel",
       "_view_count": null,
       "_view_module": "jupyter-vuetify",
       "_view_module_version": "^1.8.5",
       "_view_name": "VuetifyView",
       "absolute": null,
       "activator": null,
       "allow_overflow": null,
       "attach": null,
       "attributes": {},
       "auto": null,
       "bottom": null,
       "children": [
        "IPY_MODEL_a9eef78428d14094be14f57fc919cc03"
       ],
       "class_": null,
       "close_delay": null,
       "close_on_click": null,
       "close_on_content_click": null,
       "content_class": null,
       "dark": null,
       "disable_keys": null,
       "disabled": null,
       "eager": null,
       "fixed": null,
       "internal_activator": null,
       "layout": null,
       "left": null,
       "light": null,
       "max_height": null,
       "max_width": null,
       "min_width": null,
       "nudge_bottom": null,
       "nudge_left": null,
       "nudge_right": null,
       "nudge_top": null,
       "nudge_width": null,
       "offset_overflow": null,
       "offset_x": null,
       "offset_y": null,
       "open_delay": null,
       "open_on_click": null,
       "open_on_hover": null,
       "origin": null,
       "position_x": null,
       "position_y": null,
       "return_value": null,
       "right": null,
       "slot": null,
       "style_": null,
       "tabbable": null,
       "tooltip": null,
       "top": null,
       "transition": null,
       "v_model": "!!disabled!!",
       "v_on": null,
       "v_slots": [
        {
         "children": "IPY_MODEL_d83d38fd2824448299d9767878b0a15e",
         "name": "activator",
         "variable": "menu"
        }
       ],
       "value": null,
       "z_index": null
      }
     },
     "8834a4a2c18544688b80baae1d355d5a": {
      "model_module": "bqplot",
      "model_module_version": "^0.5",
      "model_name": "AxisModel",
      "state": {
       "_model_module": "bqplot",
       "_model_module_version": "^0.5",
       "_model_name": "AxisModel",
       "_view_count": null,
       "_view_module": "bqplot",
       "_view_module_version": "^0.5",
       "_view_name": "Axis",
       "color": null,
       "grid_color": null,
       "grid_lines": "none",
       "label": "y: pixels",
       "label_color": null,
       "label_location": "middle",
       "label_offset": "-50",
       "num_ticks": null,
       "offset": {},
       "orientation": "vertical",
       "scale": "IPY_MODEL_2575788ee3b245bca63f200cd5d496ce",
       "side": null,
       "tick_format": null,
       "tick_labels": {},
       "tick_rotate": 0,
       "tick_style": {},
       "tick_values": null,
       "visible": false
      }
     },
     "88d6ad2c19c44930b7487fd314ba05ec": {
      "model_module": "bqplot",
      "model_module_version": "^0.5",
      "model_name": "LinearScaleModel",
      "state": {
       "_model_module": "bqplot",
       "_model_module_version": "^0.5",
       "_model_name": "LinearScaleModel",
       "_view_count": null,
       "_view_module": "bqplot",
       "_view_module_version": "^0.5",
       "_view_name": "LinearScale",
       "allow_padding": true,
       "max": null,
       "mid_range": 0.8,
       "min": null,
       "min_range": 0.6,
       "reverse": false,
       "stabilized": false
      }
     },
     "88dbbf5267574531b5bc20127be31112": {
      "model_module": "@jupyter-widgets/base",
      "model_module_version": "2.0.0",
      "model_name": "LayoutModel",
      "state": {
       "_model_module": "@jupyter-widgets/base",
       "_model_module_version": "2.0.0",
       "_model_name": "LayoutModel",
       "_view_count": null,
       "_view_module": "@jupyter-widgets/base",
       "_view_module_version": "2.0.0",
       "_view_name": "LayoutView",
       "align_content": null,
       "align_items": null,
       "align_self": null,
       "border_bottom": null,
       "border_left": null,
       "border_right": null,
       "border_top": null,
       "bottom": null,
       "display": null,
       "flex": null,
       "flex_flow": null,
       "grid_area": null,
       "grid_auto_columns": null,
       "grid_auto_flow": null,
       "grid_auto_rows": null,
       "grid_column": null,
       "grid_gap": null,
       "grid_row": null,
       "grid_template_areas": null,
       "grid_template_columns": null,
       "grid_template_rows": null,
       "height": null,
       "justify_content": null,
       "justify_items": null,
       "left": null,
       "margin": null,
       "max_height": null,
       "max_width": null,
       "min_height": null,
       "min_width": null,
       "object_fit": null,
       "object_position": null,
       "order": null,
       "overflow": null,
       "padding": null,
       "right": null,
       "top": null,
       "visibility": null,
       "width": null
      }
     },
     "8919372f1ac5405abd92387fa7d6c9b4": {
      "model_module": "@jupyter-widgets/base",
      "model_module_version": "2.0.0",
      "model_name": "LayoutModel",
      "state": {
       "_model_module": "@jupyter-widgets/base",
       "_model_module_version": "2.0.0",
       "_model_name": "LayoutModel",
       "_view_count": null,
       "_view_module": "@jupyter-widgets/base",
       "_view_module_version": "2.0.0",
       "_view_name": "LayoutView",
       "align_content": null,
       "align_items": null,
       "align_self": null,
       "border_bottom": null,
       "border_left": null,
       "border_right": null,
       "border_top": null,
       "bottom": null,
       "display": null,
       "flex": null,
       "flex_flow": null,
       "grid_area": null,
       "grid_auto_columns": null,
       "grid_auto_flow": null,
       "grid_auto_rows": null,
       "grid_column": null,
       "grid_gap": null,
       "grid_row": null,
       "grid_template_areas": null,
       "grid_template_columns": null,
       "grid_template_rows": null,
       "height": null,
       "justify_content": null,
       "justify_items": null,
       "left": null,
       "margin": null,
       "max_height": null,
       "max_width": null,
       "min_height": null,
       "min_width": null,
       "object_fit": null,
       "object_position": null,
       "order": null,
       "overflow": null,
       "padding": null,
       "right": null,
       "top": null,
       "visibility": null,
       "width": null
      }
     },
     "892cdcf2ceca468481785fa3d74e3f69": {
      "model_module": "@jupyter-widgets/base",
      "model_module_version": "2.0.0",
      "model_name": "LayoutModel",
      "state": {
       "_model_module": "@jupyter-widgets/base",
       "_model_module_version": "2.0.0",
       "_model_name": "LayoutModel",
       "_view_count": null,
       "_view_module": "@jupyter-widgets/base",
       "_view_module_version": "2.0.0",
       "_view_name": "LayoutView",
       "align_content": null,
       "align_items": null,
       "align_self": null,
       "border_bottom": null,
       "border_left": null,
       "border_right": null,
       "border_top": null,
       "bottom": null,
       "display": null,
       "flex": null,
       "flex_flow": null,
       "grid_area": null,
       "grid_auto_columns": null,
       "grid_auto_flow": null,
       "grid_auto_rows": null,
       "grid_column": null,
       "grid_gap": null,
       "grid_row": null,
       "grid_template_areas": null,
       "grid_template_columns": null,
       "grid_template_rows": null,
       "height": null,
       "justify_content": null,
       "justify_items": null,
       "left": null,
       "margin": null,
       "max_height": null,
       "max_width": null,
       "min_height": null,
       "min_width": null,
       "object_fit": null,
       "object_position": null,
       "order": null,
       "overflow": null,
       "padding": null,
       "right": null,
       "top": null,
       "visibility": null,
       "width": null
      }
     },
     "89aac07879324ce7a93dc67a0eb88957": {
      "model_module": "@jupyter-widgets/base",
      "model_module_version": "2.0.0",
      "model_name": "LayoutModel",
      "state": {
       "_model_module": "@jupyter-widgets/base",
       "_model_module_version": "2.0.0",
       "_model_name": "LayoutModel",
       "_view_count": null,
       "_view_module": "@jupyter-widgets/base",
       "_view_module_version": "2.0.0",
       "_view_name": "LayoutView",
       "align_content": null,
       "align_items": null,
       "align_self": null,
       "border_bottom": null,
       "border_left": null,
       "border_right": null,
       "border_top": null,
       "bottom": null,
       "display": null,
       "flex": null,
       "flex_flow": null,
       "grid_area": null,
       "grid_auto_columns": null,
       "grid_auto_flow": null,
       "grid_auto_rows": null,
       "grid_column": null,
       "grid_gap": null,
       "grid_row": null,
       "grid_template_areas": null,
       "grid_template_columns": null,
       "grid_template_rows": null,
       "height": null,
       "justify_content": null,
       "justify_items": null,
       "left": null,
       "margin": null,
       "max_height": null,
       "max_width": null,
       "min_height": null,
       "min_width": null,
       "object_fit": null,
       "object_position": null,
       "order": null,
       "overflow": null,
       "padding": null,
       "right": null,
       "top": null,
       "visibility": null,
       "width": null
      }
     },
     "8a758789d328440da57973e6e8c253e6": {
      "model_module": "jupyter-vue",
      "model_module_version": "^1.10.1",
      "model_name": "TemplateModel",
      "state": {
       "_model_module": "jupyter-vue",
       "_model_module_version": "^1.10.1",
       "_model_name": "TemplateModel",
       "_view_count": null,
       "_view_module": null,
       "_view_module_version": "",
       "_view_name": null,
       "template": "<template>\n  <v-app id=\"web-app\" :style=\"checkNotebookContext() ? 'display: inline' : 'display: flex'\" :class=\"'jdaviz ' + config\" ref=\"mainapp\">\n    <jupyter-widget\n      v-if=\"state.style_widget\"\n      :widget=\"state.style_widget\"\n      style=\"display: none\"\n    ></jupyter-widget>\n    <v-overlay v-if=\"state.logger_overlay\"\n      absolute\n      opacity=\"0.7\">\n      <div :style=\"!state.settings.dense_toolbar ? 'position: absolute; top: 14px; right: 55px' : 'position: absolute; top: 6px; right: 55px'\">\n        <j-tooltip tipid=\"app-snackbar-history\">\n          <v-btn icon @click=\"state.logger_overlay = !state.logger_overlay\" :class=\"{active : state.logger_overlay}\">\n            <v-icon medium style=\"padding-top: 2px\">mdi-message-reply</v-icon>\n          </v-btn>\n        </j-tooltip>\n      </div>\n      <div :style=\"{'position': 'absolute',\n                    'top': !state.settings.dense_toolbar ? '64px' : '48px',\n                    'left': '0px',\n                    'width': '100%',\n                    'height': !state.settings.dense_toolbar ? 'calc(100% - 64px)' : 'calc(100% - 48px)',\n                    'overflow-y': 'scroll',\n                    'border-top': '6px solid #C75109',\n                    'padding-left': '15%',\n                    'padding-top': '20px'}\"\n            @click=\"state.logger_overlay = false\">\n        <v-row\n            dense\n            @click=\"(e) => {e.stopImmediatePropagation()}\"\n            v-for=\"history in state.snackbar_history.slice().reverse()\"\n            style=\"width: 80%\">\n          <v-alert\n            dense\n            :type=\"history.color\"\n            style=\"width: 100%; margin: 6px 0px 0px; text-align: left\">\n              [{{history.time}}]: {{history.text}}\n          </v-alert>\n        </v-row>\n      </div>\n    </v-overlay>\n    <v-app-bar color=\"toolbar\" dark :dense=\"state.settings.dense_toolbar\" flat app absolute clipped-right style=\"margin-left: 1px; margin-right: 1px\">\n      <v-toolbar-items v-for=\"item in state.tool_items\">\n        <v-divider v-if=\"['g-data-tools', 'g-subset-tools'].indexOf(item.name) === -1\" vertical style=\"margin: 0px 10px\"></v-divider>\n        <v-divider v-else-if=\"item.name === 'g-subset-tools'\" vertical style=\"margin: 0px 10px; border-width: 0\"></v-divider>\n        <j-tooltip v-if=\"['cubeviz', 'mosviz'].indexOf(config) !== -1 && item.name == 'g-data-tools' && state.data_items.length !== 0\"></j-tooltip>\n        <j-tooltip v-else :tipid=\"item.name\">\n          <jupyter-widget :widget=\"item.widget\" :key=\"item.name\"></jupyter-widget>\n        </j-tooltip>\n      </v-toolbar-items>\n      <v-spacer></v-spacer>\n      <v-toolbar-items>\n        <j-tooltip tipid=\"app-toolbar-popout\">\n          <jupyter-widget :widget=\"popout_button\" ></jupyter-widget>\n        </j-tooltip>\n        <j-tooltip tipid=\"app-help\">\n          <v-btn icon :href=\"docs_link\" target=\"_blank\">\n            <v-icon medium>mdi-help-box</v-icon>\n          </v-btn>\n        </j-tooltip>\n        <j-tooltip tipid=\"app-snackbar-history\">\n          <v-btn icon @click=\"state.logger_overlay = !state.logger_overlay\" :class=\"{active : state.logger_overlay}\">\n            <v-icon medium style=\"padding-top: 2px\">mdi-message-reply-text</v-icon>\n          </v-btn>\n        </j-tooltip>\n        <j-tooltip tipid=\"app-toolbar-plugins\">\n          <v-btn icon @click=\"state.drawer = !state.drawer\" :class=\"{active : state.drawer}\">\n            <v-icon>mdi-menu</v-icon>\n          </v-btn>\n        </j-tooltip>\n      </v-toolbar-items>\n    </v-app-bar>\n\n    <v-content\n      :style=\"checkNotebookContext() ? 'height: ' + state.settings.context.notebook.max_height + '; border: solid 1px #e5e5e5; border-top: 0px' : ''\"\n      :class=\"checkNotebookContext() ? '' : 'jdaviz__content--not-in-notebook'\"\n    >\n      <v-container class=\"fill-height pa-0\" fluid>\n        <splitpanes>\n          <pane size=\"75\">\n            <golden-layout\n              style=\"height: 100%;\"\n              :has-headers=\"state.settings.visible.tab_headers\"\n              @state=\"onLayoutChange\"\n            >\n              <gl-row :closable=\"false\">\n                <g-viewer-tab\n                  v-for=\"(stack, index) in state.stack_items\"\n                  :stack=\"stack\"\n                  :key=\"stack.viewers.map(v => v.id).join('-')\"\n                  :data_items=\"state.data_items\"\n                  :app_settings=\"state.settings\"\n                  :icons=\"state.icons\"\n                  :viewer_icons=\"state.viewer_icons\"\n                  :layer_icons=\"state.layer_icons\"\n                  :closefn=\"destroy_viewer_item\"\n                  @data-item-visibility=\"data_item_visibility($event)\"\n                  @data-item-unload=\"data_item_unload($event)\"\n                  @data-item-remove=\"data_item_remove($event)\"\n                  @call-viewer-method=\"call_viewer_method($event)\"\n                ></g-viewer-tab>\n              </gl-row>\n            </golden-layout>\n          </pane>\n          <pane size=\"25\" min-size=\"25\" v-if=\"state.drawer\" style=\"background-color: #fafbfc; border-top: 6px solid #C75109; min-width: 250px\">\n            <v-card flat tile class=\"overflow-y-auto fill-height\" style=\"overflow-x: hidden\" color=\"gray\">\n              <v-text-field\n                v-model='state.tray_items_filter'\n                append-icon='mdi-magnify'\n                style=\"padding: 0px 8px\"\n                clearable\n                hide-details\n              ></v-text-field>\n              <v-expansion-panels accordion multiple focusable flat tile v-model=\"state.tray_items_open\">\n                <v-expansion-panel v-for=\"(trayItem, index) in state.tray_items\" :key=\"index\">\n                  <div v-if=\"trayItemVisible(trayItem, state.tray_items_filter)\">\n                    <v-expansion-panel-header >\n                      <j-tooltip :tipid=\"trayItem.name\">\n                        {{ trayItem.label }}\n                      </j-tooltip>\n                    </v-expansion-panel-header>\n                    <v-expansion-panel-content style=\"margin-left: -12px; margin-right: -12px;\">\n                      <jupyter-widget :widget=\"trayItem.widget\" v-if=\"state.tray_items_open.includes(index)\"></jupyter-widget>\n                    </v-expansion-panel-content>\n                  </div>\n                </v-expansion-panel>\n              </v-expansion-panels>\n              <v-divider></v-divider>\n            </v-card>\n          </pane>\n        </splitpanes>\n      </v-container>\n    </v-content>\n    <v-snackbar\n      v-model=\"state.snackbar.show\"\n      :timeout=\"state.snackbar.timeout\"\n      :color=\"state.snackbar.color\"\n      top\n      right\n      transition=\"slide-x-transition\"\n      absolute\n      style=\"margin-right: 95px; margin-top: -2px\"\n    >\n      {{ state.snackbar.text }}\n\n      <v-progress-circular\n              v-if=\"state.snackbar.loading\"\n              indeterminate\n      ></v-progress-circular>\n\n      <v-btn\n              v-if=\"!state.snackbar.loading\"\n              text\n              @click=\"close_snackbar_message($event)\"\n      >\n        Close\n      </v-btn>\n    </v-snackbar>\n    <v-fade-transition>\n      <div v-show=\"loading\" class=\"jd-loading-overlay\"></div>\n    </v-fade-transition>\n  </v-app>\n</template>\n\n<script>\nexport default {\n  methods: {\n    checkNotebookContext() {\n      this.notebook_context = document.getElementById(\"ipython-main-app\")\n        || document.querySelector('.jp-LabShell')\n        || document.querySelector(\".lm-Widget#main\"); /* Notebook 7 */\n      return this.notebook_context;\n    },\n    trayItemVisible(trayItem, tray_items_filter) {\n      if (tray_items_filter === null || tray_items_filter.length == 0) {\n        return true\n      }\n      // simple exact text search match on the plugin title for now.\n      return trayItem.label.toLowerCase().indexOf(tray_items_filter.toLowerCase()) !== -1\n    },\n    onLayoutChange() {\n      /* Workaround for #1677, can be removed when bqplot/bqplot#1531 is released */\n      window.dispatchEvent(new Event('resize'));\n    }\n  },\n  created() {\n    this.$vuetify.theme.themes.light = {\n      toolbar: \"#153A4B\",\n      primary: \"#00617E\",\n      secondary: \"#007DA4\",\n      accent: \"#C75109\",\n      turquoise: \"#007BA1\",\n      lightblue: \"#E3F2FD\",  // matches highlighted row in MOS table\n      spinner: \"#163C4C\",\n      error: '#FF5252',\n      info: '#2196F3',\n      success: '#4CAF50',\n      warning: '#FFC107',\n      gray: '#F8F8F8',\n    };\n    this.$vuetify.theme.themes.dark = {\n      toolbar: \"#153A4B\",\n      primary: \"#00617E\",\n      secondary: \"#007DA4\",\n      accent: \"#C75109\",\n      turquoise: \"#007BA1\",\n      lightblue: \"#E3F2FD\",\n      spinner: \"#ACE1FF\",\n      error: '#FF5252',\n      info: '#2196F3',\n      success: '#4CAF50',\n      warning: '#FFC107',\n      gray: '#141414',\n    };\n  },\n  mounted() {\n    /* Workaround for https://github.com/jupyter-widgets/ipywidgets/issues/2499, can be removed when ipywidgets 8 is\n     * released */\n    const jpOutputElem = this.$refs.mainapp.$el.closest('.jp-OutputArea-output');\n    if (jpOutputElem) {\n      jpOutputElem.classList.remove('jupyter-widgets');\n    }\n  }\n};\n</script>\n\n<style id=\"web-app\">\n* {\n  /* otherwise, voila will override box-sizing to unset which screws up layouts */\n  box-sizing: border-box !important;\n}\n\n/* fix for loading overlay z-index */\ndiv.output_wrapper {\n  z-index: auto;\n}\n\n.jd-loading-overlay {\n  position: absolute;\n  inset: 0;\n  background-color: white;\n  z-index: 100;\n  opacity: 0.5;\n}\n\n.v-toolbar__content,\n.vuetify-styles .v-toolbar__content {\n  padding: 0px;\n}\n\n.glue__subset-select {\n  display: flex;\n  align-items: center;\n}\n\n.v-tabs-items {\n  height: 100%;\n}\n\n.splitpanes {\n  background-color: #f8f8f8;\n}\n\n.splitpanes__splitter {\n  background-color: #e2e4e8;\n  position: relative;\n  width: 5px;\n}\n\n.lm_goldenlayout {\n  background: #f8f8f8;\n}\n\n.lm_content {\n  background: #ffffff;\n  border: none;\n  /*border-top: 1px solid #cccccc;*/\n}\n\n.lm_splitter {\n  background: #e2e4e8;\n  opacity: 1;\n  z-index: 1;\n}\n\n/* .lm_splitter.lm_vertical {\n  height: 1px !important;\n}\n\n.lm_splitter.lm_horizontal {\n  width: 1px !important;\n} */\n\n.lm_header .lm_tab {\n  padding-top: 0px;\n  margin-top: 0px;\n}\n\n.lm_header ul {\n  padding-left: 0;\n}\n\n.lm_popout {\n  display: none;\n}\n\n.cubeviz .lm_close {\n  display: none !important;\n}\n\n.cubeviz .lm_close_tab {\n  display: none;\n}\n\n.imviz .lm_close {\n  /* hide the close button on the right to prevent closing the default viewer\n     since we cannot easily discriminate between different viewers in the filter here */\n  display: none !important;\n}\n\n.imviz .lm_tab[title=\"imviz-0\"] > .lm_close_tab {\n  /* hide the close button on the tab for imviz-0 only to\n     prevent closing the default viewer */\n  display: none;\n}\n\n.v-toolbar__items .v-btn {\n  /* allow v-toolbar-items styling to pass through tooltip wrapping span */\n  /* css is copied from .v-toolbar__items>.v-btn */\n  border-radius: 0;\n  height: 100% !important;\n  max-height: none;\n}\n\n.v-tooltip__content {\n  background-color: white !important;\n  border-radius: 2px !important;\n  border: 1px #003B4D solid !important;\n  color: black !important;\n}\n\n.v-expansion-panel-content__wrap {\n  padding-left: 12px !important;\n  padding-right: 12px !important;\n}\n\na:link {\n  text-decoration: none;\n}\n\na:visited {\n  text-decoration: none;\n}\n\na:hover {\n  text-decoration: none;\n}\n\na:active {\n  text-decoration: none;\n}\n\n.jdaviz-nested-toolbar {\n  /* height of nested toolbar to match viewer toolbar height */\n  height: 42px;\n  margin-right: 4px;\n}\n\n.jdaviz-nested-toolbar .v-icon, .jdaviz-nested-toolbar img {\n  /* icons from dark to (consistently) light */\n  filter: invert(1) saturate(1) brightness(100);\n}\n\n.invert, .invert-if-dark.theme--dark {\n    filter: invert(1) saturate(1) brightness(100);\n    color: white;\n}\n\n.jdaviz-nested-toolbar .v-btn {\n  height: 42px !important;\n  border: none !important;\n  min-width: 42px !important;\n  /* remove \"dimming\" since we use orange background for active */\n  color: transparent ! important;\n}\n\n.suboptions-carrot {\n  /* tweak margins for different toolbar size */\n  margin-bottom: -28px !important;\n}\n\n.jdaviz-nested-toolbar .v-btn--active, .jdaviz-nested-toolbar .v-btn:focus, .v-toolbar .active, .jdaviz-viewer-toolbar .active {\n  /* active color (orange) */\n  background-color: #c75109 !important;\n}\n\n.v-divider.theme--dark {\n  /* make the v-divider standout more */\n  border-color: hsla(0,0%,100%,.35) !important;\n}\n\n.no-hint .v-text-field__details {\n  display: none !important;\n}\n\n.color-to-accent {\n  /* https://codepen.io/sosuke/pen/Pjoqqp for #C75109 */\n  filter: brightness(0) saturate(100%) invert(31%) sepia(84%) saturate(1402%) hue-rotate(1deg) brightness(95%) contrast(94%);\n}\n\n.v-overlay__content {\n  position: unset !important;\n}\n\n.jdaviz__content--not-in-notebook {\n  max-height: calc(100% - 48px);\n}\n\n#popout-widget-container .v-application.jdaviz {\n  min-height: 100vh;\n  max-height: 100vh;\n}\n\n#popout-widget-container .jdaviz__content--not-in-notebook {\n  max-height: 100%;\n}\n\n.jupyter-widgets.bqplot.figure {\n  /* When a viewport is resized, a scrollbar can appear, which will impact the\n   * render size of bqplot and results in unused space when the newly rendered\n   * figure is displayed. Using overflow hidden will prevent the scrollbar from\n   * appearing */\n  overflow: hidden;\n}\n\n.jupyter-widgets.bqplot.figure .axislabel {\n    /* consistent with other labels (legend, buttons, plugin expansion menu labels, etc)*/\n    font-size: 15px !important;\n    font-family: Roboto, sans-serif !important;\n    font-weight: 500 !important;\n}\n\n</style>\n"
      }
     },
     "8b2aab7fb8464a0286b8fba68c65808a": {
      "model_module": "jupyter-vuetify",
      "model_module_version": "^1.8.5",
      "model_name": "MenuModel",
      "state": {
       "_dom_classes": [],
       "_events": [],
       "_jupyter_vue": "IPY_MODEL_28c992a30e9e48598df49b24e8922228",
       "_metadata": null,
       "_model_module": "jupyter-vuetify",
       "_model_module_version": "^1.8.5",
       "_model_name": "MenuModel",
       "_view_count": null,
       "_view_module": "jupyter-vuetify",
       "_view_module_version": "^1.8.5",
       "_view_name": "VuetifyView",
       "absolute": null,
       "activator": null,
       "allow_overflow": null,
       "attach": null,
       "attributes": {},
       "auto": null,
       "bottom": null,
       "children": [
        "IPY_MODEL_e214973f7b174bfb8a70360773dbe1fc"
       ],
       "class_": null,
       "close_delay": null,
       "close_on_click": null,
       "close_on_content_click": null,
       "content_class": null,
       "dark": null,
       "disable_keys": null,
       "disabled": null,
       "eager": null,
       "fixed": null,
       "internal_activator": null,
       "layout": null,
       "left": null,
       "light": null,
       "max_height": null,
       "max_width": null,
       "min_width": null,
       "nudge_bottom": null,
       "nudge_left": null,
       "nudge_right": null,
       "nudge_top": null,
       "nudge_width": null,
       "offset_overflow": null,
       "offset_x": null,
       "offset_y": null,
       "open_delay": null,
       "open_on_click": null,
       "open_on_hover": null,
       "origin": null,
       "position_x": null,
       "position_y": null,
       "return_value": null,
       "right": null,
       "slot": null,
       "style_": null,
       "tabbable": null,
       "tooltip": null,
       "top": null,
       "transition": null,
       "v_model": "!!disabled!!",
       "v_on": null,
       "v_slots": [
        {
         "children": "IPY_MODEL_c5d26924dfc14b87a25916bc107dec44",
         "name": "activator",
         "variable": "menu"
        }
       ],
       "value": null,
       "z_index": null
      }
     },
     "8b7e1b09e9a8461da6127c38c9b853ad": {
      "buffers": [
       {
        "data": "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",
        "encoding": "base64",
        "path": [
         "value"
        ]
       }
      ],
      "model_module": "@jupyter-widgets/controls",
      "model_module_version": "2.0.0",
      "model_name": "ImageModel",
      "state": {
       "_dom_classes": [],
       "_model_module": "@jupyter-widgets/controls",
       "_model_module_version": "2.0.0",
       "_model_name": "ImageModel",
       "_view_count": null,
       "_view_module": "@jupyter-widgets/controls",
       "_view_module_version": "2.0.0",
       "_view_name": "ImageView",
       "format": "svg+xml",
       "height": "",
       "layout": "IPY_MODEL_372e242902e644568ae778fdddd50660",
       "tabbable": null,
       "tooltip": null,
       "width": "20"
      }
     },
     "8ba0075346c14682a11b9296d9ab9e07": {
      "model_module": "jupyter-vuetify",
      "model_module_version": "^1.8.10",
      "model_name": "VuetifyTemplateModel",
      "state": {
       "_component_instances": [],
       "_dom_classes": [],
       "_jupyter_vue": "IPY_MODEL_28c992a30e9e48598df49b24e8922228",
       "_model_module": "jupyter-vuetify",
       "_model_module_version": "^1.8.10",
       "_model_name": "VuetifyTemplateModel",
       "_view_count": null,
       "_view_module": "jupyter-vuetify",
       "_view_module_version": "^1.8.10",
       "_view_name": "VuetifyView",
       "attribute_items": [
        {
         "text": "DATA",
         "value": 0
        }
       ],
       "attribute_selected": 0,
       "c_levels_error": "",
       "c_levels_txt": "",
       "color_mode": "One color per layer",
       "colormap_items": [
        {
         "text": "Gray",
         "value": "gray"
        },
        {
         "text": "Viridis",
         "value": "viridis"
        },
        {
         "text": "Plasma",
         "value": "plasma"
        },
        {
         "text": "Inferno",
         "value": "inferno"
        },
        {
         "text": "Magma",
         "value": "magma"
        },
        {
         "text": "Purple-Blue",
         "value": "PuBu"
        },
        {
         "text": "Yellow-Green-Blue",
         "value": "YlGnBu"
        },
        {
         "text": "Yellow-Orange-Red",
         "value": "YlOrRd"
        },
        {
         "text": "Red-Purple",
         "value": "RdPu"
        },
        {
         "text": "Blue-Green",
         "value": "BuGn"
        },
        {
         "text": "Hot",
         "value": "hot"
        },
        {
         "text": "Red-Blue",
         "value": "RdBu"
        },
        {
         "text": "Red-Yellow-Blue",
         "value": "RdYlBu"
        },
        {
         "text": "Purple-Orange",
         "value": "PuOr"
        },
        {
         "text": "Purple-Green",
         "value": "PRGn"
        },
        {
         "text": "Rainbow",
         "value": "rainbow"
        },
        {
         "text": "Seismic",
         "value": "seismic"
        },
        {
         "text": "Reversed: Gray",
         "value": "gray_r"
        },
        {
         "text": "Reversed: Viridis",
         "value": "viridis_r"
        },
        {
         "text": "Reversed: Plasma",
         "value": "plasma_r"
        },
        {
         "text": "Reversed: Inferno",
         "value": "inferno_r"
        },
        {
         "text": "Reversed: Magma",
         "value": "magma_r"
        },
        {
         "text": "Reversed: Hot",
         "value": "hot_r"
        },
        {
         "text": "Reversed: Rainbow",
         "value": "rainbow_r"
        }
       ],
       "components": null,
       "css": null,
       "data": null,
       "events": [
        "set_colormap"
       ],
       "glue_state": {
        "alpha": 0.31,
        "attribute": "611cfa3b-ebb5-42d2-b5c7-ba9bce8b51a4",
        "bias": 0.66,
        "bitmap_visible": true,
        "c_max": 724.075927734375,
        "c_min": 0.0,
        "cmap": "gray",
        "color": "#61d3e1",
        "contour_colors": [
         "red",
         "orange",
         "yellow",
         "green",
         "blue"
        ],
        "contour_percentile": 100,
        "contour_visible": false,
        "contrast": 2.15,
        "global_sync": false,
        "labels": [
         "120.7",
         "241.4",
         "362",
         "482.7",
         "603.4"
        ],
        "layer": "611cfa3b-ebb5-42d2-b5c7-ba9bce8b51a4",
        "level_mode": "Linear",
        "levels": [
         120.6793212890625,
         241.358642578125,
         362.0379638671875,
         482.71728515625,
         603.3966064453125
        ],
        "n_levels": 5,
        "percentile": "Custom",
        "stretch": "linear",
        "v_max": 6.0,
        "v_min": 0.0,
        "visible": true,
        "zorder": 3
       },
       "has_contour": true,
       "layout": "IPY_MODEL_b8105fdc71d2400f8415b9506d7478a2",
       "methods": null,
       "percentile_items": [
        {
         "text": "Min/Max",
         "value": 0
        },
        {
         "text": "99.5%",
         "value": 1
        },
        {
         "text": "99%",
         "value": 2
        },
        {
         "text": "95%",
         "value": 3
        },
        {
         "text": "90%",
         "value": 4
        },
        {
         "text": "Custom",
         "value": 5
        }
       ],
       "percentile_selected": 5,
       "stretch_items": [
        {
         "text": "Linear",
         "value": 0
        },
        {
         "text": "Square Root",
         "value": 1
        },
        {
         "text": "Arcsinh",
         "value": 2
        },
        {
         "text": "Logarithmic",
         "value": 3
        }
       ],
       "stretch_selected": 0,
       "tabbable": null,
       "template": "IPY_MODEL_c96086e872174c0da0a6b7ea39154936",
       "tooltip": null
      }
     },
     "8c57bd59ee2e4f758749b6a22c9e1236": {
      "model_module": "jupyter-vue",
      "model_module_version": "^1.10.1",
      "model_name": "TemplateModel",
      "state": {
       "_model_module": "jupyter-vue",
       "_model_module_version": "^1.10.1",
       "_model_name": "TemplateModel",
       "_view_count": null,
       "_view_module": null,
       "_view_module_version": "",
       "_view_name": null,
       "template": "<template>\n    <v-toolbar-items>\n        <g-subset-select></g-subset-select>\n        <g-subset-mode></g-subset-mode>\n        <!-- <v-divider vertical></v-divider> -->\n    </v-toolbar-items>\n</template>"
      }
     },
     "8da14aab7600461d8ce8d4355cae1da5": {
      "model_module": "jupyter-vue",
      "model_module_version": "^1.10.1",
      "model_name": "TemplateModel",
      "state": {
       "_model_module": "jupyter-vue",
       "_model_module_version": "^1.10.1",
       "_model_name": "TemplateModel",
       "_view_count": null,
       "_view_module": null,
       "_view_module_version": "",
       "_view_name": null,
       "template": "<template>\n  <j-tray-plugin\n    description='Press l to plot line profiles across X and Y under cursor. You can also manually enter X, Y and then click PLOT.'\n    :link=\"docs_link || 'https://jdaviz.readthedocs.io/en/'+vdocs+'/'+config+'/plugins.html#line-profiles'\"\n    :uses_active_status=\"uses_active_status\"\n    @plugin-ping=\"plugin_ping($event)\"\n    :popout_button=\"popout_button\">\n\n    <plugin-viewer-select\n      :items=\"viewer_items\"\n      :selected.sync=\"viewer_selected\"\n      label=\"Viewer\"\n      :show_if_single_entry=\"false\"\n      hint=\"Select a viewer to plot.\"\n      persistent-hint\n    />\n\n    <v-row>\n      <v-text-field\n        v-model='selected_x'\n        type=\"number\"\n        label=\"X\"\n        hint=\"Value of X\"\n      ></v-text-field>\n    </v-row>\n\n    <v-row>\n      <v-text-field\n        v-model='selected_y'\n        type=\"number\"\n        label=\"Y\"\n        hint=\"Value of Y\"\n      ></v-text-field>\n    </v-row>\n\n    <v-row justify=\"end\">\n      <v-btn color=\"primary\" text @click=\"draw_plot\">Plot</v-btn>\n    </v-row>\n\n    <v-row v-if=\"plot_available\">\n      <jupyter-widget :widget=\"plot_across_x_widget\"/>\n      <br/>\n      <jupyter-widget :widget=\"plot_across_y_widget\"/>\n    </v-row>\n\n  </j-tray-plugin>\n</template>\n"
      }
     },
     "8e7e070405ac42d79fcd2d3e8f245e4b": {
      "model_module": "@jupyter-widgets/base",
      "model_module_version": "2.0.0",
      "model_name": "LayoutModel",
      "state": {
       "_model_module": "@jupyter-widgets/base",
       "_model_module_version": "2.0.0",
       "_model_name": "LayoutModel",
       "_view_count": null,
       "_view_module": "@jupyter-widgets/base",
       "_view_module_version": "2.0.0",
       "_view_name": "LayoutView",
       "align_content": null,
       "align_items": null,
       "align_self": null,
       "border_bottom": null,
       "border_left": null,
       "border_right": null,
       "border_top": null,
       "bottom": null,
       "display": null,
       "flex": null,
       "flex_flow": null,
       "grid_area": null,
       "grid_auto_columns": null,
       "grid_auto_flow": null,
       "grid_auto_rows": null,
       "grid_column": null,
       "grid_gap": null,
       "grid_row": null,
       "grid_template_areas": null,
       "grid_template_columns": null,
       "grid_template_rows": null,
       "height": null,
       "justify_content": null,
       "justify_items": null,
       "left": null,
       "margin": null,
       "max_height": null,
       "max_width": null,
       "min_height": null,
       "min_width": null,
       "object_fit": null,
       "object_position": null,
       "order": null,
       "overflow": null,
       "padding": null,
       "right": null,
       "top": null,
       "visibility": null,
       "width": null
      }
     },
     "8f8ee6aaae0f43e9b4f4c7354d32033c": {
      "buffers": [
       {
        "data": "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",
        "encoding": "base64",
        "path": [
         "value"
        ]
       }
      ],
      "model_module": "@jupyter-widgets/controls",
      "model_module_version": "2.0.0",
      "model_name": "ImageModel",
      "state": {
       "_dom_classes": [],
       "_model_module": "@jupyter-widgets/controls",
       "_model_module_version": "2.0.0",
       "_model_name": "ImageModel",
       "_view_count": null,
       "_view_module": "@jupyter-widgets/controls",
       "_view_module_version": "2.0.0",
       "_view_name": "ImageView",
       "format": "svg+xml",
       "height": "",
       "layout": "IPY_MODEL_2b4f1f0f1d02471bb89f0035358e4366",
       "tabbable": null,
       "tooltip": null,
       "width": "20"
      }
     },
     "8f92b841c7704e3bab6e364fad2d5ad7": {
      "model_module": "jupyter-vuetify",
      "model_module_version": "^1.8.10",
      "model_name": "VuetifyTemplateModel",
      "state": {
       "_component_instances": [],
       "_dom_classes": [],
       "_jupyter_vue": "IPY_MODEL_28c992a30e9e48598df49b24e8922228",
       "_model_module": "jupyter-vuetify",
       "_model_module_version": "^1.8.10",
       "_model_name": "VuetifyTemplateModel",
       "_view_count": null,
       "_view_module": "jupyter-vuetify",
       "_view_module_version": "^1.8.10",
       "_view_name": "VuetifyView",
       "components": null,
       "css": null,
       "data": null,
       "echo_available": true,
       "events": [],
       "is_displayed": false,
       "kernel_id": "",
       "layout": "IPY_MODEL_7be640e236cb4773b0f12b27bf1890b9",
       "methods": null,
       "open_tab_on_display": false,
       "open_window_on_display": false,
       "tabbable": null,
       "target_model_id": "b3368d9b3bd540ccb62216b96672ac2d",
       "template": "IPY_MODEL_d55e72844de240529f76b5d1b37d37bf",
       "tooltip": null,
       "window_features": "popup,width=800,height=300",
       "window_name": "b3368d9b3bd540ccb62216b96672ac2d"
      }
     },
     "8f935188ac1141c88848796a3dc99469": {
      "model_module": "jupyter-vuetify",
      "model_module_version": "^1.8.5",
      "model_name": "ListItemTitleModel",
      "state": {
       "_dom_classes": [],
       "_events": [],
       "_jupyter_vue": "IPY_MODEL_28c992a30e9e48598df49b24e8922228",
       "_metadata": null,
       "_model_module": "jupyter-vuetify",
       "_model_module_version": "^1.8.5",
       "_model_name": "ListItemTitleModel",
       "_view_count": null,
       "_view_module": "jupyter-vuetify",
       "_view_module_version": "^1.8.5",
       "_view_name": "VuetifyView",
       "attributes": {},
       "children": [
        "replace"
       ],
       "class_": null,
       "layout": null,
       "slot": null,
       "style_": null,
       "tabbable": null,
       "tooltip": null,
       "v_model": "!!disabled!!",
       "v_on": null,
       "v_slots": []
      }
     },
     "8f964fb59b964bdba74aeeefecd77de5": {
      "model_module": "@jupyter-widgets/base",
      "model_module_version": "2.0.0",
      "model_name": "LayoutModel",
      "state": {
       "_model_module": "@jupyter-widgets/base",
       "_model_module_version": "2.0.0",
       "_model_name": "LayoutModel",
       "_view_count": null,
       "_view_module": "@jupyter-widgets/base",
       "_view_module_version": "2.0.0",
       "_view_name": "LayoutView",
       "align_content": null,
       "align_items": null,
       "align_self": null,
       "border_bottom": null,
       "border_left": null,
       "border_right": null,
       "border_top": null,
       "bottom": null,
       "display": null,
       "flex": null,
       "flex_flow": null,
       "grid_area": null,
       "grid_auto_columns": null,
       "grid_auto_flow": null,
       "grid_auto_rows": null,
       "grid_column": null,
       "grid_gap": null,
       "grid_row": null,
       "grid_template_areas": null,
       "grid_template_columns": null,
       "grid_template_rows": null,
       "height": null,
       "justify_content": null,
       "justify_items": null,
       "left": null,
       "margin": null,
       "max_height": null,
       "max_width": null,
       "min_height": null,
       "min_width": null,
       "object_fit": null,
       "object_position": null,
       "order": null,
       "overflow": null,
       "padding": null,
       "right": null,
       "top": null,
       "visibility": null,
       "width": null
      }
     },
     "8f976b7160f045b8b8fb1f0e568a937e": {
      "model_module": "jupyter-vuetify",
      "model_module_version": "^1.8.10",
      "model_name": "VuetifyTemplateModel",
      "state": {
       "_component_instances": [],
       "_dom_classes": [],
       "_jupyter_vue": "IPY_MODEL_28c992a30e9e48598df49b24e8922228",
       "_model_module": "jupyter-vuetify",
       "_model_module_version": "^1.8.10",
       "_model_name": "VuetifyTemplateModel",
       "_view_count": null,
       "_view_module": "jupyter-vuetify",
       "_view_module_version": "^1.8.10",
       "_view_name": "VuetifyView",
       "components": null,
       "config": "imviz",
       "css": null,
       "data": null,
       "dataset_items": [
        {
         "icon": "a",
         "label": "f090w[DATA]"
        },
        {
         "icon": "b",
         "label": "f187n[DATA]"
        },
        {
         "icon": "c",
         "label": "f200w[DATA]"
        },
        {
         "icon": "d",
         "label": "f335m[DATA]"
        },
        {
         "icon": "e",
         "label": "f444w[DATA]"
        },
        {
         "icon": "f",
         "label": "f470n[DATA]"
        }
       ],
       "dataset_selected": "f090w[DATA]",
       "disabled_msg": "",
       "docs_link": "",
       "events": [
        "plugin_ping"
       ],
       "has_comments": false,
       "has_metadata": true,
       "has_primary": false,
       "is_active": false,
       "keep_active": false,
       "layout": "IPY_MODEL_fdb3c3aae3664e778cd03a365d6fb0d8",
       "metadata": [
        [
         "aperture.name",
         "NRCA3_FULL",
         ""
        ],
        [
         "aperture.position_angle",
         "103.2841151446957",
         ""
        ],
        [
         "aperture.pps_name",
         "NRCALL_FULL",
         ""
        ],
        [
         "asn.exptype",
         "science",
         ""
        ],
        [
         "asn.pool_name",
         "jw02731_20230622t075023_pool.csv",
         ""
        ],
        [
         "asn.table_name",
         "jw02731-o001_20230622t075023_image3_00004_asn.json",
         ""
        ],
        [
         "background.level",
         "0.03532081521480778",
         ""
        ],
        [
         "background.method",
         "match",
         ""
        ],
        [
         "background.subtracted",
         "False",
         ""
        ],
        [
         "bunit_data",
         "MJy/sr",
         ""
        ],
        [
         "bunit_err",
         "MJy/sr",
         ""
        ],
        [
         "cal_step.assign_wcs",
         "COMPLETE",
         ""
        ],
        [
         "cal_step.dark_sub",
         "COMPLETE",
         ""
        ],
        [
         "cal_step.dq_init",
         "COMPLETE",
         ""
        ],
        [
         "cal_step.flat_field",
         "COMPLETE",
         ""
        ],
        [
         "cal_step.gain_scale",
         "SKIPPED",
         ""
        ],
        [
         "cal_step.group_scale",
         "SKIPPED",
         ""
        ],
        [
         "cal_step.ipc",
         "SKIPPED",
         ""
        ],
        [
         "cal_step.jump",
         "COMPLETE",
         ""
        ],
        [
         "cal_step.linearity",
         "COMPLETE",
         ""
        ],
        [
         "cal_step.outlier_detection",
         "COMPLETE",
         ""
        ],
        [
         "cal_step.persistence",
         "COMPLETE",
         ""
        ],
        [
         "cal_step.photom",
         "COMPLETE",
         ""
        ],
        [
         "cal_step.ramp_fit",
         "COMPLETE",
         ""
        ],
        [
         "cal_step.refpix",
         "COMPLETE",
         ""
        ],
        [
         "cal_step.resample",
         "COMPLETE",
         ""
        ],
        [
         "cal_step.saturation",
         "COMPLETE",
         ""
        ],
        [
         "cal_step.skymatch",
         "COMPLETE",
         ""
        ],
        [
         "cal_step.superbias",
         "COMPLETE",
         ""
        ],
        [
         "cal_step.tweakreg",
         "COMPLETE",
         ""
        ],
        [
         "calibration_software_revision",
         "RELEASE",
         ""
        ],
        [
         "calibration_software_version",
         "1.10.1",
         ""
        ],
        [
         "compress",
         "False",
         ""
        ],
        [
         "coordinates.reference_frame",
         "ICRS",
         ""
        ],
        [
         "data_processing_software_version",
         "2023_1a",
         ""
        ],
        [
         "date",
         "2023-06-22T23:36:14.786",
         ""
        ],
        [
         "dither.position_number",
         "4",
         ""
        ],
        [
         "dither.primary_dither_type",
         "5TIGHT",
         ""
        ],
        [
         "dither.primary_points",
         "5",
         ""
        ],
        [
         "dither.primary_type",
         "FULLBOX",
         ""
        ],
        [
         "dither.subpixel_pattern",
         "STANDARD",
         ""
        ],
        [
         "dither.subpixel_total_points",
         "1",
         ""
        ],
        [
         "dither.total_points",
         "5",
         ""
        ],
        [
         "dither.x_offset",
         "69.00985868482917",
         ""
        ],
        [
         "dither.y_offset",
         "-52.9524653954429",
         ""
        ],
        [
         "ephemeris.reference_frame",
         "EME2000",
         ""
        ],
        [
         "ephemeris.spatial_x_bary",
         "-46246688.92923043",
         ""
        ],
        [
         "ephemeris.spatial_x_geo",
         "181778687.3391835",
         ""
        ],
        [
         "ephemeris.spatial_y_bary",
         "-134077482.8740233",
         ""
        ],
        [
         "ephemeris.spatial_y_geo",
         "-1403073737.414124",
         ""
        ],
        [
         "ephemeris.spatial_z_bary",
         "-58354138.40049825",
         ""
        ],
        [
         "ephemeris.spatial_z_geo",
         "-871952878.6546823",
         ""
        ],
        [
         "ephemeris.time",
         "59733.61748796111",
         ""
        ],
        [
         "ephemeris.type",
         "Definitive",
         ""
        ],
        [
         "ephemeris.velocity_x_bary",
         "28.11783372027296",
         ""
        ],
        [
         "ephemeris.velocity_x_geo",
         "151.6000669146077",
         ""
        ],
        [
         "ephemeris.velocity_y_bary",
         "-8.204259798137702",
         ""
        ],
        [
         "ephemeris.velocity_y_geo",
         "29.29589738115623",
         ""
        ],
        [
         "ephemeris.velocity_z_bary",
         "-3.709644009381409",
         ""
        ],
        [
         "ephemeris.velocity_z_geo",
         "-140.0375121628998",
         ""
        ],
        [
         "exposure.clock_adjust_rate",
         "0.2231639024406946",
         ""
        ],
        [
         "exposure.count",
         "6",
         ""
        ],
        [
         "exposure.data_problem",
         "False",
         ""
        ],
        [
         "exposure.datamode",
         "32",
         ""
        ],
        [
         "exposure.drop_frames1",
         "0",
         ""
        ],
        [
         "exposure.drop_frames3",
         "0",
         ""
        ],
        [
         "exposure.duration",
         "25768.319999999996",
         ""
        ],
        [
         "exposure.effective_exposure_time",
         "25768.319999999996",
         ""
        ],
        [
         "exposure.elapsed_exposure_time",
         "25768.319999999996",
         ""
        ],
        [
         "exposure.end_time",
         "59733.621340625",
         ""
        ],
        [
         "exposure.end_time_mjd",
         "59733.621340625",
         ""
        ],
        [
         "exposure.end_time_tdb",
         "59733.62669355301",
         ""
        ],
        [
         "exposure.exposure_time",
         "3221.0400000000004",
         ""
        ],
        [
         "exposure.frame_divisor",
         "1",
         ""
        ],
        [
         "exposure.frame_time",
         "10.73677",
         ""
        ],
        [
         "exposure.group_time",
         "21.47354",
         ""
        ],
        [
         "exposure.groupgap",
         "1",
         ""
        ],
        [
         "exposure.integration_time",
         "161.05155",
         ""
        ],
        [
         "exposure.mid_time",
         "59733.51213757989",
         ""
        ],
        [
         "exposure.mid_time_mjd",
         "59733.51213757989",
         ""
        ],
        [
         "exposure.mid_time_tdb",
         "59733.51749173868",
         ""
        ],
        [
         "exposure.nframes",
         "1",
         ""
        ],
        [
         "exposure.ngroups",
         "8",
         ""
        ],
        [
         "exposure.nints",
         "1",
         ""
        ],
        [
         "exposure.noutputs",
         "4",
         ""
        ],
        [
         "exposure.nresets_at_start",
         "1",
         ""
        ],
        [
         "exposure.nresets_between_ints",
         "1",
         ""
        ],
        [
         "exposure.nsamples",
         "1",
         ""
        ],
        [
         "exposure.osf_file",
         "2022154T153244078_005_osf.xml",
         ""
        ],
        [
         "exposure.prime_parallel",
         "PRIME",
         ""
        ],
        [
         "exposure.readpatt",
         "BRIGHT1",
         ""
        ],
        [
         "exposure.sample_time",
         "10.0",
         ""
        ],
        [
         "exposure.sca_num",
         "483",
         ""
        ],
        [
         "exposure.start_time",
         "59733.40281624629",
         ""
        ],
        [
         "exposure.start_time_mjd",
         "59733.40269180185",
         ""
        ],
        [
         "exposure.start_time_tdb",
         "59733.40804718633",
         ""
        ],
        [
         "exposure.type",
         "NRC_IMAGE",
         ""
        ],
        [
         "exposure.zero_frame",
         "False",
         ""
        ],
        [
         "filename",
         "jw02731-o001_t017_nircam_clear-f090w_i2d.fits",
         ""
        ],
        [
         "group_id",
         "jw02731001004_02103_4",
         ""
        ],
        [
         "guidestar.gs_dec",
         "-58.6851006660303",
         ""
        ],
        [
         "guidestar.gs_id",
         "S4AZ030396",
         ""
        ],
        [
         "guidestar.gs_mag",
         "12.66756629943848",
         ""
        ],
        [
         "guidestar.gs_order",
         "1",
         ""
        ],
        [
         "guidestar.gs_pcs_mode",
         "FINEGUIDE",
         ""
        ],
        [
         "guidestar.gs_ra",
         "159.1178425155361",
         ""
        ],
        [
         "guidestar.gs_start_time",
         "2022-06-03 13:51:04.8890000",
         ""
        ],
        [
         "guidestar.gs_stop_time",
         "2022-06-03 13:52:32.9530000",
         ""
        ],
        [
         "guidestar.gs_udec",
         "2.30392434e-05",
         ""
        ],
        [
         "guidestar.gs_umag",
         "0.03366625681519508",
         ""
        ],
        [
         "guidestar.gs_ura",
         "2.65071158e-05",
         ""
        ],
        [
         "guidestar.gs_v3_pa_science",
         "103.065918623692",
         ""
        ],
        [
         "guidestar.visit_end_time",
         "2022-06-03 15:23:55.4440000",
         ""
        ],
        [
         "hga_move",
         "False",
         ""
        ],
        [
         "instrument.channel",
         "SHORT",
         ""
        ],
        [
         "instrument.detector",
         "MULTIPLE",
         ""
        ],
        [
         "instrument.filter",
         "F090W",
         ""
        ],
        [
         "instrument.lamp_mode",
         "NONE",
         ""
        ],
        [
         "instrument.module",
         "MULTIPLE",
         ""
        ],
        [
         "instrument.name",
         "NIRCAM",
         ""
        ],
        [
         "instrument.pupil",
         "CLEAR",
         ""
        ],
        [
         "instrument.pupil_imaging_lens",
         "False",
         ""
        ],
        [
         "model_type",
         "ImageModel",
         ""
        ],
        [
         "nircam_focus.fa1value",
         "0",
         ""
        ],
        [
         "nircam_focus.fa2value",
         "0",
         ""
        ],
        [
         "nircam_focus.fa3value",
         "0",
         ""
        ],
        [
         "nircam_focus.fam_la1",
         "0",
         ""
        ],
        [
         "nircam_focus.fam_la2",
         "0",
         ""
        ],
        [
         "nircam_focus.fam_la3",
         "0",
         ""
        ],
        [
         "nircam_focus.faphase1",
         "NULL",
         ""
        ],
        [
         "nircam_focus.faphase2",
         "NULL",
         ""
        ],
        [
         "nircam_focus.faphase3",
         "NULL",
         ""
        ],
        [
         "nircam_focus.fastep1",
         "0",
         ""
        ],
        [
         "nircam_focus.fastep2",
         "0",
         ""
        ],
        [
         "nircam_focus.fastep3",
         "0",
         ""
        ],
        [
         "nircam_focus.faunit1",
         "0.0",
         ""
        ],
        [
         "nircam_focus.faunit2",
         "0.0",
         ""
        ],
        [
         "nircam_focus.faunit3",
         "0.0",
         ""
        ],
        [
         "nwfsest",
         "59733.80877369213",
         ""
        ],
        [
         "observation.activity_id",
         "03",
         ""
        ],
        [
         "observation.bkgdtarg",
         "False",
         ""
        ],
        [
         "observation.date",
         "2022-06-03",
         ""
        ],
        [
         "observation.date_beg",
         "2022-06-03T09:39:52.572",
         ""
        ],
        [
         "observation.date_end",
         "2022-06-03T14:54:43.830",
         ""
        ],
        [
         "observation.exposure_number",
         "4",
         ""
        ],
        [
         "observation.obs_id",
         "V02731001004P0000000002103",
         ""
        ],
        [
         "observation.observation_folder",
         "Imaging",
         ""
        ],
        [
         "observation.observation_label",
         "NGC 3324 NIRCam imaging",
         ""
        ],
        [
         "observation.observation_number",
         "001",
         ""
        ],
        [
         "observation.program_number",
         "02731",
         ""
        ],
        [
         "observation.sequence_id",
         "1",
         ""
        ],
        [
         "observation.template",
         "NIRCam Imaging",
         ""
        ],
        [
         "observation.time",
         "09:39:52.572000",
         ""
        ],
        [
         "observation.visit_group",
         "02",
         ""
        ],
        [
         "observation.visit_id",
         "02731001004",
         ""
        ],
        [
         "observation.visit_number",
         "004",
         ""
        ],
        [
         "origin",
         "STSCI",
         ""
        ],
        [
         "oss_software_version",
         "8.4.5.2",
         ""
        ],
        [
         "photometry.conversion_megajanskys",
         "2.9539999961853027",
         ""
        ],
        [
         "photometry.conversion_microjanskys",
         "69.43208772283288",
         ""
        ],
        [
         "photometry.pixelarea_arcsecsq",
         "0.000983699999999999",
         ""
        ],
        [
         "photometry.pixelarea_steradians",
         "2.31e-14",
         ""
        ],
        [
         "pointing.dec_v1",
         "-58.67306962078112",
         ""
        ],
        [
         "pointing.pa_v3",
         "102.7495088931298",
         ""
        ],
        [
         "pointing.ra_v1",
         "159.4885923480313",
         ""
        ],
        [
         "prd_software_version",
         "PRDOPSSOC-061",
         ""
        ],
        [
         "program.category",
         "COM",
         ""
        ],
        [
         "program.pi_name",
         "Pontoppidan, Klaus M.",
         ""
        ],
        [
         "program.sub_category",
         "ERO",
         ""
        ],
        [
         "program.title",
         "JWST Early Release Observation 5",
         ""
        ],
        [
         "pwfseet",
         "59731.72474766204",
         ""
        ],
        [
         "ref_file.area.name",
         "crds://jwst_nircam_area_0007.fits",
         ""
        ],
        [
         "ref_file.camera.name",
         "N/A",
         ""
        ],
        [
         "ref_file.collimator.name",
         "N/A",
         ""
        ],
        [
         "ref_file.crds.context_used",
         "jwst_1095.pmap",
         ""
        ],
        [
         "ref_file.crds.sw_version",
         "11.16.22",
         ""
        ],
        [
         "ref_file.dark.name",
         "crds://jwst_nircam_dark_0343.fits",
         ""
        ],
        [
         "ref_file.dflat.name",
         "N/A",
         ""
        ],
        [
         "ref_file.disperser.name",
         "N/A",
         ""
        ],
        [
         "ref_file.distortion.name",
         "crds://jwst_nircam_distortion_0170.asdf",
         ""
        ],
        [
         "ref_file.drizpars.name",
         "crds://jwst_nircam_drizpars_0001.fits",
         ""
        ],
        [
         "ref_file.fflat.name",
         "N/A",
         ""
        ],
        [
         "ref_file.filteroffset.name",
         "crds://jwst_nircam_filteroffset_0005.asdf",
         ""
        ],
        [
         "ref_file.flat.name",
         "crds://jwst_nircam_flat_0542.fits",
         ""
        ],
        [
         "ref_file.fore.name",
         "N/A",
         ""
        ],
        [
         "ref_file.fpa.name",
         "N/A",
         ""
        ],
        [
         "ref_file.gain.name",
         "crds://jwst_nircam_gain_0091.fits",
         ""
        ],
        [
         "ref_file.ifufore.name",
         "N/A",
         ""
        ],
        [
         "ref_file.ifupost.name",
         "N/A",
         ""
        ],
        [
         "ref_file.ifuslicer.name",
         "N/A",
         ""
        ],
        [
         "ref_file.linearity.name",
         "crds://jwst_nircam_linearity_0053.fits",
         ""
        ],
        [
         "ref_file.mask.name",
         "crds://jwst_nircam_mask_0067.fits",
         ""
        ],
        [
         "ref_file.msa.name",
         "N/A",
         ""
        ],
        [
         "ref_file.ote.name",
         "N/A",
         ""
        ],
        [
         "ref_file.persat.name",
         "crds://jwst_nircam_persat_0026.fits",
         ""
        ],
        [
         "ref_file.photom.name",
         "crds://jwst_nircam_photom_0112.fits",
         ""
        ],
        [
         "ref_file.readnoise.name",
         "crds://jwst_nircam_readnoise_0204.fits",
         ""
        ],
        [
         "ref_file.regions.name",
         "N/A",
         ""
        ],
        [
         "ref_file.saturation.name",
         "crds://jwst_nircam_saturation_0096.fits",
         ""
        ],
        [
         "ref_file.sflat.name",
         "N/A",
         ""
        ],
        [
         "ref_file.specwcs.name",
         "N/A",
         ""
        ],
        [
         "ref_file.superbias.name",
         "crds://jwst_nircam_superbias_0134.fits",
         ""
        ],
        [
         "ref_file.trapdensity.name",
         "crds://jwst_nircam_trapdensity_0008.fits",
         ""
        ],
        [
         "ref_file.trappars.name",
         "crds://jwst_nircam_trappars_0008.fits",
         ""
        ],
        [
         "ref_file.wavelengthrange.name",
         "N/A",
         ""
        ],
        [
         "resample.pixel_scale_ratio",
         "1.0",
         ""
        ],
        [
         "resample.pixfrac",
         "1.0",
         ""
        ],
        [
         "resample.pointings",
         "20",
         ""
        ],
        [
         "resample.product_exposure_time",
         "3221.0400000000004",
         ""
        ],
        [
         "resample.weight_type",
         "ivm",
         ""
        ],
        [
         "subarray.fastaxis",
         "-1",
         ""
        ],
        [
         "subarray.name",
         "FULL",
         ""
        ],
        [
         "subarray.slowaxis",
         "2",
         ""
        ],
        [
         "subarray.xsize",
         "2048",
         ""
        ],
        [
         "subarray.xstart",
         "1",
         ""
        ],
        [
         "subarray.ysize",
         "2048",
         ""
        ],
        [
         "subarray.ystart",
         "1",
         ""
        ],
        [
         "target.catalog_name",
         "NGC 3324",
         ""
        ],
        [
         "target.dec",
         "-58.62005029179561",
         ""
        ],
        [
         "target.dec_uncertainty",
         "0.1",
         ""
        ],
        [
         "target.proper_motion_dec",
         "0.00354",
         ""
        ],
        [
         "target.proper_motion_epoch",
         "2015-07-02 12:00:00.0000000",
         ""
        ],
        [
         "target.proper_motion_ra",
         "-0.00803497015544707",
         ""
        ],
        [
         "target.proposer_dec",
         "-58.62005277777778",
         ""
        ],
        [
         "target.proposer_name",
         "NGC-3324",
         ""
        ],
        [
         "target.proposer_ra",
         "159.2129125",
         ""
        ],
        [
         "target.ra",
         "159.2129016636661",
         ""
        ],
        [
         "target.ra_uncertainty",
         "0.1",
         ""
        ],
        [
         "target.type",
         "FIXED",
         ""
        ],
        [
         "telescope",
         "JWST",
         ""
        ],
        [
         "time.barycentric_correction",
         "462.4974832171574",
         ""
        ],
        [
         "time.barycentric_expend",
         "59733.62383506401",
         ""
        ],
        [
         "time.barycentric_expmid",
         "59733.62284092994",
         ""
        ],
        [
         "time.barycentric_expstart",
         "59733.62184679587",
         ""
        ],
        [
         "time.heliocentric_correction",
         "461.7016982054338",
         ""
        ],
        [
         "time.heliocentric_expend",
         "59733.62382585345",
         ""
        ],
        [
         "time.heliocentric_expmid",
         "59733.62283171943",
         ""
        ],
        [
         "time.heliocentric_expstart",
         "59733.62183758539",
         ""
        ],
        [
         "time_sys",
         "UTC",
         ""
        ],
        [
         "time_unit",
         "s",
         ""
        ],
        [
         "velocity_aberration.scale_factor",
         "0.9999599070106392",
         ""
        ],
        [
         "velocity_aberration.va_dec_ref",
         "-58.6596185746368",
         ""
        ],
        [
         "velocity_aberration.va_ra_ref",
         "159.2066430273953",
         ""
        ],
        [
         "visit.crowded_field",
         "False",
         ""
        ],
        [
         "visit.engdb_pointing_quality",
         "CALCULATED_TRACK_TR_202111",
         ""
        ],
        [
         "visit.engineering_quality",
         "OK",
         ""
        ],
        [
         "visit.exp_only",
         "False",
         ""
        ],
        [
         "visit.internal_target",
         "False",
         ""
        ],
        [
         "visit.start_time",
         "2022-06-03 13:45:17.7540000",
         ""
        ],
        [
         "visit.status",
         "SUCCESSFUL",
         ""
        ],
        [
         "visit.too_visit",
         "False",
         ""
        ],
        [
         "visit.total_exposures",
         "15",
         ""
        ],
        [
         "visit.tsovisit",
         "False",
         ""
        ],
        [
         "visit.type",
         "PRIME_TARGETED_FIXED",
         ""
        ],
        [
         "wcs",
         "  From     Transform  \n-------- -------------\ndetector CompoundModel\n   world          None",
         ""
        ],
        [
         "wcsinfo.cdelt1",
         "8.712995088333304e-06",
         ""
        ],
        [
         "wcsinfo.cdelt2",
         "8.712995088333304e-06",
         ""
        ],
        [
         "wcsinfo.crpix1",
         "7107.741615279159",
         ""
        ],
        [
         "wcsinfo.crpix2",
         "4217.28891642306",
         ""
        ],
        [
         "wcsinfo.crval1",
         "159.21272462120976",
         ""
        ],
        [
         "wcsinfo.crval2",
         "-58.6204409329473",
         ""
        ],
        [
         "wcsinfo.ctype1",
         "RA---TAN",
         ""
        ],
        [
         "wcsinfo.ctype2",
         "DEC--TAN",
         ""
        ],
        [
         "wcsinfo.cunit1",
         "deg",
         ""
        ],
        [
         "wcsinfo.cunit2",
         "deg",
         ""
        ],
        [
         "wcsinfo.pc1_1",
         "0.2297799212945406",
         ""
        ],
        [
         "wcsinfo.pc1_2",
         "0.9732426150605381",
         ""
        ],
        [
         "wcsinfo.pc2_1",
         "0.9732426150605381",
         ""
        ],
        [
         "wcsinfo.pc2_2",
         "-0.2297799212945406",
         ""
        ],
        [
         "wcsinfo.s_region",
         "POLYGON ICRS  159.116593584 -58.672227952 159.253955911 -58.689116605 159.308388418 -58.568546520 159.171472770 -58.551716022",
         ""
        ],
        [
         "wcsinfo.velosys",
         "12037.28",
         ""
        ],
        [
         "wcsinfo.wcsaxes",
         "2",
         ""
        ]
       ],
       "metadata_filter": null,
       "methods": null,
       "plugin_opened": false,
       "popout_button": "IPY_MODEL_41c5ae76232c44788651409a4dbd15d5",
       "show_primary": false,
       "tabbable": null,
       "template": "IPY_MODEL_e9cf2fc7c18e4b41968154c45509a432",
       "tooltip": null,
       "uses_active_status": false,
       "vdocs": "v3.7.0"
      }
     },
     "91f8c9355c0b4797a908941cbbc139f1": {
      "model_module": "jupyter-vuetify",
      "model_module_version": "^1.8.10",
      "model_name": "VuetifyTemplateModel",
      "state": {
       "_component_instances": [],
       "_dom_classes": [],
       "_jupyter_vue": "IPY_MODEL_28c992a30e9e48598df49b24e8922228",
       "_model_module": "jupyter-vuetify",
       "_model_module_version": "^1.8.10",
       "_model_name": "VuetifyTemplateModel",
       "_view_count": null,
       "_view_module": "jupyter-vuetify",
       "_view_module_version": "^1.8.10",
       "_view_name": "VuetifyView",
       "components": null,
       "css": null,
       "data": null,
       "echo_available": true,
       "events": [],
       "is_displayed": false,
       "kernel_id": "",
       "layout": "IPY_MODEL_5d7ed47e98e14dc6901679c871b1406b",
       "methods": null,
       "open_tab_on_display": false,
       "open_window_on_display": false,
       "tabbable": null,
       "target_model_id": "eb0b57c4d8c44c3e825ff7d55f490d9b",
       "template": "IPY_MODEL_d55e72844de240529f76b5d1b37d37bf",
       "tooltip": null,
       "window_features": "popup,width=800,height=300",
       "window_name": "eb0b57c4d8c44c3e825ff7d55f490d9b"
      }
     },
     "9299c73c0a8e41eab2852ec06aa4ddbd": {
      "model_module": "bqplot-image-gl",
      "model_module_version": "^1.4.11",
      "model_name": "ContourModel",
      "state": {
       "_model_module": "bqplot-image-gl",
       "_model_module_version": "^1.4.11",
       "_model_name": "ContourModel",
       "_view_count": null,
       "_view_module": "bqplot-image-gl",
       "_view_module_version": "^1.4.11",
       "_view_name": "ContourView",
       "apply_clip": true,
       "color": [
        "red",
        "orange",
        "yellow",
        "green",
        "blue"
       ],
       "contour_lines": [],
       "display_legend": false,
       "enable_hover": true,
       "image": null,
       "interactions": {
        "hover": "tooltip"
       },
       "label": [
        "47.37",
        "94.73",
        "142.1",
        "189.5",
        "236.8"
       ],
       "label_steps": 1000,
       "labels": [],
       "level": [
        47.36579895019531,
        94.73159790039062,
        142.09739685058594,
        189.46319580078125,
        236.82899475097656
       ],
       "preserve_domain": {},
       "scales": {
        "image": "IPY_MODEL_0acd9b51e19d4dacb4e96776f3e0807a",
        "x": "IPY_MODEL_e9d182703c7f421db9185b0e14f021b4",
        "y": "IPY_MODEL_2575788ee3b245bca63f200cd5d496ce"
       },
       "scales_metadata": {
        "x": {
         "dimension": "x",
         "orientation": "horizontal"
        },
        "y": {
         "dimension": "y",
         "orientation": "vertical"
        }
       },
       "selected": null,
       "selected_style": {},
       "tooltip": null,
       "tooltip_location": "mouse",
       "tooltip_style": {
        "opacity": 0.9
       },
       "unselected_style": {},
       "visible": false
      }
     },
     "9660eaee78f541f1ba00cf7ca54e0dce": {
      "model_module": "jupyter-vuetify",
      "model_module_version": "^1.8.10",
      "model_name": "VuetifyTemplateModel",
      "state": {
       "_component_instances": [],
       "_dom_classes": [],
       "_jupyter_vue": "IPY_MODEL_28c992a30e9e48598df49b24e8922228",
       "_metadata": {
        "mount_id": "content"
       },
       "_model_module": "jupyter-vuetify",
       "_model_module_version": "^1.8.10",
       "_model_name": "VuetifyTemplateModel",
       "_view_count": null,
       "_view_module": "jupyter-vuetify",
       "_view_module_version": "^1.8.10",
       "_view_name": "VuetifyView",
       "components": null,
       "config": "imviz",
       "css": null,
       "data": null,
       "docs_link": "https://jdaviz.readthedocs.io/en/v3.7.0/imviz/index.html",
       "events": [
        "call_viewer_method",
        "close_snackbar_message",
        "data_item_remove",
        "data_item_unload",
        "data_item_visibility",
        "destroy_viewer_item"
       ],
       "layout": "IPY_MODEL_b44b709812b5445a95de8dd044a6f566",
       "loading": false,
       "methods": null,
       "popout_button": "IPY_MODEL_e97a8cffb28e48dab591705672d1cd2d",
       "state": {
        "data_items": [
         {
          "children": [],
          "id": "0171f27f-4f67-4a21-ae5b-cd417fe0c2f8",
          "locked": false,
          "meta": {},
          "name": "f090w[DATA]",
          "ndims": 2,
          "type": "image"
         },
         {
          "children": [],
          "id": "460c89d7-6e9b-4d2c-b40d-8cfa076bcf90",
          "locked": false,
          "meta": {},
          "name": "f187n[DATA]",
          "ndims": 2,
          "type": "image"
         },
         {
          "children": [],
          "id": "22a35105-af57-48b7-86e2-fabce9103ac8",
          "locked": false,
          "meta": {},
          "name": "f200w[DATA]",
          "ndims": 2,
          "type": "image"
         },
         {
          "children": [],
          "id": "4599fc79-e428-42c0-8e54-a7bcce1d162f",
          "locked": false,
          "meta": {},
          "name": "f335m[DATA]",
          "ndims": 2,
          "type": "image"
         },
         {
          "children": [],
          "id": "8c95fb28-6392-440c-9e5b-4abbc8099beb",
          "locked": false,
          "meta": {},
          "name": "f444w[DATA]",
          "ndims": 2,
          "type": "image"
         },
         {
          "children": [],
          "id": "1997bdf4-b5de-4df9-9d4e-1c25aaec5130",
          "locked": false,
          "meta": {},
          "name": "f470n[DATA]",
          "ndims": 2,
          "type": "image"
         }
        ],
        "drawer": true,
        "icons": {
         "checktoradial": "data:image/svg+xml;base64,PHN2ZyBpZD0iTGF5ZXJfMSIgZGF0YS1uYW1lPSJMYXllciAxIiB4bWxucz0iaHR0cDovL3d3dy53My5vcmcvMjAwMC9zdmciIHZpZXdCb3g9IjAgMCA0MCAyMCI+PGRlZnM+PHN0eWxlPi5jbHMtMXtmaWxsOiMwMTAxMDE7fS5jbHMtMntmaWxsOm5vbmU7fS5jbHMtM3tmaWxsOiMyMzFmMjA7fTwvc3R5bGU+PC9kZWZzPjxwYXRoIGNsYXNzPSJjbHMtMSIgZD0iTTE3LC44M0gzYTIsMiwwLDAsMC0yLDJ2MTRhMiwyLDAsMCwwLDIsMkgxN2EyLDIsMCwwLDAsMi0ydi0xNGEyLDIsMCwwLDAtMi0ybTAsMnYxNEgzdi0xNEgxN20tOSwxMi00LTRMNS40MSw5LjQxLDgsMTJsNi41OS02LjU5TDE2LDYuODMiLz48cGF0aCBjbGFzcz0iY2xzLTIiIGQ9Ik0yOS44Myw1YTUsNSwwLDEsMSwuMzQsMTAsNSw1LDAsMCwxLTMuOTEtMS43MmwtMi40NCwxLjc4YTgsOCwwLDEsMC0uNDEtOS41OGwyLjQzLDEuNzZBNSw1LDAsMCwxLDI5LjgzLDVaIi8+PHBhdGggY2xhc3M9ImNscy0yIiBkPSJNMjAuMzMsMy44NVY3LjQ3YTEwLjEzLDEwLjEzLDAsMCwxLDEuMTgtMi43NloiLz48cGF0aCBjbGFzcz0iY2xzLTEiIGQ9Ik0yOS42NiwwQTEwLDEwLDAsMCwwLDIxLjgsNC4zbDEuNjEsMS4xOGE4LDgsMCwxLDEsLjQxLDkuNThMMjIuMiwxNi4yNEExMCwxMCwwLDEsMCwyOS42NiwwWiIvPjxwb2x5Z29uIGNsYXNzPSJjbHMtMiIgcG9pbnRzPSIyMC44MyAxNiAyOC41IDEwLjQxIDIwLjgzIDQuODMgMjAuODMgOC40MSAyMC41IDguNDEgMjAuNSAxMi40MSAyMC44MyAxMi40MSAyMC44MyAxNiIvPjxwYXRoIGNsYXNzPSJjbHMtMSIgZD0iTTI5LjgzLDVhNSw1LDAsMCwwLTQsMi4yNGwzLjI1LDIuMzcsMS4xMS44MS0xLjExLjgtMi44MywyLjA2QTUsNSwwLDAsMCwzMC4xNywxNWE1LDUsMCwxLDAtLjM0LTEwWiIvPjxwb2x5Z29uIGNsYXNzPSJjbHMtMyIgcG9pbnRzPSIyOC41IDEwLjQxIDIwLjgzIDQuODMgMjAuODMgOC40MSAyMC41IDguNDEgMTcuNSA4LjQxIDE3LjUgMTIuNDEgMjAuNSAxMi40MSAyMC44MyAxMi40MSAyMC44MyAxNiAyOC41IDEwLjQxIi8+PC9zdmc+",
         "radialtocheck": "data:image/svg+xml;base64,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"
        },
        "layer_icons": {
         "f090w[DATA]": "a",
         "f187n[DATA]": "b",
         "f200w[DATA]": "c",
         "f335m[DATA]": "d",
         "f444w[DATA]": "e",
         "f470n[DATA]": "f"
        },
        "logger_overlay": false,
        "settings": {
         "configuration": "imviz",
         "context": {
          "notebook": {
           "max_height": "600px"
          }
         },
         "data": {
          "auto_populate": true,
          "parser": "imviz-data-parser"
         },
         "dense_toolbar": false,
         "layout": {},
         "server_is_remote": false,
         "viewer_labels": true,
         "visible": {
          "menu_bar": false,
          "tab_headers": true,
          "toolbar": true,
          "tray": true
         }
        },
        "snackbar": {
         "color": null,
         "loading": false,
         "show": false,
         "test": "",
         "timeout": 3000
        },
        "snackbar_history": [
         {
          "color": "info",
          "text": "The file contains more viewable extensions. Add the '[*]' suffix to the file name to load all of them.",
          "time": "5:26:27"
         },
         {
          "color": "success",
          "text": "Data 'f090w[DATA]' successfully added.",
          "time": "5:26:29"
         },
         {
          "color": "info",
          "text": "The file contains more viewable extensions. Add the '[*]' suffix to the file name to load all of them.",
          "time": "5:26:29"
         },
         {
          "color": "success",
          "text": "Data 'f187n[DATA]' successfully added.",
          "time": "5:26:29"
         },
         {
          "color": "info",
          "text": "The file contains more viewable extensions. Add the '[*]' suffix to the file name to load all of them.",
          "time": "5:26:29"
         },
         {
          "color": "success",
          "text": "Data 'f200w[DATA]' successfully added.",
          "time": "5:26:29"
         },
         {
          "color": "info",
          "text": "The file contains more viewable extensions. Add the '[*]' suffix to the file name to load all of them.",
          "time": "5:26:29"
         },
         {
          "color": "success",
          "text": "Data 'f335m[DATA]' successfully added.",
          "time": "5:26:30"
         },
         {
          "color": "info",
          "text": "The file contains more viewable extensions. Add the '[*]' suffix to the file name to load all of them.",
          "time": "5:26:30"
         },
         {
          "color": "success",
          "text": "Data 'f444w[DATA]' successfully added.",
          "time": "5:26:30"
         },
         {
          "color": "info",
          "text": "The file contains more viewable extensions. Add the '[*]' suffix to the file name to load all of them.",
          "time": "5:26:30"
         },
         {
          "color": "success",
          "text": "Data 'f470n[DATA]' successfully added.",
          "time": "5:26:30"
         },
         {
          "color": "success",
          "text": "Images successfully relinked",
          "time": "5:26:30"
         },
         {
          "color": "success",
          "text": "Images successfully relinked",
          "time": "5:26:36"
         },
         {
          "color": "success",
          "text": "Images successfully relinked",
          "time": "5:26:37"
         }
        ],
        "stack_items": [
         {
          "children": [
           {
            "children": [],
            "container": "gl-row",
            "id": "443db63c-6388-42d0-a328-ac3c1afee7c4",
            "viewers": [
             {
              "canvas_angle": 0,
              "canvas_flip_horizontal": false,
              "collapse": true,
              "config": "imviz",
              "data_open": false,
              "id": "imviz-0",
              "layer_options": "IPY_MODEL_bd64c6f1f3d4417f9a86d13a7614ef0d",
              "name": "imviz-0",
              "reference": "imviz-0",
              "selected_data_items": {
               "0171f27f-4f67-4a21-ae5b-cd417fe0c2f8": "visible",
               "1997bdf4-b5de-4df9-9d4e-1c25aaec5130": "visible",
               "22a35105-af57-48b7-86e2-fabce9103ac8": "visible",
               "4599fc79-e428-42c0-8e54-a7bcce1d162f": "visible",
               "460c89d7-6e9b-4d2c-b40d-8cfa076bcf90": "visible",
               "8c95fb28-6392-440c-9e5b-4abbc8099beb": "visible"
              },
              "toolbar": "IPY_MODEL_275d732b14f34abd9d9b2ea07f2b1ad7",
              "viewer_options": "IPY_MODEL_77516b22a8964bf08db1d22323f53357",
              "visible_layers": {
               "f090w[DATA]": {
                "color": "#cc7ace",
                "linewidth": 0,
                "prefix_icon": "",
                "suffix_label": ""
               },
               "f187n[DATA]": {
                "color": "#66cfef",
                "linewidth": 0,
                "prefix_icon": "",
                "suffix_label": ""
               },
               "f200w[DATA]": {
                "color": "#61d3e1",
                "linewidth": 0,
                "prefix_icon": "",
                "suffix_label": ""
               },
               "f335m[DATA]": {
                "color": "#afff6b",
                "linewidth": 0,
                "prefix_icon": "",
                "suffix_label": ""
               },
               "f444w[DATA]": {
                "color": "#ff767c",
                "linewidth": 0,
                "prefix_icon": "",
                "suffix_label": ""
               },
               "f470n[DATA]": {
                "color": "#f7787d",
                "linewidth": 0,
                "prefix_icon": "",
                "suffix_label": ""
               }
              },
              "widget": "IPY_MODEL_44eef25b86e6490dbee15ab26e8b1e82"
             }
            ]
           }
          ],
          "container": "gl-col",
          "id": "a935f606-7279-4cb6-ba18-be911c136de3",
          "viewers": []
         }
        ],
        "style_widget": "",
        "tool_items": [
         {
          "name": "g-data-tools",
          "widget": "IPY_MODEL_35a8fa3b3bee43c884b57d258d827192"
         },
         {
          "name": "g-subset-tools",
          "widget": "IPY_MODEL_6f0e83f23cbe4062bde5546957efc51a"
         },
         {
          "name": "g-image-viewer-creator",
          "widget": "IPY_MODEL_0233b948de464a9d830a93dbbda1f150"
         },
         {
          "name": "g-coords-info",
          "widget": "IPY_MODEL_0710c8678de4402fb2bc963cbf88cb57"
         }
        ],
        "tray_items": [
         {
          "label": "Metadata",
          "name": "g-metadata-viewer",
          "widget": "IPY_MODEL_8f976b7160f045b8b8fb1f0e568a937e"
         },
         {
          "label": "Plot Options",
          "name": "g-plot-options",
          "widget": "IPY_MODEL_ab2b61990281415db33e013926124d71"
         },
         {
          "label": "Subset Tools",
          "name": "g-subset-plugin",
          "widget": "IPY_MODEL_0c35f89004f945939aaa9d834b1a2f9b"
         },
         {
          "label": "Markers",
          "name": "g-markers",
          "widget": "IPY_MODEL_d65922e237cd45bfb3099152f2b0dcfd"
         },
         {
          "label": "Links Control",
          "name": "imviz-links-control",
          "widget": "IPY_MODEL_97eb964bf4424461aab18f6478c0991e"
         },
         {
          "label": "Compass",
          "name": "imviz-compass",
          "widget": "IPY_MODEL_1466241de05a497cb0ab95bd3c9e152a"
         },
         {
          "label": "Imviz Line Profiles (XY)",
          "name": "imviz-line-profile-xy",
          "widget": "IPY_MODEL_b1fe1ca9995343a889f18d056aac411e"
         },
         {
          "label": "Imviz Simple Aperture Photometry",
          "name": "imviz-aper-phot-simple",
          "widget": "IPY_MODEL_6a7f5b7bf98d47f99b0151091f07bacc"
         },
         {
          "label": "Catalog Search",
          "name": "imviz-catalogs",
          "widget": "IPY_MODEL_a0be759f3e9b41b5b575868a91e13e96"
         },
         {
          "label": "Footprints",
          "name": "imviz-footprints",
          "widget": "IPY_MODEL_6c6f5c51e1fa4a5a8bd1fd024900a780"
         },
         {
          "label": "Canvas Rotation",
          "name": "imviz-rotate-canvas",
          "widget": "IPY_MODEL_10d1a7a522bc411c9ae78cfc686f92ed"
         },
         {
          "label": "Export Plot",
          "name": "g-export-plot",
          "widget": "IPY_MODEL_64eddf8df68049578536247f292c4d73"
         }
        ],
        "tray_items_filter": "",
        "tray_items_open": [
         4,
         1
        ],
        "viewer_icons": {
         "imviz-0": 1
        }
       },
       "tabbable": null,
       "template": "IPY_MODEL_8a758789d328440da57973e6e8c253e6",
       "tooltip": null,
       "vdocs": "v3.7.0"
      }
     },
     "96ca644c27934fbd89a892c79b305ce4": {
      "model_module": "jupyter-vuetify",
      "model_module_version": "^1.8.5",
      "model_name": "ListItemActionModel",
      "state": {
       "_dom_classes": [],
       "_events": [],
       "_jupyter_vue": "IPY_MODEL_28c992a30e9e48598df49b24e8922228",
       "_metadata": null,
       "_model_module": "jupyter-vuetify",
       "_model_module_version": "^1.8.5",
       "_model_name": "ListItemActionModel",
       "_view_count": null,
       "_view_module": "jupyter-vuetify",
       "_view_module_version": "^1.8.5",
       "_view_name": "VuetifyView",
       "attributes": {},
       "children": [
        "IPY_MODEL_bd5f92ae6a34478496ae5a2994fdb30d"
       ],
       "class_": null,
       "layout": null,
       "slot": null,
       "style_": null,
       "tabbable": null,
       "tooltip": null,
       "v_model": "!!disabled!!",
       "v_on": null,
       "v_slots": []
      }
     },
     "977e168487534032b52d04cac8150582": {
      "model_module": "jupyter-vuetify",
      "model_module_version": "^1.8.5",
      "model_name": "ListItemTitleModel",
      "state": {
       "_dom_classes": [],
       "_events": [],
       "_jupyter_vue": "IPY_MODEL_28c992a30e9e48598df49b24e8922228",
       "_metadata": null,
       "_model_module": "jupyter-vuetify",
       "_model_module_version": "^1.8.5",
       "_model_name": "ListItemTitleModel",
       "_view_count": null,
       "_view_module": "jupyter-vuetify",
       "_view_module_version": "^1.8.5",
       "_view_name": "VuetifyView",
       "attributes": {},
       "children": [
        "add"
       ],
       "class_": null,
       "layout": null,
       "slot": null,
       "style_": null,
       "tabbable": null,
       "tooltip": null,
       "v_model": "!!disabled!!",
       "v_on": null,
       "v_slots": []
      }
     },
     "97eb964bf4424461aab18f6478c0991e": {
      "model_module": "jupyter-vuetify",
      "model_module_version": "^1.8.10",
      "model_name": "VuetifyTemplateModel",
      "state": {
       "_component_instances": [],
       "_dom_classes": [],
       "_jupyter_vue": "IPY_MODEL_28c992a30e9e48598df49b24e8922228",
       "_model_module": "jupyter-vuetify",
       "_model_module_version": "^1.8.10",
       "_model_name": "VuetifyTemplateModel",
       "_view_count": null,
       "_view_module": "jupyter-vuetify",
       "_view_module_version": "^1.8.10",
       "_view_name": "VuetifyView",
       "components": null,
       "config": "imviz",
       "css": null,
       "data": null,
       "disabled_msg": "",
       "docs_link": "",
       "events": [
        "plugin_ping",
        "reset_markers"
       ],
       "is_active": false,
       "keep_active": false,
       "layout": "IPY_MODEL_c63f5bbabe154135ad525471ec0f2461",
       "link_type_items": [
        {
         "label": "Pixels"
        },
        {
         "label": "WCS"
        }
       ],
       "link_type_selected": "WCS",
       "linking_in_progress": false,
       "methods": null,
       "need_clear_markers": false,
       "plugin_opened": false,
       "popout_button": "IPY_MODEL_643462021ab94688aa59cb1eba0b2614",
       "tabbable": null,
       "template": "IPY_MODEL_d0295fae09ec46c4a2bddbd33f2c487b",
       "tooltip": null,
       "uses_active_status": false,
       "vdocs": "v3.7.0",
       "wcs_use_affine": false,
       "wcs_use_fallback": true
      }
     },
     "97eda2e8bd154589a16c84438da86dff": {
      "buffers": [
       {
        "data": "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",
        "encoding": "base64",
        "path": [
         "value"
        ]
       }
      ],
      "model_module": "@jupyter-widgets/controls",
      "model_module_version": "2.0.0",
      "model_name": "ImageModel",
      "state": {
       "_dom_classes": [],
       "_model_module": "@jupyter-widgets/controls",
       "_model_module_version": "2.0.0",
       "_model_name": "ImageModel",
       "_view_count": null,
       "_view_module": "@jupyter-widgets/controls",
       "_view_module_version": "2.0.0",
       "_view_name": "ImageView",
       "format": "svg+xml",
       "height": "",
       "layout": "IPY_MODEL_65171cf0862c4e0f9e46f59a1c981229",
       "tabbable": null,
       "tooltip": null,
       "width": "20"
      }
     },
     "98df570a3a4947c9b314491cffebe10e": {
      "model_module": "jupyter-vuetify",
      "model_module_version": "^1.8.10",
      "model_name": "VuetifyTemplateModel",
      "state": {
       "_component_instances": [],
       "_dom_classes": [],
       "_jupyter_vue": "IPY_MODEL_28c992a30e9e48598df49b24e8922228",
       "_model_module": "jupyter-vuetify",
       "_model_module_version": "^1.8.10",
       "_model_name": "VuetifyTemplateModel",
       "_view_count": null,
       "_view_module": "jupyter-vuetify",
       "_view_module_version": "^1.8.10",
       "_view_name": "VuetifyView",
       "available": [],
       "components": null,
       "css": null,
       "data": null,
       "events": [
        "remove_subset"
       ],
       "layout": "IPY_MODEL_aa07517edbd348c19d9f0e4dd37cb6cb",
       "methods": "{\n        toSubsets(indices) {\n            return indices.map(i => this.available[i]);\n        },\n        deselect() {\n            this.multiple = false;\n            this.selected = [];\n        },\n        toggleSubset(index) {\n            this.selected = this.selected.includes(index)\n                ? this.selected.filter(x => x != index)\n                : this.selected.concat(index);\n            this.handleMultiple();\n        },\n        handleMultiple() {\n            if (!this.multiple && this.selected.length > 1) {\n                this.selected = [this.selected.pop()];\n            }\n        }\n    }",
       "multiple": false,
       "no_selection_text": "No selection (create new)",
       "nr_of_full_names": 2,
       "selected": [],
       "show_allow_multiple_subsets": false,
       "tabbable": null,
       "template": "IPY_MODEL_384413b78a4644fc91d906f433572f45",
       "tooltip": null
      }
     },
     "98edf73435c9457791e1ee38ed2a16c5": {
      "model_module": "@jupyter-widgets/base",
      "model_module_version": "2.0.0",
      "model_name": "LayoutModel",
      "state": {
       "_model_module": "@jupyter-widgets/base",
       "_model_module_version": "2.0.0",
       "_model_name": "LayoutModel",
       "_view_count": null,
       "_view_module": "@jupyter-widgets/base",
       "_view_module_version": "2.0.0",
       "_view_name": "LayoutView",
       "align_content": null,
       "align_items": null,
       "align_self": null,
       "border_bottom": null,
       "border_left": null,
       "border_right": null,
       "border_top": null,
       "bottom": null,
       "display": null,
       "flex": null,
       "flex_flow": null,
       "grid_area": null,
       "grid_auto_columns": null,
       "grid_auto_flow": null,
       "grid_auto_rows": null,
       "grid_column": null,
       "grid_gap": null,
       "grid_row": null,
       "grid_template_areas": null,
       "grid_template_columns": null,
       "grid_template_rows": null,
       "height": null,
       "justify_content": null,
       "justify_items": null,
       "left": null,
       "margin": null,
       "max_height": null,
       "max_width": null,
       "min_height": null,
       "min_width": null,
       "object_fit": null,
       "object_position": null,
       "order": null,
       "overflow": null,
       "padding": null,
       "right": null,
       "top": null,
       "visibility": null,
       "width": null
      }
     },
     "9b46116330404c68be9a805a159ad8bf": {
      "model_module": "jupyter-vuetify",
      "model_module_version": "^1.8.5",
      "model_name": "ListItemActionModel",
      "state": {
       "_dom_classes": [],
       "_events": [],
       "_jupyter_vue": "IPY_MODEL_28c992a30e9e48598df49b24e8922228",
       "_metadata": null,
       "_model_module": "jupyter-vuetify",
       "_model_module_version": "^1.8.5",
       "_model_name": "ListItemActionModel",
       "_view_count": null,
       "_view_module": "jupyter-vuetify",
       "_view_module_version": "^1.8.5",
       "_view_name": "VuetifyView",
       "attributes": {},
       "children": [
        "IPY_MODEL_149dcd9ca9904275b8b08770cd041e2f"
       ],
       "class_": null,
       "layout": null,
       "slot": null,
       "style_": null,
       "tabbable": null,
       "tooltip": null,
       "v_model": "!!disabled!!",
       "v_on": null,
       "v_slots": []
      }
     },
     "9b5e8f03f0544cba9d8dce2eef6d36a4": {
      "model_module": "bqplot",
      "model_module_version": "^0.5",
      "model_name": "LinearScaleModel",
      "state": {
       "_model_module": "bqplot",
       "_model_module_version": "^0.5",
       "_model_name": "LinearScaleModel",
       "_view_count": null,
       "_view_module": "bqplot",
       "_view_module_version": "^0.5",
       "_view_name": "LinearScale",
       "allow_padding": false,
       "max": 1.0,
       "mid_range": 0.8,
       "min": 0.0,
       "min_range": 0.6,
       "reverse": false,
       "stabilized": false
      }
     },
     "9b86c5dfc52c4630bb5585c7a924be5a": {
      "model_module": "@jupyter-widgets/base",
      "model_module_version": "2.0.0",
      "model_name": "LayoutModel",
      "state": {
       "_model_module": "@jupyter-widgets/base",
       "_model_module_version": "2.0.0",
       "_model_name": "LayoutModel",
       "_view_count": null,
       "_view_module": "@jupyter-widgets/base",
       "_view_module_version": "2.0.0",
       "_view_name": "LayoutView",
       "align_content": null,
       "align_items": null,
       "align_self": null,
       "border_bottom": null,
       "border_left": null,
       "border_right": null,
       "border_top": null,
       "bottom": null,
       "display": null,
       "flex": null,
       "flex_flow": null,
       "grid_area": null,
       "grid_auto_columns": null,
       "grid_auto_flow": null,
       "grid_auto_rows": null,
       "grid_column": null,
       "grid_gap": null,
       "grid_row": null,
       "grid_template_areas": null,
       "grid_template_columns": null,
       "grid_template_rows": null,
       "height": null,
       "justify_content": null,
       "justify_items": null,
       "left": null,
       "margin": null,
       "max_height": null,
       "max_width": null,
       "min_height": null,
       "min_width": null,
       "object_fit": null,
       "object_position": null,
       "order": null,
       "overflow": null,
       "padding": null,
       "right": null,
       "top": null,
       "visibility": null,
       "width": null
      }
     },
     "9c1ce464f5e74d4e99c400beb794050f": {
      "model_module": "jupyter-vuetify",
      "model_module_version": "^1.8.10",
      "model_name": "VuetifyTemplateModel",
      "state": {
       "_component_instances": [],
       "_dom_classes": [],
       "_jupyter_vue": "IPY_MODEL_28c992a30e9e48598df49b24e8922228",
       "_model_module": "jupyter-vuetify",
       "_model_module_version": "^1.8.10",
       "_model_name": "VuetifyTemplateModel",
       "_view_count": null,
       "_view_module": "jupyter-vuetify",
       "_view_module_version": "^1.8.10",
       "_view_name": "VuetifyView",
       "components": null,
       "css": null,
       "data": null,
       "echo_available": true,
       "events": [],
       "is_displayed": false,
       "kernel_id": "",
       "layout": "IPY_MODEL_ba8e3019fead4f7d9d1608e23fe14043",
       "methods": null,
       "open_tab_on_display": false,
       "open_window_on_display": false,
       "tabbable": null,
       "target_model_id": "68fcb18e119b43b7814b873aa0ef4b3d",
       "template": "IPY_MODEL_d55e72844de240529f76b5d1b37d37bf",
       "tooltip": null,
       "window_features": "popup,width=800,height=300",
       "window_name": "68fcb18e119b43b7814b873aa0ef4b3d"
      }
     },
     "9c20bcf7b5c14fc0ad028aadebc71cb9": {
      "model_module": "jupyter-vue",
      "model_module_version": "^1.10.1",
      "model_name": "TemplateModel",
      "state": {
       "_model_module": "jupyter-vue",
       "_model_module_version": "^1.10.1",
       "_model_name": "TemplateModel",
       "_view_count": null,
       "_view_module": null,
       "_view_module_version": "",
       "_view_name": null,
       "template": "<template>\n    <div>\n        <v-toolbar dense class=\"elevation-0\">\n            <v-toolbar-items>\n                <jupyter-widget :widget=\"controls.toolbar_selection_tools\"></jupyter-widget>\n                <jupyter-widget :widget=\"controls.toolbar_selection_mode\"></jupyter-widget>\n                <jupyter-widget :widget=\"controls.toolbar_active_subset\"></jupyter-widget>\n                <v-spacer></v-spacer>\n                <v-app-bar-nav-icon @click=\"drawer_open = !drawer_open\"></v-app-bar-nav-icon>\n            </v-toolbar-items>\n        </v-toolbar>\n        <v-row no-gutters>\n            <v-col cols=\"12\">\n                <jupyter-widget :widget=\"controls.figure_widget\"></jupyter-widget>\n            </v-col>\n            <v-col cols=\"12\">\n                <jupyter-widget :widget=\"controls.output_widget\"></jupyter-widget>\n            </v-col>\n        </v-row>\n        <v-navigation-drawer v-model=\"drawer_open\" absolute right width=\"min-content\">\n            <v-app-bar-nav-icon @click=\"drawer_open = !drawer_open\"></v-app-bar-nav-icon>\n            <v-expansion-panels v-model=\"open_panels\" multiple accordion style=\"padding-left: 1px; min-width: 200px\">\n                <v-expansion-panel>\n                    <v-expansion-panel-header class=\"font-weight-bold\">Viewer Options</v-expansion-panel-header>\n                    <v-expansion-panel-content>\n                        <jupyter-widget :widget=\"controls.viewer_options\"></jupyter-widget>\n                    </v-expansion-panel-content>\n                </v-expansion-panel>\n                <v-expansion-panel>\n                    <v-expansion-panel-header class=\"font-weight-bold\">Layer Options</v-expansion-panel-header>\n                    <v-expansion-panel-content>\n                        <jupyter-widget :widget=\"controls.layer_options\"></jupyter-widget>\n                    </v-expansion-panel-content>\n                </v-expansion-panel>\n            </v-expansion-panels>\n        </v-navigation-drawer>\n    </div>\n</template>\n"
      }
     },
     "9d1588920aab4b6381c6ff7a3eaae9a2": {
      "model_module": "jupyter-vuetify",
      "model_module_version": "^1.8.5",
      "model_name": "ListItemTitleModel",
      "state": {
       "_dom_classes": [],
       "_events": [],
       "_jupyter_vue": "IPY_MODEL_28c992a30e9e48598df49b24e8922228",
       "_metadata": null,
       "_model_module": "jupyter-vuetify",
       "_model_module_version": "^1.8.5",
       "_model_name": "ListItemTitleModel",
       "_view_count": null,
       "_view_module": "jupyter-vuetify",
       "_view_module_version": "^1.8.5",
       "_view_name": "VuetifyView",
       "attributes": {},
       "children": [
        "and"
       ],
       "class_": null,
       "layout": null,
       "slot": null,
       "style_": null,
       "tabbable": null,
       "tooltip": null,
       "v_model": "!!disabled!!",
       "v_on": null,
       "v_slots": []
      }
     },
     "9e34f2965b3f47168df9e88e38233266": {
      "model_module": "@jupyter-widgets/base",
      "model_module_version": "2.0.0",
      "model_name": "LayoutModel",
      "state": {
       "_model_module": "@jupyter-widgets/base",
       "_model_module_version": "2.0.0",
       "_model_name": "LayoutModel",
       "_view_count": null,
       "_view_module": "@jupyter-widgets/base",
       "_view_module_version": "2.0.0",
       "_view_name": "LayoutView",
       "align_content": null,
       "align_items": null,
       "align_self": null,
       "border_bottom": null,
       "border_left": null,
       "border_right": null,
       "border_top": null,
       "bottom": null,
       "display": null,
       "flex": null,
       "flex_flow": null,
       "grid_area": null,
       "grid_auto_columns": null,
       "grid_auto_flow": null,
       "grid_auto_rows": null,
       "grid_column": null,
       "grid_gap": null,
       "grid_row": null,
       "grid_template_areas": null,
       "grid_template_columns": null,
       "grid_template_rows": null,
       "height": null,
       "justify_content": null,
       "justify_items": null,
       "left": null,
       "margin": null,
       "max_height": null,
       "max_width": null,
       "min_height": null,
       "min_width": null,
       "object_fit": null,
       "object_position": null,
       "order": null,
       "overflow": null,
       "padding": null,
       "right": null,
       "top": null,
       "visibility": null,
       "width": null
      }
     },
     "9ec2bcc379e34754a9535a05cff412aa": {
      "model_module": "@jupyter-widgets/base",
      "model_module_version": "2.0.0",
      "model_name": "LayoutModel",
      "state": {
       "_model_module": "@jupyter-widgets/base",
       "_model_module_version": "2.0.0",
       "_model_name": "LayoutModel",
       "_view_count": null,
       "_view_module": "@jupyter-widgets/base",
       "_view_module_version": "2.0.0",
       "_view_name": "LayoutView",
       "align_content": null,
       "align_items": null,
       "align_self": null,
       "border_bottom": null,
       "border_left": null,
       "border_right": null,
       "border_top": null,
       "bottom": null,
       "display": null,
       "flex": null,
       "flex_flow": null,
       "grid_area": null,
       "grid_auto_columns": null,
       "grid_auto_flow": null,
       "grid_auto_rows": null,
       "grid_column": null,
       "grid_gap": null,
       "grid_row": null,
       "grid_template_areas": null,
       "grid_template_columns": null,
       "grid_template_rows": null,
       "height": null,
       "justify_content": null,
       "justify_items": null,
       "left": null,
       "margin": null,
       "max_height": null,
       "max_width": null,
       "min_height": null,
       "min_width": null,
       "object_fit": null,
       "object_position": null,
       "order": null,
       "overflow": null,
       "padding": null,
       "right": null,
       "top": null,
       "visibility": null,
       "width": null
      }
     },
     "9ed1f069662a480bbd099250b0e90bef": {
      "model_module": "jupyter-vuetify",
      "model_module_version": "^1.8.5",
      "model_name": "ListItemModel",
      "state": {
       "_dom_classes": [],
       "_events": [
        "click"
       ],
       "_jupyter_vue": "IPY_MODEL_28c992a30e9e48598df49b24e8922228",
       "_metadata": null,
       "_model_module": "jupyter-vuetify",
       "_model_module_version": "^1.8.5",
       "_model_name": "ListItemModel",
       "_view_count": null,
       "_view_module": "jupyter-vuetify",
       "_view_module_version": "^1.8.5",
       "_view_name": "VuetifyView",
       "active_class": null,
       "append": null,
       "attributes": {},
       "children": [
        "IPY_MODEL_f0f3fdeceb0f4b20995b04aba8e7d8d4",
        "IPY_MODEL_37b2cd608c164cb9817c3fd939b1f5ca"
       ],
       "class_": null,
       "color": null,
       "dark": null,
       "dense": null,
       "disabled": null,
       "exact": null,
       "exact_active_class": null,
       "href": null,
       "inactive": null,
       "input_value": null,
       "layout": null,
       "light": null,
       "link": null,
       "nuxt": null,
       "replace": null,
       "ripple": null,
       "selectable": null,
       "slot": null,
       "style_": null,
       "tabbable": null,
       "tag": null,
       "target": null,
       "three_line": null,
       "to": null,
       "tooltip": null,
       "two_line": null,
       "v_model": "!!disabled!!",
       "v_on": null,
       "v_slots": [],
       "value": null
      }
     },
     "9eeee406ade447fd97df4c8dfee5de13": {
      "model_module": "jupyter-vuetify",
      "model_module_version": "^1.8.5",
      "model_name": "ListItemActionModel",
      "state": {
       "_dom_classes": [],
       "_events": [],
       "_jupyter_vue": "IPY_MODEL_28c992a30e9e48598df49b24e8922228",
       "_metadata": null,
       "_model_module": "jupyter-vuetify",
       "_model_module_version": "^1.8.5",
       "_model_name": "ListItemActionModel",
       "_view_count": null,
       "_view_module": "jupyter-vuetify",
       "_view_module_version": "^1.8.5",
       "_view_name": "VuetifyView",
       "attributes": {},
       "children": [
        "IPY_MODEL_8b7e1b09e9a8461da6127c38c9b853ad"
       ],
       "class_": null,
       "layout": null,
       "slot": null,
       "style_": null,
       "tabbable": null,
       "tooltip": null,
       "v_model": "!!disabled!!",
       "v_on": null,
       "v_slots": []
      }
     },
     "a0be759f3e9b41b5b575868a91e13e96": {
      "model_module": "jupyter-vuetify",
      "model_module_version": "^1.8.10",
      "model_name": "VuetifyTemplateModel",
      "state": {
       "_component_instances": [],
       "_dom_classes": [],
       "_jupyter_vue": "IPY_MODEL_28c992a30e9e48598df49b24e8922228",
       "_model_module": "jupyter-vuetify",
       "_model_module_version": "^1.8.10",
       "_model_name": "VuetifyTemplateModel",
       "_view_count": null,
       "_view_module": "jupyter-vuetify",
       "_view_module_version": "^1.8.10",
       "_view_name": "VuetifyView",
       "catalog_items": [
        {
         "label": "SDSS"
        },
        {
         "label": "From File..."
        }
       ],
       "catalog_selected": "SDSS",
       "components": {
        "g-file-import": "IPY_MODEL_d6834c6d753649a685589118427a02f4"
       },
       "config": "imviz",
       "css": null,
       "data": null,
       "disabled_msg": "",
       "docs_link": "",
       "events": [
        "do_clear",
        "do_search",
        "file_import_accept",
        "file_import_cancel",
        "plugin_ping"
       ],
       "from_file": "",
       "from_file_message": "",
       "is_active": false,
       "keep_active": false,
       "layout": "IPY_MODEL_a0d813b9a4334f71926d7563e0fc8833",
       "methods": null,
       "number_of_results": 0,
       "plugin_opened": false,
       "popout_button": "IPY_MODEL_cd8d6ba7fab9480686adac12b9178a9d",
       "results_available": false,
       "tabbable": null,
       "template": "IPY_MODEL_6ea5eed81cc3449fb54fb224515fa717",
       "tooltip": null,
       "uses_active_status": false,
       "vdocs": "v3.7.0",
       "viewer_items": [
        {
         "icon": 1,
         "id": "imviz-0",
         "label": "imviz-0",
         "reference": "imviz-0"
        }
       ],
       "viewer_multiselect": false,
       "viewer_selected": "imviz-0"
      }
     },
     "a0d813b9a4334f71926d7563e0fc8833": {
      "model_module": "@jupyter-widgets/base",
      "model_module_version": "2.0.0",
      "model_name": "LayoutModel",
      "state": {
       "_model_module": "@jupyter-widgets/base",
       "_model_module_version": "2.0.0",
       "_model_name": "LayoutModel",
       "_view_count": null,
       "_view_module": "@jupyter-widgets/base",
       "_view_module_version": "2.0.0",
       "_view_name": "LayoutView",
       "align_content": null,
       "align_items": null,
       "align_self": null,
       "border_bottom": null,
       "border_left": null,
       "border_right": null,
       "border_top": null,
       "bottom": null,
       "display": null,
       "flex": null,
       "flex_flow": null,
       "grid_area": null,
       "grid_auto_columns": null,
       "grid_auto_flow": null,
       "grid_auto_rows": null,
       "grid_column": null,
       "grid_gap": null,
       "grid_row": null,
       "grid_template_areas": null,
       "grid_template_columns": null,
       "grid_template_rows": null,
       "height": null,
       "justify_content": null,
       "justify_items": null,
       "left": null,
       "margin": null,
       "max_height": null,
       "max_width": null,
       "min_height": null,
       "min_width": null,
       "object_fit": null,
       "object_position": null,
       "order": null,
       "overflow": null,
       "padding": null,
       "right": null,
       "top": null,
       "visibility": null,
       "width": null
      }
     },
     "a36973bf25a64147ab107ee8241635da": {
      "model_module": "@jupyter-widgets/base",
      "model_module_version": "2.0.0",
      "model_name": "LayoutModel",
      "state": {
       "_model_module": "@jupyter-widgets/base",
       "_model_module_version": "2.0.0",
       "_model_name": "LayoutModel",
       "_view_count": null,
       "_view_module": "@jupyter-widgets/base",
       "_view_module_version": "2.0.0",
       "_view_name": "LayoutView",
       "align_content": null,
       "align_items": null,
       "align_self": null,
       "border_bottom": null,
       "border_left": null,
       "border_right": null,
       "border_top": null,
       "bottom": null,
       "display": null,
       "flex": null,
       "flex_flow": null,
       "grid_area": null,
       "grid_auto_columns": null,
       "grid_auto_flow": null,
       "grid_auto_rows": null,
       "grid_column": null,
       "grid_gap": null,
       "grid_row": null,
       "grid_template_areas": null,
       "grid_template_columns": null,
       "grid_template_rows": null,
       "height": null,
       "justify_content": null,
       "justify_items": null,
       "left": null,
       "margin": null,
       "max_height": null,
       "max_width": null,
       "min_height": null,
       "min_width": null,
       "object_fit": null,
       "object_position": null,
       "order": null,
       "overflow": null,
       "padding": null,
       "right": null,
       "top": null,
       "visibility": null,
       "width": null
      }
     },
     "a3aaf9c0fc2942dd8be1170cca005057": {
      "model_module": "@jupyter-widgets/base",
      "model_module_version": "2.0.0",
      "model_name": "LayoutModel",
      "state": {
       "_model_module": "@jupyter-widgets/base",
       "_model_module_version": "2.0.0",
       "_model_name": "LayoutModel",
       "_view_count": null,
       "_view_module": "@jupyter-widgets/base",
       "_view_module_version": "2.0.0",
       "_view_name": "LayoutView",
       "align_content": null,
       "align_items": null,
       "align_self": null,
       "border_bottom": null,
       "border_left": null,
       "border_right": null,
       "border_top": null,
       "bottom": null,
       "display": null,
       "flex": null,
       "flex_flow": null,
       "grid_area": null,
       "grid_auto_columns": null,
       "grid_auto_flow": null,
       "grid_auto_rows": null,
       "grid_column": null,
       "grid_gap": null,
       "grid_row": null,
       "grid_template_areas": null,
       "grid_template_columns": null,
       "grid_template_rows": null,
       "height": null,
       "justify_content": null,
       "justify_items": null,
       "left": null,
       "margin": null,
       "max_height": null,
       "max_width": null,
       "min_height": null,
       "min_width": null,
       "object_fit": null,
       "object_position": null,
       "order": null,
       "overflow": null,
       "padding": null,
       "right": null,
       "top": null,
       "visibility": null,
       "width": null
      }
     },
     "a41a07d8fc9d4d9bb1af91261b44c06b": {
      "model_module": "jupyter-vuetify",
      "model_module_version": "^1.8.5",
      "model_name": "ListItemTitleModel",
      "state": {
       "_dom_classes": [],
       "_events": [],
       "_jupyter_vue": "IPY_MODEL_28c992a30e9e48598df49b24e8922228",
       "_metadata": null,
       "_model_module": "jupyter-vuetify",
       "_model_module_version": "^1.8.5",
       "_model_name": "ListItemTitleModel",
       "_view_count": null,
       "_view_module": "jupyter-vuetify",
       "_view_module_version": "^1.8.5",
       "_view_name": "VuetifyView",
       "attributes": {},
       "children": [
        "add"
       ],
       "class_": null,
       "layout": null,
       "slot": null,
       "style_": null,
       "tabbable": null,
       "tooltip": null,
       "v_model": "!!disabled!!",
       "v_on": null,
       "v_slots": []
      }
     },
     "a66d29f104a845e6935986e4c85061ea": {
      "model_module": "jupyter-vuetify",
      "model_module_version": "^1.8.10",
      "model_name": "VuetifyTemplateModel",
      "state": {
       "_component_instances": [],
       "_dom_classes": [],
       "_jupyter_vue": "IPY_MODEL_28c992a30e9e48598df49b24e8922228",
       "_model_module": "jupyter-vuetify",
       "_model_module_version": "^1.8.10",
       "_model_name": "VuetifyTemplateModel",
       "_view_count": null,
       "_view_module": "jupyter-vuetify",
       "_view_module_version": "^1.8.10",
       "_view_name": "VuetifyView",
       "components": null,
       "css": null,
       "data": null,
       "echo_available": true,
       "events": [],
       "is_displayed": false,
       "kernel_id": "",
       "layout": "IPY_MODEL_8233e4277b1d4b1891b952706f8b5481",
       "methods": null,
       "open_tab_on_display": false,
       "open_window_on_display": false,
       "tabbable": null,
       "target_model_id": "6c6f5c51e1fa4a5a8bd1fd024900a780",
       "template": "IPY_MODEL_d55e72844de240529f76b5d1b37d37bf",
       "tooltip": null,
       "window_features": "popup,width=400,height=600",
       "window_name": "6c6f5c51e1fa4a5a8bd1fd024900a780"
      }
     },
     "a721a13d70a440e5aaec597ad6e7b53c": {
      "model_module": "jupyter-vuetify",
      "model_module_version": "^1.8.10",
      "model_name": "VuetifyTemplateModel",
      "state": {
       "_component_instances": [],
       "_dom_classes": [],
       "_jupyter_vue": "IPY_MODEL_28c992a30e9e48598df49b24e8922228",
       "_model_module": "jupyter-vuetify",
       "_model_module_version": "^1.8.10",
       "_model_name": "VuetifyTemplateModel",
       "_view_count": null,
       "_view_module": "jupyter-vuetify",
       "_view_module_version": "^1.8.10",
       "_view_name": "VuetifyView",
       "attribute_items": [
        {
         "text": "DATA",
         "value": 0
        }
       ],
       "attribute_selected": 0,
       "c_levels_error": "",
       "c_levels_txt": "",
       "color_mode": "One color per layer",
       "colormap_items": [
        {
         "text": "Gray",
         "value": "gray"
        },
        {
         "text": "Viridis",
         "value": "viridis"
        },
        {
         "text": "Plasma",
         "value": "plasma"
        },
        {
         "text": "Inferno",
         "value": "inferno"
        },
        {
         "text": "Magma",
         "value": "magma"
        },
        {
         "text": "Purple-Blue",
         "value": "PuBu"
        },
        {
         "text": "Yellow-Green-Blue",
         "value": "YlGnBu"
        },
        {
         "text": "Yellow-Orange-Red",
         "value": "YlOrRd"
        },
        {
         "text": "Red-Purple",
         "value": "RdPu"
        },
        {
         "text": "Blue-Green",
         "value": "BuGn"
        },
        {
         "text": "Hot",
         "value": "hot"
        },
        {
         "text": "Red-Blue",
         "value": "RdBu"
        },
        {
         "text": "Red-Yellow-Blue",
         "value": "RdYlBu"
        },
        {
         "text": "Purple-Orange",
         "value": "PuOr"
        },
        {
         "text": "Purple-Green",
         "value": "PRGn"
        },
        {
         "text": "Rainbow",
         "value": "rainbow"
        },
        {
         "text": "Seismic",
         "value": "seismic"
        },
        {
         "text": "Reversed: Gray",
         "value": "gray_r"
        },
        {
         "text": "Reversed: Viridis",
         "value": "viridis_r"
        },
        {
         "text": "Reversed: Plasma",
         "value": "plasma_r"
        },
        {
         "text": "Reversed: Inferno",
         "value": "inferno_r"
        },
        {
         "text": "Reversed: Magma",
         "value": "magma_r"
        },
        {
         "text": "Reversed: Hot",
         "value": "hot_r"
        },
        {
         "text": "Reversed: Rainbow",
         "value": "rainbow_r"
        }
       ],
       "components": null,
       "css": null,
       "data": null,
       "events": [
        "set_colormap"
       ],
       "glue_state": {
        "alpha": 0.18,
        "attribute": "611cfa3b-ebb5-42d2-b5c7-ba9bce8b51a4",
        "bias": 0.56,
        "bitmap_visible": true,
        "c_max": 284.1947937011719,
        "c_min": 0.0,
        "cmap": "gray",
        "color": "#ff767c",
        "contour_colors": [
         "red",
         "orange",
         "yellow",
         "green",
         "blue"
        ],
        "contour_percentile": 100,
        "contour_visible": false,
        "contrast": 1.77,
        "global_sync": false,
        "labels": [
         "47.37",
         "94.73",
         "142.1",
         "189.5",
         "236.8"
        ],
        "layer": "611cfa3b-ebb5-42d2-b5c7-ba9bce8b51a4",
        "level_mode": "Linear",
        "levels": [
         47.36579895019531,
         94.73159790039062,
         142.09739685058594,
         189.46319580078125,
         236.82899475097656
        ],
        "n_levels": 5,
        "percentile": "Custom",
        "stretch": "linear",
        "v_max": 10.0,
        "v_min": 0.0,
        "visible": true,
        "zorder": 5
       },
       "has_contour": true,
       "layout": "IPY_MODEL_affd60d4f96e4c2b9e4c578816c00765",
       "methods": null,
       "percentile_items": [
        {
         "text": "Min/Max",
         "value": 0
        },
        {
         "text": "99.5%",
         "value": 1
        },
        {
         "text": "99%",
         "value": 2
        },
        {
         "text": "95%",
         "value": 3
        },
        {
         "text": "90%",
         "value": 4
        },
        {
         "text": "Custom",
         "value": 5
        }
       ],
       "percentile_selected": 5,
       "stretch_items": [
        {
         "text": "Linear",
         "value": 0
        },
        {
         "text": "Square Root",
         "value": 1
        },
        {
         "text": "Arcsinh",
         "value": 2
        },
        {
         "text": "Logarithmic",
         "value": 3
        }
       ],
       "stretch_selected": 0,
       "tabbable": null,
       "template": "IPY_MODEL_c96086e872174c0da0a6b7ea39154936",
       "tooltip": null
      }
     },
     "a7b72f1b74f94b00a30af8ea18dcead4": {
      "model_module": "@jupyter-widgets/controls",
      "model_module_version": "2.0.0",
      "model_name": "GridBoxModel",
      "state": {
       "_dom_classes": [],
       "_model_module": "@jupyter-widgets/controls",
       "_model_module_version": "2.0.0",
       "_model_name": "GridBoxModel",
       "_view_count": null,
       "_view_module": "@jupyter-widgets/controls",
       "_view_module_version": "2.0.0",
       "_view_name": "GridBoxView",
       "box_style": "",
       "children": [
        "IPY_MODEL_79e8ec920e3545c8a6dbbce0d0a71fd9",
        "IPY_MODEL_43fde0142d2a455dbdc035f3b952b81e"
       ],
       "layout": "IPY_MODEL_706c0887f42e48f796656c1ef6b0369b",
       "tabbable": null,
       "tooltip": null
      }
     },
     "a81317ca1fa34eb384258afa084ebdd3": {
      "model_module": "jupyter-vuetify",
      "model_module_version": "^1.8.5",
      "model_name": "ListItemModel",
      "state": {
       "_dom_classes": [],
       "_events": [
        "click"
       ],
       "_jupyter_vue": "IPY_MODEL_28c992a30e9e48598df49b24e8922228",
       "_metadata": null,
       "_model_module": "jupyter-vuetify",
       "_model_module_version": "^1.8.5",
       "_model_name": "ListItemModel",
       "_view_count": null,
       "_view_module": "jupyter-vuetify",
       "_view_module_version": "^1.8.5",
       "_view_name": "VuetifyView",
       "active_class": null,
       "append": null,
       "attributes": {},
       "children": [
        "IPY_MODEL_c22d86f78d3f468ebd64d415bef56c39",
        "IPY_MODEL_8004002bdce94c3280e7a8fe61cc455c"
       ],
       "class_": null,
       "color": null,
       "dark": null,
       "dense": null,
       "disabled": null,
       "exact": null,
       "exact_active_class": null,
       "href": null,
       "inactive": null,
       "input_value": null,
       "layout": null,
       "light": null,
       "link": null,
       "nuxt": null,
       "replace": null,
       "ripple": null,
       "selectable": null,
       "slot": null,
       "style_": null,
       "tabbable": null,
       "tag": null,
       "target": null,
       "three_line": null,
       "to": null,
       "tooltip": null,
       "two_line": null,
       "v_model": "!!disabled!!",
       "v_on": null,
       "v_slots": [],
       "value": null
      }
     },
     "a8d5ff6f8761405f8ea4769e9673f2bf": {
      "model_module": "@jupyter-widgets/base",
      "model_module_version": "2.0.0",
      "model_name": "LayoutModel",
      "state": {
       "_model_module": "@jupyter-widgets/base",
       "_model_module_version": "2.0.0",
       "_model_name": "LayoutModel",
       "_view_count": null,
       "_view_module": "@jupyter-widgets/base",
       "_view_module_version": "2.0.0",
       "_view_name": "LayoutView",
       "align_content": null,
       "align_items": null,
       "align_self": null,
       "border_bottom": null,
       "border_left": null,
       "border_right": null,
       "border_top": null,
       "bottom": null,
       "display": null,
       "flex": null,
       "flex_flow": null,
       "grid_area": null,
       "grid_auto_columns": null,
       "grid_auto_flow": null,
       "grid_auto_rows": null,
       "grid_column": null,
       "grid_gap": null,
       "grid_row": null,
       "grid_template_areas": null,
       "grid_template_columns": null,
       "grid_template_rows": null,
       "height": null,
       "justify_content": null,
       "justify_items": null,
       "left": null,
       "margin": null,
       "max_height": null,
       "max_width": null,
       "min_height": null,
       "min_width": null,
       "object_fit": null,
       "object_position": null,
       "order": null,
       "overflow": null,
       "padding": null,
       "right": null,
       "top": null,
       "visibility": null,
       "width": null
      }
     },
     "a9eef78428d14094be14f57fc919cc03": {
      "model_module": "jupyter-vuetify",
      "model_module_version": "^1.8.5",
      "model_name": "ListModel",
      "state": {
       "_dom_classes": [],
       "_events": [],
       "_jupyter_vue": "IPY_MODEL_28c992a30e9e48598df49b24e8922228",
       "_metadata": null,
       "_model_module": "jupyter-vuetify",
       "_model_module_version": "^1.8.5",
       "_model_name": "ListModel",
       "_view_count": null,
       "_view_module": "jupyter-vuetify",
       "_view_module_version": "^1.8.5",
       "_view_name": "VuetifyView",
       "attributes": {},
       "children": [
        "IPY_MODEL_9ed1f069662a480bbd099250b0e90bef",
        "IPY_MODEL_d14555cb60204b37b9b5f1b3470e936b",
        "IPY_MODEL_3c39ccb251f94b078682f8e35eed4e20",
        "IPY_MODEL_dd38559cc75048fda679119d7aa29160",
        "IPY_MODEL_80f1a3798cdb427187e69750a5c0a7d2"
       ],
       "class_": null,
       "color": null,
       "dark": null,
       "dense": null,
       "disabled": null,
       "elevation": null,
       "expand": null,
       "flat": null,
       "height": null,
       "layout": null,
       "light": null,
       "max_height": null,
       "max_width": null,
       "min_height": null,
       "min_width": null,
       "nav": null,
       "rounded": null,
       "shaped": null,
       "slot": null,
       "style_": null,
       "subheader": null,
       "tabbable": null,
       "tag": null,
       "three_line": null,
       "tile": null,
       "tooltip": null,
       "two_line": null,
       "v_model": "!!disabled!!",
       "v_on": null,
       "v_slots": [],
       "width": null
      }
     },
     "aa07517edbd348c19d9f0e4dd37cb6cb": {
      "model_module": "@jupyter-widgets/base",
      "model_module_version": "2.0.0",
      "model_name": "LayoutModel",
      "state": {
       "_model_module": "@jupyter-widgets/base",
       "_model_module_version": "2.0.0",
       "_model_name": "LayoutModel",
       "_view_count": null,
       "_view_module": "@jupyter-widgets/base",
       "_view_module_version": "2.0.0",
       "_view_name": "LayoutView",
       "align_content": null,
       "align_items": null,
       "align_self": null,
       "border_bottom": null,
       "border_left": null,
       "border_right": null,
       "border_top": null,
       "bottom": null,
       "display": null,
       "flex": null,
       "flex_flow": null,
       "grid_area": null,
       "grid_auto_columns": null,
       "grid_auto_flow": null,
       "grid_auto_rows": null,
       "grid_column": null,
       "grid_gap": null,
       "grid_row": null,
       "grid_template_areas": null,
       "grid_template_columns": null,
       "grid_template_rows": null,
       "height": null,
       "justify_content": null,
       "justify_items": null,
       "left": null,
       "margin": null,
       "max_height": null,
       "max_width": null,
       "min_height": null,
       "min_width": null,
       "object_fit": null,
       "object_position": null,
       "order": null,
       "overflow": null,
       "padding": null,
       "right": null,
       "top": null,
       "visibility": null,
       "width": null
      }
     },
     "ab2b61990281415db33e013926124d71": {
      "model_module": "jupyter-vuetify",
      "model_module_version": "^1.8.10",
      "model_name": "VuetifyTemplateModel",
      "state": {
       "_component_instances": [],
       "_dom_classes": [],
       "_jupyter_vue": "IPY_MODEL_28c992a30e9e48598df49b24e8922228",
       "_model_module": "jupyter-vuetify",
       "_model_module_version": "^1.8.10",
       "_model_name": "VuetifyTemplateModel",
       "_view_count": null,
       "_view_module": "jupyter-vuetify",
       "_view_module_version": "^1.8.10",
       "_view_name": "VuetifyView",
       "axes_visible_sync": {
        "icons": [
         1
        ],
        "in_subscribed_states": true,
        "mixed": false
       },
       "axes_visible_value": false,
       "collapse_func_sync": {
        "icons": [],
        "in_subscribed_states": false,
        "mixed": false
       },
       "collapse_func_value": "",
       "components": null,
       "config": "imviz",
       "contour_custom_levels_sync": {
        "icons": [
         "f"
        ],
        "in_subscribed_states": true,
        "mixed": false
       },
       "contour_custom_levels_txt": "",
       "contour_custom_levels_value": [
        38.05860392252604,
        76.11720784505208,
        114.17581176757812,
        152.23441569010416,
        190.2930196126302
       ],
       "contour_max_sync": {
        "icons": [
         "f"
        ],
        "in_subscribed_states": true,
        "mixed": false
       },
       "contour_max_value": 228.35162353515625,
       "contour_min_sync": {
        "icons": [
         "f"
        ],
        "in_subscribed_states": true,
        "mixed": false
       },
       "contour_min_value": 0.0,
       "contour_mode_sync": {
        "choices": [
         {
          "text": "Linear",
          "value": "Linear"
         },
         {
          "text": "Custom",
          "value": "Custom"
         }
        ],
        "icons": [
         "f"
        ],
        "in_subscribed_states": true,
        "mixed": false
       },
       "contour_mode_value": "Linear",
       "contour_nlevels_sync": {
        "icons": [
         "f"
        ],
        "in_subscribed_states": true,
        "mixed": false
       },
       "contour_nlevels_value": 5,
       "contour_spinner": false,
       "contour_visible_sync": {
        "icons": [
         "f"
        ],
        "in_subscribed_states": true,
        "mixed": false
       },
       "contour_visible_value": false,
       "css": null,
       "data": null,
       "disabled_msg": "",
       "docs_link": "",
       "events": [
        "plugin_ping",
        "set_value",
        "unmix_state"
       ],
       "icon_checktoradial": "data:image/svg+xml;base64,PHN2ZyBpZD0iTGF5ZXJfMSIgZGF0YS1uYW1lPSJMYXllciAxIiB4bWxucz0iaHR0cDovL3d3dy53My5vcmcvMjAwMC9zdmciIHZpZXdCb3g9IjAgMCA0MCAyMCI+PGRlZnM+PHN0eWxlPi5jbHMtMXtmaWxsOiMwMTAxMDE7fS5jbHMtMntmaWxsOm5vbmU7fS5jbHMtM3tmaWxsOiMyMzFmMjA7fTwvc3R5bGU+PC9kZWZzPjxwYXRoIGNsYXNzPSJjbHMtMSIgZD0iTTE3LC44M0gzYTIsMiwwLDAsMC0yLDJ2MTRhMiwyLDAsMCwwLDIsMkgxN2EyLDIsMCwwLDAsMi0ydi0xNGEyLDIsMCwwLDAtMi0ybTAsMnYxNEgzdi0xNEgxN20tOSwxMi00LTRMNS40MSw5LjQxLDgsMTJsNi41OS02LjU5TDE2LDYuODMiLz48cGF0aCBjbGFzcz0iY2xzLTIiIGQ9Ik0yOS44Myw1YTUsNSwwLDEsMSwuMzQsMTAsNSw1LDAsMCwxLTMuOTEtMS43MmwtMi40NCwxLjc4YTgsOCwwLDEsMC0uNDEtOS41OGwyLjQzLDEuNzZBNSw1LDAsMCwxLDI5LjgzLDVaIi8+PHBhdGggY2xhc3M9ImNscy0yIiBkPSJNMjAuMzMsMy44NVY3LjQ3YTEwLjEzLDEwLjEzLDAsMCwxLDEuMTgtMi43NloiLz48cGF0aCBjbGFzcz0iY2xzLTEiIGQ9Ik0yOS42NiwwQTEwLDEwLDAsMCwwLDIxLjgsNC4zbDEuNjEsMS4xOGE4LDgsMCwxLDEsLjQxLDkuNThMMjIuMiwxNi4yNEExMCwxMCwwLDEsMCwyOS42NiwwWiIvPjxwb2x5Z29uIGNsYXNzPSJjbHMtMiIgcG9pbnRzPSIyMC44MyAxNiAyOC41IDEwLjQxIDIwLjgzIDQuODMgMjAuODMgOC40MSAyMC41IDguNDEgMjAuNSAxMi40MSAyMC44MyAxMi40MSAyMC44MyAxNiIvPjxwYXRoIGNsYXNzPSJjbHMtMSIgZD0iTTI5LjgzLDVhNSw1LDAsMCwwLTQsMi4yNGwzLjI1LDIuMzcsMS4xMS44MS0xLjExLjgtMi44MywyLjA2QTUsNSwwLDAsMCwzMC4xNywxNWE1LDUsMCwxLDAtLjM0LTEwWiIvPjxwb2x5Z29uIGNsYXNzPSJjbHMtMyIgcG9pbnRzPSIyOC41IDEwLjQxIDIwLjgzIDQuODMgMjAuODMgOC40MSAyMC41IDguNDEgMTcuNSA4LjQxIDE3LjUgMTIuNDEgMjAuNSAxMi40MSAyMC44MyAxMi40MSAyMC44MyAxNiAyOC41IDEwLjQxIi8+PC9zdmc+",
       "icon_radialtocheck": "data:image/svg+xml;base64,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",
       "image_bias_sync": {
        "icons": [
         "f"
        ],
        "in_subscribed_states": true,
        "mixed": false
       },
       "image_bias_value": 0.27,
       "image_color_mode_sync": {
        "choices": [
         {
          "text": "Colormap",
          "value": "Colormaps"
         },
         {
          "text": "Monochromatic",
          "value": "One color per layer"
         }
        ],
        "icons": [
         1
        ],
        "in_subscribed_states": true,
        "mixed": false
       },
       "image_color_mode_value": "One color per layer",
       "image_color_sync": {
        "icons": [
         "f"
        ],
        "in_subscribed_states": true,
        "mixed": false
       },
       "image_color_value": "#f7787d",
       "image_colormap_sync": {
        "choices": [
         {
          "text": "Gray",
          "value": "gray"
         },
         {
          "text": "Viridis",
          "value": "viridis"
         },
         {
          "text": "Plasma",
          "value": "plasma"
         },
         {
          "text": "Inferno",
          "value": "inferno"
         },
         {
          "text": "Magma",
          "value": "magma"
         },
         {
          "text": "Purple-Blue",
          "value": "PuBu"
         },
         {
          "text": "Yellow-Green-Blue",
          "value": "YlGnBu"
         },
         {
          "text": "Yellow-Orange-Red",
          "value": "YlOrRd"
         },
         {
          "text": "Red-Purple",
          "value": "RdPu"
         },
         {
          "text": "Blue-Green",
          "value": "BuGn"
         },
         {
          "text": "Hot",
          "value": "hot"
         },
         {
          "text": "Red-Blue",
          "value": "RdBu"
         },
         {
          "text": "Red-Yellow-Blue",
          "value": "RdYlBu"
         },
         {
          "text": "Purple-Orange",
          "value": "PuOr"
         },
         {
          "text": "Purple-Green",
          "value": "PRGn"
         },
         {
          "text": "Rainbow",
          "value": "rainbow"
         },
         {
          "text": "Seismic",
          "value": "seismic"
         },
         {
          "text": "Reversed: Gray",
          "value": "gray_r"
         },
         {
          "text": "Reversed: Viridis",
          "value": "viridis_r"
         },
         {
          "text": "Reversed: Plasma",
          "value": "plasma_r"
         },
         {
          "text": "Reversed: Inferno",
          "value": "inferno_r"
         },
         {
          "text": "Reversed: Magma",
          "value": "magma_r"
         },
         {
          "text": "Reversed: Hot",
          "value": "hot_r"
         },
         {
          "text": "Reversed: Rainbow",
          "value": "rainbow_r"
         }
        ],
        "icons": [
         "f"
        ],
        "in_subscribed_states": true,
        "mixed": false
       },
       "image_colormap_value": "gray",
       "image_contrast_sync": {
        "icons": [
         "f"
        ],
        "in_subscribed_states": true,
        "mixed": false
       },
       "image_contrast_value": 2.53,
       "image_opacity_sync": {
        "icons": [
         "f"
        ],
        "in_subscribed_states": true,
        "mixed": false
       },
       "image_opacity_value": 0.4,
       "image_visible_sync": {
        "icons": [
         "f"
        ],
        "in_subscribed_states": true,
        "mixed": false
       },
       "image_visible_value": true,
       "is_active": false,
       "keep_active": false,
       "layer_items": [
        {
         "color": "#595959",
         "icon": "a",
         "label": "f090w[DATA]"
        },
        {
         "color": "#1f77b4",
         "icon": "b",
         "label": "f187n[DATA]"
        },
        {
         "color": "#2ca02c",
         "icon": "c",
         "label": "f200w[DATA]"
        },
        {
         "color": "#d62728",
         "icon": "d",
         "label": "f335m[DATA]"
        },
        {
         "color": "#9467bd",
         "icon": "e",
         "label": "f444w[DATA]"
        },
        {
         "color": "#8c564b",
         "icon": "f",
         "label": "f470n[DATA]"
        }
       ],
       "layer_selected": "f470n[DATA]",
       "layout": "IPY_MODEL_892cdcf2ceca468481785fa3d74e3f69",
       "line_as_steps_sync": {
        "icons": [],
        "in_subscribed_states": false,
        "mixed": false
       },
       "line_as_steps_value": false,
       "line_color_sync": {
        "icons": [],
        "in_subscribed_states": false,
        "mixed": false
       },
       "line_color_value": null,
       "line_opacity_sync": {
        "icons": [],
        "in_subscribed_states": false,
        "mixed": false
       },
       "line_opacity_value": 0.0,
       "line_visible_sync": {
        "icons": [],
        "in_subscribed_states": false,
        "mixed": false
       },
       "line_visible_value": false,
       "line_width_sync": {
        "icons": [],
        "in_subscribed_states": false,
        "mixed": false
       },
       "line_width_value": 0,
       "marker_color_col_sync": {
        "icons": [],
        "in_subscribed_states": false,
        "mixed": false
       },
       "marker_color_col_value": "",
       "marker_color_mode_sync": {
        "icons": [],
        "in_subscribed_states": false,
        "mixed": false
       },
       "marker_color_mode_value": "",
       "marker_color_sync": {
        "icons": [],
        "in_subscribed_states": false,
        "mixed": false
       },
       "marker_color_value": null,
       "marker_colormap_sync": {
        "icons": [],
        "in_subscribed_states": false,
        "mixed": false
       },
       "marker_colormap_value": "",
       "marker_colormap_vmax_sync": {
        "icons": [],
        "in_subscribed_states": false,
        "mixed": false
       },
       "marker_colormap_vmax_value": 0.0,
       "marker_colormap_vmin_sync": {
        "icons": [],
        "in_subscribed_states": false,
        "mixed": false
       },
       "marker_colormap_vmin_value": 0.0,
       "marker_fill_sync": {
        "icons": [],
        "in_subscribed_states": false,
        "mixed": false
       },
       "marker_fill_value": false,
       "marker_opacity_sync": {
        "icons": [],
        "in_subscribed_states": false,
        "mixed": false
       },
       "marker_opacity_value": 0.0,
       "marker_size_col_sync": {
        "icons": [],
        "in_subscribed_states": false,
        "mixed": false
       },
       "marker_size_col_value": "",
       "marker_size_mode_sync": {
        "icons": [],
        "in_subscribed_states": false,
        "mixed": false
       },
       "marker_size_mode_value": "",
       "marker_size_scale_sync": {
        "icons": [],
        "in_subscribed_states": false,
        "mixed": false
       },
       "marker_size_scale_value": 0.0,
       "marker_size_sync": {
        "icons": [],
        "in_subscribed_states": false,
        "mixed": false
       },
       "marker_size_value": 0.0,
       "marker_size_vmax_sync": {
        "icons": [],
        "in_subscribed_states": false,
        "mixed": false
       },
       "marker_size_vmax_value": 0.0,
       "marker_size_vmin_sync": {
        "icons": [],
        "in_subscribed_states": false,
        "mixed": false
       },
       "marker_size_vmin_value": 0.0,
       "marker_visible_sync": {
        "icons": [],
        "in_subscribed_states": false,
        "mixed": false
       },
       "marker_visible_value": false,
       "methods": null,
       "multiselect": false,
       "plugin_opened": false,
       "popout_button": "IPY_MODEL_05dc1e05d27b42569efb1debe92057cf",
       "show_viewer_labels": true,
       "stretch_curve_visible": false,
       "stretch_function_sync": {
        "choices": [
         {
          "text": "Linear",
          "value": "linear"
         },
         {
          "text": "Square Root",
          "value": "sqrt"
         },
         {
          "text": "Arcsinh",
          "value": "arcsinh"
         },
         {
          "text": "Logarithmic",
          "value": "log"
         }
        ],
        "icons": [
         "f"
        ],
        "in_subscribed_states": true,
        "mixed": false
       },
       "stretch_function_value": "linear",
       "stretch_hist_nbins": 25,
       "stretch_hist_zoom_limits": false,
       "stretch_histogram_widget": "IPY_MODEL_b3368d9b3bd540ccb62216b96672ac2d",
       "stretch_preset_sync": {
        "choices": [
         {
          "text": "Min/Max",
          "value": 100
         },
         {
          "text": "99.5%",
          "value": 99.5
         },
         {
          "text": "99%",
          "value": 99
         },
         {
          "text": "95%",
          "value": 95
         },
         {
          "text": "90%",
          "value": 90
         },
         {
          "text": "Custom",
          "value": "Custom"
         }
        ],
        "icons": [
         "f"
        ],
        "in_subscribed_states": true,
        "mixed": false
       },
       "stretch_preset_value": "Custom",
       "stretch_vmax_sync": {
        "icons": [
         "f"
        ],
        "in_subscribed_states": true,
        "mixed": false
       },
       "stretch_vmax_value": 11.0,
       "stretch_vmin_sync": {
        "icons": [
         "f"
        ],
        "in_subscribed_states": true,
        "mixed": false
       },
       "stretch_vmin_value": 1.0,
       "stretch_vstep": 0.1,
       "subset_color_sync": {
        "icons": [],
        "in_subscribed_states": false,
        "mixed": false
       },
       "subset_color_value": "",
       "subset_visible_sync": {
        "icons": [],
        "in_subscribed_states": false,
        "mixed": false
       },
       "subset_visible_value": false,
       "tabbable": null,
       "template": "IPY_MODEL_4453b19ab43d4cdb849c19d63569e6dc",
       "tooltip": null,
       "uncertainty_visible_sync": {
        "icons": [],
        "in_subscribed_states": false,
        "mixed": false
       },
       "uncertainty_visible_value": 0,
       "uses_active_status": true,
       "vdocs": "v3.7.0",
       "viewer_items": [
        {
         "icon": 1,
         "id": "imviz-0",
         "label": "imviz-0",
         "reference": "imviz-0"
        }
       ],
       "viewer_selected": "imviz-0"
      }
     },
     "ab85c5742bca4db8b37c57f6ab400182": {
      "model_module": "jupyter-vuetify",
      "model_module_version": "^1.8.5",
      "model_name": "ListItemTitleModel",
      "state": {
       "_dom_classes": [],
       "_events": [],
       "_jupyter_vue": "IPY_MODEL_28c992a30e9e48598df49b24e8922228",
       "_metadata": null,
       "_model_module": "jupyter-vuetify",
       "_model_module_version": "^1.8.5",
       "_model_name": "ListItemTitleModel",
       "_view_count": null,
       "_view_module": "jupyter-vuetify",
       "_view_module_version": "^1.8.5",
       "_view_name": "VuetifyView",
       "attributes": {},
       "children": [
        "add"
       ],
       "class_": null,
       "layout": null,
       "slot": null,
       "style_": null,
       "tabbable": null,
       "tooltip": null,
       "v_model": "!!disabled!!",
       "v_on": null,
       "v_slots": []
      }
     },
     "ad21c9d8569343739f0401989fa9e333": {
      "model_module": "@jupyter-widgets/base",
      "model_module_version": "2.0.0",
      "model_name": "LayoutModel",
      "state": {
       "_model_module": "@jupyter-widgets/base",
       "_model_module_version": "2.0.0",
       "_model_name": "LayoutModel",
       "_view_count": null,
       "_view_module": "@jupyter-widgets/base",
       "_view_module_version": "2.0.0",
       "_view_name": "LayoutView",
       "align_content": null,
       "align_items": null,
       "align_self": null,
       "border_bottom": null,
       "border_left": null,
       "border_right": null,
       "border_top": null,
       "bottom": null,
       "display": null,
       "flex": null,
       "flex_flow": null,
       "grid_area": null,
       "grid_auto_columns": null,
       "grid_auto_flow": null,
       "grid_auto_rows": null,
       "grid_column": null,
       "grid_gap": null,
       "grid_row": null,
       "grid_template_areas": null,
       "grid_template_columns": null,
       "grid_template_rows": null,
       "height": null,
       "justify_content": null,
       "justify_items": null,
       "left": null,
       "margin": null,
       "max_height": null,
       "max_width": null,
       "min_height": null,
       "min_width": null,
       "object_fit": null,
       "object_position": null,
       "order": null,
       "overflow": null,
       "padding": null,
       "right": null,
       "top": null,
       "visibility": null,
       "width": null
      }
     },
     "adf7946929d54d60a29f748c471769ef": {
      "buffers": [
       {
        "data": "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",
        "encoding": "base64",
        "path": [
         "value"
        ]
       }
      ],
      "model_module": "@jupyter-widgets/controls",
      "model_module_version": "2.0.0",
      "model_name": "ImageModel",
      "state": {
       "_dom_classes": [],
       "_model_module": "@jupyter-widgets/controls",
       "_model_module_version": "2.0.0",
       "_model_name": "ImageModel",
       "_view_count": null,
       "_view_module": "@jupyter-widgets/controls",
       "_view_module_version": "2.0.0",
       "_view_name": "ImageView",
       "format": "svg+xml",
       "height": "",
       "layout": "IPY_MODEL_46118652f30d40498dae520914c78934",
       "tabbable": null,
       "tooltip": null,
       "width": "20"
      }
     },
     "af0166a350654e71b5ddb25a28428c0b": {
      "model_module": "@jupyter-widgets/controls",
      "model_module_version": "2.0.0",
      "model_name": "VBoxModel",
      "state": {
       "_dom_classes": [],
       "_model_module": "@jupyter-widgets/controls",
       "_model_module_version": "2.0.0",
       "_model_name": "VBoxModel",
       "_view_count": null,
       "_view_module": "@jupyter-widgets/controls",
       "_view_module_version": "2.0.0",
       "_view_name": "VBoxView",
       "box_style": "",
       "children": [
        "IPY_MODEL_3059185b19d340f493c65c35468b0dad"
       ],
       "layout": "IPY_MODEL_b9bbb06ad54140bbb8bbb8675c60fab3",
       "tabbable": null,
       "tooltip": null
      }
     },
     "af83be34d3ac48988d30a6f2f9f62f4b": {
      "model_module": "@jupyter-widgets/base",
      "model_module_version": "2.0.0",
      "model_name": "LayoutModel",
      "state": {
       "_model_module": "@jupyter-widgets/base",
       "_model_module_version": "2.0.0",
       "_model_name": "LayoutModel",
       "_view_count": null,
       "_view_module": "@jupyter-widgets/base",
       "_view_module_version": "2.0.0",
       "_view_name": "LayoutView",
       "align_content": null,
       "align_items": null,
       "align_self": null,
       "border_bottom": null,
       "border_left": null,
       "border_right": null,
       "border_top": null,
       "bottom": null,
       "display": null,
       "flex": null,
       "flex_flow": null,
       "grid_area": null,
       "grid_auto_columns": null,
       "grid_auto_flow": null,
       "grid_auto_rows": null,
       "grid_column": null,
       "grid_gap": null,
       "grid_row": null,
       "grid_template_areas": null,
       "grid_template_columns": null,
       "grid_template_rows": null,
       "height": null,
       "justify_content": null,
       "justify_items": null,
       "left": null,
       "margin": null,
       "max_height": null,
       "max_width": null,
       "min_height": null,
       "min_width": null,
       "object_fit": null,
       "object_position": null,
       "order": null,
       "overflow": null,
       "padding": null,
       "right": null,
       "top": null,
       "visibility": null,
       "width": null
      }
     },
     "af90383b5c034efa87ef755aca04c1c8": {
      "model_module": "@jupyter-widgets/base",
      "model_module_version": "2.0.0",
      "model_name": "LayoutModel",
      "state": {
       "_model_module": "@jupyter-widgets/base",
       "_model_module_version": "2.0.0",
       "_model_name": "LayoutModel",
       "_view_count": null,
       "_view_module": "@jupyter-widgets/base",
       "_view_module_version": "2.0.0",
       "_view_name": "LayoutView",
       "align_content": null,
       "align_items": null,
       "align_self": null,
       "border_bottom": null,
       "border_left": null,
       "border_right": null,
       "border_top": null,
       "bottom": null,
       "display": null,
       "flex": null,
       "flex_flow": null,
       "grid_area": null,
       "grid_auto_columns": null,
       "grid_auto_flow": null,
       "grid_auto_rows": null,
       "grid_column": null,
       "grid_gap": null,
       "grid_row": null,
       "grid_template_areas": null,
       "grid_template_columns": null,
       "grid_template_rows": null,
       "height": null,
       "justify_content": null,
       "justify_items": null,
       "left": null,
       "margin": null,
       "max_height": null,
       "max_width": null,
       "min_height": null,
       "min_width": null,
       "object_fit": null,
       "object_position": null,
       "order": null,
       "overflow": null,
       "padding": null,
       "right": null,
       "top": null,
       "visibility": null,
       "width": null
      }
     },
     "af91c2bb1fa1420fa98d0087db167469": {
      "model_module": "jupyter-vue",
      "model_module_version": "^1.10.1",
      "model_name": "TemplateModel",
      "state": {
       "_model_module": "jupyter-vue",
       "_model_module_version": "^1.10.1",
       "_model_name": "TemplateModel",
       "_view_count": null,
       "_view_module": null,
       "_view_module_version": "",
       "_view_name": null,
       "template": "<template>\n  <v-toolbar-items>\n    <v-dialog v-model=\"dialog\" height=\"400\" width=\"600\">\n      <template v-slot:activator=\"{ on }\">\n        <v-btn tile depressed v-on=\"on\" color=\"turquoise\">\n          Import Data\n        </v-btn>\n      </template>\n\n      <v-card>\n\n        <v-card-title class=\"headline\" color=\"primary\" primary-title>Import Data</v-card-title>\n\n        <v-card-text>\n          Select a file with data you want to load into this instance of Jdaviz\n          and click \"IMPORT\". Imported data can be shown in any compatible\n          viewer{{ config == 'cubeviz' ? ', though only one data cube may be loaded per instance' : ''}}.\n          Note that single clicks navigate into directories.\n          <v-container>\n            <v-row>\n              <v-col>\n                <g-file-import id=\"file-uploader\"></g-file-import>\n                <span style=\"color: red;\">{{ error_message }}</span>\n              </v-col>\n            </v-row>\n          </v-container>\n        </v-card-text>\n\n        <v-card-actions>\n          <div class=\"flex-grow-1\"></div>\n          <v-btn color=\"primary\" text @click=\"dialog = false\">Cancel</v-btn>\n          <v-btn color=\"primary\" text @click=\"load_data\" :disabled=\"!valid_path\">Import</v-btn>\n        </v-card-actions>\n\n      </v-card>\n    </v-dialog>\n  </v-toolbar-items>\n</template>\n"
      }
     },
     "affd60d4f96e4c2b9e4c578816c00765": {
      "model_module": "@jupyter-widgets/base",
      "model_module_version": "2.0.0",
      "model_name": "LayoutModel",
      "state": {
       "_model_module": "@jupyter-widgets/base",
       "_model_module_version": "2.0.0",
       "_model_name": "LayoutModel",
       "_view_count": null,
       "_view_module": "@jupyter-widgets/base",
       "_view_module_version": "2.0.0",
       "_view_name": "LayoutView",
       "align_content": null,
       "align_items": null,
       "align_self": null,
       "border_bottom": null,
       "border_left": null,
       "border_right": null,
       "border_top": null,
       "bottom": null,
       "display": null,
       "flex": null,
       "flex_flow": null,
       "grid_area": null,
       "grid_auto_columns": null,
       "grid_auto_flow": null,
       "grid_auto_rows": null,
       "grid_column": null,
       "grid_gap": null,
       "grid_row": null,
       "grid_template_areas": null,
       "grid_template_columns": null,
       "grid_template_rows": null,
       "height": null,
       "justify_content": null,
       "justify_items": null,
       "left": null,
       "margin": null,
       "max_height": null,
       "max_width": null,
       "min_height": null,
       "min_width": null,
       "object_fit": null,
       "object_position": null,
       "order": null,
       "overflow": null,
       "padding": null,
       "right": null,
       "top": null,
       "visibility": null,
       "width": null
      }
     },
     "b07dd6ef783c42b4af82f6359b49ede3": {
      "model_module": "jupyter-vue",
      "model_module_version": "^1.10.1",
      "model_name": "VueComponentModel",
      "state": {
       "_dom_classes": [],
       "_model_module": "jupyter-vue",
       "_model_module_version": "^1.10.1",
       "_model_name": "VueComponentModel",
       "_view_count": null,
       "_view_module": null,
       "_view_module_version": "",
       "_view_name": null,
       "component": "<template>\n  <v-tooltip v-if=\"getTooltipHtml()\" bottom :open-delay=\"getOpenDelay()\"\n      :nudge-bottom=\"getNudgeBottom()\">\n    <template v-slot:activator=\"{ on, attrs }\">\n      <span v-bind=\"attrs\" v-on=\"on\" :style=\"getSpanStyle()\">\n        <slot></slot>\n      </span>\n    </template>\n    <span v-html=\"getTooltipHtml()\"></span>\n  </v-tooltip>\n  <span v-else :style=\"getSpanStyle()\">\n    <!-- in the case where there is no tooltip, just pass through the wrapped element -->\n    <slot></slot>\n  </span>\n</template>\n\n<script>\n// define all tooltip content here.  Each key can be passed as tipid to\n// any j-tooltip element.  The values must be a string, but can contain (valid)\n// html.  If enabling a new tooltip, wrap the element in <j-tooltip tipid='...'>,\n// pass doctips from state/props, and test to make sure layout isn't adversely\n// affected by the wrapping divs.\nconst tooltips = {\n  // app toolbar\n  'app-help': 'Open docs in new tab',\n  'app-snackbar-history': 'Toggle logger overlay',\n  'app-toolbar-plugins': 'Data analysis plug-ins',\n  'app-toolbar-popout': `Display in a new window<br /><br />\n    <div style=\"width: 200px; border: 1px solid gray;\" class=\"pa-2\">\n      <strong>Note:</strong>\n      some ad blockers or browser settings may block popup windows,\n      causing this feature not to work.\n    </div>`,\n  'plugin-popout': `Display in a new window<br /><br />\n    <div style=\"width: 200px; border: 1px solid gray;\" class=\"pa-2\">\n      <strong>Note:</strong>\n      some ad blockers or browser settings may block popup windows,\n      causing this feature not to work.\n    </div>`, \n\n  'g-data-tools': \n    'Load data from file',\n  'g-subset-tools': \n    'Select, create, and delete subsets',\n  'g-subset-mode':\n    'Operation performed by subset selection in viewer',\n  'g-unified-slider':\n    'Grab slider to slice through cube or select slice number',\n  'g-redshift-slider':\n    'Move the slider to change the redshift of the source and line wavelengths',\n  'lock-row-toggle':\n    'Use the same display parameters for all images and spectra',\n  'create-image-viewer':\n    'Create new image viewer',\n  'coords-info-cycle': 'Cycle selected layer used for mouseover information and markers plugin',\n\n  // viewer toolbars\n  'viewer-toolbar-data': 'Select dataset(s) to display in this viewer',\n  'viewer-toolbar-figure': 'Tools: pan, zoom, select region, save',\n  'viewer-toolbar-figure-save': 'Save figure',\n  'viewer-toolbar-menu': 'Adjust display: contrast, bias, stretch',\n  'viewer-toolbar-more': 'More options...',\n  'viewer-data-select-enabled': 'Allow multiple entries (click to enable replace)',\n  'viewer-data-radio-enabled': 'Replace current entry (click to enable multi-select)',\n  'viewer-data-select': 'Toggle visibility of all layers associated with this data entry',\n  'viewer-data-radio': 'Switch visibility to layers associated with this data entry',\n  'viewer-data-enable': 'Load data entry into this viewer',\n  'viewer-data-disable': 'Disable data within this viewer (will be hidden and unavailable from plugins until re-enabled)',\n  'viewer-data-delete': 'Remove data entry across entire app',\n\n  'table-prev': 'Select previous row in table',\n  'table-next': 'Select next row in table',\n  'table-play-pause-toggle': 'Toggle cycling through rows of table',\n  'table-play-pause-delay': 'Set delay before cycling to next entry',\n  'plugin-plot-options-multiselect-toggle': 'Toggle between simple (single-select) and advanced (multiselect)',\n  'plugin-plot-options-mixed-state': 'Current values are mixed, click to sync at shown value',\n  'plugin-model-fitting-add-model': 'Create model component',\n  'plugin-model-fitting-param-fixed': 'Check the box to freeze parameter value',\n  'plugin-model-fitting-reestimate-all': 'Re-estimate initial values based on the current data/subset selection for all free parameters based on current display units',\n  'plugin-model-fitting-reestimate': 'Re-estimate initial values based on the current data/subset selection for all free parameters in this component',\n  'plugin-unit-conversion-apply': 'Apply unit conversion',\n  'plugin-line-lists-load': 'Load list into \"Loaded Lines\" section of plugin',\n  'plugin-line-lists-plot-all-in-list': 'Plot all lines in this list',\n  'plugin-line-lists-erase-all-in-list': 'Hide all lines in this list',\n  'plugin-line-lists-plot-all': 'Plot all lines from every loaded list',\n  'plugin-line-lists-erase-all': 'Hide all lines from every loaded list',\n  'plugin-line-lists-line-name': 'Name this whatever you want',\n  'plugin-line-lists-custom-rest': 'This is a float or integer',\n  'plugin-line-lists-add-custom-line': 'Add line to the custom list',\n  'plugin-line-lists-line-identify-chip-active': 'Currently highlighted line.  Click to clear current selection.',\n  'plugin-line-lists-line-identify-chip-inactive': 'No line currently highlighted.  Use selection tool in spectrum viewer to identify a line.',\n  'plugin-line-lists-line-visible': 'Toggle showing the line in the spectrum viewer',\n  'plugin-line-lists-line-identify': 'Highlight this line in the spectrum viewer for easy identification',\n  'plugin-line-lists-color-picker': 'Change the color of this list',\n  'plugin-line-lists-spectral-range': 'Toggle filter to only lines observable within the range of the Spectrum Viewer',\n  'plugin-line-analysis-sync-identify': 'Lock/unlock selection with identified line',\n  'plugin-line-analysis-assign': 'Assign the centroid wavelength and update the redshift',\n  'plugin-moment-save-fits': 'Save moment map as FITS file',\n  'plugin-link-apply': 'Apply linking to data',\n  'plugin-footprints-color-picker': 'Change the color of the footprint overlay',\n}\n\n\nmodule.exports = {\n  props: ['tooltipcontent', 'tipid', 'delay', 'nudgebottom', 'span_style'],\n  methods: {\n    getTooltipHtml() {\n      // use tooltipcontent if provided, default to tooltips dictionary\n      // with passed tipid as the key\n      \n      if (this.$props.tooltipcontent) {\n        return this.$props.tooltipcontent;\n      }\n      \n      // Enable the following line to help determine ids to add to dictionary \n      // above.  This will show the tooltip id (in the tooltip) if no entry is \n      // in the tooltips dictionary above.\n      //return tooltips[this.$props.tipid] || \"tipid: \"+this.$props.tipid;\n      return tooltips[this.$props.tipid];\n    },\n    getSpanStyle() {\n      return this.$props.span_style || \"height: inherit; display: inherit\";\n    },\n    getOpenDelay() {\n      return this.$props.delay || \"0\";\n    },\n    getNudgeBottom() {\n      // useful for cases where some tooltips in a toolbar are wrapped around \n      // buttons but others around just the icon.  Only applies to tooltip,\n      // not doctip.\n      return this.$props.nudgebottom || 0;\n    },\n  }\n};\n</script>\n",
       "layout": "IPY_MODEL_b4aee7ba8a1c46c095ed25075b8df75e",
       "name": "j-tooltip",
       "tabbable": null,
       "tooltip": null
      }
     },
     "b0aca9b51ed8404596b9933c61ccc681": {
      "model_module": "@jupyter-widgets/base",
      "model_module_version": "2.0.0",
      "model_name": "LayoutModel",
      "state": {
       "_model_module": "@jupyter-widgets/base",
       "_model_module_version": "2.0.0",
       "_model_name": "LayoutModel",
       "_view_count": null,
       "_view_module": "@jupyter-widgets/base",
       "_view_module_version": "2.0.0",
       "_view_name": "LayoutView",
       "align_content": null,
       "align_items": null,
       "align_self": null,
       "border_bottom": null,
       "border_left": null,
       "border_right": null,
       "border_top": null,
       "bottom": null,
       "display": null,
       "flex": null,
       "flex_flow": null,
       "grid_area": null,
       "grid_auto_columns": null,
       "grid_auto_flow": null,
       "grid_auto_rows": null,
       "grid_column": null,
       "grid_gap": null,
       "grid_row": null,
       "grid_template_areas": null,
       "grid_template_columns": null,
       "grid_template_rows": null,
       "height": null,
       "justify_content": null,
       "justify_items": null,
       "left": null,
       "margin": null,
       "max_height": null,
       "max_width": null,
       "min_height": null,
       "min_width": null,
       "object_fit": null,
       "object_position": null,
       "order": null,
       "overflow": null,
       "padding": null,
       "right": null,
       "top": null,
       "visibility": null,
       "width": null
      }
     },
     "b0b2334f4775485fb1450690a1ad46d7": {
      "model_module": "jupyter-vuetify",
      "model_module_version": "^1.8.10",
      "model_name": "VuetifyTemplateModel",
      "state": {
       "_component_instances": [],
       "_dom_classes": [],
       "_jupyter_vue": "IPY_MODEL_28c992a30e9e48598df49b24e8922228",
       "_model_module": "jupyter-vuetify",
       "_model_module_version": "^1.8.10",
       "_model_name": "VuetifyTemplateModel",
       "_view_count": null,
       "_view_module": "jupyter-vuetify",
       "_view_module_version": "^1.8.10",
       "_view_name": "VuetifyView",
       "components": null,
       "css": null,
       "data": null,
       "echo_available": true,
       "events": [],
       "is_displayed": false,
       "kernel_id": "",
       "layout": "IPY_MODEL_dc93e246380e4c3290960f3a9249bb21",
       "methods": null,
       "open_tab_on_display": false,
       "open_window_on_display": false,
       "tabbable": null,
       "target_model_id": "d65922e237cd45bfb3099152f2b0dcfd",
       "template": "IPY_MODEL_d55e72844de240529f76b5d1b37d37bf",
       "tooltip": null,
       "window_features": "popup,width=400,height=600",
       "window_name": "d65922e237cd45bfb3099152f2b0dcfd"
      }
     },
     "b0be68b0f5054e1a8c9c43a67aaa2257": {
      "model_module": "@jupyter-widgets/controls",
      "model_module_version": "2.0.0",
      "model_name": "VBoxModel",
      "state": {
       "_dom_classes": [],
       "_model_module": "@jupyter-widgets/controls",
       "_model_module_version": "2.0.0",
       "_model_name": "VBoxModel",
       "_view_count": null,
       "_view_module": "@jupyter-widgets/controls",
       "_view_module_version": "2.0.0",
       "_view_name": "VBoxView",
       "box_style": "",
       "children": [
        "IPY_MODEL_795c37c9e57148479196bb0f05f4e3c4"
       ],
       "layout": "IPY_MODEL_e1f0f3f715b944e1902015e02597b4d9",
       "tabbable": null,
       "tooltip": null
      }
     },
     "b0c146e103a04b96b6cd05cab0672170": {
      "model_module": "@jupyter-widgets/controls",
      "model_module_version": "2.0.0",
      "model_name": "DescriptionStyleModel",
      "state": {
       "_model_module": "@jupyter-widgets/controls",
       "_model_module_version": "2.0.0",
       "_model_name": "DescriptionStyleModel",
       "_view_count": null,
       "_view_module": "@jupyter-widgets/base",
       "_view_module_version": "2.0.0",
       "_view_name": "StyleView",
       "description_width": ""
      }
     },
     "b1fe1ca9995343a889f18d056aac411e": {
      "model_module": "jupyter-vuetify",
      "model_module_version": "^1.8.10",
      "model_name": "VuetifyTemplateModel",
      "state": {
       "_component_instances": [],
       "_dom_classes": [],
       "_jupyter_vue": "IPY_MODEL_28c992a30e9e48598df49b24e8922228",
       "_model_module": "jupyter-vuetify",
       "_model_module_version": "^1.8.10",
       "_model_name": "VuetifyTemplateModel",
       "_view_count": null,
       "_view_module": "jupyter-vuetify",
       "_view_module_version": "^1.8.10",
       "_view_name": "VuetifyView",
       "components": null,
       "config": "imviz",
       "css": null,
       "data": null,
       "disabled_msg": "",
       "docs_link": "",
       "events": [
        "draw_plot",
        "plugin_ping"
       ],
       "is_active": false,
       "keep_active": false,
       "layout": "IPY_MODEL_cf3406c80c9b4d619a8f3d0a62e6ceb2",
       "methods": null,
       "plot_across_x_widget": "IPY_MODEL_eb0b57c4d8c44c3e825ff7d55f490d9b",
       "plot_across_y_widget": "IPY_MODEL_e1118b880f7f425daeb918056e0d5818",
       "plot_available": false,
       "plugin_opened": false,
       "popout_button": "IPY_MODEL_c44eb74ae9a14831b41a932ebcad5827",
       "selected_x": "",
       "selected_y": "",
       "tabbable": null,
       "template": "IPY_MODEL_8da14aab7600461d8ce8d4355cae1da5",
       "tooltip": null,
       "uses_active_status": true,
       "vdocs": "v3.7.0",
       "viewer_items": [
        {
         "icon": 1,
         "id": "imviz-0",
         "label": "imviz-0",
         "reference": "imviz-0"
        }
       ],
       "viewer_multiselect": false,
       "viewer_selected": "imviz-0"
      }
     },
     "b21ac7477c4a469684551d32ad0f14ae": {
      "model_module": "@jupyter-widgets/base",
      "model_module_version": "2.0.0",
      "model_name": "LayoutModel",
      "state": {
       "_model_module": "@jupyter-widgets/base",
       "_model_module_version": "2.0.0",
       "_model_name": "LayoutModel",
       "_view_count": null,
       "_view_module": "@jupyter-widgets/base",
       "_view_module_version": "2.0.0",
       "_view_name": "LayoutView",
       "align_content": null,
       "align_items": null,
       "align_self": null,
       "border_bottom": null,
       "border_left": null,
       "border_right": null,
       "border_top": null,
       "bottom": null,
       "display": null,
       "flex": null,
       "flex_flow": null,
       "grid_area": null,
       "grid_auto_columns": null,
       "grid_auto_flow": null,
       "grid_auto_rows": null,
       "grid_column": null,
       "grid_gap": null,
       "grid_row": null,
       "grid_template_areas": null,
       "grid_template_columns": null,
       "grid_template_rows": null,
       "height": null,
       "justify_content": null,
       "justify_items": null,
       "left": null,
       "margin": null,
       "max_height": null,
       "max_width": null,
       "min_height": null,
       "min_width": null,
       "object_fit": null,
       "object_position": null,
       "order": null,
       "overflow": null,
       "padding": null,
       "right": null,
       "top": null,
       "visibility": null,
       "width": null
      }
     },
     "b26c865aeefd47fc8f0bdd8213c5c39e": {
      "model_module": "@jupyter-widgets/controls",
      "model_module_version": "2.0.0",
      "model_name": "DropdownModel",
      "state": {
       "_dom_classes": [],
       "_model_module": "@jupyter-widgets/controls",
       "_model_module_version": "2.0.0",
       "_model_name": "DropdownModel",
       "_options_labels": [
        ".",
        ""
       ],
       "_view_count": null,
       "_view_module": "@jupyter-widgets/controls",
       "_view_module_version": "2.0.0",
       "_view_name": "DropdownView",
       "description": "",
       "description_allow_html": false,
       "disabled": false,
       "index": 0,
       "layout": "IPY_MODEL_bf2852eab8f84027b72a5672288c30cd",
       "style": "IPY_MODEL_653cee213b80490db7524cd6bbac2d3a",
       "tabbable": null,
       "tooltip": null
      }
     },
     "b3368d9b3bd540ccb62216b96672ac2d": {
      "model_module": "jupyter-vuetify",
      "model_module_version": "^1.8.10",
      "model_name": "VuetifyTemplateModel",
      "state": {
       "_component_instances": [],
       "_dom_classes": [],
       "_jupyter_vue": "IPY_MODEL_28c992a30e9e48598df49b24e8922228",
       "_model_module": "jupyter-vuetify",
       "_model_module_version": "^1.8.10",
       "_model_name": "VuetifyTemplateModel",
       "_view_count": null,
       "_view_module": "jupyter-vuetify",
       "_view_module_version": "^1.8.10",
       "_view_name": "VuetifyView",
       "components": null,
       "css": null,
       "data": null,
       "events": [
        "popout"
       ],
       "figure": "IPY_MODEL_4421ecd471fe4999aacee937d49b4916",
       "layout": "IPY_MODEL_cdf90a54843f473995d5d815dd49a9c0",
       "methods": null,
       "popout_button": "IPY_MODEL_8f92b841c7704e3bab6e364fad2d5ad7",
       "tabbable": null,
       "template": "IPY_MODEL_380469682a0f411c8704e6508aa426d4",
       "tooltip": null
      }
     },
     "b405a35fafc6458593ed75ed66765a6f": {
      "model_module": "@jupyter-widgets/base",
      "model_module_version": "2.0.0",
      "model_name": "LayoutModel",
      "state": {
       "_model_module": "@jupyter-widgets/base",
       "_model_module_version": "2.0.0",
       "_model_name": "LayoutModel",
       "_view_count": null,
       "_view_module": "@jupyter-widgets/base",
       "_view_module_version": "2.0.0",
       "_view_name": "LayoutView",
       "align_content": null,
       "align_items": null,
       "align_self": null,
       "border_bottom": null,
       "border_left": null,
       "border_right": null,
       "border_top": null,
       "bottom": null,
       "display": null,
       "flex": null,
       "flex_flow": null,
       "grid_area": null,
       "grid_auto_columns": null,
       "grid_auto_flow": null,
       "grid_auto_rows": null,
       "grid_column": null,
       "grid_gap": null,
       "grid_row": null,
       "grid_template_areas": null,
       "grid_template_columns": null,
       "grid_template_rows": null,
       "height": null,
       "justify_content": null,
       "justify_items": null,
       "left": null,
       "margin": null,
       "max_height": null,
       "max_width": null,
       "min_height": null,
       "min_width": null,
       "object_fit": null,
       "object_position": null,
       "order": null,
       "overflow": null,
       "padding": null,
       "right": null,
       "top": null,
       "visibility": null,
       "width": null
      }
     },
     "b44b709812b5445a95de8dd044a6f566": {
      "model_module": "@jupyter-widgets/base",
      "model_module_version": "2.0.0",
      "model_name": "LayoutModel",
      "state": {
       "_model_module": "@jupyter-widgets/base",
       "_model_module_version": "2.0.0",
       "_model_name": "LayoutModel",
       "_view_count": null,
       "_view_module": "@jupyter-widgets/base",
       "_view_module_version": "2.0.0",
       "_view_name": "LayoutView",
       "align_content": null,
       "align_items": null,
       "align_self": null,
       "border_bottom": null,
       "border_left": null,
       "border_right": null,
       "border_top": null,
       "bottom": null,
       "display": null,
       "flex": null,
       "flex_flow": null,
       "grid_area": null,
       "grid_auto_columns": null,
       "grid_auto_flow": null,
       "grid_auto_rows": null,
       "grid_column": null,
       "grid_gap": null,
       "grid_row": null,
       "grid_template_areas": null,
       "grid_template_columns": null,
       "grid_template_rows": null,
       "height": null,
       "justify_content": null,
       "justify_items": null,
       "left": null,
       "margin": null,
       "max_height": null,
       "max_width": null,
       "min_height": null,
       "min_width": null,
       "object_fit": null,
       "object_position": null,
       "order": null,
       "overflow": null,
       "padding": null,
       "right": null,
       "top": null,
       "visibility": null,
       "width": null
      }
     },
     "b4aee7ba8a1c46c095ed25075b8df75e": {
      "model_module": "@jupyter-widgets/base",
      "model_module_version": "2.0.0",
      "model_name": "LayoutModel",
      "state": {
       "_model_module": "@jupyter-widgets/base",
       "_model_module_version": "2.0.0",
       "_model_name": "LayoutModel",
       "_view_count": null,
       "_view_module": "@jupyter-widgets/base",
       "_view_module_version": "2.0.0",
       "_view_name": "LayoutView",
       "align_content": null,
       "align_items": null,
       "align_self": null,
       "border_bottom": null,
       "border_left": null,
       "border_right": null,
       "border_top": null,
       "bottom": null,
       "display": null,
       "flex": null,
       "flex_flow": null,
       "grid_area": null,
       "grid_auto_columns": null,
       "grid_auto_flow": null,
       "grid_auto_rows": null,
       "grid_column": null,
       "grid_gap": null,
       "grid_row": null,
       "grid_template_areas": null,
       "grid_template_columns": null,
       "grid_template_rows": null,
       "height": null,
       "justify_content": null,
       "justify_items": null,
       "left": null,
       "margin": null,
       "max_height": null,
       "max_width": null,
       "min_height": null,
       "min_width": null,
       "object_fit": null,
       "object_position": null,
       "order": null,
       "overflow": null,
       "padding": null,
       "right": null,
       "top": null,
       "visibility": null,
       "width": null
      }
     },
     "b4ca8e1779fa4b7bae158d0699e3260b": {
      "model_module": "@jupyter-widgets/base",
      "model_module_version": "2.0.0",
      "model_name": "LayoutModel",
      "state": {
       "_model_module": "@jupyter-widgets/base",
       "_model_module_version": "2.0.0",
       "_model_name": "LayoutModel",
       "_view_count": null,
       "_view_module": "@jupyter-widgets/base",
       "_view_module_version": "2.0.0",
       "_view_name": "LayoutView",
       "align_content": null,
       "align_items": null,
       "align_self": null,
       "border_bottom": null,
       "border_left": null,
       "border_right": null,
       "border_top": null,
       "bottom": null,
       "display": null,
       "flex": null,
       "flex_flow": null,
       "grid_area": null,
       "grid_auto_columns": null,
       "grid_auto_flow": null,
       "grid_auto_rows": null,
       "grid_column": null,
       "grid_gap": null,
       "grid_row": null,
       "grid_template_areas": null,
       "grid_template_columns": null,
       "grid_template_rows": null,
       "height": null,
       "justify_content": null,
       "justify_items": null,
       "left": null,
       "margin": null,
       "max_height": null,
       "max_width": null,
       "min_height": null,
       "min_width": null,
       "object_fit": null,
       "object_position": null,
       "order": null,
       "overflow": null,
       "padding": null,
       "right": null,
       "top": null,
       "visibility": null,
       "width": null
      }
     },
     "b52c637c859f46d3aa989a4b26d0515d": {
      "model_module": "jupyter-vuetify",
      "model_module_version": "^1.8.10",
      "model_name": "VuetifyTemplateModel",
      "state": {
       "_component_instances": [],
       "_dom_classes": [],
       "_jupyter_vue": "IPY_MODEL_28c992a30e9e48598df49b24e8922228",
       "_model_module": "jupyter-vuetify",
       "_model_module_version": "^1.8.10",
       "_model_name": "VuetifyTemplateModel",
       "_view_count": null,
       "_view_module": "jupyter-vuetify",
       "_view_module_version": "^1.8.10",
       "_view_name": "VuetifyView",
       "components": null,
       "css": null,
       "data": null,
       "echo_available": true,
       "events": [],
       "is_displayed": false,
       "kernel_id": "",
       "layout": "IPY_MODEL_7c7c394bf96041c5b0741b64b5578fd5",
       "methods": null,
       "open_tab_on_display": false,
       "open_window_on_display": false,
       "tabbable": null,
       "target_model_id": "0c35f89004f945939aaa9d834b1a2f9b",
       "template": "IPY_MODEL_d55e72844de240529f76b5d1b37d37bf",
       "tooltip": null,
       "window_features": "popup,width=400,height=600",
       "window_name": "0c35f89004f945939aaa9d834b1a2f9b"
      }
     },
     "b5629a5a41e94863bef76a802d12c95e": {
      "model_module": "@jupyter-widgets/base",
      "model_module_version": "2.0.0",
      "model_name": "LayoutModel",
      "state": {
       "_model_module": "@jupyter-widgets/base",
       "_model_module_version": "2.0.0",
       "_model_name": "LayoutModel",
       "_view_count": null,
       "_view_module": "@jupyter-widgets/base",
       "_view_module_version": "2.0.0",
       "_view_name": "LayoutView",
       "align_content": null,
       "align_items": null,
       "align_self": null,
       "border_bottom": null,
       "border_left": null,
       "border_right": null,
       "border_top": null,
       "bottom": null,
       "display": null,
       "flex": null,
       "flex_flow": null,
       "grid_area": null,
       "grid_auto_columns": null,
       "grid_auto_flow": null,
       "grid_auto_rows": null,
       "grid_column": null,
       "grid_gap": null,
       "grid_row": null,
       "grid_template_areas": null,
       "grid_template_columns": null,
       "grid_template_rows": null,
       "height": null,
       "justify_content": null,
       "justify_items": null,
       "left": null,
       "margin": null,
       "max_height": null,
       "max_width": null,
       "min_height": null,
       "min_width": null,
       "object_fit": null,
       "object_position": null,
       "order": null,
       "overflow": null,
       "padding": null,
       "right": null,
       "top": null,
       "visibility": null,
       "width": null
      }
     },
     "b596865142d2429484fb149714591c12": {
      "model_module": "@jupyter-widgets/base",
      "model_module_version": "2.0.0",
      "model_name": "LayoutModel",
      "state": {
       "_model_module": "@jupyter-widgets/base",
       "_model_module_version": "2.0.0",
       "_model_name": "LayoutModel",
       "_view_count": null,
       "_view_module": "@jupyter-widgets/base",
       "_view_module_version": "2.0.0",
       "_view_name": "LayoutView",
       "align_content": null,
       "align_items": null,
       "align_self": null,
       "border_bottom": null,
       "border_left": null,
       "border_right": null,
       "border_top": null,
       "bottom": null,
       "display": null,
       "flex": null,
       "flex_flow": null,
       "grid_area": "dircontent",
       "grid_auto_columns": null,
       "grid_auto_flow": null,
       "grid_auto_rows": null,
       "grid_column": null,
       "grid_gap": null,
       "grid_row": null,
       "grid_template_areas": null,
       "grid_template_columns": null,
       "grid_template_rows": null,
       "height": null,
       "justify_content": null,
       "justify_items": null,
       "left": null,
       "margin": null,
       "max_height": null,
       "max_width": null,
       "min_height": null,
       "min_width": null,
       "object_fit": null,
       "object_position": null,
       "order": null,
       "overflow": null,
       "padding": null,
       "right": null,
       "top": null,
       "visibility": null,
       "width": "auto"
      }
     },
     "b602352672674bb6a23da499468ee051": {
      "buffers": [
       {
        "data": "AAAAAAAA8D8AAAAAAADwPw==",
        "encoding": "base64",
        "path": [
         "x",
         "value"
        ]
       },
       {
        "data": "AAAAAAEAAAA=",
        "encoding": "base64",
        "path": [
         "y",
         "value"
        ]
       }
      ],
      "model_module": "bqplot",
      "model_module_version": "^0.5",
      "model_name": "LinesModel",
      "state": {
       "_model_module": "bqplot",
       "_model_module_version": "^0.5",
       "_model_name": "LinesModel",
       "_view_count": null,
       "_view_module": "bqplot",
       "_view_module_version": "^0.5",
       "_view_name": "Lines",
       "apply_clip": true,
       "close_path": false,
       "color": null,
       "colors": [
        "#c75d2c"
       ],
       "curves_subset": [],
       "display_legend": false,
       "enable_hover": true,
       "fill": "none",
       "fill_colors": [],
       "fill_opacities": [],
       "interactions": {
        "hover": "tooltip"
       },
       "interpolation": "linear",
       "labels": [],
       "labels_visibility": "none",
       "line_style": "solid",
       "marker": null,
       "marker_size": 64,
       "opacities": [],
       "preserve_domain": {},
       "scales": {
        "x": "IPY_MODEL_ef41d310941a45ab812b8c905cd25c05",
        "y": "IPY_MODEL_82f5822fefa84e66b1ce53dacb46769e"
       },
       "scales_metadata": {
        "color": {
         "dimension": "color"
        },
        "x": {
         "dimension": "x",
         "orientation": "horizontal"
        },
        "y": {
         "dimension": "y",
         "orientation": "vertical"
        }
       },
       "selected": null,
       "selected_style": {},
       "stroke_width": 2.0,
       "tooltip": null,
       "tooltip_location": "mouse",
       "tooltip_style": {
        "opacity": 0.9
       },
       "unselected_style": {},
       "visible": true,
       "x": {
        "dtype": "float64",
        "shape": [
         2
        ],
        "type": null
       },
       "y": {
        "dtype": "int32",
        "shape": [
         2
        ],
        "type": null
       }
      }
     },
     "b8105fdc71d2400f8415b9506d7478a2": {
      "model_module": "@jupyter-widgets/base",
      "model_module_version": "2.0.0",
      "model_name": "LayoutModel",
      "state": {
       "_model_module": "@jupyter-widgets/base",
       "_model_module_version": "2.0.0",
       "_model_name": "LayoutModel",
       "_view_count": null,
       "_view_module": "@jupyter-widgets/base",
       "_view_module_version": "2.0.0",
       "_view_name": "LayoutView",
       "align_content": null,
       "align_items": null,
       "align_self": null,
       "border_bottom": null,
       "border_left": null,
       "border_right": null,
       "border_top": null,
       "bottom": null,
       "display": null,
       "flex": null,
       "flex_flow": null,
       "grid_area": null,
       "grid_auto_columns": null,
       "grid_auto_flow": null,
       "grid_auto_rows": null,
       "grid_column": null,
       "grid_gap": null,
       "grid_row": null,
       "grid_template_areas": null,
       "grid_template_columns": null,
       "grid_template_rows": null,
       "height": null,
       "justify_content": null,
       "justify_items": null,
       "left": null,
       "margin": null,
       "max_height": null,
       "max_width": null,
       "min_height": null,
       "min_width": null,
       "object_fit": null,
       "object_position": null,
       "order": null,
       "overflow": null,
       "padding": null,
       "right": null,
       "top": null,
       "visibility": null,
       "width": null
      }
     },
     "b83a5c2d1207454eb4852526c7fff488": {
      "model_module": "bqplot",
      "model_module_version": "^0.5",
      "model_name": "LinearScaleModel",
      "state": {
       "_model_module": "bqplot",
       "_model_module_version": "^0.5",
       "_model_name": "LinearScaleModel",
       "_view_count": null,
       "_view_module": "bqplot",
       "_view_module_version": "^0.5",
       "_view_name": "LinearScale",
       "allow_padding": false,
       "max": 1.0,
       "mid_range": 0.8,
       "min": 0.0,
       "min_range": 0.6,
       "reverse": false,
       "stabilized": false
      }
     },
     "b950d1e933484f66b0114a93e3459681": {
      "model_module": "jupyter-vue",
      "model_module_version": "^1.10.1",
      "model_name": "VueComponentModel",
      "state": {
       "_dom_classes": [],
       "_model_module": "jupyter-vue",
       "_model_module_version": "^1.10.1",
       "_model_name": "VueComponentModel",
       "_view_count": null,
       "_view_module": null,
       "_view_module_version": "",
       "_view_name": null,
       "component": "<template>\n  <v-container class=\"tray-plugin\" style=\"padding-left: 24px; padding-right: 24px; padding-top: 12px\">\n    <v-row>\n      <div style=\"width: calc(100% - 32px)\">\n        <j-docs-link :link=\"link\">{{ description }}</j-docs-link>\n      </div>\n      <div style=\"width: 32px\">\n        <j-plugin-popout :popout_button=\"popout_button\"></j-plugin-popout>\n      </div>\n    </v-row>\n    \n    <v-row v-if=\"isDisabled()\">\n      <span> {{ getDisabledMsg() }}</span>\n    </v-row>\n    <div v-else>\n      <v-row v-if=\"uses_active_status && keep_active !== undefined\" style=\"padding-bottom: 24px\">\n        <v-switch\n          v-model=\"keep_active\"\n          @change=\"$emit('update:keep_active', $event)\"\n          label=\"keep active\"\n          hint=\"consider plugin active (showing any previews and enabling all keypress events) even when not opened\"\n          persistent-hint>\n        </v-switch>\n      </v-row>\n      <slot></slot>\n    </div>\n  </v-container>\n</template>\n\n<script>\nmodule.exports = {\n  props: ['disabled_msg', 'description', 'link', 'popout_button',\n          'uses_active_status', 'keep_active'],\n  methods: {\n    isDisabled() {\n      return this.getDisabledMsg().length > 0\n    },\n    getDisabledMsg() {\n      return this.disabled_msg || ''\n    },\n    sendPing(recursive) {\n      if (!this.$el.isConnected) {\n        return\n      }\n      if (!document.hidden) {\n        this.$emit('plugin-ping', Date.now())\n      }\n      if (!recursive) {\n        return\n      }\n      setTimeout(() => {\n        this.sendPing(true)          \n      }, 200)  // ms\n    }\n  },\n  mounted() {\n    this.sendPing(true);\n    document.addEventListener(\"visibilitychange\", () => {\n      if (!document.hidden) {\n        this.sendPing(false)\n      }\n    });\n  },\n};\n</script>\n\n<style scoped>\n  .row {\n    margin-bottom: 12px !important;\n  }\n\n  .row-min-bottom-padding {\n    margin-bottom: 4px !important;\n  }\n\n  .row-no-outside-padding .col:first-of-type {\n    padding-left: 0px !important;\n  }\n\n  .row-no-vertical-padding-margin {\n    padding-top: 0px !important;\n    padding-bottom: 0px !important;\n    margin-bottom: 0px !important;\n    margin-top: 0px !important;\n  }\n\n  .row-no-outside-padding .col:last-of-type {\n    padding-right: 0px !important;\n  }\n\n  .row-no-padding > .col {\n    padding-left: 0px !important;\n    padding-right: 0px !important;\n  }\n\n  .v-expansion-panel-header {\n    /* tighten default padding on any sub expansion headers */\n    padding: 6px !important;\n  }\n  \n  .v-expansion-panel-header .row {\n    /* override margin from above and replace with equal top and bottom margins\n    for the text in the panel header */\n    margin-top: 2px !important;\n    margin-bottom: 2px !important;\n  }\n</style>\n",
       "layout": "IPY_MODEL_3334eefbb7cd4ca3ac6cf601696ca1a9",
       "name": "j-tray-plugin",
       "tabbable": null,
       "tooltip": null
      }
     },
     "b9a4d1c63afb4f05b372c649b9f2d053": {
      "model_module": "jupyter-vuetify",
      "model_module_version": "^1.8.5",
      "model_name": "ListModel",
      "state": {
       "_dom_classes": [],
       "_events": [],
       "_jupyter_vue": "IPY_MODEL_28c992a30e9e48598df49b24e8922228",
       "_metadata": null,
       "_model_module": "jupyter-vuetify",
       "_model_module_version": "^1.8.5",
       "_model_name": "ListModel",
       "_view_count": null,
       "_view_module": "jupyter-vuetify",
       "_view_module_version": "^1.8.5",
       "_view_name": "VuetifyView",
       "attributes": {},
       "children": [
        "IPY_MODEL_d475d291167444f2bdf920885722c7c8",
        "IPY_MODEL_baf294ba6f1c4abaac0d8f715e943301",
        "IPY_MODEL_fd5041a537ca411abf920bdeb22704ee",
        "IPY_MODEL_e8c37b054a19445b9bc7c2a224335aa4",
        "IPY_MODEL_a81317ca1fa34eb384258afa084ebdd3"
       ],
       "class_": null,
       "color": null,
       "dark": null,
       "dense": null,
       "disabled": null,
       "elevation": null,
       "expand": null,
       "flat": null,
       "height": null,
       "layout": null,
       "light": null,
       "max_height": null,
       "max_width": null,
       "min_height": null,
       "min_width": null,
       "nav": null,
       "rounded": null,
       "shaped": null,
       "slot": null,
       "style_": null,
       "subheader": null,
       "tabbable": null,
       "tag": null,
       "three_line": null,
       "tile": null,
       "tooltip": null,
       "two_line": null,
       "v_model": "!!disabled!!",
       "v_on": null,
       "v_slots": [],
       "width": null
      }
     },
     "b9bbb06ad54140bbb8bbb8675c60fab3": {
      "model_module": "@jupyter-widgets/base",
      "model_module_version": "2.0.0",
      "model_name": "LayoutModel",
      "state": {
       "_model_module": "@jupyter-widgets/base",
       "_model_module_version": "2.0.0",
       "_model_name": "LayoutModel",
       "_view_count": null,
       "_view_module": "@jupyter-widgets/base",
       "_view_module_version": "2.0.0",
       "_view_name": "LayoutView",
       "align_content": null,
       "align_items": null,
       "align_self": null,
       "border_bottom": null,
       "border_left": null,
       "border_right": null,
       "border_top": null,
       "bottom": null,
       "display": null,
       "flex": null,
       "flex_flow": null,
       "grid_area": null,
       "grid_auto_columns": null,
       "grid_auto_flow": null,
       "grid_auto_rows": null,
       "grid_column": null,
       "grid_gap": null,
       "grid_row": null,
       "grid_template_areas": null,
       "grid_template_columns": null,
       "grid_template_rows": null,
       "height": null,
       "justify_content": null,
       "justify_items": null,
       "left": null,
       "margin": null,
       "max_height": null,
       "max_width": null,
       "min_height": null,
       "min_width": null,
       "object_fit": null,
       "object_position": null,
       "order": null,
       "overflow": null,
       "padding": null,
       "right": null,
       "top": null,
       "visibility": null,
       "width": "auto"
      }
     },
     "ba0b5a46165c42f2a8537a354e574e25": {
      "model_module": "@jupyter-widgets/base",
      "model_module_version": "2.0.0",
      "model_name": "LayoutModel",
      "state": {
       "_model_module": "@jupyter-widgets/base",
       "_model_module_version": "2.0.0",
       "_model_name": "LayoutModel",
       "_view_count": null,
       "_view_module": "@jupyter-widgets/base",
       "_view_module_version": "2.0.0",
       "_view_name": "LayoutView",
       "align_content": null,
       "align_items": null,
       "align_self": null,
       "border_bottom": null,
       "border_left": null,
       "border_right": null,
       "border_top": null,
       "bottom": null,
       "display": null,
       "flex": null,
       "flex_flow": null,
       "grid_area": null,
       "grid_auto_columns": null,
       "grid_auto_flow": null,
       "grid_auto_rows": null,
       "grid_column": null,
       "grid_gap": null,
       "grid_row": null,
       "grid_template_areas": null,
       "grid_template_columns": null,
       "grid_template_rows": null,
       "height": null,
       "justify_content": null,
       "justify_items": null,
       "left": null,
       "margin": null,
       "max_height": null,
       "max_width": null,
       "min_height": null,
       "min_width": null,
       "object_fit": null,
       "object_position": null,
       "order": null,
       "overflow": null,
       "padding": null,
       "right": null,
       "top": null,
       "visibility": null,
       "width": null
      }
     },
     "ba8e3019fead4f7d9d1608e23fe14043": {
      "model_module": "@jupyter-widgets/base",
      "model_module_version": "2.0.0",
      "model_name": "LayoutModel",
      "state": {
       "_model_module": "@jupyter-widgets/base",
       "_model_module_version": "2.0.0",
       "_model_name": "LayoutModel",
       "_view_count": null,
       "_view_module": "@jupyter-widgets/base",
       "_view_module_version": "2.0.0",
       "_view_name": "LayoutView",
       "align_content": null,
       "align_items": null,
       "align_self": null,
       "border_bottom": null,
       "border_left": null,
       "border_right": null,
       "border_top": null,
       "bottom": null,
       "display": null,
       "flex": null,
       "flex_flow": null,
       "grid_area": null,
       "grid_auto_columns": null,
       "grid_auto_flow": null,
       "grid_auto_rows": null,
       "grid_column": null,
       "grid_gap": null,
       "grid_row": null,
       "grid_template_areas": null,
       "grid_template_columns": null,
       "grid_template_rows": null,
       "height": null,
       "justify_content": null,
       "justify_items": null,
       "left": null,
       "margin": null,
       "max_height": null,
       "max_width": null,
       "min_height": null,
       "min_width": null,
       "object_fit": null,
       "object_position": null,
       "order": null,
       "overflow": null,
       "padding": null,
       "right": null,
       "top": null,
       "visibility": null,
       "width": null
      }
     },
     "baf294ba6f1c4abaac0d8f715e943301": {
      "model_module": "jupyter-vuetify",
      "model_module_version": "^1.8.5",
      "model_name": "ListItemModel",
      "state": {
       "_dom_classes": [],
       "_events": [
        "click"
       ],
       "_jupyter_vue": "IPY_MODEL_28c992a30e9e48598df49b24e8922228",
       "_metadata": null,
       "_model_module": "jupyter-vuetify",
       "_model_module_version": "^1.8.5",
       "_model_name": "ListItemModel",
       "_view_count": null,
       "_view_module": "jupyter-vuetify",
       "_view_module_version": "^1.8.5",
       "_view_name": "VuetifyView",
       "active_class": null,
       "append": null,
       "attributes": {},
       "children": [
        "IPY_MODEL_697a27f8d4e148508d9753b5b98e4a33",
        "IPY_MODEL_a41a07d8fc9d4d9bb1af91261b44c06b"
       ],
       "class_": null,
       "color": null,
       "dark": null,
       "dense": null,
       "disabled": null,
       "exact": null,
       "exact_active_class": null,
       "href": null,
       "inactive": null,
       "input_value": null,
       "layout": null,
       "light": null,
       "link": null,
       "nuxt": null,
       "replace": null,
       "ripple": null,
       "selectable": null,
       "slot": null,
       "style_": null,
       "tabbable": null,
       "tag": null,
       "target": null,
       "three_line": null,
       "to": null,
       "tooltip": null,
       "two_line": null,
       "v_model": "!!disabled!!",
       "v_on": null,
       "v_slots": [],
       "value": null
      }
     },
     "bc1f66a4f2304177bd8f49d45e02c25e": {
      "buffers": [
       {
        "data": "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",
        "encoding": "base64",
        "path": [
         "value"
        ]
       }
      ],
      "model_module": "@jupyter-widgets/controls",
      "model_module_version": "2.0.0",
      "model_name": "ImageModel",
      "state": {
       "_dom_classes": [],
       "_model_module": "@jupyter-widgets/controls",
       "_model_module_version": "2.0.0",
       "_model_name": "ImageModel",
       "_view_count": null,
       "_view_module": "@jupyter-widgets/controls",
       "_view_module_version": "2.0.0",
       "_view_name": "ImageView",
       "format": "svg+xml",
       "height": "",
       "layout": "IPY_MODEL_2396f099e18d44988a970046d8d51576",
       "tabbable": null,
       "tooltip": null,
       "width": "20"
      }
     },
     "bd5f92ae6a34478496ae5a2994fdb30d": {
      "buffers": [
       {
        "data": "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",
        "encoding": "base64",
        "path": [
         "value"
        ]
       }
      ],
      "model_module": "@jupyter-widgets/controls",
      "model_module_version": "2.0.0",
      "model_name": "ImageModel",
      "state": {
       "_dom_classes": [],
       "_model_module": "@jupyter-widgets/controls",
       "_model_module_version": "2.0.0",
       "_model_name": "ImageModel",
       "_view_count": null,
       "_view_module": "@jupyter-widgets/controls",
       "_view_module_version": "2.0.0",
       "_view_name": "ImageView",
       "format": "svg+xml",
       "height": "",
       "layout": "IPY_MODEL_de0ecda28da545178119c920d1995cd1",
       "tabbable": null,
       "tooltip": null,
       "width": "20"
      }
     },
     "bd64c6f1f3d4417f9a86d13a7614ef0d": {
      "model_module": "jupyter-vuetify",
      "model_module_version": "^1.8.10",
      "model_name": "VuetifyTemplateModel",
      "state": {
       "_component_instances": [],
       "_dom_classes": [],
       "_jupyter_vue": "IPY_MODEL_28c992a30e9e48598df49b24e8922228",
       "_model_module": "jupyter-vuetify",
       "_model_module_version": "^1.8.10",
       "_model_name": "VuetifyTemplateModel",
       "_view_count": null,
       "_view_module": "jupyter-vuetify",
       "_view_module_version": "^1.8.10",
       "_view_name": "VuetifyView",
       "color_menu_open": false,
       "components": null,
       "css": null,
       "current_panel": "IPY_MODEL_0d00bf0b076549b19e788a9fe8101959",
       "data": null,
       "events": [],
       "layers": [
        {
         "color": "#cc7ace",
         "index": 0,
         "label": "f090w[DATA]",
         "layer_panel": "IPY_MODEL_0d00bf0b076549b19e788a9fe8101959",
         "visible": true
        },
        {
         "color": "#66cfef",
         "index": 1,
         "label": "f187n[DATA]",
         "layer_panel": "IPY_MODEL_f2ca6cef629945f1b44e780d7aa6e9db",
         "visible": true
        },
        {
         "color": "#61d3e1",
         "index": 2,
         "label": "f200w[DATA]",
         "layer_panel": "IPY_MODEL_8ba0075346c14682a11b9296d9ab9e07",
         "visible": true
        },
        {
         "color": "#afff6b",
         "index": 3,
         "label": "f335m[DATA]",
         "layer_panel": "IPY_MODEL_faf6fc5a83da4f7e9b34fd1eafd6df51",
         "visible": true
        },
        {
         "color": "#ff767c",
         "index": 4,
         "label": "f444w[DATA]",
         "layer_panel": "IPY_MODEL_a721a13d70a440e5aaec597ad6e7b53c",
         "visible": true
        },
        {
         "color": "#f7787d",
         "index": 5,
         "label": "f470n[DATA]",
         "layer_panel": "IPY_MODEL_404287f3b9ca4e309732cb67ee696ffd",
         "visible": true
        }
       ],
       "layout": "IPY_MODEL_71c7cee8726045bcb9952a43938fce86",
       "methods": null,
       "selected": 0,
       "tabbable": null,
       "template": "IPY_MODEL_01a5fe4b160b4262a96c2bba41ad02a7",
       "tooltip": null
      }
     },
     "be74773f9e634b24a3fcdb194b8f3b67": {
      "model_module": "bqplot-image-gl",
      "model_module_version": "^1.4.11",
      "model_name": "ContourModel",
      "state": {
       "_model_module": "bqplot-image-gl",
       "_model_module_version": "^1.4.11",
       "_model_name": "ContourModel",
       "_view_count": null,
       "_view_module": "bqplot-image-gl",
       "_view_module_version": "^1.4.11",
       "_view_name": "ContourView",
       "apply_clip": true,
       "color": [
        "red",
        "orange",
        "yellow",
        "green",
        "blue"
       ],
       "contour_lines": [],
       "display_legend": false,
       "enable_hover": true,
       "image": null,
       "interactions": {
        "hover": "tooltip"
       },
       "label": [
        "139.4",
        "278.7",
        "418.1",
        "557.5",
        "696.8"
       ],
       "label_steps": 1000,
       "labels": [],
       "level": [
        139.36882527669272,
        278.73765055338544,
        418.1064758300781,
        557.4753011067709,
        696.8441263834636
       ],
       "preserve_domain": {},
       "scales": {
        "image": "IPY_MODEL_0acd9b51e19d4dacb4e96776f3e0807a",
        "x": "IPY_MODEL_e9d182703c7f421db9185b0e14f021b4",
        "y": "IPY_MODEL_2575788ee3b245bca63f200cd5d496ce"
       },
       "scales_metadata": {
        "x": {
         "dimension": "x",
         "orientation": "horizontal"
        },
        "y": {
         "dimension": "y",
         "orientation": "vertical"
        }
       },
       "selected": null,
       "selected_style": {},
       "tooltip": null,
       "tooltip_location": "mouse",
       "tooltip_style": {
        "opacity": 0.9
       },
       "unselected_style": {},
       "visible": false
      }
     },
     "bf2852eab8f84027b72a5672288c30cd": {
      "model_module": "@jupyter-widgets/base",
      "model_module_version": "2.0.0",
      "model_name": "LayoutModel",
      "state": {
       "_model_module": "@jupyter-widgets/base",
       "_model_module_version": "2.0.0",
       "_model_name": "LayoutModel",
       "_view_count": null,
       "_view_module": "@jupyter-widgets/base",
       "_view_module_version": "2.0.0",
       "_view_name": "LayoutView",
       "align_content": null,
       "align_items": null,
       "align_self": null,
       "border_bottom": null,
       "border_left": null,
       "border_right": null,
       "border_top": null,
       "bottom": null,
       "display": null,
       "flex": null,
       "flex_flow": null,
       "grid_area": "pathlist",
       "grid_auto_columns": null,
       "grid_auto_flow": null,
       "grid_auto_rows": null,
       "grid_column": null,
       "grid_gap": null,
       "grid_row": null,
       "grid_template_areas": null,
       "grid_template_columns": null,
       "grid_template_rows": null,
       "height": null,
       "justify_content": null,
       "justify_items": null,
       "left": null,
       "margin": null,
       "max_height": null,
       "max_width": null,
       "min_height": null,
       "min_width": null,
       "object_fit": null,
       "object_position": null,
       "order": null,
       "overflow": null,
       "padding": null,
       "right": null,
       "top": null,
       "visibility": null,
       "width": "auto"
      }
     },
     "c02f203377d141c1be3e72e39b43a6bc": {
      "model_module": "@jupyter-widgets/base",
      "model_module_version": "2.0.0",
      "model_name": "LayoutModel",
      "state": {
       "_model_module": "@jupyter-widgets/base",
       "_model_module_version": "2.0.0",
       "_model_name": "LayoutModel",
       "_view_count": null,
       "_view_module": "@jupyter-widgets/base",
       "_view_module_version": "2.0.0",
       "_view_name": "LayoutView",
       "align_content": null,
       "align_items": null,
       "align_self": null,
       "border_bottom": null,
       "border_left": null,
       "border_right": null,
       "border_top": null,
       "bottom": null,
       "display": null,
       "flex": null,
       "flex_flow": null,
       "grid_area": null,
       "grid_auto_columns": null,
       "grid_auto_flow": null,
       "grid_auto_rows": null,
       "grid_column": null,
       "grid_gap": null,
       "grid_row": null,
       "grid_template_areas": null,
       "grid_template_columns": null,
       "grid_template_rows": null,
       "height": null,
       "justify_content": null,
       "justify_items": null,
       "left": null,
       "margin": null,
       "max_height": null,
       "max_width": null,
       "min_height": null,
       "min_width": null,
       "object_fit": null,
       "object_position": null,
       "order": null,
       "overflow": null,
       "padding": null,
       "right": null,
       "top": null,
       "visibility": null,
       "width": null
      }
     },
     "c1fb0c3d0d1341e59f36f6fe378b8def": {
      "model_module": "@jupyter-widgets/base",
      "model_module_version": "2.0.0",
      "model_name": "LayoutModel",
      "state": {
       "_model_module": "@jupyter-widgets/base",
       "_model_module_version": "2.0.0",
       "_model_name": "LayoutModel",
       "_view_count": null,
       "_view_module": "@jupyter-widgets/base",
       "_view_module_version": "2.0.0",
       "_view_name": "LayoutView",
       "align_content": null,
       "align_items": null,
       "align_self": null,
       "border_bottom": null,
       "border_left": null,
       "border_right": null,
       "border_top": null,
       "bottom": null,
       "display": null,
       "flex": null,
       "flex_flow": null,
       "grid_area": null,
       "grid_auto_columns": null,
       "grid_auto_flow": null,
       "grid_auto_rows": null,
       "grid_column": null,
       "grid_gap": null,
       "grid_row": null,
       "grid_template_areas": null,
       "grid_template_columns": null,
       "grid_template_rows": null,
       "height": null,
       "justify_content": null,
       "justify_items": null,
       "left": null,
       "margin": null,
       "max_height": null,
       "max_width": null,
       "min_height": null,
       "min_width": null,
       "object_fit": null,
       "object_position": null,
       "order": null,
       "overflow": null,
       "padding": null,
       "right": null,
       "top": null,
       "visibility": null,
       "width": null
      }
     },
     "c22d86f78d3f468ebd64d415bef56c39": {
      "model_module": "jupyter-vuetify",
      "model_module_version": "^1.8.5",
      "model_name": "ListItemActionModel",
      "state": {
       "_dom_classes": [],
       "_events": [],
       "_jupyter_vue": "IPY_MODEL_28c992a30e9e48598df49b24e8922228",
       "_metadata": null,
       "_model_module": "jupyter-vuetify",
       "_model_module_version": "^1.8.5",
       "_model_name": "ListItemActionModel",
       "_view_count": null,
       "_view_module": "jupyter-vuetify",
       "_view_module_version": "^1.8.5",
       "_view_name": "VuetifyView",
       "attributes": {},
       "children": [
        "IPY_MODEL_97eda2e8bd154589a16c84438da86dff"
       ],
       "class_": null,
       "layout": null,
       "slot": null,
       "style_": null,
       "tabbable": null,
       "tooltip": null,
       "v_model": "!!disabled!!",
       "v_on": null,
       "v_slots": []
      }
     },
     "c2b69cb4ab4a49638fc51810871154ea": {
      "model_module": "jupyter-vue",
      "model_module_version": "^1.10.1",
      "model_name": "TemplateModel",
      "state": {
       "_model_module": "jupyter-vue",
       "_model_module_version": "^1.10.1",
       "_model_name": "TemplateModel",
       "_view_count": null,
       "_view_module": null,
       "_view_module_version": "",
       "_view_name": null,
       "template": "<template>\n  <div style=\"overflow: hidden\">\n    <v-btn-toggle v-model=\"active_tool_id\" class=\"transparent\">\n        <v-tooltip v-for=\"[id, {tooltip, img, menu_ind, has_suboptions, primary, visible}] of Object.entries(tools_data)\" v-if=\"primary && visible\" bottom>\n            <template v-slot:activator=\"{ on }\">\n                <v-btn v-on=\"on\" icon :value=\"id\" style=\"min-width: 40px !important\" @contextmenu=\"(e) => show_submenu(e, has_suboptions, menu_ind)\">\n                    <img :src=\"img\" width=\"20px\" @click.ctrl.stop=\"\"/>\n                    <v-icon small v-if=\"has_suboptions\" class=\"suboptions-carrot\" @click.ctrl.stop=\"\">mdi-menu-down</v-icon>\n                </v-btn>\n            </template>\n            <span>{{ tooltip }}{{has_suboptions ? \" [right-click for alt. tools]\" : \"\"}}</span>\n        </v-tooltip>\n    </v-btn-toggle>\n    <v-menu\n      v-model=\"show_suboptions\"\n      :position-x=\"suboptions_x\"\n      :position-y=\"suboptions_y\"\n      absolute\n      offset-y\n      dense\n      :close-on-click=\"close_on_click\"\n    >\n      <v-list>\n        <v-tooltip\n          v-for=\"[id, {tooltip, img, menu_ind, has_suboptions, primary, visible}] of Object.entries(tools_data)\"\n          v-if=\"menu_ind==suboptions_ind && visible\"\n          :key=\"id\"\n          left\n        >\n          <template v-slot:activator=\"{ on, attrs }\">\n            <v-list-item v-bind=\"attrs\" v-on=\"on\" :input-value=\"primary\" @click=\"() => select_primary([menu_ind, id])\">\n              <v-list-item-title><img class='invert-if-dark' :src=\"img\" width=\"20\"/></v-list-item-title>\n            </v-list-item>\n          </template>\n          <span>{{ tooltip }}</span>\n        </v-tooltip>\n      </v-list>\n    </v-menu>\n  </div>\n</template>\n\n<script>\n  export default {\n    watch: {\n      show_suboptions(value) {\n        /* workaround for safari on MacOS, which triggers an extra click when using ctrl-click as right-click. The\n         * `close-on-click` can't be prevented with `@click.ctrl.stop` */\n        if (value) {\n          setTimeout(() => {\n            this.close_on_click = true;\n          }, 100)\n        } else {\n          this.close_on_click = false;\n        }\n      }\n    },\n    methods: {\n      show_submenu (e, has_suboptions, menu_ind) {\n        // needed to prevent browser context-menu\n        e.preventDefault()\n        // needed to prevent lab context-menu\n        e.stopPropagation()\n        if (!has_suboptions) {\n          return\n        }\n        /* find the absolute position of the clicked button and position the overlaying\n           submenu directly below.  Note that scrolling while the menu is open will leave\n           the menu fixed on the window */\n        this.show_suboptions = false\n        this.suboptions_ind = menu_ind\n        // e.path is not standard and not available in all browsers: https://stackoverflow.com/questions/39245488/event-path-is-undefined-running-in-firefox\n        const path = e.path || (e.composedPath && e.composedPath());\n        const bb = path.find(element => element.nodeName == 'BUTTON').getBoundingClientRect()\n        this.suboptions_x = bb.left\n        this.suboptions_y = bb.bottom\n        this.$nextTick(() => {\n          this.show_suboptions = true\n        })\n      }\n    },\n  }\n</script>\n\n<style>\n.suboptions-carrot {\n  transform: rotate(-45deg);\n  bottom: 0px;\n  right: 6px !important;\n  margin-right: -22px;\n  /* the parent button will invert everything anyways, so we need to override this to be black first,\n     regardless of light or dark theme */\n  color: black !important;\n}\n\n.theme--dark .invert-if-dark {\n  filter: invert(1) !important;\n}\n</style>\n"
      }
     },
     "c2c962295f604195afe0264e9919061e": {
      "model_module": "@jupyter-widgets/base",
      "model_module_version": "2.0.0",
      "model_name": "LayoutModel",
      "state": {
       "_model_module": "@jupyter-widgets/base",
       "_model_module_version": "2.0.0",
       "_model_name": "LayoutModel",
       "_view_count": null,
       "_view_module": "@jupyter-widgets/base",
       "_view_module_version": "2.0.0",
       "_view_name": "LayoutView",
       "align_content": null,
       "align_items": null,
       "align_self": null,
       "border_bottom": null,
       "border_left": null,
       "border_right": null,
       "border_top": null,
       "bottom": null,
       "display": null,
       "flex": null,
       "flex_flow": null,
       "grid_area": null,
       "grid_auto_columns": null,
       "grid_auto_flow": null,
       "grid_auto_rows": null,
       "grid_column": null,
       "grid_gap": null,
       "grid_row": null,
       "grid_template_areas": null,
       "grid_template_columns": null,
       "grid_template_rows": null,
       "height": null,
       "justify_content": null,
       "justify_items": null,
       "left": null,
       "margin": null,
       "max_height": null,
       "max_width": null,
       "min_height": null,
       "min_width": null,
       "object_fit": null,
       "object_position": null,
       "order": null,
       "overflow": null,
       "padding": null,
       "right": null,
       "top": null,
       "visibility": null,
       "width": null
      }
     },
     "c2d2bad696c34088b9006b48fbbade70": {
      "model_module": "bqplot",
      "model_module_version": "^0.5",
      "model_name": "LinearScaleModel",
      "state": {
       "_model_module": "bqplot",
       "_model_module_version": "^0.5",
       "_model_name": "LinearScaleModel",
       "_view_count": null,
       "_view_module": "bqplot",
       "_view_module_version": "^0.5",
       "_view_name": "LinearScale",
       "allow_padding": true,
       "max": null,
       "mid_range": 0.8,
       "min": null,
       "min_range": 0.6,
       "reverse": false,
       "stabilized": false
      }
     },
     "c44eb74ae9a14831b41a932ebcad5827": {
      "model_module": "jupyter-vuetify",
      "model_module_version": "^1.8.10",
      "model_name": "VuetifyTemplateModel",
      "state": {
       "_component_instances": [],
       "_dom_classes": [],
       "_jupyter_vue": "IPY_MODEL_28c992a30e9e48598df49b24e8922228",
       "_model_module": "jupyter-vuetify",
       "_model_module_version": "^1.8.10",
       "_model_name": "VuetifyTemplateModel",
       "_view_count": null,
       "_view_module": "jupyter-vuetify",
       "_view_module_version": "^1.8.10",
       "_view_name": "VuetifyView",
       "components": null,
       "css": null,
       "data": null,
       "echo_available": true,
       "events": [],
       "is_displayed": false,
       "kernel_id": "",
       "layout": "IPY_MODEL_71c6e16f6e0743a0b340f6aa19822a14",
       "methods": null,
       "open_tab_on_display": false,
       "open_window_on_display": false,
       "tabbable": null,
       "target_model_id": "b1fe1ca9995343a889f18d056aac411e",
       "template": "IPY_MODEL_d55e72844de240529f76b5d1b37d37bf",
       "tooltip": null,
       "window_features": "popup,width=400,height=600",
       "window_name": "b1fe1ca9995343a889f18d056aac411e"
      }
     },
     "c5d26924dfc14b87a25916bc107dec44": {
      "model_module": "jupyter-vuetify",
      "model_module_version": "^1.8.5",
      "model_name": "BtnModel",
      "state": {
       "_dom_classes": [],
       "_events": [],
       "_jupyter_vue": "IPY_MODEL_28c992a30e9e48598df49b24e8922228",
       "_metadata": null,
       "_model_module": "jupyter-vuetify",
       "_model_module_version": "^1.8.5",
       "_model_name": "BtnModel",
       "_view_count": null,
       "_view_module": "jupyter-vuetify",
       "_view_module_version": "^1.8.5",
       "_view_name": "VuetifyView",
       "absolute": null,
       "active_class": null,
       "append": null,
       "attributes": {},
       "block": null,
       "bottom": null,
       "children": [
        "IPY_MODEL_bd5f92ae6a34478496ae5a2994fdb30d"
       ],
       "class_": null,
       "color": null,
       "dark": null,
       "depressed": null,
       "disabled": null,
       "elevation": null,
       "exact": null,
       "exact_active_class": null,
       "fab": null,
       "fixed": null,
       "height": null,
       "href": null,
       "icon": true,
       "input_value": null,
       "large": null,
       "layout": null,
       "left": null,
       "light": null,
       "link": null,
       "loading": null,
       "max_height": null,
       "max_width": null,
       "min_height": null,
       "min_width": null,
       "nuxt": null,
       "outlined": null,
       "replace": null,
       "retain_focus_on_click": null,
       "right": null,
       "ripple": null,
       "rounded": null,
       "slot": null,
       "small": null,
       "style_": null,
       "tabbable": null,
       "tag": null,
       "target": null,
       "text": null,
       "tile": null,
       "to": null,
       "tooltip": null,
       "top": null,
       "type": null,
       "v_model": "!!disabled!!",
       "v_on": "menu.on",
       "v_slots": [],
       "value": null,
       "width": null,
       "x_large": null,
       "x_small": null
      }
     },
     "c63f5bbabe154135ad525471ec0f2461": {
      "model_module": "@jupyter-widgets/base",
      "model_module_version": "2.0.0",
      "model_name": "LayoutModel",
      "state": {
       "_model_module": "@jupyter-widgets/base",
       "_model_module_version": "2.0.0",
       "_model_name": "LayoutModel",
       "_view_count": null,
       "_view_module": "@jupyter-widgets/base",
       "_view_module_version": "2.0.0",
       "_view_name": "LayoutView",
       "align_content": null,
       "align_items": null,
       "align_self": null,
       "border_bottom": null,
       "border_left": null,
       "border_right": null,
       "border_top": null,
       "bottom": null,
       "display": null,
       "flex": null,
       "flex_flow": null,
       "grid_area": null,
       "grid_auto_columns": null,
       "grid_auto_flow": null,
       "grid_auto_rows": null,
       "grid_column": null,
       "grid_gap": null,
       "grid_row": null,
       "grid_template_areas": null,
       "grid_template_columns": null,
       "grid_template_rows": null,
       "height": null,
       "justify_content": null,
       "justify_items": null,
       "left": null,
       "margin": null,
       "max_height": null,
       "max_width": null,
       "min_height": null,
       "min_width": null,
       "object_fit": null,
       "object_position": null,
       "order": null,
       "overflow": null,
       "padding": null,
       "right": null,
       "top": null,
       "visibility": null,
       "width": null
      }
     },
     "c64577afcfcb4edea0da977a5bb3b483": {
      "model_module": "@jupyter-widgets/base",
      "model_module_version": "2.0.0",
      "model_name": "LayoutModel",
      "state": {
       "_model_module": "@jupyter-widgets/base",
       "_model_module_version": "2.0.0",
       "_model_name": "LayoutModel",
       "_view_count": null,
       "_view_module": "@jupyter-widgets/base",
       "_view_module_version": "2.0.0",
       "_view_name": "LayoutView",
       "align_content": null,
       "align_items": null,
       "align_self": null,
       "border_bottom": null,
       "border_left": null,
       "border_right": null,
       "border_top": null,
       "bottom": null,
       "display": null,
       "flex": null,
       "flex_flow": null,
       "grid_area": null,
       "grid_auto_columns": null,
       "grid_auto_flow": null,
       "grid_auto_rows": null,
       "grid_column": null,
       "grid_gap": null,
       "grid_row": null,
       "grid_template_areas": null,
       "grid_template_columns": null,
       "grid_template_rows": null,
       "height": null,
       "justify_content": null,
       "justify_items": null,
       "left": null,
       "margin": null,
       "max_height": null,
       "max_width": null,
       "min_height": null,
       "min_width": null,
       "object_fit": null,
       "object_position": null,
       "order": null,
       "overflow": null,
       "padding": null,
       "right": null,
       "top": null,
       "visibility": null,
       "width": null
      }
     },
     "c67fdbfab8ec4fb8a4c7e6de3beb85b8": {
      "model_module": "@jupyter-widgets/base",
      "model_module_version": "2.0.0",
      "model_name": "LayoutModel",
      "state": {
       "_model_module": "@jupyter-widgets/base",
       "_model_module_version": "2.0.0",
       "_model_name": "LayoutModel",
       "_view_count": null,
       "_view_module": "@jupyter-widgets/base",
       "_view_module_version": "2.0.0",
       "_view_name": "LayoutView",
       "align_content": null,
       "align_items": null,
       "align_self": null,
       "border_bottom": null,
       "border_left": null,
       "border_right": null,
       "border_top": null,
       "bottom": null,
       "display": null,
       "flex": null,
       "flex_flow": null,
       "grid_area": null,
       "grid_auto_columns": null,
       "grid_auto_flow": null,
       "grid_auto_rows": null,
       "grid_column": null,
       "grid_gap": null,
       "grid_row": null,
       "grid_template_areas": null,
       "grid_template_columns": null,
       "grid_template_rows": null,
       "height": null,
       "justify_content": null,
       "justify_items": null,
       "left": null,
       "margin": null,
       "max_height": null,
       "max_width": null,
       "min_height": null,
       "min_width": null,
       "object_fit": null,
       "object_position": null,
       "order": null,
       "overflow": null,
       "padding": null,
       "right": null,
       "top": null,
       "visibility": null,
       "width": null
      }
     },
     "c8927107984b4d16886351a590ebbf6e": {
      "model_module": "jupyter-vuetify",
      "model_module_version": "^1.8.5",
      "model_name": "ListItemModel",
      "state": {
       "_dom_classes": [],
       "_events": [
        "click"
       ],
       "_jupyter_vue": "IPY_MODEL_28c992a30e9e48598df49b24e8922228",
       "_metadata": null,
       "_model_module": "jupyter-vuetify",
       "_model_module_version": "^1.8.5",
       "_model_name": "ListItemModel",
       "_view_count": null,
       "_view_module": "jupyter-vuetify",
       "_view_module_version": "^1.8.5",
       "_view_name": "VuetifyView",
       "active_class": null,
       "append": null,
       "attributes": {},
       "children": [
        "IPY_MODEL_96ca644c27934fbd89a892c79b305ce4",
        "IPY_MODEL_d36e9d9b20bf4780ba336dd9714f3aee"
       ],
       "class_": null,
       "color": null,
       "dark": null,
       "dense": null,
       "disabled": null,
       "exact": null,
       "exact_active_class": null,
       "href": null,
       "inactive": null,
       "input_value": null,
       "layout": null,
       "light": null,
       "link": null,
       "nuxt": null,
       "replace": null,
       "ripple": null,
       "selectable": null,
       "slot": null,
       "style_": null,
       "tabbable": null,
       "tag": null,
       "target": null,
       "three_line": null,
       "to": null,
       "tooltip": null,
       "two_line": null,
       "v_model": "!!disabled!!",
       "v_on": null,
       "v_slots": [],
       "value": null
      }
     },
     "c96086e872174c0da0a6b7ea39154936": {
      "model_module": "jupyter-vue",
      "model_module_version": "^1.10.1",
      "model_name": "TemplateModel",
      "state": {
       "_model_module": "jupyter-vue",
       "_model_module_version": "^1.10.1",
       "_model_name": "TemplateModel",
       "_view_count": null,
       "_view_module": null,
       "_view_module_version": "",
       "_view_name": null,
       "template": "<template>\n    <div>\n        <div>\n            <v-select label=\"attribute\" :items=\"attribute_items\" v-model=\"attribute_selected\" hide-details class=\"margin-bottom: 16px\" />\n        </div>\n        <template v-if=\"has_contour\">\n            <v-divider class=\"mt-6\"/>\n            <div>\n                <strong>Contour</strong>\n                <v-btn icon @click.stop=\"glue_state.contour_visible = !glue_state.contour_visible\">\n                    <v-icon>mdi-eye{{ glue_state.contour_visible ? '' : '-off' }}</v-icon>\n                </v-btn>\n            </div>\n            <v-expand-transition>\n                <div v-if=\"glue_state.contour_visible\">\n                    <v-btn-toggle dense v-model=\"glue_state.level_mode\" style=\"margin-right: 8px; margin-top: 8px\">\n\n                        <v-tooltip bottom>\n                            <template v-slot:activator=\"{ on }\">\n                                <v-btn v-on=\"on\" small value=\"Linear\">\n                                    <v-icon>mdi-call-made</v-icon>\n                                </v-btn>\n                            </template>\n                            <span>linear</span>\n                        </v-tooltip>\n\n                        <v-tooltip bottom>\n                            <template v-slot:activator=\"{ on }\">\n                                <v-btn v-on=\"on\" small value=\"Custom\">\n                                    <v-icon>mdi-wrench</v-icon>\n                                </v-btn>\n                            </template>\n                            <span>custom</span>\n                        </v-tooltip>\n                    </v-btn-toggle>\n\n                    <template v-if=\"glue_state.level_mode == 'Linear'\">\n                        <glue-float-field label=\"contour min\" :value.sync=\"glue_state.c_min\" />\n                        <glue-float-field label=\"contour max\" :value.sync=\"glue_state.c_max\" />\n                        <glue-float-field label=\"number of contour levels\" :value.sync=\"glue_state.n_levels\"/>\n                    </template>\n                    <v-text-field v-else label=\"contour levels\" v-model=\"c_levels_txt\" :rules=\"() => c_levels_error !== ''\"\n                                  :error-messages=\"c_levels_error !== '' && [c_levels_error]\"/>\n                </div>\n            </v-expand-transition>\n            <v-divider class=\"mt-6\"/>\n            <div>\n                <strong>Bitmap</strong>\n                <v-btn icon @click.stop=\"glue_state.bitmap_visible = !glue_state.bitmap_visible\">\n                    <v-icon>mdi-eye{{ glue_state.bitmap_visible ? '' : '-off' }}</v-icon>\n                </v-btn>\n            </div>\n        </template>\n        <v-expand-transition>\n            <div v-if=\"!has_contour || glue_state.bitmap_visible\">\n                <div>\n                    <v-subheader class=\"pl-0 slider-label\">opacity</v-subheader>\n                    <glue-throttled-slider wait=\"300\" max=\"1\" step=\"0.01\" :value.sync=\"glue_state.alpha\" hide-details />\n                </div>\n                <div>\n                    <v-subheader class=\"pl-0 slider-label\">contrast</v-subheader>\n                    <glue-throttled-slider wait=\"300\" max=\"4\" step=\"0.01\" :value.sync=\"glue_state.contrast\" hide-details />\n                </div>\n                <div>\n                    <v-subheader class=\"pl-0 slider-label\">bias</v-subheader>\n                    <glue-throttled-slider wait=\"300\" max=\"1\" step=\"0.01\" :value.sync=\"glue_state.bias\" hide-details />\n                </div>\n                <div>\n                    <v-select label=\"stretch\" :items=\"stretch_items\" v-model=\"stretch_selected\" hide-details />\n                </div>\n                <div>\n                    <v-select label=\"percentile\" :items=\"percentile_items\" v-model=\"percentile_selected\" hide-details />\n                </div>\n                <div>\n                    <glue-float-field label=\"min\" :value.sync=\"glue_state.v_min\" />\n                </div>\n                <div>\n                    <glue-float-field label=\"max\" :value.sync=\"glue_state.v_max\" />\n                </div>\n                <div v-if=\"color_mode === 'Colormaps'\">\n                    <v-select label=\"colormap\" :items=\"colormap_items\" :value=\"glue_state.cmap\" @change=\"set_colormap\" />\n                </div>\n            </div>\n        </v-expand-transition>\n    </div>\n</template>\n<script>\n    modules.export = {\n        methods: {\n            /* TODO: use @change with debounce instead of @end */\n            setAlpha(value) {\n                this.glue_state.alpha = value;\n            },\n            setContrast(value) {\n                this.glue_state.contrast = value;\n            },\n            setBias(value) {\n                this.glue_state.bias = value;\n            },\n        },\n    }\n</script>\n<style id=\"layer_image\">\n    .v-subheader.slider-label {\n        font-size: 12px;\n        height: 16px;\n    }\n</style>\n"
      }
     },
     "cbadb205459b4ac1b59fd1ae59e9e51d": {
      "model_module": "bqplot",
      "model_module_version": "^0.5",
      "model_name": "BrushSelectorModel",
      "state": {
       "_model_module": "bqplot",
       "_model_module_version": "^0.5",
       "_model_name": "BrushSelectorModel",
       "_view_count": null,
       "_view_module": "bqplot",
       "_view_module_version": "^0.5",
       "_view_name": "BrushSelector",
       "brushing": false,
       "clear": false,
       "color": "#cbcbcb",
       "marks": [],
       "selected_x": null,
       "selected_y": null,
       "x_scale": "IPY_MODEL_e9d182703c7f421db9185b0e14f021b4",
       "y_scale": "IPY_MODEL_2575788ee3b245bca63f200cd5d496ce"
      }
     },
     "cbe6c358c73541eca4fd0168417a8e9e": {
      "model_module": "jupyter-vuetify",
      "model_module_version": "^1.8.10",
      "model_name": "VuetifyTemplateModel",
      "state": {
       "_component_instances": [],
       "_dom_classes": [],
       "_jupyter_vue": "IPY_MODEL_28c992a30e9e48598df49b24e8922228",
       "_model_module": "jupyter-vuetify",
       "_model_module_version": "^1.8.10",
       "_model_name": "VuetifyTemplateModel",
       "_view_count": null,
       "_view_module": "jupyter-vuetify",
       "_view_module_version": "^1.8.10",
       "_view_name": "VuetifyView",
       "components": null,
       "css": null,
       "data": null,
       "echo_available": true,
       "events": [],
       "is_displayed": false,
       "kernel_id": "",
       "layout": "IPY_MODEL_4eec7d4e85f04bb39a3cbfc5faf48699",
       "methods": null,
       "open_tab_on_display": false,
       "open_window_on_display": false,
       "tabbable": null,
       "target_model_id": "1466241de05a497cb0ab95bd3c9e152a",
       "template": "IPY_MODEL_d55e72844de240529f76b5d1b37d37bf",
       "tooltip": null,
       "window_features": "popup,width=400,height=600",
       "window_name": "1466241de05a497cb0ab95bd3c9e152a"
      }
     },
     "cc24cac96f424cceb9ffabbbcf5fb5f7": {
      "buffers": [
       {
        "data": "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",
        "encoding": "base64",
        "path": [
         "value"
        ]
       }
      ],
      "model_module": "@jupyter-widgets/controls",
      "model_module_version": "2.0.0",
      "model_name": "ImageModel",
      "state": {
       "_dom_classes": [],
       "_model_module": "@jupyter-widgets/controls",
       "_model_module_version": "2.0.0",
       "_model_name": "ImageModel",
       "_view_count": null,
       "_view_module": "@jupyter-widgets/controls",
       "_view_module_version": "2.0.0",
       "_view_name": "ImageView",
       "format": "svg+xml",
       "height": "",
       "layout": "IPY_MODEL_c1fb0c3d0d1341e59f36f6fe378b8def",
       "tabbable": null,
       "tooltip": null,
       "width": "20"
      }
     },
     "cc89b5a641e1420c9e03a3958eaf7ee1": {
      "model_module": "bqplot",
      "model_module_version": "^0.5",
      "model_name": "PanZoomModel",
      "state": {
       "_model_module": "bqplot",
       "_model_module_version": "^0.5",
       "_model_name": "PanZoomModel",
       "_view_count": null,
       "_view_module": "bqplot",
       "_view_module_version": "^0.5",
       "_view_name": "PanZoom",
       "allow_pan": true,
       "allow_zoom": true,
       "scales": {
        "x": [
         "IPY_MODEL_e9d182703c7f421db9185b0e14f021b4"
        ],
        "y": [
         "IPY_MODEL_2575788ee3b245bca63f200cd5d496ce"
        ]
       }
      }
     },
     "ccedad24bd9f4e018df646f3e9ae6edf": {
      "model_module": "@jupyter-widgets/base",
      "model_module_version": "2.0.0",
      "model_name": "LayoutModel",
      "state": {
       "_model_module": "@jupyter-widgets/base",
       "_model_module_version": "2.0.0",
       "_model_name": "LayoutModel",
       "_view_count": null,
       "_view_module": "@jupyter-widgets/base",
       "_view_module_version": "2.0.0",
       "_view_name": "LayoutView",
       "align_content": null,
       "align_items": null,
       "align_self": null,
       "border_bottom": null,
       "border_left": null,
       "border_right": null,
       "border_top": null,
       "bottom": null,
       "display": null,
       "flex": null,
       "flex_flow": null,
       "grid_area": null,
       "grid_auto_columns": null,
       "grid_auto_flow": null,
       "grid_auto_rows": null,
       "grid_column": null,
       "grid_gap": null,
       "grid_row": null,
       "grid_template_areas": null,
       "grid_template_columns": null,
       "grid_template_rows": null,
       "height": null,
       "justify_content": null,
       "justify_items": null,
       "left": null,
       "margin": null,
       "max_height": null,
       "max_width": null,
       "min_height": null,
       "min_width": null,
       "object_fit": null,
       "object_position": null,
       "order": null,
       "overflow": null,
       "padding": null,
       "right": null,
       "top": null,
       "visibility": null,
       "width": null
      }
     },
     "cd15da853b134886a22e7c48ab7d338f": {
      "model_module": "@jupyter-widgets/output",
      "model_module_version": "1.0.0",
      "model_name": "OutputModel",
      "state": {
       "_dom_classes": [],
       "_model_module": "@jupyter-widgets/output",
       "_model_module_version": "1.0.0",
       "_model_name": "OutputModel",
       "_view_count": null,
       "_view_module": "@jupyter-widgets/output",
       "_view_module_version": "1.0.0",
       "_view_name": "OutputView",
       "layout": "IPY_MODEL_0543c1d95aee467cb8012a625684b9f2",
       "msg_id": "",
       "outputs": [],
       "tabbable": null,
       "tooltip": null
      }
     },
     "cd8d6ba7fab9480686adac12b9178a9d": {
      "model_module": "jupyter-vuetify",
      "model_module_version": "^1.8.10",
      "model_name": "VuetifyTemplateModel",
      "state": {
       "_component_instances": [],
       "_dom_classes": [],
       "_jupyter_vue": "IPY_MODEL_28c992a30e9e48598df49b24e8922228",
       "_model_module": "jupyter-vuetify",
       "_model_module_version": "^1.8.10",
       "_model_name": "VuetifyTemplateModel",
       "_view_count": null,
       "_view_module": "jupyter-vuetify",
       "_view_module_version": "^1.8.10",
       "_view_name": "VuetifyView",
       "components": null,
       "css": null,
       "data": null,
       "echo_available": true,
       "events": [],
       "is_displayed": false,
       "kernel_id": "",
       "layout": "IPY_MODEL_b405a35fafc6458593ed75ed66765a6f",
       "methods": null,
       "open_tab_on_display": false,
       "open_window_on_display": false,
       "tabbable": null,
       "target_model_id": "a0be759f3e9b41b5b575868a91e13e96",
       "template": "IPY_MODEL_d55e72844de240529f76b5d1b37d37bf",
       "tooltip": null,
       "window_features": "popup,width=400,height=600",
       "window_name": "a0be759f3e9b41b5b575868a91e13e96"
      }
     },
     "cdf90a54843f473995d5d815dd49a9c0": {
      "model_module": "@jupyter-widgets/base",
      "model_module_version": "2.0.0",
      "model_name": "LayoutModel",
      "state": {
       "_model_module": "@jupyter-widgets/base",
       "_model_module_version": "2.0.0",
       "_model_name": "LayoutModel",
       "_view_count": null,
       "_view_module": "@jupyter-widgets/base",
       "_view_module_version": "2.0.0",
       "_view_name": "LayoutView",
       "align_content": null,
       "align_items": null,
       "align_self": null,
       "border_bottom": null,
       "border_left": null,
       "border_right": null,
       "border_top": null,
       "bottom": null,
       "display": null,
       "flex": null,
       "flex_flow": null,
       "grid_area": null,
       "grid_auto_columns": null,
       "grid_auto_flow": null,
       "grid_auto_rows": null,
       "grid_column": null,
       "grid_gap": null,
       "grid_row": null,
       "grid_template_areas": null,
       "grid_template_columns": null,
       "grid_template_rows": null,
       "height": null,
       "justify_content": null,
       "justify_items": null,
       "left": null,
       "margin": null,
       "max_height": null,
       "max_width": null,
       "min_height": null,
       "min_width": null,
       "object_fit": null,
       "object_position": null,
       "order": null,
       "overflow": null,
       "padding": null,
       "right": null,
       "top": null,
       "visibility": null,
       "width": null
      }
     },
     "ce908f5e00b54379918e2f1cb7352a96": {
      "model_module": "bqplot",
      "model_module_version": "^0.5",
      "model_name": "LinearScaleModel",
      "state": {
       "_model_module": "bqplot",
       "_model_module_version": "^0.5",
       "_model_name": "LinearScaleModel",
       "_view_count": null,
       "_view_module": "bqplot",
       "_view_module_version": "^0.5",
       "_view_name": "LinearScale",
       "allow_padding": false,
       "max": 1.0,
       "mid_range": 0.8,
       "min": 0.0,
       "min_range": 0.6,
       "reverse": false,
       "stabilized": false
      }
     },
     "ceaa0f17a15347af92f8acdef1f74623": {
      "model_module": "jupyter-vuetify",
      "model_module_version": "^1.8.10",
      "model_name": "ThemeColorsModel",
      "state": {
       "_model_module": "jupyter-vuetify",
       "_model_module_version": "^1.8.10",
       "_model_name": "ThemeColorsModel",
       "_theme_name": "light",
       "_view_count": null,
       "_view_module": null,
       "_view_module_version": "^1.8.10",
       "_view_name": null,
       "accent": "#82B1FF",
       "anchor": null,
       "error": "#FF5252",
       "info": "#2196F3",
       "primary": "#1976D2",
       "secondary": "#424242",
       "success": "#4CAF50",
       "warning": "#FB8C00"
      }
     },
     "cf3406c80c9b4d619a8f3d0a62e6ceb2": {
      "model_module": "@jupyter-widgets/base",
      "model_module_version": "2.0.0",
      "model_name": "LayoutModel",
      "state": {
       "_model_module": "@jupyter-widgets/base",
       "_model_module_version": "2.0.0",
       "_model_name": "LayoutModel",
       "_view_count": null,
       "_view_module": "@jupyter-widgets/base",
       "_view_module_version": "2.0.0",
       "_view_name": "LayoutView",
       "align_content": null,
       "align_items": null,
       "align_self": null,
       "border_bottom": null,
       "border_left": null,
       "border_right": null,
       "border_top": null,
       "bottom": null,
       "display": null,
       "flex": null,
       "flex_flow": null,
       "grid_area": null,
       "grid_auto_columns": null,
       "grid_auto_flow": null,
       "grid_auto_rows": null,
       "grid_column": null,
       "grid_gap": null,
       "grid_row": null,
       "grid_template_areas": null,
       "grid_template_columns": null,
       "grid_template_rows": null,
       "height": null,
       "justify_content": null,
       "justify_items": null,
       "left": null,
       "margin": null,
       "max_height": null,
       "max_width": null,
       "min_height": null,
       "min_width": null,
       "object_fit": null,
       "object_position": null,
       "order": null,
       "overflow": null,
       "padding": null,
       "right": null,
       "top": null,
       "visibility": null,
       "width": null
      }
     },
     "d0295fae09ec46c4a2bddbd33f2c487b": {
      "model_module": "jupyter-vue",
      "model_module_version": "^1.10.1",
      "model_name": "TemplateModel",
      "state": {
       "_model_module": "jupyter-vue",
       "_model_module_version": "^1.10.1",
       "_model_name": "TemplateModel",
       "_view_count": null,
       "_view_module": null,
       "_view_module_version": "",
       "_view_name": null,
       "template": "<template>\n  <j-tray-plugin\n    description='Re-link images by WCS or pixels.'\n    :link=\"docs_link || 'https://jdaviz.readthedocs.io/en/'+vdocs+'/'+config+'/plugins.html#link-control'\"\n    :popout_button=\"popout_button\">\n\n    <div style=\"display: grid\"> <!-- overlay container -->\n      <div style=\"grid-area: 1/1\">\n        <v-row>\n          <v-radio-group \n            label=\"Link type\"\n            hint=\"Type of linking to be done.\"\n            v-model=\"link_type_selected\"\n            persistent-hint\n            row>\n            <v-radio\n              v-for=\"item in link_type_items\"\n              :key=\"item.label\"\n              :label=\"item.label\"\n              :value=\"item.label\"\n            ></v-radio>\n           </v-radio-group>\n        </v-row>\n\n        <v-row v-if=\"false\">\n          <v-switch\n            label=\"Fallback on Pixels\"\n            hint=\"If WCS linking fails, fallback to linking by pixels.\"\n            v-model=\"wcs_use_fallback\"\n            persistent-hint>\n          </v-switch>\n        </v-row>\n\n        <v-row v-if=\"link_type_selected == 'WCS'\">\n          <v-switch\n            label=\"Fast approximation\"\n            hint=\"Use fast approximation for image alignment if possible (accurate to <1 pixel).\"\n            v-model=\"wcs_use_affine\"\n            persistent-hint>\n          </v-switch>\n        </v-row>\n      </div>\n      <div v-if=\"need_clear_markers\"\n            class=\"text-center\"\n            style=\"grid-area: 1/1; \n                   z-index:2;\n                   margin-left: -24px;\n                   margin-right: -24px;\n                   padding-top: 60px;\n                   background-color: rgb(0 0 0 / 80%)\">\n         <v-card color=\"transparent\" elevation=0 >\n           <v-card-text width=\"100%\">\n             <div class=\"white--text\">\n               Markers must be cleared before re-linking\n             </div>\n           </v-card-text>\n\n           <v-card-actions>\n             <v-row justify=\"end\">\n               <v-btn tile small color=\"accent\" class=\"mr-4\" @click=\"reset_markers\" >Clear Markers</v-btn>\n             </v-row>\n           </v-card-actions>\n         </v-card>\n      </div>      \n      <div v-if=\"linking_in_progress\"\n           class=\"text-center\"\n           style=\"grid-area: 1/1; \n                  z-index:2;\n                  margin-left: -24px;\n                  margin-right: -24px;\n                  padding-top: 60px;\n                  background-color: rgb(0 0 0 / 20%)\">\n        <v-progress-circular\n          indeterminate\n          color=\"spinner\"\n          size=\"50\"\n          width=\"6\"\n        ></v-progress-circular>\n      </div>\n  </j-tray-plugin>\n</template>\n\n<style>\n\n/* addresses https://github.com/pllim/jdaviz/pull/3#issuecomment-926820530 */\ndiv[role=radiogroup] > legend {\n  width: 100%;\n}\n\n</style>\n"
      }
     },
     "d14555cb60204b37b9b5f1b3470e936b": {
      "model_module": "jupyter-vuetify",
      "model_module_version": "^1.8.5",
      "model_name": "ListItemModel",
      "state": {
       "_dom_classes": [],
       "_events": [
        "click"
       ],
       "_jupyter_vue": "IPY_MODEL_28c992a30e9e48598df49b24e8922228",
       "_metadata": null,
       "_model_module": "jupyter-vuetify",
       "_model_module_version": "^1.8.5",
       "_model_name": "ListItemModel",
       "_view_count": null,
       "_view_module": "jupyter-vuetify",
       "_view_module_version": "^1.8.5",
       "_view_name": "VuetifyView",
       "active_class": null,
       "append": null,
       "attributes": {},
       "children": [
        "IPY_MODEL_3e9dd2b87edf43028140da6e465277b2",
        "IPY_MODEL_ab85c5742bca4db8b37c57f6ab400182"
       ],
       "class_": null,
       "color": null,
       "dark": null,
       "dense": null,
       "disabled": null,
       "exact": null,
       "exact_active_class": null,
       "href": null,
       "inactive": null,
       "input_value": null,
       "layout": null,
       "light": null,
       "link": null,
       "nuxt": null,
       "replace": null,
       "ripple": null,
       "selectable": null,
       "slot": null,
       "style_": null,
       "tabbable": null,
       "tag": null,
       "target": null,
       "three_line": null,
       "to": null,
       "tooltip": null,
       "two_line": null,
       "v_model": "!!disabled!!",
       "v_on": null,
       "v_slots": [],
       "value": null
      }
     },
     "d2b5d7a91ef642b9871fe614d7947b0a": {
      "buffers": [
       {
        "data": "",
        "encoding": "base64",
        "path": [
         "x",
         "value"
        ]
       },
       {
        "data": "",
        "encoding": "base64",
        "path": [
         "y",
         "value"
        ]
       }
      ],
      "model_module": "bqplot",
      "model_module_version": "^0.5",
      "model_name": "LinesModel",
      "state": {
       "_model_module": "bqplot",
       "_model_module_version": "^0.5",
       "_model_name": "LinesModel",
       "_view_count": null,
       "_view_module": "bqplot",
       "_view_module_version": "^0.5",
       "_view_name": "Lines",
       "apply_clip": true,
       "close_path": false,
       "color": null,
       "colors": [
        "gray"
       ],
       "curves_subset": [],
       "display_legend": false,
       "enable_hover": true,
       "fill": "none",
       "fill_colors": [],
       "fill_opacities": [],
       "interactions": {
        "hover": "tooltip"
       },
       "interpolation": "linear",
       "labels": [],
       "labels_visibility": "none",
       "line_style": "solid",
       "marker": null,
       "marker_size": 64,
       "opacities": [],
       "preserve_domain": {},
       "scales": {
        "x": "IPY_MODEL_5e68261a31c94d99b4cd19514dd5d9b9",
        "y": "IPY_MODEL_88d6ad2c19c44930b7487fd314ba05ec"
       },
       "scales_metadata": {
        "color": {
         "dimension": "color"
        },
        "x": {
         "dimension": "x",
         "orientation": "horizontal"
        },
        "y": {
         "dimension": "y",
         "orientation": "vertical"
        }
       },
       "selected": null,
       "selected_style": {},
       "stroke_width": 2.0,
       "tooltip": null,
       "tooltip_location": "mouse",
       "tooltip_style": {
        "opacity": 0.9
       },
       "unselected_style": {},
       "visible": true,
       "x": {
        "dtype": "float64",
        "shape": [
         0
        ],
        "type": null
       },
       "y": {
        "dtype": "float64",
        "shape": [
         0
        ],
        "type": null
       }
      }
     },
     "d36e9d9b20bf4780ba336dd9714f3aee": {
      "model_module": "jupyter-vuetify",
      "model_module_version": "^1.8.5",
      "model_name": "ListItemTitleModel",
      "state": {
       "_dom_classes": [],
       "_events": [],
       "_jupyter_vue": "IPY_MODEL_28c992a30e9e48598df49b24e8922228",
       "_metadata": null,
       "_model_module": "jupyter-vuetify",
       "_model_module_version": "^1.8.5",
       "_model_name": "ListItemTitleModel",
       "_view_count": null,
       "_view_module": "jupyter-vuetify",
       "_view_module_version": "^1.8.5",
       "_view_name": "VuetifyView",
       "attributes": {},
       "children": [
        "replace"
       ],
       "class_": null,
       "layout": null,
       "slot": null,
       "style_": null,
       "tabbable": null,
       "tooltip": null,
       "v_model": "!!disabled!!",
       "v_on": null,
       "v_slots": []
      }
     },
     "d4671ef2daa04553abdd1caa45e8ae38": {
      "model_module": "jupyter-vuetify",
      "model_module_version": "^1.8.10",
      "model_name": "VuetifyTemplateModel",
      "state": {
       "_component_instances": [],
       "_dom_classes": [],
       "_jupyter_vue": "IPY_MODEL_28c992a30e9e48598df49b24e8922228",
       "_model_module": "jupyter-vuetify",
       "_model_module_version": "^1.8.10",
       "_model_name": "VuetifyTemplateModel",
       "_view_count": null,
       "_view_module": "jupyter-vuetify",
       "_view_module_version": "^1.8.10",
       "_view_name": "VuetifyView",
       "components": null,
       "css": null,
       "data": null,
       "echo_available": true,
       "events": [],
       "is_displayed": false,
       "kernel_id": "",
       "layout": "IPY_MODEL_9ec2bcc379e34754a9535a05cff412aa",
       "methods": null,
       "open_tab_on_display": false,
       "open_window_on_display": false,
       "tabbable": null,
       "target_model_id": "10d1a7a522bc411c9ae78cfc686f92ed",
       "template": "IPY_MODEL_d55e72844de240529f76b5d1b37d37bf",
       "tooltip": null,
       "window_features": "popup,width=400,height=600",
       "window_name": "10d1a7a522bc411c9ae78cfc686f92ed"
      }
     },
     "d475d291167444f2bdf920885722c7c8": {
      "model_module": "jupyter-vuetify",
      "model_module_version": "^1.8.5",
      "model_name": "ListItemModel",
      "state": {
       "_dom_classes": [],
       "_events": [
        "click"
       ],
       "_jupyter_vue": "IPY_MODEL_28c992a30e9e48598df49b24e8922228",
       "_metadata": null,
       "_model_module": "jupyter-vuetify",
       "_model_module_version": "^1.8.5",
       "_model_name": "ListItemModel",
       "_view_count": null,
       "_view_module": "jupyter-vuetify",
       "_view_module_version": "^1.8.5",
       "_view_name": "VuetifyView",
       "active_class": null,
       "append": null,
       "attributes": {},
       "children": [
        "IPY_MODEL_7f800951184b48dabb10dbe416585c91",
        "IPY_MODEL_8f935188ac1141c88848796a3dc99469"
       ],
       "class_": null,
       "color": null,
       "dark": null,
       "dense": null,
       "disabled": null,
       "exact": null,
       "exact_active_class": null,
       "href": null,
       "inactive": null,
       "input_value": null,
       "layout": null,
       "light": null,
       "link": null,
       "nuxt": null,
       "replace": null,
       "ripple": null,
       "selectable": null,
       "slot": null,
       "style_": null,
       "tabbable": null,
       "tag": null,
       "target": null,
       "three_line": null,
       "to": null,
       "tooltip": null,
       "two_line": null,
       "v_model": "!!disabled!!",
       "v_on": null,
       "v_slots": [],
       "value": null
      }
     },
     "d4db9ad9882d407f927950ea55927a32": {
      "model_module": "jupyter-vue",
      "model_module_version": "^1.10.1",
      "model_name": "TemplateModel",
      "state": {
       "_model_module": "jupyter-vue",
       "_model_module_version": "^1.10.1",
       "_model_name": "TemplateModel",
       "_view_count": null,
       "_view_module": null,
       "_view_module_version": "",
       "_view_name": null,
       "template": "<template>\n  <j-tray-plugin\n    description='Show instrument footprints as overlays on image viewers.'\n    :link=\"docs_link || 'https://jdaviz.readthedocs.io/en/'+vdocs+'/'+config+'/plugins.html#footprints'\"\n    :uses_active_status=\"uses_active_status\"\n    @plugin-ping=\"plugin_ping($event)\"\n    :keep_active.sync=\"keep_active\"\n    :disabled_msg=\"disabled_msg\"\n    :popout_button=\"popout_button\">\n\n    <plugin-editable-select\n      :mode.sync=\"overlay_mode\"\n      :edit_value.sync=\"overlay_edit_value\"\n      :items=\"overlay_items\"\n      :selected.sync=\"overlay_selected\"\n      label=\"Overlay\"\n      hint=\"Select an overlay to modify.\"\n      >\n    </plugin-editable-select>\n\n    <div v-if=\"is_pixel_linked\">\n      <v-alert type='warning' style=\"margin-left: -12px; margin-right: -12px\">\n          cannot plot footprint when pixel-linked (see Links Control plugin)\n          <v-row justify=\"center\">\n            <v-btn @click=\"link_by_wcs\">\n              link by WCS\n            </v-btn>\n          </v-row>\n      </v-alert>\n    </div>\n    <div v-if=\"viewer_items.length===0\">\n      <v-alert type='warning' style=\"margin-left: -12px; margin-right: -12px\">\n          no valid viewers (with necessary WCS information) to show footprint overlay\n      </v-alert>\n    </div>\n  \n    <div v-if=\"!is_pixel_linked && viewer_items.length > 0 && overlay_selected.length > 0\">\n      <j-plugin-section-header>Display Options</j-plugin-section-header>\n\n      <plugin-viewer-select\n        :items=\"viewer_items\"\n        :selected.sync=\"viewer_selected\"\n        :multiselect=\"true\"\n        label=\"Viewers\"\n        :show_if_single_entry=\"false\"\n        hint=\"Select viewers to display this overlay\"\n      />\n\n      <v-row>\n        <span>\n          <v-btn icon @click.stop=\"visible = !visible\">\n            <v-icon>mdi-eye{{ visible ? '' : '-off' }}</v-icon>\n          </v-btn>\n          Show Overlay\n        </span>\n      </v-row>\n\n      <v-row>\n          <v-menu>\n            <template v-slot:activator=\"{ on }\">\n                <span class=\"color-menu\"\n                      :style=\"`background:${color}; cursor: pointer; margin-left: 6px`\"\n                      @click.stop=\"on.click\"\n                >&nbsp;</span>\n            </template>\n            <div @click.stop=\"\" style=\"text-align: end; background-color: white\">\n                <v-color-picker :value=\"color\"\n                            @update:color=\"throttledSetColor($event.hexa)\"></v-color-picker>\n            </div>\n          </v-menu>\n        <span style=\"padding-left: 12px; padding-top: 3px\">\n          Overlay Color\n        </span>\n      </v-row>\n      <div>\n        <v-subheader class=\"pl-0 slider-label\" style=\"height: 12px\">Fill Opacity</v-subheader>\n        <glue-throttled-slider wait=\"300\" max=\"1\" step=\"0.01\" :value.sync=\"fill_opacity\" hide-details class=\"no-hint\" />\n      </div>\n\n      <j-plugin-section-header>Footprint Definition</j-plugin-section-header>\n      <v-alert v-if=\"!has_pysiaf\" type=\"warning\" style=\"margin-left: -12px; margin-right: -12px\">\n        <span>To use JWST footprints, install pysiaf and restart jdaviz</span>\n      </v-alert>\n\n      <plugin-file-import-select\n        :items=\"preset_items\"\n        :selected.sync=\"preset_selected\"\n        label=\"Preset\"\n        hint=\"Preset instrument or import from a file.\"\n        :from_file.sync=\"from_file\"\n        :from_file_message=\"from_file_message\"\n        dialog_title=\"Import Region\"\n        dialog_hint=\"Select a region file\"\n        @click-cancel=\"file_import_cancel()\"\n        @click-import=\"file_import_accept()\"\n      >\n        <g-file-import id=\"file-uploader\"></g-file-import>\n      </plugin-file-import-select>\n\n      <div v-if=\"preset_selected !== 'From File...' && preset_selected !== 'None'\">\n        <v-row>\n          <span style=\"line-height: 36px; font-size: 12px; color: #666666; width: 100%\">Center RA/Dec</span>\n          <j-tooltip v-for=\"viewer_ref in viewer_selected\" :tooltipcontent=\"'center RA/DEC on current zoom-limits of '+viewer_ref\">\n          <v-btn @click=\"() => center_on_viewer(viewer_ref)\">\n            {{viewer_ref}}\n          </v-btn>\n          </j-tooltip>\n        </v-row>\n\n        <v-row>\n          <v-text-field\n            v-model.number=\"ra\"\n            type=\"number\"\n            step=\"0.01\"\n            :rules=\"[() => ra!=='' || 'This field is required']\"\n            label=\"RA\"\n            hint=\"Right Ascension (degrees)\"\n            persistent-hint\n          ></v-text-field>\n        </v-row>\n\n        <v-row>\n          <v-text-field\n            v-model.number=\"dec\"\n            type=\"number\"\n            step=\"0.01\"\n            :rules=\"[() => dec!=='' || 'This field is required']\"\n            label=\"Dec\"\n            hint=\"Declination (degrees)\"\n            persistent-hint\n          ></v-text-field>\n        </v-row>\n\n        <v-row>\n          <v-text-field\n            v-model.number=\"pa\"\n            type=\"number\"\n            :rules=\"[() => pa!=='' || 'This field is required']\"\n            label=\"Position Angle\"\n            hint=\"Position Angle (degrees) measured from North\n                  to central vertical axis in North to East direction.\"\n            persistent-hint\n          ></v-text-field>\n        </v-row>\n\n        <v-row>\n          <v-text-field\n            v-model.number=\"v2_offset\"\n            type=\"number\"\n            :rules=\"[() => v2_offset!=='' || 'This field is required']\"\n            label=\"V2 Offset\"\n            hint=\"Additional V2 offset in telescope coordinates to apply to instrument\n                  center, as from a dither pattern.\"\n            persistent-hint\n          ></v-text-field>\n        </v-row>\n        \n        <v-row>\n          <v-text-field\n            v-model.number=\"v3_offset\"\n            type=\"number\"\n            :rules=\"[() => v3_offset!=='' || 'This field is required']\"\n            label=\"V3 Offset\"\n            hint=\"Additional V3 offset in telescope coordinates to apply to instrument\n                  center, as from a dither pattern.\"\n            persistent-hint\n          ></v-text-field>\n        </v-row>\n      </div>\n    </div>\n\n  </j-tray-plugin>\n</template>\n\n<script>\n  module.exports = {\n    created() {\n      this.throttledSetColor = _.throttle(\n        (v) => { this.color = v },\n        100);\n    }\n  }\n</script>\n\n<style>\n  .v-slider {\n    margin: 0px !important;\n  }\n\n  .color-menu {\n      font-size: 16px;\n      padding-left: 16px;\n      border: 2px solid rgba(0,0,0,0.54);\n  }\n</style>\n"
      }
     },
     "d4f15130b81b46daa183f68b06404a6b": {
      "model_module": "jupyter-vue",
      "model_module_version": "^1.10.1",
      "model_name": "VueComponentModel",
      "state": {
       "_dom_classes": [],
       "_model_module": "jupyter-vue",
       "_model_module_version": "^1.10.1",
       "_model_name": "VueComponentModel",
       "_view_count": null,
       "_view_module": null,
       "_view_module_version": "",
       "_view_name": null,
       "component": "<template>\n  <div class=\"strike text--secondary\">\n     <span>\n       <slot></slot>\n     </span>\n  </div>\n</template>\n\n\n<style scoped>\n.strike {\n    display: block;\n    text-align: center;\n    overflow: hidden;\n    white-space: nowrap; \n    margin-left: -12px;\n    margin-right: -12px;\n    margin-top: 40px;\n    margin-bottom: 8px;\n}\n\n.strike > span {\n    position: relative;\n    display: inline-block;\n}\n\n.strike > span:before,\n.strike > span:after {\n    content: \"\";\n    position: absolute;\n    top: 50%;\n    width: 9999px;\n    height: 1px;\n    background: rgba(0, 0, 0, 0.15);\n}\n\n.strike > span:before {\n    right: 100%;\n    margin-right: 15px;\n}\n\n.strike > span:after {\n    left: 100%;\n    margin-left: 15px;\n}\n</style>\n",
       "layout": "IPY_MODEL_49fe0ab970da4e779f665b69456e733d",
       "name": "j-plugin-section-header",
       "tabbable": null,
       "tooltip": null
      }
     },
     "d55e72844de240529f76b5d1b37d37bf": {
      "model_module": "jupyter-vue",
      "model_module_version": "^1.10.1",
      "model_name": "TemplateModel",
      "state": {
       "_model_module": "jupyter-vue",
       "_model_module_version": "^1.10.1",
       "_model_name": "TemplateModel",
       "_view_count": null,
       "_view_module": null,
       "_view_module_version": "",
       "_view_name": null,
       "template": "<template>\n  <span>\n    <v-btn\n        v-if=\"!isInPopupMode() && kernel_id && getBaseUrl()\"\n        @click=\"openWindow\"\n        @contextmenu.prevent=\"openTab\"\n        icon\n        :disabled=\"!echo_available\"\n    >\n      <v-icon>mdi-application-export</v-icon>\n    </v-btn>\n  </span>\n</template>\n<script>\nmodule.exports = {\n  created() {\n    if (!this.getBaseUrl()) {\n      console.info('BaseUrl not found, hiding popout button.');\n    }\n  },\n  mounted() {\n    this.is_displayed = true;\n    if (this.open_window_on_display) {\n      this.open_window_on_display = false;\n      this.openWindow();\n    }\n    if (this.open_tab_on_display) {\n      this.open_tab_on_display = false;\n      this.openTab();\n    }\n  },\n  methods: {\n    getBaseUrl() {\n      const labConfigData = document.getElementById('jupyter-config-data');\n      if (labConfigData) {\n        /* lab and Voila */\n        return JSON.parse(labConfigData.textContent).baseUrl;\n      }\n      return document.body.dataset.baseUrl\n    },\n    getUrl() {\n      const baseUrl = this.getBaseUrl();\n      const host = document.body.dataset.voilaHost || `${location.protocol}//${location.host}`\n      const result = `${host}${baseUrl}${this.popoutPageUrl}` +\n          `?kernelid=${this.kernel_id}&modelid=${this.target_model_id}&baseurl=${baseUrl}`\n\n      return result;\n    },\n    openWindow() {\n      window.open(this.getUrl(), this.window_name, this.window_features);\n    },\n    openTab() {\n      window.open(this.getUrl(), '_blank');\n    },\n    isInPopupMode() {\n      return window.location.pathname.includes(this.popoutPageUrl);\n    },\n    jupyter_open_window() {\n      this.openWindow();\n    },\n    jupyter_open_tab() {\n      this.openTab();\n    }\n  },\n  computed: {\n    popoutPageUrl() {\n      return 'voila/templates/ipypopout/static/popout.html'\n    }\n  }\n}\n</script>\n"
      }
     },
     "d65922e237cd45bfb3099152f2b0dcfd": {
      "model_module": "jupyter-vuetify",
      "model_module_version": "^1.8.10",
      "model_name": "VuetifyTemplateModel",
      "state": {
       "_component_instances": [],
       "_dom_classes": [],
       "_jupyter_vue": "IPY_MODEL_28c992a30e9e48598df49b24e8922228",
       "_model_module": "jupyter-vuetify",
       "_model_module_version": "^1.8.10",
       "_model_name": "VuetifyTemplateModel",
       "_view_count": null,
       "_view_module": "jupyter-vuetify",
       "_view_module_version": "^1.8.10",
       "_view_name": "VuetifyView",
       "components": null,
       "config": "imviz",
       "css": null,
       "data": null,
       "disabled_msg": "",
       "docs_link": "",
       "events": [
        "clear_table",
        "plugin_ping"
       ],
       "is_active": false,
       "keep_active": false,
       "layout": "IPY_MODEL_0ac477afb9814fca910691a379842b70",
       "methods": null,
       "plugin_opened": false,
       "popout_button": "IPY_MODEL_b0b2334f4775485fb1450690a1ad46d7",
       "tabbable": null,
       "table_widget": "IPY_MODEL_fc4656f7febc42b0927b1d5df31ac5a1",
       "template": "IPY_MODEL_85ae7b4b8e364513ab43f5424068d61d",
       "tooltip": null,
       "uses_active_status": true,
       "vdocs": "v3.7.0",
       "viewer_items": [
        {
         "icon": 1,
         "id": "imviz-0",
         "label": "imviz-0",
         "reference": "imviz-0"
        }
       ],
       "viewer_multiselect": false,
       "viewer_selected": "imviz-0"
      }
     },
     "d6834c6d753649a685589118427a02f4": {
      "model_module": "@jupyter-widgets/controls",
      "model_module_version": "2.0.0",
      "model_name": "VBoxModel",
      "state": {
       "_dom_classes": [],
       "_model_module": "@jupyter-widgets/controls",
       "_model_module_version": "2.0.0",
       "_model_name": "VBoxModel",
       "_view_count": null,
       "_view_module": "@jupyter-widgets/controls",
       "_view_module_version": "2.0.0",
       "_view_name": "VBoxView",
       "box_style": "",
       "children": [
        "IPY_MODEL_a7b72f1b74f94b00a30af8ea18dcead4"
       ],
       "layout": "IPY_MODEL_7401701ddeb54b3f9c1db5e42161f7fb",
       "tabbable": null,
       "tooltip": null
      }
     },
     "d82a5901badf448ab6689ab2960f352e": {
      "model_module": "jupyter-vue",
      "model_module_version": "^1.10.1",
      "model_name": "TemplateModel",
      "state": {
       "_model_module": "jupyter-vue",
       "_model_module_version": "^1.10.1",
       "_model_name": "TemplateModel",
       "_view_count": null,
       "_view_module": null,
       "_view_module_version": "",
       "_view_name": null,
       "template": "<template>\n    <div class=\"glue-viewer-image\">\n        <div>\n            <v-select label=\"mode\" :items=\"color_mode_items\" v-model=\"color_mode_selected\" hide-details />\n        </div>\n        <div>\n            <v-select label=\"reference\" :items=\"reference_data_items\" v-model=\"reference_data_selected\" hide-details />\n        </div>\n        <div class=\"glue-viewer-image-switches\">\n            <div>\n                <v-subheader class=\"pl-0 slider-label\">equal aspect ratio</v-subheader>\n                <v-switch input-value=\"glue_state.aspect === EQUAL\" @change=\"setEqualAspect\" hide-details style=\"margin-top: 0\" />\n            </div>\n            <div>\n                <v-subheader class=\"pl-0 slider-label\">show axes</v-subheader>\n                <v-switch v-model=\"glue_state.show_axes\" hide-details style=\"margin-top: 0\"/>\n            </div>\n        </div>\n        <div>\n            <v-select label=\"x axis\" :items=\"x_att_world_items\" v-model=\"x_att_world_selected\" hide-details />\n        </div>\n        <div>\n            <v-select label=\"y axis\" :items=\"y_att_world_items\" v-model=\"y_att_world_selected\" hide-details style=\"margin-bottom: 16px\" />\n        </div>\n        <div v-for=\"slider of sliders\">\n            <v-subheader class=\"pl-0 slider-label\">{{ slider.label }}: {{ glue_state.slices[slider.index] }} ({{  slider.world_value  }} {{ slider.unit }})</v-subheader>\n            <glue-throttled-slider\n                v-if=\"glue_state.slices && glue_state.slices.length > 0\"\n                wait=\"300\" :max=\"slider.max\" :value.sync=\"glue_state.slices[slider.index]\" hide-details />\n        </div>\n    </div>\n</template>\n<script>\n    modules.export = {\n        created() {\n            this.EQUAL = 'equal';\n            this.AUTO = 'auto';\n        },\n        methods: {\n            setEqualAspect(value) {\n                this.glue_state.aspect = value ? this.EQUAL : this.AUTO;\n            },\n        }\n    }\n</script>\n<style id=\"viewer_image\">\n    .glue-viewer-image {\n        width: 100%;\n    }\n\n    .glue-viewer-image-switches {\n        display: flex;\n        flex-direction: row;\n    }\n\n    .v-subheader.slider-label {\n        font-size: 12px;\n        height: 16px;\n    }\n</style>\n"
      }
     },
     "d83d38fd2824448299d9767878b0a15e": {
      "model_module": "jupyter-vuetify",
      "model_module_version": "^1.8.5",
      "model_name": "BtnModel",
      "state": {
       "_dom_classes": [],
       "_events": [],
       "_jupyter_vue": "IPY_MODEL_28c992a30e9e48598df49b24e8922228",
       "_metadata": null,
       "_model_module": "jupyter-vuetify",
       "_model_module_version": "^1.8.5",
       "_model_name": "BtnModel",
       "_view_count": null,
       "_view_module": "jupyter-vuetify",
       "_view_module_version": "^1.8.5",
       "_view_name": "VuetifyView",
       "absolute": null,
       "active_class": null,
       "append": null,
       "attributes": {},
       "block": null,
       "bottom": null,
       "children": [
        "IPY_MODEL_6960521b714043389d98a218fd73d671"
       ],
       "class_": null,
       "color": null,
       "dark": null,
       "depressed": null,
       "disabled": null,
       "elevation": null,
       "exact": null,
       "exact_active_class": null,
       "fab": null,
       "fixed": null,
       "height": null,
       "href": null,
       "icon": true,
       "input_value": null,
       "large": null,
       "layout": null,
       "left": null,
       "light": null,
       "link": null,
       "loading": null,
       "max_height": null,
       "max_width": null,
       "min_height": null,
       "min_width": null,
       "nuxt": null,
       "outlined": null,
       "replace": null,
       "retain_focus_on_click": null,
       "right": null,
       "ripple": null,
       "rounded": null,
       "slot": null,
       "small": null,
       "style_": null,
       "tabbable": null,
       "tag": null,
       "target": null,
       "text": null,
       "tile": null,
       "to": null,
       "tooltip": null,
       "top": null,
       "type": null,
       "v_model": "!!disabled!!",
       "v_on": "menu.on",
       "v_slots": [],
       "value": null,
       "width": null,
       "x_large": null,
       "x_small": null
      }
     },
     "dafe9658c8e746ec9c9e9a7267903d88": {
      "buffers": [
       {
        "data": "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",
        "encoding": "base64",
        "path": [
         "value"
        ]
       }
      ],
      "model_module": "@jupyter-widgets/controls",
      "model_module_version": "2.0.0",
      "model_name": "ImageModel",
      "state": {
       "_dom_classes": [],
       "_model_module": "@jupyter-widgets/controls",
       "_model_module_version": "2.0.0",
       "_model_name": "ImageModel",
       "_view_count": null,
       "_view_module": "@jupyter-widgets/controls",
       "_view_module_version": "2.0.0",
       "_view_name": "ImageView",
       "format": "svg+xml",
       "height": "",
       "layout": "IPY_MODEL_c67fdbfab8ec4fb8a4c7e6de3beb85b8",
       "tabbable": null,
       "tooltip": null,
       "width": "20"
      }
     },
     "dc93e246380e4c3290960f3a9249bb21": {
      "model_module": "@jupyter-widgets/base",
      "model_module_version": "2.0.0",
      "model_name": "LayoutModel",
      "state": {
       "_model_module": "@jupyter-widgets/base",
       "_model_module_version": "2.0.0",
       "_model_name": "LayoutModel",
       "_view_count": null,
       "_view_module": "@jupyter-widgets/base",
       "_view_module_version": "2.0.0",
       "_view_name": "LayoutView",
       "align_content": null,
       "align_items": null,
       "align_self": null,
       "border_bottom": null,
       "border_left": null,
       "border_right": null,
       "border_top": null,
       "bottom": null,
       "display": null,
       "flex": null,
       "flex_flow": null,
       "grid_area": null,
       "grid_auto_columns": null,
       "grid_auto_flow": null,
       "grid_auto_rows": null,
       "grid_column": null,
       "grid_gap": null,
       "grid_row": null,
       "grid_template_areas": null,
       "grid_template_columns": null,
       "grid_template_rows": null,
       "height": null,
       "justify_content": null,
       "justify_items": null,
       "left": null,
       "margin": null,
       "max_height": null,
       "max_width": null,
       "min_height": null,
       "min_width": null,
       "object_fit": null,
       "object_position": null,
       "order": null,
       "overflow": null,
       "padding": null,
       "right": null,
       "top": null,
       "visibility": null,
       "width": null
      }
     },
     "dca70d8d2a0346c1852f24bfa1a20f28": {
      "model_module": "@jupyter-widgets/base",
      "model_module_version": "2.0.0",
      "model_name": "LayoutModel",
      "state": {
       "_model_module": "@jupyter-widgets/base",
       "_model_module_version": "2.0.0",
       "_model_name": "LayoutModel",
       "_view_count": null,
       "_view_module": "@jupyter-widgets/base",
       "_view_module_version": "2.0.0",
       "_view_name": "LayoutView",
       "align_content": null,
       "align_items": null,
       "align_self": null,
       "border_bottom": null,
       "border_left": null,
       "border_right": null,
       "border_top": null,
       "bottom": null,
       "display": null,
       "flex": null,
       "flex_flow": null,
       "grid_area": null,
       "grid_auto_columns": null,
       "grid_auto_flow": null,
       "grid_auto_rows": null,
       "grid_column": null,
       "grid_gap": null,
       "grid_row": null,
       "grid_template_areas": null,
       "grid_template_columns": null,
       "grid_template_rows": null,
       "height": null,
       "justify_content": null,
       "justify_items": null,
       "left": null,
       "margin": null,
       "max_height": null,
       "max_width": null,
       "min_height": null,
       "min_width": null,
       "object_fit": null,
       "object_position": null,
       "order": null,
       "overflow": null,
       "padding": null,
       "right": null,
       "top": null,
       "visibility": null,
       "width": null
      }
     },
     "dd38559cc75048fda679119d7aa29160": {
      "model_module": "jupyter-vuetify",
      "model_module_version": "^1.8.5",
      "model_name": "ListItemModel",
      "state": {
       "_dom_classes": [],
       "_events": [
        "click"
       ],
       "_jupyter_vue": "IPY_MODEL_28c992a30e9e48598df49b24e8922228",
       "_metadata": null,
       "_model_module": "jupyter-vuetify",
       "_model_module_version": "^1.8.5",
       "_model_name": "ListItemModel",
       "_view_count": null,
       "_view_module": "jupyter-vuetify",
       "_view_module_version": "^1.8.5",
       "_view_name": "VuetifyView",
       "active_class": null,
       "append": null,
       "attributes": {},
       "children": [
        "IPY_MODEL_9b46116330404c68be9a805a159ad8bf",
        "IPY_MODEL_6c29e718ae314c42a078729e5dfe9793"
       ],
       "class_": null,
       "color": null,
       "dark": null,
       "dense": null,
       "disabled": null,
       "exact": null,
       "exact_active_class": null,
       "href": null,
       "inactive": null,
       "input_value": null,
       "layout": null,
       "light": null,
       "link": null,
       "nuxt": null,
       "replace": null,
       "ripple": null,
       "selectable": null,
       "slot": null,
       "style_": null,
       "tabbable": null,
       "tag": null,
       "target": null,
       "three_line": null,
       "to": null,
       "tooltip": null,
       "two_line": null,
       "v_model": "!!disabled!!",
       "v_on": null,
       "v_slots": [],
       "value": null
      }
     },
     "de0ecda28da545178119c920d1995cd1": {
      "model_module": "@jupyter-widgets/base",
      "model_module_version": "2.0.0",
      "model_name": "LayoutModel",
      "state": {
       "_model_module": "@jupyter-widgets/base",
       "_model_module_version": "2.0.0",
       "_model_name": "LayoutModel",
       "_view_count": null,
       "_view_module": "@jupyter-widgets/base",
       "_view_module_version": "2.0.0",
       "_view_name": "LayoutView",
       "align_content": null,
       "align_items": null,
       "align_self": null,
       "border_bottom": null,
       "border_left": null,
       "border_right": null,
       "border_top": null,
       "bottom": null,
       "display": null,
       "flex": null,
       "flex_flow": null,
       "grid_area": null,
       "grid_auto_columns": null,
       "grid_auto_flow": null,
       "grid_auto_rows": null,
       "grid_column": null,
       "grid_gap": null,
       "grid_row": null,
       "grid_template_areas": null,
       "grid_template_columns": null,
       "grid_template_rows": null,
       "height": null,
       "justify_content": null,
       "justify_items": null,
       "left": null,
       "margin": null,
       "max_height": null,
       "max_width": null,
       "min_height": null,
       "min_width": null,
       "object_fit": null,
       "object_position": null,
       "order": null,
       "overflow": null,
       "padding": null,
       "right": null,
       "top": null,
       "visibility": null,
       "width": null
      }
     },
     "df86f655cbbc41d690dfaa2da47bc997": {
      "model_module": "@jupyter-widgets/base",
      "model_module_version": "2.0.0",
      "model_name": "LayoutModel",
      "state": {
       "_model_module": "@jupyter-widgets/base",
       "_model_module_version": "2.0.0",
       "_model_name": "LayoutModel",
       "_view_count": null,
       "_view_module": "@jupyter-widgets/base",
       "_view_module_version": "2.0.0",
       "_view_name": "LayoutView",
       "align_content": null,
       "align_items": null,
       "align_self": null,
       "border_bottom": null,
       "border_left": null,
       "border_right": null,
       "border_top": null,
       "bottom": null,
       "display": null,
       "flex": null,
       "flex_flow": null,
       "grid_area": null,
       "grid_auto_columns": null,
       "grid_auto_flow": null,
       "grid_auto_rows": null,
       "grid_column": null,
       "grid_gap": "0px 0px",
       "grid_row": null,
       "grid_template_areas": "\n                    'pathlist pathlist'\n                    'dircontent dircontent'\n                    ",
       "grid_template_columns": "60% 40%",
       "grid_template_rows": "auto auto",
       "height": null,
       "justify_content": null,
       "justify_items": null,
       "left": null,
       "margin": null,
       "max_height": null,
       "max_width": null,
       "min_height": null,
       "min_width": null,
       "object_fit": null,
       "object_position": null,
       "order": null,
       "overflow": null,
       "padding": null,
       "right": null,
       "top": null,
       "visibility": null,
       "width": "500px"
      }
     },
     "e015c5b819634e5aac30aa66bd381f0b": {
      "model_module": "bqplot",
      "model_module_version": "^0.5",
      "model_name": "LinearScaleModel",
      "state": {
       "_model_module": "bqplot",
       "_model_module_version": "^0.5",
       "_model_name": "LinearScaleModel",
       "_view_count": null,
       "_view_module": "bqplot",
       "_view_module_version": "^0.5",
       "_view_name": "LinearScale",
       "allow_padding": true,
       "max": null,
       "mid_range": 0.8,
       "min": null,
       "min_range": 0.6,
       "reverse": false,
       "stabilized": false
      }
     },
     "e084a42c01ed49b5b5f3757af7cc1164": {
      "model_module": "bqplot",
      "model_module_version": "^0.5",
      "model_name": "LinearScaleModel",
      "state": {
       "_model_module": "bqplot",
       "_model_module_version": "^0.5",
       "_model_name": "LinearScaleModel",
       "_view_count": null,
       "_view_module": "bqplot",
       "_view_module_version": "^0.5",
       "_view_name": "LinearScale",
       "allow_padding": true,
       "max": null,
       "mid_range": 0.8,
       "min": null,
       "min_range": 0.6,
       "reverse": false,
       "stabilized": false
      }
     },
     "e1118b880f7f425daeb918056e0d5818": {
      "model_module": "jupyter-vuetify",
      "model_module_version": "^1.8.10",
      "model_name": "VuetifyTemplateModel",
      "state": {
       "_component_instances": [],
       "_dom_classes": [],
       "_jupyter_vue": "IPY_MODEL_28c992a30e9e48598df49b24e8922228",
       "_model_module": "jupyter-vuetify",
       "_model_module_version": "^1.8.10",
       "_model_name": "VuetifyTemplateModel",
       "_view_count": null,
       "_view_module": "jupyter-vuetify",
       "_view_module_version": "^1.8.10",
       "_view_name": "VuetifyView",
       "components": null,
       "css": null,
       "data": null,
       "events": [
        "popout"
       ],
       "figure": "IPY_MODEL_e385d7e8697049d9a0b1ab389ca00494",
       "layout": "IPY_MODEL_2ebd2bf424e14297a76e3d5b0edee6c0",
       "methods": null,
       "popout_button": "IPY_MODEL_202dd3a1cdf94fbdba63ae71d4f50ca6",
       "tabbable": null,
       "template": "IPY_MODEL_380469682a0f411c8704e6508aa426d4",
       "tooltip": null
      }
     },
     "e164350e9a234450960e1a490ef63a19": {
      "model_module": "jupyter-vue",
      "model_module_version": "^1.10.1",
      "model_name": "VueComponentModel",
      "state": {
       "_dom_classes": [],
       "_model_module": "jupyter-vue",
       "_model_module_version": "^1.10.1",
       "_model_name": "VueComponentModel",
       "_view_count": null,
       "_view_module": null,
       "_view_module_version": "",
       "_view_name": null,
       "component": "<template>\n  <div>\n  <v-row v-if=\"items.length > 1 || selected.length===0 || show_if_single_entry\">\n    <v-select\n      :menu-props=\"{ left: true }\"\n      attach\n      :items=\"items\"\n      v-model=\"selected\"\n      @change=\"$emit('update:selected', $event)\"\n      :label=\"label ? label : 'Layer'\"\n      :hint=\"hint ? hint : 'Select layer.'\"\n      :rules=\"rules ? rules : []\"\n      :multiple=\"multiselect\"\n      :chips=\"multiselect\"\n      item-text=\"label\"\n      item-value=\"label\"\n      persistent-hint\n    >\n    <template slot=\"selection\" slot-scope=\"data\">\n      <div class=\"single-line\" style=\"width: 100%\">\n        <v-chip v-if=\"multiselect\" style=\"width: calc(100% - 20px)\">\n          <span>\n            <j-layer-viewer-icon :icon=\"data.item.icon\" :prevent_invert_if_dark=\"true\"></j-layer-viewer-icon>\n            {{ data.item.label }}\n          </span>\n        </v-chip>\n        <span v-else>\n          <j-layer-viewer-icon span_style=\"margin-right: 4px\" :icon=\"data.item.icon\" :prevent_invert_if_dark=\"true\"></j-layer-viewer-icon>\n          {{ data.item.label }}\n        </span>\n      </div>\n    </template>\n    <template v-slot:prepend-item v-if=\"multiselect\">\n      <v-list-item\n        ripple\n        @mousedown.prevent\n        @click=\"() => {if (selected.length < items.length) { $emit('update:selected', items.map((item) => item.label))} else {$emit('update:selected', [])}}\"\n      >\n        <v-list-item-action>\n          <v-icon>\n            {{ selected.length == items.length ? 'mdi-close-box' : selected.length ? 'mdi-minus-box' : 'mdi-checkbox-blank-outline' }}\n          </v-icon>\n        </v-list-item-action>\n        <v-list-item-content>\n          <v-list-item-title>\n            {{ selected.length < items.length ? \"Select All\" : \"Clear All\" }}\n          </v-list-item-title>\n        </v-list-item-content>\n      </v-list-item>\n      <v-divider class=\"mt-2\"></v-divider>\n    </template>\n    <template slot=\"item\" slot-scope=\"data\">\n      <div class=\"single-line\">\n        <span>\n          <j-layer-viewer-icon span_style=\"margin-right: 4px\" :icon=\"data.item.icon\" :prevent_invert_if_dark=\"true\"></j-layer-viewer-icon>\n          {{ data.item.label }}\n        </span>\n      </div>\n    </template>\n   </v-select>\n  </v-row>\n </div>\n</template>\n\n<script>\nmodule.exports = {\n  props: ['items', 'selected', 'label', 'hint', 'rules', 'show_if_single_entry', 'multiselect']\n};\n</script>\n\n<style scoped>\n  .v-select__selections {\n    flex-wrap: nowrap !important;\n    display: block !important;\n    margin-bottom: -32px;\n  }\n  .single-line {\n      white-space: nowrap;\n      overflow: hidden;\n      text-overflow: ellipsis;\n  }\n</style>\n",
       "layout": "IPY_MODEL_7c182596075e41b890ef97bb8e14fe60",
       "name": "plugin-layer-select",
       "tabbable": null,
       "tooltip": null
      }
     },
     "e17691d2115643afab79f669f72b96f6": {
      "model_module": "jupyter-vue",
      "model_module_version": "^1.10.1",
      "model_name": "VueComponentModel",
      "state": {
       "_dom_classes": [],
       "_model_module": "jupyter-vue",
       "_model_module_version": "^1.10.1",
       "_model_name": "VueComponentModel",
       "_view_count": null,
       "_view_module": null,
       "_view_module_version": "",
       "_view_name": null,
       "component": "<template>\n  <span v-if=\"icon !== undefined\">\n    <v-icon v-if=\"String(icon).startsWith('mdi-')\" size=\"16\">\n      {{icon}}\n    </v-icon>\n    <span v-else :class=\"prevent_invert_if_dark ? 'layer-viewer-icon' : 'invert-if-dark layer-viewer-icon'\" :style=\"span_style+'; color: '+color+'; '+borderStyle\">\n      {{String(icon).toUpperCase()}}\n    </span>\n  </span>\n</template>\n\n<script>\nmodule.exports = {\n  props: ['span_style', 'color', 'icon', 'linewidth', 'linestyle', 'prevent_invert_if_dark'],\n  computed: {\n    borderStyle() {\n      if (this.$props.linewidth > 0) { \n        return 'border-bottom: '+this.$props.linewidth+'px '+this.$props.linestyle+' '+this.$props.color\n      }\n      return ''\n    },\n  }\n};\n</script>\n\n<style scoped>\n.layer-viewer-icon {\n  width: 20px;\n  height: 20px;\n  line-height: 10px;\n  margin-top: 4px;\n  margin-right: 2px;\n  padding-top: 3px;\n  text-align: center;\n  font-size: 12pt;\n  font-weight: bold; \n}\n</style>\n",
       "layout": "IPY_MODEL_a3aaf9c0fc2942dd8be1170cca005057",
       "name": "j-layer-viewer-icon",
       "tabbable": null,
       "tooltip": null
      }
     },
     "e1f0f3f715b944e1902015e02597b4d9": {
      "model_module": "@jupyter-widgets/base",
      "model_module_version": "2.0.0",
      "model_name": "LayoutModel",
      "state": {
       "_model_module": "@jupyter-widgets/base",
       "_model_module_version": "2.0.0",
       "_model_name": "LayoutModel",
       "_view_count": null,
       "_view_module": "@jupyter-widgets/base",
       "_view_module_version": "2.0.0",
       "_view_name": "LayoutView",
       "align_content": null,
       "align_items": null,
       "align_self": null,
       "border_bottom": null,
       "border_left": null,
       "border_right": null,
       "border_top": null,
       "bottom": null,
       "display": null,
       "flex": null,
       "flex_flow": null,
       "grid_area": null,
       "grid_auto_columns": null,
       "grid_auto_flow": null,
       "grid_auto_rows": null,
       "grid_column": null,
       "grid_gap": null,
       "grid_row": null,
       "grid_template_areas": null,
       "grid_template_columns": null,
       "grid_template_rows": null,
       "height": null,
       "justify_content": null,
       "justify_items": null,
       "left": null,
       "margin": null,
       "max_height": null,
       "max_width": null,
       "min_height": null,
       "min_width": null,
       "object_fit": null,
       "object_position": null,
       "order": null,
       "overflow": null,
       "padding": null,
       "right": null,
       "top": null,
       "visibility": null,
       "width": "auto"
      }
     },
     "e214973f7b174bfb8a70360773dbe1fc": {
      "model_module": "jupyter-vuetify",
      "model_module_version": "^1.8.5",
      "model_name": "ListModel",
      "state": {
       "_dom_classes": [],
       "_events": [],
       "_jupyter_vue": "IPY_MODEL_28c992a30e9e48598df49b24e8922228",
       "_metadata": null,
       "_model_module": "jupyter-vuetify",
       "_model_module_version": "^1.8.5",
       "_model_name": "ListModel",
       "_view_count": null,
       "_view_module": "jupyter-vuetify",
       "_view_module_version": "^1.8.5",
       "_view_name": "VuetifyView",
       "attributes": {},
       "children": [
        "IPY_MODEL_c8927107984b4d16886351a590ebbf6e",
        "IPY_MODEL_33148510f83542ffa5367e709383ab99",
        "IPY_MODEL_01e478ecd4cf4cbfb04a753e672ec2cc",
        "IPY_MODEL_ffbaa2a4b82b49fcb1ff9f1ded2d2365",
        "IPY_MODEL_01af22ed755e4034aba359a868dd7339"
       ],
       "class_": null,
       "color": null,
       "dark": null,
       "dense": null,
       "disabled": null,
       "elevation": null,
       "expand": null,
       "flat": null,
       "height": null,
       "layout": null,
       "light": null,
       "max_height": null,
       "max_width": null,
       "min_height": null,
       "min_width": null,
       "nav": null,
       "rounded": null,
       "shaped": null,
       "slot": null,
       "style_": null,
       "subheader": null,
       "tabbable": null,
       "tag": null,
       "three_line": null,
       "tile": null,
       "tooltip": null,
       "two_line": null,
       "v_model": "!!disabled!!",
       "v_on": null,
       "v_slots": [],
       "width": null
      }
     },
     "e2ddc5563b9d4b1e9f27bc3a6b132bc2": {
      "model_module": "jupyter-vuetify",
      "model_module_version": "^1.8.10",
      "model_name": "VuetifyTemplateModel",
      "state": {
       "_component_instances": [],
       "_dom_classes": [],
       "_jupyter_vue": "IPY_MODEL_28c992a30e9e48598df49b24e8922228",
       "_model_module": "jupyter-vuetify",
       "_model_module_version": "^1.8.10",
       "_model_name": "VuetifyTemplateModel",
       "_view_count": null,
       "_view_module": "jupyter-vuetify",
       "_view_module_version": "^1.8.10",
       "_view_name": "VuetifyView",
       "components": null,
       "css": null,
       "data": null,
       "echo_available": true,
       "events": [],
       "is_displayed": false,
       "kernel_id": "",
       "layout": "IPY_MODEL_2a134938e6834366877f214f53dac2c0",
       "methods": null,
       "open_tab_on_display": false,
       "open_window_on_display": false,
       "tabbable": null,
       "target_model_id": "0233b948de464a9d830a93dbbda1f150",
       "template": "IPY_MODEL_d55e72844de240529f76b5d1b37d37bf",
       "tooltip": null,
       "window_features": "popup,width=400,height=600",
       "window_name": "0233b948de464a9d830a93dbbda1f150"
      }
     },
     "e2f7e4a678a942dc8c3f9664576c3616": {
      "model_module": "@jupyter-widgets/base",
      "model_module_version": "2.0.0",
      "model_name": "LayoutModel",
      "state": {
       "_model_module": "@jupyter-widgets/base",
       "_model_module_version": "2.0.0",
       "_model_name": "LayoutModel",
       "_view_count": null,
       "_view_module": "@jupyter-widgets/base",
       "_view_module_version": "2.0.0",
       "_view_name": "LayoutView",
       "align_content": null,
       "align_items": null,
       "align_self": null,
       "border_bottom": null,
       "border_left": null,
       "border_right": null,
       "border_top": null,
       "bottom": null,
       "display": null,
       "flex": null,
       "flex_flow": null,
       "grid_area": null,
       "grid_auto_columns": null,
       "grid_auto_flow": null,
       "grid_auto_rows": null,
       "grid_column": null,
       "grid_gap": null,
       "grid_row": null,
       "grid_template_areas": null,
       "grid_template_columns": null,
       "grid_template_rows": null,
       "height": null,
       "justify_content": null,
       "justify_items": null,
       "left": null,
       "margin": null,
       "max_height": null,
       "max_width": null,
       "min_height": null,
       "min_width": null,
       "object_fit": null,
       "object_position": null,
       "order": null,
       "overflow": null,
       "padding": null,
       "right": null,
       "top": null,
       "visibility": null,
       "width": null
      }
     },
     "e385d7e8697049d9a0b1ab389ca00494": {
      "model_module": "bqplot",
      "model_module_version": "^0.5",
      "model_name": "FigureModel",
      "state": {
       "_dom_classes": [],
       "_model_module": "bqplot",
       "_model_module_version": "^0.5",
       "_model_name": "FigureModel",
       "_view_count": null,
       "_view_module": "bqplot",
       "_view_module_version": "^0.5",
       "_view_name": "Figure",
       "animation_duration": 0,
       "axes": [
        "IPY_MODEL_31f59b09702e46d4a24780a97b821895",
        "IPY_MODEL_74b968a6f7ba468cb07e10dfc656f39b"
       ],
       "background_style": {},
       "fig_margin": {
        "bottom": 60,
        "left": 40,
        "right": 10,
        "top": 60
       },
       "interaction": null,
       "layout": "IPY_MODEL_af90383b5c034efa87ef755aca04c1c8",
       "legend_location": "top-right",
       "legend_style": {},
       "legend_text": {},
       "marks": [
        "IPY_MODEL_d2b5d7a91ef642b9871fe614d7947b0a"
       ],
       "max_aspect_ratio": 100.0,
       "min_aspect_ratio": 0.01,
       "padding_x": 0.0,
       "padding_y": 0.025,
       "pixel_ratio": null,
       "scale_x": "IPY_MODEL_3d7c2f7009cf478d85e2141def4fc49b",
       "scale_y": "IPY_MODEL_9b5e8f03f0544cba9d8dce2eef6d36a4",
       "tabbable": null,
       "theme": "classic",
       "title": "",
       "title_style": {
        "font-size": "12px"
       },
       "tooltip": null
      }
     },
     "e3fd246cab5741c7882b3d3dc336328a": {
      "model_module": "jupyter-vuetify",
      "model_module_version": "^1.8.5",
      "model_name": "ListItemActionModel",
      "state": {
       "_dom_classes": [],
       "_events": [],
       "_jupyter_vue": "IPY_MODEL_28c992a30e9e48598df49b24e8922228",
       "_metadata": null,
       "_model_module": "jupyter-vuetify",
       "_model_module_version": "^1.8.5",
       "_model_name": "ListItemActionModel",
       "_view_count": null,
       "_view_module": "jupyter-vuetify",
       "_view_module_version": "^1.8.5",
       "_view_name": "VuetifyView",
       "attributes": {},
       "children": [
        "IPY_MODEL_bc1f66a4f2304177bd8f49d45e02c25e"
       ],
       "class_": null,
       "layout": null,
       "slot": null,
       "style_": null,
       "tabbable": null,
       "tooltip": null,
       "v_model": "!!disabled!!",
       "v_on": null,
       "v_slots": []
      }
     },
     "e5bfc3f7dcb4476e89482a6a4ed9d00b": {
      "model_module": "@jupyter-widgets/base",
      "model_module_version": "2.0.0",
      "model_name": "LayoutModel",
      "state": {
       "_model_module": "@jupyter-widgets/base",
       "_model_module_version": "2.0.0",
       "_model_name": "LayoutModel",
       "_view_count": null,
       "_view_module": "@jupyter-widgets/base",
       "_view_module_version": "2.0.0",
       "_view_name": "LayoutView",
       "align_content": null,
       "align_items": null,
       "align_self": null,
       "border_bottom": null,
       "border_left": null,
       "border_right": null,
       "border_top": null,
       "bottom": null,
       "display": null,
       "flex": null,
       "flex_flow": null,
       "grid_area": null,
       "grid_auto_columns": null,
       "grid_auto_flow": null,
       "grid_auto_rows": null,
       "grid_column": null,
       "grid_gap": null,
       "grid_row": null,
       "grid_template_areas": null,
       "grid_template_columns": null,
       "grid_template_rows": null,
       "height": null,
       "justify_content": null,
       "justify_items": null,
       "left": null,
       "margin": null,
       "max_height": null,
       "max_width": null,
       "min_height": null,
       "min_width": null,
       "object_fit": null,
       "object_position": null,
       "order": null,
       "overflow": null,
       "padding": null,
       "right": null,
       "top": null,
       "visibility": null,
       "width": null
      }
     },
     "e6d5b940640b4a9c87efb0b41100d7b2": {
      "model_module": "jupyter-vue",
      "model_module_version": "^1.10.1",
      "model_name": "VueComponentModel",
      "state": {
       "_dom_classes": [],
       "_model_module": "jupyter-vue",
       "_model_module_version": "^1.10.1",
       "_model_name": "VueComponentModel",
       "_view_count": null,
       "_view_module": null,
       "_view_module_version": "",
       "_view_name": null,
       "component": "<template>\n  <v-row>\n    <v-form ref=\"form\" style=\"width: 100%\">\n      <v-text-field\n        ref=\"textField\"\n        :value=\"displayValue\"\n        @keyup=\"if(auto) {if ($event.srcElement._value === displayValue) {return}; $emit('update:auto', false)}; $emit('update:value', $event.srcElement._value)\"\n        @mouseenter=\"showIcon = true\"\n        @mouseleave=\"showIcon = false\"\n        :label=\"label\"\n        :hint=\"hint\"\n        :rules=\"[(e) => invalid_msg || true]\"\n        persistent-hint\n      >\n        <template v-slot:append>\n          <j-tooltip v-if=\"!auto || showIcon\" :tooltipcontent=\"auto ? 'Using default (click to use custom)' : 'Using custom (click to use default)'\">\n            <v-btn icon small @click=\"() => {$emit('update:auto', !auto)}\" style=\"padding-bottom: 4px\" @mouseenter=\"showIcon = true\" @mouseleave=\"showIcon = false\">\n              <v-icon :color=\"auto ? 'accent' : ''\" style=\"transform: rotate(180deg);\">mdi-label</v-icon>\n            </v-btn>\n          </j-tooltip>\n        </template>\n      </v-text-field>   \n    </v-form>\n  </v-row>\n</template>\n<script>\nmodule.exports = {\n  props: ['value', 'default', 'auto', 'label', 'hint', 'invalid_msg'],\n  data: function() {\n      return {\n          displayValue: this.auto ? this.default : this.value,\n          showIcon: false,\n      }\n  },\n  watch: {\n       // watching of label_default and label_auto are handled in python\n       value() {\n          if(this.$props.auto && this.displayValue != this.$props.value && this.$props.value != this.$props.default) {\n            // then the label traitlet itself was changed (perhaps by the user), so we need to \n            // disable the auto-syncing between label_default -> label\n            this.$emit('update:auto', false);\n          }\n          this.displayValue = this.$props.value;\n       },\n       invalid_msg() {\n          this.$refs.form.validate();\n       }\n  }\n};\n</script>\n",
       "layout": "IPY_MODEL_25568b53542641eab83f6b723c9a8f18",
       "name": "plugin-auto-label",
       "tabbable": null,
       "tooltip": null
      }
     },
     "e71125c7da06452a9984215dd00845f3": {
      "model_module": "bqplot-image-gl",
      "model_module_version": "^1.4.11",
      "model_name": "ContourModel",
      "state": {
       "_model_module": "bqplot-image-gl",
       "_model_module_version": "^1.4.11",
       "_model_name": "ContourModel",
       "_view_count": null,
       "_view_module": "bqplot-image-gl",
       "_view_module_version": "^1.4.11",
       "_view_name": "ContourView",
       "apply_clip": true,
       "color": [
        "red",
        "orange",
        "yellow",
        "green",
        "blue"
       ],
       "contour_lines": [],
       "display_legend": false,
       "enable_hover": true,
       "image": null,
       "interactions": {
        "hover": "tooltip"
       },
       "label": [
        "120.7",
        "241.4",
        "362",
        "482.7",
        "603.4"
       ],
       "label_steps": 1000,
       "labels": [],
       "level": [
        120.6793212890625,
        241.358642578125,
        362.0379638671875,
        482.71728515625,
        603.3966064453125
       ],
       "preserve_domain": {},
       "scales": {
        "image": "IPY_MODEL_0acd9b51e19d4dacb4e96776f3e0807a",
        "x": "IPY_MODEL_e9d182703c7f421db9185b0e14f021b4",
        "y": "IPY_MODEL_2575788ee3b245bca63f200cd5d496ce"
       },
       "scales_metadata": {
        "x": {
         "dimension": "x",
         "orientation": "horizontal"
        },
        "y": {
         "dimension": "y",
         "orientation": "vertical"
        }
       },
       "selected": null,
       "selected_style": {},
       "tooltip": null,
       "tooltip_location": "mouse",
       "tooltip_style": {
        "opacity": 0.9
       },
       "unselected_style": {},
       "visible": false
      }
     },
     "e791cfbbcdc2428f8b623d0e189a7dbd": {
      "model_module": "jupyter-vuetify",
      "model_module_version": "^1.8.5",
      "model_name": "ListItemTitleModel",
      "state": {
       "_dom_classes": [],
       "_events": [],
       "_jupyter_vue": "IPY_MODEL_28c992a30e9e48598df49b24e8922228",
       "_metadata": null,
       "_model_module": "jupyter-vuetify",
       "_model_module_version": "^1.8.5",
       "_model_name": "ListItemTitleModel",
       "_view_count": null,
       "_view_module": "jupyter-vuetify",
       "_view_module_version": "^1.8.5",
       "_view_name": "VuetifyView",
       "attributes": {},
       "children": [
        "and"
       ],
       "class_": null,
       "layout": null,
       "slot": null,
       "style_": null,
       "tabbable": null,
       "tooltip": null,
       "v_model": "!!disabled!!",
       "v_on": null,
       "v_slots": []
      }
     },
     "e7ca6785388e476faccd398b0042c984": {
      "model_module": "@jupyter-widgets/base",
      "model_module_version": "2.0.0",
      "model_name": "LayoutModel",
      "state": {
       "_model_module": "@jupyter-widgets/base",
       "_model_module_version": "2.0.0",
       "_model_name": "LayoutModel",
       "_view_count": null,
       "_view_module": "@jupyter-widgets/base",
       "_view_module_version": "2.0.0",
       "_view_name": "LayoutView",
       "align_content": null,
       "align_items": null,
       "align_self": null,
       "border_bottom": null,
       "border_left": null,
       "border_right": null,
       "border_top": null,
       "bottom": null,
       "display": null,
       "flex": null,
       "flex_flow": null,
       "grid_area": null,
       "grid_auto_columns": null,
       "grid_auto_flow": null,
       "grid_auto_rows": null,
       "grid_column": null,
       "grid_gap": null,
       "grid_row": null,
       "grid_template_areas": null,
       "grid_template_columns": null,
       "grid_template_rows": null,
       "height": "100%",
       "justify_content": null,
       "justify_items": null,
       "left": null,
       "margin": null,
       "max_height": null,
       "max_width": null,
       "min_height": null,
       "min_width": null,
       "object_fit": null,
       "object_position": null,
       "order": null,
       "overflow": null,
       "padding": null,
       "right": null,
       "top": null,
       "visibility": null,
       "width": null
      }
     },
     "e8c37b054a19445b9bc7c2a224335aa4": {
      "model_module": "jupyter-vuetify",
      "model_module_version": "^1.8.5",
      "model_name": "ListItemModel",
      "state": {
       "_dom_classes": [],
       "_events": [
        "click"
       ],
       "_jupyter_vue": "IPY_MODEL_28c992a30e9e48598df49b24e8922228",
       "_metadata": null,
       "_model_module": "jupyter-vuetify",
       "_model_module_version": "^1.8.5",
       "_model_name": "ListItemModel",
       "_view_count": null,
       "_view_module": "jupyter-vuetify",
       "_view_module_version": "^1.8.5",
       "_view_name": "VuetifyView",
       "active_class": null,
       "append": null,
       "attributes": {},
       "children": [
        "IPY_MODEL_4529e7ec63054d29bbe78204bb4d4c83",
        "IPY_MODEL_10edf24cd5264efc8113513e95e6430a"
       ],
       "class_": null,
       "color": null,
       "dark": null,
       "dense": null,
       "disabled": null,
       "exact": null,
       "exact_active_class": null,
       "href": null,
       "inactive": null,
       "input_value": null,
       "layout": null,
       "light": null,
       "link": null,
       "nuxt": null,
       "replace": null,
       "ripple": null,
       "selectable": null,
       "slot": null,
       "style_": null,
       "tabbable": null,
       "tag": null,
       "target": null,
       "three_line": null,
       "to": null,
       "tooltip": null,
       "two_line": null,
       "v_model": "!!disabled!!",
       "v_on": null,
       "v_slots": [],
       "value": null
      }
     },
     "e9528260b4de4e03848bd5dc2af08443": {
      "model_module": "@jupyter-widgets/base",
      "model_module_version": "2.0.0",
      "model_name": "LayoutModel",
      "state": {
       "_model_module": "@jupyter-widgets/base",
       "_model_module_version": "2.0.0",
       "_model_name": "LayoutModel",
       "_view_count": null,
       "_view_module": "@jupyter-widgets/base",
       "_view_module_version": "2.0.0",
       "_view_name": "LayoutView",
       "align_content": null,
       "align_items": null,
       "align_self": null,
       "border_bottom": null,
       "border_left": null,
       "border_right": null,
       "border_top": null,
       "bottom": null,
       "display": null,
       "flex": null,
       "flex_flow": null,
       "grid_area": null,
       "grid_auto_columns": null,
       "grid_auto_flow": null,
       "grid_auto_rows": null,
       "grid_column": null,
       "grid_gap": null,
       "grid_row": null,
       "grid_template_areas": null,
       "grid_template_columns": null,
       "grid_template_rows": null,
       "height": null,
       "justify_content": null,
       "justify_items": null,
       "left": null,
       "margin": null,
       "max_height": null,
       "max_width": null,
       "min_height": null,
       "min_width": null,
       "object_fit": null,
       "object_position": null,
       "order": null,
       "overflow": null,
       "padding": null,
       "right": null,
       "top": null,
       "visibility": null,
       "width": null
      }
     },
     "e97a8cffb28e48dab591705672d1cd2d": {
      "model_module": "jupyter-vuetify",
      "model_module_version": "^1.8.10",
      "model_name": "VuetifyTemplateModel",
      "state": {
       "_component_instances": [],
       "_dom_classes": [],
       "_jupyter_vue": "IPY_MODEL_28c992a30e9e48598df49b24e8922228",
       "_model_module": "jupyter-vuetify",
       "_model_module_version": "^1.8.10",
       "_model_name": "VuetifyTemplateModel",
       "_view_count": null,
       "_view_module": "jupyter-vuetify",
       "_view_module_version": "^1.8.10",
       "_view_name": "VuetifyView",
       "components": null,
       "css": null,
       "data": null,
       "echo_available": true,
       "events": [],
       "is_displayed": false,
       "kernel_id": "",
       "layout": "IPY_MODEL_b5629a5a41e94863bef76a802d12c95e",
       "methods": null,
       "open_tab_on_display": false,
       "open_window_on_display": false,
       "tabbable": null,
       "target_model_id": "9660eaee78f541f1ba00cf7ca54e0dce",
       "template": "IPY_MODEL_d55e72844de240529f76b5d1b37d37bf",
       "tooltip": null,
       "window_features": "popup",
       "window_name": "9660eaee78f541f1ba00cf7ca54e0dce"
      }
     },
     "e9cf2fc7c18e4b41968154c45509a432": {
      "model_module": "jupyter-vue",
      "model_module_version": "^1.10.1",
      "model_name": "TemplateModel",
      "state": {
       "_model_module": "jupyter-vue",
       "_model_module_version": "^1.10.1",
       "_model_name": "TemplateModel",
       "_view_count": null,
       "_view_module": null,
       "_view_module_version": "",
       "_view_name": null,
       "template": "<template>\n  <j-tray-plugin\n    description='View metadata.'\n    :link=\"docs_link || 'https://jdaviz.readthedocs.io/en/'+vdocs+'/'+config+'/plugins.html#metadata-viewer'\"\n    :popout_button=\"popout_button\">\n\n    <!-- for specviz, we'll allow this to hide for a single entry, but since filters are being\n         applied on other configs, we'll always show -->\n    <plugin-dataset-select\n      :items=\"dataset_items\"\n      :selected.sync=\"dataset_selected\"\n      :show_if_single_entry=\"config!='specviz'\"\n      label=\"Data\"\n      hint=\"Select the data to see metadata.\"\n    />\n\n    <v-row v-if=\"has_primary\">\n      <v-switch\n        label=\"Show primary header\"\n        hint=\"Show MEF primary header metadata instead.\"\n        v-model=\"show_primary\"\n        persistent-hint>\n      </v-switch>\n    </v-row>\n\n    <j-plugin-section-header>Metadata</j-plugin-section-header>\n    <div v-if=\"has_metadata\">\n      <v-row>\n        <v-text-field\n          v-model='metadata_filter'\n          append-icon='mdi-magnify'\n          style=\"padding: 0px 8px\"\n          clearable\n          hide-details\n        ></v-text-field>\n      </v-row>\n  \n      <v-row no-gutters>\n        <v-col cols=6><U><B>Key</B></U></v-col>\n        <v-col cols=6><U>Value</U></v-col>\n        <v-col v-if=\"has_comments\" cols=6 class=\"text--secondary\"><U>Comment</U></v-col>\n      </v-row>\n      <v-row\n        v-for=\"item in metadata.filter((item) => {return metadata_filter === null || item.join().toLowerCase().indexOf(metadata_filter.toLowerCase()) !== -1})\"\n        :key=\"item[0]\"\n        no-gutters>\n        <v-col cols=6><B>{{ item[0] }}</B></v-col>\n        <v-col cols=6>{{ item[1] }}</v-col>\n        <v-col v-if=\"has_comments\" cols=6 class=\"text--secondary\">{{ item[2] }}</v-col>\n      </v-row>\n    </div>\n    <v-row v-else>\n      <span class=\"v-messages v-messages__message text--secondary\">\n          Selected data does not contain any metadata.\n      </span>\n    </v-row>\n\n  </j-tray-plugin>\n</template>\n"
      }
     },
     "e9d182703c7f421db9185b0e14f021b4": {
      "model_module": "bqplot",
      "model_module_version": "^0.5",
      "model_name": "LinearScaleModel",
      "state": {
       "_model_module": "bqplot",
       "_model_module_version": "^0.5",
       "_model_name": "LinearScaleModel",
       "_view_count": null,
       "_view_module": "bqplot",
       "_view_module_version": "^0.5",
       "_view_name": "LinearScale",
       "allow_padding": false,
       "max": 14214.5,
       "mid_range": 0.8,
       "min": -0.5,
       "min_range": 0.6,
       "reverse": false,
       "stabilized": false
      }
     },
     "e9eeec0c2a13407bae455cb6810a312c": {
      "model_module": "@jupyter-widgets/controls",
      "model_module_version": "2.0.0",
      "model_name": "VBoxModel",
      "state": {
       "_dom_classes": [],
       "_model_module": "@jupyter-widgets/controls",
       "_model_module_version": "2.0.0",
       "_model_name": "VBoxModel",
       "_view_count": null,
       "_view_module": "@jupyter-widgets/controls",
       "_view_module_version": "2.0.0",
       "_view_name": "VBoxView",
       "box_style": "",
       "children": [
        "IPY_MODEL_68ec219419f34b1aa81acb11e78ec000",
        "IPY_MODEL_52232c6d90bd4ef494587c79a1484f45"
       ],
       "layout": "IPY_MODEL_5b4cdf94d7994192971c7f8b91737d99",
       "tabbable": null,
       "tooltip": null
      }
     },
     "eab4f0f4e3d84ad0bbb6721b3c5cd356": {
      "model_module": "jupyter-vue",
      "model_module_version": "^1.10.1",
      "model_name": "VueComponentModel",
      "state": {
       "_dom_classes": [],
       "_model_module": "jupyter-vue",
       "_model_module_version": "^1.10.1",
       "_model_name": "VueComponentModel",
       "_view_count": null,
       "_view_module": null,
       "_view_module_version": "",
       "_view_name": null,
       "component": "<template>\n  <component :is=\"stack.container\">\n    <g-viewer-tab\n      v-for=\"(child, index) in stack.children\"\n      :stack=\"child\"\n      :key=\"index\"\n      :data_items=\"data_items\"\n      :app_settings=\"app_settings\"\n      :icons=\"icons\"\n      :viewer_icons=\"viewer_icons\"\n      :layer_icons=\"layer_icons\"\n      @resize=\"(e) => $emit('resize', e)\"\n      :closefn=\"closefn\"\n      @data-item-visibility=\"$emit('data-item-visibility', $event)\"\n      @data-item-unload=\"$emit('data-item-unload', $event)\"\n      @data-item-remove=\"$emit('data-item-remove', $event)\"\n      @call-viewer-method=\"$emit('call-viewer-method', $event)\"\n    ></g-viewer-tab>\n    <gl-component\n      v-for=\"(viewer, index) in stack.viewers\"\n      :key=\"viewer.id\"\n      :title=\"viewer.reference || viewer.id\"\n      :tab-id=\"viewer.id\"\n      @resize=\"(e) => $emit('resize', e)\"\n      @destroy=\"destroy($event, viewer.id)\"\n      style=\"display: flex; flex-flow: column; height: 100%; overflow-y: auto; overflow-x: hidden\"\n    >\n        <div>\n          <v-row dense style=\"background-color: #205f76; margin: 0px\" class=\"jdaviz-viewer-toolbar\">\n            <j-viewer-data-select\n              :data_items=\"data_items\" \n              :viewer=\"viewer\"\n              :app_settings=\"app_settings\"\n              :layer_icons=\"layer_icons\"\n              :icons=\"icons\"\n              @data-item-visibility=\"$emit('data-item-visibility', $event)\"\n              @data-item-unload=\"$emit('data-item-unload', $event)\"\n              @data-item-remove=\"$emit('data-item-remove', $event)\"\n            ></j-viewer-data-select>\n\n\n            <v-toolbar-items v-if=\"viewer.reference === 'table-viewer'\">\n              <j-tooltip tipid='table-prev'>\n                <v-btn icon @click=\"$emit('call-viewer-method', {'id': viewer.id, 'method': 'prev_row'})\" color=\"white\">\n                  <v-icon>mdi-arrow-up-bold</v-icon>\n                </v-btn>\n              </j-tooltip>\n              <j-tooltip tipid='table-next'>\n                <v-btn icon @click=\"$emit('call-viewer-method', {'id': viewer.id, 'method': 'next_row'})\" color=\"white\">\n                  <v-icon>mdi-arrow-down-bold</v-icon>\n                </v-btn>\n              </j-tooltip>\n            </v-toolbar-items>\n            <j-play-pause-widget v-if=\"viewer.reference == 'table-viewer'\" @event=\"$emit('call-viewer-method', {'id': viewer.id, 'method': 'next_row'})\"></j-play-pause-widget>\n            <v-spacer></v-spacer>\n            <jupyter-widget class='jdaviz-nested-toolbar' :widget=\"viewer.toolbar\"></jupyter-widget>\n          </v-row>\n\n        </div>\n\n        <v-card tile flat style=\"flex: 1; margin-top: -2px; overflow: hidden;\">\n          <div v-if=\"app_settings.viewer_labels\" class='viewer-label-container'>\n            <div v-if=\"Object.keys(viewer_icons).length > 1\" class=\"viewer-label invert-if-dark\">\n              <j-tooltip span_style=\"white-space: nowrap\">\n                <j-layer-viewer-icon span_style=\"float: right;\" :icon=\"viewer_icons[viewer.id]\"></j-layer-viewer-icon>\n              </j-tooltip>\n              <span class=\"invert-if-dark\" style=\"margin-left: 24px; margin-right: 32px; line-height: 24px\">{{viewer.reference || viewer.id}}</span>\n            </div>\n\n            <div v-for=\"(layer_info, layer_name) in viewer.visible_layers\" class=\"viewer-label invert-if-dark\">\n              <j-tooltip span_style=\"white-space: nowrap\">\n                <j-layer-viewer-icon span_style=\"float: right;\" :icon=\"layer_icons[layer_name]\" :linewidth=\"layer_info.linewidth\" :linestyle=\"'solid'\" :color=\"layer_info.color\"></j-layer-viewer-icon>\n              </j-tooltip>\n              <span class=\"invert-if-dark\" style=\"margin-left: 24px; margin-right: 32px; line-height: 24px\">\n                <v-icon v-if=\"layer_info.prefix_icon\" dense>\n                  {{layer_info.prefix_icon}}\n                </v-icon>\n                {{layer_name}}{{layer_info.suffix_label}}\n              </span>\n            </div>\n          </div>\n\n          <jupyter-widget\n            :widget=\"viewer.widget\"\n            :ref=\"'viewer-widget-'+viewer.id\"\n            :style=\"'width: 100%; height: 100%; overflow: hidden; transform: rotateY('+viewer_rotateY(viewer.canvas_flip_horizontal)+') rotate('+viewer.canvas_angle+'deg)'\"\n          ></jupyter-widget>\n        </v-card>\n    </gl-component>\n  </component>\n</template>\n\n<style>\n.viewer-label-container {\n  position: absolute;\n  right: 0;\n  z-index: 1;\n  width: 24px;\n}\n.viewer-label {\n  display: block;\n  float: right;\n  background-color: #c3c3c3c3;\n  width: 24px;\n  overflow: hidden;\n  white-space: nowrap;\n  /*cursor: pointer;*/\n}\n.viewer-label:last-child {\n  padding-bottom: 2px;\n}\n.viewer-label:hover {\n  background-color: #e5e5e5;\n  width: auto;\n  border-bottom-left-radius: 4px; \n  border-top-left-radius: 4px;\n}\n.imviz div.v-card.v-card--flat.v-sheet.v-sheet--tile {\n  /* black background beyond edges of canvas for canvas rotation */\n  background-color: black\n}\n</style>\n\n<script>\nmodule.exports = {\n  name: \"g-viewer-tab\",\n  props: [\"stack\", \"data_items\", \"closefn\", \"app_settings\", \"icons\", \"viewer_icons\", \"layer_icons\"],\n  created() {\n    this.$parent.childMe = () => {\n      return this.$children[0];\n    };\n  },\n  watch: {\n    stack(new_stack, old_stack) {\n      this.$emit('resize')\n    }\n  },\n  methods: {\n    computeChildrenPath() {\n      return this.$parent.computeChildrenPath();\n    },\n    destroy(source, viewerId) {\n      /* There seems to be no close event provided by vue-golden-layout, so we can't distinguish\n       * between a user closing a tab or a re-render. However, when the user closes a tab, the\n       * source of the event is a vue component. We can use that distinction as a close signal. */\n      source.$root && this.closefn(viewerId);\n    },\n    viewer_rotateY(canvas_flip_horizontal) {\n      if (canvas_flip_horizontal) {\n        return '180deg'\n      } else {\n        return '0deg'\n      }\n    }\n  },\n  computed: {\n    parentMe() {\n      return this.$parent;\n    },\n    childMe() {\n      return this.$children[0];\n    }\n  }\n};\n</script>\n",
       "layout": "IPY_MODEL_796828c680c8482591159b7abfb1f910",
       "name": "g-viewer-tab",
       "tabbable": null,
       "tooltip": null
      }
     },
     "ead875092c864d268143ff8337387682": {
      "model_module": "bqplot",
      "model_module_version": "^0.5",
      "model_name": "AxisModel",
      "state": {
       "_model_module": "bqplot",
       "_model_module_version": "^0.5",
       "_model_name": "AxisModel",
       "_view_count": null,
       "_view_module": "bqplot",
       "_view_module_version": "^0.5",
       "_view_name": "Axis",
       "color": null,
       "grid_color": null,
       "grid_lines": "none",
       "label": "x: pixels",
       "label_color": null,
       "label_location": "middle",
       "label_offset": null,
       "num_ticks": null,
       "offset": {},
       "orientation": "horizontal",
       "scale": "IPY_MODEL_e9d182703c7f421db9185b0e14f021b4",
       "side": null,
       "tick_format": null,
       "tick_labels": {},
       "tick_rotate": 0,
       "tick_style": {},
       "tick_values": null,
       "visible": false
      }
     },
     "eb0b57c4d8c44c3e825ff7d55f490d9b": {
      "model_module": "jupyter-vuetify",
      "model_module_version": "^1.8.10",
      "model_name": "VuetifyTemplateModel",
      "state": {
       "_component_instances": [],
       "_dom_classes": [],
       "_jupyter_vue": "IPY_MODEL_28c992a30e9e48598df49b24e8922228",
       "_model_module": "jupyter-vuetify",
       "_model_module_version": "^1.8.10",
       "_model_name": "VuetifyTemplateModel",
       "_view_count": null,
       "_view_module": "jupyter-vuetify",
       "_view_module_version": "^1.8.10",
       "_view_name": "VuetifyView",
       "components": null,
       "css": null,
       "data": null,
       "events": [
        "popout"
       ],
       "figure": "IPY_MODEL_76efa99d328644a7974a645a77ddec91",
       "layout": "IPY_MODEL_f0db473e38d242b1aaf70c4083a2f49b",
       "methods": null,
       "popout_button": "IPY_MODEL_91f8c9355c0b4797a908941cbbc139f1",
       "tabbable": null,
       "template": "IPY_MODEL_380469682a0f411c8704e6508aa426d4",
       "tooltip": null
      }
     },
     "ec1b09a2a82840f4ada5e8e0172c0a43": {
      "model_module": "@jupyter-widgets/base",
      "model_module_version": "2.0.0",
      "model_name": "LayoutModel",
      "state": {
       "_model_module": "@jupyter-widgets/base",
       "_model_module_version": "2.0.0",
       "_model_name": "LayoutModel",
       "_view_count": null,
       "_view_module": "@jupyter-widgets/base",
       "_view_module_version": "2.0.0",
       "_view_name": "LayoutView",
       "align_content": null,
       "align_items": null,
       "align_self": null,
       "border_bottom": null,
       "border_left": null,
       "border_right": null,
       "border_top": null,
       "bottom": null,
       "display": null,
       "flex": null,
       "flex_flow": null,
       "grid_area": null,
       "grid_auto_columns": null,
       "grid_auto_flow": null,
       "grid_auto_rows": null,
       "grid_column": null,
       "grid_gap": null,
       "grid_row": null,
       "grid_template_areas": null,
       "grid_template_columns": null,
       "grid_template_rows": null,
       "height": null,
       "justify_content": null,
       "justify_items": null,
       "left": null,
       "margin": null,
       "max_height": null,
       "max_width": null,
       "min_height": null,
       "min_width": null,
       "object_fit": null,
       "object_position": null,
       "order": null,
       "overflow": null,
       "padding": null,
       "right": null,
       "top": null,
       "visibility": null,
       "width": null
      }
     },
     "ec6993a2bdf9494aaab2c31d58264942": {
      "model_module": "jupyter-vuetify",
      "model_module_version": "^1.8.10",
      "model_name": "VuetifyTemplateModel",
      "state": {
       "_component_instances": [],
       "_dom_classes": [],
       "_jupyter_vue": "IPY_MODEL_28c992a30e9e48598df49b24e8922228",
       "_model_module": "jupyter-vuetify",
       "_model_module_version": "^1.8.10",
       "_model_name": "VuetifyTemplateModel",
       "_view_count": null,
       "_view_module": "jupyter-vuetify",
       "_view_module_version": "^1.8.10",
       "_view_name": "VuetifyView",
       "components": null,
       "css": null,
       "data": null,
       "echo_available": true,
       "events": [],
       "is_displayed": false,
       "kernel_id": "",
       "layout": "IPY_MODEL_06882f8920154c7984142a3a4eac4544",
       "methods": null,
       "open_tab_on_display": false,
       "open_window_on_display": false,
       "tabbable": null,
       "target_model_id": "6a7f5b7bf98d47f99b0151091f07bacc",
       "template": "IPY_MODEL_d55e72844de240529f76b5d1b37d37bf",
       "tooltip": null,
       "window_features": "popup,width=400,height=600",
       "window_name": "6a7f5b7bf98d47f99b0151091f07bacc"
      }
     },
     "ece66a4cb47742d4aa5f57a4130ab4a8": {
      "model_module": "jupyter-vuetify",
      "model_module_version": "^1.8.10",
      "model_name": "VuetifyTemplateModel",
      "state": {
       "_component_instances": [],
       "_dom_classes": [],
       "_jupyter_vue": "IPY_MODEL_28c992a30e9e48598df49b24e8922228",
       "_model_module": "jupyter-vuetify",
       "_model_module_version": "^1.8.10",
       "_model_name": "VuetifyTemplateModel",
       "_view_count": null,
       "_view_module": "jupyter-vuetify",
       "_view_module_version": "^1.8.10",
       "_view_name": "VuetifyView",
       "components": null,
       "css": null,
       "data": null,
       "echo_available": true,
       "events": [],
       "is_displayed": false,
       "kernel_id": "",
       "layout": "IPY_MODEL_1aaf0129a7df4a54a67d6afff3119db7",
       "methods": null,
       "open_tab_on_display": false,
       "open_window_on_display": false,
       "tabbable": null,
       "target_model_id": "64eddf8df68049578536247f292c4d73",
       "template": "IPY_MODEL_d55e72844de240529f76b5d1b37d37bf",
       "tooltip": null,
       "window_features": "popup,width=400,height=600",
       "window_name": "64eddf8df68049578536247f292c4d73"
      }
     },
     "ed03ac89923c48dd84b923b0a37f5a51": {
      "model_module": "jupyter-vuetify",
      "model_module_version": "^1.8.5",
      "model_name": "ListItemTitleModel",
      "state": {
       "_dom_classes": [],
       "_events": [],
       "_jupyter_vue": "IPY_MODEL_28c992a30e9e48598df49b24e8922228",
       "_metadata": null,
       "_model_module": "jupyter-vuetify",
       "_model_module_version": "^1.8.5",
       "_model_name": "ListItemTitleModel",
       "_view_count": null,
       "_view_module": "jupyter-vuetify",
       "_view_module_version": "^1.8.5",
       "_view_name": "VuetifyView",
       "attributes": {},
       "children": [
        "remove"
       ],
       "class_": null,
       "layout": null,
       "slot": null,
       "style_": null,
       "tabbable": null,
       "tooltip": null,
       "v_model": "!!disabled!!",
       "v_on": null,
       "v_slots": []
      }
     },
     "ed0433404ce5412a9ee4adae4e2d1fdc": {
      "model_module": "@jupyter-widgets/base",
      "model_module_version": "2.0.0",
      "model_name": "LayoutModel",
      "state": {
       "_model_module": "@jupyter-widgets/base",
       "_model_module_version": "2.0.0",
       "_model_name": "LayoutModel",
       "_view_count": null,
       "_view_module": "@jupyter-widgets/base",
       "_view_module_version": "2.0.0",
       "_view_name": "LayoutView",
       "align_content": null,
       "align_items": null,
       "align_self": null,
       "border_bottom": null,
       "border_left": null,
       "border_right": null,
       "border_top": null,
       "bottom": null,
       "display": null,
       "flex": null,
       "flex_flow": null,
       "grid_area": null,
       "grid_auto_columns": null,
       "grid_auto_flow": null,
       "grid_auto_rows": null,
       "grid_column": null,
       "grid_gap": null,
       "grid_row": null,
       "grid_template_areas": null,
       "grid_template_columns": null,
       "grid_template_rows": null,
       "height": null,
       "justify_content": null,
       "justify_items": null,
       "left": null,
       "margin": null,
       "max_height": null,
       "max_width": null,
       "min_height": null,
       "min_width": null,
       "object_fit": null,
       "object_position": null,
       "order": null,
       "overflow": null,
       "padding": null,
       "right": null,
       "top": null,
       "visibility": null,
       "width": null
      }
     },
     "ee0b15da77a64c72bad5e586fe5c369d": {
      "model_module": "jupyter-vuetify",
      "model_module_version": "^1.8.10",
      "model_name": "ThemeModel",
      "state": {
       "_model_module": "jupyter-vuetify",
       "_model_module_version": "^1.8.10",
       "_model_name": "ThemeModel",
       "_view_count": null,
       "_view_module": null,
       "_view_module_version": "^1.8.10",
       "_view_name": null,
       "dark": null
      }
     },
     "ee8806075616475b9c63313191e8efce": {
      "model_module": "@jupyter-widgets/controls",
      "model_module_version": "2.0.0",
      "model_name": "DescriptionStyleModel",
      "state": {
       "_model_module": "@jupyter-widgets/controls",
       "_model_module_version": "2.0.0",
       "_model_name": "DescriptionStyleModel",
       "_view_count": null,
       "_view_module": "@jupyter-widgets/base",
       "_view_module_version": "2.0.0",
       "_view_name": "StyleView",
       "description_width": ""
      }
     },
     "eeae0abfbb95448095efe333740d5e9a": {
      "model_module": "jupyter-vue",
      "model_module_version": "^1.10.1",
      "model_name": "TemplateModel",
      "state": {
       "_model_module": "jupyter-vue",
       "_model_module_version": "^1.10.1",
       "_model_name": "TemplateModel",
       "_view_count": null,
       "_view_module": null,
       "_view_module_version": "",
       "_view_name": null,
       "template": "<template>\n  <j-tray-plugin\n    description='Perform aperture photometry for a single region.'\n    :link=\"docs_link || 'https://jdaviz.readthedocs.io/en/'+vdocs+'/'+config+'/plugins.html#simple-aperture-photometry'\"\n    :popout_button=\"popout_button\">\n\n    <plugin-dataset-select\n      :items=\"dataset_items\"\n      :selected.sync=\"dataset_selected\"\n      :show_if_single_entry=\"false\"\n      label=\"Data\"\n      hint=\"Select the data for photometry.\"\n    />\n\n    <div v-if='dataset_selected'>\n      <plugin-subset-select\n        :items=\"subset_items\"\n        :selected.sync=\"subset_selected\"\n        :show_if_single_entry=\"true\"\n        label=\"Aperture\"\n        hint=\"Select aperture region for photometry (cannot be an annulus or composite subset).\"\n      />\n\n      <div v-if=\"subset_selected\">\n        <plugin-subset-select\n          :items=\"bg_subset_items\"\n          :selected.sync=\"bg_subset_selected\"\n          :show_if_single_entry=\"true\"\n          label=\"Background\"\n          hint=\"Select subset region for background calculation (cannot be a composite subset).\"\n        />\n\n        <v-row v-if=\"subset_selected === bg_subset_selected\">\n          <span class=\"v-messages v-messages__message text--secondary\" style=\"color: red !important\">\n              Background and aperture cannot be set to the same subset\n          </span>\n        </v-row>\n\n        <v-row>\n          <v-text-field\n            label=\"Background value\"\n            v-model.number=\"background_value\"\n            type=\"number\"\n            hint=\"Background to subtract, same unit as data\"\n            :disabled=\"bg_subset_selected!='Manual'\"\n            persistent-hint\n          >\n          </v-text-field>\n        </v-row>\n\n        <v-row>\n          <v-text-field\n            label=\"Pixel area\"\n            v-model.number=\"pixel_area\"\n            type=\"number\"\n            hint=\"Pixel area in arcsec squared, only used if sr in data unit\"\n            persistent-hint\n          >\n          </v-text-field>\n        </v-row>\n\n        <v-row>\n          <v-text-field\n            label=\"Counts conversion factor\"\n            v-model.number=\"counts_factor\"\n            type=\"number\"\n            hint=\"Factor to convert data unit to counts, in unit of flux/counts\"\n            persistent-hint\n          >\n          </v-text-field>\n        </v-row>\n\n        <v-row>\n          <v-text-field\n            label=\"Flux scaling\"\n            v-model.number=\"flux_scaling\"\n            type=\"number\"\n            hint=\"Same unit as data, used in -2.5 * log(flux / flux_scaling)\"\n            persistent-hint\n          >\n          </v-text-field>\n        </v-row>\n\n        <v-row>\n          <v-select\n            :menu-props=\"{ left: true }\"\n            attach\n            :items=\"plot_types\"\n            v-model=\"current_plot_type\"\n            label=\"Plot Type\"\n            hint=\"Aperture photometry plot type\"\n            persistent-hint\n          ></v-select>\n        </v-row>\n\n        <v-row v-if=\"current_plot_type==='Radial Profile (Raw)' && subset_area > 5000\">\n          <span class=\"v-messages v-messages__message text--secondary\">\n              <b>WARNING</b>: Computing and displaying raw profile of an aperture containing ~{{subset_area}} pixels may be slow or unresponsive.\n          </span>\n        </v-row>\n\n        <v-row v-if=\"current_plot_type.indexOf('Radial Profile') != -1\">\n\n          <v-switch\n            label=\"Fit Gaussian\"\n            hint=\"Fit Gaussian1D to radial profile\"\n            v-model=\"fit_radial_profile\"\n            persistent-hint>\n          </v-switch>\n        </v-row>\n\n        <v-row justify=\"end\">\n          <v-btn color=\"primary\" text @click=\"do_aper_phot\" :disabled=\"subset_selected === bg_subset_selected\">Calculate</v-btn>\n        </v-row>\n      </div>\n    </div>\n\n    <v-row v-if=\"result_failed_msg.length > 0\">\n      <span class=\"v-messages v-messages__message text--secondary\" style=\"color: red !important\">\n          <b>WARNING</b>: {{result_failed_msg}}\n      </span>\n    </v-row>\n\n    <v-row v-if=\"plot_available\">\n      <jupyter-widget :widget=\"plot_widget\"/> \n    </v-row>\n\n    <div v-if=\"plot_available && fit_radial_profile && current_plot_type != 'Curve of Growth'\">\n      <j-plugin-section-header>Gaussian Fit Results</j-plugin-section-header>\n      <v-row no-gutters>\n        <v-col cols=6><U>Result</U></v-col>\n        <v-col cols=6><U>Value</U></v-col>\n      </v-row>\n      <v-row\n        v-for=\"item in fit_results\"\n        :key=\"item.function\"\n        no-gutters>\n        <v-col cols=6>\n          {{  item.function  }}\n        </v-col>\n        <v-col cols=6>{{ item.result }}</v-col>\n      </v-row>\n    </div>\n\n    <div v-if=\"result_available\">\n      <j-plugin-section-header>Photometry Results</j-plugin-section-header>\n\n      <v-row no-gutters>\n        <v-col cols=6><U>Result</U></v-col>\n        <v-col cols=6><U>Value</U></v-col>\n      </v-row>\n      <v-row\n        v-for=\"item in results\"\n        :key=\"item.function\"\n        no-gutters>\n        <v-col cols=6>\n          {{  item.function  }}\n        </v-col>\n        <v-col cols=6>{{ item.result }}</v-col>\n      </v-row>\n\n      <j-plugin-section-header>Results History</j-plugin-section-header>\n      <jupyter-widget :widget=\"table_widget\"></jupyter-widget> \n    </div>\n  </j-tray-plugin>\n</template>\n"
      }
     },
     "eee2f7de34534e4dbb694c7138b48418": {
      "model_module": "@jupyter-widgets/base",
      "model_module_version": "2.0.0",
      "model_name": "LayoutModel",
      "state": {
       "_model_module": "@jupyter-widgets/base",
       "_model_module_version": "2.0.0",
       "_model_name": "LayoutModel",
       "_view_count": null,
       "_view_module": "@jupyter-widgets/base",
       "_view_module_version": "2.0.0",
       "_view_name": "LayoutView",
       "align_content": null,
       "align_items": null,
       "align_self": null,
       "border_bottom": null,
       "border_left": null,
       "border_right": null,
       "border_top": null,
       "bottom": null,
       "display": null,
       "flex": null,
       "flex_flow": null,
       "grid_area": null,
       "grid_auto_columns": null,
       "grid_auto_flow": null,
       "grid_auto_rows": null,
       "grid_column": null,
       "grid_gap": null,
       "grid_row": null,
       "grid_template_areas": null,
       "grid_template_columns": null,
       "grid_template_rows": null,
       "height": null,
       "justify_content": null,
       "justify_items": null,
       "left": null,
       "margin": null,
       "max_height": null,
       "max_width": null,
       "min_height": null,
       "min_width": null,
       "object_fit": null,
       "object_position": null,
       "order": null,
       "overflow": null,
       "padding": null,
       "right": null,
       "top": null,
       "visibility": null,
       "width": null
      }
     },
     "ef41d310941a45ab812b8c905cd25c05": {
      "model_module": "bqplot",
      "model_module_version": "^0.5",
      "model_name": "LinearScaleModel",
      "state": {
       "_model_module": "bqplot",
       "_model_module_version": "^0.5",
       "_model_name": "LinearScaleModel",
       "_view_count": null,
       "_view_module": "bqplot",
       "_view_module_version": "^0.5",
       "_view_name": "LinearScale",
       "allow_padding": true,
       "max": null,
       "mid_range": 0.8,
       "min": null,
       "min_range": 0.6,
       "reverse": false,
       "stabilized": false
      }
     },
     "f0db473e38d242b1aaf70c4083a2f49b": {
      "model_module": "@jupyter-widgets/base",
      "model_module_version": "2.0.0",
      "model_name": "LayoutModel",
      "state": {
       "_model_module": "@jupyter-widgets/base",
       "_model_module_version": "2.0.0",
       "_model_name": "LayoutModel",
       "_view_count": null,
       "_view_module": "@jupyter-widgets/base",
       "_view_module_version": "2.0.0",
       "_view_name": "LayoutView",
       "align_content": null,
       "align_items": null,
       "align_self": null,
       "border_bottom": null,
       "border_left": null,
       "border_right": null,
       "border_top": null,
       "bottom": null,
       "display": null,
       "flex": null,
       "flex_flow": null,
       "grid_area": null,
       "grid_auto_columns": null,
       "grid_auto_flow": null,
       "grid_auto_rows": null,
       "grid_column": null,
       "grid_gap": null,
       "grid_row": null,
       "grid_template_areas": null,
       "grid_template_columns": null,
       "grid_template_rows": null,
       "height": null,
       "justify_content": null,
       "justify_items": null,
       "left": null,
       "margin": null,
       "max_height": null,
       "max_width": null,
       "min_height": null,
       "min_width": null,
       "object_fit": null,
       "object_position": null,
       "order": null,
       "overflow": null,
       "padding": null,
       "right": null,
       "top": null,
       "visibility": null,
       "width": null
      }
     },
     "f0f3fdeceb0f4b20995b04aba8e7d8d4": {
      "model_module": "jupyter-vuetify",
      "model_module_version": "^1.8.5",
      "model_name": "ListItemActionModel",
      "state": {
       "_dom_classes": [],
       "_events": [],
       "_jupyter_vue": "IPY_MODEL_28c992a30e9e48598df49b24e8922228",
       "_metadata": null,
       "_model_module": "jupyter-vuetify",
       "_model_module_version": "^1.8.5",
       "_model_name": "ListItemActionModel",
       "_view_count": null,
       "_view_module": "jupyter-vuetify",
       "_view_module_version": "^1.8.5",
       "_view_name": "VuetifyView",
       "attributes": {},
       "children": [
        "IPY_MODEL_6960521b714043389d98a218fd73d671"
       ],
       "class_": null,
       "layout": null,
       "slot": null,
       "style_": null,
       "tabbable": null,
       "tooltip": null,
       "v_model": "!!disabled!!",
       "v_on": null,
       "v_slots": []
      }
     },
     "f14c51792b984172898b204566f0099f": {
      "model_module": "bqplot",
      "model_module_version": "^0.5",
      "model_name": "AxisModel",
      "state": {
       "_model_module": "bqplot",
       "_model_module_version": "^0.5",
       "_model_name": "AxisModel",
       "_view_count": null,
       "_view_module": "bqplot",
       "_view_module_version": "^0.5",
       "_view_name": "Axis",
       "color": null,
       "grid_color": null,
       "grid_lines": "solid",
       "label": "y",
       "label_color": null,
       "label_location": "middle",
       "label_offset": null,
       "num_ticks": null,
       "offset": {},
       "orientation": "vertical",
       "scale": "IPY_MODEL_c2d2bad696c34088b9006b48fbbade70",
       "side": null,
       "tick_format": null,
       "tick_labels": {},
       "tick_rotate": 0,
       "tick_style": {},
       "tick_values": null,
       "visible": true
      }
     },
     "f1ec0a55d9f04a61b374484da4e7c072": {
      "model_module": "@jupyter-widgets/base",
      "model_module_version": "2.0.0",
      "model_name": "LayoutModel",
      "state": {
       "_model_module": "@jupyter-widgets/base",
       "_model_module_version": "2.0.0",
       "_model_name": "LayoutModel",
       "_view_count": null,
       "_view_module": "@jupyter-widgets/base",
       "_view_module_version": "2.0.0",
       "_view_name": "LayoutView",
       "align_content": null,
       "align_items": null,
       "align_self": null,
       "border_bottom": null,
       "border_left": null,
       "border_right": null,
       "border_top": null,
       "bottom": null,
       "display": null,
       "flex": null,
       "flex_flow": null,
       "grid_area": null,
       "grid_auto_columns": null,
       "grid_auto_flow": null,
       "grid_auto_rows": null,
       "grid_column": null,
       "grid_gap": null,
       "grid_row": null,
       "grid_template_areas": null,
       "grid_template_columns": null,
       "grid_template_rows": null,
       "height": null,
       "justify_content": null,
       "justify_items": null,
       "left": null,
       "margin": null,
       "max_height": null,
       "max_width": null,
       "min_height": null,
       "min_width": null,
       "object_fit": null,
       "object_position": null,
       "order": null,
       "overflow": null,
       "padding": null,
       "right": null,
       "top": null,
       "visibility": null,
       "width": null
      }
     },
     "f2ca6cef629945f1b44e780d7aa6e9db": {
      "model_module": "jupyter-vuetify",
      "model_module_version": "^1.8.10",
      "model_name": "VuetifyTemplateModel",
      "state": {
       "_component_instances": [],
       "_dom_classes": [],
       "_jupyter_vue": "IPY_MODEL_28c992a30e9e48598df49b24e8922228",
       "_model_module": "jupyter-vuetify",
       "_model_module_version": "^1.8.10",
       "_model_name": "VuetifyTemplateModel",
       "_view_count": null,
       "_view_module": "jupyter-vuetify",
       "_view_module_version": "^1.8.10",
       "_view_name": "VuetifyView",
       "attribute_items": [
        {
         "text": "DATA",
         "value": 0
        }
       ],
       "attribute_selected": 0,
       "c_levels_error": "",
       "c_levels_txt": "",
       "color_mode": "One color per layer",
       "colormap_items": [
        {
         "text": "Gray",
         "value": "gray"
        },
        {
         "text": "Viridis",
         "value": "viridis"
        },
        {
         "text": "Plasma",
         "value": "plasma"
        },
        {
         "text": "Inferno",
         "value": "inferno"
        },
        {
         "text": "Magma",
         "value": "magma"
        },
        {
         "text": "Purple-Blue",
         "value": "PuBu"
        },
        {
         "text": "Yellow-Green-Blue",
         "value": "YlGnBu"
        },
        {
         "text": "Yellow-Orange-Red",
         "value": "YlOrRd"
        },
        {
         "text": "Red-Purple",
         "value": "RdPu"
        },
        {
         "text": "Blue-Green",
         "value": "BuGn"
        },
        {
         "text": "Hot",
         "value": "hot"
        },
        {
         "text": "Red-Blue",
         "value": "RdBu"
        },
        {
         "text": "Red-Yellow-Blue",
         "value": "RdYlBu"
        },
        {
         "text": "Purple-Orange",
         "value": "PuOr"
        },
        {
         "text": "Purple-Green",
         "value": "PRGn"
        },
        {
         "text": "Rainbow",
         "value": "rainbow"
        },
        {
         "text": "Seismic",
         "value": "seismic"
        },
        {
         "text": "Reversed: Gray",
         "value": "gray_r"
        },
        {
         "text": "Reversed: Viridis",
         "value": "viridis_r"
        },
        {
         "text": "Reversed: Plasma",
         "value": "plasma_r"
        },
        {
         "text": "Reversed: Inferno",
         "value": "inferno_r"
        },
        {
         "text": "Reversed: Magma",
         "value": "magma_r"
        },
        {
         "text": "Reversed: Hot",
         "value": "hot_r"
        },
        {
         "text": "Reversed: Rainbow",
         "value": "rainbow_r"
        }
       ],
       "components": null,
       "css": null,
       "data": null,
       "events": [
        "set_colormap"
       ],
       "glue_state": {
        "alpha": 0.4,
        "attribute": "611cfa3b-ebb5-42d2-b5c7-ba9bce8b51a4",
        "bias": 0.74,
        "bitmap_visible": true,
        "c_max": 568.6403198242188,
        "c_min": 0.0,
        "cmap": "gray",
        "color": "#66cfef",
        "contour_colors": [
         "red",
         "orange",
         "yellow",
         "green",
         "blue"
        ],
        "contour_percentile": 100,
        "contour_visible": false,
        "contrast": 0.94,
        "global_sync": false,
        "labels": [
         "94.77",
         "189.5",
         "284.3",
         "379.1",
         "473.9"
        ],
        "layer": "611cfa3b-ebb5-42d2-b5c7-ba9bce8b51a4",
        "level_mode": "Linear",
        "levels": [
         94.7733866373698,
         189.5467732747396,
         284.3201599121094,
         379.0935465494792,
         473.866933186849
        ],
        "n_levels": 5,
        "percentile": "Custom",
        "stretch": "linear",
        "v_max": 16.0,
        "v_min": 0.0,
        "visible": true,
        "zorder": 2
       },
       "has_contour": true,
       "layout": "IPY_MODEL_b4ca8e1779fa4b7bae158d0699e3260b",
       "methods": null,
       "percentile_items": [
        {
         "text": "Min/Max",
         "value": 0
        },
        {
         "text": "99.5%",
         "value": 1
        },
        {
         "text": "99%",
         "value": 2
        },
        {
         "text": "95%",
         "value": 3
        },
        {
         "text": "90%",
         "value": 4
        },
        {
         "text": "Custom",
         "value": 5
        }
       ],
       "percentile_selected": 5,
       "stretch_items": [
        {
         "text": "Linear",
         "value": 0
        },
        {
         "text": "Square Root",
         "value": 1
        },
        {
         "text": "Arcsinh",
         "value": 2
        },
        {
         "text": "Logarithmic",
         "value": 3
        }
       ],
       "stretch_selected": 0,
       "tabbable": null,
       "template": "IPY_MODEL_c96086e872174c0da0a6b7ea39154936",
       "tooltip": null
      }
     },
     "f382676fff5046cba35d01929a208b90": {
      "model_module": "@jupyter-widgets/base",
      "model_module_version": "2.0.0",
      "model_name": "LayoutModel",
      "state": {
       "_model_module": "@jupyter-widgets/base",
       "_model_module_version": "2.0.0",
       "_model_name": "LayoutModel",
       "_view_count": null,
       "_view_module": "@jupyter-widgets/base",
       "_view_module_version": "2.0.0",
       "_view_name": "LayoutView",
       "align_content": null,
       "align_items": null,
       "align_self": null,
       "border_bottom": null,
       "border_left": null,
       "border_right": null,
       "border_top": null,
       "bottom": null,
       "display": null,
       "flex": null,
       "flex_flow": null,
       "grid_area": null,
       "grid_auto_columns": null,
       "grid_auto_flow": null,
       "grid_auto_rows": null,
       "grid_column": null,
       "grid_gap": null,
       "grid_row": null,
       "grid_template_areas": null,
       "grid_template_columns": null,
       "grid_template_rows": null,
       "height": null,
       "justify_content": null,
       "justify_items": null,
       "left": null,
       "margin": null,
       "max_height": null,
       "max_width": null,
       "min_height": null,
       "min_width": null,
       "object_fit": null,
       "object_position": null,
       "order": null,
       "overflow": null,
       "padding": null,
       "right": null,
       "top": null,
       "visibility": null,
       "width": null
      }
     },
     "f3ef4e6c5ede474c81762a6a8fcd6139": {
      "model_module": "@jupyter-widgets/base",
      "model_module_version": "2.0.0",
      "model_name": "LayoutModel",
      "state": {
       "_model_module": "@jupyter-widgets/base",
       "_model_module_version": "2.0.0",
       "_model_name": "LayoutModel",
       "_view_count": null,
       "_view_module": "@jupyter-widgets/base",
       "_view_module_version": "2.0.0",
       "_view_name": "LayoutView",
       "align_content": null,
       "align_items": null,
       "align_self": null,
       "border_bottom": null,
       "border_left": null,
       "border_right": null,
       "border_top": null,
       "bottom": null,
       "display": null,
       "flex": null,
       "flex_flow": null,
       "grid_area": null,
       "grid_auto_columns": null,
       "grid_auto_flow": null,
       "grid_auto_rows": null,
       "grid_column": null,
       "grid_gap": null,
       "grid_row": null,
       "grid_template_areas": null,
       "grid_template_columns": null,
       "grid_template_rows": null,
       "height": null,
       "justify_content": null,
       "justify_items": null,
       "left": null,
       "margin": null,
       "max_height": null,
       "max_width": null,
       "min_height": null,
       "min_width": null,
       "object_fit": null,
       "object_position": null,
       "order": null,
       "overflow": null,
       "padding": null,
       "right": null,
       "top": null,
       "visibility": null,
       "width": null
      }
     },
     "f535aa1d70ba4ed180c34310bba5cf5e": {
      "model_module": "jupyter-vuetify",
      "model_module_version": "^1.8.10",
      "model_name": "VuetifyTemplateModel",
      "state": {
       "_component_instances": [],
       "_dom_classes": [],
       "_jupyter_vue": "IPY_MODEL_28c992a30e9e48598df49b24e8922228",
       "_model_module": "jupyter-vuetify",
       "_model_module_version": "^1.8.10",
       "_model_name": "VuetifyTemplateModel",
       "_view_count": null,
       "_view_module": "jupyter-vuetify",
       "_view_module_version": "^1.8.10",
       "_view_name": "VuetifyView",
       "components": null,
       "css": null,
       "data": null,
       "echo_available": true,
       "events": [],
       "is_displayed": false,
       "kernel_id": "",
       "layout": "IPY_MODEL_f792e4c62e6f4b349cdc388b2d2a594a",
       "methods": null,
       "open_tab_on_display": false,
       "open_window_on_display": false,
       "tabbable": null,
       "target_model_id": "fc4656f7febc42b0927b1d5df31ac5a1",
       "template": "IPY_MODEL_d55e72844de240529f76b5d1b37d37bf",
       "tooltip": null,
       "window_features": "popup,width=800,height=300",
       "window_name": "fc4656f7febc42b0927b1d5df31ac5a1"
      }
     },
     "f5f7d31d0ce2452a8e81f4d63572494e": {
      "model_module": "@jupyter-widgets/base",
      "model_module_version": "2.0.0",
      "model_name": "LayoutModel",
      "state": {
       "_model_module": "@jupyter-widgets/base",
       "_model_module_version": "2.0.0",
       "_model_name": "LayoutModel",
       "_view_count": null,
       "_view_module": "@jupyter-widgets/base",
       "_view_module_version": "2.0.0",
       "_view_name": "LayoutView",
       "align_content": null,
       "align_items": null,
       "align_self": null,
       "border_bottom": null,
       "border_left": null,
       "border_right": null,
       "border_top": null,
       "bottom": null,
       "display": null,
       "flex": null,
       "flex_flow": null,
       "grid_area": null,
       "grid_auto_columns": null,
       "grid_auto_flow": null,
       "grid_auto_rows": null,
       "grid_column": null,
       "grid_gap": null,
       "grid_row": null,
       "grid_template_areas": null,
       "grid_template_columns": null,
       "grid_template_rows": null,
       "height": null,
       "justify_content": null,
       "justify_items": null,
       "left": null,
       "margin": null,
       "max_height": null,
       "max_width": null,
       "min_height": null,
       "min_width": null,
       "object_fit": null,
       "object_position": null,
       "order": null,
       "overflow": null,
       "padding": null,
       "right": null,
       "top": null,
       "visibility": null,
       "width": null
      }
     },
     "f662553081cc49c1a6664234153e2a3b": {
      "model_module": "jupyter-vue",
      "model_module_version": "^1.10.1",
      "model_name": "TemplateModel",
      "state": {
       "_model_module": "jupyter-vue",
       "_model_module_version": "^1.10.1",
       "_model_name": "TemplateModel",
       "_view_count": null,
       "_view_module": null,
       "_view_module_version": "",
       "_view_name": null,
       "template": "<template>\n  <j-tray-plugin\n    description='Show active data label, compass, and zoom box.'\n    :link=\"docs_link || 'https://jdaviz.readthedocs.io/en/'+vdocs+'/'+config+'/plugins.html#compass'\"\n    :uses_active_status=\"uses_active_status\"\n    @plugin-ping=\"plugin_ping($event)\"\n    :popout_button=\"popout_button\">\n\n    <plugin-viewer-select\n      :items=\"viewer_items\"\n      :selected.sync=\"viewer_selected\"\n      label=\"Viewer\"\n      hint=\"Select a viewer to show.\"\n    />\n\n    <v-row v-if=\"data_label\">\n      <v-chip\n        label=true\n      >\n        <j-layer-viewer-icon :icon=\"icon\" :prevent_invert_if_dark=\"true\"></j-layer-viewer-icon>\n        {{ data_label }}\n      </v-chip>\n    </v-row>\n\n    <img class='invert-in-dark' v-if=\"img_data\" :src=\"`data:image/png;base64,${img_data}`\" :style=\"'width: 100%; max-width: 400px; margin-top: 50px; transform: rotateY('+viewer_rotateY(canvas_flip_horizontal)+') rotate('+canvas_angle+'deg)'\" />\n\n  </j-tray-plugin>\n</template>\n\n<script>\nmodule.exports = {\n  methods: {\n    viewer_rotateY(canvas_flip_horizontal) {\n      if (canvas_flip_horizontal) {\n        return '180deg'\n      } else {\n        return '0deg'\n      }\n    }\n  }\n};\n</script>\n\n\n<style>\n.theme--dark .invert-in-dark {\n  filter: brightness(0.88) invert(1);\n}\n</style>\n"
      }
     },
     "f6910a8ee91e42a4a5b49dbc54f6f0a9": {
      "model_module": "@jupyter-widgets/base",
      "model_module_version": "2.0.0",
      "model_name": "LayoutModel",
      "state": {
       "_model_module": "@jupyter-widgets/base",
       "_model_module_version": "2.0.0",
       "_model_name": "LayoutModel",
       "_view_count": null,
       "_view_module": "@jupyter-widgets/base",
       "_view_module_version": "2.0.0",
       "_view_name": "LayoutView",
       "align_content": null,
       "align_items": null,
       "align_self": null,
       "border_bottom": null,
       "border_left": null,
       "border_right": null,
       "border_top": null,
       "bottom": null,
       "display": null,
       "flex": null,
       "flex_flow": null,
       "grid_area": null,
       "grid_auto_columns": null,
       "grid_auto_flow": null,
       "grid_auto_rows": null,
       "grid_column": null,
       "grid_gap": null,
       "grid_row": null,
       "grid_template_areas": null,
       "grid_template_columns": null,
       "grid_template_rows": null,
       "height": null,
       "justify_content": null,
       "justify_items": null,
       "left": null,
       "margin": null,
       "max_height": null,
       "max_width": null,
       "min_height": null,
       "min_width": null,
       "object_fit": null,
       "object_position": null,
       "order": null,
       "overflow": null,
       "padding": null,
       "right": null,
       "top": null,
       "visibility": null,
       "width": null
      }
     },
     "f6ca99dfec214cccbbdf4abb738566ba": {
      "model_module": "bqplot",
      "model_module_version": "^0.5",
      "model_name": "LinearScaleModel",
      "state": {
       "_model_module": "bqplot",
       "_model_module_version": "^0.5",
       "_model_name": "LinearScaleModel",
       "_view_count": null,
       "_view_module": "bqplot",
       "_view_module_version": "^0.5",
       "_view_name": "LinearScale",
       "allow_padding": false,
       "max": 1.0,
       "mid_range": 0.8,
       "min": 0.0,
       "min_range": 0.6,
       "reverse": false,
       "stabilized": false
      }
     },
     "f719a5ca4e094dc0b200b99aa2521603": {
      "model_module": "bqplot",
      "model_module_version": "^0.5",
      "model_name": "LinearScaleModel",
      "state": {
       "_model_module": "bqplot",
       "_model_module_version": "^0.5",
       "_model_name": "LinearScaleModel",
       "_view_count": null,
       "_view_module": "bqplot",
       "_view_module_version": "^0.5",
       "_view_name": "LinearScale",
       "allow_padding": true,
       "max": null,
       "mid_range": 0.8,
       "min": null,
       "min_range": 0.6,
       "reverse": false,
       "stabilized": false
      }
     },
     "f792e4c62e6f4b349cdc388b2d2a594a": {
      "model_module": "@jupyter-widgets/base",
      "model_module_version": "2.0.0",
      "model_name": "LayoutModel",
      "state": {
       "_model_module": "@jupyter-widgets/base",
       "_model_module_version": "2.0.0",
       "_model_name": "LayoutModel",
       "_view_count": null,
       "_view_module": "@jupyter-widgets/base",
       "_view_module_version": "2.0.0",
       "_view_name": "LayoutView",
       "align_content": null,
       "align_items": null,
       "align_self": null,
       "border_bottom": null,
       "border_left": null,
       "border_right": null,
       "border_top": null,
       "bottom": null,
       "display": null,
       "flex": null,
       "flex_flow": null,
       "grid_area": null,
       "grid_auto_columns": null,
       "grid_auto_flow": null,
       "grid_auto_rows": null,
       "grid_column": null,
       "grid_gap": null,
       "grid_row": null,
       "grid_template_areas": null,
       "grid_template_columns": null,
       "grid_template_rows": null,
       "height": null,
       "justify_content": null,
       "justify_items": null,
       "left": null,
       "margin": null,
       "max_height": null,
       "max_width": null,
       "min_height": null,
       "min_width": null,
       "object_fit": null,
       "object_position": null,
       "order": null,
       "overflow": null,
       "padding": null,
       "right": null,
       "top": null,
       "visibility": null,
       "width": null
      }
     },
     "f98ad5292108473180303525c7a71595": {
      "model_module": "@jupyter-widgets/base",
      "model_module_version": "2.0.0",
      "model_name": "LayoutModel",
      "state": {
       "_model_module": "@jupyter-widgets/base",
       "_model_module_version": "2.0.0",
       "_model_name": "LayoutModel",
       "_view_count": null,
       "_view_module": "@jupyter-widgets/base",
       "_view_module_version": "2.0.0",
       "_view_name": "LayoutView",
       "align_content": null,
       "align_items": null,
       "align_self": null,
       "border_bottom": null,
       "border_left": null,
       "border_right": null,
       "border_top": null,
       "bottom": null,
       "display": null,
       "flex": null,
       "flex_flow": null,
       "grid_area": null,
       "grid_auto_columns": null,
       "grid_auto_flow": null,
       "grid_auto_rows": null,
       "grid_column": null,
       "grid_gap": null,
       "grid_row": null,
       "grid_template_areas": null,
       "grid_template_columns": null,
       "grid_template_rows": null,
       "height": null,
       "justify_content": null,
       "justify_items": null,
       "left": null,
       "margin": null,
       "max_height": null,
       "max_width": null,
       "min_height": null,
       "min_width": null,
       "object_fit": null,
       "object_position": null,
       "order": null,
       "overflow": null,
       "padding": null,
       "right": null,
       "top": null,
       "visibility": null,
       "width": null
      }
     },
     "fa7f50dce98044ac9b27ce25a1e1641b": {
      "model_module": "jupyter-vue",
      "model_module_version": "^1.10.1",
      "model_name": "VueComponentModel",
      "state": {
       "_dom_classes": [],
       "_model_module": "jupyter-vue",
       "_model_module_version": "^1.10.1",
       "_model_name": "VueComponentModel",
       "_view_count": null,
       "_view_module": null,
       "_view_module_version": "",
       "_view_name": null,
       "component": "<template>\n  <div v-if=\"sync.in_subscribed_states\" style=\"display: grid; padding-top: 4px; padding-bottom: 4px\"> <!-- overlay container -->\n    <div style=\"grid-area: 1/1\">\n      <v-row class=\"row-no-outside-padding\">\n        <v-col :cols=\"multiselect ? '8' : '12'\" style=\"padding: 0\">\n          <div style=\"grid-area: 1/1\">\n            <slot></slot>\n          </div>\n        </v-col>\n        <v-col v-if=\"multiselect\" cols=\"4\" style=\"text-align: center; padding: 0\">\n          <j-layer-viewer-icon v-for=\"icon in sync.icons\" :icon=\"icon\" :prevent_invert_if_dark=\"true\"></j-layer-viewer-icon>\n        </v-col>\n      </v-row>\n    </div>\n    <j-tooltip v-if=\"sync.mixed\" tipid='plugin-plot-options-mixed-state' span_style=\"display: grid; grid-area: 1/1\">\n      <div\n        @click=\"() => {$emit('unmix-state')}\"\n        class=\"text-center\"\n        style=\"z-index:2;\n               margin-left: -24px;\n               margin-right: -24px;\n               cursor: pointer;\n               border: 2px solid #00617E;\n               background-color: rgb(245 245 245 / 70%);\">\n        <v-icon\n          large \n          dark\n          color=\"#00617E\"\n          style=\"height: 100%\"\n          >mdi-link-off</v-icon>\n      </div> \n    </j-tooltip>\n  </div>\n</template>\n\n<script>\nmodule.exports = {\n  props: ['sync', 'multiselect']\n};\n</script>\n",
       "layout": "IPY_MODEL_a36973bf25a64147ab107ee8241635da",
       "name": "glue-state-sync-wrapper",
       "tabbable": null,
       "tooltip": null
      }
     },
     "faf6fc5a83da4f7e9b34fd1eafd6df51": {
      "model_module": "jupyter-vuetify",
      "model_module_version": "^1.8.10",
      "model_name": "VuetifyTemplateModel",
      "state": {
       "_component_instances": [],
       "_dom_classes": [],
       "_jupyter_vue": "IPY_MODEL_28c992a30e9e48598df49b24e8922228",
       "_model_module": "jupyter-vuetify",
       "_model_module_version": "^1.8.10",
       "_model_name": "VuetifyTemplateModel",
       "_view_count": null,
       "_view_module": "jupyter-vuetify",
       "_view_module_version": "^1.8.10",
       "_view_name": "VuetifyView",
       "attribute_items": [
        {
         "text": "DATA",
         "value": 0
        }
       ],
       "attribute_selected": 0,
       "c_levels_error": "",
       "c_levels_txt": "",
       "color_mode": "One color per layer",
       "colormap_items": [
        {
         "text": "Gray",
         "value": "gray"
        },
        {
         "text": "Viridis",
         "value": "viridis"
        },
        {
         "text": "Plasma",
         "value": "plasma"
        },
        {
         "text": "Inferno",
         "value": "inferno"
        },
        {
         "text": "Magma",
         "value": "magma"
        },
        {
         "text": "Purple-Blue",
         "value": "PuBu"
        },
        {
         "text": "Yellow-Green-Blue",
         "value": "YlGnBu"
        },
        {
         "text": "Yellow-Orange-Red",
         "value": "YlOrRd"
        },
        {
         "text": "Red-Purple",
         "value": "RdPu"
        },
        {
         "text": "Blue-Green",
         "value": "BuGn"
        },
        {
         "text": "Hot",
         "value": "hot"
        },
        {
         "text": "Red-Blue",
         "value": "RdBu"
        },
        {
         "text": "Red-Yellow-Blue",
         "value": "RdYlBu"
        },
        {
         "text": "Purple-Orange",
         "value": "PuOr"
        },
        {
         "text": "Purple-Green",
         "value": "PRGn"
        },
        {
         "text": "Rainbow",
         "value": "rainbow"
        },
        {
         "text": "Seismic",
         "value": "seismic"
        },
        {
         "text": "Reversed: Gray",
         "value": "gray_r"
        },
        {
         "text": "Reversed: Viridis",
         "value": "viridis_r"
        },
        {
         "text": "Reversed: Plasma",
         "value": "plasma_r"
        },
        {
         "text": "Reversed: Inferno",
         "value": "inferno_r"
        },
        {
         "text": "Reversed: Magma",
         "value": "magma_r"
        },
        {
         "text": "Reversed: Hot",
         "value": "hot_r"
        },
        {
         "text": "Reversed: Rainbow",
         "value": "rainbow_r"
        }
       ],
       "components": null,
       "css": null,
       "data": null,
       "events": [
        "set_colormap"
       ],
       "glue_state": {
        "alpha": 0.23,
        "attribute": "611cfa3b-ebb5-42d2-b5c7-ba9bce8b51a4",
        "bias": 0.67,
        "bitmap_visible": true,
        "c_max": 306.1833190917969,
        "c_min": 0.0,
        "cmap": "gray",
        "color": "#afff6b",
        "contour_colors": [
         "red",
         "orange",
         "yellow",
         "green",
         "blue"
        ],
        "contour_percentile": 100,
        "contour_visible": false,
        "contrast": 3.13,
        "global_sync": false,
        "labels": [
         "51.03",
         "102.1",
         "153.1",
         "204.1",
         "255.2"
        ],
        "layer": "611cfa3b-ebb5-42d2-b5c7-ba9bce8b51a4",
        "level_mode": "Linear",
        "levels": [
         51.03055318196615,
         102.0611063639323,
         153.09165954589844,
         204.1222127278646,
         255.15276590983075
        ],
        "n_levels": 5,
        "percentile": "Custom",
        "stretch": "linear",
        "v_max": 27.0,
        "v_min": 4.0,
        "visible": true,
        "zorder": 4
       },
       "has_contour": true,
       "layout": "IPY_MODEL_00afa51be8b143c9aaac06000cfb578d",
       "methods": null,
       "percentile_items": [
        {
         "text": "Min/Max",
         "value": 0
        },
        {
         "text": "99.5%",
         "value": 1
        },
        {
         "text": "99%",
         "value": 2
        },
        {
         "text": "95%",
         "value": 3
        },
        {
         "text": "90%",
         "value": 4
        },
        {
         "text": "Custom",
         "value": 5
        }
       ],
       "percentile_selected": 5,
       "stretch_items": [
        {
         "text": "Linear",
         "value": 0
        },
        {
         "text": "Square Root",
         "value": 1
        },
        {
         "text": "Arcsinh",
         "value": 2
        },
        {
         "text": "Logarithmic",
         "value": 3
        }
       ],
       "stretch_selected": 0,
       "tabbable": null,
       "template": "IPY_MODEL_c96086e872174c0da0a6b7ea39154936",
       "tooltip": null
      }
     },
     "fbc1130e3fc54a82b21bc0f8b89ed2b0": {
      "buffers": [
       {
        "data": "AAAAAAAAJkAAAAAAAAAmQA==",
        "encoding": "base64",
        "path": [
         "x",
         "value"
        ]
       },
       {
        "data": "AAAAAAEAAAA=",
        "encoding": "base64",
        "path": [
         "y",
         "value"
        ]
       }
      ],
      "model_module": "bqplot",
      "model_module_version": "^0.5",
      "model_name": "LinesModel",
      "state": {
       "_model_module": "bqplot",
       "_model_module_version": "^0.5",
       "_model_name": "LinesModel",
       "_view_count": null,
       "_view_module": "bqplot",
       "_view_module_version": "^0.5",
       "_view_name": "Lines",
       "apply_clip": true,
       "close_path": false,
       "color": null,
       "colors": [
        "#c75d2c"
       ],
       "curves_subset": [],
       "display_legend": false,
       "enable_hover": true,
       "fill": "none",
       "fill_colors": [],
       "fill_opacities": [],
       "interactions": {
        "hover": "tooltip"
       },
       "interpolation": "linear",
       "labels": [],
       "labels_visibility": "none",
       "line_style": "solid",
       "marker": null,
       "marker_size": 64,
       "opacities": [],
       "preserve_domain": {},
       "scales": {
        "x": "IPY_MODEL_ef41d310941a45ab812b8c905cd25c05",
        "y": "IPY_MODEL_3b7e7fb2d67c474798ce90c31553fc5e"
       },
       "scales_metadata": {
        "color": {
         "dimension": "color"
        },
        "x": {
         "dimension": "x",
         "orientation": "horizontal"
        },
        "y": {
         "dimension": "y",
         "orientation": "vertical"
        }
       },
       "selected": null,
       "selected_style": {},
       "stroke_width": 2.0,
       "tooltip": null,
       "tooltip_location": "mouse",
       "tooltip_style": {
        "opacity": 0.9
       },
       "unselected_style": {},
       "visible": true,
       "x": {
        "dtype": "float64",
        "shape": [
         2
        ],
        "type": null
       },
       "y": {
        "dtype": "int32",
        "shape": [
         2
        ],
        "type": null
       }
      }
     },
     "fc4656f7febc42b0927b1d5df31ac5a1": {
      "model_module": "jupyter-vuetify",
      "model_module_version": "^1.8.10",
      "model_name": "VuetifyTemplateModel",
      "state": {
       "_component_instances": [],
       "_dom_classes": [],
       "_jupyter_vue": "IPY_MODEL_28c992a30e9e48598df49b24e8922228",
       "_model_module": "jupyter-vuetify",
       "_model_module_version": "^1.8.10",
       "_model_name": "VuetifyTemplateModel",
       "_view_count": null,
       "_view_module": "jupyter-vuetify",
       "_view_module_version": "^1.8.10",
       "_view_name": "VuetifyView",
       "components": null,
       "css": null,
       "data": null,
       "events": [
        "clear_table",
        "popout"
       ],
       "headers_avail": [
        "pixel",
        "pixel:unreliable",
        "world",
        "world:unreliable",
        "value",
        "value:unit",
        "value:unreliable",
        "viewer",
        "data_label"
       ],
       "headers_visible": [
        "pixel",
        "pixel:unreliable",
        "world",
        "world:unreliable",
        "value",
        "value:unit",
        "value:unreliable",
        "viewer",
        "data_label"
       ],
       "items": [],
       "layout": "IPY_MODEL_357758cf8f6f4984a3b9e2b8d6ce1dad",
       "methods": null,
       "popout_button": "IPY_MODEL_f535aa1d70ba4ed180c34310bba5cf5e",
       "tabbable": null,
       "template": "IPY_MODEL_fd4b9702a1d040f6ad95a93ab0d07d8f",
       "tooltip": null
      }
     },
     "fc96685ebeb94fc588e5f929c3b27ea8": {
      "model_module": "@jupyter-widgets/controls",
      "model_module_version": "2.0.0",
      "model_name": "DescriptionStyleModel",
      "state": {
       "_model_module": "@jupyter-widgets/controls",
       "_model_module_version": "2.0.0",
       "_model_name": "DescriptionStyleModel",
       "_view_count": null,
       "_view_module": "@jupyter-widgets/base",
       "_view_module_version": "2.0.0",
       "_view_name": "StyleView",
       "description_width": ""
      }
     },
     "fd04e63683d648989fcd42c52281a95e": {
      "model_module": "jupyter-vue",
      "model_module_version": "^1.10.1",
      "model_name": "VueComponentModel",
      "state": {
       "_dom_classes": [],
       "_model_module": "jupyter-vue",
       "_model_module_version": "^1.10.1",
       "_model_name": "VueComponentModel",
       "_view_count": null,
       "_view_module": null,
       "_view_module_version": "",
       "_view_name": null,
       "component": "<template>\n  <v-toolbar-items :class=\"{active: activeInterval}\">\n    <j-tooltip tipid='table-play-pause-toggle'>\n      <v-btn icon @click=\"togglePlayPause\" color=\"white\">\n        <v-icon>mdi-play-pause</v-icon>\n      </v-btn>\n    </j-tooltip>\n    <j-tooltip tipid='table-play-pause-delay'>\n      <v-text-field\n        v-model=\"delaySeconds\"\n        type=\"number\"\n        min=\"1\"\n        max=\"60\"\n        @change=\"changeDelay\"\n        @mousedown=\"changeDelay\"\n        class=\"mt-0 pt-0 theme--dark\"\n        style=\"width: 60px\"\n        hide-details\n        single-line\n        filled\n        dense\n      />\n    </j-tooltip>\n  </v-toolbar-items>\n</template>\n\n<script>\n\n//var activeInterval = null;\n\nmodule.exports = {\n  data: function () {\n    return {\n      activeInterval: null,\n      delaySeconds: 2\n    }\n  },\n  props: [],\n  methods: {\n    eachIteration() {\n      this.$emit('event')\n    },\n    clearActiveInterval() {\n      if (this.activeInterval) {\n        clearInterval(this.activeInterval)\n      }\n      this.activeInterval = null\n    },\n    createNewInterval() {\n      this.activeInterval = setInterval(() => this.eachIteration(), this.delaySeconds*1000)\n    },\n    changeDelay(event) {\n      if (this.delaySeconds <= 0) {\n        // reject zero and negative values\n        this.delaySeconds = 1\n      }\n      if (this.activeInterval !== null) {\n        // then we want to clear the current interval and immediately create a new one,\n        // while leaving it in the play state\n        this.clearActiveInterval()\n        this.createNewInterval()     \n      }\n    },\n    togglePlayPause() {\n      if (this.activeInterval === null) {\n        // make sure to call IMMEDIATELY for feedback that something is happening\n        this.eachIteration()\n        this.createNewInterval()\n      } else {\n        this.clearActiveInterval()\n      }\n\n    },\n  }\n};\n</script>\n",
       "layout": "IPY_MODEL_f5f7d31d0ce2452a8e81f4d63572494e",
       "name": "j-play-pause-widget",
       "tabbable": null,
       "tooltip": null
      }
     },
     "fd2d50ec51a744b293b339b809fda753": {
      "model_module": "@jupyter-widgets/controls",
      "model_module_version": "2.0.0",
      "model_name": "DescriptionStyleModel",
      "state": {
       "_model_module": "@jupyter-widgets/controls",
       "_model_module_version": "2.0.0",
       "_model_name": "DescriptionStyleModel",
       "_view_count": null,
       "_view_module": "@jupyter-widgets/base",
       "_view_module_version": "2.0.0",
       "_view_name": "StyleView",
       "description_width": ""
      }
     },
     "fd4b9702a1d040f6ad95a93ab0d07d8f": {
      "model_module": "jupyter-vue",
      "model_module_version": "^1.10.1",
      "model_name": "TemplateModel",
      "state": {
       "_model_module": "jupyter-vue",
       "_model_module_version": "^1.10.1",
       "_model_name": "TemplateModel",
       "_view_count": null,
       "_view_module": null,
       "_view_module_version": "",
       "_view_name": null,
       "template": "<template>\n  <div class=\"plugin-table-component\">\n    <v-row style=\"margin: 0px 0px -8px 0px !important\">\n      <div class=\"row-select\">\n        <v-select\n          class=\"no-hint\"\n          v-model=\"headers_visible\"\n          :items=\"headers_avail\"\n          @change=\"$emit('update:headers_visible', $event)\"\n          label=\"Columns\"\n          multiple\n        >\n        <template v-slot:selection=\"{ item, index }\">\n          <span\n            v-if=\"index === 0\"\n            class=\"grey--text text-caption\"\n          >\n            ({{ headers_visible.length}} selected)\n          </span>\n        </template>\n        <template v-slot:prepend-item>\n          <v-list-item\n            ripple\n            @mousedown.prevent\n            @click=\"() => {if (headers_visible.length < headers_avail.length) { headers_visible = headers_avail} else {headers_visible = []}}\"\n          >\n            <v-list-item-action>\n              <v-icon>\n                {{ headers_visible.length == headers_avail.length ? 'mdi-close-box' : headers_visible.length ? 'mdi-minus-box' : 'mdi-checkbox-blank-outline' }}\n              </v-icon>\n            </v-list-item-action>\n            <v-list-item-content>\n              <v-list-item-title>\n                {{ headers_visible.length < headers_avail.length ? \"Select All\" : \"Clear All\" }}\n              </v-list-item-title>\n            </v-list-item-content>\n          </v-list-item>\n          <v-divider class=\"mt-2\"></v-divider>\n        </template>\n        </v-select>\n      </div>\n      <div style=\"line-height: 64px; width=32px\" class=\"only-show-in-tray\">\n        <j-plugin-popout :popout_button=\"popout_button\"></j-plugin-popout>\n      </div>\n    </v-row>\n\n    <v-row style=\"margin: 0px 0px 8px 0px !important\">\n      <v-data-table\n        dense\n        :headers=\"headers_visible_sorted.map(item => {return {'text': item, 'value': item}})\"\n        :items=\"items\"\n        class=\"elevation-1 width-100\"\n      ></v-data-table>\n    </v-row>\n\n    <v-row v-if=\"clear_table\" justify=\"end\">\n      <v-btn\n        color=\"primary\"\n        text\n        @click=\"clear_table\"\n        >Clear Table\n      </v-btn>\n    </v-row>\n  </div>\n</template>\n\n<script>\nmodule.exports = {\n  computed: {\n    headers_visible_sorted() {\n      return this.headers_avail.filter(item => this.headers_visible.indexOf(item) !== -1);\n    },\n  }\n};\n</script>\n\n\n<style scoped>\n  .v-data-table {\n    width: 100% !important\n  }\n\n  .only-show-in-tray {\n    display: none;\n  }\n  .tray-plugin .only-show-in-tray {\n    display: inline-block;\n  }\n\n  .row-select {\n    width: 100%;\n  }\n  .tray-plugin .row-select {\n    width: calc(100% - 40px)\n  }\n\n  .plugin-table-component {\n    margin: 12px;\n  }\n  .tray-plugin .plugin-table-component {\n    margin: 0px -12px 0px -12px;\n  }\n\n</style>\n"
      }
     },
     "fd5041a537ca411abf920bdeb22704ee": {
      "model_module": "jupyter-vuetify",
      "model_module_version": "^1.8.5",
      "model_name": "ListItemModel",
      "state": {
       "_dom_classes": [],
       "_events": [
        "click"
       ],
       "_jupyter_vue": "IPY_MODEL_28c992a30e9e48598df49b24e8922228",
       "_metadata": null,
       "_model_module": "jupyter-vuetify",
       "_model_module_version": "^1.8.5",
       "_model_name": "ListItemModel",
       "_view_count": null,
       "_view_module": "jupyter-vuetify",
       "_view_module_version": "^1.8.5",
       "_view_name": "VuetifyView",
       "active_class": null,
       "append": null,
       "attributes": {},
       "children": [
        "IPY_MODEL_1e6aff883596412e8ca76f4af4fc0085",
        "IPY_MODEL_47f648e1c83f4b838da3f227d0e478c5"
       ],
       "class_": null,
       "color": null,
       "dark": null,
       "dense": null,
       "disabled": null,
       "exact": null,
       "exact_active_class": null,
       "href": null,
       "inactive": null,
       "input_value": null,
       "layout": null,
       "light": null,
       "link": null,
       "nuxt": null,
       "replace": null,
       "ripple": null,
       "selectable": null,
       "slot": null,
       "style_": null,
       "tabbable": null,
       "tag": null,
       "target": null,
       "three_line": null,
       "to": null,
       "tooltip": null,
       "two_line": null,
       "v_model": "!!disabled!!",
       "v_on": null,
       "v_slots": [],
       "value": null
      }
     },
     "fdb3c3aae3664e778cd03a365d6fb0d8": {
      "model_module": "@jupyter-widgets/base",
      "model_module_version": "2.0.0",
      "model_name": "LayoutModel",
      "state": {
       "_model_module": "@jupyter-widgets/base",
       "_model_module_version": "2.0.0",
       "_model_name": "LayoutModel",
       "_view_count": null,
       "_view_module": "@jupyter-widgets/base",
       "_view_module_version": "2.0.0",
       "_view_name": "LayoutView",
       "align_content": null,
       "align_items": null,
       "align_self": null,
       "border_bottom": null,
       "border_left": null,
       "border_right": null,
       "border_top": null,
       "bottom": null,
       "display": null,
       "flex": null,
       "flex_flow": null,
       "grid_area": null,
       "grid_auto_columns": null,
       "grid_auto_flow": null,
       "grid_auto_rows": null,
       "grid_column": null,
       "grid_gap": null,
       "grid_row": null,
       "grid_template_areas": null,
       "grid_template_columns": null,
       "grid_template_rows": null,
       "height": null,
       "justify_content": null,
       "justify_items": null,
       "left": null,
       "margin": null,
       "max_height": null,
       "max_width": null,
       "min_height": null,
       "min_width": null,
       "object_fit": null,
       "object_position": null,
       "order": null,
       "overflow": null,
       "padding": null,
       "right": null,
       "top": null,
       "visibility": null,
       "width": null
      }
     },
     "ffbaa2a4b82b49fcb1ff9f1ded2d2365": {
      "model_module": "jupyter-vuetify",
      "model_module_version": "^1.8.5",
      "model_name": "ListItemModel",
      "state": {
       "_dom_classes": [],
       "_events": [
        "click"
       ],
       "_jupyter_vue": "IPY_MODEL_28c992a30e9e48598df49b24e8922228",
       "_metadata": null,
       "_model_module": "jupyter-vuetify",
       "_model_module_version": "^1.8.5",
       "_model_name": "ListItemModel",
       "_view_count": null,
       "_view_module": "jupyter-vuetify",
       "_view_module_version": "^1.8.5",
       "_view_name": "VuetifyView",
       "active_class": null,
       "append": null,
       "attributes": {},
       "children": [
        "IPY_MODEL_7e4ed7d372f24a168a41101380ce126c",
        "IPY_MODEL_1e79009775234791af497f5defd73275"
       ],
       "class_": null,
       "color": null,
       "dark": null,
       "dense": null,
       "disabled": null,
       "exact": null,
       "exact_active_class": null,
       "href": null,
       "inactive": null,
       "input_value": null,
       "layout": null,
       "light": null,
       "link": null,
       "nuxt": null,
       "replace": null,
       "ripple": null,
       "selectable": null,
       "slot": null,
       "style_": null,
       "tabbable": null,
       "tag": null,
       "target": null,
       "three_line": null,
       "to": null,
       "tooltip": null,
       "two_line": null,
       "v_model": "!!disabled!!",
       "v_on": null,
       "v_slots": [],
       "value": null
      }
     },
     "ffefe336943f4102be7c1a044aab9563": {
      "model_module": "@jupyter-widgets/base",
      "model_module_version": "2.0.0",
      "model_name": "LayoutModel",
      "state": {
       "_model_module": "@jupyter-widgets/base",
       "_model_module_version": "2.0.0",
       "_model_name": "LayoutModel",
       "_view_count": null,
       "_view_module": "@jupyter-widgets/base",
       "_view_module_version": "2.0.0",
       "_view_name": "LayoutView",
       "align_content": null,
       "align_items": null,
       "align_self": null,
       "border_bottom": null,
       "border_left": null,
       "border_right": null,
       "border_top": null,
       "bottom": null,
       "display": null,
       "flex": null,
       "flex_flow": null,
       "grid_area": null,
       "grid_auto_columns": null,
       "grid_auto_flow": null,
       "grid_auto_rows": null,
       "grid_column": null,
       "grid_gap": null,
       "grid_row": null,
       "grid_template_areas": null,
       "grid_template_columns": null,
       "grid_template_rows": null,
       "height": null,
       "justify_content": null,
       "justify_items": null,
       "left": null,
       "margin": null,
       "max_height": null,
       "max_width": null,
       "min_height": null,
       "min_width": null,
       "object_fit": null,
       "object_position": null,
       "order": null,
       "overflow": null,
       "padding": null,
       "right": null,
       "top": null,
       "visibility": null,
       "width": null
      }
     }
    },
    "version_major": 2,
    "version_minor": 0
   }
  }
 },
 "nbformat": 4,
 "nbformat_minor": 5
}
