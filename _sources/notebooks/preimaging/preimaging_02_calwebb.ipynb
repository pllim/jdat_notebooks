{
 "cells": [
  {
   "cell_type": "markdown",
   "metadata": {},
   "source": [
    "# NIRCam Preimaging: Pipeline Stages 1, 2\n",
    "\n",
    "**Use case:** Running JWST Pipeline on NIRCam Preimaging Simulations.<br>\n",
    "**Data:** JWST simulated NIRCam data from MIRAGE; LMC.<br>\n",
    "**Tools:**  jwst.<br>\n",
    "**Cross-intrument:** NIRCam. <br>\n",
    "**Documentation:** This notebook is part of a STScI's larger [post-pipeline Data Analysis Tools Ecosystem](https://jwst-docs.stsci.edu/jwst-post-pipeline-data-analysis).<br>\n",
    "\n",
    "## Introduction\n",
    "\n",
    "This Notebook must be executed from an environment that has the JWST pipeline installed. In this tutorial we show step by step instructions on how to run the JWST pipeline on the simulated images created using the previous notebook.\n",
    "\n",
    "This notebook executes the first two steps of the NIRCam pipeline on the images that were created with the simulator MIRAGE in `preimaging_01_mirage`. The example shows how to execute the pipeline on the F150W images only. "
   ]
  },
  {
   "cell_type": "markdown",
   "metadata": {},
   "source": [
    "## Setting things up"
   ]
  },
  {
   "cell_type": "code",
   "execution_count": 1,
   "metadata": {
    "execution": {
     "iopub.execute_input": "2023-09-20T19:05:12.122538Z",
     "iopub.status.busy": "2023-09-20T19:05:12.122128Z",
     "iopub.status.idle": "2023-09-20T19:05:12.130304Z",
     "shell.execute_reply": "2023-09-20T19:05:12.129786Z"
    }
   },
   "outputs": [],
   "source": [
    "import os\n",
    "\n",
    "#os.environ['CRDS_PATH'] = os.environ['HOME']+'/crds_cache'\n",
    "os.environ['CRDS_PATH'] = '/ifs/jwst/wit/miri/ofox/preimaging/cache'\n",
    "\n",
    "os.environ['CRDS_SERVER_URL'] = 'https://jwst-crds-pub.stsci.edu'"
   ]
  },
  {
   "cell_type": "code",
   "execution_count": 2,
   "metadata": {
    "execution": {
     "iopub.execute_input": "2023-09-20T19:05:12.133087Z",
     "iopub.status.busy": "2023-09-20T19:05:12.132608Z",
     "iopub.status.idle": "2023-09-20T19:05:15.655025Z",
     "shell.execute_reply": "2023-09-20T19:05:15.653750Z"
    }
   },
   "outputs": [],
   "source": [
    "from sys import exit\n",
    "import json\n",
    "from glob import glob\n",
    "\n",
    "import numpy as np\n",
    "\n",
    "from jwst.pipeline import Detector1Pipeline\n",
    "from jwst.pipeline import Image2Pipeline\n",
    "from jwst.pipeline import calwebb_image2\n",
    "\n",
    "from astropy.table import Table\n",
    "from astropy.io import fits\n",
    "\n"
   ]
  },
  {
   "cell_type": "raw",
   "metadata": {},
   "source": [
    "We begin by defining the working directory"
   ]
  },
  {
   "cell_type": "code",
   "execution_count": 3,
   "metadata": {
    "execution": {
     "iopub.execute_input": "2023-09-20T19:05:15.659622Z",
     "iopub.status.busy": "2023-09-20T19:05:15.658173Z",
     "iopub.status.idle": "2023-09-20T19:05:15.667404Z",
     "shell.execute_reply": "2023-09-20T19:05:15.666913Z"
    }
   },
   "outputs": [
    {
     "name": "stdout",
     "output_type": "stream",
     "text": [
      "/home/runner/work/jdat_notebooks/jdat_notebooks/notebooks/preimaging\n"
     ]
    }
   ],
   "source": [
    "path='./.' # this is the working directory\n",
    "os.chdir(path)\n",
    "print(os.getcwd())"
   ]
  },
  {
   "cell_type": "raw",
   "metadata": {},
   "source": [
    "Additional data to be included"
   ]
  },
  {
   "cell_type": "code",
   "execution_count": 4,
   "metadata": {
    "execution": {
     "iopub.execute_input": "2023-09-20T19:05:15.705093Z",
     "iopub.status.busy": "2023-09-20T19:05:15.704470Z",
     "iopub.status.idle": "2023-09-20T19:05:15.708708Z",
     "shell.execute_reply": "2023-09-20T19:05:15.708132Z"
    }
   },
   "outputs": [],
   "source": [
    "filtname = 'f150w'"
   ]
  },
  {
   "cell_type": "markdown",
   "metadata": {},
   "source": [
    "\n"
   ]
  },
  {
   "cell_type": "code",
   "execution_count": 5,
   "metadata": {
    "execution": {
     "iopub.execute_input": "2023-09-20T19:05:15.711562Z",
     "iopub.status.busy": "2023-09-20T19:05:15.711171Z",
     "iopub.status.idle": "2023-09-20T19:05:15.715099Z",
     "shell.execute_reply": "2023-09-20T19:05:15.714570Z"
    }
   },
   "outputs": [],
   "source": [
    "# gather the F150W yaml files back in the working directory\n",
    "cwd = os.getcwd()\n",
    "filter_pattern = os.path.join(cwd, 'yaml', filtname.lower(), 'jw01069001001*0004*yaml') \n",
    "files = glob(filter_pattern)[:]\n",
    "inputyaml = files\n",
    "namelist = []\n",
    "outlist = []"
   ]
  },
  {
   "cell_type": "markdown",
   "metadata": {},
   "source": [
    "We define the calwebb_detector1 configuration file to use in the pipeline call."
   ]
  },
  {
   "cell_type": "code",
   "execution_count": 6,
   "metadata": {
    "execution": {
     "iopub.execute_input": "2023-09-20T19:05:15.717696Z",
     "iopub.status.busy": "2023-09-20T19:05:15.717230Z",
     "iopub.status.idle": "2023-09-20T19:05:15.721029Z",
     "shell.execute_reply": "2023-09-20T19:05:15.720526Z"
    }
   },
   "outputs": [],
   "source": [
    "calwebb_detector1_file = os.path.join('preimaging', 'calwebb_detector1.cfg')"
   ]
  },
  {
   "cell_type": "markdown",
   "metadata": {},
   "source": [
    "## Executing calwebb_detector1"
   ]
  },
  {
   "cell_type": "markdown",
   "metadata": {},
   "source": [
    "We select the *_uncal.fits files and execute calwebb_detector1 to generate the *_rate.fits files."
   ]
  },
  {
   "cell_type": "code",
   "execution_count": 7,
   "metadata": {
    "execution": {
     "iopub.execute_input": "2023-09-20T19:05:15.723517Z",
     "iopub.status.busy": "2023-09-20T19:05:15.723164Z",
     "iopub.status.idle": "2023-09-20T19:05:15.727851Z",
     "shell.execute_reply": "2023-09-20T19:05:15.727422Z"
    }
   },
   "outputs": [
    {
     "name": "stdout",
     "output_type": "stream",
     "text": [
      "[]\n",
      "[]\n"
     ]
    }
   ],
   "source": [
    "for input_yaml_path in inputyaml:\n",
    "    print(input_yaml_path) \n",
    "    \n",
    "    base = os.path.basename(input_yaml_path)\n",
    "    name = os.path.splitext(base)[0]\n",
    "\n",
    "    exi = os.path.exists(name + '_rate.fits')\n",
    "    if exi:\n",
    "        continue\n",
    "        \n",
    "    namelist.append(name + '_uncal.fits')\n",
    "    outlist.append(name + '.fits')\n",
    "    \n",
    "print(namelist)\n",
    "print(outlist)\n",
    "\n",
    "files  = namelist \n",
    "outfile = outlist \n",
    "\n",
    "\n",
    "for k, filename in enumerate(files):\n",
    "    Detector1Pipeline.call(filename, output_file=outfile[k]);\n"
   ]
  },
  {
   "cell_type": "markdown",
   "metadata": {},
   "source": [
    "## Executing calwebb_image2"
   ]
  },
  {
   "cell_type": "code",
   "execution_count": 8,
   "metadata": {
    "execution": {
     "iopub.execute_input": "2023-09-20T19:05:15.730323Z",
     "iopub.status.busy": "2023-09-20T19:05:15.729864Z",
     "iopub.status.idle": "2023-09-20T19:05:15.734338Z",
     "shell.execute_reply": "2023-09-20T19:05:15.733852Z"
    }
   },
   "outputs": [],
   "source": [
    "# gather the F150W yaml files back in the working directory\n",
    "cwd = os.getcwd()\n",
    "filter_pattern = os.path.join(cwd, 'yaml', filtname.lower(), 'jw01069001001*0004*') \n",
    "files = glob(filter_pattern)[:] # Use [0:2] to test the first two files.\n",
    "inputyaml = files\n",
    "namelist = []\n",
    "outlist = []"
   ]
  },
  {
   "cell_type": "markdown",
   "metadata": {},
   "source": [
    "We select the *_rate.fits files and execute calwebb_image2 to generate the *_cal.fits files."
   ]
  },
  {
   "cell_type": "code",
   "execution_count": 9,
   "metadata": {
    "execution": {
     "iopub.execute_input": "2023-09-20T19:05:15.736690Z",
     "iopub.status.busy": "2023-09-20T19:05:15.736259Z",
     "iopub.status.idle": "2023-09-20T19:05:15.740260Z",
     "shell.execute_reply": "2023-09-20T19:05:15.739841Z"
    }
   },
   "outputs": [
    {
     "name": "stdout",
     "output_type": "stream",
     "text": [
      "[]\n"
     ]
    }
   ],
   "source": [
    "for input_yaml_path in inputyaml:\n",
    "    print(input_yaml_path)\n",
    "    base = os.path.basename(input_yaml_path)\n",
    "    name = os.path.splitext(base)[0]\n",
    "   \n",
    "    exi = os.path.exists(name + '_cal.fits')\n",
    "    if exi:\n",
    "        continue\n",
    "\n",
    "    namelist.append(name + '_rate.fits')\n",
    "    outlist.append(name + '.fits')\n",
    "        \n",
    "print(namelist)\n",
    "    \n",
    "files = namelist \n",
    "outfile = outlist "
   ]
  },
  {
   "cell_type": "markdown",
   "metadata": {},
   "source": [
    "Generate the _cal.fits files."
   ]
  },
  {
   "cell_type": "code",
   "execution_count": 10,
   "metadata": {
    "execution": {
     "iopub.execute_input": "2023-09-20T19:05:15.742755Z",
     "iopub.status.busy": "2023-09-20T19:05:15.742319Z",
     "iopub.status.idle": "2023-09-20T19:05:15.745849Z",
     "shell.execute_reply": "2023-09-20T19:05:15.745328Z"
    }
   },
   "outputs": [],
   "source": [
    "for k, filename in enumerate(files):\n",
    "    print('-'*60)\n",
    "    print(filename)\n",
    "\n",
    "    m  =  calwebb_image2.Image2Pipeline(output_file=outfile[k])\n",
    "    m.run(filename)\n",
    "   "
   ]
  },
  {
   "cell_type": "code",
   "execution_count": null,
   "metadata": {},
   "outputs": [],
   "source": []
  }
 ],
 "metadata": {
  "anaconda-cloud": {},
  "kernelspec": {
   "display_name": "Python 3 (ipykernel)",
   "language": "python",
   "name": "python3"
  },
  "language_info": {
   "codemirror_mode": {
    "name": "ipython",
    "version": 3
   },
   "file_extension": ".py",
   "mimetype": "text/x-python",
   "name": "python",
   "nbconvert_exporter": "python",
   "pygments_lexer": "ipython3",
   "version": "3.11.5"
  }
 },
 "nbformat": 4,
 "nbformat_minor": 4
}
