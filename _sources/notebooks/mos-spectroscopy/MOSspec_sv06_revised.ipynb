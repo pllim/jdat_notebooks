{
 "cells": [
  {
   "cell_type": "markdown",
   "metadata": {},
   "source": [
    "# MOS Spectroscopy of Extragalactic Field\n",
    "\n",
    "**Use case:** emission-line measurements and template matching on 1D spectra.<br>\n",
    "**Data:** [LEGA-C](https://www2.mpia-hd.mpg.de/home/legac/) spectra and galaxy template spectra; optical rest-frame.<br>\n",
    "**Tools:**  specutils, astropy, matplotlib, pandas.<br>\n",
    "**Cross-intrument:** NIRSpec <br>\n",
    "**Documentation:** This notebook is part of a STScI's larger [post-pipeline Data Analysis Tools Ecosystem](https://jwst-docs.stsci.edu/jwst-post-pipeline-data-analysis).<br>\n",
    "\n",
    "## Introduction\n",
    "\n",
    " This notebook will perform a seris of spectroscopic analyses on multiple spectra, including smoothing, continuum fitting and subtraction, line identification, centroiding and flux measurements, gaussian fitting, equivalent widths, and template fitting.\n",
    "\n",
    "\n",
    "**Note:** This notebook is intended to ultimately be compatible with the final data products (1D and 2D spectra) from the JWST pipeline. These data products are not available yet, so the notebook uses LEGA-C data (van der Wel et al. 2016, Straatmann et al. 2018) for now.\n",
    "\n",
    " LEGA-C is a galaxy survey of about 3000 galaxies at z~0.8 and M* > 10^10 M_sun in the COSMOS field. The spectra sample the rest-frame optical between ~3000A and 5000A at high resolution and very high signal-to-noise ratio. More information about the survey can be found here: http://www.mpia.de/home/legac/"
   ]
  },
  {
   "cell_type": "markdown",
   "id": "02f535a3",
   "metadata": {},
   "source": [
    "<font color=\"red\">This notebook currently fails to execute, use as reference only</font>"
   ]
  },
  {
   "cell_type": "markdown",
   "metadata": {},
   "source": [
    "First, set the environment with astroconda and specutils.\n",
    "\n",
    "`conda create -n astroutils stsci`\n",
    "\n",
    "`source activate astroutils`"
   ]
  },
  {
   "cell_type": "markdown",
   "metadata": {},
   "source": [
    "## Imports"
   ]
  },
  {
   "cell_type": "code",
   "execution_count": null,
   "metadata": {
    "execution": {
     "iopub.execute_input": "2023-10-04T21:08:21.273041Z",
     "iopub.status.busy": "2023-10-04T21:08:21.272691Z",
     "iopub.status.idle": "2023-10-04T21:08:26.513519Z",
     "shell.execute_reply": "2023-10-04T21:08:26.512501Z"
    }
   },
   "outputs": [],
   "source": [
    "#general os\n",
    "import os\n",
    "import zipfile\n",
    "import urllib.request\n",
    "\n",
    "#general plotting\n",
    "from matplotlib import pyplot as plt\n",
    "\n",
    "params={'legend.fontsize':'18','axes.labelsize':'18',\n",
    "        'axes.titlesize':'18','xtick.labelsize':'18',\n",
    "        'ytick.labelsize':'18','lines.linewidth':2,'axes.linewidth':2,'animation.html': 'html5'}\n",
    "plt.rcParams.update(params)\n",
    "plt.rcParams.update({'figure.max_open_warning': 0})\n",
    "\n",
    "#table/math handling\n",
    "import pandas as pd\n",
    "import numpy as np\n",
    "np.seterr(all='ignore')  # hides irrelevant warnings about divide-by-zero, etc\n",
    "\n",
    "#astropy\n",
    "import astropy\n",
    "import astropy.units as u\n",
    "from astropy.table import QTable\n",
    "from astropy.io import fits,ascii\n",
    "from astropy.nddata import StdDevUncertainty\n",
    "from astropy.modeling import models\n",
    "from astropy.visualization import quantity_support\n",
    "from astropy import constants as const\n",
    "\n",
    "#specutils\n",
    "import specutils\n",
    "from specutils import Spectrum1D, SpectralRegion\n",
    "from specutils.manipulation import gaussian_smooth\n",
    "from specutils.fitting import fit_generic_continuum\n",
    "from specutils.fitting import find_lines_derivative\n",
    "from specutils.fitting import find_lines_threshold\n",
    "from specutils.fitting import fit_lines\n",
    "from specutils.manipulation import noise_region_uncertainty\n",
    "from specutils.analysis import centroid\n",
    "from specutils.analysis import line_flux\n",
    "from specutils.analysis import equivalent_width\n",
    "from specutils.analysis import template_comparison\n",
    "\n",
    "quantity_support();  # auto-recognizes units on matplotlib plots"
   ]
  },
  {
   "cell_type": "markdown",
   "metadata": {},
   "source": [
    "## Check versions. Should be:\n",
    "\n",
    "Pandas:  1.0.1\n",
    "\n",
    "Numpy:  1.18.1\n",
    "\n",
    "Astropy:  4.0\n",
    "\n",
    "Specutils:  0.7"
   ]
  },
  {
   "cell_type": "code",
   "execution_count": null,
   "metadata": {
    "execution": {
     "iopub.execute_input": "2023-10-04T21:08:26.517424Z",
     "iopub.status.busy": "2023-10-04T21:08:26.517047Z",
     "iopub.status.idle": "2023-10-04T21:08:26.526789Z",
     "shell.execute_reply": "2023-10-04T21:08:26.525893Z"
    }
   },
   "outputs": [],
   "source": [
    "print(\"Pandas: \",pd.__version__)\n",
    "print(\"Numpy: \",np.__version__)\n",
    "print(\"Astropy: \",astropy.__version__)\n",
    "print(\"Specutils: \",specutils.__version__)"
   ]
  },
  {
   "cell_type": "markdown",
   "metadata": {},
   "source": [
    "## Set path to data and download from box link"
   ]
  },
  {
   "cell_type": "code",
   "execution_count": null,
   "metadata": {
    "execution": {
     "iopub.execute_input": "2023-10-04T21:08:26.568593Z",
     "iopub.status.busy": "2023-10-04T21:08:26.568135Z",
     "iopub.status.idle": "2023-10-04T21:08:32.059000Z",
     "shell.execute_reply": "2023-10-04T21:08:32.058229Z"
    }
   },
   "outputs": [],
   "source": [
    "boxlink = 'https://data.science.stsci.edu/redirect/JWST/jwst-data_analysis_tools/mos_spectroscopy/mos_spectroscopy.zip'\n",
    "boxfile = './mos_spectroscopy.zip'\n",
    "urllib.request.urlretrieve(boxlink, boxfile)\n",
    "\n",
    "zf = zipfile.ZipFile(boxfile, 'r')\n",
    "zf.extractall()\n",
    "\n",
    "observedfiles = './mos_spectroscopy/observed/'"
   ]
  },
  {
   "cell_type": "markdown",
   "metadata": {},
   "source": [
    "## Choose one galaxy"
   ]
  },
  {
   "cell_type": "code",
   "execution_count": null,
   "metadata": {
    "execution": {
     "iopub.execute_input": "2023-10-04T21:08:32.062631Z",
     "iopub.status.busy": "2023-10-04T21:08:32.062397Z",
     "iopub.status.idle": "2023-10-04T21:08:32.067612Z",
     "shell.execute_reply": "2023-10-04T21:08:32.066436Z"
    }
   },
   "outputs": [],
   "source": [
    "file1d = observedfiles + 'legac_M1_v3.7_spec1d_130902.fits'\n",
    "file1dwht = observedfiles + 'legac_M1_v3.7_wht1d_130902.fits'\n",
    "file2d = observedfiles + 'legac_M1_v3.7_spec2d_130902.fits'"
   ]
  },
  {
   "cell_type": "markdown",
   "metadata": {},
   "source": [
    "## Inspect its 2D spectrum"
   ]
  },
  {
   "cell_type": "code",
   "execution_count": null,
   "metadata": {
    "execution": {
     "iopub.execute_input": "2023-10-04T21:08:32.070250Z",
     "iopub.status.busy": "2023-10-04T21:08:32.070046Z",
     "iopub.status.idle": "2023-10-04T21:08:32.080728Z",
     "shell.execute_reply": "2023-10-04T21:08:32.079932Z"
    }
   },
   "outputs": [],
   "source": [
    "hdu2d = fits.open(file2d)\n",
    "hdu2d.info()"
   ]
  },
  {
   "cell_type": "code",
   "execution_count": null,
   "metadata": {
    "execution": {
     "iopub.execute_input": "2023-10-04T21:08:32.084097Z",
     "iopub.status.busy": "2023-10-04T21:08:32.083854Z",
     "iopub.status.idle": "2023-10-04T21:08:32.104558Z",
     "shell.execute_reply": "2023-10-04T21:08:32.103804Z"
    }
   },
   "outputs": [],
   "source": [
    "hdu2d[0].header"
   ]
  },
  {
   "cell_type": "markdown",
   "metadata": {},
   "source": [
    "##### Developer note\n",
    "I would appreciate the interactive tools here to zoom and pan through the 2D spectrum. Hoovering to know the precise wavelength of a feature would also be very useful. With that, the interactive tool could show automatically the calibration in wavelength reading it from the header."
   ]
  },
  {
   "cell_type": "code",
   "execution_count": null,
   "metadata": {
    "execution": {
     "iopub.execute_input": "2023-10-04T21:08:32.107888Z",
     "iopub.status.busy": "2023-10-04T21:08:32.107396Z",
     "iopub.status.idle": "2023-10-04T21:08:32.388591Z",
     "shell.execute_reply": "2023-10-04T21:08:32.387912Z"
    }
   },
   "outputs": [],
   "source": [
    "plt.figure(figsize=[20,20])\n",
    "plt.imshow(hdu2d[0].data)\n",
    "plt.xlim(2000,3000) #spec is very big, plot just a bit"
   ]
  },
  {
   "cell_type": "markdown",
   "metadata": {},
   "source": [
    "## Now work with 1D spectrum\n",
    "## Calibrate (in wavelength), inspect, and write in Spectrum1D object"
   ]
  },
  {
   "cell_type": "code",
   "execution_count": null,
   "metadata": {
    "execution": {
     "iopub.execute_input": "2023-10-04T21:08:32.392644Z",
     "iopub.status.busy": "2023-10-04T21:08:32.392174Z",
     "iopub.status.idle": "2023-10-04T21:08:32.405894Z",
     "shell.execute_reply": "2023-10-04T21:08:32.405206Z"
    }
   },
   "outputs": [],
   "source": [
    "hdu1d = fits.open(file1d)\n",
    "hdu1dwht = fits.open(file1dwht)\n",
    "hdu1d.info()"
   ]
  },
  {
   "cell_type": "code",
   "execution_count": null,
   "metadata": {
    "execution": {
     "iopub.execute_input": "2023-10-04T21:08:32.408899Z",
     "iopub.status.busy": "2023-10-04T21:08:32.408455Z",
     "iopub.status.idle": "2023-10-04T21:08:32.424499Z",
     "shell.execute_reply": "2023-10-04T21:08:32.423675Z"
    }
   },
   "outputs": [],
   "source": [
    "hdu1d[0].header"
   ]
  },
  {
   "cell_type": "markdown",
   "metadata": {},
   "source": [
    "If i want to do it in Pandas."
   ]
  },
  {
   "cell_type": "code",
   "execution_count": null,
   "metadata": {
    "execution": {
     "iopub.execute_input": "2023-10-04T21:08:32.427687Z",
     "iopub.status.busy": "2023-10-04T21:08:32.427306Z",
     "iopub.status.idle": "2023-10-04T21:08:32.441922Z",
     "shell.execute_reply": "2023-10-04T21:08:32.441330Z"
    }
   },
   "outputs": [],
   "source": [
    "flux = hdu1d[0].data.byteswap().newbyteorder()\n",
    "wht = hdu1dwht[0].data.byteswap().newbyteorder()\n",
    "unc = 1./ np.sqrt(wht)\n",
    "wave = np.arange(flux.shape[0])*hdu1d[0].header['CD1_1'] + hdu1d[0].header['CRVAL1']\n",
    "\n",
    "##for certain functions, I need to cut the spectrum where the weight is 0.\n",
    "d = {'wavelength':wave, 'flux':flux, 'weight':wht, 'uncertainty':unc}\n",
    "dataspec = pd.DataFrame(data=d)\n",
    "\n",
    "##define subset where wht>0\n",
    "dataspec_sub = dataspec[dataspec['weight'] > 0.].reset_index(drop=True)\n",
    "dataspec_sub.head()"
   ]
  },
  {
   "cell_type": "markdown",
   "metadata": {},
   "source": [
    "If I want to do it in astropy Tables."
   ]
  },
  {
   "cell_type": "code",
   "execution_count": null,
   "metadata": {
    "execution": {
     "iopub.execute_input": "2023-10-04T21:08:32.445059Z",
     "iopub.status.busy": "2023-10-04T21:08:32.444593Z",
     "iopub.status.idle": "2023-10-04T21:08:32.457114Z",
     "shell.execute_reply": "2023-10-04T21:08:32.456400Z"
    }
   },
   "outputs": [],
   "source": [
    "flux = hdu1d[0].data\n",
    "wht = hdu1dwht[0].data\n",
    "unc = 1./ np.sqrt(wht)\n",
    "wave = np.arange(flux.shape[0])*hdu1d[0].header['CD1_1'] + hdu1d[0].header['CRVAL1']\n",
    "\n",
    "spec_unit = u.Unit('10^-19 erg s^-1 cm^-2 angstrom^-1')\n",
    "dataspec = QTable([wave*u.angstrom, flux*spec_unit, wht, unc*spec_unit], \n",
    "                   names=('wavelength','flux','weight','uncertainty'))\n",
    "dataspec_sub = dataspec[dataspec['weight']>0.]\n",
    "dataspec_sub"
   ]
  },
  {
   "cell_type": "code",
   "execution_count": null,
   "metadata": {
    "execution": {
     "iopub.execute_input": "2023-10-04T21:08:32.460016Z",
     "iopub.status.busy": "2023-10-04T21:08:32.459643Z",
     "iopub.status.idle": "2023-10-04T21:08:32.832943Z",
     "shell.execute_reply": "2023-10-04T21:08:32.831852Z"
    }
   },
   "outputs": [],
   "source": [
    "plt.figure(figsize=[10,6])\n",
    "plt.fill_between(dataspec_sub['wavelength'],\n",
    "                 dataspec_sub['flux']+dataspec_sub['uncertainty'],\n",
    "                 dataspec_sub['flux']-dataspec_sub['uncertainty'],\n",
    "                 color='gray',label=\"uncertainty\")\n",
    "plt.plot(dataspec_sub['wavelength'],dataspec_sub['flux'], label=\"data\")\n",
    "plt.xlabel(\"wavelength ({:latex})\".format(dataspec_sub['wavelength'].unit))\n",
    "plt.ylabel(\"flux ({:latex})\".format(dataspec_sub['flux'].unit))\n",
    "plt.title(\"Observed spectrum\")\n",
    "plt.legend()\n",
    "plt.show()"
   ]
  },
  {
   "cell_type": "markdown",
   "metadata": {},
   "source": [
    "## Go with specutils"
   ]
  },
  {
   "cell_type": "code",
   "execution_count": null,
   "metadata": {
    "execution": {
     "iopub.execute_input": "2023-10-04T21:08:32.836871Z",
     "iopub.status.busy": "2023-10-04T21:08:32.836251Z",
     "iopub.status.idle": "2023-10-04T21:08:32.842138Z",
     "shell.execute_reply": "2023-10-04T21:08:32.841380Z"
    }
   },
   "outputs": [],
   "source": [
    "#write Spectrum1D object\n",
    "spec1d = Spectrum1D(spectral_axis=dataspec_sub['wavelength'], \n",
    "                    flux=dataspec_sub['flux'], \n",
    "                    uncertainty=StdDevUncertainty(dataspec_sub['uncertainty']))"
   ]
  },
  {
   "cell_type": "markdown",
   "metadata": {},
   "source": [
    "##### Developer note\n",
    "\n",
    "For supported datasets (like final JWST data products), this will be as simple as:\n",
    "```\n",
    "spec1d = Spectrum1d.read('datafile.fits')\n",
    "```"
   ]
  },
  {
   "cell_type": "markdown",
   "metadata": {},
   "source": [
    "##### Developer note\n",
    "\n",
    "Implemented but not yet released: `snr_threshold`, which will allow cutting the spectrum using that function."
   ]
  },
  {
   "cell_type": "markdown",
   "metadata": {},
   "source": [
    "## Smooth to better inspect the features"
   ]
  },
  {
   "cell_type": "markdown",
   "metadata": {},
   "source": [
    "##### Developer note\n",
    "\n",
    "The uncertainty is not carried over, but would be useful. Same comment on the interactive tool as before: it would be very useful to be able to zoom, pan, hoover, etc. on the spectrum."
   ]
  },
  {
   "cell_type": "code",
   "execution_count": null,
   "metadata": {
    "execution": {
     "iopub.execute_input": "2023-10-04T21:08:32.845392Z",
     "iopub.status.busy": "2023-10-04T21:08:32.845094Z",
     "iopub.status.idle": "2023-10-04T21:08:33.089896Z",
     "shell.execute_reply": "2023-10-04T21:08:33.089152Z"
    }
   },
   "outputs": [],
   "source": [
    "spec1d_gsmooth = gaussian_smooth(spec1d, stddev=5)\n",
    "plt.figure(figsize=[10,6])\n",
    "plt.plot(spec1d_gsmooth.spectral_axis,spec1d_gsmooth.flux)\n",
    "plt.xlabel(\"wavelength ({:latex})\".format(spec1d_gsmooth.spectral_axis.unit))\n",
    "plt.ylabel(\"flux ({:latex})\".format(spec1d_gsmooth.flux.unit))\n",
    "plt.title(\"Smoothed observed spectrum\")\n",
    "plt.show()"
   ]
  },
  {
   "cell_type": "markdown",
   "metadata": {},
   "source": [
    "## Back to the non-smoothed spectrum to find lines\n",
    "\n",
    "Documentation says I need a continuum subtracted spectrum.\n",
    "\n",
    "## So fit continuum first"
   ]
  },
  {
   "cell_type": "code",
   "execution_count": null,
   "metadata": {
    "execution": {
     "iopub.execute_input": "2023-10-04T21:08:33.093199Z",
     "iopub.status.busy": "2023-10-04T21:08:33.092865Z",
     "iopub.status.idle": "2023-10-04T21:08:33.206675Z",
     "shell.execute_reply": "2023-10-04T21:08:33.205928Z"
    }
   },
   "outputs": [],
   "source": [
    "cont_spec1d = fit_generic_continuum(spec1d)\n",
    "cont_fit = cont_spec1d(spec1d.spectral_axis)"
   ]
  },
  {
   "cell_type": "code",
   "execution_count": null,
   "metadata": {
    "execution": {
     "iopub.execute_input": "2023-10-04T21:08:33.209589Z",
     "iopub.status.busy": "2023-10-04T21:08:33.209210Z",
     "iopub.status.idle": "2023-10-04T21:08:33.786946Z",
     "shell.execute_reply": "2023-10-04T21:08:33.786170Z"
    }
   },
   "outputs": [],
   "source": [
    "plt.figure(figsize=[10,6])\n",
    "plt.plot(spec1d.spectral_axis, spec1d.flux, label=\"data\")\n",
    "plt.plot(spec1d.spectral_axis, cont_fit, label=\"modeled continuum\")\n",
    "plt.xlabel(\"wavelength ({:latex})\".format(spec1d.spectral_axis.unit))\n",
    "plt.ylabel(\"flux ({:latex})\".format(spec1d.flux.unit))\n",
    "plt.legend()\n",
    "plt.title(\"Observed spectrum and fitted continuum\")\n",
    "plt.show()\n",
    "\n",
    "plt.figure(figsize=[10,6])\n",
    "plt.plot(spec1d.spectral_axis, spec1d.uncertainty.array, label=\"data\")\n",
    "plt.xlabel(\"wavelength ({:latex})\".format(spec1d.spectral_axis.unit))\n",
    "plt.ylabel(\"uncertainty ({:latex})\".format(spec1d.uncertainty.unit))\n",
    "plt.legend()\n",
    "plt.title(\"Uncertianty of observed spectrum\")\n",
    "plt.show()"
   ]
  },
  {
   "cell_type": "markdown",
   "metadata": {},
   "source": [
    "### Creating the continuum-subtracted spectrum\n",
    "Specutils will figure out what to do with the uncertainty!"
   ]
  },
  {
   "cell_type": "code",
   "execution_count": null,
   "metadata": {
    "execution": {
     "iopub.execute_input": "2023-10-04T21:08:33.790129Z",
     "iopub.status.busy": "2023-10-04T21:08:33.789727Z",
     "iopub.status.idle": "2023-10-04T21:08:33.809062Z",
     "shell.execute_reply": "2023-10-04T21:08:33.808373Z"
    }
   },
   "outputs": [],
   "source": [
    "spec1d_sub = spec1d - cont_fit\n",
    "spec1d_sub"
   ]
  },
  {
   "cell_type": "code",
   "execution_count": null,
   "metadata": {
    "execution": {
     "iopub.execute_input": "2023-10-04T21:08:33.811683Z",
     "iopub.status.busy": "2023-10-04T21:08:33.811392Z",
     "iopub.status.idle": "2023-10-04T21:08:34.399624Z",
     "shell.execute_reply": "2023-10-04T21:08:34.398747Z"
    }
   },
   "outputs": [],
   "source": [
    "plt.figure(figsize=[10,6])\n",
    "plt.plot(spec1d_sub.spectral_axis, spec1d_sub.flux, label=\"data\")\n",
    "plt.xlabel(\"wavelength ({:latex})\".format(spec1d_sub.spectral_axis.unit))\n",
    "plt.ylabel(\"flux ({:latex})\".format(spec1d_sub.flux.unit))\n",
    "plt.legend()\n",
    "plt.title(\"Continuum-subracted spectrum\")\n",
    "plt.show()\n",
    "\n",
    "plt.figure(figsize=[10,6])\n",
    "plt.plot(spec1d_sub.spectral_axis,spec1d_sub.uncertainty.array, label=\"data\")\n",
    "plt.xlabel(\"wavelength ({:latex})\".format(spec1d_sub.spectral_axis.unit))\n",
    "plt.ylabel(\"uncertainty ({:latex})\".format(spec1d_sub.uncertainty.unit))\n",
    "plt.legend()\n",
    "plt.title(\"Uncertainty of continuum-subracted spectrum\")\n",
    "plt.show()"
   ]
  },
  {
   "cell_type": "markdown",
   "metadata": {},
   "source": [
    "## Now look for the lines"
   ]
  },
  {
   "cell_type": "code",
   "execution_count": null,
   "metadata": {
    "execution": {
     "iopub.execute_input": "2023-10-04T21:08:34.402594Z",
     "iopub.status.busy": "2023-10-04T21:08:34.402380Z",
     "iopub.status.idle": "2023-10-04T21:08:34.413713Z",
     "shell.execute_reply": "2023-10-04T21:08:34.412890Z"
    }
   },
   "outputs": [],
   "source": [
    "lines = find_lines_derivative(spec1d_sub, flux_threshold=50)\n",
    "lines"
   ]
  },
  {
   "cell_type": "code",
   "execution_count": null,
   "metadata": {
    "execution": {
     "iopub.execute_input": "2023-10-04T21:08:34.416784Z",
     "iopub.status.busy": "2023-10-04T21:08:34.416459Z",
     "iopub.status.idle": "2023-10-04T21:08:34.754004Z",
     "shell.execute_reply": "2023-10-04T21:08:34.753182Z"
    }
   },
   "outputs": [],
   "source": [
    "plt.figure(figsize=[10,6])\n",
    "plt.plot(spec1d_sub.spectral_axis,spec1d_sub.flux,label=\"data\")\n",
    "plt.axvline(lines['line_center'][0].value, color=\"red\", alpha=0.5, label='emission/absorption lines')\n",
    "for line in lines:\n",
    "    plt.axvline(line['line_center'].value, color='red',alpha=0.5)\n",
    "plt.xlabel(\"wavelength ({:latex})\".format(spec1d_sub.spectral_axis.unit))\n",
    "plt.ylabel(\"flux ({:latex})\".format(spec1d.flux.unit))\n",
    "plt.legend()\n",
    "plt.title(\"Continuum-subtracted spectrum and marked lines using find_lines_derivative\")\n",
    "plt.show()"
   ]
  },
  {
   "cell_type": "markdown",
   "metadata": {},
   "source": [
    "This works for cases where you understand the thresholds well, but doesn't automate as well with noisy spectra."
   ]
  },
  {
   "cell_type": "markdown",
   "metadata": {},
   "source": [
    "### Works better with find_lines_threshold"
   ]
  },
  {
   "cell_type": "code",
   "execution_count": null,
   "metadata": {
    "execution": {
     "iopub.execute_input": "2023-10-04T21:08:34.758795Z",
     "iopub.status.busy": "2023-10-04T21:08:34.757417Z",
     "iopub.status.idle": "2023-10-04T21:08:34.768848Z",
     "shell.execute_reply": "2023-10-04T21:08:34.768012Z"
    }
   },
   "outputs": [],
   "source": [
    "lines = find_lines_threshold(spec1d_sub, noise_factor=6)\n",
    "lines"
   ]
  },
  {
   "cell_type": "markdown",
   "metadata": {},
   "source": [
    "Plot lines on the spectrum."
   ]
  },
  {
   "cell_type": "code",
   "execution_count": null,
   "metadata": {
    "execution": {
     "iopub.execute_input": "2023-10-04T21:08:34.771478Z",
     "iopub.status.busy": "2023-10-04T21:08:34.771283Z",
     "iopub.status.idle": "2023-10-04T21:08:35.285996Z",
     "shell.execute_reply": "2023-10-04T21:08:35.285247Z"
    }
   },
   "outputs": [],
   "source": [
    "plt.figure(figsize=[10,6])\n",
    "plt.plot(spec1d_sub.spectral_axis,spec1d_sub.flux,label=\"data\")\n",
    "plt.axvline(lines['line_center'][0].value, color=\"red\", alpha=0.5, label='emission/absorption lines')\n",
    "for line in lines:\n",
    "    plt.axvline(line['line_center'].value, color='red', alpha=0.5)\n",
    "plt.xlabel(\"wavelength ({:latex})\".format(spec1d_sub.spectral_axis.unit))\n",
    "plt.ylabel(\"flux ({:latex})\".format(spec1d_sub.flux.unit))\n",
    "plt.legend()\n",
    "plt.title(\"Continuum-subtracted spectrum and marked lines using find_lines_threshold\")\n",
    "plt.show()"
   ]
  },
  {
   "cell_type": "markdown",
   "metadata": {},
   "source": [
    "##### Developer note\n",
    "It would be useful to have a tool to cycle through the lines, show a zoom of the spectrum, and inspect how good the line identification is. For now I do it by hand on a single line."
   ]
  },
  {
   "cell_type": "code",
   "execution_count": null,
   "metadata": {
    "execution": {
     "iopub.execute_input": "2023-10-04T21:08:35.289680Z",
     "iopub.status.busy": "2023-10-04T21:08:35.289078Z",
     "iopub.status.idle": "2023-10-04T21:08:35.628994Z",
     "shell.execute_reply": "2023-10-04T21:08:35.627946Z"
    }
   },
   "outputs": [],
   "source": [
    "plt.figure(figsize=[10,6])\n",
    "plt.plot(spec1d_sub.spectral_axis,spec1d_sub.flux, label=\"data\")\n",
    "plt.scatter(spec1d_sub.spectral_axis,spec1d_sub.flux, label=None)\n",
    "plt.axvline(lines['line_center'][0].value, color=\"red\", alpha=0.5, label='[OII]')\n",
    "for line in lines:\n",
    "    plt.axvline(line['line_center'].value, alpha=0.5, color='red')\n",
    "plt.xlim(6500,6600)\n",
    "plt.xlabel(\"wavelength ({:latex})\".format(spec1d_sub.spectral_axis.unit))\n",
    "plt.ylabel(\"flux ({:latex})\".format(spec1d_sub.flux.unit))\n",
    "plt.legend()\n",
    "plt.title(\"Continuum-subtracted spectrum zoomed on [OII]\")\n",
    "plt.show()"
   ]
  },
  {
   "cell_type": "markdown",
   "metadata": {},
   "source": [
    "## Measure line centroids and fluxes\n",
    "These too need spectra continuum subtracted."
   ]
  },
  {
   "cell_type": "code",
   "execution_count": null,
   "metadata": {
    "execution": {
     "iopub.execute_input": "2023-10-04T21:08:35.632501Z",
     "iopub.status.busy": "2023-10-04T21:08:35.631958Z",
     "iopub.status.idle": "2023-10-04T21:08:35.643010Z",
     "shell.execute_reply": "2023-10-04T21:08:35.642410Z"
    }
   },
   "outputs": [],
   "source": [
    "#example with just one line\n",
    "centroid(spec1d_sub, SpectralRegion(6540*u.AA, 6580*u.AA))"
   ]
  },
  {
   "cell_type": "code",
   "execution_count": null,
   "metadata": {
    "execution": {
     "iopub.execute_input": "2023-10-04T21:08:35.646222Z",
     "iopub.status.busy": "2023-10-04T21:08:35.645817Z",
     "iopub.status.idle": "2023-10-04T21:08:35.979046Z",
     "shell.execute_reply": "2023-10-04T21:08:35.977716Z"
    }
   },
   "outputs": [],
   "source": [
    "sline = centroid(spec1d_sub, SpectralRegion(6540*u.AA, 6580*u.AA))\n",
    "\n",
    "plt.figure(figsize=[10,6])\n",
    "plt.plot(spec1d_sub.spectral_axis,spec1d_sub.flux, label=\"data\")\n",
    "plt.scatter(spec1d_sub.spectral_axis,spec1d_sub.flux, label=None)\n",
    "plt.axvline(sline.value, color='red', label=\"[OII]\")\n",
    "plt.axhline(0,color='black', label='flux = 0')\n",
    "plt.xlim(6500,6600)\n",
    "plt.xlabel(\"wavelength ({:latex})\".format(spec1d_sub.spectral_axis.unit))\n",
    "plt.ylabel(\"flux ({:latex})\".format(spec1d_sub.flux.unit))\n",
    "plt.legend()\n",
    "plt.title(\"Continuum-subtracted spectrum zoomed on [OII]\")\n",
    "plt.show()"
   ]
  },
  {
   "cell_type": "code",
   "execution_count": null,
   "metadata": {
    "execution": {
     "iopub.execute_input": "2023-10-04T21:08:35.984444Z",
     "iopub.status.busy": "2023-10-04T21:08:35.984187Z",
     "iopub.status.idle": "2023-10-04T21:08:35.999978Z",
     "shell.execute_reply": "2023-10-04T21:08:35.998197Z"
    }
   },
   "outputs": [],
   "source": [
    "line_flux(spec1d_sub, SpectralRegion(6540*u.AA, 6570*u.AA))  "
   ]
  },
  {
   "cell_type": "markdown",
   "metadata": {},
   "source": [
    "## Fit the line with a Gaussian\n",
    "\n",
    "##### Developer note\n",
    "Fitting lines with Gaussians is so common that it might make sense to have a one-line to iterate this over the list of lines, with sensible initialization of parameters and fit ranges for each line so that the fits generally work.\n",
    "\n",
    "Also, the interactive tool here could allow one to select the continuum region and position of the line by clicking on the spectrum."
   ]
  },
  {
   "cell_type": "code",
   "execution_count": null,
   "metadata": {
    "execution": {
     "iopub.execute_input": "2023-10-04T21:08:36.016931Z",
     "iopub.status.busy": "2023-10-04T21:08:36.016642Z",
     "iopub.status.idle": "2023-10-04T21:08:36.049014Z",
     "shell.execute_reply": "2023-10-04T21:08:36.046184Z"
    }
   },
   "outputs": [],
   "source": [
    "g_init = models.Gaussian1D(amplitude= 3 * 1e-19 * u.erg / u.s / u.cm**2 / u.AA, mean=6554*u.AA, stddev=2.*u.AA)\n",
    "g_fit = fit_lines(spec1d_sub, g_init)\n",
    "spec1d_fit = g_fit(spec1d_sub.wavelength)\n",
    "g_fit"
   ]
  },
  {
   "cell_type": "code",
   "execution_count": null,
   "metadata": {
    "execution": {
     "iopub.execute_input": "2023-10-04T21:08:36.053177Z",
     "iopub.status.busy": "2023-10-04T21:08:36.052238Z",
     "iopub.status.idle": "2023-10-04T21:08:36.060281Z",
     "shell.execute_reply": "2023-10-04T21:08:36.059539Z"
    }
   },
   "outputs": [],
   "source": [
    "#calculate the velocity dispertion from the stddev\n",
    "vel = ((3.71890256/6554.415) * const.c.to('km/s').value)*u.km/u.s\n",
    "print(vel)"
   ]
  },
  {
   "cell_type": "code",
   "execution_count": null,
   "metadata": {
    "execution": {
     "iopub.execute_input": "2023-10-04T21:08:36.063504Z",
     "iopub.status.busy": "2023-10-04T21:08:36.063218Z",
     "iopub.status.idle": "2023-10-04T21:08:36.370126Z",
     "shell.execute_reply": "2023-10-04T21:08:36.369321Z"
    }
   },
   "outputs": [],
   "source": [
    "plt.figure(figsize=[10,6])\n",
    "plt.plot(spec1d_sub.wavelength,spec1d_sub.flux,label='data')\n",
    "plt.plot(spec1d_sub.wavelength,spec1d_fit,color='darkorange',label='Gaussian fit')\n",
    "plt.xlim(6500,6600)\n",
    "plt.xlabel(\"wavelength ({:latex})\".format(spec1d_sub.spectral_axis.unit))\n",
    "plt.ylabel(\"flux ({:latex})\".format(spec1d_sub.flux.unit))\n",
    "plt.legend()\n",
    "plt.title('Gaussian fit to the [OII] line')\n",
    "plt.show()"
   ]
  },
  {
   "cell_type": "markdown",
   "metadata": {},
   "source": [
    "## Measure the equivalent width of the lines\n",
    "This needs the spectrum continuum normalized."
   ]
  },
  {
   "cell_type": "code",
   "execution_count": null,
   "metadata": {
    "execution": {
     "iopub.execute_input": "2023-10-04T21:08:36.373136Z",
     "iopub.status.busy": "2023-10-04T21:08:36.372860Z",
     "iopub.status.idle": "2023-10-04T21:08:36.387835Z",
     "shell.execute_reply": "2023-10-04T21:08:36.387030Z"
    }
   },
   "outputs": [],
   "source": [
    "spec1d_norm = spec1d / cont_fit"
   ]
  },
  {
   "cell_type": "code",
   "execution_count": null,
   "metadata": {
    "execution": {
     "iopub.execute_input": "2023-10-04T21:08:36.390483Z",
     "iopub.status.busy": "2023-10-04T21:08:36.390281Z",
     "iopub.status.idle": "2023-10-04T21:08:36.834161Z",
     "shell.execute_reply": "2023-10-04T21:08:36.833285Z"
    }
   },
   "outputs": [],
   "source": [
    "plt.figure(figsize=[10,6])\n",
    "plt.plot(spec1d_norm.spectral_axis, spec1d_norm.flux, label='data')\n",
    "plt.axhline(1,color='black',label='flux = 1')\n",
    "plt.xlabel(\"wavelength ({:latex})\".format(spec1d_norm.spectral_axis.unit))\n",
    "plt.ylabel(\"flux (normalized)\")\n",
    "plt.xlim(6500,6600)\n",
    "plt.legend()\n",
    "plt.title(\"Continuum-normalized spectrum, zoomed on [OII]\")\n",
    "plt.show()\n",
    "\n",
    "plt.figure(figsize=[10,6])\n",
    "plt.plot(spec1d_norm.spectral_axis, spec1d_norm.uncertainty.array, label='data')\n",
    "plt.xlabel(\"wavelength ({:latex})\".format(spec1d_norm.spectral_axis.unit))\n",
    "plt.ylabel(\"uncertainty (normalized)\")\n",
    "plt.xlim(6500,6600)\n",
    "plt.legend()\n",
    "plt.title(\"Uncertainty of continuum-normalized spectrum, zoomed on [OII]\")\n",
    "plt.show()"
   ]
  },
  {
   "cell_type": "code",
   "execution_count": null,
   "metadata": {
    "execution": {
     "iopub.execute_input": "2023-10-04T21:08:36.837392Z",
     "iopub.status.busy": "2023-10-04T21:08:36.836871Z",
     "iopub.status.idle": "2023-10-04T21:08:36.849375Z",
     "shell.execute_reply": "2023-10-04T21:08:36.848444Z"
    }
   },
   "outputs": [],
   "source": [
    "equivalent_width(spec1d_norm, regions=SpectralRegion(6540*u.AA, 6570*u.AA))"
   ]
  },
  {
   "cell_type": "markdown",
   "metadata": {},
   "source": [
    "## Find the best-fitting template\n",
    "It needs a list of templates and the redshift of the observed galaxy. For the templates, I am using a set of model SEDs generated with Bruzual & Charlot stellar population models, emission lines, and dust attenuation as described in Pacifici et al. (2012).\n",
    "\n",
    "##### Developer note\n",
    "Maybe there is a way to speed this up (maybe using astropy model_sets)? This fit is run with 100 models, but ideally, if we want to extract physical parameters from this, we would need at least 10,000 models.\n",
    "\n",
    "A dictionary structure with meaningful keys (which can be, e.g., tuples of the relevant physical parameters) could be better than a list? It could make later analysis much clearer than having to map from the list indices back to the relevant parameters."
   ]
  },
  {
   "cell_type": "code",
   "execution_count": null,
   "metadata": {
    "execution": {
     "iopub.execute_input": "2023-10-04T21:08:36.852660Z",
     "iopub.status.busy": "2023-10-04T21:08:36.852416Z",
     "iopub.status.idle": "2023-10-04T21:08:36.856647Z",
     "shell.execute_reply": "2023-10-04T21:08:36.855872Z"
    }
   },
   "outputs": [],
   "source": [
    "templatedir = './mos_spectroscopy/templates/'"
   ]
  },
  {
   "cell_type": "code",
   "execution_count": null,
   "metadata": {
    "execution": {
     "iopub.execute_input": "2023-10-04T21:08:36.859703Z",
     "iopub.status.busy": "2023-10-04T21:08:36.859429Z",
     "iopub.status.idle": "2023-10-04T21:09:33.900239Z",
     "shell.execute_reply": "2023-10-04T21:09:33.899202Z"
    }
   },
   "outputs": [],
   "source": [
    "zz = 0.758\n",
    "\n",
    "templatelist = []\n",
    "for i in range (1, 101):\n",
    "    template_file = \"{0}{1:05d}.dat\".format(templatedir,i)\n",
    "    template = ascii.read(template_file)\n",
    "    temp1d = Spectrum1D(spectral_axis=template['col1']*u.AA,flux=template['col2']*u.erg/u.s/u.AA)\n",
    "    templatelist.append(temp1d)\n",
    "    \n",
    "    \n",
    "tm_results = template_comparison.template_match(observed_spectrum=spec1d, spectral_templates=templatelist, resample_method=\"flux_conserving\", redshift=zz)"
   ]
  },
  {
   "cell_type": "code",
   "execution_count": null,
   "metadata": {
    "execution": {
     "iopub.execute_input": "2023-10-04T21:09:33.903917Z",
     "iopub.status.busy": "2023-10-04T21:09:33.903664Z",
     "iopub.status.idle": "2023-10-04T21:09:33.911568Z",
     "shell.execute_reply": "2023-10-04T21:09:33.910751Z"
    }
   },
   "outputs": [],
   "source": [
    "tm_results[0]"
   ]
  },
  {
   "cell_type": "code",
   "execution_count": null,
   "metadata": {
    "execution": {
     "iopub.execute_input": "2023-10-04T21:09:33.914692Z",
     "iopub.status.busy": "2023-10-04T21:09:33.914441Z",
     "iopub.status.idle": "2023-10-04T21:09:34.254180Z",
     "shell.execute_reply": "2023-10-04T21:09:34.253314Z"
    }
   },
   "outputs": [],
   "source": [
    "plt.figure(figsize=[10, 6])\n",
    "plt.plot(spec1d.wavelength, spec1d.flux, label=\"data\")\n",
    "plt.plot(tm_results[0].wavelength, tm_results[0].flux,color='r',alpha=0.5,label='model')\n",
    "plt.xlim(6000, 9000)\n",
    "plt.xlabel(\"wavelength ({:latex})\".format(spec1d_norm.spectral_axis.unit))\n",
    "plt.ylabel(\"flux ({:latex})\".format(spec1d_sub.flux.unit))\n",
    "plt.legend()\n",
    "plt.title(\"Observed spectrum and best-fitting model template\")\n",
    "plt.show()"
   ]
  },
  {
   "cell_type": "markdown",
   "metadata": {},
   "source": [
    "## Potential next steps:\n",
    "    - Automatic template *fitting* to get the redshift\n",
    "    - Measure if emission-line profile is consistent with PSF\n",
    "    - Measure line intensities in 2D\n",
    "    - Convert distances from pixels to kpc\n",
    "    - Run the line measurements on a set of lines\n",
    "    - Run the whole procedure on all galaxies detected on a mask"
   ]
  },
  {
   "cell_type": "code",
   "execution_count": null,
   "metadata": {},
   "outputs": [],
   "source": []
  }
 ],
 "metadata": {
  "kernelspec": {
   "display_name": "Python 3 (ipykernel)",
   "language": "python",
   "name": "python3"
  },
  "language_info": {
   "codemirror_mode": {
    "name": "ipython",
    "version": 3
   },
   "file_extension": ".py",
   "mimetype": "text/x-python",
   "name": "python",
   "nbconvert_exporter": "python",
   "pygments_lexer": "ipython3",
   "version": "3.11.4"
  }
 },
 "nbformat": 4,
 "nbformat_minor": 2
}
