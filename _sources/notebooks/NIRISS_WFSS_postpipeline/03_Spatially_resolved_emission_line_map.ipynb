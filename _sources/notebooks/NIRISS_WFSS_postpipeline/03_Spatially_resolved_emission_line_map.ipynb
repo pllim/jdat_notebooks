{
 "cells": [
  {
   "cell_type": "markdown",
   "metadata": {},
   "source": [
    "# WFSS Spectra Part 3: Emission Line Map"
   ]
  },
  {
   "cell_type": "markdown",
   "metadata": {},
   "source": [
    "**Use case:** optimal extraction of grism spectra; redshift measurement; emission-line maps.  Simplified version of [JDox Science Use Case # 33](https://jwst-docs.stsci.edu/near-infrared-imager-and-slitless-spectrograph/niriss-example-science-programs/niriss-wfss-with-nircam-parallel-imaging-of-galaxies-in-lensing-clusters).<br>\n",
    "**Data:** JWST simulated NIRISS images from [MIRAGE](https://jwst-docs.stsci.edu/jwst-other-tools/mirage-data-simulator), run through the [JWST calibration pipeline](https://jwst-pipeline.readthedocs.io/en/latest/); galaxy cluster.<br>\n",
    "**Tools:**  specutils, astropy, pandas, emcee, lmfit, corner, h5py.<br>\n",
    "**Cross-intrument:** NIRSpec <br>\n",
    "**Documentation:** This notebook is part of a STScI's larger [post-pipeline Data Analysis Tools Ecosystem](https://jwst-docs.stsci.edu/jwst-post-pipeline-data-analysis).<br>\n",
    "\n",
    "\n",
    "## Introduction\n",
    "\n",
    "This notebook is 4 of 4 in a set focusing on NIRISS WFSS data:\n",
    "    1. 1D optimal extraction since the JWST pipeline only provides a box extraction.  Optimal extraction improves S/N of spectra for faint sources.\n",
    "    2. Combine and normalize 1D spectra.\n",
    "    3. Cross correlate galaxy with template to get redshift.\n",
    "    4. Spatially resolved emission line map.\n",
    "\n",
    "This notebook obtains an emission line map from the 2D-cutout of NIRISS WFSS spectra. This notebook will require the 2D-cutout of NIRISS WFSS spectrum (e.g., l3_nis_f150w_G150C_s00004_cal.fits; Pipeline spec3 product).\n",
    "\n",
    "**Note:** For this example, the notebook uses only a 2D rectified spectra at one dither position, directly obtained from the current versionn of the  pipeline (Build 7.5), but one could start with spectra stacked with all dither positions too, to improve S/Ns.\n"
   ]
  },
  {
   "cell_type": "code",
   "execution_count": 1,
   "metadata": {
    "execution": {
     "iopub.execute_input": "2023-09-20T19:05:38.424011Z",
     "iopub.status.busy": "2023-09-20T19:05:38.423757Z",
     "iopub.status.idle": "2023-09-20T19:05:40.476505Z",
     "shell.execute_reply": "2023-09-20T19:05:40.475817Z"
    }
   },
   "outputs": [],
   "source": [
    "%matplotlib inline"
   ]
  },
  {
   "cell_type": "code",
   "execution_count": 2,
   "metadata": {
    "execution": {
     "iopub.execute_input": "2023-09-20T19:05:40.480108Z",
     "iopub.status.busy": "2023-09-20T19:05:40.479426Z",
     "iopub.status.idle": "2023-09-20T19:05:43.350747Z",
     "shell.execute_reply": "2023-09-20T19:05:43.350005Z"
    }
   },
   "outputs": [
    {
     "name": "stdout",
     "output_type": "stream",
     "text": [
      "astropy 5.3.3\n"
     ]
    }
   ],
   "source": [
    "import os\n",
    "\n",
    "import numpy as np\n",
    "\n",
    "from astropy.convolution import Gaussian2DKernel\n",
    "from astropy.io import fits\n",
    "from astropy.stats import gaussian_fwhm_to_sigma\n",
    "from astropy.table import QTable\n",
    "import astropy.units as u\n",
    "from astropy.visualization import make_lupton_rgb, SqrtStretch, ImageNormalize, simple_norm\n",
    "import astropy.wcs as wcs\n",
    "from astropy.modeling import models\n",
    "from astropy import units as u\n",
    "from astropy.modeling.polynomial import Chebyshev1D\n",
    "\n",
    "from specutils.spectra import Spectrum1D\n",
    "from specutils.fitting import fit_lines\n",
    "from specutils.fitting import continuum\n",
    "\n",
    "from astropy import __version__ as astropy_version\n",
    "print('astropy', astropy_version)"
   ]
  },
  {
   "cell_type": "code",
   "execution_count": 3,
   "metadata": {
    "execution": {
     "iopub.execute_input": "2023-09-20T19:05:43.384079Z",
     "iopub.status.busy": "2023-09-20T19:05:43.383573Z",
     "iopub.status.idle": "2023-09-20T19:05:43.387507Z",
     "shell.execute_reply": "2023-09-20T19:05:43.386931Z"
    }
   },
   "outputs": [],
   "source": [
    "import matplotlib.pyplot as plt\n",
    "import matplotlib as mpl\n",
    "\n",
    "mpl.rcParams['savefig.dpi'] = 80\n",
    "mpl.rcParams['figure.dpi'] = 80"
   ]
  },
  {
   "cell_type": "markdown",
   "metadata": {},
   "source": [
    "### 0. Download notebook 01 products\n",
    "These can be also obtained by running the notebooks."
   ]
  },
  {
   "cell_type": "code",
   "execution_count": 4,
   "metadata": {
    "execution": {
     "iopub.execute_input": "2023-09-20T19:05:43.390876Z",
     "iopub.status.busy": "2023-09-20T19:05:43.390668Z",
     "iopub.status.idle": "2023-09-20T19:05:45.433357Z",
     "shell.execute_reply": "2023-09-20T19:05:45.432580Z"
    }
   },
   "outputs": [],
   "source": [
    "if not os.path.exists('./output'):\n",
    "    import zipfile\n",
    "    import urllib.request\n",
    "    boxlink = 'https://data.science.stsci.edu/redirect/JWST/jwst-data_analysis_tools/NIRISS_lensing_cluster/output.zip'\n",
    "    boxfile = './output.zip'\n",
    "    urllib.request.urlretrieve(boxlink, boxfile)\n",
    "    zf = zipfile.ZipFile(boxfile, 'r')\n",
    "    zf.extractall()\n",
    "else:\n",
    "    print('Already exists')"
   ]
  },
  {
   "cell_type": "code",
   "execution_count": 5,
   "metadata": {
    "execution": {
     "iopub.execute_input": "2023-09-20T19:05:45.436631Z",
     "iopub.status.busy": "2023-09-20T19:05:45.436222Z",
     "iopub.status.idle": "2023-09-20T19:05:53.409073Z",
     "shell.execute_reply": "2023-09-20T19:05:53.408440Z"
    }
   },
   "outputs": [],
   "source": [
    "# Download files, if not exists yet.\n",
    "if not os.path.exists('./pipeline_products'):\n",
    "    import zipfile\n",
    "    import urllib.request\n",
    "    boxlink = 'https://data.science.stsci.edu/redirect/JWST/jwst-data_analysis_tools/NIRISS_lensing_cluster/pipeline_products.zip'\n",
    "    boxfile = './pipeline_products.zip'\n",
    "    urllib.request.urlretrieve(boxlink, boxfile)\n",
    "    zf = zipfile.ZipFile(boxfile, 'r')\n",
    "    zf.extractall()"
   ]
  },
  {
   "cell_type": "code",
   "execution_count": 6,
   "metadata": {
    "execution": {
     "iopub.execute_input": "2023-09-20T19:05:53.412224Z",
     "iopub.status.busy": "2023-09-20T19:05:53.411813Z",
     "iopub.status.idle": "2023-09-20T19:05:53.415999Z",
     "shell.execute_reply": "2023-09-20T19:05:53.415473Z"
    }
   },
   "outputs": [],
   "source": [
    "# Which target?\n",
    "DIR_OUT = './output/'\n",
    "filt = 'f200w'\n",
    "\n",
    "grism = 'G150C'\n",
    "#grism = 'G150R'\n",
    "\n",
    "id = '00004'"
   ]
  },
  {
   "cell_type": "markdown",
   "metadata": {},
   "source": [
    "### 1.Get Halpha emission line map;"
   ]
  },
  {
   "cell_type": "code",
   "execution_count": 7,
   "metadata": {
    "execution": {
     "iopub.execute_input": "2023-09-20T19:05:53.418630Z",
     "iopub.status.busy": "2023-09-20T19:05:53.418256Z",
     "iopub.status.idle": "2023-09-20T19:05:53.428298Z",
     "shell.execute_reply": "2023-09-20T19:05:53.427785Z"
    }
   },
   "outputs": [],
   "source": [
    "# Open two-dimensional file;\n",
    "# can be downloaded in No.01a.\n",
    "DIR_DATA = './pipeline_products/'\n",
    "\n",
    "# Zero-indexed number for dither --- the test data has two dither positions.\n",
    "ndither = 0\n",
    "\n",
    "# File\n",
    "file_2d = '%sl3_nis_%s_%s_s%s_cal.fits'%(DIR_DATA, filt, grism, id)\n",
    "hdu_2d = fits.open(file_2d)\n",
    "\n",
    "# Align grism direction\n",
    "#   - x-direction = Dispersion (wavelength) direction.\n",
    "#   - y-direction = Cross-dispersion.\n",
    "# in this notebook.\n",
    "    \n",
    "if grism == 'G150C':\n",
    "    # If spectrum is horizontal;\n",
    "    data_2d = hdu_2d[ndither*7+1].data\n",
    "    dq_2d = hdu_2d[ndither*7+2].data\n",
    "    err_2d = hdu_2d[ndither*7+3].data\n",
    "    wave_2d = hdu_2d[ndither*7+4].data\n",
    "else:\n",
    "    data_2d = rotate(hdu_2d[ndither*7+1].data, 90)\n",
    "    dq_2d = rotate(hdu_2d[ndither*7+2].data, 90)\n",
    "    err_2d = rotate(hdu_2d[ndither*7+3].data, 90)\n",
    "    wave_2d = rotate(hdu_2d[ndither*7+4].data, 90)"
   ]
  },
  {
   "cell_type": "code",
   "execution_count": 8,
   "metadata": {
    "execution": {
     "iopub.execute_input": "2023-09-20T19:05:53.430776Z",
     "iopub.status.busy": "2023-09-20T19:05:53.430351Z",
     "iopub.status.idle": "2023-09-20T19:05:53.533469Z",
     "shell.execute_reply": "2023-09-20T19:05:53.532905Z"
    }
   },
   "outputs": [
    {
     "data": {
      "text/plain": [
       "<matplotlib.image.AxesImage at 0x7f5bf9766910>"
      ]
     },
     "execution_count": 8,
     "metadata": {},
     "output_type": "execute_result"
    },
    {
     "data": {
      "image/png": "[encoded data removed]",
      "text/plain": [
       "<Figure size 512x384 with 1 Axes>"
      ]
     },
     "metadata": {},
     "output_type": "display_data"
    }
   ],
   "source": [
    "plt.imshow(data_2d[:,:])"
   ]
  },
  {
   "cell_type": "markdown",
   "metadata": {},
   "source": [
    "### Subtract continuum at each y-position:\n",
    "There are two options, depending on the brightness of the source;\n",
    "- 1.Subtract continuum estimated at each position of cross-dispersion column. This works for a bright source.\n",
    "- 2.Subtract a single continuum (\"master continuum\"), assuming the shape is same across cross-dispersion direction as the one from a 1d extraction. This is required for a faint source.\n",
    "\n",
    "Since we clearly see continuum across the source, here we demonstrate the option 1."
   ]
  },
  {
   "cell_type": "code",
   "execution_count": 9,
   "metadata": {
    "execution": {
     "iopub.execute_input": "2023-09-20T19:05:53.536136Z",
     "iopub.status.busy": "2023-09-20T19:05:53.535913Z",
     "iopub.status.idle": "2023-09-20T19:05:53.711255Z",
     "shell.execute_reply": "2023-09-20T19:05:53.710716Z"
    }
   },
   "outputs": [
    {
     "name": "stderr",
     "output_type": "stream",
     "text": [
      "WARNING: Model is linear in parameters; consider using linear fitting methods. [astropy.modeling.fitting]\n"
     ]
    },
    {
     "data": {
      "text/plain": [
       "(1.6, 2.3)"
      ]
     },
     "execution_count": 9,
     "metadata": {},
     "output_type": "execute_result"
    },
    {
     "data": {
      "image/png": "[encoded data removed]",
      "text/plain": [
       "<Figure size 512x384 with 1 Axes>"
      ]
     },
     "metadata": {},
     "output_type": "display_data"
    }
   ],
   "source": [
    "# At which y position do we want to see spectrum?\n",
    "# as an example;\n",
    "yy = 10\n",
    "\n",
    "spec_unit = u.dimensionless_unscaled\n",
    "\n",
    "mask_line = ((wave_2d[yy,:] > 1.75) & (wave_2d[yy,:] < 1.97)) | ((wave_2d[yy,:] > 2.08) & (wave_2d[yy,:] < 2.23))\n",
    "\n",
    "obs  = Spectrum1D(spectral_axis=wave_2d[yy,:][mask_line]*u.um, flux=data_2d[yy,:][mask_line]*spec_unit)\n",
    "cont = continuum.fit_generic_continuum(obs, model=Chebyshev1D(7))\n",
    "\n",
    "plt.plot(wave_2d[yy,:], data_2d[yy,:], color='r', label='Observed at y=%d'%(yy))\n",
    "plt.plot(wave_2d[yy,:][mask_line]*u.um, cont(wave_2d[yy,:][mask_line]*u.um), color='b', label='Fitted continuum')\n",
    "\n",
    "plt.legend(loc=0)\n",
    "plt.xlim(1.6, 2.3)"
   ]
  },
  {
   "cell_type": "code",
   "execution_count": 10,
   "metadata": {
    "execution": {
     "iopub.execute_input": "2023-09-20T19:05:53.714156Z",
     "iopub.status.busy": "2023-09-20T19:05:53.713721Z",
     "iopub.status.idle": "2023-09-20T19:05:53.719092Z",
     "shell.execute_reply": "2023-09-20T19:05:53.718597Z"
    }
   },
   "outputs": [
    {
     "data": {
      "text/plain": [
       "array([250.33514625, 251.34196997, 252.3399539 , 253.31373358,\n",
       "       254.24980241, 255.13666809, 255.96455649, 256.72516215,\n",
       "       257.41178054, 258.01904392, 258.54273027, 258.97986573,\n",
       "       259.32840475, 259.58730346, 259.75633833, 259.83601505,\n",
       "       259.82753631, 259.73268276, 259.55376941, 259.29355234,\n",
       "       258.95516032, 258.54210389, 258.05809227, 257.50714698,\n",
       "       256.89339286, 256.22107226, 255.4946214 , 254.71842986,\n",
       "       253.89689648, 253.03453451, 252.13569698, 251.2046636 ,\n",
       "       227.2937026 , 226.56797698, 225.86951509, 225.19837698,\n",
       "       224.55451447, 223.93770343, 223.34764344, 222.78388357,\n",
       "       222.24585274, 221.73279607, 221.24384862, 220.7779845 ,\n",
       "       220.33396715, 219.91041011, 219.50570908, 219.11804745,\n",
       "       218.74533159, 218.38522917, 218.03510699, 217.69197741,\n",
       "       217.35251716, 217.01299411, 216.66924474, 216.31659529,\n",
       "       215.94986731, 215.56329808, 215.15045747, 214.70424554,\n",
       "       214.21679044, 213.6794031 , 213.08244929, 212.41535398,\n",
       "       211.66646567, 210.82300532, 209.87088579, 208.79474276,\n",
       "       207.57778338, 206.20156842, 204.64608538, 202.88950983,\n",
       "       200.90816203, 198.67616835, 196.16562581, 193.34633991,\n",
       "       190.18542588, 186.64758372, 182.694655  ])"
      ]
     },
     "execution_count": 10,
     "metadata": {},
     "output_type": "execute_result"
    }
   ],
   "source": [
    "cont(wave_2d[yy,:][mask_line]*u.um).value"
   ]
  },
  {
   "cell_type": "code",
   "execution_count": 11,
   "metadata": {
    "execution": {
     "iopub.execute_input": "2023-09-20T19:05:53.721630Z",
     "iopub.status.busy": "2023-09-20T19:05:53.721229Z",
     "iopub.status.idle": "2023-09-20T19:05:54.039312Z",
     "shell.execute_reply": "2023-09-20T19:05:54.038676Z"
    }
   },
   "outputs": [],
   "source": [
    "# Repeat this along y-axis;\n",
    "flux_cont2d = data_2d[:,:] * 0\n",
    "for yy in range(len(data_2d[:,0])):\n",
    "\n",
    "    mask_line = ((wave_2d[yy,:] > 1.75) & (wave_2d[yy,:] < 1.97)) | ((wave_2d[yy,:] > 2.08) & (wave_2d[yy,:] < 2.23))\n",
    "\n",
    "    obs = Spectrum1D(spectral_axis=wave_2d[yy,:][mask_line]*u.um, flux=data_2d[yy,:][mask_line]*spec_unit)\n",
    "    cont = continuum.fit_generic_continuum(obs, model=Chebyshev1D(7))\n",
    "\n",
    "    flux_cont2d[yy,:] = cont(wave_2d[yy,:]*u.um).value"
   ]
  },
  {
   "cell_type": "code",
   "execution_count": 12,
   "metadata": {
    "execution": {
     "iopub.execute_input": "2023-09-20T19:05:54.042668Z",
     "iopub.status.busy": "2023-09-20T19:05:54.042116Z",
     "iopub.status.idle": "2023-09-20T19:05:54.156248Z",
     "shell.execute_reply": "2023-09-20T19:05:54.155684Z"
    }
   },
   "outputs": [
    {
     "data": {
      "text/plain": [
       "Text(0.5, 1.0, 'Fitted continuum')"
      ]
     },
     "execution_count": 12,
     "metadata": {},
     "output_type": "execute_result"
    },
    {
     "data": {
      "image/png": "[encoded data removed]",
      "text/plain": [
       "<Figure size 512x384 with 1 Axes>"
      ]
     },
     "metadata": {},
     "output_type": "display_data"
    }
   ],
   "source": [
    "plt.imshow(flux_cont2d[:,:])\n",
    "plt.title('Fitted continuum')"
   ]
  },
  {
   "cell_type": "code",
   "execution_count": 13,
   "metadata": {
    "execution": {
     "iopub.execute_input": "2023-09-20T19:05:54.159770Z",
     "iopub.status.busy": "2023-09-20T19:05:54.159280Z",
     "iopub.status.idle": "2023-09-20T19:05:54.268443Z",
     "shell.execute_reply": "2023-09-20T19:05:54.267910Z"
    }
   },
   "outputs": [
    {
     "data": {
      "text/plain": [
       "Text(0.5, 1.0, 'Continuum subtracted spectrum')"
      ]
     },
     "execution_count": 13,
     "metadata": {},
     "output_type": "execute_result"
    },
    {
     "data": {
      "image/png": "[encoded data removed]",
      "text/plain": [
       "<Figure size 512x384 with 1 Axes>"
      ]
     },
     "metadata": {},
     "output_type": "display_data"
    }
   ],
   "source": [
    "plt.imshow(data_2d[:,:] - flux_cont2d[:,:])\n",
    "plt.title('Continuum subtracted spectrum')"
   ]
  },
  {
   "cell_type": "markdown",
   "metadata": {},
   "source": [
    "### Extract Halpha emission from a continuum-subtracted spectrum;"
   ]
  },
  {
   "cell_type": "code",
   "execution_count": 14,
   "metadata": {
    "execution": {
     "iopub.execute_input": "2023-09-20T19:05:54.271990Z",
     "iopub.status.busy": "2023-09-20T19:05:54.270744Z",
     "iopub.status.idle": "2023-09-20T19:05:54.529278Z",
     "shell.execute_reply": "2023-09-20T19:05:54.528698Z"
    }
   },
   "outputs": [
    {
     "data": {
      "text/plain": [
       "Text(0.5, 1.0, 'H$\\\\alpha$ map')"
      ]
     },
     "execution_count": 14,
     "metadata": {},
     "output_type": "execute_result"
    },
    {
     "data": {
      "image/png": "[encoded data removed]",
      "text/plain": [
       "<Figure size 512x384 with 1 Axes>"
      ]
     },
     "metadata": {},
     "output_type": "display_data"
    }
   ],
   "source": [
    "# Cutout Ha line map;\n",
    "rsq = data_2d.shape[0]\n",
    "cut_ha = np.zeros((rsq,rsq),'float32')\n",
    "\n",
    "zin = 2.1 # From Notebook No.3, cross-correlation;\n",
    "lamcen = 0.6564 * (1. + zin)\n",
    "\n",
    "for yy in range(len(data_2d[:,0])):\n",
    "    # This has to be done at each y pixel, as wavelength array can be tilted.\n",
    "    index_lamcen = np.argmin(np.abs(lamcen - wave_2d[yy,:]))\n",
    "    cut_ha[yy,:] = (data_2d - flux_cont2d)[yy, int(index_lamcen-rsq/2.) : int(index_lamcen+rsq/2.)]\n",
    "\n",
    "plt.imshow(cut_ha)\n",
    "plt.title('H$\\\\alpha$ map')"
   ]
  },
  {
   "cell_type": "markdown",
   "metadata": {},
   "source": [
    "### 2.Get Hbeta and OIII maps\n",
    "This is more challenging, as these lines locate close to each other. Ideally, iteration process will be preferred, but here we use Specutils' double gaussian component fitting, in a similar way for Ha."
   ]
  },
  {
   "cell_type": "code",
   "execution_count": 15,
   "metadata": {
    "execution": {
     "iopub.execute_input": "2023-09-20T19:05:54.532473Z",
     "iopub.status.busy": "2023-09-20T19:05:54.532047Z",
     "iopub.status.idle": "2023-09-20T19:05:54.659504Z",
     "shell.execute_reply": "2023-09-20T19:05:54.658951Z"
    }
   },
   "outputs": [
    {
     "data": {
      "text/plain": [
       "Text(0.5, 1.0, 'f150w')"
      ]
     },
     "execution_count": 15,
     "metadata": {},
     "output_type": "execute_result"
    },
    {
     "data": {
      "image/png": "[encoded data removed]",
      "text/plain": [
       "<Figure size 512x384 with 1 Axes>"
      ]
     },
     "metadata": {},
     "output_type": "display_data"
    }
   ],
   "source": [
    "filt = 'f150w'\n",
    "\n",
    "file_2d = '%sl3_nis_%s_%s_s%s_cal.fits'%(DIR_DATA, filt, grism, id)\n",
    "hdu_2d = fits.open(file_2d)\n",
    "\n",
    "# Align grism direction\n",
    "#   - x-direction = Dispersion (wavelength) direction.\n",
    "#   - y-direction = Cross-dispersion.\n",
    "# in this notebook.\n",
    "    \n",
    "if grism == 'G150C':\n",
    "    # If spectrum is horizontal;\n",
    "    data_2d = hdu_2d[ndither*7+1].data\n",
    "    dq_2d = hdu_2d[ndither*7+2].data\n",
    "    err_2d = hdu_2d[ndither*7+3].data\n",
    "    wave_2d = hdu_2d[ndither*7+4].data\n",
    "else:\n",
    "    data_2d = rotate(hdu_2d[ndither*7+1].data, 90)\n",
    "    dq_2d = rotate(hdu_2d[ndither*7+2].data, 90)\n",
    "    err_2d = rotate(hdu_2d[ndither*7+3].data, 90)\n",
    "    wave_2d = rotate(hdu_2d[ndither*7+4].data, 90)\n",
    "    \n",
    "# !! Note that the extracted spectra has flipped wavelength direction !!\n",
    "plt.imshow(data_2d[:, ::-1])\n",
    "plt.title('%s'%(filt))\n"
   ]
  },
  {
   "cell_type": "markdown",
   "metadata": {},
   "source": [
    "### In the plot above, you can see Oiii doublet, and Hbeta. "
   ]
  },
  {
   "cell_type": "markdown",
   "metadata": {},
   "source": [
    "#### 2a. Get continuum;"
   ]
  },
  {
   "cell_type": "code",
   "execution_count": 16,
   "metadata": {
    "execution": {
     "iopub.execute_input": "2023-09-20T19:05:54.662181Z",
     "iopub.status.busy": "2023-09-20T19:05:54.661956Z",
     "iopub.status.idle": "2023-09-20T19:05:54.823222Z",
     "shell.execute_reply": "2023-09-20T19:05:54.822683Z"
    }
   },
   "outputs": [
    {
     "data": {
      "text/plain": [
       "(1.2, 1.8)"
      ]
     },
     "execution_count": 16,
     "metadata": {},
     "output_type": "execute_result"
    },
    {
     "data": {
      "image/png": "[encoded data removed]",
      "text/plain": [
       "<Figure size 512x384 with 1 Axes>"
      ]
     },
     "metadata": {},
     "output_type": "display_data"
    }
   ],
   "source": [
    "yy = 10 # as an example;\n",
    "\n",
    "spec_unit = u.dimensionless_unscaled\n",
    "\n",
    "mask_line = ((wave_2d[yy,:] > 1.35) & (wave_2d[yy,:] < 1.48)) | ((wave_2d[yy,:] > 1.6) & (wave_2d[yy,:] < 1.65))\n",
    "\n",
    "obs = Spectrum1D(spectral_axis=wave_2d[yy,:][mask_line]*u.um, flux=data_2d[yy,:][mask_line]*spec_unit)\n",
    "cont = continuum.fit_generic_continuum(obs, model=Chebyshev1D(7))\n",
    "\n",
    "plt.plot(wave_2d[yy,:], data_2d[yy,:], color='r', label='Observed at y=%d'%(yy))\n",
    "plt.plot(wave_2d[yy,:][mask_line]*u.um, cont(wave_2d[yy,:][mask_line]*u.um), color='b', label='Fitted continuum')\n",
    "\n",
    "plt.legend(loc=0)\n",
    "plt.xlim(1.2, 1.8)"
   ]
  },
  {
   "cell_type": "code",
   "execution_count": 17,
   "metadata": {
    "execution": {
     "iopub.execute_input": "2023-09-20T19:05:54.826113Z",
     "iopub.status.busy": "2023-09-20T19:05:54.825526Z",
     "iopub.status.idle": "2023-09-20T19:05:55.208261Z",
     "shell.execute_reply": "2023-09-20T19:05:55.207741Z"
    }
   },
   "outputs": [
    {
     "data": {
      "text/plain": [
       "<matplotlib.image.AxesImage at 0x7f5bf7ded2d0>"
      ]
     },
     "execution_count": 17,
     "metadata": {},
     "output_type": "execute_result"
    },
    {
     "data": {
      "image/png": "[encoded data removed]",
      "text/plain": [
       "<Figure size 512x384 with 1 Axes>"
      ]
     },
     "metadata": {},
     "output_type": "display_data"
    }
   ],
   "source": [
    "# Repeat this along y-axis;\n",
    "flux_cont2d_150 = data_2d[:,:] * 0\n",
    "for yy in range(len(data_2d[:,0])):\n",
    "\n",
    "    mask_line = ((wave_2d[yy,:] > 1.35) & (wave_2d[yy,:] < 1.48)) | ((wave_2d[yy,:] > 1.6) & (wave_2d[yy,:] < 1.65))\n",
    "\n",
    "    obs = Spectrum1D(spectral_axis=wave_2d[yy,:][mask_line]*u.um, flux=data_2d[yy,:][mask_line]*spec_unit)\n",
    "    cont = continuum.fit_generic_continuum(obs, model=Chebyshev1D(7))\n",
    "\n",
    "    flux_cont2d_150[yy,:] = cont(wave_2d[yy,:]*u.um).value\n",
    "\n",
    "plt.imshow(flux_cont2d_150[:, ::-1])"
   ]
  },
  {
   "cell_type": "code",
   "execution_count": 18,
   "metadata": {
    "execution": {
     "iopub.execute_input": "2023-09-20T19:05:55.210947Z",
     "iopub.status.busy": "2023-09-20T19:05:55.210564Z",
     "iopub.status.idle": "2023-09-20T19:05:55.311449Z",
     "shell.execute_reply": "2023-09-20T19:05:55.310920Z"
    }
   },
   "outputs": [
    {
     "data": {
      "text/plain": [
       "<matplotlib.image.AxesImage at 0x7f5bf37ad2d0>"
      ]
     },
     "execution_count": 18,
     "metadata": {},
     "output_type": "execute_result"
    },
    {
     "data": {
      "image/png": "[encoded data removed]",
      "text/plain": [
       "<Figure size 512x384 with 1 Axes>"
      ]
     },
     "metadata": {},
     "output_type": "display_data"
    }
   ],
   "source": [
    "line_2d = data_2d[:,:] - flux_cont2d_150[:,:]\n",
    "\n",
    "plt.imshow(line_2d[:, ::-1])"
   ]
  },
  {
   "cell_type": "markdown",
   "metadata": {},
   "source": [
    "#### 2b. Fit emissionn, with multi-conponent gaussian;"
   ]
  },
  {
   "cell_type": "code",
   "execution_count": 19,
   "metadata": {
    "execution": {
     "iopub.execute_input": "2023-09-20T19:05:55.314192Z",
     "iopub.status.busy": "2023-09-20T19:05:55.313765Z",
     "iopub.status.idle": "2023-09-20T19:05:55.373799Z",
     "shell.execute_reply": "2023-09-20T19:05:55.373311Z"
    }
   },
   "outputs": [
    {
     "name": "stdout",
     "output_type": "stream",
     "text": [
      "Model: CompoundModel\n",
      "Inputs: ('x',)\n",
      "Outputs: ('y',)\n",
      "Model set size: 1\n",
      "Expression: [0] + [1] + [2]\n",
      "Components: \n",
      "    [0]: <Gaussian1D(amplitude=105.67672529 , mean=1.50774443 um, stddev=0.00935698 um)>\n",
      "\n",
      "    [1]: <Gaussian1D(amplitude=82.09499951 , mean=1.53395958 um, stddev=0.0064488 um)>\n",
      "\n",
      "    [2]: <Gaussian1D(amplitude=186.44732716 , mean=1.54938177 um, stddev=0.0110966 um)>\n",
      "Parameters:\n",
      "       amplitude_0           mean_0       ...       stddev_2      \n",
      "                               um         ...          um         \n",
      "    ------------------ ------------------ ... --------------------\n",
      "    105.67672528736512 1.5077444323784523 ... 0.011096600264679632\n"
     ]
    },
    {
     "name": "stderr",
     "output_type": "stream",
     "text": [
      "WARNING: The fit may be unsuccessful; check fit_info['message'] for more information. [astropy.modeling.fitting]\n"
     ]
    }
   ],
   "source": [
    "yy = 10\n",
    "\n",
    "# Fit the spectrum\n",
    "con = (1.4 < wave_2d[yy,:]) & (wave_2d[yy,:] < 1.65)\n",
    "\n",
    "spectrum_cut = Spectrum1D(flux=line_2d[yy,:][con]*spec_unit,\n",
    "                          spectral_axis=wave_2d[yy,:][con]*u.um)\n",
    "\n",
    "# !!! Some tweaks may be needed for initial value, to successfuully run the fit;\n",
    "\n",
    "# For Hb\n",
    "g1_init = models.Gaussian1D(amplitude=40*spec_unit, mean=1.5*u.um, stddev=0.005*u.um)\n",
    "\n",
    "# For O3 blue\n",
    "g2_init = models.Gaussian1D(amplitude=50.*spec_unit, mean=1.535*u.um, stddev=0.002*u.um)\n",
    "\n",
    "# For O3 red\n",
    "g3_init = models.Gaussian1D(amplitude=45.*spec_unit, mean=1.55*u.um, stddev=0.001*u.um)\n",
    "\n",
    "g123_fit = fit_lines(spectrum_cut, g1_init+g2_init+g3_init, window=[0.01*u.um,0.001*u.um,0.001*u.um])\n",
    "y_fit = g123_fit(wave_2d[yy,:]*u.um)\n",
    "\n",
    "print(g123_fit)"
   ]
  },
  {
   "cell_type": "code",
   "execution_count": 20,
   "metadata": {
    "execution": {
     "iopub.execute_input": "2023-09-20T19:05:55.376525Z",
     "iopub.status.busy": "2023-09-20T19:05:55.376158Z",
     "iopub.status.idle": "2023-09-20T19:05:55.578383Z",
     "shell.execute_reply": "2023-09-20T19:05:55.577834Z"
    }
   },
   "outputs": [
    {
     "data": {
      "text/plain": [
       "<matplotlib.legend.Legend at 0x7f5bf3999410>"
      ]
     },
     "execution_count": 20,
     "metadata": {},
     "output_type": "execute_result"
    },
    {
     "data": {
      "image/png": "[encoded data removed]",
      "text/plain": [
       "<Figure size 512x384 with 1 Axes>"
      ]
     },
     "metadata": {},
     "output_type": "display_data"
    }
   ],
   "source": [
    "# Plot separately?\n",
    "plt.plot(wave_2d[yy,:], line_2d[yy,:], marker='.', ls='', color='r', label='Observed at y=%d'%(yy))\n",
    "plt.plot(wave_2d[yy,:], y_fit, color='b', label='Fit', zorder=-2, alpha=0.4, lw=5)\n",
    "\n",
    "y_fit1 = g123_fit[0](wave_2d[yy,:]*u.um)\n",
    "plt.plot(wave_2d[yy,:], y_fit1, color='g', label='1')\n",
    "\n",
    "y_fit1 = g123_fit[1](wave_2d[yy,:]*u.um)\n",
    "plt.plot(wave_2d[yy,:], y_fit1, color='orange', label='2')\n",
    "\n",
    "y_fit1 = g123_fit[2](wave_2d[yy,:]*u.um)\n",
    "plt.plot(wave_2d[yy,:], y_fit1, color='purple', label='3')\n",
    "\n",
    "plt.xlim(1.4, 1.6)\n",
    "\n",
    "plt.title('Single fit peak')\n",
    "plt.grid(True)\n",
    "plt.legend(loc=2)"
   ]
  },
  {
   "cell_type": "code",
   "execution_count": 21,
   "metadata": {
    "execution": {
     "iopub.execute_input": "2023-09-20T19:05:55.581366Z",
     "iopub.status.busy": "2023-09-20T19:05:55.580949Z",
     "iopub.status.idle": "2023-09-20T19:05:55.586507Z",
     "shell.execute_reply": "2023-09-20T19:05:55.586045Z"
    }
   },
   "outputs": [
    {
     "name": "stdout",
     "output_type": "stream",
     "text": [
      "Model: Gaussian1D\n",
      "Inputs: ('x',)\n",
      "Outputs: ('y',)\n",
      "Model set size: 1\n",
      "Parameters:\n",
      "        amplitude             mean               stddev       \n",
      "                               um                  um         \n",
      "    ------------------ ------------------ --------------------\n",
      "    105.67672528736512 1.5077444323784523 0.009356977079029261\n",
      "Model: Gaussian1D\n",
      "Inputs: ('x',)\n",
      "Outputs: ('y',)\n",
      "Model set size: 1\n",
      "Parameters:\n",
      "        amplitude            mean               stddev       \n",
      "                              um                  um         \n",
      "    ----------------- ------------------ --------------------\n",
      "    82.09499950808333 1.5339595832025317 0.006448802572610104\n",
      "Model: Gaussian1D\n",
      "Inputs: ('x',)\n",
      "Outputs: ('y',)\n",
      "Model set size: 1\n",
      "Parameters:\n",
      "        amplitude             mean               stddev       \n",
      "                               um                  um         \n",
      "    ------------------ ------------------ --------------------\n",
      "    186.44732716000823 1.5493817718594916 0.011096600264679632\n"
     ]
    }
   ],
   "source": [
    "print(g123_fit[0])\n",
    "print(g123_fit[1])\n",
    "print(g123_fit[2])"
   ]
  },
  {
   "cell_type": "markdown",
   "metadata": {},
   "source": [
    "### Fit to the central array looks good. Repeat this along y-axis and get emission line maps, as a same way as for Halpha"
   ]
  },
  {
   "cell_type": "code",
   "execution_count": 22,
   "metadata": {
    "execution": {
     "iopub.execute_input": "2023-09-20T19:05:55.589102Z",
     "iopub.status.busy": "2023-09-20T19:05:55.588748Z",
     "iopub.status.idle": "2023-09-20T19:05:56.289169Z",
     "shell.execute_reply": "2023-09-20T19:05:56.288504Z"
    }
   },
   "outputs": [
    {
     "name": "stderr",
     "output_type": "stream",
     "text": [
      "WARNING: The fit may be unsuccessful; check fit_info['message'] for more information. [astropy.modeling.fitting]\n"
     ]
    }
   ],
   "source": [
    "# Cutout Hb, Oiii line maps;\n",
    "rsq = data_2d.shape[0]\n",
    "cut_hb  = np.zeros((rsq, rsq), 'float32')\n",
    "cut_o3b = np.zeros((rsq, rsq), 'float32')\n",
    "cut_o3r = np.zeros((rsq, rsq), 'float32')\n",
    "\n",
    "zin = 2.1 # Redshift estimate from Notebook No.2, cross-correlation;\n",
    "lamcen_hb  = 0.4862680 * (1. + zin)\n",
    "lamcen_o3b = 0.4960295 * (1. + zin)\n",
    "lamcen_o3r = 0.5008240 * (1. + zin)\n",
    "\n",
    "for yy in range(len(data_2d[:,0])):\n",
    "    # Fit the spectrum\n",
    "    con = (1.4 < wave_2d[yy,:]) & (wave_2d[yy,:] < 1.65)\n",
    "    spectrum_cut = Spectrum1D(flux=line_2d[yy,:][con]*spec_unit, \n",
    "                              spectral_axis=wave_2d[yy,:][con]*u.um)\n",
    "\n",
    "    # !!! Some tweaks may be needed for initial value, to successfuully run the fit;\n",
    "\n",
    "    # For Hb\n",
    "    g1_init = models.Gaussian1D(amplitude=40*spec_unit, mean=1.5*u.um, stddev=0.005*u.um)\n",
    "    # For O3 blue\n",
    "    g2_init = models.Gaussian1D(amplitude=50.*spec_unit, mean=1.535*u.um, stddev=0.002*u.um)\n",
    "    # For O3 red\n",
    "    g3_init = models.Gaussian1D(amplitude=45.*spec_unit, mean=1.55*u.um, stddev=0.001*u.um)\n",
    "    g123_fit = fit_lines(spectrum_cut, g1_init+g2_init+g3_init, window=[0.01*u.um, 0.001*u.um, 0.001*u.um])\n",
    "    y_fit = g123_fit(wave_2d[yy,:]*u.um)\n",
    "\n",
    "    # This has to be done at each y pixel, as wavelength array can be tilted.\n",
    "    index_lamcen_hb = np.argmin(np.abs(lamcen_hb - wave_2d[yy,:]))\n",
    "    cut_hb[yy,:] = g123_fit[0](wave_2d[yy,:]*u.um)[int(index_lamcen_hb-rsq/2.) : int(index_lamcen_hb+rsq/2.)]\n",
    "\n",
    "    index_lamcen_o3b = np.argmin(np.abs(lamcen_o3b - wave_2d[yy,:]))\n",
    "    cut_o3b[yy,:] = g123_fit[1](wave_2d[yy,:]*u.um)[int(index_lamcen_o3b-rsq/2.) : int(index_lamcen_o3b+rsq/2.)]\n",
    "\n",
    "    index_lamcen_o3r = np.argmin(np.abs(lamcen_o3r - wave_2d[yy,:]))\n",
    "    cut_o3r[yy,:] = g123_fit[2](wave_2d[yy,:]*u.um)[int(index_lamcen_o3r-rsq/2.) : int(index_lamcen_o3r+rsq/2.)]\n",
    "    "
   ]
  },
  {
   "cell_type": "code",
   "execution_count": 23,
   "metadata": {
    "execution": {
     "iopub.execute_input": "2023-09-20T19:05:56.292497Z",
     "iopub.status.busy": "2023-09-20T19:05:56.292070Z",
     "iopub.status.idle": "2023-09-20T19:05:56.456648Z",
     "shell.execute_reply": "2023-09-20T19:05:56.456032Z"
    }
   },
   "outputs": [
    {
     "data": {
      "text/plain": [
       "Text(0.5, 1.0, 'H$\\\\beta$ map')"
      ]
     },
     "execution_count": 23,
     "metadata": {},
     "output_type": "execute_result"
    },
    {
     "data": {
      "image/png": "[encoded data removed]",
      "text/plain": [
       "<Figure size 512x384 with 1 Axes>"
      ]
     },
     "metadata": {},
     "output_type": "display_data"
    }
   ],
   "source": [
    "plt.imshow(cut_hb)\n",
    "plt.title('H$\\\\beta$ map')"
   ]
  },
  {
   "cell_type": "code",
   "execution_count": 24,
   "metadata": {
    "execution": {
     "iopub.execute_input": "2023-09-20T19:05:56.459400Z",
     "iopub.status.busy": "2023-09-20T19:05:56.459170Z",
     "iopub.status.idle": "2023-09-20T19:05:56.615369Z",
     "shell.execute_reply": "2023-09-20T19:05:56.614745Z"
    }
   },
   "outputs": [
    {
     "data": {
      "text/plain": [
       "Text(0.5, 1.0, 'Oiii 4960')"
      ]
     },
     "execution_count": 24,
     "metadata": {},
     "output_type": "execute_result"
    },
    {
     "data": {
      "image/png": "[encoded data removed]",
      "text/plain": [
       "<Figure size 512x384 with 1 Axes>"
      ]
     },
     "metadata": {},
     "output_type": "display_data"
    }
   ],
   "source": [
    "plt.imshow(cut_o3b)\n",
    "plt.title('Oiii 4960')"
   ]
  },
  {
   "cell_type": "code",
   "execution_count": 25,
   "metadata": {
    "execution": {
     "iopub.execute_input": "2023-09-20T19:05:56.618361Z",
     "iopub.status.busy": "2023-09-20T19:05:56.617975Z",
     "iopub.status.idle": "2023-09-20T19:05:56.773973Z",
     "shell.execute_reply": "2023-09-20T19:05:56.773310Z"
    }
   },
   "outputs": [
    {
     "data": {
      "text/plain": [
       "Text(0.5, 1.0, 'Oiii 5008')"
      ]
     },
     "execution_count": 25,
     "metadata": {},
     "output_type": "execute_result"
    },
    {
     "data": {
      "image/png": "[encoded data removed]",
      "text/plain": [
       "<Figure size 512x384 with 1 Axes>"
      ]
     },
     "metadata": {},
     "output_type": "display_data"
    }
   ],
   "source": [
    "plt.imshow(cut_o3r)\n",
    "plt.title('Oiii 5008')"
   ]
  },
  {
   "cell_type": "markdown",
   "metadata": {},
   "source": [
    "## Summary;\n",
    "As seen above, regions except for the very center <font color='red'>do not look right.</font> This is due to failure of multi-component fit, especially for Oiii doublet.\n",
    "To improve the fit, one can either;\n",
    "- fit and inspect the fit repeatedly at each y-axis until it converges,\n",
    "- use MCMC for more intensive fitting, which also enables to fix the ratio of two Oiii lines by setting up a prior.\n",
    "- or reduce the number of components, especially for Oiii doublet at the edge of the source position, where the lines are blended."
   ]
  }
 ],
 "metadata": {
  "kernelspec": {
   "display_name": "Python 3 (ipykernel)",
   "language": "python",
   "name": "python3"
  },
  "language_info": {
   "codemirror_mode": {
    "name": "ipython",
    "version": 3
   },
   "file_extension": ".py",
   "mimetype": "text/x-python",
   "name": "python",
   "nbconvert_exporter": "python",
   "pygments_lexer": "ipython3",
   "version": "3.11.5"
  }
 },
 "nbformat": 4,
 "nbformat_minor": 4
}
